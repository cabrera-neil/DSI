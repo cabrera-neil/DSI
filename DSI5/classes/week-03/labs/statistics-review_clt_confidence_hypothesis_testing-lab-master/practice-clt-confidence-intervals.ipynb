{
 "cells": [
  {
   "cell_type": "markdown",
   "metadata": {},
   "source": [
    "<img src=\"http://imgur.com/1ZcRyrc.png\" style=\"float: left; margin: 20px; height: 55px\">\n",
    "\n",
    "# Review: CLT, Confidence Intervals, and Hypothesis Testing\n",
    "\n",
    "_Authors: Matt Brems (DC)_\n",
    "\n",
    "---"
   ]
  },
  {
   "cell_type": "markdown",
   "metadata": {},
   "source": [
    "## Take some time to read about the relationship between hypothesis testing and confidence intervals\n",
    "\n",
    "https://en.wikipedia.org/wiki/Confidence_interval#Relationship_with_other_statistical_topics"
   ]
  },
  {
   "cell_type": "markdown",
   "metadata": {},
   "source": [
    "### First, read in the housing data (code provided).\n",
    "\n",
    "You can find the original data [here](https://archive.ics.uci.edu/ml/machine-learning-databases/housing/housing.data)."
   ]
  },
  {
   "cell_type": "code",
   "execution_count": 1,
   "metadata": {},
   "outputs": [],
   "source": [
    "import urllib\n",
    "\n",
    "names = [\"CRIM\", \"ZN\", \"INDUS\", \"CHAS\", \"NOX\", \"RM\", \"AGE\", \"DIS\", \"RAD\", \"TAX\", \"PTRATIO\", \"B\", \"LSTAT\", \"MEDV\"]\n",
    "\n",
    "import pandas as pd\n",
    "data = pd.read_csv(\"./datasets/housing.data\", header=None, names=names, delim_whitespace=True)\n",
    "\n",
    "NOX = data['NOX'].values\n",
    "AGE = data['AGE'].values"
   ]
  },
  {
   "cell_type": "markdown",
   "metadata": {},
   "source": [
    "### 1. Find the mean, standard deviation, and standard error of the mean for the `AGE` variable."
   ]
  },
  {
   "cell_type": "code",
   "execution_count": null,
   "metadata": {},
   "outputs": [],
   "source": [
    "import numpy as np"
   ]
  },
  {
   "cell_type": "code",
   "execution_count": null,
   "metadata": {},
   "outputs": [],
   "source": [
    "# A:"
   ]
  },
  {
   "cell_type": "markdown",
   "metadata": {},
   "source": [
    "### 2. Generate a 90%, 95%, and 99% confidence interval for `AGE`.\n",
    "\n",
    "You can use the `.scipy.stats.t.interval()` function to calculate the confidence interval range.\n",
    "\n",
    "```python\n",
    "# End points of the range that contains `alpha` percent of the distribution:\n",
    "stats.t.interval(alpha, df, loc=0, scale=1)\t\n",
    "```\n",
    "\n",
    "Arguments:\n",
    "- `df`: The degrees of freedom; will be the length of the vector -1.\n",
    "- `loc`: The mean of the t-distribution (Your point estimate — the mean of the variable).\n",
    "- `scale`: The standard deviation of the t-distribution (i.e., the standard error of your sample mean).\n",
    "\n",
    "**Interpret the results from all three confidence intervals.**"
   ]
  },
  {
   "cell_type": "code",
   "execution_count": null,
   "metadata": {},
   "outputs": [],
   "source": [
    "from scipy.stats import t"
   ]
  },
  {
   "cell_type": "code",
   "execution_count": null,
   "metadata": {},
   "outputs": [],
   "source": [
    "# A:"
   ]
  },
  {
   "cell_type": "markdown",
   "metadata": {},
   "source": [
    "### 3. Did you rely on the central limit theorem in Question 2? Why or why not? Explain."
   ]
  },
  {
   "cell_type": "code",
   "execution_count": null,
   "metadata": {},
   "outputs": [],
   "source": [
    "import matplotlib.pyplot as plt\n",
    "%matplotlib inline\n",
    "\n",
    "# A:"
   ]
  },
  {
   "cell_type": "markdown",
   "metadata": {},
   "source": [
    "### 4. For the `NOX` variable, generate a 95% confidence interval and interpret it."
   ]
  },
  {
   "cell_type": "code",
   "execution_count": null,
   "metadata": {},
   "outputs": [],
   "source": [
    "# A:"
   ]
  },
  {
   "cell_type": "markdown",
   "metadata": {},
   "source": [
    "### 5. For the `NOX` variable, test the hypothesis that the mean is equal to the median. \n",
    "\n",
    "You can use `scipy` functions to complete this, but be sure complete all steps listed below.\n",
    "\n",
    "1. Define the hypotheses.\n",
    "2. Set `alpha` to equal 0.05.\n",
    "3. Calculate the point estimate.\n",
    "4. Calculate the test statistic.\n",
    "5. Find the p-value.\n",
    "6. Interpret the results."
   ]
  },
  {
   "cell_type": "code",
   "execution_count": null,
   "metadata": {},
   "outputs": [],
   "source": [
    "# A:"
   ]
  },
  {
   "cell_type": "markdown",
   "metadata": {},
   "source": [
    "### 6. What do you notice about the results from Questions 4 and 5? \n",
    "\n",
    "**If you were going to generalize these observations to the relationship between hypothesis tests and confidence intervals, what might you say? Be specific.**"
   ]
  },
  {
   "cell_type": "code",
   "execution_count": null,
   "metadata": {
    "collapsed": true
   },
   "outputs": [],
   "source": [
    "# A:"
   ]
  },
  {
   "cell_type": "markdown",
   "metadata": {},
   "source": [
    "### 7. For the `NOX` variable, test the hypothesis that the mean is greater than or equal to the median. \n",
    "\n",
    "You can use `scipy` functions to complete this, but be sure complete all steps listed below.\n",
    "\n",
    "1. Define the hypotheses.\n",
    "2. Set `alpha` to equal 0.05.\n",
    "3. Calculate the point estimate.\n",
    "4. Calculate the test statistic.\n",
    "5. Find the p-value.\n",
    "6. Interpret the results."
   ]
  },
  {
   "cell_type": "code",
   "execution_count": null,
   "metadata": {},
   "outputs": [],
   "source": [
    "# A:"
   ]
  },
  {
   "cell_type": "markdown",
   "metadata": {},
   "source": [
    "### 8. Compare the p-values from Questions 5 and 7. What do you notice?"
   ]
  },
  {
   "cell_type": "code",
   "execution_count": null,
   "metadata": {
    "collapsed": true
   },
   "outputs": [],
   "source": [
    "# A:"
   ]
  }
 ],
 "metadata": {
  "anaconda-cloud": {},
  "kernelspec": {
   "display_name": "Python 2",
   "language": "python",
   "name": "python2"
  },
  "language_info": {
   "codemirror_mode": {
    "name": "ipython",
    "version": 2
   },
   "file_extension": ".py",
   "mimetype": "text/x-python",
   "name": "python",
   "nbconvert_exporter": "python",
   "pygments_lexer": "ipython2",
   "version": "2.7.14"
  }
 },
 "nbformat": 4,
 "nbformat_minor": 1
}
