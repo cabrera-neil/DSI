{
 "cells": [
  {
   "cell_type": "markdown",
   "metadata": {},
   "source": [
    "<img src=\"http://imgur.com/1ZcRyrc.png\" style=\"float: left; margin: 20px; height: 55px\">\n",
    "\n",
    "# Practice MLR Using the Sacramento Real Estate Data\n",
    "\n",
    "_Authors: Matt Brems (DC),Marc Harper (LA), Sam Stack (DC)_\n",
    "\n",
    "---\n",
    "\n",
    "We return to the Sacramento real estate data, but this time around we will be constructing multiple linear regression models. \n",
    "\n",
    "You will review the assumptions of multiple linear regression and practice building a model using the statsmodels package."
   ]
  },
  {
   "cell_type": "markdown",
   "metadata": {},
   "source": [
    "### 1. Load the data. "
   ]
  },
  {
   "cell_type": "code",
   "execution_count": 1,
   "metadata": {},
   "outputs": [],
   "source": [
    "import pandas as pd\n",
    "\n",
    "shd_csv = '../datasets/sacramento_real_estate_transactions_Clean.csv'\n",
    "shd = pd.read_csv(shd_csv)\n",
    "shd.drop('Unnamed: 0', axis=1, inplace=True)"
   ]
  },
  {
   "cell_type": "code",
   "execution_count": 2,
   "metadata": {},
   "outputs": [
    {
     "data": {
      "text/html": [
       "<div>\n",
       "<style scoped>\n",
       "    .dataframe tbody tr th:only-of-type {\n",
       "        vertical-align: middle;\n",
       "    }\n",
       "\n",
       "    .dataframe tbody tr th {\n",
       "        vertical-align: top;\n",
       "    }\n",
       "\n",
       "    .dataframe thead th {\n",
       "        text-align: right;\n",
       "    }\n",
       "</style>\n",
       "<table border=\"1\" class=\"dataframe\">\n",
       "  <thead>\n",
       "    <tr style=\"text-align: right;\">\n",
       "      <th></th>\n",
       "      <th>street</th>\n",
       "      <th>city</th>\n",
       "      <th>zip</th>\n",
       "      <th>state</th>\n",
       "      <th>beds</th>\n",
       "      <th>baths</th>\n",
       "      <th>sq__ft</th>\n",
       "      <th>type</th>\n",
       "      <th>sale_date</th>\n",
       "      <th>price</th>\n",
       "      <th>latitude</th>\n",
       "      <th>longitude</th>\n",
       "    </tr>\n",
       "  </thead>\n",
       "  <tbody>\n",
       "    <tr>\n",
       "      <th>0</th>\n",
       "      <td>3526 HIGH ST</td>\n",
       "      <td>SACRAMENTO</td>\n",
       "      <td>95838</td>\n",
       "      <td>CA</td>\n",
       "      <td>2</td>\n",
       "      <td>1</td>\n",
       "      <td>836</td>\n",
       "      <td>Residential</td>\n",
       "      <td>Wed May 21 00:00:00 EDT 2008</td>\n",
       "      <td>59222</td>\n",
       "      <td>38.631913</td>\n",
       "      <td>-121.434879</td>\n",
       "    </tr>\n",
       "    <tr>\n",
       "      <th>1</th>\n",
       "      <td>51 OMAHA CT</td>\n",
       "      <td>SACRAMENTO</td>\n",
       "      <td>95823</td>\n",
       "      <td>CA</td>\n",
       "      <td>3</td>\n",
       "      <td>1</td>\n",
       "      <td>1167</td>\n",
       "      <td>Residential</td>\n",
       "      <td>Wed May 21 00:00:00 EDT 2008</td>\n",
       "      <td>68212</td>\n",
       "      <td>38.478902</td>\n",
       "      <td>-121.431028</td>\n",
       "    </tr>\n",
       "  </tbody>\n",
       "</table>\n",
       "</div>"
      ],
      "text/plain": [
       "         street        city    zip state  beds  baths  sq__ft         type  \\\n",
       "0  3526 HIGH ST  SACRAMENTO  95838    CA     2      1     836  Residential   \n",
       "1   51 OMAHA CT  SACRAMENTO  95823    CA     3      1    1167  Residential   \n",
       "\n",
       "                      sale_date  price   latitude   longitude  \n",
       "0  Wed May 21 00:00:00 EDT 2008  59222  38.631913 -121.434879  \n",
       "1  Wed May 21 00:00:00 EDT 2008  68212  38.478902 -121.431028  "
      ]
     },
     "execution_count": 2,
     "metadata": {},
     "output_type": "execute_result"
    }
   ],
   "source": [
    "shd.head(2)"
   ]
  },
  {
   "cell_type": "markdown",
   "metadata": {},
   "source": [
    "## Dummy Variables\n",
    "\n",
    "---\n",
    "\n",
    "It is important to be cautious with categorical variables, which represent distict groups or categories, when building a regression. If put in a regression \"as-is,\" categorical variables represented as integers will be treated like *continuous* variables.\n",
    "\n",
    "That is to say, instead of group \"3\" having a different effect on the estimation than group \"1\" it will estimate literally 3 times more than group 1. \n",
    "\n",
    "For example, if occupation category \"1\" represents \"analyst\" and occupation category \"3\" represents \"barista\", and our target variable is salary, if we leave this as a column of integers then barista will always have `beta*3` the effect of analyst.\n",
    "\n",
    "This will almost certainly force the beta coefficient to be something strange and incorrect. Instead, we can re-represent the categories as multiple \"dummy coded\" columns.\n",
    "\n",
    "### 2. Use the `pd.get_dummies` function to convert the `type` column into dummy-coded variables.\n",
    "\n",
    "Print out the header of the dummy-coded variable output."
   ]
  },
  {
   "cell_type": "code",
   "execution_count": 3,
   "metadata": {},
   "outputs": [
    {
     "data": {
      "text/plain": [
       "array(['Residential', 'Condo', 'Multi-Family', 'Unkown'], dtype=object)"
      ]
     },
     "execution_count": 3,
     "metadata": {},
     "output_type": "execute_result"
    }
   ],
   "source": [
    "shd['type'].unique()"
   ]
  },
  {
   "cell_type": "code",
   "execution_count": 4,
   "metadata": {},
   "outputs": [
    {
     "data": {
      "text/html": [
       "<div>\n",
       "<style scoped>\n",
       "    .dataframe tbody tr th:only-of-type {\n",
       "        vertical-align: middle;\n",
       "    }\n",
       "\n",
       "    .dataframe tbody tr th {\n",
       "        vertical-align: top;\n",
       "    }\n",
       "\n",
       "    .dataframe thead th {\n",
       "        text-align: right;\n",
       "    }\n",
       "</style>\n",
       "<table border=\"1\" class=\"dataframe\">\n",
       "  <thead>\n",
       "    <tr style=\"text-align: right;\">\n",
       "      <th></th>\n",
       "      <th>Condo</th>\n",
       "      <th>Multi-Family</th>\n",
       "      <th>Residential</th>\n",
       "      <th>Unkown</th>\n",
       "    </tr>\n",
       "  </thead>\n",
       "  <tbody>\n",
       "    <tr>\n",
       "      <th>0</th>\n",
       "      <td>0</td>\n",
       "      <td>0</td>\n",
       "      <td>1</td>\n",
       "      <td>0</td>\n",
       "    </tr>\n",
       "    <tr>\n",
       "      <th>1</th>\n",
       "      <td>0</td>\n",
       "      <td>0</td>\n",
       "      <td>1</td>\n",
       "      <td>0</td>\n",
       "    </tr>\n",
       "    <tr>\n",
       "      <th>2</th>\n",
       "      <td>0</td>\n",
       "      <td>0</td>\n",
       "      <td>1</td>\n",
       "      <td>0</td>\n",
       "    </tr>\n",
       "    <tr>\n",
       "      <th>3</th>\n",
       "      <td>0</td>\n",
       "      <td>0</td>\n",
       "      <td>1</td>\n",
       "      <td>0</td>\n",
       "    </tr>\n",
       "    <tr>\n",
       "      <th>4</th>\n",
       "      <td>0</td>\n",
       "      <td>0</td>\n",
       "      <td>1</td>\n",
       "      <td>0</td>\n",
       "    </tr>\n",
       "  </tbody>\n",
       "</table>\n",
       "</div>"
      ],
      "text/plain": [
       "   Condo  Multi-Family  Residential  Unkown\n",
       "0      0             0            1       0\n",
       "1      0             0            1       0\n",
       "2      0             0            1       0\n",
       "3      0             0            1       0\n",
       "4      0             0            1       0"
      ]
     },
     "execution_count": 4,
     "metadata": {},
     "output_type": "execute_result"
    }
   ],
   "source": [
    "type_dummy = pd.get_dummies(shd['type'])\n",
    "type_dummy.head()"
   ]
  },
  {
   "cell_type": "markdown",
   "metadata": {},
   "source": [
    "---\n",
    "\n",
    "### A Word of Caution When Creating Dummies\n",
    "\n",
    "Let's touch on precautions we should take when dummy coding.\n",
    "\n",
    "**If you convert a qualitative variable to dummy variables, you want to turn a variable with N categories into N-1 variables.**\n",
    "\n",
    "> **Scenario 1:** Suppose we're working with the variable \"sex\" or \"gender\" with values \"M\" and \"F\". \n",
    "\n",
    "You should include in your model only one variable for \"sex = F\" which takes on 1 if sex is female and 0 if sex is not female! Rather than saying \"a one unit change in X,\" the coefficient associated with \"sex = F\" is interpreted as the average change in Y when sex = F relative to when sex = M.\n",
    "\n",
    "| Female | Male | \n",
    "|-------|------|\n",
    "| 0 | 1 | \n",
    "| 1 | 0 |\n",
    "| 0 | 1 |\n",
    "| 1 | 0 |\n",
    "| 1 | 0 |\n",
    "_As we can see a 1 in the female column indicates a 0 in the male column. And so, we have two columns stating the same information in different ways._\n",
    "\n",
    "> Scenario 2: Suppose we're modeling revenue at a bar for each of the days of the week. We have a column with strings identifying which day of the week this observation occured in.\n",
    "\n",
    "We might include six of the days as their own variables: \"Monday\", \"Tuesday\", \"Wednesday\", \"Thursday\", \"Friday\", \"Saturday\". **But not all 7 days.**  \n",
    "\n",
    "|Monday | Tuesday | Wednesday | Thursday | Friday | Saturday | \n",
    "|-------|---------|-----------|----------|--------|----------|\n",
    "| 1     | 0       |0          |      0   |0       | 0        | \n",
    "| 0     | 1       |0          |      0   |0       | 0        | \n",
    "| 0     | 0       |1          |      0   |0       | 0        | \n",
    "| 0     | 0       |0          |      1   |0       | 0        | \n",
    "| 0     | 0       |0          |      0   |1       | 0        | \n",
    "| 0     | 0       |0          |      0   |0       | 1        | \n",
    "| 0     | 0       |0          |      0   |0       | 0        | \n",
    "\n",
    "_As humans we can infer from the last row that if its is not Monday, Tusday, Wednesday, Thursday, Friday or Saturday than it must be Sunday. Models work the same way._\n",
    "\n",
    "The coefficient for Monday is then interpreted as the average change in revenue when \"day = Monday\" relative to \"day = Sunday.\" The coefficient for Tuesday is interpreted in the average change in revenue when \"day = Tuesday\" relative to \"day = Sunday\" and so on.\n",
    "\n",
    "The category you leave out, which the other columns are *relative to* is often referred to as the **reference category**."
   ]
  },
  {
   "cell_type": "markdown",
   "metadata": {},
   "source": [
    "### 3. Remove \"Unkown\" from four dummy coded variable dataframe and append the rest to the original data."
   ]
  },
  {
   "cell_type": "code",
   "execution_count": 5,
   "metadata": {},
   "outputs": [
    {
     "data": {
      "text/html": [
       "<div>\n",
       "<style scoped>\n",
       "    .dataframe tbody tr th:only-of-type {\n",
       "        vertical-align: middle;\n",
       "    }\n",
       "\n",
       "    .dataframe tbody tr th {\n",
       "        vertical-align: top;\n",
       "    }\n",
       "\n",
       "    .dataframe thead th {\n",
       "        text-align: right;\n",
       "    }\n",
       "</style>\n",
       "<table border=\"1\" class=\"dataframe\">\n",
       "  <thead>\n",
       "    <tr style=\"text-align: right;\">\n",
       "      <th></th>\n",
       "      <th>street</th>\n",
       "      <th>city</th>\n",
       "      <th>zip</th>\n",
       "      <th>state</th>\n",
       "      <th>beds</th>\n",
       "      <th>baths</th>\n",
       "      <th>sq__ft</th>\n",
       "      <th>type</th>\n",
       "      <th>sale_date</th>\n",
       "      <th>price</th>\n",
       "      <th>latitude</th>\n",
       "      <th>longitude</th>\n",
       "      <th>Condo</th>\n",
       "      <th>Multi-Family</th>\n",
       "      <th>Residential</th>\n",
       "    </tr>\n",
       "  </thead>\n",
       "  <tbody>\n",
       "    <tr>\n",
       "      <th>0</th>\n",
       "      <td>3526 HIGH ST</td>\n",
       "      <td>SACRAMENTO</td>\n",
       "      <td>95838</td>\n",
       "      <td>CA</td>\n",
       "      <td>2</td>\n",
       "      <td>1</td>\n",
       "      <td>836</td>\n",
       "      <td>Residential</td>\n",
       "      <td>Wed May 21 00:00:00 EDT 2008</td>\n",
       "      <td>59222</td>\n",
       "      <td>38.631913</td>\n",
       "      <td>-121.434879</td>\n",
       "      <td>0</td>\n",
       "      <td>0</td>\n",
       "      <td>1</td>\n",
       "    </tr>\n",
       "    <tr>\n",
       "      <th>1</th>\n",
       "      <td>51 OMAHA CT</td>\n",
       "      <td>SACRAMENTO</td>\n",
       "      <td>95823</td>\n",
       "      <td>CA</td>\n",
       "      <td>3</td>\n",
       "      <td>1</td>\n",
       "      <td>1167</td>\n",
       "      <td>Residential</td>\n",
       "      <td>Wed May 21 00:00:00 EDT 2008</td>\n",
       "      <td>68212</td>\n",
       "      <td>38.478902</td>\n",
       "      <td>-121.431028</td>\n",
       "      <td>0</td>\n",
       "      <td>0</td>\n",
       "      <td>1</td>\n",
       "    </tr>\n",
       "  </tbody>\n",
       "</table>\n",
       "</div>"
      ],
      "text/plain": [
       "         street        city    zip state  beds  baths  sq__ft         type  \\\n",
       "0  3526 HIGH ST  SACRAMENTO  95838    CA     2      1     836  Residential   \n",
       "1   51 OMAHA CT  SACRAMENTO  95823    CA     3      1    1167  Residential   \n",
       "\n",
       "                      sale_date  price   latitude   longitude  Condo  \\\n",
       "0  Wed May 21 00:00:00 EDT 2008  59222  38.631913 -121.434879      0   \n",
       "1  Wed May 21 00:00:00 EDT 2008  68212  38.478902 -121.431028      0   \n",
       "\n",
       "   Multi-Family  Residential  \n",
       "0             0            1  \n",
       "1             0            1  "
      ]
     },
     "execution_count": 5,
     "metadata": {},
     "output_type": "execute_result"
    }
   ],
   "source": [
    "type_dummy.drop('Unkown', axis=1, inplace=True)\n",
    "shd = pd.concat([shd, type_dummy], axis=1)\n",
    "shd.head(2)"
   ]
  },
  {
   "cell_type": "markdown",
   "metadata": {},
   "source": [
    "### 4. Build what you think may be the best MLR model predicting `price`. \n",
    "\n",
    "The independent variables are your choice, but *include at least three variables.* At least one of which should be a dummy-coded variable (either one we created before or a new one).\n",
    "\n",
    "To construct your model don't forget to load in the statsmodels api:\n",
    "\n",
    "```python\n",
    "import statsmodels.api as sm\n",
    "\n",
    "model = sm.OLS(y, X).fit()\n",
    "```"
   ]
  },
  {
   "cell_type": "markdown",
   "metadata": {},
   "source": [
    "_I'm going to engineer a new dummy variable for 'HUGE houses'.  Those whose square footage is 3 (positive) standard deviations away from the mean._\n",
    "```\n",
    "Mean = 1315\n",
    "STD = 853\n",
    "Huge Houses > 3775 sq ft\n",
    "```"
   ]
  },
  {
   "cell_type": "code",
   "execution_count": 6,
   "metadata": {},
   "outputs": [],
   "source": [
    "shd['Huge_homes'] = shd['sq__ft'].apply(lambda x: 1 if x>=3775 else 0)"
   ]
  },
  {
   "cell_type": "code",
   "execution_count": 7,
   "metadata": {},
   "outputs": [
    {
     "data": {
      "text/plain": [
       "0    974\n",
       "1     10\n",
       "Name: Huge_homes, dtype: int64"
      ]
     },
     "execution_count": 7,
     "metadata": {},
     "output_type": "execute_result"
    }
   ],
   "source": [
    "shd['Huge_homes'].value_counts()"
   ]
  },
  {
   "cell_type": "code",
   "execution_count": 8,
   "metadata": {},
   "outputs": [
    {
     "data": {
      "text/html": [
       "<div>\n",
       "<style scoped>\n",
       "    .dataframe tbody tr th:only-of-type {\n",
       "        vertical-align: middle;\n",
       "    }\n",
       "\n",
       "    .dataframe tbody tr th {\n",
       "        vertical-align: top;\n",
       "    }\n",
       "\n",
       "    .dataframe thead th {\n",
       "        text-align: right;\n",
       "    }\n",
       "</style>\n",
       "<table border=\"1\" class=\"dataframe\">\n",
       "  <thead>\n",
       "    <tr style=\"text-align: right;\">\n",
       "      <th></th>\n",
       "      <th>street</th>\n",
       "      <th>city</th>\n",
       "      <th>zip</th>\n",
       "      <th>state</th>\n",
       "      <th>beds</th>\n",
       "      <th>baths</th>\n",
       "      <th>sq__ft</th>\n",
       "      <th>type</th>\n",
       "      <th>sale_date</th>\n",
       "      <th>price</th>\n",
       "      <th>latitude</th>\n",
       "      <th>longitude</th>\n",
       "      <th>Condo</th>\n",
       "      <th>Multi-Family</th>\n",
       "      <th>Residential</th>\n",
       "      <th>Huge_homes</th>\n",
       "    </tr>\n",
       "  </thead>\n",
       "  <tbody>\n",
       "    <tr>\n",
       "      <th>0</th>\n",
       "      <td>3526 HIGH ST</td>\n",
       "      <td>SACRAMENTO</td>\n",
       "      <td>95838</td>\n",
       "      <td>CA</td>\n",
       "      <td>2</td>\n",
       "      <td>1</td>\n",
       "      <td>836</td>\n",
       "      <td>Residential</td>\n",
       "      <td>Wed May 21 00:00:00 EDT 2008</td>\n",
       "      <td>59222</td>\n",
       "      <td>38.631913</td>\n",
       "      <td>-121.434879</td>\n",
       "      <td>0</td>\n",
       "      <td>0</td>\n",
       "      <td>1</td>\n",
       "      <td>0</td>\n",
       "    </tr>\n",
       "    <tr>\n",
       "      <th>1</th>\n",
       "      <td>51 OMAHA CT</td>\n",
       "      <td>SACRAMENTO</td>\n",
       "      <td>95823</td>\n",
       "      <td>CA</td>\n",
       "      <td>3</td>\n",
       "      <td>1</td>\n",
       "      <td>1167</td>\n",
       "      <td>Residential</td>\n",
       "      <td>Wed May 21 00:00:00 EDT 2008</td>\n",
       "      <td>68212</td>\n",
       "      <td>38.478902</td>\n",
       "      <td>-121.431028</td>\n",
       "      <td>0</td>\n",
       "      <td>0</td>\n",
       "      <td>1</td>\n",
       "      <td>0</td>\n",
       "    </tr>\n",
       "    <tr>\n",
       "      <th>2</th>\n",
       "      <td>2796 BRANCH ST</td>\n",
       "      <td>SACRAMENTO</td>\n",
       "      <td>95815</td>\n",
       "      <td>CA</td>\n",
       "      <td>2</td>\n",
       "      <td>1</td>\n",
       "      <td>796</td>\n",
       "      <td>Residential</td>\n",
       "      <td>Wed May 21 00:00:00 EDT 2008</td>\n",
       "      <td>68880</td>\n",
       "      <td>38.618305</td>\n",
       "      <td>-121.443839</td>\n",
       "      <td>0</td>\n",
       "      <td>0</td>\n",
       "      <td>1</td>\n",
       "      <td>0</td>\n",
       "    </tr>\n",
       "    <tr>\n",
       "      <th>3</th>\n",
       "      <td>2805 JANETTE WAY</td>\n",
       "      <td>SACRAMENTO</td>\n",
       "      <td>95815</td>\n",
       "      <td>CA</td>\n",
       "      <td>2</td>\n",
       "      <td>1</td>\n",
       "      <td>852</td>\n",
       "      <td>Residential</td>\n",
       "      <td>Wed May 21 00:00:00 EDT 2008</td>\n",
       "      <td>69307</td>\n",
       "      <td>38.616835</td>\n",
       "      <td>-121.439146</td>\n",
       "      <td>0</td>\n",
       "      <td>0</td>\n",
       "      <td>1</td>\n",
       "      <td>0</td>\n",
       "    </tr>\n",
       "    <tr>\n",
       "      <th>4</th>\n",
       "      <td>6001 MCMAHON DR</td>\n",
       "      <td>SACRAMENTO</td>\n",
       "      <td>95824</td>\n",
       "      <td>CA</td>\n",
       "      <td>2</td>\n",
       "      <td>1</td>\n",
       "      <td>797</td>\n",
       "      <td>Residential</td>\n",
       "      <td>Wed May 21 00:00:00 EDT 2008</td>\n",
       "      <td>81900</td>\n",
       "      <td>38.519470</td>\n",
       "      <td>-121.435768</td>\n",
       "      <td>0</td>\n",
       "      <td>0</td>\n",
       "      <td>1</td>\n",
       "      <td>0</td>\n",
       "    </tr>\n",
       "  </tbody>\n",
       "</table>\n",
       "</div>"
      ],
      "text/plain": [
       "             street        city    zip state  beds  baths  sq__ft  \\\n",
       "0      3526 HIGH ST  SACRAMENTO  95838    CA     2      1     836   \n",
       "1       51 OMAHA CT  SACRAMENTO  95823    CA     3      1    1167   \n",
       "2    2796 BRANCH ST  SACRAMENTO  95815    CA     2      1     796   \n",
       "3  2805 JANETTE WAY  SACRAMENTO  95815    CA     2      1     852   \n",
       "4   6001 MCMAHON DR  SACRAMENTO  95824    CA     2      1     797   \n",
       "\n",
       "          type                     sale_date  price   latitude   longitude  \\\n",
       "0  Residential  Wed May 21 00:00:00 EDT 2008  59222  38.631913 -121.434879   \n",
       "1  Residential  Wed May 21 00:00:00 EDT 2008  68212  38.478902 -121.431028   \n",
       "2  Residential  Wed May 21 00:00:00 EDT 2008  68880  38.618305 -121.443839   \n",
       "3  Residential  Wed May 21 00:00:00 EDT 2008  69307  38.616835 -121.439146   \n",
       "4  Residential  Wed May 21 00:00:00 EDT 2008  81900  38.519470 -121.435768   \n",
       "\n",
       "   Condo  Multi-Family  Residential  Huge_homes  \n",
       "0      0             0            1           0  \n",
       "1      0             0            1           0  \n",
       "2      0             0            1           0  \n",
       "3      0             0            1           0  \n",
       "4      0             0            1           0  "
      ]
     },
     "execution_count": 8,
     "metadata": {},
     "output_type": "execute_result"
    }
   ],
   "source": [
    "shd.head()"
   ]
  },
  {
   "cell_type": "code",
   "execution_count": 9,
   "metadata": {},
   "outputs": [],
   "source": [
    "# Importing the stats model API\n",
    "import statsmodels.api as sm\n",
    "\n",
    "\n",
    "# Setting my X and y for modeling\n",
    "X = shd[['sq__ft','beds','baths','Huge_homes']]\n",
    "y = shd['price']\n",
    "\n",
    "# The Default here is Linear Regression (ordinary least squares regression OLS)\n",
    "model = sm.OLS(y,X).fit()\n",
    "\n",
    "y_pred = model.predict(X)"
   ]
  },
  {
   "cell_type": "markdown",
   "metadata": {},
   "source": [
    "### 5. Plot the residuals ( y-true vs. y-pred) to evaluate your MLR visually.\n",
    "\n",
    "> **Tip:** with seaborn's `sns.lmplot` you can set `x`, `y`, and even a `hue` (which will plot regression lines by category in different colors) to easily plot a regression line."
   ]
  },
  {
   "cell_type": "code",
   "execution_count": 10,
   "metadata": {},
   "outputs": [],
   "source": [
    "shd['y_pred'] = y_pred\n",
    "shd['Residuals'] = shd['price'] - shd['y_pred']"
   ]
  },
  {
   "cell_type": "code",
   "execution_count": 11,
   "metadata": {},
   "outputs": [
    {
     "data": {
      "text/plain": [
       "<seaborn.axisgrid.FacetGrid at 0x1c1db15be0>"
      ]
     },
     "execution_count": 11,
     "metadata": {},
     "output_type": "execute_result"
    },
    {
     "data": {
      "image/png": "[encoded data removed]",
      "text/plain": [
       "<Figure size 360x360 with 1 Axes>"
      ]
     },
     "metadata": {},
     "output_type": "display_data"
    }
   ],
   "source": [
    "import matplotlib.pyplot as plt\n",
    "import seaborn as sns\n",
    "%matplotlib inline\n",
    "\n",
    "sns.lmplot(x='price', y='y_pred', data=shd)"
   ]
  },
  {
   "cell_type": "markdown",
   "metadata": {},
   "source": [
    "### 6. List the five assumptions for an MLR model. \n",
    "\n",
    "Indicate which ones are the same as the assumptions for an SLR model. "
   ]
  },
  {
   "cell_type": "markdown",
   "metadata": {
    "collapsed": true
   },
   "source": [
    "**SLR AND MLR**:  \n",
    "\n",
    "- *Linearity: Y must have an approximately linear relationship with each independent X_i.*\n",
    "- *Independence: Errors (residuals) e_i and e_j must be independent of one another for any i != j.*\n",
    "- *Normality: The errors (residuals) follow a Normal distribution.*\n",
    "- *Equality of Variances: The errors (residuals) should have a roughly consistent pattern, regardless of the value of the X_i. (There should be no discernable relationship between X_1 and the residuals.)*\n",
    "\n",
    "**MLR ONLY**:  \n",
    "- *Independence Part 2: The independent variables X_i and X_j must be independent of one another for any i != j*\n",
    "\n",
    "\n",
    "\n"
   ]
  },
  {
   "cell_type": "markdown",
   "metadata": {},
   "source": [
    "### 7. Pick at least two assumptions and articulate whether or not you believe them to be met  for your model and why."
   ]
  },
  {
   "cell_type": "code",
   "execution_count": 12,
   "metadata": {},
   "outputs": [
    {
     "data": {
      "text/plain": [
       "<matplotlib.axes._subplots.AxesSubplot at 0x1c116576d8>"
      ]
     },
     "execution_count": 12,
     "metadata": {},
     "output_type": "execute_result"
    },
    {
     "data": {
      "image/png": "[encoded data removed]",
      "text/plain": [
       "<Figure size 432x288 with 1 Axes>"
      ]
     },
     "metadata": {},
     "output_type": "display_data"
    }
   ],
   "source": [
    "# Normality:  Do the Residual Errors follow a normal distribution?\n",
    "\n",
    "# I believe all those properties with 0 values are causing the Y intercept to be higher up\n",
    "# resulting in a less steep slope, thus creating areas where residual error is higher.\n",
    "sns.distplot(shd['Residuals'])"
   ]
  },
  {
   "cell_type": "code",
   "execution_count": 13,
   "metadata": {},
   "outputs": [],
   "source": [
    "# The errors are more or less skewed to the right, but do show approximate normality otherwise."
   ]
  },
  {
   "cell_type": "code",
   "execution_count": 14,
   "metadata": {},
   "outputs": [
    {
     "data": {
      "text/plain": [
       "<seaborn.axisgrid.FacetGrid at 0x1c1de78780>"
      ]
     },
     "execution_count": 14,
     "metadata": {},
     "output_type": "execute_result"
    },
    {
     "data": {
      "image/png": "[encoded data removed]",
      "text/plain": [
       "<Figure size 360x360 with 1 Axes>"
      ]
     },
     "metadata": {},
     "output_type": "display_data"
    }
   ],
   "source": [
    "# Equality of variance.  \n",
    "\n",
    "# I believe all the observations with 0 sq ft are obscuring the predictive \n",
    "# trend so as prices increase error is also going to as well.\n",
    "\n",
    "sns.lmplot(x='sq__ft', y='Residuals', data=shd)"
   ]
  },
  {
   "cell_type": "code",
   "execution_count": 15,
   "metadata": {},
   "outputs": [],
   "source": [
    "# Those zero square foot properties are causing some havok and there seems to be trend.\n",
    "# (assumption is violated)"
   ]
  },
  {
   "cell_type": "markdown",
   "metadata": {},
   "source": [
    "### 8. Explain what the intercept in your model means in the context of your predictor variables."
   ]
  },
  {
   "cell_type": "code",
   "execution_count": 16,
   "metadata": {},
   "outputs": [],
   "source": [
    "# When sq__ft, beds, baths, and huge_homes are all 0, the price of the house is estimated to be\n",
    "# the value of the intercept.  \n"
   ]
  },
  {
   "cell_type": "markdown",
   "metadata": {},
   "source": [
    "### 9. Generate a table showing the point estimates, standard errors, t-scores, p-values, and 95% confidence intervals for the model you built. \n",
    "\n",
    "**Write a few sentences interpreting some of the output.**\n",
    "\n",
    "> **Hint:** scikit-learn does not have this functionality built in, but statsmodels does in the `summary` function."
   ]
  },
  {
   "cell_type": "code",
   "execution_count": 17,
   "metadata": {},
   "outputs": [
    {
     "data": {
      "text/plain": [
       "sq__ft            10.908773\n",
       "beds           25530.985155\n",
       "baths          69437.374461\n",
       "Huge_homes    132255.351097\n",
       "dtype: float64"
      ]
     },
     "execution_count": 17,
     "metadata": {},
     "output_type": "execute_result"
    }
   ],
   "source": [
    "model.params"
   ]
  },
  {
   "cell_type": "markdown",
   "metadata": {},
   "source": [
    "Using the `model.params` we can essentually put together the linear equation our model is using\n",
    "\n",
    "$$ \\hat{y} = 9.4\\cdot X_1 - 3898.9\\cdot X_2 + 59767.9\\cdot X_3 + 174781.8\\cdot X_4 $$"
   ]
  },
  {
   "cell_type": "code",
   "execution_count": 18,
   "metadata": {},
   "outputs": [
    {
     "data": {
      "text/plain": [
       "20667.752185552163"
      ]
     },
     "execution_count": 18,
     "metadata": {},
     "output_type": "execute_result"
    }
   ],
   "source": [
    "shd['Residuals'].mean()"
   ]
  },
  {
   "cell_type": "markdown",
   "metadata": {},
   "source": [
    "On average, our predictions are off by roughly $20,600.  Which can be signification or insignification depending on the value of the home."
   ]
  },
  {
   "cell_type": "code",
   "execution_count": 19,
   "metadata": {},
   "outputs": [
    {
     "data": {
      "text/html": [
       "<table class=\"simpletable\">\n",
       "<caption>OLS Regression Results</caption>\n",
       "<tr>\n",
       "  <th>Dep. Variable:</th>          <td>price</td>      <th>  R-squared:         </th> <td>   0.757</td> \n",
       "</tr>\n",
       "<tr>\n",
       "  <th>Model:</th>                   <td>OLS</td>       <th>  Adj. R-squared:    </th> <td>   0.756</td> \n",
       "</tr>\n",
       "<tr>\n",
       "  <th>Method:</th>             <td>Least Squares</td>  <th>  F-statistic:       </th> <td>   761.2</td> \n",
       "</tr>\n",
       "<tr>\n",
       "  <th>Date:</th>             <td>Wed, 26 Sep 2018</td> <th>  Prob (F-statistic):</th> <td>8.64e-299</td>\n",
       "</tr>\n",
       "<tr>\n",
       "  <th>Time:</th>                 <td>12:44:28</td>     <th>  Log-Likelihood:    </th> <td> -13014.</td> \n",
       "</tr>\n",
       "<tr>\n",
       "  <th>No. Observations:</th>      <td>   984</td>      <th>  AIC:               </th> <td>2.604e+04</td>\n",
       "</tr>\n",
       "<tr>\n",
       "  <th>Df Residuals:</th>          <td>   980</td>      <th>  BIC:               </th> <td>2.606e+04</td>\n",
       "</tr>\n",
       "<tr>\n",
       "  <th>Df Model:</th>              <td>     4</td>      <th>                     </th>     <td> </td>    \n",
       "</tr>\n",
       "<tr>\n",
       "  <th>Covariance Type:</th>      <td>nonrobust</td>    <th>                     </th>     <td> </td>    \n",
       "</tr>\n",
       "</table>\n",
       "<table class=\"simpletable\">\n",
       "<tr>\n",
       "       <td></td>         <th>coef</th>     <th>std err</th>      <th>t</th>      <th>P>|t|</th>  <th>[0.025</th>    <th>0.975]</th>  \n",
       "</tr>\n",
       "<tr>\n",
       "  <th>sq__ft</th>     <td>   10.9088</td> <td>    7.549</td> <td>    1.445</td> <td> 0.149</td> <td>   -3.905</td> <td>   25.723</td>\n",
       "</tr>\n",
       "<tr>\n",
       "  <th>beds</th>       <td> 2.553e+04</td> <td> 5946.587</td> <td>    4.293</td> <td> 0.000</td> <td> 1.39e+04</td> <td> 3.72e+04</td>\n",
       "</tr>\n",
       "<tr>\n",
       "  <th>baths</th>      <td> 6.944e+04</td> <td> 9041.625</td> <td>    7.680</td> <td> 0.000</td> <td> 5.17e+04</td> <td> 8.72e+04</td>\n",
       "</tr>\n",
       "<tr>\n",
       "  <th>Huge_homes</th> <td> 1.323e+05</td> <td> 4.62e+04</td> <td>    2.863</td> <td> 0.004</td> <td> 4.16e+04</td> <td> 2.23e+05</td>\n",
       "</tr>\n",
       "</table>\n",
       "<table class=\"simpletable\">\n",
       "<tr>\n",
       "  <th>Omnibus:</th>       <td>282.430</td> <th>  Durbin-Watson:     </th> <td>   0.834</td> \n",
       "</tr>\n",
       "<tr>\n",
       "  <th>Prob(Omnibus):</th> <td> 0.000</td>  <th>  Jarque-Bera (JB):  </th> <td> 802.084</td> \n",
       "</tr>\n",
       "<tr>\n",
       "  <th>Skew:</th>          <td> 1.448</td>  <th>  Prob(JB):          </th> <td>6.76e-175</td>\n",
       "</tr>\n",
       "<tr>\n",
       "  <th>Kurtosis:</th>      <td> 6.344</td>  <th>  Cond. No.          </th> <td>1.69e+04</td> \n",
       "</tr>\n",
       "</table><br/><br/>Warnings:<br/>[1] Standard Errors assume that the covariance matrix of the errors is correctly specified.<br/>[2] The condition number is large, 1.69e+04. This might indicate that there are<br/>strong multicollinearity or other numerical problems."
      ],
      "text/plain": [
       "<class 'statsmodels.iolib.summary.Summary'>\n",
       "\"\"\"\n",
       "                            OLS Regression Results                            \n",
       "==============================================================================\n",
       "Dep. Variable:                  price   R-squared:                       0.757\n",
       "Model:                            OLS   Adj. R-squared:                  0.756\n",
       "Method:                 Least Squares   F-statistic:                     761.2\n",
       "Date:                Wed, 26 Sep 2018   Prob (F-statistic):          8.64e-299\n",
       "Time:                        12:44:28   Log-Likelihood:                -13014.\n",
       "No. Observations:                 984   AIC:                         2.604e+04\n",
       "Df Residuals:                     980   BIC:                         2.606e+04\n",
       "Df Model:                           4                                         \n",
       "Covariance Type:            nonrobust                                         \n",
       "==============================================================================\n",
       "                 coef    std err          t      P>|t|      [0.025      0.975]\n",
       "------------------------------------------------------------------------------\n",
       "sq__ft        10.9088      7.549      1.445      0.149      -3.905      25.723\n",
       "beds        2.553e+04   5946.587      4.293      0.000    1.39e+04    3.72e+04\n",
       "baths       6.944e+04   9041.625      7.680      0.000    5.17e+04    8.72e+04\n",
       "Huge_homes  1.323e+05   4.62e+04      2.863      0.004    4.16e+04    2.23e+05\n",
       "==============================================================================\n",
       "Omnibus:                      282.430   Durbin-Watson:                   0.834\n",
       "Prob(Omnibus):                  0.000   Jarque-Bera (JB):              802.084\n",
       "Skew:                           1.448   Prob(JB):                    6.76e-175\n",
       "Kurtosis:                       6.344   Cond. No.                     1.69e+04\n",
       "==============================================================================\n",
       "\n",
       "Warnings:\n",
       "[1] Standard Errors assume that the covariance matrix of the errors is correctly specified.\n",
       "[2] The condition number is large, 1.69e+04. This might indicate that there are\n",
       "strong multicollinearity or other numerical problems.\n",
       "\"\"\""
      ]
     },
     "execution_count": 19,
     "metadata": {},
     "output_type": "execute_result"
    }
   ],
   "source": [
    "model.summary()"
   ]
  },
  {
   "cell_type": "markdown",
   "metadata": {},
   "source": [
    "Approximately 76% of the response variable( $ \\hat{y}$ ) is explained by our linear model (Independent Variables).\n",
    "\n",
    "**_Or_**\n",
    "\n",
    "0.76 indicates that the model explains 76% the variability of the response data around its mean."
   ]
  },
  {
   "cell_type": "markdown",
   "metadata": {},
   "source": [
    "### 10. [Bonus] Summarize your findings.\n",
    "\n",
    "You work for a real estate agency. You are asked to prepare an executive summary for your very busy boss highlighting the most important findings from your MLR model. Convey these findings in no more than two paragraphs. Be sure to briefly address any potential shortcomings of your model.\n"
   ]
  },
  {
   "cell_type": "code",
   "execution_count": 20,
   "metadata": {},
   "outputs": [],
   "source": [
    "# Using the model we built with the four variables selected we are\n",
    "# able to account for roughly 75% of the variability in home prices.\n",
    "# This does not mean our model is %75 accurate, or only guesses %75\n",
    "# of a houses true price, but more or less means that it understands\n",
    "# 75% of what attributes to a homes final price.  25% still remaining\n",
    "# unknown.  \n",
    "\n",
    "# I believe that we could build a model that better understands house\n",
    "# price if we were to remove the noise (observations with 0, sq__ft, beds& baths)\n",
    "# from the data prior to building the model.  "
   ]
  }
 ],
 "metadata": {
  "anaconda-cloud": {},
  "kernelspec": {
   "display_name": "Python 3",
   "language": "python",
   "name": "python3"
  },
  "language_info": {
   "codemirror_mode": {
    "name": "ipython",
    "version": 3
   },
   "file_extension": ".py",
   "mimetype": "text/x-python",
   "name": "python",
   "nbconvert_exporter": "python",
   "pygments_lexer": "ipython3",
   "version": "3.6.6"
  }
 },
 "nbformat": 4,
 "nbformat_minor": 1
}
