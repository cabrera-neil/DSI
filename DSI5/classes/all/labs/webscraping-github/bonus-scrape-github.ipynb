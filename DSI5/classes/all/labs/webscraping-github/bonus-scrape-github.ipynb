{
 "cells": [
  {
   "cell_type": "markdown",
   "metadata": {},
   "source": [
    "\n",
    "# Let's scrape github!  \n",
    "1) get the first 100 repos for the query string \"data science\"  \n",
    "2) for each repo collect:\n",
    "    - the name of the repo - like \"donnemartin/data-science-ipython-notebooks\"\n",
    "    - the link of the repo - like https://github.com/donnemartin/data-science-ipython-notebooks\n",
    "    - the number of commits\n",
    "    - the number of contributors\n",
    "    - the number of \"watch\", \"star\", \"fork\"\n",
    "    - [bonus] the number of open issues and closed issues\n",
    "    - [bonus] all the titles of the open issues (just get the ones in the first page)"
   ]
  }
 ],
 "metadata": {
  "kernelspec": {
   "display_name": "Python 2",
   "language": "python",
   "name": "python2"
  },
  "language_info": {
   "codemirror_mode": {
    "name": "ipython",
    "version": 2
   },
   "file_extension": ".py",
   "mimetype": "text/x-python",
   "name": "python",
   "nbconvert_exporter": "python",
   "pygments_lexer": "ipython2",
   "version": "2.7.14"
  }
 },
 "nbformat": 4,
 "nbformat_minor": 2
}
