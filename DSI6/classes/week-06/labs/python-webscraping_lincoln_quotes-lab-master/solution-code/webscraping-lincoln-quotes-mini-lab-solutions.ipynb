{
 "cells": [
  {
   "cell_type": "markdown",
   "metadata": {},
   "source": [
    "<img src=\"http://imgur.com/1ZcRyrc.png\" style=\"float: left; margin: 20px; height: 55px\">\n",
    "\n",
    "# Automated Data Collection: Lincoln Quotes\n",
    "\n",
    "_Authors: Joseph Nelson (DC)_\n",
    "\n",
    "---\n",
    "\n",
    "For this mini-lab, you are asked to produce a list of all of Lincoln's quotes available on this page: http://www.successories.com/iquote/author/291/abraham-lincoln-quotes/1 \n",
    "\n",
    "Use the `requests` and `BeautifulSoup` libraries in Python.\n",
    "\n",
    "For a bonus, collect all the quotes from each page available on Successories about Lincoln (i.e http://www.successories.com/iquote/author/291/abraham-lincoln-quotes/2 , http://www.successories.com/iquote/author/291/abraham-lincoln-quotes/3 , etc.)"
   ]
  },
  {
   "cell_type": "code",
   "execution_count": 2,
   "metadata": {},
   "outputs": [],
   "source": [
    "import requests\n",
    "from bs4 import BeautifulSoup\n",
    "import time\n",
    "import numpy as np"
   ]
  },
  {
   "cell_type": "code",
   "execution_count": 3,
   "metadata": {},
   "outputs": [
    {
     "name": "stdout",
     "output_type": "stream",
     "text": [
      "Page 1\n",
      "Page 2\n",
      "Page 3\n",
      "Page 4\n",
      "Page 5\n"
     ]
    }
   ],
   "source": [
    "# declare a list\n",
    "lincoln_quotes = []\n",
    "\n",
    "url = \"http://www.successories.com/iquote/author/291/abraham-lincoln-quotes/{}\"\n",
    "# iteraterate through the \n",
    "# first 5 pages of lincoln quotes\n",
    "for page in range(1,5+1):\n",
    "    print('Page {}'.format(page))  \n",
    "    \n",
    "    # make request for that page\n",
    "    r = requests.get(url.format(page))\n",
    "    \n",
    "    # turn into a BeautifulSoup object\n",
    "    soup = BeautifulSoup(r.text, 'lxml')\n",
    "    \n",
    "    # find quotes on page\n",
    "    quotes = soup.find_all(name='div', attrs={'class':'quote'})\n",
    "    \n",
    "    # add to our quotes list\n",
    "    for quote in quotes:\n",
    "        lincoln_quotes.append(quote.text)\n",
    "        \n",
    "    #wait some time\n",
    "    time.sleep(max([1,np.random.normal(4,2)]))"
   ]
  },
  {
   "cell_type": "code",
   "execution_count": 4,
   "metadata": {},
   "outputs": [
    {
     "name": "stdout",
     "output_type": "stream",
     "text": [
      "100\n"
     ]
    }
   ],
   "source": [
    "print(len(lincoln_quotes))\n"
   ]
  },
  {
   "cell_type": "code",
   "execution_count": 5,
   "metadata": {},
   "outputs": [
    {
     "name": "stdout",
     "output_type": "stream",
     "text": [
      "\"Having thus chosen our course, without guile and with pure purpose, let us renew our trust in God, and go forward without fear and with manly hearts.\"\n",
      "--------------------\n",
      "\"You have to do your own growing no matter how tall your grandfather was.\"\n",
      "--------------------\n",
      "\"I have been driven many times to my knees by the overwhelming conviction that I had nowhere to go. My own wisdom, and that of all about me, seemed insufficient for the day.\"\n",
      "--------------------\n",
      "\"I see a very dark cloud on America's horizon, and that cloud is coming from Rome\"\n",
      "--------------------\n",
      "\"Things may come to those who wait...but only the things left by those who hustle.\"\n",
      "--------------------\n",
      "\"Do not worry; eat three square meals a day; say your prayers; be courteous to your creditors; keep your digestion good; exercise; go slow and easy. Maybe there are other things your special case requires to make you happy, but my friend, these I reckon will give you a good lift. -\"\n",
      "--------------------\n",
      "\"He can compress the most words into the smallest ideas of any man I ever met.\"\n",
      "--------------------\n",
      "\"That some should be rich, shows that others may become rich, and, hence, is just encouragement to industry and enterprise.\"\n",
      "--------------------\n",
      "\"Among free men there can be no successful appeal from the ballot to the bullet.\"\n",
      "--------------------\n",
      "\"Nothing valuable can be lost by taking time.\"\n",
      "--------------------\n",
      "\"Truth is generally the best vindication against slander.\"\n",
      "--------------------\n",
      "\"The shadow is what we think of it; the tree is the real thing.\"\n",
      "--------------------\n",
      "\"It is better to remain quiet and be thought a fool...\"\n",
      "--------------------\n",
      "\"All that I am or hope to be I owe to my angel mother. I remember my mother's prayers and they have always followed me. They have clung to me all my life.\"\n",
      "--------------------\n",
      "\"We must ask where we are and whither we are tending.\"\n",
      "--------------------\n",
      "\"If you wish to win a man over to your ideas, first make him your friend.\"\n",
      "--------------------\n",
      "\"I am not concerned that you have fallen -- I am concerned that you arise.\"\n",
      "--------------------\n",
      "\"Force is all-conquering, but its victories are short-lived.\"\n",
      "--------------------\n",
      "\"No man has a good enough memory to make a successful liar.\"\n",
      "--------------------\n",
      "\"Fourscore and seven years ago our fathers brought forth upon this continent a new nation, conceived in liberty, and dedicated to the proposition that all men are created equal. We here highly resolve that the dead shall not have died in vain, that this nation, under God, shall have a new birth of freedom; and that government of the people, by the people, and for the people, shall not perish from the earth.\"\n",
      "--------------------\n",
      "\"In law it is good policy never to plead what you need not, lest you oblige yourself to prove what you cannot\"\n",
      "--------------------\n",
      "\"Let me not be understood as saying that there are no bad laws, nor that grievances may not arise for the redress of which no legal provisions have been made. I mean to say no such thing. But I do mean to say that although bad laws, if they exist, should be repealed as soon as possible, still, while they continue in force, for the sake of example they should be religiously observed.\"\n",
      "--------------------\n",
      "\"A jury too often has at least one member more ready to hang the panel than to hang the traitor.\"\n",
      "--------------------\n",
      "\"I am glad to know that there is a system of labor where the laborer can strike if he wants to!  I would like to God that such a system prevailed all over the world\"\n",
      "--------------------\n",
      "\"Kindness is the only service that will stand the storm of life and not wash out. It will wear well and will be remembered long after the prism of politeness or the complexion of courtesy has faded away.\"\n",
      "--------------------\n"
     ]
    }
   ],
   "source": [
    "for q in lincoln_quotes[0:25]:\n",
    "    print(q)\n",
    "    print('-'*20)"
   ]
  }
 ],
 "metadata": {
  "kernelspec": {
   "display_name": "Python 3",
   "language": "python",
   "name": "python3"
  },
  "language_info": {
   "codemirror_mode": {
    "name": "ipython",
    "version": 3
   },
   "file_extension": ".py",
   "mimetype": "text/x-python",
   "name": "python",
   "nbconvert_exporter": "python",
   "pygments_lexer": "ipython3",
   "version": "3.6.6"
  }
 },
 "nbformat": 4,
 "nbformat_minor": 2
}
