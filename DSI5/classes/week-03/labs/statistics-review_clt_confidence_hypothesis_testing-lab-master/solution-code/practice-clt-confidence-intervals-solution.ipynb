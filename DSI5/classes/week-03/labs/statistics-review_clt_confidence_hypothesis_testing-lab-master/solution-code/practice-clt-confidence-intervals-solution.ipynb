{
 "cells": [
  {
   "cell_type": "markdown",
   "metadata": {},
   "source": [
    "<img src=\"http://imgur.com/1ZcRyrc.png\" style=\"float: left; margin: 20px; height: 55px\">\n",
    "\n",
    "# Review: CLT, Confidence Intervals, and Hypothesis Testing\n",
    "\n",
    "_Authors: Matt Brems (DC)_\n",
    "\n",
    "---"
   ]
  },
  {
   "cell_type": "markdown",
   "metadata": {},
   "source": [
    "### First, read in the housing data (code provided).\n",
    "\n",
    "You can find the original data [here](https://archive.ics.uci.edu/ml/machine-learning-databases/housing/housing.data)."
   ]
  },
  {
   "cell_type": "code",
   "execution_count": 1,
   "metadata": {},
   "outputs": [],
   "source": [
    "import urllib\n",
    "\n",
    "names = [\"CRIM\", \"ZN\", \"INDUS\", \"CHAS\", \"NOX\", \"RM\", \"AGE\", \"DIS\", \"RAD\", \"TAX\", \"PTRATIO\", \"B\", \"LSTAT\", \"MEDV\"]\n",
    "\n",
    "import pandas as pd\n",
    "data = pd.read_csv(\"../datasets/housing.data\", header=None, names=names, delim_whitespace=True)\n",
    "\n",
    "NOX = data['NOX'].values\n",
    "AGE = data['AGE'].values"
   ]
  },
  {
   "cell_type": "markdown",
   "metadata": {},
   "source": [
    "### 1. Find the mean, standard deviation, and standard error of the mean for the `AGE` variable."
   ]
  },
  {
   "cell_type": "code",
   "execution_count": 2,
   "metadata": {},
   "outputs": [],
   "source": [
    "import numpy as np"
   ]
  },
  {
   "cell_type": "code",
   "execution_count": 3,
   "metadata": {},
   "outputs": [
    {
     "name": "stdout",
     "output_type": "stream",
     "text": [
      "The mean is 68.57490118577076\n",
      "The standard deviation is 28.121032570236867\n",
      "The standard error of the mean is 1.250132382568063\n"
     ]
    }
   ],
   "source": [
    "mean = np.mean(data['AGE'])\n",
    "std = np.std(data['AGE'])\n",
    "se = std/(len(data['AGE'])**0.5)\n",
    "\n",
    "print(\"The mean is {}\".format(mean))\n",
    "print(\"The standard deviation is {}\".format(std))\n",
    "print(\"The standard error of the mean is {}\".format(se))"
   ]
  },
  {
   "cell_type": "markdown",
   "metadata": {},
   "source": [
    "### 2. Generate a 90%, 95%, and 99% confidence interval for `AGE`.\n",
    "\n",
    "You can use the `.scipy.stats.t.interval()` function to calculate the confidence interval range.\n",
    "\n",
    "```python\n",
    "# End points of the range that contains `alpha` percent of the distribution:\n",
    "stats.t.interval(alpha, df, loc=0, scale=1)\t\n",
    "```\n",
    "\n",
    "Arguments:\n",
    "- `df`: The degrees of freedom; will be the length of the vector -1.\n",
    "- `loc`: The mean of the t-distribution (Your point estimate — the mean of the variable).\n",
    "- `scale`: The standard deviation of the t-distribution (i.e., the standard error of your sample mean).\n",
    "\n",
    "**Interpret the results from all three confidence intervals.**"
   ]
  },
  {
   "cell_type": "markdown",
   "metadata": {},
   "source": [
    "NOTE 1: when to use z-score (e.g. the 1.96 multiplier to calculate the the 95% confidence interval) vs. when to use the t-distribution (like in the current solution). https://math.stackexchange.com/questions/1350635/when-do-i-use-a-z-score-vs-a-t-score-for-confidence-intervals   \n",
    "NOTE 2: it's ok to not get the difference between the two at this stage :)"
   ]
  },
  {
   "cell_type": "code",
   "execution_count": 4,
   "metadata": {},
   "outputs": [],
   "source": [
    "from scipy.stats import t"
   ]
  },
  {
   "cell_type": "code",
   "execution_count": 5,
   "metadata": {},
   "outputs": [
    {
     "data": {
      "text/plain": [
       "(66.12464171593736, 71.02516065560415)"
      ]
     },
     "execution_count": 5,
     "metadata": {},
     "output_type": "execute_result"
    }
   ],
   "source": [
    "mean - 1.96 * se, mean + 1.96 * se, "
   ]
  },
  {
   "cell_type": "code",
   "execution_count": 6,
   "metadata": {},
   "outputs": [
    {
     "name": "stdout",
     "output_type": "stream",
     "text": [
      "We are 95% confident that the true mean value for 'AGE' is between 66.11636971854321 and 71.0334326529983.\n"
     ]
    }
   ],
   "source": [
    "t_interval_95 = t.interval(0.95,\n",
    "                           len(AGE)-1,\n",
    "                           loc=np.mean(AGE),\n",
    "                           scale=np.std(AGE, ddof = 1)/(len(AGE))**0.5)\n",
    "\n",
    "print(\"We are 95% confident that the true mean value for 'AGE' is between {} and {}.\".format(t_interval_95[0], t_interval_95[1]))"
   ]
  },
  {
   "cell_type": "code",
   "execution_count": 7,
   "metadata": {},
   "outputs": [
    {
     "name": "stdout",
     "output_type": "stream",
     "text": [
      "We are 90% confident that the true mean value for 'AGE' is between 66.51279866704186 and 70.63700370449965.\n",
      "We are 95% confident that the true mean value for 'AGE' is between 66.11636971854321 and 71.0334326529983.\n",
      "We are 99% confident that the true mean value for 'AGE' is between 65.33936041834139 and 71.81044195320013.\n"
     ]
    }
   ],
   "source": [
    "t_interval_90 = t.interval(0.9,\n",
    "                           len(AGE)-1,\n",
    "                           loc=np.mean(AGE),\n",
    "                           scale=np.std(AGE, ddof = 1)/(len(AGE))**0.5)\n",
    "\n",
    "print(\"We are 90% confident that the true mean value for 'AGE' is between {} and {}.\".format(t_interval_90[0], t_interval_90[1]))\n",
    "\n",
    "t_interval_95 = t.interval(0.95,\n",
    "                           len(AGE)-1,\n",
    "                           loc=np.mean(AGE),\n",
    "                           scale=np.std(AGE, ddof = 1)/(len(AGE))**0.5)\n",
    "\n",
    "print(\"We are 95% confident that the true mean value for 'AGE' is between {} and {}.\".format(t_interval_95[0], t_interval_95[1]))\n",
    "\n",
    "t_interval_99 = t.interval(0.99,\n",
    "                           len(AGE)-1,\n",
    "                           loc=np.mean(AGE),\n",
    "                           scale=np.std(AGE, ddof = 1)/(len(AGE))**0.5)\n",
    "\n",
    "print(\"We are 99% confident that the true mean value for 'AGE' is between {} and {}.\".format(t_interval_99[0], t_interval_99[1]))"
   ]
  },
  {
   "cell_type": "markdown",
   "metadata": {},
   "source": [
    "Recall that a 99% confidence interval will appear in this form: \n",
    "\n",
    "$$\\bar{x}-t \\frac{s}{\\sqrt{n}} \\ , \\ \\bar{x}+t \\frac{s}{\\sqrt{n}}$$\n",
    "\n",
    "Here, `t` is the critical t-value with 506 degrees of freedom and 99% confidence."
   ]
  },
  {
   "cell_type": "code",
   "execution_count": 8,
   "metadata": {},
   "outputs": [
    {
     "name": "stdout",
     "output_type": "stream",
     "text": [
      "2.5855804006393113\n"
     ]
    }
   ],
   "source": [
    "critical_t = t.ppf(0.995,506) # This pulls the critical value for 99.5%, which is appropriate.\n",
    "print(critical_t)"
   ]
  },
  {
   "cell_type": "markdown",
   "metadata": {},
   "source": [
    "### 3. Did you rely on the central limit theorem in Question 2? Why or why not? Explain.\n",
    "\n",
    "\n",
    "**A.** _Yes. We don't know whether or not `AGE` is normally distributed (and, considering the plot below, it's clearly not). But, because the size of our sample (`n`) is larger than 30, we know that the behavior of the x-bar will be normal enough for us to use our t-distribution to generate confidence intervals._"
   ]
  },
  {
   "cell_type": "markdown",
   "metadata": {},
   "source": [
    "### 4. For the `NOX` variable, generate a 95% confidence interval and interpret it."
   ]
  },
  {
   "cell_type": "code",
   "execution_count": 9,
   "metadata": {},
   "outputs": [
    {
     "name": "stdout",
     "output_type": "stream",
     "text": [
      "We are 95% confident that the true mean value for 'NOX' is between 0.5445742622921801 and 0.5648158562848951.\n"
     ]
    }
   ],
   "source": [
    "t_interval_95 = t.interval(0.95,\n",
    "                           len(NOX)-1,\n",
    "                           loc=np.mean(NOX),\n",
    "                           scale=np.std(NOX, ddof = 1)/(len(NOX))**0.5)\n",
    "\n",
    "print (\"We are 95% confident that the true mean value for 'NOX' is between {} and {}.\".format(t_interval_95[0],t_interval_95[1]))"
   ]
  },
  {
   "cell_type": "markdown",
   "metadata": {},
   "source": [
    "### 5. For the `NOX` variable, test the hypothesis that the mean is equal to the median. \n",
    "\n",
    "You can use `scipy` functions to complete this, but be sure complete all steps listed below.\n",
    "\n",
    "1. Define the hypotheses.\n",
    "2. Set `alpha` to equal 0.05.\n",
    "3. Calculate the point estimate.\n",
    "4. Calculate the test statistic.\n",
    "5. Find the p-value.\n",
    "6. Interpret the results."
   ]
  },
  {
   "cell_type": "code",
   "execution_count": 10,
   "metadata": {},
   "outputs": [
    {
     "name": "stdout",
     "output_type": "stream",
     "text": [
      "Our sample median is 0.538\n",
      "Our sample mean is 0.5546950592885376\n",
      "Our t-statistic is 3.24088371677941\n",
      "Our p-value is 0.0012700527361798387\n",
      "We reject our null hypothesis and conclude that the true mean NOX value is different from the median NOX value.\n"
     ]
    }
   ],
   "source": [
    "## Step 1: Define the hypotheses.\n",
    "### H_0: mu_NOX = M_NOX\n",
    "### H_A: mu_NOX != M_NOX\n",
    "\n",
    "## Step 2: Set `alpha` to equal 0.05.\n",
    "alpha = 0.05\n",
    "\n",
    "## Step 3: Calculate the point estimate.\n",
    "sample_mean = np.mean(NOX)\n",
    "\n",
    "## Step 4: Calculate the test statistic.\n",
    "t_statistic = (sample_mean - np.median(NOX))/(np.std(NOX, ddof=1)/len(NOX)**0.5)\n",
    "\n",
    "## Step 5: Find the p-value.\n",
    "## `t.sf` is the survival function, which is `1-cdf` at a given value\n",
    "## (i.e., the proportion of values is at least as extreme as...).\n",
    "p_value = t.sf(np.abs(t_statistic), len(NOX)) * 2 \n",
    "\n",
    "\n",
    "## Because our alternative hypothesis is `!=` (rather than greater than or less than),\n",
    "## we double our p-value. (This is called a two-sided test).\n",
    "print(\"Our sample median is {}\".format(np.median(NOX)))\n",
    "print(\"Our sample mean is {}\".format(sample_mean))\n",
    "print(\"Our t-statistic is {}\".format(t_statistic))\n",
    "print(\"Our p-value is {}\".format(p_value))\n",
    "\n",
    "if p_value < alpha:\n",
    "    print(\"We reject our null hypothesis and conclude that the true mean NOX value is different from the median NOX value.\")\n",
    "elif p_value > alpha:\n",
    "    print(\"We fail to reject our null hypothesis and cannot conclude that the true mean NOX value is different from the median .\")\n",
    "else:\n",
    "    print(\"Our test is inconclusive.\")"
   ]
  },
  {
   "cell_type": "markdown",
   "metadata": {},
   "source": [
    "#### NOTE: in general we're going to use something like this"
   ]
  },
  {
   "cell_type": "code",
   "execution_count": 11,
   "metadata": {},
   "outputs": [
    {
     "name": "stdout",
     "output_type": "stream",
     "text": [
      "t_statistic = -0.659937698606985  p_value = 0.5118969239267787\n"
     ]
    }
   ],
   "source": [
    "from scipy import stats\n",
    "\n",
    "group1 = np.random.randn(40)\n",
    "group2 = 4*np.random.randn(50)\n",
    "\n",
    "t_statistic, p_value = stats.ttest_ind(group1, group2, equal_var=False)\n",
    "print(\"t_statistic = {}  p_value = {}\".format(t_statistic, p_value))"
   ]
  },
  {
   "cell_type": "markdown",
   "metadata": {},
   "source": [
    "### 6. What do you notice about the results from Questions 4 and 5? \n",
    "\n",
    "**If you were going to generalize these observations to the relationship between hypothesis tests and confidence intervals, what might you say? Be specific.**\n",
    "\n",
    "**A.** _When we calculated the median, it was 0.538. The 95% confidence interval for our mean contained 0.545 through 0.565. Because the median was outside of our 95% confidence interval, this suggests that the true mean would not be equal to our median._\n",
    "\n",
    "_We then conducted the hypothesis test and found that, at the `alpha = 0.05` significance level, we rejected the hypothesis that the mean and median were equal._\n",
    "\n",
    "_The results of our hypothesis test and confidence interval are in agreement here. Because our significance level (for `HT`) is `alpha`, as long as our confidence level (for `CI`) is `1 - alpha`, the results should be in agreement. So, if the value of interest does not lie in our `1 - alpha CI`, then the hypothesis that the parameter equals the value of interest should be rejected at the `alpha` significance level. Similarly, if the value of interest **does** lie in our `1 - alpha CI`, then testing the hypothesis that the parameter equals the value of interest should **not** be rejected at the `alpha` significance level._"
   ]
  },
  {
   "cell_type": "markdown",
   "metadata": {},
   "source": [
    "### 7. For the `NOX` variable, test the hypothesis that the mean is greater than or equal to the median. \n",
    "\n",
    "You can use `scipy` functions to complete this, but be sure complete all steps listed below.\n",
    "\n",
    "1. Define the hypotheses.\n",
    "2. Set `alpha` to equal 0.05.\n",
    "3. Calculate the point estimate.\n",
    "4. Calculate the test statistic.\n",
    "5. Find the p-value.\n",
    "6. Interpret the results."
   ]
  },
  {
   "cell_type": "code",
   "execution_count": 12,
   "metadata": {},
   "outputs": [
    {
     "name": "stdout",
     "output_type": "stream",
     "text": [
      "Our sample mean is 0.5546950592885376\n",
      "Our sample median is 0.538\n",
      "Our t-statistic is 3.24088371677941\n",
      "Our p-value is 0.0006350263680899193\n",
      "We reject our null hypothesis and conclude that the true mean NOX value is greater than the median NOX value.\n"
     ]
    }
   ],
   "source": [
    "## Step 1: Define the hypotheses.\n",
    "### H_0: mu_NOX >= M_NOX\n",
    "### H_A: mu_NOX < M_NOX\n",
    "\n",
    "## Step 2: Set `alpha` to equal 0.05.\n",
    "alpha = 0.05\n",
    "\n",
    "## Step 3: Calculate the point estimate.\n",
    "sample_mean = np.mean(NOX)\n",
    "sample_median = np.median(NOX)\n",
    "\n",
    "## Step 4: Calculate the test statistic.\n",
    "t_statistic = (sample_mean - sample_median)/(np.std(NOX, ddof=1)/len(NOX)**0.5)\n",
    "\n",
    "## Step 5: Find the p-value.\n",
    "p_value = t.sf(np.abs(t_statistic), len(NOX))\n",
    "## Because our alternative hypothesis is greather than (rather than equal to),\n",
    "## we DO NOT double our p-value. (This is called a one-sided test).\n",
    "\n",
    "print(\"Our sample mean is {}\".format(sample_mean))\n",
    "print(\"Our sample median is {}\".format(sample_median))\n",
    "print(\"Our t-statistic is {}\".format(t_statistic))\n",
    "print(\"Our p-value is {}\".format(p_value))\n",
    "\n",
    "if p_value < alpha:\n",
    "    print (\"We reject our null hypothesis and conclude that the true mean NOX value is greater than the median NOX value.\")\n",
    "elif p_value > alpha:\n",
    "    print (\"We fail to reject our null hypothesis and cannot conclude that the true mean NOX value is greater than the median .\")\n",
    "else:\n",
    "    print (\"Our test is inconclusive.\")"
   ]
  },
  {
   "cell_type": "markdown",
   "metadata": {},
   "source": [
    "### 8. Compare the p-values from Questions 5 and 7. What do you notice?"
   ]
  },
  {
   "cell_type": "markdown",
   "metadata": {
    "collapsed": true
   },
   "source": [
    "**A.** _The p-value in Question 6 is exactly double the p-value in Question 8. This is because of the fact that our alternative hypotheses are different. In Question 6, we can reject the null hypothesis for very large values of `mu` or very small values of `mu`. Because this is a two-sided test, we double our p-value. In Question 8, we can reject the null hypothesis for very small values of `mu` **but** cannot reject the null hypothesis for very large values of `mu`. Because we can only reject one side, this a one-sided test, and we therefore do not need to double our p-value._"
   ]
  },
  {
   "cell_type": "code",
   "execution_count": null,
   "metadata": {},
   "outputs": [],
   "source": []
  }
 ],
 "metadata": {
  "anaconda-cloud": {},
  "kernelspec": {
   "display_name": "Python 3",
   "language": "python",
   "name": "python3"
  },
  "language_info": {
   "codemirror_mode": {
    "name": "ipython",
    "version": 3
   },
   "file_extension": ".py",
   "mimetype": "text/x-python",
   "name": "python",
   "nbconvert_exporter": "python",
   "pygments_lexer": "ipython3",
   "version": "3.6.6"
  }
 },
 "nbformat": 4,
 "nbformat_minor": 1
}
