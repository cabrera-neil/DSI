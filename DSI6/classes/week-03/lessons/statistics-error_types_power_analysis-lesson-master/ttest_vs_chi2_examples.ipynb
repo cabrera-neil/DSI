{
 "cells": [
  {
   "cell_type": "code",
   "execution_count": 1,
   "metadata": {},
   "outputs": [],
   "source": [
    "import pandas as pd\n",
    "import matplotlib.pyplot as plt\n",
    "import numpy as np\n",
    "from scipy import stats\n",
    "\n",
    "%matplotlib inline \n",
    "plt.style.use('fivethirtyeight')\n",
    "pd.set_option('display.max_columns', None)"
   ]
  },
  {
   "cell_type": "markdown",
   "metadata": {},
   "source": [
    "# T-Test: research questions"
   ]
  },
  {
   "cell_type": "markdown",
   "metadata": {},
   "source": [
    "### 1. New interactive tutorial for a videogame - does it help increasing the playing time?\n",
    "- 1000 users = show them the new tutorial  (experimental group) \n",
    "- 1000 users = show them the current tutorial (control group)  \n",
    "- Measurement after 2 month\n",
    "- metric = how many hours they played \n",
    "  \n",
    "*NOTE: this is an a/b test!*"
   ]
  },
  {
   "cell_type": "code",
   "execution_count": 2,
   "metadata": {},
   "outputs": [],
   "source": [
    "np.random.seed(45)\n",
    "\n",
    "# These are the results of the test.\n",
    "# I'm generating the results because I don't have the real data.\n",
    "exp = np.random.normal(loc=100,scale=10,size=1000)\n",
    "placebo = np.random.normal(loc=92,scale=9,size=1000)"
   ]
  },
  {
   "cell_type": "code",
   "execution_count": 3,
   "metadata": {},
   "outputs": [
    {
     "name": "stdout",
     "output_type": "stream",
     "text": [
      "experimental mean: 99.7 hours\n",
      "placebo mean: 92.1 hours\n",
      "experimental - placebo: 7.6 hours\n"
     ]
    }
   ],
   "source": [
    "print(\"experimental mean: {} hours\".format(round(np.mean(exp),1)))\n",
    "print(\"placebo mean: {} hours\".format(round(np.mean(placebo),1)))\n",
    "print(\"experimental - placebo: {} hours\".format(round(np.mean(exp)-np.mean(placebo),1)))"
   ]
  },
  {
   "cell_type": "code",
   "execution_count": 4,
   "metadata": {},
   "outputs": [
    {
     "data": {
      "image/png": "[encoded data removed]",
      "text/plain": [
       "<matplotlib.figure.Figure at 0x112f27c50>"
      ]
     },
     "metadata": {},
     "output_type": "display_data"
    }
   ],
   "source": [
    "val,bins,_ = plt.hist(exp, bins=range(50,150,2), alpha=0.5, label='experimental')\n",
    "plt.hist(placebo, bins=range(50,150,2), alpha=0.5, label='control')\n",
    "plt.legend()\n",
    "plt.title('Playing hours - experimental vs. control')\n",
    "plt.xlabel('playing hours')\n",
    "plt.ylabel('frequency')\n",
    "plt.show()"
   ]
  },
  {
   "cell_type": "code",
   "execution_count": 5,
   "metadata": {},
   "outputs": [
    {
     "data": {
      "text/plain": [
       "Ttest_indResult(statistic=17.824545920407214, pvalue=4.5303019581046615e-66)"
      ]
     },
     "execution_count": 5,
     "metadata": {},
     "output_type": "execute_result"
    }
   ],
   "source": [
    "stats.ttest_ind(exp,placebo)"
   ]
  },
  {
   "cell_type": "markdown",
   "metadata": {},
   "source": [
    "Conclusions:\n",
    "- p<0.05\n",
    "- we can reject the null hypothesis (H0)\n",
    "- the samples don't come from the same population\n",
    "- we can say there is a statistically significant difference between the two groups\n",
    "- we can say the new tutorial works better than the previous"
   ]
  },
  {
   "cell_type": "markdown",
   "metadata": {},
   "source": [
    "#  \n",
    "#  \n",
    "#  "
   ]
  },
  {
   "cell_type": "markdown",
   "metadata": {},
   "source": [
    "### 2. New organic fertilizer - does it help growing bigger potatoes?\n",
    "- 200 potatoes with new fertilizer (experimental group) \n",
    "- 200 potatoes with old fertilizer (control group)  \n",
    "- Measurement after the crop\n",
    "- metric = weight of the potatoes"
   ]
  },
  {
   "cell_type": "code",
   "execution_count": 6,
   "metadata": {},
   "outputs": [],
   "source": [
    "np.random.seed(45)\n",
    "\n",
    "exp = np.random.normal(loc=120,scale=5,size=100)\n",
    "placebo = np.random.normal(loc=118,scale=4,size=100)"
   ]
  },
  {
   "cell_type": "code",
   "execution_count": 7,
   "metadata": {},
   "outputs": [
    {
     "name": "stdout",
     "output_type": "stream",
     "text": [
      "experimental mean: 119.3g\n",
      "placebo mean: 118.3g\n",
      "experimental - placebo: 1.0g\n"
     ]
    }
   ],
   "source": [
    "print(\"experimental mean: {}g\".format(round(np.mean(exp),1)))\n",
    "print(\"placebo mean: {}g\".format(round(np.mean(placebo),1)))\n",
    "print(\"experimental - placebo: {}g\".format(round(np.mean(exp)-np.mean(placebo),1)))"
   ]
  },
  {
   "cell_type": "code",
   "execution_count": 8,
   "metadata": {},
   "outputs": [
    {
     "data": {
      "image/png": "[encoded data removed]",
      "text/plain": [
       "<matplotlib.figure.Figure at 0x112fa43d0>"
      ]
     },
     "metadata": {},
     "output_type": "display_data"
    }
   ],
   "source": [
    "bins = range(90,140,2)\n",
    "val,bins,_ = plt.hist(exp, bins=bins, alpha=0.5, label='experimental')\n",
    "plt.hist(placebo, bins=bins, alpha=0.5, label='control')\n",
    "plt.legend()\n",
    "plt.title('Potatoe weight (in grams) - experimental vs. control')\n",
    "plt.xlabel('weight')\n",
    "plt.ylabel('frequency')\n",
    "plt.show()"
   ]
  },
  {
   "cell_type": "code",
   "execution_count": 9,
   "metadata": {},
   "outputs": [
    {
     "data": {
      "text/plain": [
       "Ttest_indResult(statistic=1.6243509879386842, pvalue=0.10589174378872597)"
      ]
     },
     "execution_count": 9,
     "metadata": {},
     "output_type": "execute_result"
    }
   ],
   "source": [
    "stats.ttest_ind(exp,placebo)"
   ]
  },
  {
   "cell_type": "markdown",
   "metadata": {},
   "source": [
    "Conclusions:\n",
    "- p>0.05\n",
    "- we cannot reject the null hypothesis (H0)\n",
    "- the samples come from the same population\n",
    "- we cannot say there is a statistically significant difference between the two groups\n",
    "- we cannot say the new fertilizer is working"
   ]
  },
  {
   "cell_type": "markdown",
   "metadata": {},
   "source": [
    "#  \n",
    "#  \n",
    "#  "
   ]
  },
  {
   "cell_type": "markdown",
   "metadata": {},
   "source": [
    "# Chi-squared"
   ]
  },
  {
   "cell_type": "markdown",
   "metadata": {},
   "source": [
    "### 1. Singapore: is EvilCorp a racist company? Idea: there is a difference in the races between managers and executives.\n",
    "- take a sample of the managers: what races?\n",
    "- take a sample of the executives: what races?"
   ]
  },
  {
   "cell_type": "code",
   "execution_count": 10,
   "metadata": {},
   "outputs": [],
   "source": [
    "# chinese, malay, indian, expat\n",
    "managers = [60, 20, 10, 8] # those values are not raw like for t-test!\n",
    "executives = [55, 17, 8, 20] "
   ]
  },
  {
   "cell_type": "code",
   "execution_count": 11,
   "metadata": {},
   "outputs": [],
   "source": [
    "observations = [managers, executives]"
   ]
  },
  {
   "cell_type": "code",
   "execution_count": 12,
   "metadata": {},
   "outputs": [],
   "source": [
    "chi2, p, dof, ex = stats.chi2_contingency(observations, correction=False)"
   ]
  },
  {
   "cell_type": "code",
   "execution_count": 13,
   "metadata": {},
   "outputs": [
    {
     "data": {
      "text/plain": [
       "(5.806104291641116, 0.12143432222389007)"
      ]
     },
     "execution_count": 13,
     "metadata": {},
     "output_type": "execute_result"
    }
   ],
   "source": [
    "chi2,p"
   ]
  },
  {
   "cell_type": "markdown",
   "metadata": {},
   "source": [
    "Conclusions:\n",
    "- p>0.05\n",
    "- we cannot reject the null hypothesis (H0)\n",
    "- the samples come from the same population\n",
    "- we cannot say there is a statistically significant difference between the two groups\n",
    "- we cannot say the company is racist"
   ]
  },
  {
   "cell_type": "markdown",
   "metadata": {},
   "source": [
    "#  \n",
    "#  \n",
    "#  "
   ]
  },
  {
   "cell_type": "markdown",
   "metadata": {},
   "source": [
    "### 2. Pokmon cards: are they selling the same type of packets in china and in us?\n",
    "Cards can be rare, semi-rare, common.\n",
    "- Take 10 card packs in us: total 100 cards\n",
    "- Take 10 card packs in china: total 100 cards"
   ]
  },
  {
   "cell_type": "code",
   "execution_count": 14,
   "metadata": {},
   "outputs": [],
   "source": [
    "# rare, semi-rare, common\n",
    "china = [10,20,70] \n",
    "us = [5, 10, 85]"
   ]
  },
  {
   "cell_type": "code",
   "execution_count": 15,
   "metadata": {},
   "outputs": [],
   "source": [
    "observations = [china,us]"
   ]
  },
  {
   "cell_type": "code",
   "execution_count": 16,
   "metadata": {},
   "outputs": [],
   "source": [
    "chi2, p, dof, ex = stats.chi2_contingency(observations, correction=False)"
   ]
  },
  {
   "cell_type": "code",
   "execution_count": 17,
   "metadata": {},
   "outputs": [
    {
     "data": {
      "text/plain": [
       "(6.451612903225806, 0.03972373338644102)"
      ]
     },
     "execution_count": 17,
     "metadata": {},
     "output_type": "execute_result"
    }
   ],
   "source": [
    "chi2,p"
   ]
  },
  {
   "cell_type": "markdown",
   "metadata": {},
   "source": [
    "Conclusion:\n",
    "- p<0.05\n",
    "- we can reject the null hypothesis (H0)\n",
    "- the samples come from the different populations\n",
    "- we can say there is a statistically significant difference between the two groups\n",
    "- we can say packets in china and us are different"
   ]
  }
 ],
 "metadata": {
  "kernelspec": {
   "display_name": "Python 2",
   "language": "python",
   "name": "python2"
  },
  "language_info": {
   "codemirror_mode": {
    "name": "ipython",
    "version": 2
   },
   "file_extension": ".py",
   "mimetype": "text/x-python",
   "name": "python",
   "nbconvert_exporter": "python",
   "pygments_lexer": "ipython2",
   "version": "2.7.14"
  }
 },
 "nbformat": 4,
 "nbformat_minor": 2
}
