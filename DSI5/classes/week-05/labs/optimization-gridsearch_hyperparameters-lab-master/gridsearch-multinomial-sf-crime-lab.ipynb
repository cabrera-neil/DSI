{
 "cells": [
  {
   "cell_type": "markdown",
   "metadata": {},
   "source": [
    "<img src=\"http://imgur.com/1ZcRyrc.png\" style=\"float: left; margin: 20px; height: 55px\">\n",
    "\n",
    "# Practice Grid Searching and Multinomial Models with San Francisco Crime Data\n",
    "\n",
    "_Authors: Joseph Nelson (DC), Sam Stack (DC)_\n",
    "\n",
    "---\n",
    "\n",
    "### Multinomial Logistic Regression Models\n",
    "\n",
    "So far, we've been using logistic regression for binary problems where there are only two class labels. Logistic regression can also be extended to dependent variables with multiple classes.\n",
    "\n",
    "There are two ways scikit-learn solves multiple class problems with logistic regression: a multinomial loss or a \"one-versus-rest\" (OvR) process in which a model is fit for each target class versus all of the other classes. \n",
    "\n",
    "**Multinomial vs. OvR**\n",
    "- (both) `k` classes.\n",
    "- (M) `k-1` models with one reference category.\n",
    "- (OvR) `k*(k-1)/2` models.\n",
    "\n",
    "You'll use grid search in conjunction with multinomial logistic regression to optimize a model that predicts the category (type) of crime based on various features captured by San Francisco police departments.\n",
    "\n",
    "Rather than use the [OneVsRestClassifier](http://scikit-learn.org/stable/modules/generated/sklearn.multiclass.OneVsRestClassifier.html), we're going to practice building individual models optimized to predict on _one class versus the rest_ for this lab."
   ]
  },
  {
   "cell_type": "markdown",
   "metadata": {},
   "source": [
    "**Necessary Lab Imports**"
   ]
  },
  {
   "cell_type": "code",
   "execution_count": 1,
   "metadata": {
    "collapsed": true
   },
   "outputs": [],
   "source": [
    "import numpy as np\n",
    "import pandas as pd\n",
    "import patsy\n",
    "\n",
    "from sklearn.metrics import classification_report, confusion_matrix, accuracy_score\n",
    "from sklearn.model_selection import train_test_split, GridSearchCV\n",
    "from sklearn.linear_model import LogisticRegression, LogisticRegressionCV\n",
    "\n",
    "\n",
    "import seaborn as sns\n",
    "\n",
    "import matplotlib.pyplot as plt\n",
    "plt.style.use('fivethirtyeight')\n",
    "\n",
    "%matplotlib inline\n",
    "%config InlineBackend.figure_format = 'retina'"
   ]
  },
  {
   "cell_type": "markdown",
   "metadata": {},
   "source": [
    "### 1) Read in the data."
   ]
  },
  {
   "cell_type": "code",
   "execution_count": 2,
   "metadata": {
    "collapsed": true
   },
   "outputs": [],
   "source": [
    "crime_csv = './datasets/sf_crime_train.csv'"
   ]
  },
  {
   "cell_type": "code",
   "execution_count": 3,
   "metadata": {
    "collapsed": true
   },
   "outputs": [],
   "source": [
    "# A:"
   ]
  },
  {
   "cell_type": "markdown",
   "metadata": {
    "collapsed": true
   },
   "source": [
    "### 2) Create column for hour, month, and year from \"Dates\" column.\n",
    "\n",
    "> *Hint: `pd.to_datetime` may or may not be helpful.*\n"
   ]
  },
  {
   "cell_type": "code",
   "execution_count": 4,
   "metadata": {
    "collapsed": true
   },
   "outputs": [],
   "source": [
    "# A:"
   ]
  },
  {
   "cell_type": "markdown",
   "metadata": {},
   "source": [
    "### 3) Validate and clean the data."
   ]
  },
  {
   "cell_type": "code",
   "execution_count": 5,
   "metadata": {
    "collapsed": true
   },
   "outputs": [],
   "source": [
    "# A:"
   ]
  },
  {
   "cell_type": "markdown",
   "metadata": {
    "collapsed": true
   },
   "source": [
    "### 4) Set up a target and predictor matrix for predicting violent, non-violent, and non-crimes.\n",
    "\n",
    "**Non-Violent Crimes**\n",
    "- Bad checks.\n",
    "- Bribery.\n",
    "- Drug/narcotic.\n",
    "- Drunkenness.\n",
    "- Embezzlement.\n",
    "- Forgery/counterfeiting.\n",
    "- Fraud.\n",
    "- Gambling.\n",
    "- Liquor.\n",
    "- Loitering.\n",
    "- Trespass.\n",
    "\n",
    "**Non-Crimes**\n",
    "- Non-criminal.\n",
    "- Runaway.\n",
    "- Secondary codes.\n",
    "- Suspicious OCC.\n",
    "- Warrants.\n",
    "\n",
    "**Violent Crimes**\n",
    "- Everything else.\n",
    "\n",
    "**What type of model do you need here? What should your \"baseline\" category be?**"
   ]
  },
  {
   "cell_type": "code",
   "execution_count": 6,
   "metadata": {
    "collapsed": true
   },
   "outputs": [],
   "source": [
    "# A:"
   ]
  },
  {
   "cell_type": "markdown",
   "metadata": {},
   "source": [
    "### 5) Standardize the predictor matrix."
   ]
  },
  {
   "cell_type": "code",
   "execution_count": 7,
   "metadata": {
    "collapsed": true
   },
   "outputs": [],
   "source": [
    "# A:"
   ]
  },
  {
   "cell_type": "markdown",
   "metadata": {},
   "source": [
    "### 6) Find the optimal hyperparameters (optimal regularization) to predict your crime categories.\n",
    "\n",
    "> **Note:** Grid searching can be done with `GridSearchCV` or `LogisticRegressionCV`. They operate differently — the grid search object is more general and can be applied to any model. The `LogisticRegressionCV` is specific to tuning the logistic regression hyperparameters. The `LogisticRegressionCV` is recommended, but the downside is that the lasso and ridge must be searched separately.\n",
    "\n",
    "**References for logistic regression regularization hyperparameters:**\n",
    "- `solver`: Algorithm used for optimization (relevant for multiclass).\n",
    "    - `Newton-cg`: Handles multinomial loss and L2 only.\n",
    "    - `Sag`: Handles multinomial loss, large data sets, and L2 only; works best on scaled data.\n",
    "    - `lbfgs`: Handles multinomial loss and L2 only.\n",
    "    - `Liblinear`: Small data sets; no warm starts.\n",
    "- `Cs`: Regularization strengths (smaller values are stronger penalties).\n",
    "- `cv`: Cross-validations or number of folds.\n",
    "- `penalty`: `'l1'` = lasso, `'l2'` = ridge."
   ]
  },
  {
   "cell_type": "code",
   "execution_count": 8,
   "metadata": {
    "collapsed": true
   },
   "outputs": [],
   "source": [
    "# Example:\n",
    "# Fit model with five folds and lasso regularization.\n",
    "# Use Cs=15 to test a grid of 15 distinct parameters.\n",
    "# Remember: Cs describes the inverse of regularization strength.\n",
    "\n",
    "# logreg_cv = LogisticRegressionCV(solver='liblinear', \n",
    "#                                  Cs=[1,5,10], \n",
    "#                                  cv=5, penalty='l1')"
   ]
  },
  {
   "cell_type": "markdown",
   "metadata": {},
   "source": [
    "**Split data into training and testing sets with 50 percent in testing.**"
   ]
  },
  {
   "cell_type": "code",
   "execution_count": 9,
   "metadata": {
    "collapsed": true
   },
   "outputs": [],
   "source": [
    "# A:"
   ]
  },
  {
   "cell_type": "markdown",
   "metadata": {},
   "source": [
    "**Grid search hyperparameters for the training data.**"
   ]
  },
  {
   "cell_type": "code",
   "execution_count": 10,
   "metadata": {
    "collapsed": true
   },
   "outputs": [],
   "source": [
    "# A:"
   ]
  },
  {
   "cell_type": "markdown",
   "metadata": {},
   "source": [
    "**Find the best parameters for each target class.**"
   ]
  },
  {
   "cell_type": "code",
   "execution_count": 11,
   "metadata": {
    "collapsed": true
   },
   "outputs": [],
   "source": [
    "# A:"
   ]
  },
  {
   "cell_type": "markdown",
   "metadata": {},
   "source": [
    "**Build three logistic regression models using the best parameters for each target class.**"
   ]
  },
  {
   "cell_type": "code",
   "execution_count": 12,
   "metadata": {
    "collapsed": true
   },
   "outputs": [],
   "source": [
    "# A:"
   ]
  },
  {
   "cell_type": "markdown",
   "metadata": {},
   "source": [
    "### 7) Build confusion matrices for the models above.\n",
    "- Use the holdout test data from the train/test split."
   ]
  },
  {
   "cell_type": "code",
   "execution_count": 13,
   "metadata": {
    "collapsed": true
   },
   "outputs": [],
   "source": [
    "# A:"
   ]
  },
  {
   "cell_type": "markdown",
   "metadata": {},
   "source": [
    "### 8) Print classification reports for your three models."
   ]
  },
  {
   "cell_type": "code",
   "execution_count": 14,
   "metadata": {
    "collapsed": true
   },
   "outputs": [],
   "source": [
    "# A:"
   ]
  },
  {
   "cell_type": "markdown",
   "metadata": {},
   "source": [
    "**Describe the metrics in the classification report.**"
   ]
  },
  {
   "cell_type": "code",
   "execution_count": 15,
   "metadata": {
    "collapsed": true
   },
   "outputs": [],
   "source": [
    "# A:"
   ]
  }
 ],
 "metadata": {
  "anaconda-cloud": {},
  "kernelspec": {
   "display_name": "Python 3",
   "language": "python",
   "name": "python3"
  },
  "language_info": {
   "codemirror_mode": {
    "name": "ipython",
    "version": 3
   },
   "file_extension": ".py",
   "mimetype": "text/x-python",
   "name": "python",
   "nbconvert_exporter": "python",
   "pygments_lexer": "ipython3",
   "version": "3.6.3"
  }
 },
 "nbformat": 4,
 "nbformat_minor": 1
}
