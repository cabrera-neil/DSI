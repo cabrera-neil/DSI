{
 "cells": [
  {
   "cell_type": "markdown",
   "metadata": {},
   "source": [
    "<img src=\"http://imgur.com/1ZcRyrc.png\" style=\"float: left; margin: 20px; height: 55px\">\n",
    "\n",
    "## List and Dictionary Comprehensions: Demo/Exercise\n",
    "\n",
    "_Author: Kiefer Katovich (SF)_\n",
    "\n",
    "---\n",
    "\n",
    "This codealong covers the essentials of performing list and dictionary comprehensions in Python."
   ]
  },
  {
   "cell_type": "code",
   "execution_count": 1,
   "metadata": {},
   "outputs": [],
   "source": [
    "import numpy as np\n",
    "import string"
   ]
  },
  {
   "cell_type": "markdown",
   "metadata": {},
   "source": [
    "---\n",
    "\n",
    "### Section 1: Basic list comprehensions\n",
    "\n",
    "##### 1-A) Add 1 to every element in the list."
   ]
  },
  {
   "cell_type": "code",
   "execution_count": 2,
   "metadata": {},
   "outputs": [
    {
     "name": "stdout",
     "output_type": "stream",
     "text": [
      "[1, 2, 3, 4, 5, 6, 7, 8, 9, 10]\n"
     ]
    }
   ],
   "source": [
    "numbers = [0,1,2,3,4,5,6,7,8,9]\n",
    "# for-loop version:\n",
    "numbers_new = []\n",
    "for n in numbers:\n",
    "    numbers_new.append(n+1)\n",
    "print(numbers_new)"
   ]
  },
  {
   "cell_type": "code",
   "execution_count": 3,
   "metadata": {},
   "outputs": [
    {
     "data": {
      "text/plain": [
       "[1, 2, 3, 4, 5, 6, 7, 8, 9, 10]"
      ]
     },
     "execution_count": 3,
     "metadata": {},
     "output_type": "execute_result"
    }
   ],
   "source": [
    "# list comprehension version\n",
    "[n+1 for n in numbers]"
   ]
  },
  {
   "cell_type": "markdown",
   "metadata": {},
   "source": [
    "---\n",
    "\n",
    "### Section 2: List comprehension: Conditional logic\n",
    "\n",
    "##### 2-A) \"Binarize\" `n` so that any value greater than or equal to the mean of `n` is 1, otherwise 0. "
   ]
  },
  {
   "cell_type": "code",
   "execution_count": 4,
   "metadata": {},
   "outputs": [],
   "source": [
    "n = [1, 2, 7, 21, 3, 1, 62, 3, 34, 12, 73, 44, 12, 11, 9]"
   ]
  },
  {
   "cell_type": "code",
   "execution_count": 5,
   "metadata": {},
   "outputs": [
    {
     "name": "stdout",
     "output_type": "stream",
     "text": [
      "[0, 0, 0, 1, 0, 0, 1, 0, 1, 0, 1, 1, 0, 0, 0]\n"
     ]
    }
   ],
   "source": [
    "# for loop\n",
    "n_new = []\n",
    "n_mean = float(sum(n))/len(n)\n",
    "for ni in n:\n",
    "    if ni>=n_mean:\n",
    "        n_new.append(1)\n",
    "    else:\n",
    "        n_new.append(0)\n",
    "print(n_new)"
   ]
  },
  {
   "cell_type": "code",
   "execution_count": 6,
   "metadata": {},
   "outputs": [
    {
     "name": "stdout",
     "output_type": "stream",
     "text": [
      "19.666666666666668\n"
     ]
    },
    {
     "data": {
      "text/plain": [
       "[0, 0, 0, 1, 0, 0, 1, 0, 1, 0, 1, 1, 0, 0, 0]"
      ]
     },
     "execution_count": 6,
     "metadata": {},
     "output_type": "execute_result"
    }
   ],
   "source": [
    "# list comprehension\n",
    "n_mean = float(sum(n))/len(n)\n",
    "print(n_mean)\n",
    "\n",
    "[1 if ni>=n_mean else 0 for ni in n]"
   ]
  },
  {
   "cell_type": "markdown",
   "metadata": {},
   "source": [
    "##### 2-B) Swap 1s to 0s and 0s to 1s. If the element is neither a 0 nor 1, make it `None`."
   ]
  },
  {
   "cell_type": "code",
   "execution_count": 7,
   "metadata": {},
   "outputs": [],
   "source": [
    "n = [0, 1, 0, 1, 2, 3, 5, 2, 1, 0]"
   ]
  },
  {
   "cell_type": "code",
   "execution_count": 8,
   "metadata": {},
   "outputs": [
    {
     "name": "stdout",
     "output_type": "stream",
     "text": [
      "[1, 0, 1, 0, None, None, None, None, 0, 1]\n"
     ]
    }
   ],
   "source": [
    "# for loop\n",
    "# for loop\n",
    "n_new = []\n",
    "for ni in n:\n",
    "    if ni==0:\n",
    "        n_new.append(1)\n",
    "    elif ni==1:\n",
    "        n_new.append(0)\n",
    "    else:\n",
    "        n_new.append(None)\n",
    "print(n_new)"
   ]
  },
  {
   "cell_type": "code",
   "execution_count": 9,
   "metadata": {},
   "outputs": [
    {
     "name": "stdout",
     "output_type": "stream",
     "text": [
      "[1, 0, 1, 0, None, None, None, None, 0, 1]\n"
     ]
    }
   ],
   "source": [
    "# list comprehension\n",
    "print([1 if ni==0 else (0 if ni==1 else None) for ni in n])"
   ]
  },
  {
   "cell_type": "markdown",
   "metadata": {},
   "source": [
    "---\n",
    "\n",
    "### Section 3: Nested list comprehensions\n",
    "\n",
    "##### 3-A) Get the square and square root of all non-negative numbers in the list."
   ]
  },
  {
   "cell_type": "code",
   "execution_count": 10,
   "metadata": {},
   "outputs": [],
   "source": [
    "n = [0, 1, 50, -23, -1, 75, -3]"
   ]
  },
  {
   "cell_type": "code",
   "execution_count": 11,
   "metadata": {},
   "outputs": [],
   "source": [
    "# for loop"
   ]
  },
  {
   "cell_type": "code",
   "execution_count": 12,
   "metadata": {},
   "outputs": [
    {
     "name": "stdout",
     "output_type": "stream",
     "text": [
      "[0, 1, 50, -23, -1, 75, -3]\n",
      "[1, 50, 75]\n",
      "[(1, 1.0), (2500, 7.0710678118654755), (5625, 8.660254037844387)]\n"
     ]
    }
   ],
   "source": [
    "# list comprehension\n",
    "print([ni for ni in n])\n",
    "print([ni for ni in n if ni>0])\n",
    "print([(ni*ni, np.sqrt(ni)) for ni in n if ni>0])"
   ]
  },
  {
   "cell_type": "markdown",
   "metadata": {},
   "source": [
    "---\n",
    "\n",
    "### Section 4: Functions in list comprehensions\n",
    "\n",
    "##### 4-A) Combine elements of these two lists item by item into list pairs."
   ]
  },
  {
   "cell_type": "code",
   "execution_count": 13,
   "metadata": {},
   "outputs": [],
   "source": [
    "a = ['a','b','c','d']\n",
    "z = ['z','y','x','w']"
   ]
  },
  {
   "cell_type": "code",
   "execution_count": 14,
   "metadata": {},
   "outputs": [
    {
     "data": {
      "text/plain": [
       "[('a', 'z'),\n",
       " ('a', 'y'),\n",
       " ('a', 'x'),\n",
       " ('a', 'w'),\n",
       " ('b', 'z'),\n",
       " ('b', 'y'),\n",
       " ('b', 'x'),\n",
       " ('b', 'w'),\n",
       " ('c', 'z'),\n",
       " ('c', 'y'),\n",
       " ('c', 'x'),\n",
       " ('c', 'w'),\n",
       " ('d', 'z'),\n",
       " ('d', 'y'),\n",
       " ('d', 'x'),\n",
       " ('d', 'w')]"
      ]
     },
     "execution_count": 14,
     "metadata": {},
     "output_type": "execute_result"
    }
   ],
   "source": [
    "# for loop\n",
    "tuples = []\n",
    "for ai in a:\n",
    "    for zi in z:\n",
    "        tuples.append((ai,zi))\n",
    "tuples"
   ]
  },
  {
   "cell_type": "code",
   "execution_count": 15,
   "metadata": {},
   "outputs": [
    {
     "data": {
      "text/plain": [
       "[('a', 'z'),\n",
       " ('b', 'z'),\n",
       " ('c', 'z'),\n",
       " ('d', 'z'),\n",
       " ('a', 'y'),\n",
       " ('b', 'y'),\n",
       " ('c', 'y'),\n",
       " ('d', 'y'),\n",
       " ('a', 'x'),\n",
       " ('b', 'x'),\n",
       " ('c', 'x'),\n",
       " ('d', 'x'),\n",
       " ('a', 'w'),\n",
       " ('b', 'w'),\n",
       " ('c', 'w'),\n",
       " ('d', 'w')]"
      ]
     },
     "execution_count": 15,
     "metadata": {},
     "output_type": "execute_result"
    }
   ],
   "source": [
    "[(ai,zi) for zi in z for ai in a]"
   ]
  },
  {
   "cell_type": "code",
   "execution_count": 16,
   "metadata": {},
   "outputs": [
    {
     "name": "stdout",
     "output_type": "stream",
     "text": [
      "[('a', 'z'), ('b', 'y'), ('c', 'x'), ('d', 'w')]\n"
     ]
    }
   ],
   "source": [
    "# list comprehension version:\n",
    "\n",
    "print([(ai,bi) for ai,bi in zip(a,z)])"
   ]
  },
  {
   "cell_type": "markdown",
   "metadata": {},
   "source": [
    "##### 4-B) Pair each index and element in this list into list pairs."
   ]
  },
  {
   "cell_type": "code",
   "execution_count": 17,
   "metadata": {},
   "outputs": [],
   "source": [
    "a = ['a','b','c','d']"
   ]
  },
  {
   "cell_type": "code",
   "execution_count": 18,
   "metadata": {},
   "outputs": [
    {
     "name": "stdout",
     "output_type": "stream",
     "text": [
      "[(0, 'a'), (1, 'b'), (2, 'c'), (3, 'd')]\n"
     ]
    }
   ],
   "source": [
    "# list comprehension\n",
    "\n",
    "print([(i,e) for i,e in enumerate(a)])"
   ]
  },
  {
   "cell_type": "markdown",
   "metadata": {},
   "source": [
    "##### 4-C)  Multiply each element in `list_one` by its index and divide by its counterpart in `list_two`."
   ]
  },
  {
   "cell_type": "code",
   "execution_count": 19,
   "metadata": {},
   "outputs": [],
   "source": [
    "list_one = [10, 15, 20, 25, 40]\n",
    "list_two = [1, 2, 3, 4, 5]"
   ]
  },
  {
   "cell_type": "code",
   "execution_count": 20,
   "metadata": {},
   "outputs": [
    {
     "data": {
      "text/plain": [
       "[0.0, 7.5, 13.333333333333334, 18.75, 32.0]"
      ]
     },
     "execution_count": 20,
     "metadata": {},
     "output_type": "execute_result"
    }
   ],
   "source": [
    "# list comprehension\n",
    "[(element*i)/list_two[i] for (i,element) in enumerate(list_one)]"
   ]
  },
  {
   "cell_type": "markdown",
   "metadata": {},
   "source": [
    "---\n",
    "\n",
    "### Section 5: Nested list comprehensions\n",
    "\n",
    "##### 5-A) Create all the alphabet \"syllables\" defined as consonant-vowel pairs in a flattened list [use `for` loop iteration]."
   ]
  },
  {
   "cell_type": "code",
   "execution_count": 22,
   "metadata": {},
   "outputs": [
    {
     "name": "stdout",
     "output_type": "stream",
     "text": [
      "abcdefghijklmnopqrstuvwxyz\n"
     ]
    }
   ],
   "source": [
    "import string\n",
    "vowels = ['a', 'e', 'i', 'o', 'u']\n",
    "alphabet = string.ascii_lowercase\n",
    "print(alphabet)\n",
    "\n",
    "# for example:\n",
    "# ['ba','be','bi','bo','bu','ca','ce','ci', ...etc]"
   ]
  },
  {
   "cell_type": "code",
   "execution_count": 23,
   "metadata": {},
   "outputs": [
    {
     "name": "stdout",
     "output_type": "stream",
     "text": [
      "['b', 'c', 'd', 'f', 'g', 'h', 'j', 'k', 'l', 'm', 'n', 'p', 'q', 'r', 's', 't', 'v', 'w', 'x', 'y', 'z']\n"
     ]
    }
   ],
   "source": [
    "consonants = [l for l in alphabet if l not in vowels]\n",
    "print(consonants)"
   ]
  },
  {
   "cell_type": "code",
   "execution_count": null,
   "metadata": {},
   "outputs": [],
   "source": [
    "# solution with for loop"
   ]
  },
  {
   "cell_type": "markdown",
   "metadata": {},
   "source": [
    "##### 5-B) Create all the alphabet \"syllables\" defined as consonant-vowel pairs in a flattened list [using list comprehension]."
   ]
  },
  {
   "cell_type": "code",
   "execution_count": 24,
   "metadata": {},
   "outputs": [
    {
     "data": {
      "text/plain": [
       "['ba',\n",
       " 'ca',\n",
       " 'da',\n",
       " 'fa',\n",
       " 'ga',\n",
       " 'ha',\n",
       " 'ja',\n",
       " 'ka',\n",
       " 'la',\n",
       " 'ma',\n",
       " 'na',\n",
       " 'pa',\n",
       " 'qa',\n",
       " 'ra',\n",
       " 'sa',\n",
       " 'ta',\n",
       " 'va',\n",
       " 'wa',\n",
       " 'xa',\n",
       " 'ya',\n",
       " 'za',\n",
       " 'be',\n",
       " 'ce',\n",
       " 'de',\n",
       " 'fe',\n",
       " 'ge',\n",
       " 'he',\n",
       " 'je',\n",
       " 'ke',\n",
       " 'le',\n",
       " 'me',\n",
       " 'ne',\n",
       " 'pe',\n",
       " 'qe',\n",
       " 're',\n",
       " 'se',\n",
       " 'te',\n",
       " 've',\n",
       " 'we',\n",
       " 'xe',\n",
       " 'ye',\n",
       " 'ze',\n",
       " 'bi',\n",
       " 'ci',\n",
       " 'di',\n",
       " 'fi',\n",
       " 'gi',\n",
       " 'hi',\n",
       " 'ji',\n",
       " 'ki',\n",
       " 'li',\n",
       " 'mi',\n",
       " 'ni',\n",
       " 'pi',\n",
       " 'qi',\n",
       " 'ri',\n",
       " 'si',\n",
       " 'ti',\n",
       " 'vi',\n",
       " 'wi',\n",
       " 'xi',\n",
       " 'yi',\n",
       " 'zi',\n",
       " 'bo',\n",
       " 'co',\n",
       " 'do',\n",
       " 'fo',\n",
       " 'go',\n",
       " 'ho',\n",
       " 'jo',\n",
       " 'ko',\n",
       " 'lo',\n",
       " 'mo',\n",
       " 'no',\n",
       " 'po',\n",
       " 'qo',\n",
       " 'ro',\n",
       " 'so',\n",
       " 'to',\n",
       " 'vo',\n",
       " 'wo',\n",
       " 'xo',\n",
       " 'yo',\n",
       " 'zo',\n",
       " 'bu',\n",
       " 'cu',\n",
       " 'du',\n",
       " 'fu',\n",
       " 'gu',\n",
       " 'hu',\n",
       " 'ju',\n",
       " 'ku',\n",
       " 'lu',\n",
       " 'mu',\n",
       " 'nu',\n",
       " 'pu',\n",
       " 'qu',\n",
       " 'ru',\n",
       " 'su',\n",
       " 'tu',\n",
       " 'vu',\n",
       " 'wu',\n",
       " 'xu',\n",
       " 'yu',\n",
       " 'zu']"
      ]
     },
     "execution_count": 24,
     "metadata": {},
     "output_type": "execute_result"
    }
   ],
   "source": [
    "[c+v for v in vowels for c in consonants]"
   ]
  },
  {
   "cell_type": "markdown",
   "metadata": {},
   "source": [
    "---\n",
    "\n",
    "### Section 6: Dictionary comprehensions\n",
    "\n",
    "##### 6-A) Make a dictionary in which keys are animals and values are lists, storing the [ASCII](http://www.asciitable.com/) number value of each character in the key.\n",
    "\n",
    "Hint: Use the **`ord()`** function to convert characters into their ASCII values."
   ]
  },
  {
   "cell_type": "code",
   "execution_count": 25,
   "metadata": {},
   "outputs": [],
   "source": [
    "keys = ['dog', 'cat', 'bird', 'horse']"
   ]
  },
  {
   "cell_type": "code",
   "execution_count": 26,
   "metadata": {},
   "outputs": [
    {
     "data": {
      "text/plain": [
       "97"
      ]
     },
     "execution_count": 26,
     "metadata": {},
     "output_type": "execute_result"
    }
   ],
   "source": [
    "ord('a')"
   ]
  },
  {
   "cell_type": "code",
   "execution_count": 27,
   "metadata": {},
   "outputs": [
    {
     "data": {
      "text/plain": [
       "[97, 32, 110, 105, 99, 101, 32, 115, 116, 114, 105, 110, 103]"
      ]
     },
     "execution_count": 27,
     "metadata": {},
     "output_type": "execute_result"
    }
   ],
   "source": [
    "[ord(c) for c in 'a nice string']"
   ]
  },
  {
   "cell_type": "code",
   "execution_count": 28,
   "metadata": {},
   "outputs": [
    {
     "data": {
      "text/plain": [
       "[[100, 111, 103],\n",
       " [99, 97, 116],\n",
       " [98, 105, 114, 100],\n",
       " [104, 111, 114, 115, 101]]"
      ]
     },
     "execution_count": 28,
     "metadata": {},
     "output_type": "execute_result"
    }
   ],
   "source": [
    "[[ord(c) for c in k] for k in keys]"
   ]
  },
  {
   "cell_type": "code",
   "execution_count": 29,
   "metadata": {},
   "outputs": [
    {
     "data": {
      "text/plain": [
       "[('dog', [100, 111, 103]),\n",
       " ('cat', [99, 97, 116]),\n",
       " ('bird', [98, 105, 114, 100]),\n",
       " ('horse', [104, 111, 114, 115, 101])]"
      ]
     },
     "execution_count": 29,
     "metadata": {},
     "output_type": "execute_result"
    }
   ],
   "source": [
    "[(k,[ord(c) for c in k]) for k in keys]"
   ]
  },
  {
   "cell_type": "code",
   "execution_count": 30,
   "metadata": {},
   "outputs": [
    {
     "data": {
      "text/plain": [
       "{'dog': [100, 111, 103],\n",
       " 'cat': [99, 97, 116],\n",
       " 'bird': [98, 105, 114, 100],\n",
       " 'horse': [104, 111, 114, 115, 101]}"
      ]
     },
     "execution_count": 30,
     "metadata": {},
     "output_type": "execute_result"
    }
   ],
   "source": [
    "dict([(k,[ord(c) for c in k]) for k in keys])"
   ]
  },
  {
   "cell_type": "code",
   "execution_count": 31,
   "metadata": {},
   "outputs": [
    {
     "data": {
      "text/plain": [
       "{'dog': [100, 111, 103],\n",
       " 'cat': [99, 97, 116],\n",
       " 'bird': [98, 105, 114, 100],\n",
       " 'horse': [104, 111, 114, 115, 101]}"
      ]
     },
     "execution_count": 31,
     "metadata": {},
     "output_type": "execute_result"
    }
   ],
   "source": [
    "{k:[ord(c) for c in k] for k in keys}"
   ]
  },
  {
   "cell_type": "markdown",
   "metadata": {},
   "source": [
    "##### 6-B) Create a dictionary with these column names and the corresponding column values."
   ]
  },
  {
   "cell_type": "code",
   "execution_count": 32,
   "metadata": {},
   "outputs": [],
   "source": [
    "column_names = ['height','weight','is_male']\n",
    "values = [[62, 54, 60, 50], \n",
    "          [180, 120, 200, 100], \n",
    "          [True, False, True, False]]"
   ]
  },
  {
   "cell_type": "code",
   "execution_count": 33,
   "metadata": {},
   "outputs": [
    {
     "name": "stdout",
     "output_type": "stream",
     "text": [
      "0 height\n",
      "1 weight\n",
      "2 is_male\n"
     ]
    }
   ],
   "source": [
    "for i,c in enumerate(column_names):\n",
    "    print(i,c)"
   ]
  },
  {
   "cell_type": "code",
   "execution_count": 34,
   "metadata": {},
   "outputs": [
    {
     "data": {
      "text/plain": [
       "[(0, 'height'), (1, 'weight'), (2, 'is_male')]"
      ]
     },
     "execution_count": 34,
     "metadata": {},
     "output_type": "execute_result"
    }
   ],
   "source": [
    "[(i,c) for i,c in enumerate(column_names)]"
   ]
  },
  {
   "cell_type": "code",
   "execution_count": 36,
   "metadata": {},
   "outputs": [
    {
     "data": {
      "text/plain": [
       "{'height': [62, 54, 60, 50],\n",
       " 'weight': [180, 120, 200, 100],\n",
       " 'is_male': [True, False, True, False]}"
      ]
     },
     "execution_count": 36,
     "metadata": {},
     "output_type": "execute_result"
    }
   ],
   "source": [
    "# Solution 1 - \"official\" one\n",
    "{c:values[i] for i,c in enumerate(column_names)}"
   ]
  },
  {
   "cell_type": "code",
   "execution_count": 40,
   "metadata": {},
   "outputs": [
    {
     "data": {
      "text/plain": [
       "{'height': [62, 54, 60, 50],\n",
       " 'is_male': [True, False, True, False],\n",
       " 'weight': [180, 120, 200, 100]}"
      ]
     },
     "execution_count": 40,
     "metadata": {},
     "output_type": "execute_result"
    }
   ],
   "source": [
    "# Solution 2 - workaround\n",
    "dict([(c,values[i]) for i,c in enumerate(column_names)])"
   ]
  }
 ],
 "metadata": {
  "kernelspec": {
   "display_name": "Python 3",
   "language": "python",
   "name": "python3"
  },
  "language_info": {
   "codemirror_mode": {
    "name": "ipython",
    "version": 3
   },
   "file_extension": ".py",
   "mimetype": "text/x-python",
   "name": "python",
   "nbconvert_exporter": "python",
   "pygments_lexer": "ipython3",
   "version": "3.6.6"
  }
 },
 "nbformat": 4,
 "nbformat_minor": 1
}
