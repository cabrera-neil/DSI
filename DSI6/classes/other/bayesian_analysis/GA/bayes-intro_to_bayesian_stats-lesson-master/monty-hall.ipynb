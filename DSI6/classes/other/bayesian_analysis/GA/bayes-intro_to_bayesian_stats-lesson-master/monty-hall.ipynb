{
 "cells": [
  {
   "cell_type": "markdown",
   "metadata": {},
   "source": [
    "<img src=\"http://imgur.com/1ZcRyrc.png\" style=\"float: left; margin: 20px; height: 55px\">\n",
    "\n",
    "# Monty Hall\n",
    "\n",
    "_Authors: Matt Brems (DC)_\n",
    "\n",
    "---\n",
    "\n",
    "The \"Monty Hall Problem” is a famous statistical problem based on the game show \"Let's Make a Deal.\" (Monty Hall was the show’s original host.) \n",
    "\n",
    "If you haven't heard of this game show, no worries. We’ll break down the basics below.\n",
    "\n",
    "\"Let's Make a Deal\" features three doors labeled \"A,\" \"B,\" and \"C.\" As the contestant, you are told that, behind exactly one door, there’s a new car. Behind the other two doors are goats. Your goal is to select the door with the car behind it.\n",
    "\n",
    "The game goes as follows:\n",
    "\n",
    "1) You select a door.\n",
    "2) The game show host, knowing which door hides the car, opens one of the doors you didn’t select to reveal a goat. (Important: If you selected a door with a goat, the host picks the other door with a goat. If you started by selecting the door with the car, the host picks from the remaining two doors at random.)\n",
    "3) The host then asks you if you would like to stick with the door you originally picked or switch to the other remaining door."
   ]
  },
  {
   "cell_type": "markdown",
   "metadata": {},
   "source": [
    "### Question 1\n",
    "Suppose you pick a door. The host opens one of the remaining doors. You are then asked to either stick with your original choice or switch to the other remaining door. Based on your intuition, is it more advantageous to stick with your original choice, to switch to the remaining door, or does your probability of success not change?"
   ]
  },
  {
   "cell_type": "code",
   "execution_count": null,
   "metadata": {
    "collapsed": true
   },
   "outputs": [],
   "source": [
    "# A:"
   ]
  },
  {
   "cell_type": "markdown",
   "metadata": {},
   "source": [
    "Now, let's apply some Bayesian reasoning to this problem. Recall that the formula for Bayes' theorem — as applied to some data, $y$, and an unknown parameter, $\\theta$ — is:\n",
    "\n",
    "$$P(\\theta|y) = \\frac{P(y|\\theta)P(\\theta)}{P(y)} = \\frac{P(y|\\theta)P(\\theta)}{\\sum_{i=1}^nP(y|\\theta_i)P(\\theta_i)}$$\n",
    "\n",
    "Further recall that:\n",
    "\n",
    "- $P(\\theta)$ is the **prior probability** of $\\theta$.\n",
    "- $P(y|\\theta)$ is the **likelihood** of our data, $y$, given $\\theta$.\n",
    "- $P(y)$ is the **marginal likelihood** of our data, $y$.\n",
    "\n",
    "Our strategy here will be to find $P(\\theta|y)$ for $\\theta=A,B,C$ and decide which probability is highest."
   ]
  },
  {
   "cell_type": "markdown",
   "metadata": {},
   "source": [
    "For these scenarios, the data, $y$, represents that the host selects door B *and* that door B does not contain the car."
   ]
  },
  {
   "cell_type": "markdown",
   "metadata": {},
   "source": [
    "### Question 2\n",
    "\n",
    "Suppose you pick door A. The host opens door B to reveal a goat.\n",
    "\n",
    "For $P(\\theta=A|y=B)$, identify the prior, $P(\\theta=A)$, the likelihood, $P(y=B|\\theta=A)$, and the marginal likelihood, $P(y=B)$. Then, calculate the posterior, $P(\\theta=A|y=B)$."
   ]
  },
  {
   "cell_type": "code",
   "execution_count": null,
   "metadata": {
    "collapsed": true
   },
   "outputs": [],
   "source": [
    "## Answer 2:\n",
    "\n",
    "## Our prior, P(theta=A), is 1/3.\n",
    "\n",
    "## Our likelihood, P(y=B|theta=A), is 1/2. (We know that if the car is behind door A and we select door A, the host will\n",
    "## randomly select either door B or C to open. Opening B occurs with the probability 1/2.)\n",
    "\n",
    "## Our marginal likelihood, P(y=B), given by the law of total probability, is:\n",
    "## P(y=B) = P(y=B|theta=A)P(theta=A) + P(y=B|theta=B)P(theta=B) + P(y=B|theta=C)P(theta=C)\n",
    "##        =          1/2 * 1/3       +            0 * 1/3       +            1 * 1/3\n",
    "##        =             1/6          +              0           +             1/3 \n",
    "##        = 1/2\n",
    "\n",
    "## Our posterior, P(theta=A|y=B) = likelihood * prior / marginal_likelihood\n",
    "##                              =     1/2    *  1/3  /    1/2\n",
    "##                              = 1/3"
   ]
  },
  {
   "cell_type": "markdown",
   "metadata": {},
   "source": [
    "### Question 3\n",
    "Is this surprising? Why or why not?"
   ]
  },
  {
   "cell_type": "code",
   "execution_count": null,
   "metadata": {
    "collapsed": true
   },
   "outputs": [],
   "source": [
    "## Answer 3: Not really. We had three choices at the beginning. We selected a door when each door was equally likely\n",
    "## and we never changed what we did. It makes sense that P(theta=A|y=B) is still 1/3."
   ]
  },
  {
   "cell_type": "markdown",
   "metadata": {},
   "source": [
    "### Question 4\n",
    "Suppose you pick door A. The host opens door B to reveal a goat.\n",
    "\n",
    "For $P(\\theta=B|y=B)$, identify the prior, $P(\\theta=B)$, the likelihood, $P(y=B|\\theta=B)$, and the marginal likelihood, $P(y=B)$. Then, calculate the posterior, $P(\\theta=B|y=B)$."
   ]
  },
  {
   "cell_type": "code",
   "execution_count": null,
   "metadata": {
    "collapsed": true
   },
   "outputs": [],
   "source": [
    "## Answer 4:\n",
    "\n",
    "## Our prior, P(theta=B), is 1/3.\n",
    "\n",
    "## Our likelihood, P(y=B|theta=B), is zero. (We know that if the car is behind door B, the host will never open door B.)\n",
    "\n",
    "## Our marginal likelihood, P(y=B), given by the law of total probability, is:\n",
    "## P(y=B) = P(y=B|theta=A)P(theta=A) + P(y=B|theta=B)P(theta=B) + P(y=B|theta=C)P(theta=C)\n",
    "##        =          1/2 * 1/3       +            0 * 1/3       +            1 * 1/3\n",
    "##        =             1/6          +              0           +             1/3 \n",
    "##        = 1/2\n",
    "\n",
    "## Our posterior, P(theta=B|y=B) = likelihood * prior / marginal_likelihood\n",
    "##                              =     0      *  1/3  /    1/2\n",
    "##                              = 0"
   ]
  },
  {
   "cell_type": "markdown",
   "metadata": {},
   "source": [
    "### Question 5\n",
    "Is this surprising? Why or why not?"
   ]
  },
  {
   "cell_type": "code",
   "execution_count": null,
   "metadata": {
    "collapsed": true
   },
   "outputs": [],
   "source": [
    "## Answer 5: This isn’t very surprising either. Given that we know door B is opened and there is a goat behind\n",
    "## it, the probability that the car is behind door B is zero."
   ]
  },
  {
   "cell_type": "markdown",
   "metadata": {},
   "source": [
    "### Question 6\n",
    "Suppose you pick door A. The host opens door B to reveal a goat.\n",
    "\n",
    "For $P(\\theta=C|y)$, identify the prior, $P(\\theta=C)$, the likelihood, $P(y|\\theta=C)$, and the marginal likelihood, $P(y)$. Then, calculate the posterior, $P(\\theta=C|y)$."
   ]
  },
  {
   "cell_type": "code",
   "execution_count": null,
   "metadata": {
    "collapsed": true
   },
   "outputs": [],
   "source": [
    "## Answer 6:\n",
    "\n",
    "## Our prior, P(theta=C), is 1/3.\n",
    "\n",
    "## Our likelihood, P(y=B|theta=C), is one. (We know that if we have selected door A, the host will not open door A. \n",
    "## Because the host knows that door C contains the car, the host will not open door C. Therefore, the probability\n",
    "## that the host opens door B is one.)\n",
    "\n",
    "## Our marginal likelihood, P(y=B), given by the law of total probability, is:\n",
    "## P(y=B) = P(y=B|theta=A)P(theta=A) + P(y=B|theta=B)P(theta=B) + P(y=B|theta=C)P(theta=C)\n",
    "##        =          1/2 * 1/3       +            0 * 1/3       +            1 * 1/3\n",
    "##        =             1/6          +              0           +             1/3 \n",
    "##        = 1/2\n",
    "\n",
    "## Our posterior, P(theta=A|y=B) = likelihood * prior / marginal_likelihood\n",
    "##                              =     1    *  1/3  /    1/2\n",
    "##                              = 2/3"
   ]
  },
  {
   "cell_type": "markdown",
   "metadata": {},
   "source": [
    "### Question 7\n",
    "Is this surprising? Why or why not?"
   ]
  },
  {
   "cell_type": "code",
   "execution_count": null,
   "metadata": {
    "collapsed": true
   },
   "outputs": [],
   "source": [
    "## Answer 7: This is the most surprising result we've seen. It implies that, if we pick a door and then switch after\n",
    "## seeing another door open, the probability of selecting the right door increases from 1/3 to 2/3. It is, based on\n",
    "## this information, always in our best interest to switch."
   ]
  },
  {
   "cell_type": "markdown",
   "metadata": {},
   "source": [
    "### Question 8\n",
    "Build a function called `lets_make_a_deal()` that runs the \"Let's Make a Deal\" game by taking:\n",
    "- `'A'`, `'B'`, or `'C'` as the input for the door.\n",
    "- `'K'` or `'S'` as the input indicating \"keep\" or \"switch\" when asked.\n",
    "\n",
    "The function should return:\n",
    "- `'win'` if the contestant won.\n",
    "- `'lose'` if the contestant lost.\n",
    "\n",
    "Note: You'll need to make sure that, before anything else, the computer selects a random entry."
   ]
  },
  {
   "cell_type": "code",
   "execution_count": 1,
   "metadata": {
    "collapsed": true
   },
   "outputs": [],
   "source": [
    "## Answer 8:\n",
    "\n",
    "import random ## Allows us to randomly select which door will have the car at the beginning.\n",
    "\n",
    "def lets_make_a_deal(door,choice):\n",
    "    doors = ['A','B','C'] ## Set up our possible doors.\n",
    "    choices = ['K','S'] ## Set up our possible choices: K = keep and S = switch.\n",
    "    car = random.choice(doors) ## Selects which door will have the car.\n",
    "    if door in doors and choice in choices: ## Ensures our inputs are valid.\n",
    "        if door == car and choice == 'K': ## Chose correctly on first guess and kept first guess --> win.\n",
    "            return \"win\"\n",
    "        elif door != car and choice == 'S': ## Chose incorrectly on first guess, then switched to remaining option --> win.\n",
    "            return \"win\"\n",
    "        else: ## Chose correctly, then switched OR chose incorrectly, then kept --> lose.\n",
    "            return \"lose\"\n",
    "    else: ## If the inputs are invalid, try again.\n",
    "        return \"Try again.\""
   ]
  },
  {
   "cell_type": "markdown",
   "metadata": {},
   "source": [
    "### Question 9\n",
    "Simulate 10,000 games where the contestant always switches. Report your results."
   ]
  },
  {
   "cell_type": "code",
   "execution_count": 2,
   "metadata": {
    "collapsed": false
   },
   "outputs": [
    {
     "data": {
      "text/plain": [
       "Counter({'lose': 3329, 'win': 6671})"
      ]
     },
     "execution_count": 2,
     "metadata": {},
     "output_type": "execute_result"
    }
   ],
   "source": [
    "## Answer 9:\n",
    "\n",
    "results = [] ## Set up an empty list named \"results.\"\n",
    "for i in range(10000): ## 10,000 games.\n",
    "    results.append(lets_make_a_deal(random.choice(['A','B','C']),'S')) ## Append the outcome of the game to list \"results.\"\n",
    "    ## Note that we are randomly selecting 'A,' 'B,' or 'C.' You're welcome to try these results for just manually\n",
    "    ## selecting one option to be chosen for each attempt.\n",
    "\n",
    "from collections import Counter ## Allows us to use the Counter() function below.\n",
    "Counter(results) ## Prints dictionary summarizing the list \"results.\""
   ]
  },
  {
   "cell_type": "code",
   "execution_count": 3,
   "metadata": {
    "collapsed": false
   },
   "outputs": [
    {
     "name": "stdout",
     "output_type": "stream",
     "text": [
      "By always switching, we won 66.71 % of our simulations.\n"
     ]
    }
   ],
   "source": [
    "print(\"By always switching, we won\",100*float(results.count(\"win\"))/len(results),\"% of our simulations.\")"
   ]
  }
 ],
 "metadata": {
  "anaconda-cloud": {},
  "kernelspec": {
   "display_name": "Python 2",
   "language": "python",
   "name": "python2"
  },
  "language_info": {
   "codemirror_mode": {
    "name": "ipython",
    "version": 2
   },
   "file_extension": ".py",
   "mimetype": "text/x-python",
   "name": "python",
   "nbconvert_exporter": "python",
   "pygments_lexer": "ipython2",
   "version": "2.7.13"
  }
 },
 "nbformat": 4,
 "nbformat_minor": 1
}
