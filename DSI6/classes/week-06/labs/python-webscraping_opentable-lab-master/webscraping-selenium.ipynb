{
 "cells": [
  {
   "cell_type": "markdown",
   "metadata": {
    "collapsed": true
   },
   "source": [
    "<img src=\"http://imgur.com/1ZcRyrc.png\" style=\"float: left; margin: 20px; height: 55px\">\n",
    "\n",
    "# Web Scraping OpenTable With Selenium: Guided Lab\n",
    "\n",
    "_Authors: Joseph Nelson (DC)_\n",
    "\n",
    "---\n",
    "\n",
    "> *Note: This is intended to be an instructor-guided lab.*\n",
    "\n",
    "\n",
    "In today's code-along lab, we'll build a scraper using urllib and Beautiful Soup. We'll also remedy some of the pitfalls of automated scraping by using a \"headless\" browser called Selenium.\n",
    "\n",
    "You'll be scraping OpenTable's Washington, D.C. listings. We're interested in knowing the restaurants' **name, location, price, and how many people booked it that day.**\n",
    "\n",
    "OpenTable provides all of this information on this page: http://www.opentable.com/washington-dc-restaurant-listings."
   ]
  },
  {
   "cell_type": "markdown",
   "metadata": {},
   "source": [
    "### 1) Inspect the elements of this page to confirm we can find all of the information we're interested in."
   ]
  },
  {
   "cell_type": "markdown",
   "metadata": {},
   "source": [
    "### 2) Use `urllib` and `BeautifulSoup` to read the contents of the HTML."
   ]
  },
  {
   "cell_type": "code",
   "execution_count": 1,
   "metadata": {
    "collapsed": true,
    "scrolled": true
   },
   "outputs": [],
   "source": [
    "from bs4 import BeautifulSoup\n",
    "import urllib"
   ]
  },
  {
   "cell_type": "code",
   "execution_count": 2,
   "metadata": {
    "collapsed": true
   },
   "outputs": [],
   "source": [
    "# Set the URL we want to visit.\n",
    "url = \"http://www.opentable.com/washington-dc-restaurant-listings\"\n",
    "\n",
    "# A:"
   ]
  },
  {
   "cell_type": "markdown",
   "metadata": {},
   "source": [
    "### 3) Print out a fraction of the HTML. What's in it?"
   ]
  },
  {
   "cell_type": "code",
   "execution_count": 1,
   "metadata": {
    "collapsed": true
   },
   "outputs": [],
   "source": [
    "# A:"
   ]
  },
  {
   "cell_type": "markdown",
   "metadata": {},
   "source": [
    "### 4) Use Beautiful Soup to convert the raw HTML into a soup object."
   ]
  },
  {
   "cell_type": "code",
   "execution_count": null,
   "metadata": {
    "collapsed": true
   },
   "outputs": [],
   "source": [
    "# A:"
   ]
  },
  {
   "cell_type": "markdown",
   "metadata": {},
   "source": [
    "### 5) Extract the name of each restaurant.\n",
    "\n",
    "First, let's find each restaurant name listed on the page we've loaded. How do we find each restaurant's location on the page? \n",
    "\n",
    "> *Hint: We need to know where the restaurant element is housed in the **HTML**.*\n",
    "\n",
    "**5.A) See if you can find the restaurant name. Keep in mind that there are many restaurants loaded on the page.**"
   ]
  },
  {
   "cell_type": "code",
   "execution_count": null,
   "metadata": {
    "collapsed": true
   },
   "outputs": [],
   "source": [
    "# A:"
   ]
  },
  {
   "cell_type": "markdown",
   "metadata": {},
   "source": [
    "**5.B) Create a list of _only_ the restaurant names (no tags).**\n"
   ]
  },
  {
   "cell_type": "code",
   "execution_count": null,
   "metadata": {
    "collapsed": true
   },
   "outputs": [],
   "source": [
    "# A:"
   ]
  },
  {
   "cell_type": "markdown",
   "metadata": {},
   "source": [
    "### 6) Repeat this process for location.\n",
    "\n",
    "For example, barmini by Jose Andres is located in \"Penn Quarter,\" as listed in our search results."
   ]
  },
  {
   "cell_type": "code",
   "execution_count": null,
   "metadata": {
    "collapsed": true
   },
   "outputs": [],
   "source": [
    "# A:"
   ]
  },
  {
   "cell_type": "markdown",
   "metadata": {},
   "source": [
    "### 7) Get the price for each restaurant.\n",
    "\n",
    "The price is the number of dollar signs on a scale of one to four for each restaurant. We'll follow the same process we used for restaurant name and location."
   ]
  },
  {
   "cell_type": "code",
   "execution_count": null,
   "metadata": {
    "collapsed": true
   },
   "outputs": [],
   "source": [
    "# A:"
   ]
  },
  {
   "cell_type": "markdown",
   "metadata": {},
   "source": [
    "**7.B) Convert the dollar sign strings to a count of the number of dollar signs.**\n",
    "\n",
    "Can you figure out a way to print out the number of dollar signs per restaurant listed?"
   ]
  },
  {
   "cell_type": "code",
   "execution_count": null,
   "metadata": {
    "collapsed": true
   },
   "outputs": [],
   "source": [
    "# A:"
   ]
  },
  {
   "cell_type": "markdown",
   "metadata": {},
   "source": [
    "### 8) Can you find the number of times a restaurant was booked?\n",
    "\n",
    "In the next cell, print out a sample of objects that contain the number of times a restaurant was booked.\n",
    "\n",
    "> *Note: If you can't, why do you think this happens?*"
   ]
  },
  {
   "cell_type": "code",
   "execution_count": null,
   "metadata": {
    "collapsed": true
   },
   "outputs": [],
   "source": [
    "# A:"
   ]
  },
  {
   "cell_type": "markdown",
   "metadata": {},
   "source": [
    "## Enter: Selenium\n",
    "\n",
    "---\n",
    "\n",
    "Selenium is a headless browser. That means it enables us to mock human-browsing behavior — it even waits for JavaScript elements to load.\n",
    "\n",
    "If you don't already have Selenium installed, you can do so via pip. Simply run `pip install selenium`."
   ]
  },
  {
   "cell_type": "code",
   "execution_count": 19,
   "metadata": {
    "collapsed": true
   },
   "outputs": [],
   "source": [
    "# Import:\n",
    "from selenium import webdriver"
   ]
  },
  {
   "cell_type": "markdown",
   "metadata": {},
   "source": [
    "To run, Selenium requires us to determine a default browser. We're going to opt for Firefox, but Chromium is also a very common choice.\n",
    "\n",
    "http://selenium-python.readthedocs.io/faq.html"
   ]
  },
  {
   "cell_type": "markdown",
   "metadata": {
    "collapsed": true
   },
   "source": [
    "### 9) What's going to happen when we run the next cell?\n",
    "\n",
    "The ChromeDriver has been provided in the \"chromedriver\" folder, so don't worry about downloading another one."
   ]
  },
  {
   "cell_type": "code",
   "execution_count": null,
   "metadata": {},
   "outputs": [],
   "source": [
    "# NOTE: YOU MAY NEED TO  RUN THIS\n",
    "\n",
    "import os\n",
    "from selenium import webdriver\n",
    "\n",
    "\n",
    "#CHANGE THIS WITH THE RIGHT PATH!\n",
    "chromedriver = \"/Users/edoardo/classes/week-06/labs/python-webscraping_opentable-lab-master/chromedriver/chromedriver\"\n",
    "os.environ[\"webdriver.chrome.driver\"] = chromedriver"
   ]
  },
  {
   "cell_type": "code",
   "execution_count": 23,
   "metadata": {
    "collapsed": true
   },
   "outputs": [],
   "source": [
    "# Create a driver called \"driver.\"\n",
    "driver = webdriver.Chrome(executable_path=\"../chromedriver/chromedriver\")"
   ]
  },
  {
   "cell_type": "markdown",
   "metadata": {},
   "source": [
    "Pretty crazy, right? Now let's close that driver. \n",
    "\n",
    "This should have opened up a new browser window. If you didn't see it pop up automatically, check all of your desktop displays. "
   ]
  },
  {
   "cell_type": "code",
   "execution_count": 26,
   "metadata": {
    "collapsed": true
   },
   "outputs": [],
   "source": [
    "# Close it.\n",
    "driver.close()"
   ]
  },
  {
   "cell_type": "markdown",
   "metadata": {},
   "source": [
    "### 10) Use the driver to visit `www.python.org`."
   ]
  },
  {
   "cell_type": "code",
   "execution_count": null,
   "metadata": {
    "collapsed": true
   },
   "outputs": [],
   "source": [
    "# A:"
   ]
  },
  {
   "cell_type": "markdown",
   "metadata": {},
   "source": [
    "### 11) Visit the OpenTable page using the driver.\n",
    "\n",
    "Let's return to the problem at hand. We need to visit the OpenTable listings for DC. Once there, we need the HTML to load. \n",
    "\n",
    "In the next cell, prove you can programmatically visit the page."
   ]
  },
  {
   "cell_type": "code",
   "execution_count": null,
   "metadata": {
    "collapsed": true
   },
   "outputs": [],
   "source": [
    "# A:"
   ]
  },
  {
   "cell_type": "markdown",
   "metadata": {},
   "source": [
    "### 12) Resolve the JavaScript issue using the driver and find the bookings.\n",
    "\n",
    "What we can do in this case is:\n",
    "\n",
    "1) Request that the page load.\n",
    "2) Wait one second.\n",
    "3) Grab the source HTML from the page.\n",
    "\n",
    "The page should believe we're visiting from a live connection on a browser client, so the JavaScript should render to be part of the page source. We can then grab the page source.\n",
    "\n",
    "**Once you have the HTML with the JavaScript rendered, repeat the processes above to find the bookings.**"
   ]
  },
  {
   "cell_type": "code",
   "execution_count": 28,
   "metadata": {
    "collapsed": true
   },
   "outputs": [],
   "source": [
    "# Import sleep:\n",
    "from time import sleep"
   ]
  },
  {
   "cell_type": "code",
   "execution_count": null,
   "metadata": {
    "collapsed": true
   },
   "outputs": [],
   "source": [
    "# A:"
   ]
  },
  {
   "cell_type": "markdown",
   "metadata": {},
   "source": [
    "### 13) Can we get all of the items we want from the page in a single `find_all`?\n",
    "\n",
    "To be as efficient as possible, we only want to do a single loop for each entry on the page. That means we want to find the element all of our other elements (name, location, price, and bookings) are housed within. Where is each entry located on the page?"
   ]
  },
  {
   "cell_type": "code",
   "execution_count": null,
   "metadata": {
    "collapsed": true
   },
   "outputs": [],
   "source": [
    "# A:"
   ]
  },
  {
   "cell_type": "markdown",
   "metadata": {},
   "source": [
    "### 14) Does every entry have all of the elements we want?"
   ]
  },
  {
   "cell_type": "code",
   "execution_count": null,
   "metadata": {
    "collapsed": true
   },
   "outputs": [],
   "source": [
    "# A:"
   ]
  },
  {
   "cell_type": "markdown",
   "metadata": {},
   "source": [
    "### 15) Use Python exceptions to handle cases when bookings aren't found.\n",
    "\n",
    "When a booking isn't found, store `'ZERO'`."
   ]
  },
  {
   "cell_type": "code",
   "execution_count": null,
   "metadata": {
    "collapsed": true
   },
   "outputs": [],
   "source": [
    "# A:"
   ]
  },
  {
   "cell_type": "markdown",
   "metadata": {},
   "source": [
    "### 16) Putting it all together in a DataFrame.\n",
    "\n",
    "**Loop through the entries. For each:**\n",
    "\n",
    "1) Grab the relevant information we want (name, location, price, and bookings). \n",
    "2) Produce a DataFrame with the columns \"name,\" \"location,\" \"price,\" and \"bookings\" that contains the 100 entries we'd like."
   ]
  },
  {
   "cell_type": "code",
   "execution_count": null,
   "metadata": {
    "collapsed": true
   },
   "outputs": [],
   "source": [
    "# A:"
   ]
  },
  {
   "cell_type": "markdown",
   "metadata": {},
   "source": [
    "### 17) [Bonus] Sending keys over the driver.\n",
    "\n",
    "We can send keys to the page using the driver. Below is a demonstration of how to search the page using the Selenium driver."
   ]
  },
  {
   "cell_type": "code",
   "execution_count": 52,
   "metadata": {
    "collapsed": true
   },
   "outputs": [],
   "source": [
    "# We can send keys as well. Import:\n",
    "from selenium.webdriver.common.keys import Keys"
   ]
  },
  {
   "cell_type": "code",
   "execution_count": 53,
   "metadata": {
    "collapsed": true
   },
   "outputs": [],
   "source": [
    "# Open the driver.\n",
    "driver = webdriver.Chrome(executable_path=\"../chromedriver/chromedriver\")\n",
    "# Visit Python.\n",
    "driver.get(\"http://www.python.org\")\n",
    "# Verify we're in the right place.\n",
    "assert \"Python\" in driver.title"
   ]
  },
  {
   "cell_type": "code",
   "execution_count": 54,
   "metadata": {
    "collapsed": true
   },
   "outputs": [],
   "source": [
    "# Find the search position.\n",
    "elem = driver.find_element_by_name(\"q\")\n",
    "# Clear it.\n",
    "elem.clear()\n",
    "# Type in \"pycon.\"\n",
    "elem.send_keys(\"pycon\")"
   ]
  },
  {
   "cell_type": "code",
   "execution_count": 55,
   "metadata": {
    "collapsed": true
   },
   "outputs": [],
   "source": [
    "# Send the keys.\n",
    "elem.send_keys(Keys.RETURN)\n",
    "# This yields no results.\n",
    "assert \"No results found.\" not in driver.page_source"
   ]
  },
  {
   "cell_type": "code",
   "execution_count": 56,
   "metadata": {
    "collapsed": true
   },
   "outputs": [],
   "source": [
    "# Close the driver.\n",
    "driver.close()"
   ]
  },
  {
   "cell_type": "code",
   "execution_count": 57,
   "metadata": {
    "collapsed": true
   },
   "outputs": [],
   "source": [
    "# All at once:\n",
    "driver = webdriver.Chrome(executable_path=\"../chromedriver/chromedriver\")\n",
    "driver.get(\"http://www.python.org\")\n",
    "assert \"Python\" in driver.title\n",
    "elem = driver.find_element_by_name(\"q\")\n",
    "elem.clear()\n",
    "elem.send_keys(\"pycon\")\n",
    "elem.send_keys(Keys.RETURN)\n",
    "assert \"No results found.\" not in driver.page_source\n",
    "driver.close()"
   ]
  },
  {
   "cell_type": "markdown",
   "metadata": {},
   "source": [
    "## Additional Resources\n",
    "\n",
    "---\n",
    "\n",
    "The example above (and many others) are available in the [Selenium docs](http://selenium-python.readthedocs.io/getting-started.html).\n",
    "\n",
    "It's especially important to explore functionality, such as [locating elements](http://selenium-python.readthedocs.io/locating-elements.html#locating-elements).\n",
    "\n",
    "Review Selenium's [FAQs](http://selenium-python.readthedocs.io/faq.html)."
   ]
  }
 ],
 "metadata": {
  "kernelspec": {
   "display_name": "Python 3",
   "language": "python",
   "name": "python3"
  },
  "language_info": {
   "codemirror_mode": {
    "name": "ipython",
    "version": 3
   },
   "file_extension": ".py",
   "mimetype": "text/x-python",
   "name": "python",
   "nbconvert_exporter": "python",
   "pygments_lexer": "ipython3",
   "version": "3.6.6"
  }
 },
 "nbformat": 4,
 "nbformat_minor": 1
}
