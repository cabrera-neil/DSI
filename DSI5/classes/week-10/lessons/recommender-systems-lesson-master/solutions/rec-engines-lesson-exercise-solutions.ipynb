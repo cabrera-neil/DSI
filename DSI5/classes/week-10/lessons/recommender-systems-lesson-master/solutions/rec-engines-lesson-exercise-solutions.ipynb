{
 "cells": [
  {
   "cell_type": "markdown",
   "metadata": {},
   "source": [
    "<img src=\"http://imgur.com/1ZcRyrc.png\" style=\"float: left; margin: 20px; height: 55px\">\n",
    "\n",
    "\n",
    "# Recommendation Engines Lesson Exercise Solutions\n",
    "\n",
    "_Author: Alex Combs (NYC) _\n",
    "\n",
    "---"
   ]
  },
  {
   "cell_type": "code",
   "execution_count": 1,
   "metadata": {},
   "outputs": [],
   "source": [
    "import pandas as pd\n",
    "import numpy as np\n",
    "\n",
    "from sklearn.metrics.pairwise import cosine_similarity"
   ]
  },
  {
   "cell_type": "code",
   "execution_count": 2,
   "metadata": {},
   "outputs": [
    {
     "data": {
      "text/plain": [
       "0.8215838362577491"
      ]
     },
     "execution_count": 2,
     "metadata": {},
     "output_type": "execute_result"
    }
   ],
   "source": [
    "a = np.array([2, 0, 1, 1, 0, 2, 1, 1])\n",
    "b = np.array([2, 1, 1, 0, 1, 1, 1, 1])\n",
    "\n",
    "np.dot(a,b) / (np.sqrt(sum(np.square(a))) * np.sqrt(sum(np.square(b))))"
   ]
  },
  {
   "cell_type": "code",
   "execution_count": 5,
   "metadata": {},
   "outputs": [
    {
     "data": {
      "text/plain": [
       "0.8215838362577492"
      ]
     },
     "execution_count": 5,
     "metadata": {},
     "output_type": "execute_result"
    }
   ],
   "source": [
    "cosine_similarity(a.reshape(1,-1),\n",
    "                  b.reshape(1,-1))[0][0]"
   ]
  },
  {
   "cell_type": "markdown",
   "metadata": {},
   "source": [
    "## Exercise: Find the similarity between X and Y and X and Z for the following."
   ]
  },
  {
   "cell_type": "markdown",
   "metadata": {},
   "source": [
    "| User |Snarky's Potato Chips\t| SoSo Smoth Lotion\t|Duffly Beer\t|BetterTap Water |XXLargeLivin' Football Jersey\t|Snowy Cotton Ballas\t|Disposos Diapers|\n",
    "| - |:-------:| --:| --- | --- | --- | --- | --- |\n",
    "| X| &nbsp; |4  | &nbsp; | 3  | &nbsp; | 4  | &nbsp;  |\n",
    "| Y| &nbsp; |3.5| &nbsp; | 2.5| &nbsp; | 4  | 4  |\n",
    "| Z| &nbsp; |4  | &nbsp; | 3.5| &nbsp; | 4.5| 4.5|"
   ]
  },
  {
   "cell_type": "code",
   "execution_count": 8,
   "metadata": {},
   "outputs": [
    {
     "name": "stdout",
     "output_type": "stream",
     "text": [
      "similarity(X, Y) = [[0.83333333]]\n",
      "similarity(Y, Z) = [[0.98473193]]\n",
      "similarity(X, Z) = [[0.73854895]]\n"
     ]
    }
   ],
   "source": [
    "# 1. Vectorize the data\n",
    "\n",
    "X = np.array([0.0, 4.0, 3.0, 0.0, 4.0, 0.0])\n",
    "Y = np.array([0.0, 3.5, 2.5, 0.0, 4.0, 4.0])\n",
    "Z = np.array([0.0, 4.0, 3.5, 0.0, 4.5, 4.5])\n",
    "\n",
    "# 2. Mean-center\n",
    "\n",
    "X[X!=0] -= np.mean(X[X!=0])\n",
    "Y[Y!=0] -= np.mean(Y[Y!=0])\n",
    "Z[Z!=0] -= np.mean(Z[Z!=0])\n",
    "\n",
    "# 3. Cosine similarity\n",
    "\n",
    "from sklearn.metrics.pairwise import cosine_similarity\n",
    "\n",
    "print(\"similarity(X, Y) = \" + str(cosine_similarity(X.reshape(1,-1), Y.reshape(1,-1))))\n",
    "print(\"similarity(Y, Z) = \" + str(cosine_similarity(Y.reshape(1,-1), Z.reshape(1,-1))))\n",
    "print(\"similarity(X, Z) = \" + str(cosine_similarity(X.reshape(1,-1), Z.reshape(1,-1))))"
   ]
  },
  {
   "cell_type": "markdown",
   "metadata": {},
   "source": [
    "## Independent Exercise:\n",
    "\n",
    "Write a function that takes in a utility matrix with users along the index and songs along the columns as seen above in the item-to-item filtering example. The function should accept a target user and song (as strings) that it will return a rating for. \n",
    "\n",
    "Use the following as your utility matrix:"
   ]
  },
  {
   "cell_type": "code",
   "execution_count": 10,
   "metadata": {},
   "outputs": [],
   "source": [
    "df = pd.DataFrame({'U1':[2 , None, 1, None, 3], \n",
    "                   'U2': [None, 3, None, 4,None],\n",
    "                   'U3': [4, None, 5, 4, None], \n",
    "                   'U4': [None, 3, None, 4, None], \n",
    "                   'U5': [5, None, 4, None, 5]},\n",
    "                 index = ['S1', 'S2', 'S3', 'S4', 'S5'])"
   ]
  },
  {
   "cell_type": "code",
   "execution_count": 11,
   "metadata": {},
   "outputs": [
    {
     "data": {
      "text/html": [
       "<div>\n",
       "<style scoped>\n",
       "    .dataframe tbody tr th:only-of-type {\n",
       "        vertical-align: middle;\n",
       "    }\n",
       "\n",
       "    .dataframe tbody tr th {\n",
       "        vertical-align: top;\n",
       "    }\n",
       "\n",
       "    .dataframe thead th {\n",
       "        text-align: right;\n",
       "    }\n",
       "</style>\n",
       "<table border=\"1\" class=\"dataframe\">\n",
       "  <thead>\n",
       "    <tr style=\"text-align: right;\">\n",
       "      <th></th>\n",
       "      <th>U1</th>\n",
       "      <th>U2</th>\n",
       "      <th>U3</th>\n",
       "      <th>U4</th>\n",
       "      <th>U5</th>\n",
       "    </tr>\n",
       "  </thead>\n",
       "  <tbody>\n",
       "    <tr>\n",
       "      <th>S1</th>\n",
       "      <td>2.0</td>\n",
       "      <td>NaN</td>\n",
       "      <td>4.0</td>\n",
       "      <td>NaN</td>\n",
       "      <td>5.0</td>\n",
       "    </tr>\n",
       "    <tr>\n",
       "      <th>S2</th>\n",
       "      <td>NaN</td>\n",
       "      <td>3.0</td>\n",
       "      <td>NaN</td>\n",
       "      <td>3.0</td>\n",
       "      <td>NaN</td>\n",
       "    </tr>\n",
       "    <tr>\n",
       "      <th>S3</th>\n",
       "      <td>1.0</td>\n",
       "      <td>NaN</td>\n",
       "      <td>5.0</td>\n",
       "      <td>NaN</td>\n",
       "      <td>4.0</td>\n",
       "    </tr>\n",
       "    <tr>\n",
       "      <th>S4</th>\n",
       "      <td>NaN</td>\n",
       "      <td>4.0</td>\n",
       "      <td>4.0</td>\n",
       "      <td>4.0</td>\n",
       "      <td>NaN</td>\n",
       "    </tr>\n",
       "    <tr>\n",
       "      <th>S5</th>\n",
       "      <td>3.0</td>\n",
       "      <td>NaN</td>\n",
       "      <td>NaN</td>\n",
       "      <td>NaN</td>\n",
       "      <td>5.0</td>\n",
       "    </tr>\n",
       "  </tbody>\n",
       "</table>\n",
       "</div>"
      ],
      "text/plain": [
       "     U1   U2   U3   U4   U5\n",
       "S1  2.0  NaN  4.0  NaN  5.0\n",
       "S2  NaN  3.0  NaN  3.0  NaN\n",
       "S3  1.0  NaN  5.0  NaN  4.0\n",
       "S4  NaN  4.0  4.0  4.0  NaN\n",
       "S5  3.0  NaN  NaN  NaN  5.0"
      ]
     },
     "execution_count": 11,
     "metadata": {},
     "output_type": "execute_result"
    }
   ],
   "source": [
    "df"
   ]
  },
  {
   "cell_type": "markdown",
   "metadata": {},
   "source": [
    "This is not the most elegant solution - should really accept a k value, but here it is fixed at 2"
   ]
  },
  {
   "cell_type": "code",
   "execution_count": 12,
   "metadata": {},
   "outputs": [],
   "source": [
    "def get_rating(df, user, song):\n",
    "    def ret_sim(x):\n",
    "        return cosine_similarity(np.array(mc_df.loc[song]).reshape(1,-1), np.array(x).reshape(1,-1))[0][0]\n",
    "    \n",
    "    mc_df = df.apply(lambda x: x - np.mean(x), axis=1).fillna(0)\n",
    "    mc_df['co_sim'] = mc_df.apply(ret_sim, axis=1)\n",
    "    print(mc_df)\n",
    "    \n",
    "    two_nearest_songs = mc_df.sort_values('co_sim', ascending=False)[1:3]['co_sim'].index.values\n",
    "    two_nearest_cosims = mc_df.sort_values('co_sim', ascending=False)[1:3]['co_sim'].values\n",
    "    two_nearest_ratings = df.loc[two_nearest_songs][user].values\n",
    "    \n",
    "    return ((two_nearest_cosims[0] * two_nearest_ratings[0]) + (two_nearest_cosims[1] * two_nearest_ratings[1]))/sum(two_nearest_cosims)"
   ]
  },
  {
   "cell_type": "code",
   "execution_count": 13,
   "metadata": {},
   "outputs": [
    {
     "name": "stdout",
     "output_type": "stream",
     "text": [
      "          U1   U2        U3   U4        U5    co_sim\n",
      "S1 -1.666667  0.0  0.333333  0.0  1.333333  0.981981\n",
      "S2  0.000000  0.0  0.000000  0.0  0.000000  0.000000\n",
      "S3 -2.333333  0.0  1.666667  0.0  0.666667  0.720577\n",
      "S4  0.000000  0.0  0.000000  0.0  0.000000  0.000000\n",
      "S5 -1.000000  0.0  0.000000  0.0  1.000000  1.000000\n"
     ]
    },
    {
     "data": {
      "text/plain": [
       "4.423232002361576"
      ]
     },
     "execution_count": 13,
     "metadata": {},
     "output_type": "execute_result"
    }
   ],
   "source": [
    "get_rating(df, 'U3', 'S5')"
   ]
  }
 ],
 "metadata": {
  "anaconda-cloud": {},
  "kernelspec": {
   "display_name": "Python 3",
   "language": "python",
   "name": "python3"
  },
  "language_info": {
   "codemirror_mode": {
    "name": "ipython",
    "version": 3
   },
   "file_extension": ".py",
   "mimetype": "text/x-python",
   "name": "python",
   "nbconvert_exporter": "python",
   "pygments_lexer": "ipython3",
   "version": "3.6.6"
  }
 },
 "nbformat": 4,
 "nbformat_minor": 1
}
