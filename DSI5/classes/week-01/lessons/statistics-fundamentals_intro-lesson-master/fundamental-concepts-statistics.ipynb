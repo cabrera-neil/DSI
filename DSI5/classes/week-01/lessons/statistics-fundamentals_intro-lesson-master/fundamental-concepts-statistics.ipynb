{
 "cells": [
  {
   "cell_type": "markdown",
   "metadata": {},
   "source": [
    "<img src=\"http://imgur.com/1ZcRyrc.png\" style=\"float: left; margin: 20px; height: 55px\">\n",
    "\n",
    "# Fundamental Concepts in Statistics\n",
    "\n",
    "_Authors: Matt Brems (DC)_\n",
    "\n",
    "---\n",
    "\n",
    "### Learning Objectives\n",
    "*After this lesson, you will be able to:*\n",
    "- Define target population, sampled population, sample, sampling unit, observation unit, sampling frame, probability sampling, and non-probability sampling, and identify these within the context of a real-world situation.\n",
    "- Differentiate between descriptive and inferential statistics.\n",
    "- Calculate, interpret, and apply properties of univariate and bivariate descriptive statistics."
   ]
  },
  {
   "cell_type": "markdown",
   "metadata": {},
   "source": [
    "### Lesson Guide\n",
    "\n",
    "- [Introduction: What is \"statistics\"?](#introduction)\n",
    "- [Sampling](#sampling)\n",
    "- [Probability and Non-Probability Samples](#prob-nonprob)\n",
    "- [Types of Samples](#three-types)\n",
    "- [Replication](#replication)\n",
    "- [Descriptive vs. Inferential Statistics](#descriptive_inferential)\n",
    "- [Univariate vs. Bivariate Statistics and Parameters](#univariate_bivariate)\n",
    "- [Pearson Correlation Coefficient](#correlation)\n",
    "- [Covariance](#covariance)\n",
    "- [Additional Resources](#additional-resources)"
   ]
  },
  {
   "cell_type": "markdown",
   "metadata": {},
   "source": [
    "<a id='introduction'></a>\n",
    "\n",
    "## Introduction: What is \"Statistics?\"\n",
    "\n",
    "---\n",
    "\n",
    "**When I say \"statistics,\" what comes to mind? How do we define statistics?**\n",
    "\n",
    "- \"Statistics is the study of the collection, analysis, interpretation, presentation, and organization of data.\" —  _Wikipedia_\n",
    "- \"A branch of mathematics dealing with the collection, analysis, interpretation, and presentation of masses of numerical data.\" — _Merriam-Webster_\n",
    "- \"Statistics is the science of data.\" — _The Ohio State University, STAT 1450_\n",
    "- \"Statistics is a method of solving problems through data-driven, quantitative reasoning.\" — _Matt Brems (DSI-DC)_"
   ]
  },
  {
   "cell_type": "markdown",
   "metadata": {},
   "source": [
    "<a id='sampling'></a>\n",
    "## Sampling\n",
    "\n",
    "---\n",
    "\n",
    "Before we work with data, we must consider how it will be collected. It is important to collect data in a theoretically proper manner and, in your analysis, account for the \"real-world\" issues that will naturally arise.\n",
    "\n",
    "It is often expensive, time-consuming, and, in some cases, impossible to take measurements of every person or observation of interest. In order to overcome this reality, statisticians have developed a variety of methods to collect data from a subset of the population of interest in an intentional manner and then extrapolate those findings to the larger group.\n",
    "\n",
    "Speaking broadly, in statistics we take measurements from a sample to learn about a broader population. We must, however, be *very* careful about how we define this population, as any inferences we make based on a sample can only be extended to the sampled population.\n",
    "\n",
    "### Sampling Terms\n",
    "- **Sample:** A subset of a population.\n",
    "- **Target Population:** The population about which we want to make inferences; the population of interest.\n",
    "- **Sampled Population:** The population about which we *can* make inferences; the population from which we sample.\n",
    "- **Sampling Unit:** A unit that can be selected for a sample.\n",
    "- **Observation Unit:** An object on which a measurement is taken.\n",
    "- **Sampling Frame:** A specification of sampling units in the population from which a sample may be selected.\n",
    "\n"
   ]
  },
  {
   "cell_type": "markdown",
   "metadata": {},
   "source": [
    "### Sampling anecdote from DSI-DC instructor Matt Brems:\n",
    "\n",
    "> A lot of my work at Optimus revolved around survey design and analysis. My goal was to estimate the proportion of people in New Hampshire who planned to vote for each candidate in the Republican and Democratic presidential primaries. \n",
    "\n",
    "> I had a voter file containing the names, contact information, and demographic data of everyone registered to vote within the state of New Hampshire — roughly 900,000 people. \n",
    "\n",
    "> I choose to call about 10,000 people. Of those people, about 6% responded to the question \"Who do you plan to vote for in the upcoming presidential primary?\""
   ]
  },
  {
   "cell_type": "markdown",
   "metadata": {},
   "source": [
    "**Using Matt's example:**\n",
    "\n",
    "- Describe the sample.\n",
    "- Describe the target population.\n",
    "- Describe the sampled population.\n",
    "- Describe the sampling unit.\n",
    "- Describe the observation unit.\n",
    "- Describe the sampling frame."
   ]
  },
  {
   "cell_type": "markdown",
   "metadata": {},
   "source": [
    "### Another hypothetical example:\n",
    "\n",
    "> Say I am interested in finding the true average height of all undergraduate women enrolled at Ohio State University. \n",
    "\n",
    "> Rather than taking a census of all 25,000 undergraduate women, I decide to survey a sample. \n",
    "\n",
    "> I contact the Ohio State registrar for a list of names and contact information for all undergraduate women. I identify 1,000 women whose height I wish to measure, and reach out to them. \n",
    "\n",
    "> 249 women show up to have their heights measured."
   ]
  },
  {
   "cell_type": "markdown",
   "metadata": {},
   "source": [
    "**Given the example above, as a group:**\n",
    "\n",
    "- Describe the sample.\n",
    "- Describe the target population.\n",
    "- Describe the sampled population.\n",
    "- Describe the sampling unit.\n",
    "- Describe the observation unit.\n",
    "- Describe the sampling frame."
   ]
  },
  {
   "cell_type": "markdown",
   "metadata": {},
   "source": [
    "### Independent practice\n",
    "\n",
    "Taken from [\"Sampling: Design and Analysis\", 2nd ed., Sharon Lohr, 2010.](http://evalenzu.mat.utfsm.cl/Docencia/2016/Primer%20semestre/Metodos%20Estadisticos%20en%20Ingenieria/Apunte1.pdf)\n",
    "\n",
    "> Many scholars and policy makers are interested in the proportion of homeless people who are mentally ill. \n",
    "\n",
    "> Wright (1988) estimated that 33% of all homeless people are mentally ill by sampling homeless persons who received medical attention from one of the clinics in the Health Care for the Homeless (HCH) project.\n",
    "\n",
    "\n",
    "- Describe the sample.\n",
    "- Describe the target population.\n",
    "- Describe the sampled population.\n",
    "- Describe the sampling unit.\n",
    "- Describe the observation unit.\n",
    "- Describe the sampling frame."
   ]
  },
  {
   "cell_type": "markdown",
   "metadata": {},
   "source": [
    "---\n",
    "\n",
    "<a id='prob-nonprob'></a>\n",
    "\n",
    "### When sampling, one can conduct _probability_ samples or _non-probability_ samples.\n",
    "\n",
    "In a probability sample, the probability of getting a particular sample can be calculated. (In other words, each unit in the population has a known probability of selection). In a non-probability sample, this is not the case. \n",
    "\n",
    "When we want to conduct standard inference, one of the first assumptions we make is that observations come from a random probability sample. (Research has only recentlly started diving into methods of conducting inference from non-probability samples). \n",
    "\n",
    "Similarly, whenever you generate a confidence interval or execute a hypothesis test, you rely on the assumption that your data comes from a random probability sample. (It is far more common to see references to \"random sample,\" in which the \"probability\" is implied)."
   ]
  },
  {
   "cell_type": "markdown",
   "metadata": {},
   "source": [
    "<a id='three-types'></a>\n",
    "\n",
    "## Three basic types of random probability samples\n",
    "\n",
    "---\n",
    "\n",
    "1. **Simple Random Sample (SRS):** A sample in which every possible subset of `n` units in the population has the same chance of being the sample.<br><br>\n",
    "\n",
    "2. **Stratified Random Sample:** A sample in which the population is broken into subgroups (sometimes called strata), a simple random sample is pulled from within each subgroup, and those samples are combined into one larger \"stratified\" sample.<br><br>\n",
    "\n",
    "3. **Cluster Random Sample:** A sample in which observation units are grouped into larger sampling units (sometimes called clusters), a sample of larger sampling units is selected, and then observation units within the selected larger sampling units are selected."
   ]
  },
  {
   "cell_type": "markdown",
   "metadata": {},
   "source": [
    "<a id='replication'></a>\n",
    "\n",
    "## Replication\n",
    "\n",
    "---\n",
    "\n",
    "Whether it be for an article in an academic journal, results for your supervisor, or in-house testing among peers, you want to be able to replicate your work. When drawing samples using Python, however, randomness can make code results difficult to duplicate.\n",
    "\n",
    "Computers cannot actually do anything that is *truly* random. Instead, they generate \"pseudorandom\" numbers based on \"seed\" values. You can actually set the \"seed\" to return the computer to a particular state before generating a random number. If you set your seed to 6, then generate a random sample, set your seed to 6 again, and generate another random sample, you'll notice that the exact same random sample was generated!\n",
    "\n",
    "```python\n",
    "import random ## This is exactly like when we imported math — actually, it's from the same place!\n",
    "random.seed(insert_integer_here)\n",
    "random.sample(list_or_series_to_be_sampled,sample_size)\n",
    "```"
   ]
  },
  {
   "cell_type": "code",
   "execution_count": 1,
   "metadata": {},
   "outputs": [
    {
     "data": {
      "text/plain": [
       "[3, 5, 10]"
      ]
     },
     "execution_count": 1,
     "metadata": {},
     "output_type": "execute_result"
    }
   ],
   "source": [
    "import random \n",
    "random.seed(3)\n",
    "random.sample([1,2,3,4,5,6,7,8,9,10], 3)"
   ]
  },
  {
   "cell_type": "code",
   "execution_count": 2,
   "metadata": {},
   "outputs": [
    {
     "data": {
      "text/plain": [
       "[3, 5, 10]"
      ]
     },
     "execution_count": 2,
     "metadata": {},
     "output_type": "execute_result"
    }
   ],
   "source": [
    "random.seed(3)\n",
    "random.sample([1,2,3,4,5,6,7,8,9,10], 3)"
   ]
  },
  {
   "cell_type": "code",
   "execution_count": 3,
   "metadata": {},
   "outputs": [
    {
     "data": {
      "text/plain": [
       "[7, 10, 9]"
      ]
     },
     "execution_count": 3,
     "metadata": {},
     "output_type": "execute_result"
    }
   ],
   "source": [
    "random.seed(5)\n",
    "random.sample([1,2,3,4,5,6,7,8,9,10], 3)"
   ]
  },
  {
   "cell_type": "markdown",
   "metadata": {},
   "source": [
    "<a id='descriptive_inferential'></a>\n",
    "## Descriptive vs. inferential statistics\n",
    "\n",
    "---\n",
    "\n",
    "Loosely speaking:\n",
    "- **Descriptive statistics** is the branch of statistics that deals with _summarizing available information_.\n",
    "- **Inferential statistics** is the branch of statistics that deals with _generalizing available information to a larger population_.\n",
    "\n",
    "**Discussion:** In what cases would we want to use descriptive statistics? In what cases would we want to use inferential statistics? Does it make sense to use one without the other?"
   ]
  },
  {
   "cell_type": "markdown",
   "metadata": {},
   "source": [
    "<a id='univariate_bivariate'></a>\n",
    "## Univariate vs. bivariate statistics and parameters\n",
    "\n",
    "--- \n",
    "\n",
    "Formally, \n",
    "\n",
    "> A **statistic** is a function of the data. \n",
    "\n",
    "Imagine a function that calculates standard deviation; we input every data point (the sample), and the output is the value of the sample standard deviation.\n",
    "\n",
    "> A **parameter** is a characteristic of the population. \n",
    "\n",
    "This might be the true average height of all undergraduate women at Ohio State University, the true median salary in the United States, or the true standard deviation of hours of Netflix watched among users between 18 and 35 years old.\n",
    "\n",
    "Unless we have access to every observation in the population and the ability to measure each observation, it will be impossible to know the true value of the parameter of interest. However, we can draw a sample and calculate a *statistic* which — assuming our sample is large enough and our measurements are done properly — should be a reasonably precise estimate of our parameter.\n",
    "\n",
    "**Put more succinctly: \"Statistics estimate parameters.\"**\n",
    "\n",
    "---\n",
    "\n",
    "### Univariate Statistics and Parameters\n",
    "\n",
    "In a univariate (one variable) case, we are interested in describing the distribution of a variable, where \"distribution\" is the set of all possible values the variable can take on, as well as how frequently it takes on those values.\n",
    "\n",
    "**The most important aspects of a variable's distribution:**\n",
    "- What is the center of the distribution? (Mean, median, mode)\n",
    "- What is the spread around the center of the distribution? (Standard deviation/variance/range/IQR)\n",
    "- What is the shape of the distribution? (Skewed/symmetric, unimodal/multimodal)\n",
    "\n",
    "\n",
    "**Check:** Can measures of spread be zero? If so, when? If not, why not? Can measures of spread be negative?\n",
    "\n",
    "**Check:** For skewed data, which measure(s) of center and spread is/are most appropriate? Why?\n",
    "\n",
    "**Check:** For symmetric data, which measure(s) of center and spread is/are most appropriate? Why?\n",
    "\n"
   ]
  },
  {
   "cell_type": "markdown",
   "metadata": {},
   "source": [
    "---\n",
    "\n",
    "### Bivariate Statistics and Parameters\n",
    "\n",
    "When working within a univariate case, we're interested in knowing what the distribution of a particular variable looks like. \n",
    "\n",
    "In a **bivariate** (two variable) case, we're more interested in the relationship between two variables. The most common measures are the correlation (Pearson correlation coefficient) and the covariance.\n",
    "\n"
   ]
  },
  {
   "cell_type": "markdown",
   "metadata": {},
   "source": [
    "<a id='correlation'></a>\n",
    "## Pearson's Correlation\n",
    "\n",
    "---\n",
    "\n",
    "Correlation (the Pearson correlation coefficient) measures the *strength and direction* of the *linear* relationship between two variables and can take on any value between -1 and +1. \n",
    "\n",
    "The sample correlation is denoted by **r**, while the population correlation is denoted by **rho**.\n",
    "\n",
    "**Interpreting correlation:**\n",
    "- Values close to -1 or +1 indicate a strong and linear relationship between the two variables. \n",
    "- Values close to 0 indicate a weak and/or nonlinear relationship between the two variables. \n",
    "- Values above 0 indicate a positive relationship between the two variables. \n",
    "- Values below 0 indicate a negative relationship between the two variables.\n",
    "\n",
    "![](https://upload.wikimedia.org/wikipedia/commons/d/d4/Correlation_examples2.svg)\n",
    "Graphic pulled from [Wikipedia's article on correlation and dependence.](https://en.wikipedia.org/wiki/Correlation_and_dependence)\n",
    "\n",
    "\n",
    "If you want to calculate the correlation between two variables with numpy, use the following code:\n",
    "```python\n",
    "import numpy as np\n",
    "np.corrcoef(var1,var2)\n",
    "```"
   ]
  },
  {
   "cell_type": "code",
   "execution_count": 4,
   "metadata": {},
   "outputs": [
    {
     "data": {
      "text/plain": [
       "array([[ 1.        ,  0.21122262],\n",
       "       [ 0.21122262,  1.        ]])"
      ]
     },
     "execution_count": 4,
     "metadata": {},
     "output_type": "execute_result"
    }
   ],
   "source": [
    "import numpy as np\n",
    "np.corrcoef([1,2,5,2,3,7,1,2,6,8,3,4,2],\n",
    "            [0,6,2,3,7,1,3,4,21,3,7,4,5])"
   ]
  },
  {
   "cell_type": "markdown",
   "metadata": {},
   "source": [
    "### Properties of Pearson's Correlation\n",
    "\n",
    "$ -1 \\le Cor(X, Y) \\le 1 $\n",
    "\n",
    "$ Cor(X,Y) = Cor(Y,X) $\n",
    "\n",
    "$ Cor(a + bX,c + dY) = Cor(X,Y)$ if $bd > 0$, and\n",
    "\n",
    "$ Cor(a + bX,c + dY) = -Cor(X,Y) $ if $bd < 0$"
   ]
  },
  {
   "cell_type": "markdown",
   "metadata": {},
   "source": [
    "<a id='covariance'></a>\n",
    "## Covariance\n",
    "\n",
    "---\n",
    "\n",
    "Covariance is a generalization of correlation that measures how two variables change together. However, it is not adjusted for individual variances like correlation. \n",
    "\n",
    "Covariances can take on any value, which means that interpreting covariance by itself is difficult to do. It makes more sense to compare two correlations than to compare two covariances.\n",
    "\n",
    "If you want to calculate the covariance between two variables in Python, use the following code:\n",
    "```python\n",
    "import numpy as np\n",
    "np.cov(var1,var2)\n",
    "```"
   ]
  },
  {
   "cell_type": "code",
   "execution_count": 5,
   "metadata": {},
   "outputs": [
    {
     "data": {
      "text/plain": [
       "array([[  5.26923077,   2.53846154],\n",
       "       [  2.53846154,  27.41025641]])"
      ]
     },
     "execution_count": 5,
     "metadata": {},
     "output_type": "execute_result"
    }
   ],
   "source": [
    "np.cov([1,2,5,2,3,7,1,2,6,8,3,4,2],\n",
    "       [0,6,2,3,7,1,3,4,21,3,7,4,5])"
   ]
  },
  {
   "cell_type": "markdown",
   "metadata": {},
   "source": [
    "### Properties of Covariance\n",
    "\n",
    "$Cov(X,X) = Var(X)$\n",
    "\n",
    "$Cov(X,Y) = Cov(Y,X)$\n",
    "\n",
    "$Cov(a + bX,c + dY) = bdCov(X,Y)$"
   ]
  },
  {
   "cell_type": "markdown",
   "metadata": {},
   "source": [
    "<a id='additional-resources'></a>\n",
    "## Additional resources\n",
    "\n",
    "---\n",
    "\n",
    "- [\"Sampling: Design and Analysis\", 2nd ed., Sharon Lohr, 2010, online .pdf](http://evalenzu.mat.utfsm.cl/Docencia/2016/Primer%20semestre/Metodos%20Estadisticos%20en%20Ingenieria/Apunte1.pdf)\n",
    "- [Stats Cookbook](https://github.com/mavam/stat-cookbook)"
   ]
  }
 ],
 "metadata": {
  "kernelspec": {
   "display_name": "Python 2",
   "language": "python",
   "name": "python2"
  },
  "language_info": {
   "codemirror_mode": {
    "name": "ipython",
    "version": 2
   },
   "file_extension": ".py",
   "mimetype": "text/x-python",
   "name": "python",
   "nbconvert_exporter": "python",
   "pygments_lexer": "ipython2",
   "version": "2.7.14"
  }
 },
 "nbformat": 4,
 "nbformat_minor": 2
}
