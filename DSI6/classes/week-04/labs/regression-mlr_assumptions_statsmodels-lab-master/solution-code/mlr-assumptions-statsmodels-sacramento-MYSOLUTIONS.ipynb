{
 "cells": [
  {
   "cell_type": "markdown",
   "metadata": {},
   "source": [
    "<img src=\"http://imgur.com/1ZcRyrc.png\" style=\"float: left; margin: 20px; height: 55px\">\n",
    "\n",
    "# Practice MLR Using the Sacramento Real Estate Data\n",
    "\n",
    "_Authors: Matt Brems (DC), Marc Harper (LA), Sam Stack (DC)_\n",
    "\n",
    "---\n",
    "\n",
    "We return to the Sacramento real estate data, but this time around we will be constructing multiple linear regression models. \n",
    "\n",
    "You will review the assumptions of multiple linear regression and practice building a model using the statsmodels package."
   ]
  },
  {
   "cell_type": "markdown",
   "metadata": {},
   "source": [
    "### 1) Load the data. "
   ]
  },
  {
   "cell_type": "code",
   "execution_count": 36,
   "metadata": {},
   "outputs": [],
   "source": [
    "import pandas as pd\n",
    "import seaborn as sns\n",
    "\n",
    "shd_csv = '../datasets/sacramento_real_estate_transactions_Clean.csv'\n"
   ]
  },
  {
   "cell_type": "code",
   "execution_count": 2,
   "metadata": {},
   "outputs": [
    {
     "data": {
      "text/html": [
       "<div>\n",
       "<style scoped>\n",
       "    .dataframe tbody tr th:only-of-type {\n",
       "        vertical-align: middle;\n",
       "    }\n",
       "\n",
       "    .dataframe tbody tr th {\n",
       "        vertical-align: top;\n",
       "    }\n",
       "\n",
       "    .dataframe thead th {\n",
       "        text-align: right;\n",
       "    }\n",
       "</style>\n",
       "<table border=\"1\" class=\"dataframe\">\n",
       "  <thead>\n",
       "    <tr style=\"text-align: right;\">\n",
       "      <th></th>\n",
       "      <th>Unnamed: 0</th>\n",
       "      <th>street</th>\n",
       "      <th>city</th>\n",
       "      <th>zip</th>\n",
       "      <th>state</th>\n",
       "      <th>beds</th>\n",
       "      <th>baths</th>\n",
       "      <th>sq__ft</th>\n",
       "      <th>type</th>\n",
       "      <th>sale_date</th>\n",
       "      <th>price</th>\n",
       "      <th>latitude</th>\n",
       "      <th>longitude</th>\n",
       "    </tr>\n",
       "  </thead>\n",
       "  <tbody>\n",
       "    <tr>\n",
       "      <th>0</th>\n",
       "      <td>0</td>\n",
       "      <td>3526 HIGH ST</td>\n",
       "      <td>SACRAMENTO</td>\n",
       "      <td>95838</td>\n",
       "      <td>CA</td>\n",
       "      <td>2</td>\n",
       "      <td>1</td>\n",
       "      <td>836</td>\n",
       "      <td>Residential</td>\n",
       "      <td>Wed May 21 00:00:00 EDT 2008</td>\n",
       "      <td>59222</td>\n",
       "      <td>38.631913</td>\n",
       "      <td>-121.434879</td>\n",
       "    </tr>\n",
       "    <tr>\n",
       "      <th>1</th>\n",
       "      <td>1</td>\n",
       "      <td>51 OMAHA CT</td>\n",
       "      <td>SACRAMENTO</td>\n",
       "      <td>95823</td>\n",
       "      <td>CA</td>\n",
       "      <td>3</td>\n",
       "      <td>1</td>\n",
       "      <td>1167</td>\n",
       "      <td>Residential</td>\n",
       "      <td>Wed May 21 00:00:00 EDT 2008</td>\n",
       "      <td>68212</td>\n",
       "      <td>38.478902</td>\n",
       "      <td>-121.431028</td>\n",
       "    </tr>\n",
       "    <tr>\n",
       "      <th>2</th>\n",
       "      <td>2</td>\n",
       "      <td>2796 BRANCH ST</td>\n",
       "      <td>SACRAMENTO</td>\n",
       "      <td>95815</td>\n",
       "      <td>CA</td>\n",
       "      <td>2</td>\n",
       "      <td>1</td>\n",
       "      <td>796</td>\n",
       "      <td>Residential</td>\n",
       "      <td>Wed May 21 00:00:00 EDT 2008</td>\n",
       "      <td>68880</td>\n",
       "      <td>38.618305</td>\n",
       "      <td>-121.443839</td>\n",
       "    </tr>\n",
       "    <tr>\n",
       "      <th>3</th>\n",
       "      <td>3</td>\n",
       "      <td>2805 JANETTE WAY</td>\n",
       "      <td>SACRAMENTO</td>\n",
       "      <td>95815</td>\n",
       "      <td>CA</td>\n",
       "      <td>2</td>\n",
       "      <td>1</td>\n",
       "      <td>852</td>\n",
       "      <td>Residential</td>\n",
       "      <td>Wed May 21 00:00:00 EDT 2008</td>\n",
       "      <td>69307</td>\n",
       "      <td>38.616835</td>\n",
       "      <td>-121.439146</td>\n",
       "    </tr>\n",
       "    <tr>\n",
       "      <th>4</th>\n",
       "      <td>4</td>\n",
       "      <td>6001 MCMAHON DR</td>\n",
       "      <td>SACRAMENTO</td>\n",
       "      <td>95824</td>\n",
       "      <td>CA</td>\n",
       "      <td>2</td>\n",
       "      <td>1</td>\n",
       "      <td>797</td>\n",
       "      <td>Residential</td>\n",
       "      <td>Wed May 21 00:00:00 EDT 2008</td>\n",
       "      <td>81900</td>\n",
       "      <td>38.519470</td>\n",
       "      <td>-121.435768</td>\n",
       "    </tr>\n",
       "  </tbody>\n",
       "</table>\n",
       "</div>"
      ],
      "text/plain": [
       "   Unnamed: 0            street        city    zip state  beds  baths  sq__ft  \\\n",
       "0           0      3526 HIGH ST  SACRAMENTO  95838    CA     2      1     836   \n",
       "1           1       51 OMAHA CT  SACRAMENTO  95823    CA     3      1    1167   \n",
       "2           2    2796 BRANCH ST  SACRAMENTO  95815    CA     2      1     796   \n",
       "3           3  2805 JANETTE WAY  SACRAMENTO  95815    CA     2      1     852   \n",
       "4           4   6001 MCMAHON DR  SACRAMENTO  95824    CA     2      1     797   \n",
       "\n",
       "          type                     sale_date  price   latitude   longitude  \n",
       "0  Residential  Wed May 21 00:00:00 EDT 2008  59222  38.631913 -121.434879  \n",
       "1  Residential  Wed May 21 00:00:00 EDT 2008  68212  38.478902 -121.431028  \n",
       "2  Residential  Wed May 21 00:00:00 EDT 2008  68880  38.618305 -121.443839  \n",
       "3  Residential  Wed May 21 00:00:00 EDT 2008  69307  38.616835 -121.439146  \n",
       "4  Residential  Wed May 21 00:00:00 EDT 2008  81900  38.519470 -121.435768  "
      ]
     },
     "execution_count": 2,
     "metadata": {},
     "output_type": "execute_result"
    }
   ],
   "source": [
    "df = pd.read_csv(shd_csv)\n",
    "df.head()"
   ]
  },
  {
   "cell_type": "code",
   "execution_count": 3,
   "metadata": {},
   "outputs": [
    {
     "name": "stdout",
     "output_type": "stream",
     "text": [
      "<class 'pandas.core.frame.DataFrame'>\n",
      "RangeIndex: 984 entries, 0 to 983\n",
      "Data columns (total 13 columns):\n",
      "Unnamed: 0    984 non-null int64\n",
      "street        984 non-null object\n",
      "city          984 non-null object\n",
      "zip           984 non-null int64\n",
      "state         984 non-null object\n",
      "beds          984 non-null int64\n",
      "baths         984 non-null int64\n",
      "sq__ft        984 non-null int64\n",
      "type          984 non-null object\n",
      "sale_date     984 non-null object\n",
      "price         984 non-null int64\n",
      "latitude      984 non-null float64\n",
      "longitude     984 non-null float64\n",
      "dtypes: float64(2), int64(6), object(5)\n",
      "memory usage: 100.0+ KB\n"
     ]
    }
   ],
   "source": [
    "df.info()"
   ]
  },
  {
   "cell_type": "code",
   "execution_count": 4,
   "metadata": {},
   "outputs": [
    {
     "data": {
      "text/html": [
       "<div>\n",
       "<style scoped>\n",
       "    .dataframe tbody tr th:only-of-type {\n",
       "        vertical-align: middle;\n",
       "    }\n",
       "\n",
       "    .dataframe tbody tr th {\n",
       "        vertical-align: top;\n",
       "    }\n",
       "\n",
       "    .dataframe thead th {\n",
       "        text-align: right;\n",
       "    }\n",
       "</style>\n",
       "<table border=\"1\" class=\"dataframe\">\n",
       "  <thead>\n",
       "    <tr style=\"text-align: right;\">\n",
       "      <th></th>\n",
       "      <th>Unnamed: 0</th>\n",
       "      <th>zip</th>\n",
       "      <th>beds</th>\n",
       "      <th>baths</th>\n",
       "      <th>sq__ft</th>\n",
       "      <th>price</th>\n",
       "      <th>latitude</th>\n",
       "      <th>longitude</th>\n",
       "    </tr>\n",
       "  </thead>\n",
       "  <tbody>\n",
       "    <tr>\n",
       "      <th>count</th>\n",
       "      <td>984.000000</td>\n",
       "      <td>984.000000</td>\n",
       "      <td>984.000000</td>\n",
       "      <td>984.000000</td>\n",
       "      <td>984.000000</td>\n",
       "      <td>984.000000</td>\n",
       "      <td>984.000000</td>\n",
       "      <td>984.000000</td>\n",
       "    </tr>\n",
       "    <tr>\n",
       "      <th>mean</th>\n",
       "      <td>491.785569</td>\n",
       "      <td>95750.611789</td>\n",
       "      <td>2.913618</td>\n",
       "      <td>1.777439</td>\n",
       "      <td>1315.253049</td>\n",
       "      <td>234167.841463</td>\n",
       "      <td>38.607670</td>\n",
       "      <td>-121.355832</td>\n",
       "    </tr>\n",
       "    <tr>\n",
       "      <th>std</th>\n",
       "      <td>284.554324</td>\n",
       "      <td>85.176913</td>\n",
       "      <td>1.307175</td>\n",
       "      <td>0.895484</td>\n",
       "      <td>853.416702</td>\n",
       "      <td>138434.220875</td>\n",
       "      <td>0.145494</td>\n",
       "      <td>0.138268</td>\n",
       "    </tr>\n",
       "    <tr>\n",
       "      <th>min</th>\n",
       "      <td>0.000000</td>\n",
       "      <td>95603.000000</td>\n",
       "      <td>0.000000</td>\n",
       "      <td>0.000000</td>\n",
       "      <td>0.000000</td>\n",
       "      <td>1551.000000</td>\n",
       "      <td>38.241514</td>\n",
       "      <td>-121.551704</td>\n",
       "    </tr>\n",
       "    <tr>\n",
       "      <th>25%</th>\n",
       "      <td>245.750000</td>\n",
       "      <td>95660.000000</td>\n",
       "      <td>2.000000</td>\n",
       "      <td>1.000000</td>\n",
       "      <td>951.500000</td>\n",
       "      <td>145000.000000</td>\n",
       "      <td>38.482714</td>\n",
       "      <td>-121.446121</td>\n",
       "    </tr>\n",
       "    <tr>\n",
       "      <th>50%</th>\n",
       "      <td>491.500000</td>\n",
       "      <td>95762.000000</td>\n",
       "      <td>3.000000</td>\n",
       "      <td>2.000000</td>\n",
       "      <td>1304.000000</td>\n",
       "      <td>214375.000000</td>\n",
       "      <td>38.626257</td>\n",
       "      <td>-121.376009</td>\n",
       "    </tr>\n",
       "    <tr>\n",
       "      <th>75%</th>\n",
       "      <td>738.250000</td>\n",
       "      <td>95828.000000</td>\n",
       "      <td>4.000000</td>\n",
       "      <td>2.000000</td>\n",
       "      <td>1718.500000</td>\n",
       "      <td>300000.000000</td>\n",
       "      <td>38.695611</td>\n",
       "      <td>-121.295557</td>\n",
       "    </tr>\n",
       "    <tr>\n",
       "      <th>max</th>\n",
       "      <td>984.000000</td>\n",
       "      <td>95864.000000</td>\n",
       "      <td>8.000000</td>\n",
       "      <td>5.000000</td>\n",
       "      <td>5822.000000</td>\n",
       "      <td>884790.000000</td>\n",
       "      <td>39.020808</td>\n",
       "      <td>-120.597599</td>\n",
       "    </tr>\n",
       "  </tbody>\n",
       "</table>\n",
       "</div>"
      ],
      "text/plain": [
       "       Unnamed: 0           zip        beds       baths       sq__ft  \\\n",
       "count  984.000000    984.000000  984.000000  984.000000   984.000000   \n",
       "mean   491.785569  95750.611789    2.913618    1.777439  1315.253049   \n",
       "std    284.554324     85.176913    1.307175    0.895484   853.416702   \n",
       "min      0.000000  95603.000000    0.000000    0.000000     0.000000   \n",
       "25%    245.750000  95660.000000    2.000000    1.000000   951.500000   \n",
       "50%    491.500000  95762.000000    3.000000    2.000000  1304.000000   \n",
       "75%    738.250000  95828.000000    4.000000    2.000000  1718.500000   \n",
       "max    984.000000  95864.000000    8.000000    5.000000  5822.000000   \n",
       "\n",
       "               price    latitude   longitude  \n",
       "count     984.000000  984.000000  984.000000  \n",
       "mean   234167.841463   38.607670 -121.355832  \n",
       "std    138434.220875    0.145494    0.138268  \n",
       "min      1551.000000   38.241514 -121.551704  \n",
       "25%    145000.000000   38.482714 -121.446121  \n",
       "50%    214375.000000   38.626257 -121.376009  \n",
       "75%    300000.000000   38.695611 -121.295557  \n",
       "max    884790.000000   39.020808 -120.597599  "
      ]
     },
     "execution_count": 4,
     "metadata": {},
     "output_type": "execute_result"
    }
   ],
   "source": [
    "df.describe()"
   ]
  },
  {
   "cell_type": "markdown",
   "metadata": {},
   "source": [
    "## Dummy Variables\n",
    "\n",
    "---\n",
    "\n",
    "When building a regression, it's important to be cautious with categorical variables, which represent distinct groups or categories. If they're put in a regression \"as is,\" categorical variables represented as integers will be treated like *continuous* variables.\n",
    "\n",
    "For example, if occupation category \"1\" represents \"analyst\" and occupation category \"3\" represents \"barista\" (with our target variable being salary) and we leave this as a column of integers, then \"barista\" will always have `beta*3` the effect of \"analyst.\" \n",
    "\n",
    "In simpler terms, instead of category \"3\" having a different effect on the estimation than category \"1,\" it will estimate literally three times more than category \"1.\"\n",
    "\n",
    "This will almost certainly produce an incorrect beta coefficient. Instead, we can re-represent the categories as multiple \"dummy-coded\" columns.\n",
    "\n",
    "### 2) Use the `pd.get_dummies` function to convert the `type` column into dummy-coded variables.\n",
    "\n",
    "Print out the header of the dummy-coded variable output."
   ]
  },
  {
   "cell_type": "code",
   "execution_count": 5,
   "metadata": {},
   "outputs": [
    {
     "data": {
      "text/plain": [
       "53     Residential\n",
       "132    Residential\n",
       "514    Residential\n",
       "432    Residential\n",
       "907          Condo\n",
       "827    Residential\n",
       "814    Residential\n",
       "393    Residential\n",
       "2      Residential\n",
       "243    Residential\n",
       "Name: type, dtype: object"
      ]
     },
     "execution_count": 5,
     "metadata": {},
     "output_type": "execute_result"
    }
   ],
   "source": [
    "# A:\n",
    "\n",
    "df['type'].sample(10)"
   ]
  },
  {
   "cell_type": "code",
   "execution_count": 6,
   "metadata": {},
   "outputs": [],
   "source": [
    "df = pd.concat([df, pd.get_dummies(df['type'],prefix='type_')], axis=1)"
   ]
  },
  {
   "cell_type": "code",
   "execution_count": 7,
   "metadata": {},
   "outputs": [
    {
     "data": {
      "text/html": [
       "<div>\n",
       "<style scoped>\n",
       "    .dataframe tbody tr th:only-of-type {\n",
       "        vertical-align: middle;\n",
       "    }\n",
       "\n",
       "    .dataframe tbody tr th {\n",
       "        vertical-align: top;\n",
       "    }\n",
       "\n",
       "    .dataframe thead th {\n",
       "        text-align: right;\n",
       "    }\n",
       "</style>\n",
       "<table border=\"1\" class=\"dataframe\">\n",
       "  <thead>\n",
       "    <tr style=\"text-align: right;\">\n",
       "      <th></th>\n",
       "      <th>Unnamed: 0</th>\n",
       "      <th>street</th>\n",
       "      <th>city</th>\n",
       "      <th>zip</th>\n",
       "      <th>state</th>\n",
       "      <th>beds</th>\n",
       "      <th>baths</th>\n",
       "      <th>sq__ft</th>\n",
       "      <th>type</th>\n",
       "      <th>sale_date</th>\n",
       "      <th>price</th>\n",
       "      <th>latitude</th>\n",
       "      <th>longitude</th>\n",
       "      <th>type__Condo</th>\n",
       "      <th>type__Multi-Family</th>\n",
       "      <th>type__Residential</th>\n",
       "      <th>type__Unkown</th>\n",
       "    </tr>\n",
       "  </thead>\n",
       "  <tbody>\n",
       "    <tr>\n",
       "      <th>0</th>\n",
       "      <td>0</td>\n",
       "      <td>3526 HIGH ST</td>\n",
       "      <td>SACRAMENTO</td>\n",
       "      <td>95838</td>\n",
       "      <td>CA</td>\n",
       "      <td>2</td>\n",
       "      <td>1</td>\n",
       "      <td>836</td>\n",
       "      <td>Residential</td>\n",
       "      <td>Wed May 21 00:00:00 EDT 2008</td>\n",
       "      <td>59222</td>\n",
       "      <td>38.631913</td>\n",
       "      <td>-121.434879</td>\n",
       "      <td>0</td>\n",
       "      <td>0</td>\n",
       "      <td>1</td>\n",
       "      <td>0</td>\n",
       "    </tr>\n",
       "    <tr>\n",
       "      <th>1</th>\n",
       "      <td>1</td>\n",
       "      <td>51 OMAHA CT</td>\n",
       "      <td>SACRAMENTO</td>\n",
       "      <td>95823</td>\n",
       "      <td>CA</td>\n",
       "      <td>3</td>\n",
       "      <td>1</td>\n",
       "      <td>1167</td>\n",
       "      <td>Residential</td>\n",
       "      <td>Wed May 21 00:00:00 EDT 2008</td>\n",
       "      <td>68212</td>\n",
       "      <td>38.478902</td>\n",
       "      <td>-121.431028</td>\n",
       "      <td>0</td>\n",
       "      <td>0</td>\n",
       "      <td>1</td>\n",
       "      <td>0</td>\n",
       "    </tr>\n",
       "  </tbody>\n",
       "</table>\n",
       "</div>"
      ],
      "text/plain": [
       "   Unnamed: 0        street        city    zip state  beds  baths  sq__ft  \\\n",
       "0           0  3526 HIGH ST  SACRAMENTO  95838    CA     2      1     836   \n",
       "1           1   51 OMAHA CT  SACRAMENTO  95823    CA     3      1    1167   \n",
       "\n",
       "          type                     sale_date  price   latitude   longitude  \\\n",
       "0  Residential  Wed May 21 00:00:00 EDT 2008  59222  38.631913 -121.434879   \n",
       "1  Residential  Wed May 21 00:00:00 EDT 2008  68212  38.478902 -121.431028   \n",
       "\n",
       "   type__Condo  type__Multi-Family  type__Residential  type__Unkown  \n",
       "0            0                   0                  1             0  \n",
       "1            0                   0                  1             0  "
      ]
     },
     "execution_count": 7,
     "metadata": {},
     "output_type": "execute_result"
    }
   ],
   "source": [
    "df.head(2)"
   ]
  },
  {
   "cell_type": "markdown",
   "metadata": {},
   "source": [
    "---\n",
    "\n",
    "### A Word of Caution When Dummy Coding\n",
    "\n",
    "Let's touch on precautions we should take when dummy coding.\n",
    "\n",
    "**If you convert qualitative variables to dummy variables, you want to turn a variable with N categories into N-1 variables.**\n",
    "\n",
    "> Scenario 1: Suppose we're working with the variable \"sex\" or \"gender\" with values \"M\" and \"F.\" \n",
    "\n",
    "Your model should only include one variable for \"sex = F,\" which becomes 1 if sex is female and 0 if sex is not female. Rather than saying \"a one-unit change in X,\" the coefficient associated with \"sex = F\" is interpreted as the average change in Y when sex = F, relative to when sex = M.\n",
    "\n",
    "> Scenario 2: Suppose we're modeling revenue at a bar for each day of the week. We have a column with strings identifying the day of the week the observation occurred.\n",
    "\n",
    "We might include six of the days as their own variables — \"Monday,\" \"Tuesday,\" \"Wednesday,\" \"Thursday,\" \"Friday,\" and \"Saturday\"— **but not all seven days.**\n",
    "\n",
    "The coefficient for Monday is then interpreted as the average change in revenue when \"day = Monday,\" relative to \"day = Sunday.\" The coefficient for Tuesday is interpreted in the average change in revenue when \"day = Tuesday,\" relative to \"day = Sunday,\" and so on.\n",
    "\n",
    "The category you leave out, which the other columns are *relative to,* is often referred to as the **reference category**.\n",
    "\n",
    "### 3) Remove \"Unknown\" from your dummy-coded variable DataFrame and append the rest to the original data."
   ]
  },
  {
   "cell_type": "code",
   "execution_count": 8,
   "metadata": {},
   "outputs": [
    {
     "data": {
      "text/plain": [
       "Index(['Unnamed: 0', 'street', 'city', 'zip', 'state', 'beds', 'baths',\n",
       "       'sq__ft', 'sale_date', 'price', 'latitude', 'longitude', 'type__Condo',\n",
       "       'type__Multi-Family', 'type__Residential'],\n",
       "      dtype='object')"
      ]
     },
     "execution_count": 8,
     "metadata": {},
     "output_type": "execute_result"
    }
   ],
   "source": [
    "# A:\n",
    "\n",
    "df.drop(['type','type__Unkown'], axis=1, inplace=True)\n",
    "df.columns"
   ]
  },
  {
   "cell_type": "markdown",
   "metadata": {},
   "source": [
    "### 4) Build what you think may be the best MLR model predicting `price`. \n",
    "\n",
    "The independent variables are your choice, but *include at least three.* At least one of your variables should be  dummy coded (either one we created previously or a new one).\n",
    "\n",
    "When constructing your model, don't forget to load in the statsmodels API:\n",
    "\n",
    "```python\n",
    "import statsmodels.api as sm\n",
    "\n",
    "model = sm.OLS(y, X).fit()\n",
    "```"
   ]
  },
  {
   "cell_type": "code",
   "execution_count": 9,
   "metadata": {},
   "outputs": [],
   "source": [
    "# A:\n",
    "\n",
    "import statsmodels.api as sm"
   ]
  },
  {
   "cell_type": "code",
   "execution_count": 10,
   "metadata": {},
   "outputs": [],
   "source": [
    "df.drop(['Unnamed: 0'], axis=1, inplace=True)"
   ]
  },
  {
   "cell_type": "code",
   "execution_count": 11,
   "metadata": {},
   "outputs": [
    {
     "data": {
      "text/html": [
       "<div>\n",
       "<style scoped>\n",
       "    .dataframe tbody tr th:only-of-type {\n",
       "        vertical-align: middle;\n",
       "    }\n",
       "\n",
       "    .dataframe tbody tr th {\n",
       "        vertical-align: top;\n",
       "    }\n",
       "\n",
       "    .dataframe thead th {\n",
       "        text-align: right;\n",
       "    }\n",
       "</style>\n",
       "<table border=\"1\" class=\"dataframe\">\n",
       "  <thead>\n",
       "    <tr style=\"text-align: right;\">\n",
       "      <th></th>\n",
       "      <th>street</th>\n",
       "      <th>city</th>\n",
       "      <th>zip</th>\n",
       "      <th>state</th>\n",
       "      <th>beds</th>\n",
       "      <th>baths</th>\n",
       "      <th>sq__ft</th>\n",
       "      <th>sale_date</th>\n",
       "      <th>price</th>\n",
       "      <th>latitude</th>\n",
       "      <th>longitude</th>\n",
       "      <th>type__Condo</th>\n",
       "      <th>type__Multi-Family</th>\n",
       "      <th>type__Residential</th>\n",
       "    </tr>\n",
       "  </thead>\n",
       "  <tbody>\n",
       "    <tr>\n",
       "      <th>0</th>\n",
       "      <td>3526 HIGH ST</td>\n",
       "      <td>SACRAMENTO</td>\n",
       "      <td>95838</td>\n",
       "      <td>CA</td>\n",
       "      <td>2</td>\n",
       "      <td>1</td>\n",
       "      <td>836</td>\n",
       "      <td>Wed May 21 00:00:00 EDT 2008</td>\n",
       "      <td>59222</td>\n",
       "      <td>38.631913</td>\n",
       "      <td>-121.434879</td>\n",
       "      <td>0</td>\n",
       "      <td>0</td>\n",
       "      <td>1</td>\n",
       "    </tr>\n",
       "    <tr>\n",
       "      <th>1</th>\n",
       "      <td>51 OMAHA CT</td>\n",
       "      <td>SACRAMENTO</td>\n",
       "      <td>95823</td>\n",
       "      <td>CA</td>\n",
       "      <td>3</td>\n",
       "      <td>1</td>\n",
       "      <td>1167</td>\n",
       "      <td>Wed May 21 00:00:00 EDT 2008</td>\n",
       "      <td>68212</td>\n",
       "      <td>38.478902</td>\n",
       "      <td>-121.431028</td>\n",
       "      <td>0</td>\n",
       "      <td>0</td>\n",
       "      <td>1</td>\n",
       "    </tr>\n",
       "    <tr>\n",
       "      <th>2</th>\n",
       "      <td>2796 BRANCH ST</td>\n",
       "      <td>SACRAMENTO</td>\n",
       "      <td>95815</td>\n",
       "      <td>CA</td>\n",
       "      <td>2</td>\n",
       "      <td>1</td>\n",
       "      <td>796</td>\n",
       "      <td>Wed May 21 00:00:00 EDT 2008</td>\n",
       "      <td>68880</td>\n",
       "      <td>38.618305</td>\n",
       "      <td>-121.443839</td>\n",
       "      <td>0</td>\n",
       "      <td>0</td>\n",
       "      <td>1</td>\n",
       "    </tr>\n",
       "    <tr>\n",
       "      <th>3</th>\n",
       "      <td>2805 JANETTE WAY</td>\n",
       "      <td>SACRAMENTO</td>\n",
       "      <td>95815</td>\n",
       "      <td>CA</td>\n",
       "      <td>2</td>\n",
       "      <td>1</td>\n",
       "      <td>852</td>\n",
       "      <td>Wed May 21 00:00:00 EDT 2008</td>\n",
       "      <td>69307</td>\n",
       "      <td>38.616835</td>\n",
       "      <td>-121.439146</td>\n",
       "      <td>0</td>\n",
       "      <td>0</td>\n",
       "      <td>1</td>\n",
       "    </tr>\n",
       "    <tr>\n",
       "      <th>4</th>\n",
       "      <td>6001 MCMAHON DR</td>\n",
       "      <td>SACRAMENTO</td>\n",
       "      <td>95824</td>\n",
       "      <td>CA</td>\n",
       "      <td>2</td>\n",
       "      <td>1</td>\n",
       "      <td>797</td>\n",
       "      <td>Wed May 21 00:00:00 EDT 2008</td>\n",
       "      <td>81900</td>\n",
       "      <td>38.519470</td>\n",
       "      <td>-121.435768</td>\n",
       "      <td>0</td>\n",
       "      <td>0</td>\n",
       "      <td>1</td>\n",
       "    </tr>\n",
       "  </tbody>\n",
       "</table>\n",
       "</div>"
      ],
      "text/plain": [
       "             street        city    zip state  beds  baths  sq__ft  \\\n",
       "0      3526 HIGH ST  SACRAMENTO  95838    CA     2      1     836   \n",
       "1       51 OMAHA CT  SACRAMENTO  95823    CA     3      1    1167   \n",
       "2    2796 BRANCH ST  SACRAMENTO  95815    CA     2      1     796   \n",
       "3  2805 JANETTE WAY  SACRAMENTO  95815    CA     2      1     852   \n",
       "4   6001 MCMAHON DR  SACRAMENTO  95824    CA     2      1     797   \n",
       "\n",
       "                      sale_date  price   latitude   longitude  type__Condo  \\\n",
       "0  Wed May 21 00:00:00 EDT 2008  59222  38.631913 -121.434879            0   \n",
       "1  Wed May 21 00:00:00 EDT 2008  68212  38.478902 -121.431028            0   \n",
       "2  Wed May 21 00:00:00 EDT 2008  68880  38.618305 -121.443839            0   \n",
       "3  Wed May 21 00:00:00 EDT 2008  69307  38.616835 -121.439146            0   \n",
       "4  Wed May 21 00:00:00 EDT 2008  81900  38.519470 -121.435768            0   \n",
       "\n",
       "   type__Multi-Family  type__Residential  \n",
       "0                   0                  1  \n",
       "1                   0                  1  \n",
       "2                   0                  1  \n",
       "3                   0                  1  \n",
       "4                   0                  1  "
      ]
     },
     "execution_count": 11,
     "metadata": {},
     "output_type": "execute_result"
    }
   ],
   "source": [
    "df.head()"
   ]
  },
  {
   "cell_type": "code",
   "execution_count": 12,
   "metadata": {},
   "outputs": [],
   "source": [
    "features = ['beds',\n",
    "            'baths',\n",
    "            'sq__ft',\n",
    "            'type__Condo',\n",
    "            'type__Multi-Family',\n",
    "            'type__Residential']"
   ]
  },
  {
   "cell_type": "code",
   "execution_count": 13,
   "metadata": {},
   "outputs": [],
   "source": [
    "X = df[features]\n",
    "y = df['price']"
   ]
  },
  {
   "cell_type": "code",
   "execution_count": 14,
   "metadata": {},
   "outputs": [
    {
     "name": "stdout",
     "output_type": "stream",
     "text": [
      "(984, 6)\n",
      "(984,)\n"
     ]
    }
   ],
   "source": [
    "print(X.shape)\n",
    "print(y.shape)"
   ]
  },
  {
   "cell_type": "code",
   "execution_count": 15,
   "metadata": {},
   "outputs": [],
   "source": [
    "model = sm.OLS(y, X).fit() "
   ]
  },
  {
   "cell_type": "code",
   "execution_count": 16,
   "metadata": {},
   "outputs": [
    {
     "data": {
      "text/html": [
       "<table class=\"simpletable\">\n",
       "<caption>OLS Regression Results</caption>\n",
       "<tr>\n",
       "  <th>Dep. Variable:</th>          <td>price</td>      <th>  R-squared:         </th> <td>   0.791</td> \n",
       "</tr>\n",
       "<tr>\n",
       "  <th>Model:</th>                   <td>OLS</td>       <th>  Adj. R-squared:    </th> <td>   0.790</td> \n",
       "</tr>\n",
       "<tr>\n",
       "  <th>Method:</th>             <td>Least Squares</td>  <th>  F-statistic:       </th> <td>   616.7</td> \n",
       "</tr>\n",
       "<tr>\n",
       "  <th>Date:</th>             <td>Wed, 26 Sep 2018</td> <th>  Prob (F-statistic):</th>  <td>  0.00</td>  \n",
       "</tr>\n",
       "<tr>\n",
       "  <th>Time:</th>                 <td>12:45:44</td>     <th>  Log-Likelihood:    </th> <td> -12939.</td> \n",
       "</tr>\n",
       "<tr>\n",
       "  <th>No. Observations:</th>      <td>   984</td>      <th>  AIC:               </th> <td>2.589e+04</td>\n",
       "</tr>\n",
       "<tr>\n",
       "  <th>Df Residuals:</th>          <td>   978</td>      <th>  BIC:               </th> <td>2.592e+04</td>\n",
       "</tr>\n",
       "<tr>\n",
       "  <th>Df Model:</th>              <td>     6</td>      <th>                     </th>     <td> </td>    \n",
       "</tr>\n",
       "<tr>\n",
       "  <th>Covariance Type:</th>      <td>nonrobust</td>    <th>                     </th>     <td> </td>    \n",
       "</tr>\n",
       "</table>\n",
       "<table class=\"simpletable\">\n",
       "<tr>\n",
       "           <td></td>             <th>coef</th>     <th>std err</th>      <th>t</th>      <th>P>|t|</th>  <th>[0.025</th>    <th>0.975]</th>  \n",
       "</tr>\n",
       "<tr>\n",
       "  <th>beds</th>               <td>-1.123e+04</td> <td> 5995.130</td> <td>   -1.873</td> <td> 0.061</td> <td> -2.3e+04</td> <td>  535.915</td>\n",
       "</tr>\n",
       "<tr>\n",
       "  <th>baths</th>              <td> 6.672e+04</td> <td> 8483.129</td> <td>    7.865</td> <td> 0.000</td> <td> 5.01e+04</td> <td> 8.34e+04</td>\n",
       "</tr>\n",
       "<tr>\n",
       "  <th>sq__ft</th>             <td>   18.5013</td> <td>    6.572</td> <td>    2.815</td> <td> 0.005</td> <td>    5.604</td> <td>   31.398</td>\n",
       "</tr>\n",
       "<tr>\n",
       "  <th>type__Condo</th>        <td> 7.072e+04</td> <td> 1.81e+04</td> <td>    3.910</td> <td> 0.000</td> <td> 3.52e+04</td> <td> 1.06e+05</td>\n",
       "</tr>\n",
       "<tr>\n",
       "  <th>type__Multi-Family</th> <td> 3.148e+04</td> <td> 3.76e+04</td> <td>    0.837</td> <td> 0.403</td> <td>-4.23e+04</td> <td> 1.05e+05</td>\n",
       "</tr>\n",
       "<tr>\n",
       "  <th>type__Residential</th>  <td> 1.282e+05</td> <td> 1.03e+04</td> <td>   12.490</td> <td> 0.000</td> <td> 1.08e+05</td> <td> 1.48e+05</td>\n",
       "</tr>\n",
       "</table>\n",
       "<table class=\"simpletable\">\n",
       "<tr>\n",
       "  <th>Omnibus:</th>       <td>243.782</td> <th>  Durbin-Watson:     </th> <td>   0.447</td> \n",
       "</tr>\n",
       "<tr>\n",
       "  <th>Prob(Omnibus):</th> <td> 0.000</td>  <th>  Jarque-Bera (JB):  </th> <td> 553.161</td> \n",
       "</tr>\n",
       "<tr>\n",
       "  <th>Skew:</th>          <td> 1.346</td>  <th>  Prob(JB):          </th> <td>7.63e-121</td>\n",
       "</tr>\n",
       "<tr>\n",
       "  <th>Kurtosis:</th>      <td> 5.498</td>  <th>  Cond. No.          </th> <td>1.49e+04</td> \n",
       "</tr>\n",
       "</table><br/><br/>Warnings:<br/>[1] Standard Errors assume that the covariance matrix of the errors is correctly specified.<br/>[2] The condition number is large, 1.49e+04. This might indicate that there are<br/>strong multicollinearity or other numerical problems."
      ],
      "text/plain": [
       "<class 'statsmodels.iolib.summary.Summary'>\n",
       "\"\"\"\n",
       "                            OLS Regression Results                            \n",
       "==============================================================================\n",
       "Dep. Variable:                  price   R-squared:                       0.791\n",
       "Model:                            OLS   Adj. R-squared:                  0.790\n",
       "Method:                 Least Squares   F-statistic:                     616.7\n",
       "Date:                Wed, 26 Sep 2018   Prob (F-statistic):               0.00\n",
       "Time:                        12:45:44   Log-Likelihood:                -12939.\n",
       "No. Observations:                 984   AIC:                         2.589e+04\n",
       "Df Residuals:                     978   BIC:                         2.592e+04\n",
       "Df Model:                           6                                         \n",
       "Covariance Type:            nonrobust                                         \n",
       "======================================================================================\n",
       "                         coef    std err          t      P>|t|      [0.025      0.975]\n",
       "--------------------------------------------------------------------------------------\n",
       "beds               -1.123e+04   5995.130     -1.873      0.061    -2.3e+04     535.915\n",
       "baths               6.672e+04   8483.129      7.865      0.000    5.01e+04    8.34e+04\n",
       "sq__ft                18.5013      6.572      2.815      0.005       5.604      31.398\n",
       "type__Condo         7.072e+04   1.81e+04      3.910      0.000    3.52e+04    1.06e+05\n",
       "type__Multi-Family  3.148e+04   3.76e+04      0.837      0.403   -4.23e+04    1.05e+05\n",
       "type__Residential   1.282e+05   1.03e+04     12.490      0.000    1.08e+05    1.48e+05\n",
       "==============================================================================\n",
       "Omnibus:                      243.782   Durbin-Watson:                   0.447\n",
       "Prob(Omnibus):                  0.000   Jarque-Bera (JB):              553.161\n",
       "Skew:                           1.346   Prob(JB):                    7.63e-121\n",
       "Kurtosis:                       5.498   Cond. No.                     1.49e+04\n",
       "==============================================================================\n",
       "\n",
       "Warnings:\n",
       "[1] Standard Errors assume that the covariance matrix of the errors is correctly specified.\n",
       "[2] The condition number is large, 1.49e+04. This might indicate that there are\n",
       "strong multicollinearity or other numerical problems.\n",
       "\"\"\""
      ]
     },
     "execution_count": 16,
     "metadata": {},
     "output_type": "execute_result"
    }
   ],
   "source": [
    "model.summary()"
   ]
  },
  {
   "cell_type": "markdown",
   "metadata": {},
   "source": [
    "### BONUS: let's add other variables"
   ]
  },
  {
   "cell_type": "code",
   "execution_count": 17,
   "metadata": {},
   "outputs": [],
   "source": [
    "import numpy as np"
   ]
  },
  {
   "cell_type": "code",
   "execution_count": 18,
   "metadata": {
    "scrolled": false
   },
   "outputs": [
    {
     "data": {
      "text/plain": [
       "<seaborn.axisgrid.JointGrid at 0x114f1e0f0>"
      ]
     },
     "execution_count": 18,
     "metadata": {},
     "output_type": "execute_result"
    },
    {
     "data": {
      "image/png": "[encoded data removed]",
      "text/plain": [
       "<Figure size 432x432 with 3 Axes>"
      ]
     },
     "metadata": {},
     "output_type": "display_data"
    }
   ],
   "source": [
    "# It doesn't seem very correlated\n",
    "sns.jointplot(df['latitude'], df['price'])"
   ]
  },
  {
   "cell_type": "code",
   "execution_count": 19,
   "metadata": {},
   "outputs": [
    {
     "data": {
      "text/plain": [
       "<seaborn.axisgrid.JointGrid at 0x1c1de0d470>"
      ]
     },
     "execution_count": 19,
     "metadata": {},
     "output_type": "execute_result"
    },
    {
     "data": {
      "image/png": "[encoded data removed]",
      "text/plain": [
       "<Figure size 432x432 with 3 Axes>"
      ]
     },
     "metadata": {},
     "output_type": "display_data"
    }
   ],
   "source": [
    "# It doesn't seem very correlated\n",
    "sns.jointplot(df['longitude'], df['price'])"
   ]
  },
  {
   "cell_type": "code",
   "execution_count": 20,
   "metadata": {},
   "outputs": [
    {
     "data": {
      "text/plain": [
       "CA    984\n",
       "Name: state, dtype: int64"
      ]
     },
     "execution_count": 20,
     "metadata": {},
     "output_type": "execute_result"
    }
   ],
   "source": [
    "# Only one country :\\\n",
    "df['state'].value_counts()"
   ]
  },
  {
   "cell_type": "code",
   "execution_count": 23,
   "metadata": {},
   "outputs": [
    {
     "data": {
      "text/plain": [
       "95648    72\n",
       "95823    61\n",
       "95828    45\n",
       "95758    44\n",
       "95838    37\n",
       "95835    36\n",
       "95757    36\n",
       "95624    34\n",
       "95843    33\n",
       "95621    28\n",
       "Name: zip, dtype: int64"
      ]
     },
     "execution_count": 23,
     "metadata": {},
     "output_type": "execute_result"
    }
   ],
   "source": [
    "# Too many zip codes\n",
    "df['zip'].value_counts().head(10)"
   ]
  },
  {
   "cell_type": "code",
   "execution_count": 24,
   "metadata": {},
   "outputs": [
    {
     "data": {
      "text/plain": [
       "SACRAMENTO         438\n",
       "ELK GROVE          114\n",
       "LINCOLN             72\n",
       "ROSEVILLE           48\n",
       "CITRUS HEIGHTS      35\n",
       "ANTELOPE            33\n",
       "RANCHO CORDOVA      28\n",
       "EL DORADO HILLS     23\n",
       "GALT                21\n",
       "NORTH HIGHLANDS     21\n",
       "CARMICHAEL          20\n",
       "ROCKLIN             17\n",
       "FOLSOM              17\n",
       "RIO LINDA           13\n",
       "ORANGEVALE          11\n",
       "PLACERVILLE         10\n",
       "FAIR OAKS            9\n",
       "CAMERON PARK         9\n",
       "WILTON               5\n",
       "AUBURN               5\n",
       "GOLD RIVER           4\n",
       "ELVERTA              4\n",
       "RANCHO MURIETA       3\n",
       "WEST SACRAMENTO      3\n",
       "GRANITE BAY          3\n",
       "POLLOCK PINES        3\n",
       "LOOMIS               2\n",
       "EL DORADO            2\n",
       "SLOUGHHOUSE          1\n",
       "GARDEN VALLEY        1\n",
       "FORESTHILL           1\n",
       "MATHER               1\n",
       "WALNUT GROVE         1\n",
       "GREENWOOD            1\n",
       "COOL                 1\n",
       "SHINGLE SPRINGS      1\n",
       "DIAMOND SPRINGS      1\n",
       "PENRYN               1\n",
       "MEADOW VISTA         1\n",
       "Name: city, dtype: int64"
      ]
     },
     "execution_count": 24,
     "metadata": {},
     "output_type": "execute_result"
    }
   ],
   "source": [
    "# this seems good!\n",
    "df['city'].value_counts()"
   ]
  },
  {
   "cell_type": "code",
   "execution_count": 25,
   "metadata": {},
   "outputs": [
    {
     "data": {
      "text/plain": [
       "array(['SACRAMENTO', 'ELK GROVE', 'LINCOLN', 'ROSEVILLE',\n",
       "       'CITRUS HEIGHTS', 'ANTELOPE', 'RANCHO CORDOVA', 'EL DORADO HILLS',\n",
       "       'GALT', 'NORTH HIGHLANDS'], dtype=object)"
      ]
     },
     "execution_count": 25,
     "metadata": {},
     "output_type": "execute_result"
    }
   ],
   "source": [
    "top_cities = df['city'].value_counts().head(10).index.values\n",
    "top_cities"
   ]
  },
  {
   "cell_type": "code",
   "execution_count": 26,
   "metadata": {},
   "outputs": [
    {
     "data": {
      "text/plain": [
       "<matplotlib.axes._subplots.AxesSubplot at 0x1c1e10e7f0>"
      ]
     },
     "execution_count": 26,
     "metadata": {},
     "output_type": "execute_result"
    },
    {
     "data": {
      "image/png": "[encoded data removed]",
      "text/plain": [
       "<Figure size 432x288 with 1 Axes>"
      ]
     },
     "metadata": {},
     "output_type": "display_data"
    }
   ],
   "source": [
    "# MEAN\n",
    "df[df['city'].isin(top_cities)].groupby('city').mean()[['price']].plot(kind='barh')"
   ]
  },
  {
   "cell_type": "code",
   "execution_count": 27,
   "metadata": {},
   "outputs": [
    {
     "data": {
      "text/plain": [
       "<matplotlib.axes._subplots.AxesSubplot at 0x1c1e264208>"
      ]
     },
     "execution_count": 27,
     "metadata": {},
     "output_type": "execute_result"
    },
    {
     "data": {
      "image/png": "[encoded data removed]",
      "text/plain": [
       "<Figure size 432x288 with 1 Axes>"
      ]
     },
     "metadata": {},
     "output_type": "display_data"
    }
   ],
   "source": [
    "sns.violinplot(data=df[df['city'].isin(top_cities)], y='city', x='price')"
   ]
  },
  {
   "cell_type": "code",
   "execution_count": 28,
   "metadata": {},
   "outputs": [],
   "source": [
    "df = pd.concat([df, \n",
    "           pd.get_dummies(df['city'])[top_cities].rename(columns=lambda c: 'city_'+c)], \n",
    "          axis=1)"
   ]
  },
  {
   "cell_type": "code",
   "execution_count": 29,
   "metadata": {},
   "outputs": [
    {
     "data": {
      "text/plain": [
       "Index(['street', 'city', 'zip', 'state', 'beds', 'baths', 'sq__ft',\n",
       "       'sale_date', 'price', 'latitude', 'longitude', 'type__Condo',\n",
       "       'type__Multi-Family', 'type__Residential', 'city_SACRAMENTO',\n",
       "       'city_ELK GROVE', 'city_LINCOLN', 'city_ROSEVILLE',\n",
       "       'city_CITRUS HEIGHTS', 'city_ANTELOPE', 'city_RANCHO CORDOVA',\n",
       "       'city_EL DORADO HILLS', 'city_GALT', 'city_NORTH HIGHLANDS'],\n",
       "      dtype='object')"
      ]
     },
     "execution_count": 29,
     "metadata": {},
     "output_type": "execute_result"
    }
   ],
   "source": [
    "df.columns"
   ]
  },
  {
   "cell_type": "code",
   "execution_count": 30,
   "metadata": {},
   "outputs": [
    {
     "data": {
      "text/plain": [
       "['beds',\n",
       " 'baths',\n",
       " 'sq__ft',\n",
       " 'type__Condo',\n",
       " 'type__Multi-Family',\n",
       " 'type__Residential',\n",
       " 'city_SACRAMENTO',\n",
       " 'city_ELK GROVE',\n",
       " 'city_LINCOLN',\n",
       " 'city_ROSEVILLE',\n",
       " 'city_CITRUS HEIGHTS',\n",
       " 'city_ANTELOPE',\n",
       " 'city_RANCHO CORDOVA',\n",
       " 'city_EL DORADO HILLS',\n",
       " 'city_GALT',\n",
       " 'city_NORTH HIGHLANDS']"
      ]
     },
     "execution_count": 30,
     "metadata": {},
     "output_type": "execute_result"
    }
   ],
   "source": [
    "features = features + [c for c in df.columns if 'city_' in c]\n",
    "features"
   ]
  },
  {
   "cell_type": "code",
   "execution_count": 31,
   "metadata": {},
   "outputs": [],
   "source": [
    "X = df[features]\n",
    "y = df['price']"
   ]
  },
  {
   "cell_type": "code",
   "execution_count": 32,
   "metadata": {},
   "outputs": [],
   "source": [
    "model = sm.OLS(y, X).fit() "
   ]
  },
  {
   "cell_type": "code",
   "execution_count": 33,
   "metadata": {},
   "outputs": [
    {
     "data": {
      "text/html": [
       "<table class=\"simpletable\">\n",
       "<caption>OLS Regression Results</caption>\n",
       "<tr>\n",
       "  <th>Dep. Variable:</th>          <td>price</td>      <th>  R-squared:         </th> <td>   0.852</td> \n",
       "</tr>\n",
       "<tr>\n",
       "  <th>Model:</th>                   <td>OLS</td>       <th>  Adj. R-squared:    </th> <td>   0.849</td> \n",
       "</tr>\n",
       "<tr>\n",
       "  <th>Method:</th>             <td>Least Squares</td>  <th>  F-statistic:       </th> <td>   348.0</td> \n",
       "</tr>\n",
       "<tr>\n",
       "  <th>Date:</th>             <td>Wed, 26 Sep 2018</td> <th>  Prob (F-statistic):</th>  <td>  0.00</td>  \n",
       "</tr>\n",
       "<tr>\n",
       "  <th>Time:</th>                 <td>12:46:22</td>     <th>  Log-Likelihood:    </th> <td> -12770.</td> \n",
       "</tr>\n",
       "<tr>\n",
       "  <th>No. Observations:</th>      <td>   984</td>      <th>  AIC:               </th> <td>2.557e+04</td>\n",
       "</tr>\n",
       "<tr>\n",
       "  <th>Df Residuals:</th>          <td>   968</td>      <th>  BIC:               </th> <td>2.565e+04</td>\n",
       "</tr>\n",
       "<tr>\n",
       "  <th>Df Model:</th>              <td>    16</td>      <th>                     </th>     <td> </td>    \n",
       "</tr>\n",
       "<tr>\n",
       "  <th>Covariance Type:</th>      <td>nonrobust</td>    <th>                     </th>     <td> </td>    \n",
       "</tr>\n",
       "</table>\n",
       "<table class=\"simpletable\">\n",
       "<tr>\n",
       "            <td></td>              <th>coef</th>     <th>std err</th>      <th>t</th>      <th>P>|t|</th>  <th>[0.025</th>    <th>0.975]</th>  \n",
       "</tr>\n",
       "<tr>\n",
       "  <th>beds</th>                 <td>-1.168e+04</td> <td> 5276.613</td> <td>   -2.213</td> <td> 0.027</td> <td> -2.2e+04</td> <td>-1320.594</td>\n",
       "</tr>\n",
       "<tr>\n",
       "  <th>baths</th>                <td> 3.855e+04</td> <td> 7419.562</td> <td>    5.196</td> <td> 0.000</td> <td>  2.4e+04</td> <td> 5.31e+04</td>\n",
       "</tr>\n",
       "<tr>\n",
       "  <th>sq__ft</th>               <td>   41.0785</td> <td>    6.207</td> <td>    6.618</td> <td> 0.000</td> <td>   28.897</td> <td>   53.260</td>\n",
       "</tr>\n",
       "<tr>\n",
       "  <th>type__Condo</th>          <td>  1.72e+05</td> <td> 1.75e+04</td> <td>    9.802</td> <td> 0.000</td> <td> 1.38e+05</td> <td> 2.06e+05</td>\n",
       "</tr>\n",
       "<tr>\n",
       "  <th>type__Multi-Family</th>   <td> 1.848e+05</td> <td> 3.37e+04</td> <td>    5.481</td> <td> 0.000</td> <td> 1.19e+05</td> <td> 2.51e+05</td>\n",
       "</tr>\n",
       "<tr>\n",
       "  <th>type__Residential</th>    <td> 2.374e+05</td> <td> 1.26e+04</td> <td>   18.875</td> <td> 0.000</td> <td> 2.13e+05</td> <td> 2.62e+05</td>\n",
       "</tr>\n",
       "<tr>\n",
       "  <th>city_SACRAMENTO</th>      <td>-1.245e+05</td> <td> 1.01e+04</td> <td>  -12.353</td> <td> 0.000</td> <td>-1.44e+05</td> <td>-1.05e+05</td>\n",
       "</tr>\n",
       "<tr>\n",
       "  <th>city_ELK GROVE</th>       <td>-8.275e+04</td> <td> 1.33e+04</td> <td>   -6.230</td> <td> 0.000</td> <td>-1.09e+05</td> <td>-5.67e+04</td>\n",
       "</tr>\n",
       "<tr>\n",
       "  <th>city_LINCOLN</th>         <td>-1.591e+05</td> <td> 1.65e+04</td> <td>   -9.645</td> <td> 0.000</td> <td>-1.92e+05</td> <td>-1.27e+05</td>\n",
       "</tr>\n",
       "<tr>\n",
       "  <th>city_ROSEVILLE</th>       <td> 1.846e+04</td> <td> 1.77e+04</td> <td>    1.046</td> <td> 0.296</td> <td>-1.62e+04</td> <td> 5.31e+04</td>\n",
       "</tr>\n",
       "<tr>\n",
       "  <th>city_CITRUS HEIGHTS</th>  <td>-1.349e+05</td> <td> 1.99e+04</td> <td>   -6.783</td> <td> 0.000</td> <td>-1.74e+05</td> <td>-9.59e+04</td>\n",
       "</tr>\n",
       "<tr>\n",
       "  <th>city_ANTELOPE</th>        <td>-1.195e+05</td> <td> 2.04e+04</td> <td>   -5.870</td> <td> 0.000</td> <td>-1.59e+05</td> <td>-7.95e+04</td>\n",
       "</tr>\n",
       "<tr>\n",
       "  <th>city_RANCHO CORDOVA</th>  <td>  -6.1e+04</td> <td> 2.18e+04</td> <td>   -2.801</td> <td> 0.005</td> <td>-1.04e+05</td> <td>-1.83e+04</td>\n",
       "</tr>\n",
       "<tr>\n",
       "  <th>city_EL DORADO HILLS</th> <td> 1.959e+05</td> <td> 2.53e+04</td> <td>    7.741</td> <td> 0.000</td> <td> 1.46e+05</td> <td> 2.46e+05</td>\n",
       "</tr>\n",
       "<tr>\n",
       "  <th>city_GALT</th>            <td>-1.028e+05</td> <td> 2.46e+04</td> <td>   -4.173</td> <td> 0.000</td> <td>-1.51e+05</td> <td>-5.45e+04</td>\n",
       "</tr>\n",
       "<tr>\n",
       "  <th>city_NORTH HIGHLANDS</th> <td> -1.74e+05</td> <td> 2.48e+04</td> <td>   -7.028</td> <td> 0.000</td> <td>-2.23e+05</td> <td>-1.25e+05</td>\n",
       "</tr>\n",
       "</table>\n",
       "<table class=\"simpletable\">\n",
       "<tr>\n",
       "  <th>Omnibus:</th>       <td>195.292</td> <th>  Durbin-Watson:     </th> <td>   0.926</td> \n",
       "</tr>\n",
       "<tr>\n",
       "  <th>Prob(Omnibus):</th> <td> 0.000</td>  <th>  Jarque-Bera (JB):  </th> <td> 527.031</td> \n",
       "</tr>\n",
       "<tr>\n",
       "  <th>Skew:</th>          <td> 1.018</td>  <th>  Prob(JB):          </th> <td>3.60e-115</td>\n",
       "</tr>\n",
       "<tr>\n",
       "  <th>Kurtosis:</th>      <td> 5.951</td>  <th>  Cond. No.          </th> <td>1.81e+04</td> \n",
       "</tr>\n",
       "</table><br/><br/>Warnings:<br/>[1] Standard Errors assume that the covariance matrix of the errors is correctly specified.<br/>[2] The condition number is large, 1.81e+04. This might indicate that there are<br/>strong multicollinearity or other numerical problems."
      ],
      "text/plain": [
       "<class 'statsmodels.iolib.summary.Summary'>\n",
       "\"\"\"\n",
       "                            OLS Regression Results                            \n",
       "==============================================================================\n",
       "Dep. Variable:                  price   R-squared:                       0.852\n",
       "Model:                            OLS   Adj. R-squared:                  0.849\n",
       "Method:                 Least Squares   F-statistic:                     348.0\n",
       "Date:                Wed, 26 Sep 2018   Prob (F-statistic):               0.00\n",
       "Time:                        12:46:22   Log-Likelihood:                -12770.\n",
       "No. Observations:                 984   AIC:                         2.557e+04\n",
       "Df Residuals:                     968   BIC:                         2.565e+04\n",
       "Df Model:                          16                                         \n",
       "Covariance Type:            nonrobust                                         \n",
       "========================================================================================\n",
       "                           coef    std err          t      P>|t|      [0.025      0.975]\n",
       "----------------------------------------------------------------------------------------\n",
       "beds                 -1.168e+04   5276.613     -2.213      0.027    -2.2e+04   -1320.594\n",
       "baths                 3.855e+04   7419.562      5.196      0.000     2.4e+04    5.31e+04\n",
       "sq__ft                  41.0785      6.207      6.618      0.000      28.897      53.260\n",
       "type__Condo            1.72e+05   1.75e+04      9.802      0.000    1.38e+05    2.06e+05\n",
       "type__Multi-Family    1.848e+05   3.37e+04      5.481      0.000    1.19e+05    2.51e+05\n",
       "type__Residential     2.374e+05   1.26e+04     18.875      0.000    2.13e+05    2.62e+05\n",
       "city_SACRAMENTO      -1.245e+05   1.01e+04    -12.353      0.000   -1.44e+05   -1.05e+05\n",
       "city_ELK GROVE       -8.275e+04   1.33e+04     -6.230      0.000   -1.09e+05   -5.67e+04\n",
       "city_LINCOLN         -1.591e+05   1.65e+04     -9.645      0.000   -1.92e+05   -1.27e+05\n",
       "city_ROSEVILLE        1.846e+04   1.77e+04      1.046      0.296   -1.62e+04    5.31e+04\n",
       "city_CITRUS HEIGHTS  -1.349e+05   1.99e+04     -6.783      0.000   -1.74e+05   -9.59e+04\n",
       "city_ANTELOPE        -1.195e+05   2.04e+04     -5.870      0.000   -1.59e+05   -7.95e+04\n",
       "city_RANCHO CORDOVA    -6.1e+04   2.18e+04     -2.801      0.005   -1.04e+05   -1.83e+04\n",
       "city_EL DORADO HILLS  1.959e+05   2.53e+04      7.741      0.000    1.46e+05    2.46e+05\n",
       "city_GALT            -1.028e+05   2.46e+04     -4.173      0.000   -1.51e+05   -5.45e+04\n",
       "city_NORTH HIGHLANDS  -1.74e+05   2.48e+04     -7.028      0.000   -2.23e+05   -1.25e+05\n",
       "==============================================================================\n",
       "Omnibus:                      195.292   Durbin-Watson:                   0.926\n",
       "Prob(Omnibus):                  0.000   Jarque-Bera (JB):              527.031\n",
       "Skew:                           1.018   Prob(JB):                    3.60e-115\n",
       "Kurtosis:                       5.951   Cond. No.                     1.81e+04\n",
       "==============================================================================\n",
       "\n",
       "Warnings:\n",
       "[1] Standard Errors assume that the covariance matrix of the errors is correctly specified.\n",
       "[2] The condition number is large, 1.81e+04. This might indicate that there are\n",
       "strong multicollinearity or other numerical problems.\n",
       "\"\"\""
      ]
     },
     "execution_count": 33,
     "metadata": {},
     "output_type": "execute_result"
    }
   ],
   "source": [
    "model.summary()"
   ]
  },
  {
   "cell_type": "markdown",
   "metadata": {},
   "source": [
    "### 5) Plot the residuals ( y-true vs. y-pred) to evaluate your MLR visually.\n",
    "\n",
    "> **Tip:** With Seaborn's `sns.lmplot`, you can set `x`, `y`, and even a `hue` (which will plot regression lines by category in different colors) to easily plot a regression line."
   ]
  },
  {
   "cell_type": "code",
   "execution_count": 34,
   "metadata": {},
   "outputs": [
    {
     "data": {
      "text/plain": [
       "<seaborn.axisgrid.JointGrid at 0x1c1e3efda0>"
      ]
     },
     "execution_count": 34,
     "metadata": {},
     "output_type": "execute_result"
    },
    {
     "data": {
      "image/png": "[encoded data removed]",
      "text/plain": [
       "<Figure size 432x432 with 3 Axes>"
      ]
     },
     "metadata": {},
     "output_type": "display_data"
    }
   ],
   "source": [
    "# A:\n",
    "\n",
    "sns.jointplot(y, model.predict(X))"
   ]
  },
  {
   "cell_type": "markdown",
   "metadata": {},
   "source": [
    "### 6) List the five assumptions for an MLR model. \n",
    "\n",
    "Indicate which ones are the same as the assumptions for an SLR model. "
   ]
  },
  {
   "cell_type": "code",
   "execution_count": 35,
   "metadata": {},
   "outputs": [],
   "source": [
    "# A:\n"
   ]
  },
  {
   "cell_type": "markdown",
   "metadata": {},
   "source": [
    "### 7) Pick at least two assumptions and articulate whether or not you believe they were met for your model and why."
   ]
  },
  {
   "cell_type": "code",
   "execution_count": 36,
   "metadata": {},
   "outputs": [],
   "source": [
    "# A:"
   ]
  },
  {
   "cell_type": "markdown",
   "metadata": {},
   "source": [
    "### 8) Explain what the intercept in your model means in the context of your predictor variables."
   ]
  },
  {
   "cell_type": "code",
   "execution_count": 37,
   "metadata": {},
   "outputs": [],
   "source": [
    "# A:"
   ]
  },
  {
   "cell_type": "markdown",
   "metadata": {},
   "source": [
    "### 9) Generate a table showing the point estimates, standard errors, t-scores, p values, and 95 percent confidence intervals for the model you built. \n",
    "\n",
    "**Write a few sentences interpreting some of the output.**\n",
    "\n",
    "> **Hint:** Scikit-learn does not have this functionality built in, but  you can find it in the `summary` function in statsmodels."
   ]
  },
  {
   "cell_type": "code",
   "execution_count": 38,
   "metadata": {},
   "outputs": [],
   "source": [
    "# A:"
   ]
  },
  {
   "cell_type": "markdown",
   "metadata": {},
   "source": [
    "### 10) [Bonus] Summarize your findings.\n",
    "\n",
    "Picture this: You work for a real estate agency. You're asked to prepare an executive summary for your very busy boss highlighting the most important findings from your MLR model. Convey these findings in no more than two paragraphs. Be sure to briefly address any potential shortcomings of your model.\n"
   ]
  },
  {
   "cell_type": "code",
   "execution_count": 39,
   "metadata": {},
   "outputs": [],
   "source": [
    "# A: "
   ]
  }
 ],
 "metadata": {
  "anaconda-cloud": {},
  "kernelspec": {
   "display_name": "Python 3",
   "language": "python",
   "name": "python3"
  },
  "language_info": {
   "codemirror_mode": {
    "name": "ipython",
    "version": 3
   },
   "file_extension": ".py",
   "mimetype": "text/x-python",
   "name": "python",
   "nbconvert_exporter": "python",
   "pygments_lexer": "ipython3",
   "version": "3.6.6"
  }
 },
 "nbformat": 4,
 "nbformat_minor": 1
}
