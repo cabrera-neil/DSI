{
 "cells": [
  {
   "cell_type": "markdown",
   "metadata": {},
   "source": [
    "<img src=\"http://imgur.com/1ZcRyrc.png\" style=\"float: left; margin: 20px; height: 55px\">\n",
    "\n",
    "## Introduction to `pandas` Grouping\n",
    "\n",
    "_Authors: Kiefer Katovich (SF), Dave Yerrington (SF), Mario Carrillo (SF)_\n",
    "\n",
    "---"
   ]
  },
  {
   "cell_type": "markdown",
   "metadata": {},
   "source": [
    "### Learning Objectives\n",
    "*After this lesson, you will be able to:*\n",
    "- Identify the situations in which **grouping** is useful.\n",
    "- Explain and use the **`.groupby()`** function in `pandas`.\n",
    "- Demonstrate aggregation and plotting methods by groups in `pandas`."
   ]
  },
  {
   "cell_type": "markdown",
   "metadata": {},
   "source": [
    "### Lesson Guide\n",
    "\n",
    "- [Overview of Multi-Dimensional Data Analysis](#overview)\n",
    "- [Analyzing Data by Group: Examples](#grouping_examples)\n",
    "- [Exploring the Titanic Data Set with Grouping](#load_titanic)\n",
    "- [Introducing `pandas` `.groupby()` Function](#groupby)\n",
    "- [Grouping by Multiple Variables](#groupby_multiple)\n",
    "- [Applying Basic Functions to Groups](#basic_functions)\n",
    "- [Removing the Hierarchical Index](#removing_hierarchical)\n",
    "- [Applying Custom Functions with `.apply()`](#custom_functions)\n",
    "- [Plotting Basic Histograms with Groups](#basic_plotting)\n",
    "- [Grouped Histograms with `pandas`](#grouped_hists)\n",
    "- [Independent Practice](#independent_practice)\n"
   ]
  },
  {
   "cell_type": "markdown",
   "metadata": {},
   "source": [
    "<a id='overview'></a>\n",
    "\n",
    "### Overview of Multi-Dimensional Data Analysis\n",
    "\n",
    "---\n",
    "\n",
    "Multi-dimensional data analysis allows you to:\n",
    "\n",
    "- Describe segments of your data based on unique values.\n",
    "- Understand characteristics of your data.\n",
    "   - Calculate summary statistics across subsets.\n",
    "   - Discover patterns that exist in some subsets but not others.\n",
    "- Find duplicate values or redundant data.\n",
    "- Apply aggregate functions to subsets.\n"
   ]
  },
  {
   "cell_type": "markdown",
   "metadata": {},
   "source": [
    "<a id='grouping_examples'></a>\n",
    "\n",
    "### Analyzing Data by Group: Examples\n",
    "\n",
    "---\n",
    "\n",
    "Scenarios include determining the: \n",
    "\n",
    " - Sum of crimes by time of day in San Francisco (morning, afternoon, night).\n",
    " - Count number of people with the same last name.\n",
    " - Median number of multi-unit buildings in a region.\n",
    " - Popularity of movie genres by region.\n",
    " - Customer segments based on age, buying habits, interests, and behavior.\n",
    " \n",
    " You can also apply the \"GROUP BY\" clause in a database query using SQL."
   ]
  },
  {
   "cell_type": "markdown",
   "metadata": {},
   "source": [
    "#### Subset Aggregation:\n",
    "\n",
    "This chart stratifies a single variable, \"industry,\" **counting** job openings within a specific category.\n",
    "\n",
    "![](http://www.rasmussen.edu/images/blogs/1360270834-402_Graphs_JobOpeningsByIndustry.jpg)"
   ]
  },
  {
   "cell_type": "markdown",
   "metadata": {},
   "source": [
    "#### Hierarchical Aggregation\n",
    "\n",
    "This chart aggregates first by a top-level group, \"industry,\" and then by a secondary group, \"date,\" within each industry.\n",
    "\n",
    "![](http://junkcharts.typepad.com/.a/6a00d8341e992c53ef0192acc65090970d-pi)"
   ]
  },
  {
   "cell_type": "markdown",
   "metadata": {},
   "source": [
    "<a id='load_titanic'></a>\n",
    "\n",
    "### Exploring the Titanic Data Set with Grouping\n",
    "\n",
    "---\n",
    "\n",
    "To explore the power of grouping with `pandas`, we will be using [the famous Titanic data set](https://www.kaggle.com/c/titanic), which can be downloaded from Kaggle. Here's the competition description:\n",
    "\n",
    ">The sinking of the RMS Titanic is one of the most infamous shipwrecks in history. On April 15, 1912, during her maiden voyage, the Titanic sank after colliding with an iceberg, killing 1,502 out of 2,224 passengers and crew. This sensational tragedy shocked the international community and led to better safety regulations for ships.\n",
    "\n",
    ">One of the reasons that the shipwreck led to such loss of life was that there were not enough lifeboats for the passengers and crew. Although there was some element of luck involved in surviving the sinking, some groups of people were more likely to survive than others, such as women, children, and the upper class.\n",
    "\n",
    "Although we will not be modeling survival rates in this lesson, there are interesting patterns to be found just by exploring descriptive statistics in cross-sections of the data."
   ]
  },
  {
   "cell_type": "code",
   "execution_count": 1,
   "metadata": {
    "collapsed": true
   },
   "outputs": [],
   "source": [
    "import pandas as pd\n",
    "import numpy as np\n",
    "import seaborn as sns\n",
    "import matplotlib.pyplot as plt\n",
    "sns.set_style('whitegrid')\n",
    "\n",
    "%matplotlib inline\n",
    "%config InlineBackend.figure_format ='retina'"
   ]
  },
  {
   "cell_type": "markdown",
   "metadata": {},
   "source": [
    "**Load the data into `pandas`.**"
   ]
  },
  {
   "cell_type": "code",
   "execution_count": 5,
   "metadata": {
    "collapsed": true
   },
   "outputs": [],
   "source": [
    "path_to_file = './datasets/titanic_clean.csv'\n"
   ]
  },
  {
   "cell_type": "markdown",
   "metadata": {},
   "source": [
    "The data contains a variety of information about the passengers present at the sinking of the Titanic.\n",
    "\n",
    "**Describe the data in the columns with summary statistics.**"
   ]
  },
  {
   "cell_type": "code",
   "execution_count": null,
   "metadata": {
    "collapsed": true
   },
   "outputs": [],
   "source": []
  },
  {
   "cell_type": "markdown",
   "metadata": {},
   "source": [
    "<a id='groupby'></a>\n",
    "\n",
    "### Introducing `pandas`' `.groupby()` Function\n",
    "\n",
    "---\n",
    "\n",
    "The built-in `.groupby()` function for DataFrames is one of the most useful tools in `pandas`. As the name implies, `.groupby()` will group your data set by one or more user-specified column names.\n",
    "\n",
    "**Using `.groupby()`, create a grouped DataFrame in which the Titanic data set is grouped by \"Pclass.\"**"
   ]
  },
  {
   "cell_type": "code",
   "execution_count": null,
   "metadata": {
    "collapsed": true
   },
   "outputs": [],
   "source": []
  },
  {
   "cell_type": "markdown",
   "metadata": {},
   "source": [
    "**Print out the type of the grouped DataFrame.**"
   ]
  },
  {
   "cell_type": "code",
   "execution_count": null,
   "metadata": {
    "collapsed": true
   },
   "outputs": [],
   "source": []
  },
  {
   "cell_type": "markdown",
   "metadata": {},
   "source": [
    "Instead of a `DataFrame` object, we now have a `DataFrameGroupBy` object. This operates somewhat differently than the DataFrames we're used to, as we'll soon see.\n",
    "\n",
    "**Try pulling out the first group from the grouped DataFrame with index 0.**"
   ]
  },
  {
   "cell_type": "code",
   "execution_count": null,
   "metadata": {
    "collapsed": true
   },
   "outputs": [],
   "source": []
  },
  {
   "cell_type": "markdown",
   "metadata": {},
   "source": [
    "Grouped DataFrames operate differently than Python lists. You can't pull out different groups with indexers. Despite this, grouped DataFrame objects **are** iterable! You can step through them using a for loop, for example.\n",
    "\n",
    "In our grouped DataFrame, each element will be a tuple containing the \"Pclass\" group as its first element and the subset of the original Titanic DataFrame for that \"Pclass\" as its second element.\n",
    "\n",
    "**Write a for loop to iterate through the grouped DataFrame, printing out the \"PClass\" and the header of the subset each time.**"
   ]
  },
  {
   "cell_type": "code",
   "execution_count": null,
   "metadata": {
    "collapsed": true
   },
   "outputs": [],
   "source": []
  },
  {
   "cell_type": "markdown",
   "metadata": {},
   "source": [
    "<a id='groupby_multiple'></a>\n",
    "\n",
    "### Grouping by Multiple Variables\n",
    "\n",
    "---\n",
    "\n",
    "Grouping by more than one column is simple; the `.groupby()` function can accept a list of column names to group by. When you group by more than one column, each subset of the data will correspond to one distinct combination of the grouping columns.\n",
    "\n",
    "**Create a grouped DataFrame by grouping the Titanic data by \"Pclass\" and \"Survived.\"**"
   ]
  },
  {
   "cell_type": "code",
   "execution_count": null,
   "metadata": {
    "collapsed": true
   },
   "outputs": [],
   "source": []
  },
  {
   "cell_type": "markdown",
   "metadata": {},
   "source": [
    "**Print out the length of this grouped DataFrame.**\n",
    "\n",
    "It is the same length as the unique combinations of \"Pclass\" and \"Survived:\" three Pclasses by two survival values."
   ]
  },
  {
   "cell_type": "code",
   "execution_count": null,
   "metadata": {
    "collapsed": true
   },
   "outputs": [],
   "source": []
  },
  {
   "cell_type": "markdown",
   "metadata": {},
   "source": [
    "<a id='basic_functions'></a>\n",
    "\n",
    "### Applying Basic Functions to Groups\n",
    "\n",
    "---\n",
    "\n",
    "`pandas` makes it easy to apply basic statistical functions to grouped data with built-in functions. For example, assume you have a grouped DataFrame, `grouped`:\n",
    "\n",
    "```python\n",
    "print grouped.mean()\n",
    "print grouped.median()\n",
    "print grouped.count()\n",
    "print grouped.max()\n",
    "```\n",
    "\n",
    "We can calculate the mean, median, count, and max of the columns by group. \n",
    "\n",
    "**Try out these built-in functions on the grouped data you made above.**"
   ]
  },
  {
   "cell_type": "code",
   "execution_count": null,
   "metadata": {
    "collapsed": true
   },
   "outputs": [],
   "source": []
  },
  {
   "cell_type": "code",
   "execution_count": null,
   "metadata": {
    "collapsed": true
   },
   "outputs": [],
   "source": []
  },
  {
   "cell_type": "markdown",
   "metadata": {},
   "source": [
    "You can also operate on single columns or subsets of columns across grouped DataFrames using the indexing syntax for standard DataFrames.\n",
    "\n",
    "**Find the percent of passengers who survived, grouped by where they embarked.**"
   ]
  },
  {
   "cell_type": "code",
   "execution_count": null,
   "metadata": {
    "collapsed": true
   },
   "outputs": [],
   "source": []
  },
  {
   "cell_type": "markdown",
   "metadata": {},
   "source": [
    "**Find the average fare and age, grouped by the location embarked as well as the class.**"
   ]
  },
  {
   "cell_type": "code",
   "execution_count": null,
   "metadata": {
    "collapsed": true
   },
   "outputs": [],
   "source": []
  },
  {
   "cell_type": "markdown",
   "metadata": {},
   "source": [
    "<a id='removing_hierarchical'></a>\n",
    "\n",
    "### Removing the Hierarchical Index\n",
    "\n",
    "---\n",
    "\n",
    "By default, `pandas` will give you back your groups in a hierarchical index format. If this is not what you prefer, you can use the `.reset_index()` function to take your row labels and convert them into columns.\n",
    "\n",
    "**Remove the hierarchical index for the average fare and age data set you just created, converting \"Embarked\" and \"Pclass\" to columns.**"
   ]
  },
  {
   "cell_type": "code",
   "execution_count": null,
   "metadata": {
    "collapsed": true
   },
   "outputs": [],
   "source": []
  },
  {
   "cell_type": "markdown",
   "metadata": {},
   "source": [
    "<a id='custom_functions'></a>\n",
    "\n",
    "### Applying Custom Functions with `.apply()`\n",
    "\n",
    "---\n",
    "\n",
    "While `pandas` does contain a variety of useful, built-in summary functions, you'll often need to apply a custom function to the data in your groups. \n",
    "\n",
    "The `.apply()` function takes a function as an argument and applies it to the subsets of data in your DataFrame groups.\n",
    "\n",
    "**See what happens when you replace the built-in `.mean()` function with `.apply(np.mean)` for the question above.**"
   ]
  },
  {
   "cell_type": "code",
   "execution_count": null,
   "metadata": {
    "collapsed": true
   },
   "outputs": [],
   "source": []
  },
  {
   "cell_type": "markdown",
   "metadata": {},
   "source": [
    "Say we want to determine the mean of fare and age per \"Embarked\" and \"Pclass,\" but we also want the numbers to be rounded. One way to do this would be to round the columns after we apply the mean function as we did above. \n",
    "\n",
    "Another way would be to write a custom function to pass into `.apply()`. *The function passed to `.apply()` will run on all of the subsets of data.*\n",
    "\n",
    "**Write a function that will take the mean of columns in a data set and round the values.**"
   ]
  },
  {
   "cell_type": "code",
   "execution_count": null,
   "metadata": {
    "collapsed": true
   },
   "outputs": [],
   "source": []
  },
  {
   "cell_type": "markdown",
   "metadata": {},
   "source": [
    "**Apply your custom function to the grouped data.**"
   ]
  },
  {
   "cell_type": "code",
   "execution_count": null,
   "metadata": {
    "collapsed": true
   },
   "outputs": [],
   "source": []
  },
  {
   "cell_type": "markdown",
   "metadata": {},
   "source": [
    "Functions that can be applied to a DataFrame and return a DataFrame can also be applied to *groups* of DataFrames.\n",
    "\n",
    "**For example, write a function that will return the subset of the Titanic data set with the top five paying female passsengers.**\n"
   ]
  },
  {
   "cell_type": "code",
   "execution_count": null,
   "metadata": {
    "collapsed": true
   },
   "outputs": [],
   "source": []
  },
  {
   "cell_type": "markdown",
   "metadata": {},
   "source": [
    "**Group the Titanic data by \"Survived\" and apply your function to extract the top paying females.**"
   ]
  },
  {
   "cell_type": "code",
   "execution_count": null,
   "metadata": {
    "collapsed": true,
    "scrolled": true
   },
   "outputs": [],
   "source": []
  },
  {
   "cell_type": "markdown",
   "metadata": {},
   "source": [
    "<a id='basic_plotting'></a>\n",
    "\n",
    "### Plotting Basic Histograms with Groups\n",
    "\n",
    "---\n",
    "\n",
    "We can leverage the power of `pandas` even more by mixing its plotting capabilities with its grouping capabilities.\n",
    "\n",
    "**First, find the number of passengers per \"PClass\" by using `.groupby()` and `.size()`.**"
   ]
  },
  {
   "cell_type": "code",
   "execution_count": null,
   "metadata": {
    "collapsed": true
   },
   "outputs": [],
   "source": []
  },
  {
   "cell_type": "markdown",
   "metadata": {},
   "source": [
    "Here we have a Series object with the counts of the passengers-per-class group. It's easy to create a histogram of these counts by appending `.plot(kind=\"bar\", color=\"g\", width=0.85)`."
   ]
  },
  {
   "cell_type": "code",
   "execution_count": null,
   "metadata": {
    "collapsed": true
   },
   "outputs": [],
   "source": []
  },
  {
   "cell_type": "markdown",
   "metadata": {},
   "source": [
    "**Plot the average fare per sex and class as a histogram.**"
   ]
  },
  {
   "cell_type": "code",
   "execution_count": null,
   "metadata": {
    "collapsed": true
   },
   "outputs": [],
   "source": []
  },
  {
   "cell_type": "markdown",
   "metadata": {},
   "source": [
    "<a id='grouped_hists'></a>\n",
    "\n",
    "### Grouped Histograms with `pandas`\n",
    "\n",
    "---\n",
    "\n",
    "In the chart we just made, each bar represents a distinct combination of our groups in `.groupby()`. This is fine, but it would be a more visually appealing and informative chart if we represented each group with a different color and made a grouped bar chart.\n",
    "\n",
    "**Calculate the mean of fare by \"Pclass\" and \"Sex\" using `.groupby()`, assign it to a variable, and print it out.**"
   ]
  },
  {
   "cell_type": "code",
   "execution_count": null,
   "metadata": {
    "collapsed": true
   },
   "outputs": [],
   "source": []
  },
  {
   "cell_type": "markdown",
   "metadata": {},
   "source": [
    "There is another built-in function for `pandas` objects called `.unstack()`. When we have a hierarchical index like we do above with \"Pclass\" as the broader category and \"Sex\" as the subcategory, the `.unstack()` command will attempt to move the subcategory from index to column representation.\n",
    "\n",
    "This is a way to move from a \"long\" to a \"wide\" column format.\n",
    "\n",
    "**Use the `.unstack()` function on your mean fare variable.**"
   ]
  },
  {
   "cell_type": "code",
   "execution_count": null,
   "metadata": {
    "collapsed": true
   },
   "outputs": [],
   "source": []
  },
  {
   "cell_type": "markdown",
   "metadata": {},
   "source": [
    "**Now, use the plot function on the unstacked data to create a bar chart.**"
   ]
  },
  {
   "cell_type": "code",
   "execution_count": null,
   "metadata": {
    "collapsed": true
   },
   "outputs": [],
   "source": []
  },
  {
   "cell_type": "markdown",
   "metadata": {},
   "source": [
    "If you add the keyword variable `stacked=True`, it will instead stack the bars within the broader \"Pclass\" category."
   ]
  },
  {
   "cell_type": "code",
   "execution_count": null,
   "metadata": {
    "collapsed": true
   },
   "outputs": [],
   "source": []
  },
  {
   "cell_type": "markdown",
   "metadata": {},
   "source": [
    "<a id='independent_practice'></a>\n",
    "\n",
    "### Independent Practice\n",
    "\n",
    "---\n",
    "\n",
    "Now that you've covered the basics of grouping, applying functions, aggregating data, and `pandas` plotting with grouped data, [open up the practice notebook](./practice/practice_pandas_grouping.ipynb)  and explore the UFO sightings data!"
   ]
  },
  {
   "cell_type": "code",
   "execution_count": null,
   "metadata": {
    "collapsed": true
   },
   "outputs": [],
   "source": []
  }
 ],
 "metadata": {
  "anaconda-cloud": {},
  "kernelspec": {
   "display_name": "Python 2",
   "language": "python",
   "name": "python2"
  },
  "language_info": {
   "codemirror_mode": {
    "name": "ipython",
    "version": 2
   },
   "file_extension": ".py",
   "mimetype": "text/x-python",
   "name": "python",
   "nbconvert_exporter": "python",
   "pygments_lexer": "ipython2",
   "version": "2.7.14"
  },
  "varInspector": {
   "cols": {
    "lenName": 16,
    "lenType": 16,
    "lenVar": 40
   },
   "kernels_config": {
    "python": {
     "delete_cmd_postfix": "",
     "delete_cmd_prefix": "del ",
     "library": "var_list.py",
     "varRefreshCmd": "print(var_dic_list())"
    },
    "r": {
     "delete_cmd_postfix": ") ",
     "delete_cmd_prefix": "rm(",
     "library": "var_list.r",
     "varRefreshCmd": "cat(var_dic_list()) "
    }
   },
   "types_to_exclude": [
    "module",
    "function",
    "builtin_function_or_method",
    "instance",
    "_Feature"
   ],
   "window_display": false
  }
 },
 "nbformat": 4,
 "nbformat_minor": 2
}
