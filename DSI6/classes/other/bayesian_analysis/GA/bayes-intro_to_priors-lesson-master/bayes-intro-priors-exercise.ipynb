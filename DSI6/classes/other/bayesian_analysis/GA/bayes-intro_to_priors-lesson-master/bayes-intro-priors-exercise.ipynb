{
 "cells": [
  {
   "cell_type": "markdown",
   "metadata": {},
   "source": [
    "<img src=\"http://imgur.com/1ZcRyrc.png\" style=\"float: left; margin: 20px; height: 55px\">\n",
    "\n",
    "# Intro to Bayesian Statistics - Priors Exercise\n",
    "\n",
    "_Author: Alex Combs (NYC) _\n",
    "\n",
    "---"
   ]
  },
  {
   "cell_type": "markdown",
   "metadata": {},
   "source": [
    "## This game is a mixture of game theory and Bayes!\n",
    "\n",
    "The goal is to show that your prior assumption matters. You can use your understanding of a system to try to make an informed prior."
   ]
  },
  {
   "cell_type": "markdown",
   "metadata": {},
   "source": [
    "### Here's the game:\n",
    "- You have a hypothetical coin. You can choose its bias. (For example, $p = 0.6$, where $p$ is likelihood of heads.)  Heads will be represented by 1, tails by 0.\n",
    "- You are playing against one other team.\n",
    "- You will generate 3 random flips of your coin (using the bias).\n",
    "- Based on these 3 flips alone, the other team will try to guess your bias\n",
    "- You, similarly, will get 3 flips from them and will try to guess their bias\n",
    "- If your opponent is right to within +/- 0.1, you owe them sweets.  If they are wrong, they owe you sweets.\n",
    "- Similarly, if you guess your opponent's bias to within +/- 0.1, you get sweets from them.  If you are wrong, you owe them sweets.\n",
    "\n",
    "### Here's the catch.  \n",
    "The number of sweets you pay / receive is proportional to the bias. ... And the sweets are hypothetical.\n",
    "\n",
    "Example: \n",
    "\n",
    "- I choose 0.95 bias.  My opponent guesses correctly.  I owe them 95 sweets.\n",
    "- I choose 0.5 bias.  My opponent guesses incorrectly.  They owe me 50 sweets.\n",
    "- I choose 0.1 bias.  My opponent guesses correctly.  I owe them 10 sweets."
   ]
  },
  {
   "cell_type": "markdown",
   "metadata": {},
   "source": [
    "### Some things to consider:\n",
    "\n",
    "- What bias will be easier / harder to guess based on only 3 flips?\n",
    "- Given that you are only getting three random flips, how can you set your prior to best be able to guess the bias?\n",
    "- Given the skewed payout, are you incentivized to pick a high / low bias?\n",
    "- Given that your opponent knows this, what do you think they will do with their prior belief?\n",
    "- Given that, what should you do with your bias?\n",
    "- Etc etc"
   ]
  },
  {
   "cell_type": "markdown",
   "metadata": {},
   "source": [
    "# TIMELINE"
   ]
  },
  {
   "cell_type": "markdown",
   "metadata": {},
   "source": [
    "1. You have 10 minutes in your teams to decide your bias.  You must submit the bias to an instructor.\n",
    "\n",
    "2. Once all biases are submitted, you have 10 minutes as a team to decide on your prior.\n",
    "\n",
    "3. Once all prior are settled, you must generate your three random coin tosses based on your own bias and provide to the other team\n",
    "\n",
    "4. Based on the tosses provided by the other team, try to guess their bias!"
   ]
  },
  {
   "cell_type": "markdown",
   "metadata": {},
   "source": [
    "You can try to write the code yourself based on the lesson, or you can use the below code"
   ]
  },
  {
   "cell_type": "code",
   "execution_count": null,
   "metadata": {
    "collapsed": true
   },
   "outputs": [],
   "source": []
  },
  {
   "cell_type": "code",
   "execution_count": 2,
   "metadata": {
    "collapsed": true
   },
   "outputs": [],
   "source": [
    "import numpy as np\n",
    "import matplotlib.pyplot as plt\n",
    "from scipy.integrate import quad\n",
    "from scipy.special import gamma\n",
    "%matplotlib inline"
   ]
  },
  {
   "cell_type": "markdown",
   "metadata": {},
   "source": [
    "** To generate the random coin tosses ** "
   ]
  },
  {
   "cell_type": "code",
   "execution_count": 3,
   "metadata": {
    "collapsed": true
   },
   "outputs": [],
   "source": [
    "# insert your chosen bias here.  This is the probability of getting heads (which we represent as 1)\n",
    "p = 0.35"
   ]
  },
  {
   "cell_type": "code",
   "execution_count": 4,
   "metadata": {},
   "outputs": [
    {
     "name": "stdout",
     "output_type": "stream",
     "text": [
      "0\n",
      "1\n",
      "0\n"
     ]
    }
   ],
   "source": [
    "#generate your three flips below.  Give these to you opponent.\n",
    "for i in range(3):\n",
    "    if np.random.rand()>p:\n",
    "        print 0\n",
    "    else:\n",
    "        print 1"
   ]
  },
  {
   "cell_type": "markdown",
   "metadata": {},
   "source": [
    "** To generate your prior** "
   ]
  },
  {
   "cell_type": "code",
   "execution_count": 8,
   "metadata": {},
   "outputs": [
    {
     "data": {
      "image/png": "[encoded data removed]",
      "text/plain": [
       "<matplotlib.figure.Figure at 0x9b12198>"
      ]
     },
     "metadata": {},
     "output_type": "display_data"
    }
   ],
   "source": [
    "# play around with a and b in the below code to generate your prior.  The intuition is that it's as if you \n",
    "# run this experiment before and a is the number of heads (1s) you saw and b the number of tails\n",
    "\n",
    "a = 4\n",
    "b = 2\n",
    "\n",
    "# likelihood\n",
    "def B(x):\n",
    "    return lambda p: (p**x) * (1-p)**(1-x)\n",
    "\n",
    "# prior\n",
    "# This is the pdf of the Beta distribution\n",
    "# See https://en.wikipedia.org/wiki/Beta_distribution#Probability_density_function)\n",
    "def Beta(a, b):\n",
    "    return lambda p: (gamma(a+b) / (gamma(a)*gamma(b))) * np.exp((a-1)*np.log(p)) * np.exp((b-1)*np.log(1-p))\n",
    "\n",
    "prior = Beta(a,b)\n",
    "prior = np.vectorize(prior)\n",
    "\n",
    "P1 = np.arange(0.01,1, 0.01)\n",
    "priorGraph = [prior(p) for p in P1]\n",
    "plt.plot(P1, priorGraph);"
   ]
  },
  {
   "cell_type": "markdown",
   "metadata": {},
   "source": [
    "** To update based on the coin flips.  Based on this chart, can you guess the other team's bias?**"
   ]
  },
  {
   "cell_type": "code",
   "execution_count": 13,
   "metadata": {},
   "outputs": [
    {
     "data": {
      "image/png": "[encoded data removed]",
      "text/plain": [
       "<matplotlib.figure.Figure at 0xa3aad30>"
      ]
     },
     "metadata": {},
     "output_type": "display_data"
    }
   ],
   "source": [
    "flip1 = 1\n",
    "flip2 = 1\n",
    "flip3 = 0\n",
    "\n",
    "# posterior given three flips\n",
    "post = lambda p: (B(flip1)(p) * B(flip2)(p) * B(flip3)(p) * prior(p)) / \\\n",
    "                 (quad(lambda p: B(flip1)(p) * B(flip2)(p) * B(flip3)(p) * prior(p), 0,1 )[0])\n",
    "\n",
    "\n",
    "postGraph = [post(p) for p in P1]\n",
    "plt.plot(P1, postGraph);"
   ]
  },
  {
   "cell_type": "code",
   "execution_count": null,
   "metadata": {
    "collapsed": true
   },
   "outputs": [],
   "source": []
  }
 ],
 "metadata": {
  "kernelspec": {
   "display_name": "Python 2",
   "language": "python",
   "name": "python2"
  },
  "language_info": {
   "codemirror_mode": {
    "name": "ipython",
    "version": 2
   },
   "file_extension": ".py",
   "mimetype": "text/x-python",
   "name": "python",
   "nbconvert_exporter": "python",
   "pygments_lexer": "ipython2",
   "version": "2.7.13"
  }
 },
 "nbformat": 4,
 "nbformat_minor": 1
}
