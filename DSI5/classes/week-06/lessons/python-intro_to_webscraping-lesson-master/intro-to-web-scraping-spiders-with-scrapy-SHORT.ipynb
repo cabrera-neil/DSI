{
 "cells": [
  {
   "cell_type": "markdown",
   "metadata": {},
   "source": [
    "<img src=\"http://imgur.com/1ZcRyrc.png\" style=\"float: left; margin: 20px; height: 55px\">\n",
    "\n",
    "# Introduction to Web Scraping and Spiders With Scrapy\n",
    "\n",
    "---"
   ]
  },
  {
   "cell_type": "markdown",
   "metadata": {},
   "source": [
    "<a id='introduction'></a>\n",
    "\n",
    "![What is HTML?](http://designshack.designshack.netdna-cdn.com/wp-content/uploads/htmlbasics-0.jpg)"
   ]
  },
  {
   "cell_type": "markdown",
   "metadata": {},
   "source": [
    "```\n",
    "<!DOCTYPE html>\n",
    "<html>\n",
    "    <head>\n",
    "        <title>Page Title</title>\n",
    "    </head>\n",
    "    <body>\n",
    "        <h1>This is a Heading</h1>\n",
    "        <p>This is a paragraph.</p>\n",
    "        <p>This is <b>another</b> paragraph.</p>\n",
    "    </body>\n",
    "</html>\n",
    "```\n",
    "\n",
    "RESULT -> [html_example.html](file:///Users/edoardo/html_example.html )"
   ]
  },
  {
   "cell_type": "markdown",
   "metadata": {},
   "source": [
    "<a id='element-hierarchy'></a>\n",
    "### Element Hierarchy\n",
    "\n",
    "![Nodes](http://www.computerhope.com/jargon/d/dom1.jpg)\n",
    "\n",
    "**Literally represented as:**\n",
    "\n",
    "```\n",
    "<html>\n",
    "    \n",
    "    <head>\n",
    "        <title>Example</title>\n",
    "    </head>\n",
    "    \n",
    "    <body>\n",
    "        <h1>Example Page</h1>\n",
    "        <p>This is an example page.</p>\n",
    "    </body>\n",
    "    \n",
    "</html>\n",
    "```"
   ]
  },
  {
   "cell_type": "markdown",
   "metadata": {},
   "source": [
    "\n",
    "##  \n",
    "##  \n",
    "##  Hypertext Markup Language (HTML)\n",
    "\n",
    "---\n",
    "\n",
    "In the HTML document object model (DOM), everything is a node:\n",
    " * The document itself is a document node.\n",
    " * All HTML elements are element nodes.\n",
    " * All HTML attributes are attribute nodes.\n",
    " * Text inside HTML elements are text nodes.\n",
    " * Comments are comment nodes."
   ]
  },
  {
   "cell_type": "markdown",
   "metadata": {},
   "source": [
    "<a id='elements'></a>\n",
    "### Elements\n",
    "\n",
    "```\n",
    "<title>I am a title.</title>\n",
    "<p>I am a paragraph.</p>\n",
    "<strong>I am bold.</strong>\n",
    "```\n",
    "\n",
    "\n",
    "**Elements can have parents and children.**\n",
    "It's important to remember that an element can be both a parent and a child — whether an element is referred to as a parent or child depends on the specific element you're referencing.\n",
    "\n",
    "\n",
    "```\n",
    "<body id = 'parent'>\n",
    "    <div id = 'child_1'>I am the child of 'parent.'\n",
    "        <div id = 'child_2'>I am the child of 'child_1.'\n",
    "            <div id = 'child_3'>I am the child of 'child_2.'\n",
    "                <div id = 'child_4'>I am the child of 'child_4.'</div>\n",
    "            </div>\n",
    "        </div>\n",
    "    </div>\n",
    "</body>\n",
    "```\n",
    "**or**\n",
    "```\n",
    "<body id = 'parent'>\n",
    "    <div id = 'child_1'>I am the parent of 'child_2.'\n",
    "        <div id = 'child_2'>I am the parent of 'child_3.'\n",
    "            <div id = 'child_3'> I am the parent of 'child_4.'\n",
    "                <div id = 'child_4'>I am not a parent. </div>\n",
    "            </div>\n",
    "        </div>\n",
    "    </div>\n",
    "</body>\n",
    "```"
   ]
  },
  {
   "cell_type": "markdown",
   "metadata": {},
   "source": [
    "<a id='attributes'></a>\n",
    "### Attributes\n",
    "\n",
    "\n",
    "\n",
    "```\n",
    "<a href=\"https://www.youtube.com/watch?v=dQw4w9WgXcQ\">An Awesome Website</a>\n",
    "```\n",
    "\n",
    "**However, this element, once rendered, looks like this:**\n",
    "\n",
    "[An Awesome Website](https://www.youtube.com/watch?v=dQw4w9WgXcQ)"
   ]
  },
  {
   "cell_type": "markdown",
   "metadata": {},
   "source": [
    "## Add style to html: CSS"
   ]
  },
  {
   "cell_type": "markdown",
   "metadata": {},
   "source": [
    "```\n",
    "body  { font-family:Verdana, Geneva, sans-serif; font-size:10pt; color:#828282; }\n",
    "td    { font-family:Verdana, Geneva, sans-serif; font-size:10pt; color:#828282; }\n",
    "\n",
    ".admin td   { font-family:Verdana, Geneva, sans-serif; font-size:8.5pt; color:#000000; }\n",
    ".subtext td { font-family:Verdana, Geneva, sans-serif; font-size:  7pt; color:#828282; }\n",
    "\n",
    "a:link    { color:#000000; text-decoration:none; }\n",
    "a:visited { color:#828282; text-decoration:none; }\n",
    "```"
   ]
  },
  {
   "cell_type": "markdown",
   "metadata": {},
   "source": [
    "<a id='html-resources'></a>\n",
    "### You Are Now Certified HTML Experts\n",
    "\n",
    "![](assets/certified.jpg)\n",
    "\n"
   ]
  },
  {
   "cell_type": "markdown",
   "metadata": {},
   "source": [
    "<a id='xpath'></a>\n",
    "\n",
    "## What is XPath?\n",
    "\n",
    "---\n",
    "\n",
    "![](assets/obama_wiki.png)\n",
    "\n",
    "## Example 1\n",
    "Select all the ```<a>``` nodes in /html/body\n",
    "```\n",
    "/html/body/a\n",
    "```\n",
    "\n",
    "## Example 2\n",
    "Select all the ```<a>``` nodes with the attribute class equals to \"result-title hdrlnk\"\n",
    "```\n",
    "//a[@class='result-title hdrlnk']\n",
    "```\n",
    "\n",
    "## Example 3\n",
    "Select the third link in the second ```<p>``` node of /html/body\n",
    "```\n",
    "/html/body/p[2]/a[3]\n",
    "```\n",
    "\n"
   ]
  },
  {
   "cell_type": "markdown",
   "metadata": {},
   "source": [
    "\n",
    "\n",
    "## XPath + Python\n",
    "\n",
    "---"
   ]
  },
  {
   "cell_type": "code",
   "execution_count": 3,
   "metadata": {
    "scrolled": false
   },
   "outputs": [],
   "source": [
    "# !pip install scrapy"
   ]
  },
  {
   "cell_type": "code",
   "execution_count": 4,
   "metadata": {},
   "outputs": [],
   "source": [
    "from scrapy.selector import Selector\n",
    "from scrapy.http import HtmlResponse"
   ]
  },
  {
   "cell_type": "code",
   "execution_count": 5,
   "metadata": {},
   "outputs": [],
   "source": [
    "# HTML structure string:\n",
    "HTML = \"\"\"\n",
    "<div class=\"postinginfos\">\n",
    "    <p class=\"postinginfo\">post id: 5400585892</p>\n",
    "    <p class=\"postinginfo\">posted: <time datetime=\"2016-01-12T23:23:19-0800\" class=\"xh-highlight\">2016-01-12 11:23pm</time></p>\n",
    "    <p class=\"postinginfo\"><a href=\"https://accounts.craigslist.org/eaf?postingID=5400585892\" class=\"tsb\">email to friend</a></p>\n",
    "    <p class=\"postinginfo\"><a class=\"bestof-link\" data-flag=\"9\" href=\"https://post.craigslist.org/flag?flagCode=9&amp;postingID=5400585892\" title=\"nominate for best-of-CL\"><span class=\"bestof-icon\">♥ </span><span class=\"bestof-text\">best of</span></a> <sup>[<a href=\"http://www.craigslist.org/about/best-of-craigslist\">?</a>]</sup>    </p>\n",
    "</div>\n",
    "\"\"\""
   ]
  },
  {
   "cell_type": "code",
   "execution_count": 6,
   "metadata": {},
   "outputs": [
    {
     "data": {
      "text/plain": [
       "['best of']"
      ]
     },
     "execution_count": 6,
     "metadata": {},
     "output_type": "execute_result"
    }
   ],
   "source": [
    "query = \"//span[@class='bestof-text']/text()\"\n",
    "best = Selector(text=HTML).xpath(query).extract()\n",
    "best"
   ]
  },
  {
   "cell_type": "markdown",
   "metadata": {},
   "source": [
    "## Where's Waldo? — XPath Edition\n",
    "\n",
    "In this example, we'll find Waldo together. Find Waldo as:\n",
    "\n",
    "- An element.\n",
    "- An attribute.\n",
    "- A text element."
   ]
  },
  {
   "cell_type": "code",
   "execution_count": 7,
   "metadata": {},
   "outputs": [],
   "source": [
    "HTML = \"\"\"\n",
    "<html>\n",
    "    <body>\n",
    "        \n",
    "        <ul id=\"waldo\">\n",
    "            <li class=\"waldo\">\n",
    "                <span> yo I'm not here</span>\n",
    "            </li>\n",
    "            <li class=\"waldo\">Height:  ???</li>\n",
    "            <li class=\"waldo\">Weight:  ???</li>\n",
    "            <li class=\"waldo\">Last Location:  ???</li>\n",
    "            <li class=\"nerds\">\n",
    "                <div class=\"alpha\">Bill Gates</div>\n",
    "                <div class=\"alpha\">Zuckerberg</div>\n",
    "                <div class=\"beta\">Theil</div>\n",
    "                <div class=\"animal\">Parker</div>\n",
    "            </li>\n",
    "        </ul>\n",
    "        \n",
    "        <ul id=\"tim\">\n",
    "            <li class=\"tdawg\">\n",
    "                <span>yo im here</span>\n",
    "            </li>\n",
    "        </ul>\n",
    "        <li>stuff</li>\n",
    "        <li>stuff2</li>\n",
    "        \n",
    "        <div id=\"cooldiv\">\n",
    "            <span class=\"dsi-rocks\">\n",
    "               YO!\n",
    "            </span>\n",
    "        </div>\n",
    "        \n",
    "        \n",
    "        <waldo>Waldo</waldo>\n",
    "    </body>\n",
    "</html>\n",
    "\"\"\""
   ]
  },
  {
   "cell_type": "markdown",
   "metadata": {},
   "source": [
    "**Tip:** We can use the asterisk character `*` as a placeholder for \"all possible.\"\n",
    "\n",
    "```python\n",
    "# All elements where class='alpha':\n",
    "Selector(text=HTML).xpath('//*[@class=\"alpha\"]').extract()\n",
    "\n",
    "\n",
    "\n",
    "# Returns:\n",
    "\n",
    "[u'<div class=\"alpha\">Bill gates</div>',\n",
    " u'<div class=\"alpha\">Zuckerberg</div>']\n",
    "```\n"
   ]
  },
  {
   "cell_type": "markdown",
   "metadata": {},
   "source": [
    "** Find the element 'Waldo': **"
   ]
  },
  {
   "cell_type": "code",
   "execution_count": 9,
   "metadata": {},
   "outputs": [
    {
     "data": {
      "text/plain": [
       "['Waldo']"
      ]
     },
     "execution_count": 9,
     "metadata": {},
     "output_type": "execute_result"
    }
   ],
   "source": [
    "# Text contents of the element Waldo:\n",
    "Selector(text=HTML).xpath('/html/body/waldo/text()').extract()"
   ]
  },
  {
   "cell_type": "markdown",
   "metadata": {},
   "source": [
    "**Find the attribute(s) 'Waldo':**"
   ]
  },
  {
   "cell_type": "code",
   "execution_count": 10,
   "metadata": {},
   "outputs": [
    {
     "name": "stdout",
     "output_type": "stream",
     "text": [
      "<ul id=\"waldo\">\n",
      "            <li class=\"waldo\">\n",
      "                <span> yo I'm not here</span>\n",
      "            </li>\n",
      "            <li class=\"waldo\">Height:  ???</li>\n",
      "            <li class=\"waldo\">Weight:  ???</li>\n",
      "            <li class=\"waldo\">Last Location:  ???</li>\n",
      "            <li class=\"nerds\">\n",
      "                <div class=\"alpha\">Bill Gates</div>\n",
      "                <div class=\"alpha\">Zuckerberg</div>\n",
      "                <div class=\"beta\">Theil</div>\n",
      "                <div class=\"animal\">Parker</div>\n",
      "            </li>\n",
      "        </ul>\n",
      "--------------------\n",
      "<li class=\"waldo\">\n",
      "                <span> yo I'm not here</span>\n",
      "            </li>\n",
      "--------------------\n",
      "<li class=\"waldo\">Height:  ???</li>\n",
      "--------------------\n",
      "<li class=\"waldo\">Weight:  ???</li>\n",
      "--------------------\n",
      "<li class=\"waldo\">Last Location:  ???</li>\n",
      "--------------------\n"
     ]
    }
   ],
   "source": [
    "# Contents of all attributes named Waldo:\n",
    "for e in Selector(text=HTML).xpath('//*[@*=\"waldo\"]').extract():\n",
    "    print(e)\n",
    "    print('-'*20)"
   ]
  },
  {
   "cell_type": "code",
   "execution_count": 11,
   "metadata": {},
   "outputs": [
    {
     "name": "stdout",
     "output_type": "stream",
     "text": [
      "<li class=\"waldo\">\n",
      "                <span> yo I'm not here</span>\n",
      "            </li>\n",
      "--------------------\n",
      "<li class=\"waldo\">Height:  ???</li>\n",
      "--------------------\n",
      "<li class=\"waldo\">Weight:  ???</li>\n",
      "--------------------\n",
      "<li class=\"waldo\">Last Location:  ???</li>\n",
      "--------------------\n"
     ]
    }
   ],
   "source": [
    "# Contents of all class attributes named Waldo:\n",
    "\n",
    "for e in Selector(text=HTML).xpath('//*[@class=\"waldo\"]').extract():\n",
    "    print(e)\n",
    "    print('-'*20)"
   ]
  },
  {
   "cell_type": "markdown",
   "metadata": {},
   "source": [
    "**Find the text element Waldo.**"
   ]
  },
  {
   "cell_type": "code",
   "execution_count": 12,
   "metadata": {},
   "outputs": [
    {
     "data": {
      "text/plain": [
       "['<waldo>Waldo</waldo>']"
      ]
     },
     "execution_count": 12,
     "metadata": {},
     "output_type": "execute_result"
    }
   ],
   "source": [
    "# Gets everything around the text element Waldo:\n",
    "Selector(text=HTML).xpath(\"//*[text()='Waldo']\").extract()"
   ]
  },
  {
   "cell_type": "markdown",
   "metadata": {},
   "source": [
    "#  \n",
    "#  \n",
    "## Requests + Beautiful Soup \n",
    "\n",
    "---\n"
   ]
  },
  {
   "cell_type": "markdown",
   "metadata": {},
   "source": [
    "<a id='step1'></a>\n",
    "### 1) Fetch the content by URL.\n",
    "\n"
   ]
  },
  {
   "cell_type": "code",
   "execution_count": 15,
   "metadata": {},
   "outputs": [],
   "source": [
    "# !pip install bs4\n"
   ]
  },
  {
   "cell_type": "code",
   "execution_count": 16,
   "metadata": {},
   "outputs": [],
   "source": [
    "import requests\n",
    "from bs4 import BeautifulSoup"
   ]
  },
  {
   "cell_type": "code",
   "execution_count": 20,
   "metadata": {},
   "outputs": [
    {
     "name": "stdout",
     "output_type": "stream",
     "text": [
      "Status Code:  200\n",
      "<!DOCTYPE html>\n",
      "<html class=\"no-js\">\n",
      "<head>\n",
      "<title>Adopt a Kitten or Cat on October 13th! - pets</title>\n",
      "    \t<link rel=\"canonical\" href=\"https://washingtondc.craigslist.org/nva/pet/d/adopt-kitten-or-cat-on/6717564911.html\">\n",
      "\t<meta name=\"description\" content=\"AUTUMN KITTENPALOOZA EVENT OCTOBER 13th! Come meet our adoptable kittens and cats on October 13th! There will be 30-40 kittens and young adult cats available for adoption. It'll be held at: The...\">\n",
      "\t<meta name=\"robots\" content=\"noarchive,n\n"
     ]
    }
   ],
   "source": [
    "url = \"https://washingtondc.craigslist.org/nva/pet/d/adopt-kitten-or-cat-on/6717564911.html\"\n",
    "response = requests.get(url)\n",
    "print('Status Code: ',response.status_code)\n",
    "html = response.text\n",
    "print(html[:500])"
   ]
  },
  {
   "cell_type": "markdown",
   "metadata": {},
   "source": [
    "<a id='step2'></a>\n",
    "### 2) Parse the HTML document with Beautiful Soup."
   ]
  },
  {
   "cell_type": "code",
   "execution_count": 21,
   "metadata": {},
   "outputs": [],
   "source": [
    "soup = BeautifulSoup(html, 'lxml')"
   ]
  },
  {
   "cell_type": "code",
   "execution_count": 22,
   "metadata": {},
   "outputs": [
    {
     "data": {
      "text/plain": [
       "<title>Adopt a Kitten or Cat on October 13th! - pets</title>"
      ]
     },
     "execution_count": 22,
     "metadata": {},
     "output_type": "execute_result"
    }
   ],
   "source": [
    "# Singular element:\n",
    "soup.html.title"
   ]
  },
  {
   "cell_type": "code",
   "execution_count": 23,
   "metadata": {},
   "outputs": [
    {
     "data": {
      "text/plain": [
       "'Adopt a Kitten or Cat on October 13th! - pets'"
      ]
     },
     "execution_count": 23,
     "metadata": {},
     "output_type": "execute_result"
    }
   ],
   "source": [
    "# Just the text between elements:\n",
    "soup.html.title.text"
   ]
  },
  {
   "cell_type": "markdown",
   "metadata": {},
   "source": [
    "### 3) Find elements"
   ]
  },
  {
   "cell_type": "code",
   "execution_count": 24,
   "metadata": {},
   "outputs": [
    {
     "data": {
      "text/plain": [
       "'CL'"
      ]
     },
     "execution_count": 24,
     "metadata": {},
     "output_type": "execute_result"
    }
   ],
   "source": [
    "element = soup.findAll(\"a\", {\"class\": \"header-logo\"})\n",
    "element[0].text"
   ]
  },
  {
   "cell_type": "code",
   "execution_count": 26,
   "metadata": {},
   "outputs": [
    {
     "name": "stdout",
     "output_type": "stream",
     "text": [
      "/\n",
      "/\n",
      "/nva/\n",
      "/search/nva/ccc\n",
      "/search/nva/pet\n"
     ]
    }
   ],
   "source": [
    "for link in soup.findAll(\"a\")[0:5]:\n",
    "    print(link['href'])"
   ]
  },
  {
   "cell_type": "markdown",
   "metadata": {},
   "source": [
    "#  \n",
    "#  \n",
    "## What is Scrapy?\n",
    "\n",
    "---\n",
    "\n",
    "> *\"[Scrapy](http://scrapy.org/) is an application framework for writing web spiders that \"crawl\" around websites and extract data from them.\"*\n",
    "\n",
    "Below we'll walk through the creation of a **spider** using Scrapy. Spiders are automated processes that will crawl through a web page or web pages to collect information.\n",
    "\n",
    "> **Note:** This code should be written in a script outside of Jupyter.\n",
    "\n",
    "<a id='scrapy-project'></a>\n",
    "### 1) Create a new Scrapy project.\n",
    "\n",
    "In your terminal, `cd` into a directory where you want to create your spider's folder. We recommend the desktop for easy access to the files.\n",
    "> `scrapy startproject craigslist`\n",
    "\n",
    "**It should create an output that looks like this:**\n",
    "<blockquote>\n",
    "```\n",
    "2016-01-13 00:12:45 [scrapy] INFO: Scrapy 1.0.3 started (bot: scrapybot)\n",
    "2016-01-13 00:12:45 [scrapy] INFO: Optional features available: ssl, http11, boto\n",
    "2016-01-13 00:12:45 [scrapy] INFO: Overridden settings: {}\n",
    "New Scrapy project 'craigslist' created in:\n",
    "    /Users/davidyerrington/virtualenvs/data/scraping/craigslist\n",
    "\n",
    "You can start your first spider with:\n",
    "    cd craigslist\n",
    "    scrapy genspider example example.com\n",
    "```\n",
    "</blockquote>\n",
    "\n",
    "**That command generates a set of project files:**\n",
    "<blockquote>\n",
    "```\n",
    "craigslist/\n",
    "    scrapy.cfg\n",
    "    craigslist/\n",
    "        __init__.py\n",
    "        items.py\n",
    "        pipelines.py\n",
    "        settings.py\n",
    "        spiders/\n",
    "            __init__.py\n",
    "            ...\n",
    "```\n",
    "</blockquote>\n",
    "\n",
    "Generally, these are our files. We'll go into more detail on these soon.\n",
    "\n",
    " * **`scrapy.cfg`:** The project's configuration file.\n",
    " * **`craigslist/`:** The project’s Python module — you’ll import your code from here later.\n",
    " * **`craigslist/items.py`:** The project’s items file.\n",
    " * **`craigslist/pipelines.py`:** The project’s pipelines file.\n",
    " * **`craigslist/settings.py`:** The project’s settings file.\n",
    " * **`craigslist/spiders/`:** A directory where you’ll store your spiders.\n",
    " \n",
    "Please also add this line to your `craigslist/settings.py` file before continuing:\n",
    " \n",
    " <blockquote>\n",
    " ```\n",
    " DOWNLOAD_HANDLERS = {'s3': None,}\n",
    " ```\n",
    " </blockquote>\n",
    "\n"
   ]
  },
  {
   "cell_type": "markdown",
   "metadata": {},
   "source": [
    "--- \n",
    "<a id='define-item'></a>\n",
    "### 2) Define an \"item.\"\n",
    "\n",
    "**NOTE**: items are defined in the items.py file.\n",
    "\n",
    "When we define an item, we're telling our new application what it will be collecting. In essence, an item is an entity that has attributes (\"title,\" \"description,\" \"price,\" etc.) that are descriptive and relate to elements on pages we'll be scraping.  \n",
    "\n",
    "In more precise terms, this is a model (for those who are familiar with object-relational mapping or relational database terms). Don't worry if this is a foreign concept.  The main idea is to understand that a model has attributes that closely resemble or relate to elements on our target web page(s).\n",
    "\n",
    "```python\n",
    "# -*- coding: utf-8 -*-\n",
    "\n",
    "# Define here the models for your scraped items.\n",
    "#\n",
    "# See documentation in:\n",
    "# http://doc.scrapy.org/en/latest/topics/items.html\n",
    "\n",
    "import scrapy\n",
    "\n",
    "class CraigslistItem(scrapy.Item):\n",
    "    # Define the fields for your item here like:\n",
    "    # name = scrapy.Field()\n",
    "    title = scrapy.Field()\n",
    "    link = scrapy.Field()\n",
    "    price = scrapy.Field()\n",
    "```\n"
   ]
  },
  {
   "cell_type": "markdown",
   "metadata": {},
   "source": [
    "---\n",
    "\n",
    "<a id='spider-crawl'></a>\n",
    "### 3) A spider that crawls.\n",
    "\n",
    "An item is a model that resembles data on a web page. A spider is something that crawls pages and uses our item model to get and hold items for us.\n",
    "\n",
    "**Scrapy spiders are Python classes. Let's write our first file, called `craigslist_spider.py`, and put it in our `/spiders` directory.**\n",
    "\n",
    "```python\n",
    "import scrapy\n",
    "\n",
    "class CraigslistSpider(scrapy.Spider):\n",
    "    name = \"craigslist\"\n",
    "    allowed_domains = [\"craigslist.org\"]\n",
    "    start_urls = [\n",
    "        \"http://sfbay.craigslist.org/search/sfc/apa\"\n",
    "    ]\n",
    "\n",
    "    def parse(self, response):\n",
    "        filename = response.url.split(\"/\")[-2]\n",
    "        with open(filename, 'wb') as f:\n",
    "            f.write(response.body)\n",
    "```\n",
    "\n",
    "**Next, let's dive in and crawl from our `/craigslist/craigslist` directory.**\n",
    "\n",
    "```\n",
    "> scrapy crawl craigslist\n",
    "```\n",
    "\n",
    "**What just happened?**\n",
    " * Our application requested the URLs from the `start_urls` class attribute.\n",
    " * It parsed over the content containing the HTML markup of each request URL.\n",
    " * What else?\n",
    " \n",
    "```python\n",
    "    with open(filename, 'wb') as f:\n",
    "        f.write(response.body)\n",
    "```\n",
    "\n",
    "It saved a file in our base project directory. It should be named based on the end of the URL. In our case, it should create a file called \"sfc.\" This is taken directly from the Scrapy docs and its only point is to illustrate the workflow so far. It's nice to have a reference to our HTML file.  \n",
    "\n",
    "There might be some errors listed when we crawl, but they are fine for now."
   ]
  },
  {
   "cell_type": "markdown",
   "metadata": {},
   "source": [
    "--- \n",
    "<a id='xpath-spider'></a>\n",
    "### 4) XPath and parsing with our spider.\n",
    "\n",
    "So far, we've defined the fields we'll get, some URLs to fetch, and saved some content to a file. Now, it's about to get interesting.\n",
    "\n",
    "**We should let our spider know about the item model we created earlier. In the head of the `craigslist/craigslist/spiders/craigslist_spider.py`, let's add a new import.**\n",
    "\n",
    "```python\n",
    "from craigslist.items import CraigslistItem\n",
    "```\n",
    "\n",
    "> **Check:** Why won't it work otherwise?\n",
    "\n",
    "<br><br><br>\n",
    "**Let's replace our `parse()` method to find some data from our Craigslist spider response and map them to our item model, `CraigslistItem`.**\n",
    "\n",
    "\n",
    "```python\n",
    "def parse(self, response): # Define parse() function. \n",
    "    items = [] # Element for storing scraped information.\n",
    "\thxs = scrapy.Selector(response) # Selector allows us to grab HTML from the response (target website).\n",
    "\tfor sel in hxs.xpath(\"//li[@class='result-row']/p\"): # Because we're using XPath language, we need to specify that the paragraphs we're trying to isolate are expressed via XPath.\n",
    "\t\titem = CraigslistItem()\n",
    "        # Title text from the 'a' element. \n",
    "        item['title'] =  sel.xpath(\"a/text()\").extract() \n",
    "        # Href/URL from the 'a' element. \n",
    "\t\titem['link']  =  sel.xpath(\"a/@href\").extract() \n",
    "        # Price from the result price class nested in a few span elements.\n",
    "\t\titem['price'] =  sel.xpath('span/span[@class=\"result-price\"]/text()').extract()[0]\n",
    "                \n",
    "        items.append(item)\n",
    "\treturn items # Shows scraped information as terminal output.\n",
    "\n",
    "```\n",
    "\n"
   ]
  },
  {
   "cell_type": "markdown",
   "metadata": {},
   "source": [
    "---\n",
    "\n",
    "<a id='save-examine'></a>\n",
    "### 5) Save and examine our scraped data.\n",
    "\n",
    "By default, we can save our crawled data in a CSV format. To save our data, we just need to pass a few optional parameters to our crawl call:\n",
    "\n",
    "<blockquote>\n",
    "```\n",
    "> scrapy crawl craigslist -o items.csv -t csv\n",
    "```\n",
    "</blockquote>\n",
    "\n",
    "It's always good to iteratively check the data when developing a spider to make sure the set is close to what we want. \n",
    "\n",
    "> *Pro tip: The longer your iterations are between checks, the harder it's going to be to understand what's not working and fix bugs.*\n",
    "\n",
    "You should now have a file called '`items.csv`' in the directory from which you ran the `scrapy crawl` command."
   ]
  },
  {
   "cell_type": "markdown",
   "metadata": {},
   "source": [
    "<a id='addendum'></a>\n",
    "## Addendum: Leveraging XPath to Get More Results\n",
    "\n",
    "---\n",
    "\n",
    "Generally, a workflow that's useful in this context is to load the page in your Chrome browser, check out the page using the XPath Helper plugin, and, from that, derive your own XPath expressions based on the output.\n",
    "\n",
    "`text()` selects only the text of a given element (between the tags), and `@attribute_name` is used to select attributes.\n",
    "\n",
    "**Here are a few examples of `text()`:**\n",
    "<blockquote>\n",
    "```\n",
    "<h1>Darwin - The Evolution Of An Exhibition</h1>\n",
    "```\n",
    "</blockquote>\n",
    "\n",
    "The XPath selector for this:\n",
    "\n",
    "<blockquote>\n",
    "```\n",
    "//h1/text()\n",
    "```\n",
    "</blockquote>\n",
    "\n",
    "**Here are a few examples of attributes:**\n",
    "\n",
    "And the description is contained inside a `<div>` tag with `id=\"description\"`:\n",
    "<blockquote>\n",
    "```\n",
    "<h2>Description:</h2>\n",
    "\n",
    "<div id=\"description\">\n",
    "Short documentary made for the Plymouth City Museum and Art Gallery regarding the set up of an exhibit about Charles Darwin in conjunction with the 200th anniversary of his birth.\n",
    "</div>\n",
    "...\n",
    "```\n",
    "</blockquote>\n",
    "\n",
    "XPath\n",
    "<blockquote>\n",
    "```\n",
    "//div[@id='description']\n",
    "```\n",
    "</blockquote>"
   ]
  },
  {
   "cell_type": "markdown",
   "metadata": {},
   "source": [
    "---\n",
    "<a id='follow-links'></a>\n",
    "### Following Links for More Results\n",
    "\n",
    "One hundred results is pretty good, but what if we want more? We need to follow the \"next\" links and find new pages to grab. Using the **`parse()`** method of our spider class, we need to return another type of object.\n",
    "\n",
    "```python\n",
    "def parse(self, response):  \n",
    "\n",
    "    items = [] \n",
    "\thxs = scrapy.Selector(response) \n",
    "    titles = hxs.xpath(\"//li[@class='result-row']/p\")\n",
    "    \n",
    "\tfor sel in titles:                     \n",
    "\t\titem = CraigslistItem()\n",
    "        item['title'] =  sel.xpath(\"a/text()\").extract() \n",
    "\t\titem['link']  =  sel.xpath(\"a/@href\").extract() \n",
    "\t\titem['price'] =  sel.xpath('span/span[@class=\"result-price\"]/text()').extract()[0]     \n",
    "        items.append(item)\n",
    "\t#return items \n",
    "    print('####',response.url) #print the url\n",
    "    print(items) #print the items\n",
    "\n",
    "    # Does the next page exist? Let's get it:\n",
    "    next_page   = response.xpath(\"(//a[@class='button next']/@href)[1]\")\n",
    "\n",
    "    if next_page:\n",
    "        url = response.urljoin(next_page[0].extract())\n",
    "        yield scrapy.Request(url, self.parse)\n",
    "\n",
    "```\n"
   ]
  },
  {
   "cell_type": "markdown",
   "metadata": {},
   "source": [
    "### A slightly different version using CrawlSpider"
   ]
  },
  {
   "cell_type": "markdown",
   "metadata": {},
   "source": [
    "```python\n",
    "import scrapy\n",
    "from scrapycraigslist.items import CraigslistItem\n",
    "from scrapy.spiders import Rule, CrawlSpider\n",
    "from scrapy.linkextractors import LinkExtractor\n",
    "\n",
    "\n",
    "class CraigslistSpider(CrawlSpider):\n",
    "\tname = \"craigslist\"\n",
    "\tallowed_domains = [\"sfbay.craigslist.org\"]\n",
    "\tstart_urls = [\n",
    "\t\t \"http://sfbay.craigslist.org/search/sfc/apa\"\n",
    "\t ]\n",
    "\n",
    "\trules = (Rule(LinkExtractor(allow=(), restrict_xpaths=('//a[@class=\"button next\"]',)), callback=\"parse_page\", follow= True),)\n",
    "\n",
    "\n",
    "\t# You need to use a name different from \"parse\" now\n",
    "\t# because the function parse is already used internally\n",
    "\t# by CrawlSpider\n",
    "\tdef parse_page(self, response): # Define parse() function. \n",
    "\t\titems = [] # Element for storing scraped information.\n",
    "        # Selector allows us to grab HTML from the response (target website).\n",
    "\t\thxs = scrapy.Selector(response) \n",
    "\t\t# Because we're using XPath language, we need to specify that the paragraphs we're trying to isolate are expressed via XPath.\n",
    "\t\tfor sel in hxs.xpath(\"//li[@class='result-row']/p\"): \n",
    "\t\t\titem = CraigslistItem()\n",
    "\t\t\t # Title text from the 'a' element. \n",
    "\t\t\titem['title'] =  sel.xpath(\"a/text()\").extract()\n",
    "\t\t\t# Href/URL from the 'a' element. \n",
    "\t\t\titem['link']  =  sel.xpath(\"a/@href\").extract() \n",
    "\t\t\t# Price from the result price class nested in a few span elements.\n",
    "\t\t\titem['price'] =  sel.xpath('span/span[@class=\"result-price\"]/text()').extract()[0]\t\t\t\t\n",
    "\t\t\titems.append(item)\n",
    "\t\tprint(items)\n",
    "\t\treturn items # Shows scraped information as terminal output.\n",
    "```"
   ]
  }
 ],
 "metadata": {
  "anaconda-cloud": {},
  "kernelspec": {
   "display_name": "Python 3",
   "language": "python",
   "name": "python3"
  },
  "language_info": {
   "codemirror_mode": {
    "name": "ipython",
    "version": 3
   },
   "file_extension": ".py",
   "mimetype": "text/x-python",
   "name": "python",
   "nbconvert_exporter": "python",
   "pygments_lexer": "ipython3",
   "version": "3.6.6"
  }
 },
 "nbformat": 4,
 "nbformat_minor": 1
}
