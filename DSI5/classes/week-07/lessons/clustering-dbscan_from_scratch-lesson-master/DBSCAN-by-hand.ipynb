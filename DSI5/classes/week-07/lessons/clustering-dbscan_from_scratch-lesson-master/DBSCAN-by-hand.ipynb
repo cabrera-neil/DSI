{
 "cells": [
  {
   "cell_type": "markdown",
   "metadata": {},
   "source": [
    "<img src=\"http://imgur.com/1ZcRyrc.png\" style=\"float: left; margin: 20px; height: 55px\">\n",
    "\n",
    "# Programming DBSCAN From Scratch\n",
    "\n",
    "_Authors: Kiefer Katovich (SF)_\n",
    "\n",
    "---\n",
    "\n",
    "### Learning Objectives\n",
    "\n",
    "- Learn to define the DBSCAN algorithm.\n",
    "- Understand the parameters that must be provided to DBSCAN.\n",
    "- Program the DBSCAN algorithm from scratch using object-oriented Python.\n",
    "- Build your own interactive visual in Matplotlib to test your implementation.\n"
   ]
  },
  {
   "cell_type": "markdown",
   "metadata": {},
   "source": [
    "### Lesson Guide\n",
    "- [Density-Based Spatial Clustering of Applications With Noise (DBSCAN)](#intro)\n",
    "- [DBSCAN Algorithm](#algo)\n",
    "- [Building DBSCAN in Parts](#parts)\n",
    "    - [Step 1: Create Some Fake Clustered Data](#step1)\n",
    "    - [Step 2: Make the Skeleton of the `DBSCAN` Class](#step2)\n",
    "    - [Step 3: Write the `fit()` Function](#step3)\n",
    "    - [Step 4: Write the Function to Find Neighbors](#step4)\n",
    "    - [Step 5: Write the Function to Expand the Clusters](#step5)\n",
    "- [Full DBSCAN Code Without Comments](#fullcode)\n",
    "- [Plotting DBSCAN Interactively](#interact)\n",
    "    - [Rewrite the Plotting Function to Accept Cluster Labels](#rewrite)\n",
    "    - [Write a Function That Accepts `eps` and `min_samples` and Fits DBSCAN](#plot-fit)\n",
    "    - [Write the `interact()` Function for the IPython Widget](#int-func)"
   ]
  },
  {
   "cell_type": "markdown",
   "metadata": {},
   "source": [
    "<a id='intro'></a>\n",
    "## Density-Based Spatial Clustering of Applications With Noise (DBSCAN)\n",
    "\n",
    "---\n",
    "\n",
    "DBSCAN is a clustering algorithm that groups data points together based on density. Nearby points get assigned to a common cluster while outlier points get assigned to their own clusters. DBSCAN is effective and attractive for its simplicity and minimal predetermined parameters.\n",
    "\n",
    "There are only two parameters that need to be specified for DBSCAN:\n",
    "\n",
    "    Epsilon: A minimum distance between points that can define a \"connection.\"\n",
    "    \n",
    "    Minimum samples: The minimum number of points that a point needs to have as neighbors to define it as a \"core sample.\"\n",
    "    \n",
    "**Core samples** are, by design, the points that lie internally within a cluster. \n",
    "\n",
    "**Non-core samples** do not meet the minimum required neighboring points but are still connected to a cluster defined by a core sample or samples. These points lie on the edges of a cluster.\n",
    "\n",
    "**Outliers** are points that do not meet the distance criteria for a cluster nor the minimum neighbors to form a new cluster."
   ]
  },
  {
   "cell_type": "markdown",
   "metadata": {},
   "source": [
    "<a id='algo'></a>\n",
    "## The DBSCAN Algorithm\n",
    "\n",
    "---\n",
    "\n",
    "The DBSCAN algorithm proceeds iteratively through the points in a data set, determining whether they are core samples, non-core samples or outliers via the distance measure and minimum samples specified.\n",
    "\n",
    "Here is the pseudocode algorithm that we'll be coding up ourselves:\n",
    "\n",
    "\n",
    "```\n",
    "DBSCAN(D, eps, MinPts) {\n",
    "   C = 0\n",
    "   for each point P in data set D {\n",
    "      if P is visited\n",
    "         continue next point\n",
    "      mark P as visited\n",
    "      NeighborPts = regionQuery(P, eps)\n",
    "      if sizeof(NeighborPts) < MinPts\n",
    "         mark P as NOISE\n",
    "      else {\n",
    "         C = next cluster\n",
    "         expandCluster(P, NeighborPts, C, eps, MinPts)\n",
    "      }\n",
    "   }\n",
    "}\n",
    "\n",
    "expandCluster(P, NeighborPts, C, eps, MinPts) {\n",
    "   add P to cluster C\n",
    "   for each point P' in NeighborPts { \n",
    "      if P' is not visited {\n",
    "         mark P' as visited\n",
    "         NeighborPts' = regionQuery(P', eps)\n",
    "         if sizeof(NeighborPts') >= MinPts\n",
    "            NeighborPts = NeighborPts joined with NeighborPts'\n",
    "      }\n",
    "      if P' is not yet member of any cluster\n",
    "         add P' to cluster C\n",
    "   }\n",
    "}\n",
    "\n",
    "regionQuery(P, eps)\n",
    "   return all points within P's eps-neighborhood (including P)\n",
    "```"
   ]
  },
  {
   "cell_type": "markdown",
   "metadata": {},
   "source": [
    "<a id='parts'></a>\n",
    "\n",
    "## Building DBSCAN in Parts\n",
    "\n",
    "---\n",
    "\n",
    "We can roll our own DBSCAN following the pseudocode above. Doing it piece by piece will make it clear how the algorithm works.\n",
    "\n",
    "<a id='step1'></a>\n",
    "### Step 1) Create some fake clustered data.\n",
    "\n",
    "Scikit-learn has some nice data generation functions in its `sklearn.datasets` module. We've loaded a handful of them below. You can use them to easily create clustered data to test clustering algorithms.\n",
    "\n",
    "Generate the data set and plot it out."
   ]
  },
  {
   "cell_type": "code",
   "execution_count": 1,
   "metadata": {},
   "outputs": [],
   "source": [
    "import matplotlib.pyplot as plt\n",
    "import numpy as np\n",
    "import pandas as pd\n",
    "import seaborn as sns\n",
    "\n",
    "plt.style.use('fivethirtyeight')\n",
    "\n",
    "from ipywidgets import *\n",
    "from IPython.display import display\n",
    "\n",
    "%matplotlib inline\n",
    "%config InlineBackend.figure_format = 'retina'"
   ]
  },
  {
   "cell_type": "code",
   "execution_count": 2,
   "metadata": {},
   "outputs": [],
   "source": [
    "# Data set generators:\n",
    "from sklearn.datasets import make_biclusters, make_blobs, make_circles, make_moons"
   ]
  },
  {
   "cell_type": "code",
   "execution_count": 3,
   "metadata": {},
   "outputs": [],
   "source": [
    "X, bloby = make_blobs(n_samples=200, n_features=2, centers=4, cluster_std=1.5)"
   ]
  },
  {
   "cell_type": "code",
   "execution_count": 4,
   "metadata": {
    "collapsed": true
   },
   "outputs": [],
   "source": [
    "# Plot the fake data."
   ]
  },
  {
   "cell_type": "markdown",
   "metadata": {},
   "source": [
    "---\n",
    "<a id='step2'></a>\n",
    "### Step 2) Make the skeleton of the `DBSCAN` class.\n",
    "\n",
    "Start laying out the blueprint for how DBSCAN will work. To begin, we'll need:\n",
    "\n",
    "1) An `__init__()` function to initialize the class with the `eps` and `min_samples` arguments.\n",
    "2) A `fit()` function (empty for now) that will run DBSCAN on the data."
   ]
  },
  {
   "cell_type": "code",
   "execution_count": 5,
   "metadata": {
    "collapsed": true
   },
   "outputs": [],
   "source": [
    "# Class skeleton:"
   ]
  },
  {
   "cell_type": "markdown",
   "metadata": {},
   "source": [
    "---\n",
    "<a id='step3'></a>\n",
    "### Step 3) Write the `fit()` function (equivalent to the `DBSCAN()` function in pseudocode).\n",
    "\n",
    "Our `fit()` function will follow the logic of the `DBSCAN()` function in the pseudocode above (copied here). In general, think about what variables are best suited to be class attributes when building classes. It can take practice to get the hang of it.\n",
    "\n",
    "```\n",
    "DBSCAN(D, eps, MinPts) {\n",
    "   C = 0\n",
    "   for each point P in data set D {\n",
    "      if P is visited\n",
    "         continue next point\n",
    "      mark P as visited\n",
    "      NeighborPts = regionQuery(P, eps)\n",
    "      if sizeof(NeighborPts) < MinPts\n",
    "         mark P as NOISE\n",
    "      else {\n",
    "         C = next cluster\n",
    "         expandCluster(P, NeighborPts, C, eps, MinPts)\n",
    "      }\n",
    "   }\n",
    "}\n",
    "```"
   ]
  },
  {
   "cell_type": "code",
   "execution_count": 6,
   "metadata": {
    "collapsed": true
   },
   "outputs": [],
   "source": [
    "# We can use scikit-learn's sklearn.metrics.pairwise.euclidean_distances \n",
    "# to find the distances between points, rather than recoding\n",
    "# this ourselves.\n",
    "from sklearn.metrics.pairwise import euclidean_distances\n",
    "\n",
    "# Add the fit() function to the class."
   ]
  },
  {
   "cell_type": "markdown",
   "metadata": {},
   "source": [
    "---\n",
    "<a id='step4'></a>\n",
    "### Step 4) Write the function to find neighbors.\n",
    "\n",
    "We need to convert this function in the pseudocode to a class function:\n",
    "\n",
    "```\n",
    "regionQuery(P, eps)\n",
    "   return all points within P's eps-neighborhood (including P)\n",
    "```\n",
    "\n",
    "We've already named this `self.find_region_points(i)`, so we'll refer to it this way. "
   ]
  },
  {
   "cell_type": "code",
   "execution_count": 7,
   "metadata": {
    "collapsed": true
   },
   "outputs": [],
   "source": [
    "# Add the neighbor finder.\n",
    "    "
   ]
  },
  {
   "cell_type": "markdown",
   "metadata": {},
   "source": [
    "---\n",
    "<a id='step5'></a>\n",
    "### Step 5) Write the function to expand the clusters.\n",
    "\n",
    "The final function (and the one that actually assigns our clusters) is defined by the pseudocode as:\n",
    "\n",
    "```\n",
    "expandCluster(P, NeighborPts, C, eps, MinPts) {\n",
    "   add P to cluster C\n",
    "   for each point P' in NeighborPts { \n",
    "      if P' is not visited {\n",
    "         mark P' as visited\n",
    "         NeighborPts' = regionQuery(P', eps)\n",
    "         if sizeof(NeighborPts') >= MinPts\n",
    "            NeighborPts = NeighborPts joined with NeighborPts'\n",
    "      }\n",
    "      if P' is not yet member of any cluster\n",
    "         add P' to cluster C\n",
    "   }\n",
    "}\n",
    "```\n",
    "\n",
    "Essentially, the function takes a point ID, the neighboring point IDs, the cluster number, the minimum distance, and the minimum points and figures out what cluster a point should be in based on those criteria. \n",
    "\n",
    "We've already named this function in the `fit()` function as `expand_cluster(i, neighbors)`. We only need to pass in the current point and neighboring points, as we're storing all of the other information the function needs as class attributes."
   ]
  },
  {
   "cell_type": "code",
   "execution_count": 8,
   "metadata": {
    "collapsed": true
   },
   "outputs": [],
   "source": [
    "# Add a function to expand the clusters."
   ]
  },
  {
   "cell_type": "markdown",
   "metadata": {},
   "source": [
    "<a id='fullcode'></a>\n",
    "## Full `DBSCAN` Code Without Comments\n",
    "\n",
    "---\n",
    "\n",
    "Without comments, the code is pretty concise. Again, DBSCAN is a powerful clustering algorithm but also appealing for its simplicity and the intuitive way it finds points."
   ]
  },
  {
   "cell_type": "code",
   "execution_count": 9,
   "metadata": {
    "collapsed": true
   },
   "outputs": [],
   "source": [
    "# See the solution for the full code without comments.\n",
    "    "
   ]
  },
  {
   "cell_type": "markdown",
   "metadata": {},
   "source": [
    "<a id='interact'></a>\n",
    "## Plotting DBSCAN Interactively\n",
    "\n",
    "---\n",
    "\n",
    "We can look at how the `eps` and `min_samples` parameters affect DBSCAN's decisions when assigning clusters. This is also a good opportunity to go over how to make interactive visualizations with IPython widgets.\n",
    "\n",
    "<a id='rewrite'></a>\n",
    "### Rewrite the Plotting Function to Accept Cluster Labels and Color the Points Accordingly"
   ]
  },
  {
   "cell_type": "code",
   "execution_count": 10,
   "metadata": {
    "collapsed": true
   },
   "outputs": [],
   "source": [
    "# Adjust the plotting function"
   ]
  },
  {
   "cell_type": "markdown",
   "metadata": {},
   "source": [
    "---\n",
    "<a id='plot-fit'></a>\n",
    "### Write a Function That Accepts `eps` and `min_samples` as Keyword Arguments, Fits DBSCAN, and Calls the Plotting Function\n",
    "\n",
    "Don't pass `X` into the function. We’ll just use the \"global\" `x` defined earlier in the Jupyter Notebook."
   ]
  },
  {
   "cell_type": "code",
   "execution_count": 11,
   "metadata": {
    "collapsed": true
   },
   "outputs": [],
   "source": [
    "# Add the arguments to the function."
   ]
  },
  {
   "cell_type": "markdown",
   "metadata": {},
   "source": [
    "---\n",
    "<a id='int-func'></a>\n",
    "### Write the `interact()` Function That Creates the IPython Widget.\n",
    "\n",
    "Your `interact()` function defines the sliders (or other inputs you want to be interactive) and then makes a call to `widgets.interact(function, *interactive objects)` where:\n",
    "\n",
    "- `function` is the function that takes the values coming out of the interactive slider objects (we wrote it just before; it takes `eps` and `min_samples`).\n",
    "- The interactive objects, in our case, will be a `widgets.FloatSlider` for `eps` and a `widgets.IntSlider` for `min_samples`.\n",
    "\n",
    "For more information, review this notebook:\n",
    "\n",
    "https://github.com/ipython/ipywidgets/blob/master/docs/source/examples/Index.ipynb"
   ]
  },
  {
   "cell_type": "code",
   "execution_count": 12,
   "metadata": {
    "collapsed": true
   },
   "outputs": [],
   "source": [
    "# Write the interact function."
   ]
  },
  {
   "cell_type": "code",
   "execution_count": 13,
   "metadata": {
    "collapsed": true
   },
   "outputs": [],
   "source": [
    "# cluster_interact()"
   ]
  }
 ],
 "metadata": {
  "kernelspec": {
   "display_name": "Python 3",
   "language": "python",
   "name": "python3"
  },
  "language_info": {
   "codemirror_mode": {
    "name": "ipython",
    "version": 3
   },
   "file_extension": ".py",
   "mimetype": "text/x-python",
   "name": "python",
   "nbconvert_exporter": "python",
   "pygments_lexer": "ipython3",
   "version": "3.6.6"
  }
 },
 "nbformat": 4,
 "nbformat_minor": 1
}
