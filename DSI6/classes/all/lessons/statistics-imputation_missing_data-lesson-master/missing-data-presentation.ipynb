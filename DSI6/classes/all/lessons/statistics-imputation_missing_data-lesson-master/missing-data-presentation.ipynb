{
 "cells": [
  {
   "cell_type": "markdown",
   "metadata": {
    "slideshow": {
     "slide_type": "notes"
    }
   },
   "source": [
    "> **Jupyter slideshow:** This notebook can be displayed as slides. To view it as a slideshow in your browser type in the console:\n",
    "\n",
    "\n",
    "> `> jupyter nbconvert [this_notebook.ipynb] --to slides --post serve`\n",
    "\n",
    "\n",
    "> To toggle off the slideshow cell formatting, click the `CellToolbar` button, then `View --> Cell Toolbar --> None`"
   ]
  },
  {
   "cell_type": "markdown",
   "metadata": {
    "collapsed": true,
    "slideshow": {
     "slide_type": "slide"
    }
   },
   "source": [
    "<img src=\"http://imgur.com/1ZcRyrc.png\" style=\"float: left; margin: 20px; height: 55px\">\n",
    "\n",
    "# Missing Data Analysis\n",
    "\n",
    "_Authors: Matthew Brems (DC)_\n",
    "\n",
    "---"
   ]
  },
  {
   "cell_type": "markdown",
   "metadata": {
    "slideshow": {
     "slide_type": "slide"
    }
   },
   "source": [
    "<a id=\"learning-objectives\"></a>\n",
    "<a id=\"learning-objectives\"></a>\n",
    "<a id=\"learning-objectives\"></a>\n",
    "## Learning objectives\n",
    "- Describe techniques for handling different types of missingness.\n",
    "- Understand the differences between the different types of missingness.\n",
    "    - MCAR, MAR, MNAR\n",
    "- Assess the pros and cons of these techniques given the situation."
   ]
  },
  {
   "cell_type": "markdown",
   "metadata": {
    "slideshow": {
     "slide_type": "slide"
    }
   },
   "source": [
    "### Lesson Guide\n",
    "- [Introduction](#introduction)\n",
    "\t- [Example](#example)\n",
    "\t- [Step 1: Prevent missing data.](#step--prevent-missing-data)\n",
    "\t- [Step 2: Attempt to ignore missing data.](#step--attempt-to-ignore-missing-data)\n",
    "\t- [Step 3: Adjust for it.](#step--adjust-for-it)\n",
    "- [Design factors affecting missingness](#design-factors-affecting-missingness)\n",
    "- [Unit Nonresponse vs. Item Nonresponse](#unit-nonresponse-vs-item-nonresponse)\n",
    "- [Addressing Unit vs. Item Nonresponse](#addressing-unit-vs-item-nonresponse)\n",
    "- [Techniques for Addressing Unit Nonresponse](#techniques-for-addressing-unit-nonresponse)\n",
    "\t- [Complete-case analysis vs. available-case analysis](#complete-case-analysis-vs-available-case-analysis)\n",
    "- [Techniques for addressing item nonresponse](#techniques-for-addressing-item-nonresponse)\n",
    "\t- [Deductive Imputation](#deductive-imputation)\n",
    "\t- [Mean/Median/Mode Imputation](#meanmedianmode-imputation)\n",
    "\t- [Regression Imputation](#regression-imputation)\n",
    "\t- [Stochastic Regression Imputation](#stochastic-regression-imputation)\n",
    "\t- [Multiple Stochastic Regression Imputation](#multiple-stochastic-regression-imputation)\n",
    "\t- [Proper Multiple Stochastic Regression Imputation](#proper-multiple-stochastic-regression-imputation)\n",
    "\t- [Hot-Deck Imputation](#hot-deck-imputation)\n",
    "\t- [Cold-Deck Imputation](#cold-deck-imputation)\n",
    "\t- [Summary](#summary)\n",
    "\t- [One final note on imputation](#one-final-note-on-imputation)\n",
    "- [Types of missingness](#types-of-missingness)\n",
    "\t- [Scenario 1](#scenario-)\n",
    "\t- [Scenario 2](#scenario-)\n",
    "\t- [Scenario 3](#scenario-)\n",
    "\t- [Not Missing at Random (NMAR)](#not-missing-at-random-nmar)\n",
    "\t- [Missing at Random (MAR)](#missing-at-random-mar)\n",
    "\t- [Missing Completely at Random (MCAR)](#missing-completely-at-random-mcar)\n",
    "- [Which missingness do I have?](#which-missingness-do-i-have)\n",
    "\t- [Methods for MCAR](#methods-for-mcar)\n",
    "\t- [Methods for MAR](#methods-for-mar)\n",
    "\t- [Methods for NMAR](#methods-for-nmar)\n",
    "- [Resources](#resources)\n"
   ]
  },
  {
   "cell_type": "markdown",
   "metadata": {
    "slideshow": {
     "slide_type": "slide"
    }
   },
   "source": [
    "<a id=\"introduction\"></a>\n",
    "## Introduction\n",
    "---\n",
    "\n",
    "- In almost any project that involves data, there will be some amount of\n",
    "“nonresponse” or “missingness.”\n",
    "    - Political Robo-Calls\n",
    "    - Customer Satisfaction Surveys\n",
    "    - U.S. Census\n",
    "    - Data Corruption/Loss\n",
    "    "
   ]
  },
  {
   "cell_type": "markdown",
   "metadata": {
    "slideshow": {
     "slide_type": "slide"
    }
   },
   "source": [
    "<a id=\"example\"></a>\n",
    "### Example\n",
    "\n",
    "Country A has been a member of a large international economic union for 40+ years. There is some unhappiness about the arragement, so a plebiscite is held to determine future membership.\n",
    "\n",
    "Leading up to the vote, it seems that the majority will vote to remain in the union. Most newspapers / media outlets are in favour of staying, and there is some suggestion that a vote to leave is a product of ignorance (in other words, it's decidedly \"uncool\" to vote to leave).\n",
    "\n",
    "On the day of the vote, pollsters stand outside voting stations and ask people how they voted.\n",
    "\n",
    "Some people refuse to answer.\n",
    "The pollsters collect the following data:\n",
    "\n",
    "- Remain: 57\n",
    "- Leave: 43\n",
    "- No Answer: 26\n",
    "\n",
    "The pollsters need to consider what to do with the missing values.\n",
    "\n",
    "They decide to just disregard the \"No Answers\"\n",
    "\n",
    "So they conclude:\n",
    "\n",
    "57% of people voted to remain!\n",
    "\n",
    "Any concerns with this?"
   ]
  },
  {
   "cell_type": "markdown",
   "metadata": {
    "slideshow": {
     "slide_type": "slide"
    }
   },
   "source": [
    "**What assumptions were made?**\n",
    "\n",
    "By ignoring the \"No Answers\" the pollsters were assuming that of the people who didn't answer, 57% voted to remain and 43% voted to leave.\n",
    "Is this a reasonable assumption?"
   ]
  },
  {
   "cell_type": "markdown",
   "metadata": {
    "slideshow": {
     "slide_type": "slide"
    }
   },
   "source": [
    "**Would this be a better assumption?**\n",
    "\n",
    "What if they assumed that people who didn't answer were equally split between remain and leave. So the numbers should have looked like this:\n",
    "- Remain: 70\n",
    "- Leave: 56\n",
    "    \n",
    "So 56% of people voted to stay!\n",
    "\n",
    "**Is this likely?**\n",
    "\n",
    "Actually, people who voted to leave were much more likely to decline to answer (since it was believed to be the less popular choice). So the data actually should have looked like this:\n",
    "- Remain: 62\n",
    "- Leave: 64\n",
    "\n",
    "50.7% of people voted to leave\n",
    "\n",
    "So what you do with missing data can have a significant impact on your findings.\n",
    "\n",
    "Because missingness is so prevalent, it is important to understand how to recognize when missingness is an issue and how to account for it."
   ]
  },
  {
   "cell_type": "markdown",
   "metadata": {
    "collapsed": true,
    "slideshow": {
     "slide_type": "slide"
    }
   },
   "source": [
    "<a id=\"step--prevent-missing-data\"></a>\n",
    "### Step 1: Prevent missing data.\n",
    "- Incentivize completing surveys/experiments.\n",
    "- Do work electronically so handwriting isn’t an issue.\n",
    "- Try contacting subject multiple times."
   ]
  },
  {
   "cell_type": "markdown",
   "metadata": {
    "collapsed": true,
    "slideshow": {
     "slide_type": "fragment"
    }
   },
   "source": [
    "<a id=\"step--attempt-to-ignore-missing-data\"></a>\n",
    "### Step 2: Attempt to ignore missing data.\n",
    "- If you have 95% or more of your data, it might make sense to ignore it.\n",
    "- This treats observed sample as representative of entire sample.\n",
    "- This is usually the software default."
   ]
  },
  {
   "cell_type": "markdown",
   "metadata": {
    "collapsed": true,
    "slideshow": {
     "slide_type": "fragment"
    }
   },
   "source": [
    "<a id=\"step--adjust-for-it\"></a>\n",
    "### Step 3: Adjust for it."
   ]
  },
  {
   "cell_type": "markdown",
   "metadata": {
    "collapsed": true,
    "slideshow": {
     "slide_type": "slide"
    }
   },
   "source": [
    "<a id=\"design-factors-affecting-missingness\"></a>\n",
    "## Design factors affecting missingness\n",
    "---\n",
    "\n",
    "- Survey Content\n",
    "- Time of Survey\n",
    "- Interviewers\n",
    "- Data-Collection Method\n",
    "- Questionnaire Design\n",
    "- Respondent Burden\n",
    "- Survey Introduction\n",
    "- Incentives/Disincentives\n",
    "- Follow-Up"
   ]
  },
  {
   "cell_type": "markdown",
   "metadata": {
    "collapsed": true,
    "slideshow": {
     "slide_type": "slide"
    }
   },
   "source": [
    "<a id=\"unit-nonresponse-vs-item-nonresponse\"></a>\n",
    "## Unit Nonresponse vs. Item Nonresponse\n",
    "---\n",
    "\n",
    "- Nonresponse generally will come in one of two forms: unit nonresponse\n",
    "or item nonresponse.\n",
    "\n",
    "\n",
    "- Political Robocalls – I sample 1,000 voters to call:\n",
    "    - 750 people never pick up the phone.\n",
    "    - 75 answer Q1, then hang up.\n",
    "    - 75 answer Q2, then hang up.\n",
    "    - 100 complete the 3 question survey."
   ]
  },
  {
   "cell_type": "markdown",
   "metadata": {
    "collapsed": true,
    "slideshow": {
     "slide_type": "slide"
    }
   },
   "source": [
    "- Political Robocalls:\n",
    "    - “We saw a response rate of 25%.”\n",
    "    - “We saw a response rate of 18%.”\n",
    "    - “We saw a response rate of 10%.”\n",
    "\n",
    "\n",
    "- AAPOR (American Association for Public Opinion Research) has\n",
    "recommendations on how to report nonresponse.\n",
    "    - This will ultimately vary on your use-case and your audience."
   ]
  },
  {
   "cell_type": "markdown",
   "metadata": {
    "collapsed": true,
    "slideshow": {
     "slide_type": "slide"
    }
   },
   "source": [
    "<a id=\"addressing-unit-vs-item-nonresponse\"></a>\n",
    "## Addressing Unit vs. Item Nonresponse\n",
    "---\n",
    "\n",
    "- Unit Nonresponse:\n",
    "    - Almost nothing can be done for that person, but can still get aggregate\n",
    "information.\n",
    "\n",
    "\n",
    "- Item Nonresponse:\n",
    "    - Can we ignore it?\n",
    "    - If we can’t ignore it, can we otherwise account for it?"
   ]
  },
  {
   "cell_type": "markdown",
   "metadata": {
    "collapsed": true,
    "slideshow": {
     "slide_type": "slide"
    }
   },
   "source": [
    "<a id=\"techniques-for-addressing-unit-nonresponse\"></a>\n",
    "## Techniques for Addressing Unit Nonresponse\n",
    "---\n",
    "\n",
    "- Ignore It\n",
    "    - Reduces precision of estimates or power of results.\n",
    "        - Why does increasing the sample size not necessarily address this problem?\n",
    "    - Known as “complete-case analysis” or “available-case analysis.”\n",
    "- Weight Class Adjustments\n",
    "    - Reweight your observations so that your observed data reflects the population of interest.\n",
    "    - I believe those who vote in 2016 will be 50% male and 50% female. However, 75% of\n",
    "my responses came from males and 25% came from females.\n",
    "- $w_{male} = \\frac {\\text{proportion of responses}} {\\text{true proportion}}=\\frac {0.25} {0.50}=\\frac {1} {2}$\n",
    "\n",
    "- $w_{female} = \\frac {\\text{proportion of responses}} {\\text{true proportion}}= \\frac {0.75} {0.5} = \\frac{3} {2}$"
   ]
  },
  {
   "cell_type": "markdown",
   "metadata": {
    "collapsed": true,
    "slideshow": {
     "slide_type": "slide"
    }
   },
   "source": [
    "<a id=\"what-this-looks-like\"></a>\n",
    "**What this looks like…**\n",
    "- Ignore It\n",
    "    - Find the proportion of people who will vote for Clinton.\n",
    "    - $\\hat{\\rho} = \\frac {\\sum_{i}{I(\\text{Clinton vote})_i}} {N_{responses}}$\n",
    "    - Recall that $I(⋅)= 1$  if ⋅ is true and $I(⋅)= 0$  if ⋅ is false.\n",
    "    \n",
    "    \n",
    "- Weight Class Adjustments\n",
    "    - - $\\hat{\\rho} = \\frac {\\sum_i{w_i*I(\\text{Clinton vote})_i}} {\\sum_i {w_i}}$"
   ]
  },
  {
   "cell_type": "markdown",
   "metadata": {
    "collapsed": true,
    "slideshow": {
     "slide_type": "slide"
    }
   },
   "source": [
    "<a id=\"complete-case-analysis-vs-available-case-analysis\"></a>\n",
    "### Complete-case analysis vs. available-case analysis\n",
    "- Complete-Case Analysis\n",
    "    - Drops any observation with any missing value.\n",
    "        - Pros: Results will be well-behaved, simplest, usually software default.\n",
    "        - Cons: Drops some collected data, loses “information” and precision.\n",
    "- Available-Case Analysis\n",
    "    - Drops no observations and calculates results based on available data.\n",
    "        - Pros: Uses all data available.\n",
    "        - Cons: Can get “not well-behaved results,” i.e. invalid covariance matrices."
   ]
  },
  {
   "cell_type": "markdown",
   "metadata": {
    "collapsed": true,
    "slideshow": {
     "slide_type": "slide"
    }
   },
   "source": [
    "<a id=\"techniques-for-addressing-item-nonresponse\"></a>\n",
    "## Techniques for Addressing Item Nonresponse\n",
    "---\n",
    "\n",
    "- Imputation\n",
    "    - Deductive Imputation\n",
    "    - Mean/Median/Mode Imputation\n",
    "    - Regression Imputation\n",
    "    - Stochastic Regression Imputation\n",
    "    - Multiple Stochastic Regression Imputation\n",
    "    - Proper Imputation\n",
    "    - Hot-Deck Imputation\n",
    "    - Cold-Deck Imputation"
   ]
  },
  {
   "cell_type": "markdown",
   "metadata": {
    "collapsed": true,
    "slideshow": {
     "slide_type": "slide"
    }
   },
   "source": [
    "<a id=\"deductive-imputation\"></a>\n",
    "### Deductive Imputation\n",
    "- Uses logical relations to fill in missing values.\n",
    "    - Respondent mentions he was not the victim of a crime, so the column for\n",
    "“victim of a crime” contains a 0. However, an “NA” exists in the column for\n",
    "“victim of a violent crime.” Because the respondent mentioned he was not the\n",
    "victim of a crime, we know that the respondent was not the victim of a violent\n",
    "crime.\n",
    "    - If a woman has 2 children in year 1, NA children in year 2, and 2 children in year\n",
    "3, we can reasonably impute that she has 2 children in year 2.\n",
    "- Pros: Requires no “inference,” true value can be assessed, **valid method**.\n",
    "- Cons: Can be time consuming or requires specific coding."
   ]
  },
  {
   "cell_type": "markdown",
   "metadata": {
    "collapsed": true,
    "slideshow": {
     "slide_type": "slide"
    }
   },
   "source": [
    "<a id=\"meanmedianmode-imputation\"></a>\n",
    "### Mean/Median/Mode Imputation\n",
    "- For any “NA” value in a given column, mean imputation replaces “NA”\n",
    "with the mean of that column. (Same for median and mode imputation.)\n",
    "Mean/Median/Mode Imputation\n",
    "- For any “NA” value in a given column, mean imputation replaces “NA”\n",
    "with the mean of that column. (Same for median and mode imputation.)\n",
    "- Pros: Easy to implement and comprehend. Seems reasonable.\n",
    "- Cons: Significantly distorts histogram, underestimates variance, mean and\n",
    "median imputation will give very different results for asymmetric data,\n",
    "**invalid method**."
   ]
  },
  {
   "cell_type": "markdown",
   "metadata": {
    "collapsed": true,
    "slideshow": {
     "slide_type": "slide"
    }
   },
   "source": [
    "<a id=\"regression-imputation\"></a>\n",
    "### Regression Imputation\n",
    "- For any “NA” value in a given column, regression imputation replaces\n",
    "“NA” with a predicted value based on a regression line.\n",
    "- i.e. Given observed demographic data, estimate $income = \\hat{\\beta_0} + \\hat{\\beta_1}age + \\hat{\\beta_2}sex$,\n",
    "then use observed age and sex as predictors to impute missing income data.\n",
    "- Pros: Easy to comprehend, seems logical, better than\n",
    "mean/median/mode imputation.\n",
    "- Cons: Still distorts histogram and underestimates variance, **invalid\n",
    "method**."
   ]
  },
  {
   "cell_type": "markdown",
   "metadata": {
    "collapsed": true,
    "slideshow": {
     "slide_type": "slide"
    }
   },
   "source": [
    "<a id=\"stochastic-regression-imputation\"></a>\n",
    "### Stochastic Regression Imputation\n",
    "- For any “NA” value in a given column, regression imputation replaces\n",
    "“NA” with a predicted value based on a regression line and **random\n",
    "error**.\n",
    "- i.e. Estimate $income_i = \\hat{\\beta_0} + \\hat{\\beta_1}age + \\hat{\\beta_2}sex + \\epsilon_i$ and $\\epsilon_i \\sim N(0,\\hat{\\sigma})$, then use\n",
    "observed age and sex as predictors to impute missing income data, plus random\n",
    "draw from $N(0,\\hat{\\sigma})$.\n",
    "- Pros: Easy to comprehend, better than regression imputation, allows for\n",
    "much better estimation of true variance.\n",
    "- Cons: Still underestimates variance, **invalid method**."
   ]
  },
  {
   "cell_type": "markdown",
   "metadata": {
    "slideshow": {
     "slide_type": "slide"
    }
   },
   "source": [
    "<a id=\"multiple-stochastic-regression-imputation\"></a>\n",
    "### Multiple Stochastic Regression Imputation\n",
    "- For any “NA” value in a given column, regression imputation replaces\n",
    "“NA” with a predicted value based on a regression line **and random\n",
    "error**.\n",
    "- i.e. Estimate $income_i = \\hat{\\beta_0} + \\hat{\\beta_1}age + \\hat{\\beta_2}sex + \\epsilon_i$ and $\\epsilon_i \\sim N(0,\\hat{\\sigma})$, then use\n",
    "observed age and sex as predictors to impute missing income data, plus random\n",
    "draw from $N(0,\\hat{\\sigma})$.\n",
    "- Do this $p$ times so that you create $p$ imputed (“complete”) datasets. Analyze\n",
    "results in each of $p$ datasets. Aggregate or pool results across datasets by\n",
    "reporting mean, variance, and confidence interval.\n",
    "- Pros: Better than singly-stochastic regression imputation, allows for\n",
    "much better estimation of true variance.\n",
    "- Cons: Takes a bit of effort to implement, **invalid method**."
   ]
  },
  {
   "cell_type": "markdown",
   "metadata": {
    "slideshow": {
     "slide_type": "slide"
    }
   },
   "source": [
    "<a id=\"proper-multiple-stochastic-regression-imputation\"></a>\n",
    "### Proper Multiple Stochastic Regression Imputation\n",
    "- For any “NA” value in a given column, regression imputation replaces\n",
    "“NA” with a predicted value based on a regression line **and random\n",
    "error**.\n",
    "- i.e. Estimate $income_i = \\hat{\\beta_0} + \\hat{\\beta_1}age + \\hat{\\beta_2}sex + \\epsilon_i$; $\\hat{\\beta}_{j,i} \\sim N(\\hat{\\beta},\\hat{SE}(\\hat{\\beta}_j))$, then impute missing income data using random draws from\n",
    "$N(\\hat{\\beta},\\hat{SE}(\\hat{\\beta}_j))$ and $N(0,\\hat{\\sigma})$.\n",
    "- Do this $p$ times so that you create $p$ imputed (“complete”) datasets. Analyze\n",
    "results in each of $p$ datasets. Aggregate or pool results across datasets by\n",
    "reporting mean, variance, and confidence interval.\n",
    "- Pros: Best version, **valid method**.\n",
    "- Cons: Takes the most effort to implement."
   ]
  },
  {
   "cell_type": "markdown",
   "metadata": {
    "collapsed": true,
    "slideshow": {
     "slide_type": "slide"
    }
   },
   "source": [
    "<a id=\"hot-deck-imputation\"></a>\n",
    "### Hot-Deck Imputation\n",
    "- Divide sample units into classes (i.e. based on age and sex). For any\n",
    "“NA” value in a given class, randomly select the value of one of the\n",
    "observed values in that class and impute that value for the missing value.\n",
    "- i.e. Among 18-34 year old women, there are 20 observed values and 3 missing\n",
    "values. For each missing value, pick one observed value at random and fill in the\n",
    "missing value with that observed value. You will select three observed values **with replacement**.\n",
    "- Pros: Can use “Nearest-Neighbor Hot-Deck Imputation” based on\n",
    "respondents who are “close” to one another.\n",
    "- Cons: If columns are imputed separately, multivariate relationships are not preserved. **Invalid method**."
   ]
  },
  {
   "cell_type": "markdown",
   "metadata": {
    "collapsed": true,
    "slideshow": {
     "slide_type": "slide"
    }
   },
   "source": [
    "<a id=\"cold-deck-imputation\"></a>\n",
    "### Cold-Deck Imputation\n",
    "- Divide sample units into classes (i.e. based on age and sex). For any\n",
    "“NA” value in a given class, randomly select the value of one of the\n",
    "observed values in that class **from another dataset** and impute that value\n",
    "for the missing value.\n",
    "- i.e. Among 18-34 year old women, there are 20 observed values and 3 missing\n",
    "values. For each missing value, pick one observed value at random and fill in the\n",
    "missing value with that observed value. You will select three observed values **with\n",
    "replacement**.\n",
    "- Pros: lol\n",
    "- Cons: Requires multiple datasets. Worse than hot-deck imputation. Usually, multivariate relationships are not preserved. **Invalid method**."
   ]
  },
  {
   "cell_type": "markdown",
   "metadata": {
    "collapsed": true,
    "slideshow": {
     "slide_type": "slide"
    }
   },
   "source": [
    "<a id=\"summary\"></a>\n",
    "### Summary\n",
    "- Imputation\n",
    "- Deductive Imputation (valid)\n",
    "- Mean/Median/Mode Imputation (invalid)\n",
    "- Regression Imputation (invalid)\n",
    "- Stochastic Regression Imputation (invalid)\n",
    "- Multiple Stochastic Regression Imputation (invalid)\n",
    "- Proper Imputation (valid)\n",
    "- Hot-Deck Imputation (invalid)\n",
    "- Cold-Deck Imputation (invalid)"
   ]
  },
  {
   "cell_type": "markdown",
   "metadata": {
    "collapsed": true,
    "slideshow": {
     "slide_type": "slide"
    }
   },
   "source": [
    "<a id=\"one-final-note-on-imputation\"></a>\n",
    "### One final note on imputation\n",
    "- Assuming that you’re using a valid method of imputation, **you are not making up data**.\n",
    "- You are conducting analyses with proper estimation of variance, which allows us\n",
    "to express the true amount of uncertainty we have in our results.\n",
    "- If you’re simply imputing data in order to have a “complete” data set for\n",
    "further analysis (i.e. not doing multiple imputations, then multiple\n",
    "analyses, then pooling results), be careful.\n",
    "- After constructing this data set, nobody will know the difference between\n",
    "observed data and imputed data."
   ]
  },
  {
   "cell_type": "markdown",
   "metadata": {
    "slideshow": {
     "slide_type": "slide"
    }
   },
   "source": [
    "<a id=\"types-of-missingness\"></a>\n",
    "## Types of missingness\n",
    "---\n",
    "\n",
    "- Missing Not at Random (NMAR, pronounced “N-marr”)\n",
    "- Missing at Random (MAR, pronounced “marr” or “M-A-R”)\n",
    "- Missing Completely at Random (MCAR, pronounced “M-car”)"
   ]
  },
  {
   "cell_type": "markdown",
   "metadata": {
    "collapsed": true,
    "slideshow": {
     "slide_type": "slide"
    }
   },
   "source": [
    "<a id=\"scenario-\"></a>\n",
    "### Scenario 1\n",
    "- I administer a survey that includes a question about\n",
    "someone’s income. Those with low incomes are significantly less likely to\n",
    "respond to that question.\n",
    "- This type of missingness is called **missing not at random**."
   ]
  },
  {
   "cell_type": "markdown",
   "metadata": {
    "collapsed": true,
    "slideshow": {
     "slide_type": "slide"
    }
   },
   "source": [
    "<a id=\"scenario-\"></a>\n",
    "### Scenario 2 \n",
    "- I administer a survey that includes a question about\n",
    "someone’s income. Those who are female are more likely to respond to\n",
    "the question about income.\n",
    "- This type of missingness is called **missing at random**."
   ]
  },
  {
   "cell_type": "markdown",
   "metadata": {
    "collapsed": true,
    "slideshow": {
     "slide_type": "slide"
    }
   },
   "source": [
    "<a id=\"scenario-\"></a>\n",
    "### Scenario 3 \n",
    "- I am working in a lab, conducting an experiment with Petri\n",
    "dishes. At the end of the experiment, I want to record the amount of\n",
    "bacteria in each dish. However, I accidentally drop one of the Petri\n",
    "dishes and can’t record the measurement.\n",
    "- This type of missingness is called missing **completely at random**."
   ]
  },
  {
   "cell_type": "markdown",
   "metadata": {
    "collapsed": true,
    "slideshow": {
     "slide_type": "slide"
    }
   },
   "source": [
    "<a id=\"not-missing-at-random-nmar\"></a>\n",
    "### Not Missing at Random (NMAR)\n",
    "- The data of interest is systematically different for the respondents and\n",
    "nonrespondents. Whether or not an observation is missing depends on\n",
    "the unobserved data.\n",
    "- During the 2016 election, I administer a political robo-call, asking people who\n",
    "they plan to vote for in the upcoming Presidential election. People who truly will\n",
    "vote for Donald Trump are less likely to respond to the survey.\n",
    "- This is a case where whether or not a value is missing depends on the missing\n",
    "value itself!\n",
    "- There is a special type of NMAR data called “censoring,” which is studied\n",
    "through survival analysis.\n",
    "- NMAR is the most difficult type of missingness to address."
   ]
  },
  {
   "cell_type": "markdown",
   "metadata": {
    "collapsed": true,
    "slideshow": {
     "slide_type": "slide"
    }
   },
   "source": [
    "<a id=\"missing-at-random-mar\"></a>\n",
    "### Missing at Random (MAR)\n",
    "- Conditional on data we have observed, the data of interest is not\n",
    "systematically different between respondents and nonrespondents.\n",
    "- I administer a survey covering demographic and salary information. Every person\n",
    "responds with their sex but some people leave their salary blank. 70% of women\n",
    "report their salary and 50% of men report their salary.\n",
    "- In this case, we say that salary data is MAR conditional on sex."
   ]
  },
  {
   "cell_type": "markdown",
   "metadata": {},
   "source": [
    "<a id=\"missing-completely-at-random-mcar\"></a>\n",
    "### Missing Completely at Random (MCAR)\n",
    "- The data of interest is not systematically different between respondents\n",
    "and nonrespondents.\n",
    "- I administer a five question survey to 20 students on paper. The papers are\n",
    "handed in as students leave. I enter them into a computer but knock my coffee\n",
    "over onto the stack, obscuring Q5 on the bottom three surveys.\n",
    "- MCAR is not usually the case, but if MCAR is a reasonable assumption,\n",
    "then there are a lot of convenient methods for handling missing data."
   ]
  },
  {
   "cell_type": "markdown",
   "metadata": {
    "slideshow": {
     "slide_type": "slide"
    }
   },
   "source": [
    "<a id=\"which-missingness-do-i-have\"></a>\n",
    "## Which missingness do I have?\n",
    "---\n",
    "\n",
    "1. Little’s Test for MCAR\n",
    "    - Hypothesis test available in software packages. $H_0:MCAR$ vs. $H_A:MAR$\n",
    "    - (No empirical test possible to establish NMAR!)\n",
    "2. Partition data into “observed” and “unobserved” results and compare\n",
    "two datasets. (Are certain summaries significantly different?)\n",
    "3. Think about missing data process - can you come up with reasonable\n",
    "answer based on how missing data came about?"
   ]
  },
  {
   "cell_type": "markdown",
   "metadata": {
    "collapsed": true,
    "slideshow": {
     "slide_type": "slide"
    }
   },
   "source": [
    "<a id=\"methods-for-mcar\"></a>\n",
    "### Methods for MCAR\n",
    "- If our data are MCAR, then:\n",
    "- We can use any of the methods we previously discussed with their respective\n",
    "caveats.\n",
    "- Recommendations:\n",
    "- Deductive Imputation\n",
    "- Proper Imputation\n",
    "- Multiply Stochastic Regression Imputation\n",
    "- Stochastic Regression Imputation\n",
    "- Hot-Deck Imputation\n",
    "- Complete-Case Analysis\n",
    "- Will be unbiased, but will underestimate variance."
   ]
  },
  {
   "cell_type": "markdown",
   "metadata": {
    "collapsed": true,
    "slideshow": {
     "slide_type": "slide"
    }
   },
   "source": [
    "<a id=\"methods-for-mar\"></a>\n",
    "### Methods for MAR\n",
    "- If our data are MAR, then:\n",
    "- We cannot use these methods:\n",
    "- Complete-Case Analysis\n",
    "- We can use any of these methods we previously discussed with their respective\n",
    "caveats.\n",
    "- Recommendations:\n",
    "- Deductive Imputation\n",
    "- Proper Imputation\n",
    "- Multiply Stochastic Regression Imputation\n",
    "- Stochastic Regression Imputation\n",
    "- Hot-Deck Imputation\n",
    "- This assumes we include the MAR variables in our regression."
   ]
  },
  {
   "cell_type": "markdown",
   "metadata": {
    "collapsed": true,
    "slideshow": {
     "slide_type": "slide"
    }
   },
   "source": [
    "<a id=\"methods-for-nmar\"></a>\n",
    "### Methods for NMAR\n",
    "- If our data are NMAR, then:\n",
    "- We cannot use these methods:\n",
    "- Complete-Case Analysis\n",
    "- Proper Imputation\n",
    "- Multiply Stochastic Regression Imputation\n",
    "- Stochastic Regression Imputation\n",
    "- Hot-Deck Imputation\n",
    "- We can use any of these methods we previously discussed with their respective\n",
    "caveats.\n",
    "- Recommendations:\n",
    "- Deductive Imputation"
   ]
  },
  {
   "cell_type": "markdown",
   "metadata": {
    "collapsed": true,
    "slideshow": {
     "slide_type": "slide"
    }
   },
   "source": [
    "<a id=\"resources\"></a>\n",
    "## Additional Resources\n",
    "---\n",
    "\n",
    "- http://www.stat.columbia.edu/~gelman/arm/missing.pdf\n",
    "- https://liberalarts.utexas.edu/prc/_files/cs/Missing-Data.pdf\n",
    "- http://scikitlearn.org/stable/auto_examples/missing_values.html#sphx-glr-autoexamples-missing-values-py"
   ]
  }
 ],
 "metadata": {
  "celltoolbar": "Slideshow",
  "kernelspec": {
   "display_name": "Python 2",
   "language": "python",
   "name": "python2"
  },
  "language_info": {
   "codemirror_mode": {
    "name": "ipython",
    "version": 2
   },
   "file_extension": ".py",
   "mimetype": "text/x-python",
   "name": "python",
   "nbconvert_exporter": "python",
   "pygments_lexer": "ipython2",
   "version": "2.7.13"
  }
 },
 "nbformat": 4,
 "nbformat_minor": 2
}
