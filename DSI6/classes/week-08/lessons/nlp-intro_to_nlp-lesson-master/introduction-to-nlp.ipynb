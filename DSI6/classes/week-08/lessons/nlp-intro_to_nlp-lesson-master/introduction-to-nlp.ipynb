{
 "cells": [
  {
   "cell_type": "markdown",
   "metadata": {
    "slideshow": {
     "slide_type": "notes"
    }
   },
   "source": [
    "> **Jupyter slideshow:** This notebook can be displayed as slides. To view it as a slideshow in your browser, type the following in the console:\n",
    "\n",
    "\n",
    "> `> ipython nbconvert [this_notebook.ipynb] --to slides --post serve`\n",
    "\n",
    "\n",
    "> To toggle off the slideshow cell formatting, click the `CellToolbar` button, then `View --> Cell Toolbar --> None`."
   ]
  },
  {
   "cell_type": "markdown",
   "metadata": {
    "slideshow": {
     "slide_type": "slide"
    }
   },
   "source": [
    "\n",
    "<img src=\"http://imgur.com/1ZcRyrc.png\" style=\"float: left; margin: 20px; height: 55px\">\n",
    "\n",
    "# Introduction to Natural Language Processing (NLP)\n",
    "\n",
    "_Authors: Dave Yerrington (SF)_\n",
    "\n",
    "---\n",
    "\n",
    "\n",
    "![](https://snag.gy/uvESGH.jpg)"
   ]
  },
  {
   "cell_type": "markdown",
   "metadata": {
    "slideshow": {
     "slide_type": "slide"
    }
   },
   "source": [
    "### Learning Objectives\n",
    "*After this lesson, you will be able to:*\n",
    "\n",
    "- Extract features from unstructured text using scikit-learn.\n",
    "- Identify parts of speech using the Natural Language Toolkit (NLTK).\n",
    "- Remove stop words.\n",
    "- Describe how TF-IDF works."
   ]
  },
  {
   "cell_type": "markdown",
   "metadata": {
    "slideshow": {
     "slide_type": "slide"
    }
   },
   "source": [
    "### Student Pre-Work\n",
    "*Before this lesson, you should already be able to:*\n",
    "\n",
    "- Familiarize yourself with [nltk.download()](http://www.nltk.org/data.html) in case you need to download additional corpuses.\n",
    "- Describe what a transformer is in scikit-learn and use it.\n",
    "- Recognize basic principles of English language syntax."
   ]
  },
  {
   "cell_type": "markdown",
   "metadata": {
    "slideshow": {
     "slide_type": "slide"
    }
   },
   "source": [
    "### Lesson Guide\n",
    "- [Introduction to Text Feature Extraction](#intro)\n",
    "- [An NLP Project: rapstats.io](#rapstats)\n",
    "- [Common NLP Problems](#common)\n",
    "- [Some Common NLP Models](#models)\n",
    "- [A Simple Example](#simple)\n",
    "- [Bag of Words/Word Counting](#bow)\n",
    "    - [Demo: Bag of Words](#bow-demo)\n",
    "    - [Unicode: A Common Pitfall](#unicode)\n",
    "- [Demo: Scikit-Learn's `CountVectorizer`](#countvectorizer)\n",
    "- [What is a Hash Function?](#hash)\n",
    "- [Scikit-Learn's `HashingVectorizer`](#hasingvectorizer)\n",
    "- [Downsides to Bag of Words](#downsides-bow)\n",
    "- [Segmentation](#segmentation)\n",
    "    - [NLTK Sentencer](#nltk-sentencer)\n",
    "- [Demo: Stemming With NLTK](#stem-demo)\n",
    "    - [Stemming](#stemming)\n",
    "    - [Stemming Group Activity](#group)\n",
    "- [Stop Words](#stopwords)\n",
    "- [Parts of Speech Tagging](#pos)\n",
    "- [Term Frequency — Inverse Document Frequency](#tfidf)\n",
    "- [Practice Using the `TfidfVectorizer`](#tfidf-vec)\n",
    "- [Conclusion](#conclusion)\n",
    "- [Additional Resources](#resources)"
   ]
  },
  {
   "cell_type": "markdown",
   "metadata": {
    "slideshow": {
     "slide_type": "slide"
    }
   },
   "source": [
    "<a name=\"intro\"></a>\n",
    "## Introduction to Text Feature Extraction\n",
    "\n",
    "---\n",
    "\n",
    "The models we’ve been using so far accept a two-dimensional matrix of real numbers as input `X` and a target vector of classes or numbers as `y`. What if our starting point data are not given in the form of a table of numbers but rather are unstructured? This is the case when we work with text documents.\n",
    "\n",
    "We need a way to go from unstructured data to our numeric `X` matrix in order to use the same models. This is called _feature extraction_, and this lesson is dedicated to it.\n",
    "\n",
    "The applications of using text data in statistical modeling are practically infinite. Some examples include:\n",
    "\n",
    "- Sentiment analysis of Yelp reviews.\n",
    "- Identifying topics of new articles.\n",
    "- Classification of political authors.\n",
    "\n",
    "<br>\n",
    "<center>\n",
    "# Y ~ \"YOLO 4life ^^ BBQ@@ OMG LOL!\"\n",
    "</center>\n",
    "<br>\n",
    "\n",
    "<img src=\"https://snag.gy/FoaBeK.jpg\" style=\"width: 400px; float: left; margin-right: 20px;\">\n",
    "\n",
    "<img src=\"https://snag.gy/Qz0mav.jpg\" style=\"width: 150px; float: left; margin-right: 50px;\">\n",
    "\n",
    "<img src=\"https://snag.gy/6Lu9aC.jpg\">\n"
   ]
  },
  {
   "cell_type": "markdown",
   "metadata": {
    "slideshow": {
     "slide_type": "slide"
    }
   },
   "source": [
    "<a id='rapstats'></a>\n",
    "## An Example NLP Project: rapstats.io\n",
    "\n",
    "---\n",
    "\n",
    "<a href=\"http://rapstats.io\"><img src=\"https://snag.gy/8GSVqf.jpg\"></a>\n",
    "\n",
    "<img src=\"https://snag.gy/8eJNFv.jpg\" style=\"width: 300px; float: left;\">\n",
    "<img src=\"https://snag.gy/2Hz0o7.jpg\" style=\"width: 300px;\">\n",
    "\n",
    "**See also:**\n",
    "\n",
    "- [The Largest Vocabulary in Hip Hop](http://poly-graph.co/vocabulary.html).\n",
    "- [Rap Genius: Rap Stats](http://genius.com/rapstats).\n",
    "- [Rap lyric generator, Hieu Nguyen and Brian Sa](http://nlp.stanford.edu/courses/cs224n/2009/fp/5.pdf)."
   ]
  },
  {
   "cell_type": "markdown",
   "metadata": {
    "slideshow": {
     "slide_type": "slide"
    }
   },
   "source": [
    "<a id='common'></a>\n",
    "## Common NLP Problems\n",
    "\n",
    "---\n",
    "\n",
    "The table below details some of the most common problems and tasks in the vast field of natural language processing (NLP).\n",
    "\n",
    "| | |\n",
    "|-|-|\n",
    "| **Sentiment Analysis** | Determining if what is written is positive or negative. | \n",
    "| **Named Entity Recognition** | Classifying names of people, organizations, locations, expressions of times, quantities, monetary values, percentages, etc. |\n",
    "| **Summarization** | Boiling down large bodies of text to paraphrased versions. |\n",
    "| **Topic Modeling** | Pinpointing the topics a body of text belongs to (e.g., auto-tagging news articles). |\n",
    "| **Question Answering** | Determining the answer to a human-language question. |\n",
    "| **Word Disambiguation** | Many words have more than one meaning; we have to select the meaning that makes the most sense in context. For this problem, we’re typically given a list of words and associated word senses (e.g., from a dictionary or from an online resource such as WordNet). |\n",
    "| **Machine Dialog Systems** | Building response systems that react contextually to human input (i.e., Me: \"Siri, cook me some bacon.\" Siri: \"How do you like your bacon cooked?\"). | \n",
    "\n",
    "\n",
    "See also:\n",
    "\n",
    "- [News headline analysis](http://nbviewer.jupyter.org/github/AYLIEN/headline_analysis/blob/06f1223012d285412a650c201a19a1c95859dca1/main-chunks.ipynb?utm_content=buffer5d40c&utm_medium=social&utm_source=twitter.com&utm_campaign=buffer).\n",
    "- [Sentiment and robot classification in movies](http://nbviewer.jupyter.org/github/cojette/ClusteringRobotsinMovie/blob/master/Classification%20of%20Robots%20in%20Movies.ipynb).\n",
    "- [Text summarization with Gensim](http://nbviewer.jupyter.org/github/piskvorky/gensim/blob/develop/docs/notebooks/summarization_tutorial.ipynb).\n",
    "- [Sentiment analysis introduction](http://nbviewer.jupyter.org/github/sgsinclair/alta/blob/master/ipynb/SentimentAnalysis.ipynb)."
   ]
  },
  {
   "cell_type": "markdown",
   "metadata": {
    "slideshow": {
     "slide_type": "slide"
    }
   },
   "source": [
    "<a id='models'></a>\n",
    "## Some Common NLP Models and Terms\n",
    "\n",
    "---\n",
    "\n",
    "- Latent semantic indexing (LSI)\n",
    "- Latent dirichlet allocation (LDA)\n",
    "- Hierarchical dirichlet process (HDP)\n",
    "- Word2Vec\n",
    "- LogisticRegression\n",
    "- Naive Bayes\n",
    "- SVM\n",
    "- CountVectorizer\n",
    "- Term frequency-inverse document frequency (TF-IDF)\n",
    "- Document term matrix (DTM)\n",
    "\n",
    "> **Note:** This is not an exhaustive list, nor will we be covering all of these models in class. NLP is a very deep and broad area of data science that could warrant its own Immersive course entirely."
   ]
  },
  {
   "cell_type": "markdown",
   "metadata": {
    "slideshow": {
     "slide_type": "slide"
    }
   },
   "source": [
    "<a id='simple'></a>\n",
    "## A Simple Example\n",
    "---\n",
    "\n",
    "Suppose we're building a spam classifier. The inputs are emails and the output is a binary label.\n",
    "\n",
    "Here's an example of an input email from each class:\n",
    "\n",
    "\n",
    "```python\n",
    "spam = \"\"\"\n",
    "Hello,\\nI saw your contact information on LinkedIn. I have carefully read through your profile and you seem to have an outstanding personality. This is one major reason why I am in contact with you. My name is Mr. Valery Grayfer, chairman of the board of directors of PJSC \"LUKOIL.\" I am 86-years old and I was diagnosed with cancer two years ago. I will be going in for an operation later this week. I decided to will/donate the sum of 8,750,000.00 Euros (eight million seven hundred and fifty thousand euros only etc. etc.\n",
    "\"\"\"\n",
    "\n",
    "ham = \"\"\"\n",
    "Hello,\\nI am writing in regards to your application to the position of data scientist at Hooli X. We are pleased to inform you that you passed the first round of interviews, and we would like to invite you for an onsite interview with our senior data scientist, Mr. John Smith. You will find attached to this message further information on date, time, and location of the interview. Please let me know if I can be of any further assistance. Best regards.\n",
    "\"\"\"\n",
    "print spam\n",
    "print\n",
    "print ham\n",
    "```\n"
   ]
  },
  {
   "cell_type": "markdown",
   "metadata": {
    "slideshow": {
     "slide_type": "slide"
    }
   },
   "source": [
    "## Can You Think of a Simple Heuristic Rule to Catch Emails Like This?"
   ]
  },
  {
   "cell_type": "markdown",
   "metadata": {
    "slideshow": {
     "slide_type": "fragment"
    }
   },
   "source": [
    "> _We could check for the presence of the words \"donate,\" \"will,\" \"sum,\" \"cancer,\" \"LinkedIn,\" and those that are similar._\n",
    "\n",
    "By defining a simple rule that parses the text for the presence of keywords, we’re performing one of the simplest text feature extraction methods: _binary word counting_.\n"
   ]
  },
  {
   "cell_type": "markdown",
   "metadata": {
    "slideshow": {
     "slide_type": "slide"
    }
   },
   "source": [
    "<a id='bow'></a>\n",
    "## Bag of Words/Word Counting\n",
    "---\n",
    "\n",
    "The bag-of-words model is a simplified representation of the raw data. In this model, text (such as a sentence or document) is represented as the bag (multiset) of its words.\n",
    "\n",
    "Bag-of-words representations discard grammar, order, and structure in the text but track occurrences."
   ]
  },
  {
   "cell_type": "markdown",
   "metadata": {
    "slideshow": {
     "slide_type": "slide"
    }
   },
   "source": [
    "<a id='bow-demo'></a>\n",
    "### Demo: Bag of Words\n",
    "\n",
    "```python\n",
    "from collections import Counter\n",
    "print Counter(spam.lower().split())\n",
    "print\n",
    "print Counter(ham.lower().split())\n",
    "```\n",
    "\n",
    "    Counter({'i': 7, 'of': 4, 'and': 3, 'is': 2, 'etc.': 2, 'am': 2, 'an': 2, 'have': 2, 'in': 2, 'your': 2, 'to': 2, 'years': 2, 'with': 2, 'this': 2, 'contact': 2, 'the': 2, 'major': 1, 'old': 1, 'cancer': 1, 'outstanding': 1, 'seven': 1, 'decided': 1, 'through': 1, 'carefully': 1, 'euros(eight': 1, 'seem': 1, 'saw': 1, 'information': 1, 'for': 1, 'euros': 1, 'fifty': 1, '86': 1, 'sum': 1, '\"lukoil\".': 1, 'only': 1, 'pjsc': 1, 'mr.': 1, '2': 1, 'linkedin.': 1, 'will/donate': 1, 'you': 1, 'hundred': 1, 'was': 1, 'personality.': 1, 'chairman': 1, 'profile': 1, 'you.': 1, 'hello,': 1, 'ago.': 1, 'read': 1, 'going': 1, 'thousand': 1, 'million': 1, 'grayfer': 1, 'reason': 1, 'be': 1, 'one': 1, 'why': 1, 'on': 1, 'name': 1, 'week.': 1, '8,750,000.00': 1, 'later': 1, 'board': 1, 'operation': 1, 'will': 1, 'directors': 1, 'diagnosed': 1, 'valery': 1, 'my': 1})\n",
    "    \n",
    "    Counter({'to': 5, 'you': 4, 'of': 4, 'the': 3, 'and': 2, 'we': 2, 'scientist': 2, 'data': 2, 'i': 2, 'further': 2, 'this': 1, 'regards.': 1, 'find': 1, 'information': 1, 'am': 1, 'an': 1, 'at': 1, 'in': 1, 'our': 1, 'message': 1, 'pleased': 1, 'best': 1, 'if': 1, 'will': 1, 'would': 1, 'with': 1, 'interviews': 1, 'please': 1, 'writing': 1, 'application': 1, 'mr.': 1, 'location': 1, 'passed': 1, 'interview': 1, 'for': 1, 'john': 1, 'date,': 1, 'be': 1, 'hello,': 1, 'x.': 1, 'invite': 1, 'that': 1, 'any': 1, 'interview.': 1, 'regards': 1, 'let': 1, 'know': 1, 'hooli': 1, 'on-site': 1, 'me': 1, 'on': 1, 'your': 1, 'like': 1, 'assistance.': 1, 'attached': 1, 'senior': 1, 'inform': 1, 'smith.': 1, 'can': 1, 'time': 1, 'position': 1, 'first': 1, 'round': 1, 'are': 1})\n",
    "\n",
    "\n",
    "In the example above, we counted the number of times each word appeared in the text. Note that because we included all of the words in the text, we created a dictionary that contains many words with only one appearance."
   ]
  },
  {
   "cell_type": "markdown",
   "metadata": {
    "slideshow": {
     "slide_type": "slide"
    }
   },
   "source": [
    "<a id='unicode'></a>\n",
    "### Unicode: A Common Pitfall\n",
    "\n",
    "What happens when we get a character that’s referenced outside of the character space, for instance a Japanese Katakana character (片仮名 / カタカナ)?\n",
    "\n",
    "**UTF8 versus Latin**\n",
    "- [Latin word reference](https://media-mediatemple.netdna-ssl.com/wp-content/uploads/2012/04/iso-8859-5-php-orange.png).\n"
   ]
  },
  {
   "cell_type": "markdown",
   "metadata": {
    "slideshow": {
     "slide_type": "fragment"
    }
   },
   "source": [
    "- Python doesn't know how to handle these characters if it has to process them in any way.\n",
    "- Characters outside the Latin character space will get converted to the ordinal zero.\n",
    "- This problem can be a frustrating one!\n",
    "\n",
    "Luckily, scikit-learn has robust classes for text feature extraction. Use scikit-learn's built-in text preprocessing method when possible. Always save/encode your text as UTF8 when there are options available to do so."
   ]
  },
  {
   "cell_type": "markdown",
   "metadata": {
    "slideshow": {
     "slide_type": "slide"
    }
   },
   "source": [
    "<a name=\"countvectorizer\"></a>\n",
    "## Demo: Scikit-Learn `CountVectorizer`\n",
    "---\n",
    "\n",
    "Scikit-learn offers a `CountVectorizer` class with many configurable options:\n",
    "\n",
    "\n",
    "```python\n",
    "import pandas as pd\n",
    "from sklearn.feature_extraction.text import CountVectorizer\n",
    "```\n",
    "\n",
    "\n",
    "```python\n",
    "cvec = CountVectorizer()\n",
    "cvec.fit([spam])\n",
    "```\n",
    "\n",
    "\n",
    "\n",
    "\n",
    "    CountVectorizer(analyzer=u'word', binary=False, decode_error=u'strict',\n",
    "            dtype=<type 'numpy.int64'>, encoding=u'utf-8', input=u'content',\n",
    "            lowercase=True, max_df=1.0, max_features=None, min_df=1,\n",
    "            ngram_range=(1, 1), preprocessor=None, stop_words=None,\n",
    "            strip_accents=None, token_pattern=u'(?u)\\\\b\\\\w\\\\w+\\\\b',\n",
    "            tokenizer=None, vocabulary=None)\n",
    "\n",
    "\n",
    "\n",
    "\n",
    "```python\n",
    "df  = pd.DataFrame(cvec.transform([spam]).todense(),\n",
    "             columns=cvec.get_feature_names())\n",
    "\n",
    "df.transpose().sort_values(0, ascending=False).head(10).transpose()\n",
    "```\n",
    "\n",
    "<div>\n",
    "<table border=\"1\" class=\"dataframe\">\n",
    "  <thead>\n",
    "    <tr style=\"text-align: right;\">\n",
    "      <th></th>\n",
    "      <th>of</th>\n",
    "      <th>and</th>\n",
    "      <th>your</th>\n",
    "      <th>contact</th>\n",
    "      <th>is</th>\n",
    "      <th>in</th>\n",
    "      <th>have</th>\n",
    "      <th>euros</th>\n",
    "      <th>the</th>\n",
    "      <th>this</th>\n",
    "    </tr>\n",
    "  </thead>\n",
    "  <tbody>\n",
    "    <tr>\n",
    "      <th>0</th>\n",
    "      <td>4</td>\n",
    "      <td>3</td>\n",
    "      <td>2</td>\n",
    "      <td>2</td>\n",
    "      <td>2</td>\n",
    "      <td>2</td>\n",
    "      <td>2</td>\n",
    "      <td>2</td>\n",
    "      <td>2</td>\n",
    "      <td>2</td>\n",
    "    </tr>\n",
    "  </tbody>\n",
    "</table>\n",
    "</div>\n",
    "\n",
    "**Note**: There are several parameters to tweak."
   ]
  },
  {
   "cell_type": "markdown",
   "metadata": {
    "slideshow": {
     "slide_type": "slide"
    }
   },
   "source": [
    "### Spend a couple of minutes scanning the documentation to figure out what those parameters do.\n",
    "\n",
    "In groups, share a few takeaways from the documentation. What arguments and capabilities stand out to you? How do the arguments affect the parsing behavior?\n",
    "\n",
    "[Count vectorizer documentation](http://scikit-learn.org/stable/modules/generated/sklearn.feature_extraction.text.CountVectorizer.html)."
   ]
  },
  {
   "cell_type": "markdown",
   "metadata": {
    "slideshow": {
     "slide_type": "slide"
    }
   },
   "source": [
    "<a id='hash'></a>\n",
    "## What is a Hash Function?\n",
    "\n",
    "---\n",
    "![](https://i.ytimg.com/vi/bs7Wq0Z1uYk/maxresdefault.jpg)"
   ]
  },
  {
   "cell_type": "markdown",
   "metadata": {
    "slideshow": {
     "slide_type": "slide"
    }
   },
   "source": [
    "### Hashing\n",
    "\n",
    "A hash value is a number generated from a string of text. It's also referred to simply as \"hash\" or \"message digest.\"\n",
    "\n",
    "The hash is substantially smaller than the text itself and is generated by a formula in such a way that it's extremely unlikely some other text will produce the same hash value.\n",
    "\n",
    "Think of the hash as a code that represents the original text in a more condensed format."
   ]
  },
  {
   "cell_type": "markdown",
   "metadata": {
    "slideshow": {
     "slide_type": "slide"
    }
   },
   "source": [
    "<a name=\"hashingvectorizer\"></a>\n",
    "## Scikit-Learn's `HashingVectorizer`\n",
    "\n",
    "---\n",
    "\n",
    "As we’ve seen, we can set the `CountVectorizer` dictionary to a fixed size, only keeping words of certain frequencies. However, we still have to compute a dictionary and hold it in memory. This could be a problem when we have a large corpus or when we stream applications where we don't know which words we'll encounter in the future.\n",
    "\n",
    "Both problems can be solved using the `HashingVectorizer`, which converts a collection of text documents to a matrix of occurrences calculated with the [hashing trick](https://en.wikipedia.org/wiki/Feature_hashing). Each word is mapped to a feature with the use of a [hash function](https://en.wikipedia.org/wiki/Hash_function), which converts it to a hash. If we encounter that word again in the text, it will be converted to the same hash, allowing us to count word occurrence without retaining a dictionary in memory.\n",
    "\n",
    "The main drawback of this trick is that it's *not possible to compute the inverse transform* and we lose information on which words correspond with the important features. The hash function employed is the signed 32-bit version of Murmurhash3."
   ]
  },
  {
   "cell_type": "markdown",
   "metadata": {
    "slideshow": {
     "slide_type": "slide"
    }
   },
   "source": [
    "### What characteristics should text feature extraction satisfy?"
   ]
  },
  {
   "cell_type": "markdown",
   "metadata": {
    "slideshow": {
     "slide_type": "fragment"
    }
   },
   "source": [
    "It should return a fixed-size vector, regardless of the length of a text."
   ]
  },
  {
   "cell_type": "markdown",
   "metadata": {
    "slideshow": {
     "slide_type": "slide"
    }
   },
   "source": [
    "### Using the code above as an example, let's repeat the vectorization using a `HashingVectorizer`.\n",
    "\n",
    "Look up how to complete this step and then try it out for yourself."
   ]
  },
  {
   "cell_type": "markdown",
   "metadata": {
    "slideshow": {
     "slide_type": "fragment"
    }
   },
   "source": [
    "```python\n",
    "from sklearn.feature_extraction.text import HashingVectorizer\n",
    "hvec = HashingVectorizer()\n",
    "hvec.fit([spam])\n",
    "```"
   ]
  },
  {
   "cell_type": "markdown",
   "metadata": {
    "slideshow": {
     "slide_type": "fragment"
    }
   },
   "source": [
    "\n",
    "\n",
    "```python\n",
    "#\n",
    "# .todense() is just returning it as an array.\n",
    "#\n",
    "df  = pd.DataFrame(hvec.transform([spam]).todense())  \n",
    "\n",
    "df.transpose().sort_values(0, ascending=False).head(10).transpose()\n",
    "```\n",
    "\n",
    "\n",
    "\n",
    "\n",
    "<div>\n",
    "<table border=\"1\" class=\"dataframe\">\n",
    "  <thead>\n",
    "    <tr style=\"text-align: right;\">\n",
    "      <th></th>\n",
    "      <th>479532</th>\n",
    "      <th>144749</th>\n",
    "      <th>174171</th>\n",
    "      <th>832412</th>\n",
    "      <th>828689</th>\n",
    "      <th>994433</th>\n",
    "      <th>1005907</th>\n",
    "      <th>170062</th>\n",
    "      <th>675997</th>\n",
    "      <th>959146</th>\n",
    "    </tr>\n",
    "  </thead>\n",
    "  <tbody>\n",
    "    <tr>\n",
    "      <th>0</th>\n",
    "      <td>0.338062</td>\n",
    "      <td>0.169031</td>\n",
    "      <td>0.169031</td>\n",
    "      <td>0.169031</td>\n",
    "      <td>0.169031</td>\n",
    "      <td>0.169031</td>\n",
    "      <td>0.169031</td>\n",
    "      <td>0.169031</td>\n",
    "      <td>0.169031</td>\n",
    "      <td>0.084515</td>\n",
    "    </tr>\n",
    "  </tbody>\n",
    "</table>\n",
    "</div>\n"
   ]
  },
  {
   "cell_type": "markdown",
   "metadata": {
    "slideshow": {
     "slide_type": "slide"
    }
   },
   "source": [
    "### What new parameters does this vectorizer offer?\n",
    "\n",
    "Go back to the documentation and compare it to `CountVectorizer`.\n"
   ]
  },
  {
   "cell_type": "markdown",
   "metadata": {
    "slideshow": {
     "slide_type": "fragment"
    }
   },
   "source": [
    "> Answer:\n",
    "- n_features"
   ]
  },
  {
   "cell_type": "markdown",
   "metadata": {
    "slideshow": {
     "slide_type": "slide"
    }
   },
   "source": [
    "<a name=\"downsides-bow\"></a>\n",
    "## Downsides to Bag of Words\n",
    "\n",
    "---\n",
    "\n",
    "Bag-of-word approaches like the one outlined above completely ignore the structure of a sentence and merely assess the presence of specific words or word combinations.\n",
    "\n",
    "But the same word can have multiple meanings in different contexts. Consider, for example, the following two sentences:\n",
    "\n",
    "- There's wood floating in the **sea**.\n",
    "- Mike's in a **sea** of trouble with the move.\n",
    "\n",
    "How do we teach a computer to disambiguate? We'll cover some techniques that may help with this a little later.\n"
   ]
  },
  {
   "cell_type": "markdown",
   "metadata": {
    "slideshow": {
     "slide_type": "slide"
    }
   },
   "source": [
    "<a id='segmentation'></a>\n",
    "## Segmentation\n",
    "\n",
    "---\n",
    "\n",
    "_Segmentation_ is a technique used to **identify sentences** within a body of text. Language is not a continuous uninterrupted stream of words. Punctuation serves as a guide to group together words that convey meaning when contiguous.\n"
   ]
  },
  {
   "cell_type": "markdown",
   "metadata": {
    "slideshow": {
     "slide_type": "-"
    }
   },
   "source": [
    "\n",
    "\n",
    "```python\n",
    "easy_text = \"I went to the zoo today. What do you think of that? I bet you hate it! Or maybe you don't\"\n",
    "\n",
    "easy_split_text = [\"I went to the zoo today.\",\n",
    "                   \"What do you think of that?\",\n",
    "                   \"I bet you hate it!\",\n",
    "                   \"Or maybe you don't\"]\n",
    "```\n",
    "\n",
    "\n",
    "```python\n",
    "def simple_sentencer(text):\n",
    "    '''take a string called `text` and return\n",
    "    a list of strings, each containing a sentence'''\n",
    "    \n",
    "    sentences = []\n",
    "    substring = ''\n",
    "    for c in text:\n",
    "        if c in ('.', '!', '?'):\n",
    "            sentences.append(substring + c)\n",
    "            substring = ''\n",
    "        else:\n",
    "            substring += c\n",
    "    return sentences\n",
    "\n",
    "simple_sentencer(easy_text)\n",
    "```"
   ]
  },
  {
   "cell_type": "markdown",
   "metadata": {
    "slideshow": {
     "slide_type": "slide"
    }
   },
   "source": [
    "`# Result:`\n",
    "\n",
    "    ['I went to the zoo today.',\n",
    "     ' What do you think of that?',\n",
    "     ' I bet you hate it!']\n",
    "\n",
    "This function doesn't work perfectly. On the other hand, the Python NLTK library offers a more robust and easy-to-use sentencer.\n"
   ]
  },
  {
   "cell_type": "markdown",
   "metadata": {
    "slideshow": {
     "slide_type": "slide"
    }
   },
   "source": [
    "<a id='nltk-sentencer'></a>\n",
    "### NLTK Sentencer: An Easier Way to Accomplish the Same Task\n",
    "\n",
    "```python\n",
    "from nltk.tokenize import PunktSentenceTokenizer\n",
    "sent_detector = PunktSentenceTokenizer()\n",
    "sent_detector.sentences_from_text(easy_text)\n",
    "```\n",
    "\n",
    "    ['I went to the zoo today.',\n",
    "     'What do you think of that?',\n",
    "     'I bet you hate it!',\n",
    "     \"Or maybe you don't\"]\n"
   ]
  },
  {
   "cell_type": "markdown",
   "metadata": {
    "slideshow": {
     "slide_type": "slide"
    }
   },
   "source": [
    "#### Does NLTK offer other tokenizers? Use `nltk.download()` to explore the available packages.\n",
    "\n",
    "Try it out. "
   ]
  },
  {
   "cell_type": "code",
   "execution_count": 3,
   "metadata": {
    "collapsed": true,
    "slideshow": {
     "slide_type": "-"
    }
   },
   "outputs": [],
   "source": [
    "# Import NLTK.\n",
    "# nltk.download()"
   ]
  },
  {
   "cell_type": "markdown",
   "metadata": {
    "slideshow": {
     "slide_type": "slide"
    }
   },
   "source": [
    "<a name=\"stem-nltk\"></a>\n",
    "## Demo: Stemming With NLTK\n",
    "\n",
    "---\n",
    "\n",
    "**Text normalization** is the process of converting slightly different versions of words with essentially equivalent meanings into the same features.\n",
    "\n",
    "For example: LinkedIn sees more than 6,000 variations of the title “software engineer\" and more than 8,000 variations of the word \"IBM.\"\n",
    "\n",
    "#### What are some other common cases of text that could need normalization?\n"
   ]
  },
  {
   "cell_type": "markdown",
   "metadata": {
    "slideshow": {
     "slide_type": "fragment"
    }
   },
   "source": [
    "- Person titles (Mr., MR., DR., etc.).\n",
    "- Dates (10/03, March 10, etc.).\n",
    "- Numbers.\n",
    "- Plurals.\n",
    "- Verb conjugations.\n",
    "- Slang.\n",
    "- SMS abbreviations."
   ]
  },
  {
   "cell_type": "markdown",
   "metadata": {
    "slideshow": {
     "slide_type": "slide"
    }
   },
   "source": [
    "### Stemming\n",
    "\n",
    "It would be wrong to consider the words \"MR.\" and \"mr\" as different features, so we need a technique to normalize words to a common root. This technique is called _stemming_.\n",
    "\n",
    "- \"Science,\" \"scientist\" => \"scien\"\n",
    "- \"Swimming,\" \"swimmer,\" \"swim\" => \"swim\""
   ]
  },
  {
   "cell_type": "markdown",
   "metadata": {
    "slideshow": {
     "slide_type": "slide"
    }
   },
   "source": [
    "We can define a stemmer based on rules:\n",
    "\n",
    "\n",
    "```python\n",
    "def stem(tokens):\n",
    "    '''rules-based stemming of a bunch of tokens'''\n",
    "    \n",
    "    new_bag = []\n",
    "    for token in tokens:\n",
    "        # define rules here\n",
    "        if token.endswith('s'):\n",
    "            new_bag.append(token[:-1])\n",
    "        elif token.endswith('er'):\n",
    "            new_bag.append(token[:-2])\n",
    "        elif token.endswith('tion'):\n",
    "            new_bag.append(token[:-4])\n",
    "        elif token.endswith('tist'):\n",
    "            new_bag.append(token[:-4])\n",
    "        elif token.endswith('ce'):\n",
    "            new_bag.append(token[:-2])\n",
    "        elif token.endswith('ing'):\n",
    "            new_bag.append(token[:-2])\n",
    "        else:\n",
    "            new_bag.append(token)\n",
    "\n",
    "    return new_bag\n",
    "\n",
    "stem(['Science', 'Scientist'])\n",
    "```\n",
    "\n",
    "\n",
    "\n",
    "\n",
    "    ['Scien', 'Scien']"
   ]
  },
  {
   "cell_type": "markdown",
   "metadata": {
    "slideshow": {
     "slide_type": "slide"
    }
   },
   "source": [
    "Luckily, NLTK contains several robust stemmers.\n",
    "\n",
    "```python\n",
    "from nltk.stem import PorterStemmer\n",
    "stemmer = PorterStemmer()\n",
    "print stemmer.stem('Swimmed')\n",
    "print stemmer.stem('Swimming')\n",
    "```\n",
    "\n",
    "    Swim\n",
    "    Swim\n"
   ]
  },
  {
   "cell_type": "markdown",
   "metadata": {
    "slideshow": {
     "slide_type": "slide"
    }
   },
   "source": [
    "<a id='group'></a>\n",
    "### Stemming Group Activity\n",
    "\n",
    "\n",
    "There are other stemmers available in NLTK. Let's split the class in two teams and have a look at [this article](https://www.elastic.co/guide/en/elasticsearch/guide/current/choosing-a-stemmer.html). One team will focus on the pros of the porter stemmer and the other team will focus on the pros of the snowball stemmer. \n",
    "\n",
    "You'll have five minutes to read, then each team will have two minutes to convince the other why its stemmer is best.\n",
    "\n",
    "<center>\n",
    "\n",
    "<h3>We are data people. We must research. We will advocate.</h3>\n",
    "<br>\n",
    "\n",
    "</center>\n",
    "\n",
    "![](https://mlpforums.com/uploads/post_images/sig-4104702.0RpMdUv.jpg)\n"
   ]
  },
  {
   "cell_type": "markdown",
   "metadata": {
    "slideshow": {
     "slide_type": "slide"
    }
   },
   "source": [
    "<a id='stopwords'></a>\n",
    "## Stop Words\n",
    "\n",
    "---\n",
    "\n",
    "Some words are commonly used and provide no legitimate information about the content of the text.\n",
    "\n",
    "#### Can you think of some examples?\n",
    "\n",
    "We should remove these _stop words_. Note that each language has different stop words.\n",
    "\n",
    "```python\n",
    "from nltk.corpus import stopwords\n",
    "stop = stopwords.words('english')\n",
    "sentence = \"this is a foo bar sentence\"\n",
    "print [i for i in sentence.split() if i not in stop]\n",
    "```\n",
    "\n",
    "    ['foo', 'bar', 'sentence']\n"
   ]
  },
  {
   "cell_type": "markdown",
   "metadata": {
    "slideshow": {
     "slide_type": "slide"
    }
   },
   "source": [
    "<a id='pos'></a>\n",
    "## Parts of Speech Tagging\n",
    "\n",
    "---\n",
    "\n",
    "Each word has a specific role in a sentence (verb, noun, etc.). Parts-of-speech tagging (POS) is a feature extraction technique that attaches a tag to each word in the sentence in order to provide a more precise context for further analysis. This is often a resource-intensive process, but having these grammatical features can sometimes improve the accuracy of our models.\n",
    "\n",
    "\n",
    "```python\n",
    "from nltk.tag import pos_tag\n",
    "from nltk.tokenize import WordPunctTokenizer\n",
    "tok = WordPunctTokenizer()\n",
    "pos_tag(tok.tokenize(\"today is a great day to learn nlp\"))\n",
    "```\n",
    "\n",
    "    [('today', 'NN'),\n",
    "     ('is', 'VBZ'),\n",
    "     ('a', 'DT'),\n",
    "     ('great', 'JJ'),\n",
    "     ('day', 'NN'),\n",
    "     ('to', 'TO'),\n",
    "     ('learn', 'VB'),\n",
    "     ('nlp', 'NN')]"
   ]
  },
  {
   "cell_type": "markdown",
   "metadata": {
    "slideshow": {
     "slide_type": "slide"
    }
   },
   "source": [
    "<a name=\"tfidf\"></a>\n",
    "## Term Frequency-Inverse Document Frequency (TF-IDF)\n",
    "\n",
    "---\n",
    "\n",
    "A TF-IDF score tells us which words are most discriminating between documents. Words that occur often in one document but don't occur in many documents contain a great deal of discriminating power.\n",
    "\n",
    "- This weight is a statistical measure used to evaluate how important a word is to a document in a collection (corpus).\n",
    "- The importance increases in proportion to the number of times a word appears in a document but is offset by the frequency of the word in the corpus.\n",
    "\n",
    "Variations of the TF-IDF weighting scheme are often used by search engines as a central tool in scoring and ranking a document's relevance given a user query.\n",
    "\n",
    "The inverse document frequency is a measure of how much information the word provides — that is, whether the term is common or rare across all documents. It's the logarithmically scaled inverse fraction of the documents that contain the word, obtained by dividing the total number of documents by the number of documents containing the term and then taking the logarithm of that quotient.\n",
    "\n",
    "**Let's see how it's calculated:**\n",
    "\n",
    "Term frequency (`tf`) is the frequency of a certain term in a document:\n",
    "\n",
    "$$\n",
    "\\mathrm{tf}(t,d) = \\frac{N_\\text{term}}{N_\\text{terms in Document}}\n",
    "$$\n",
    "\n",
    "Inverse document frequency (`idf`) is defined as the frequency of documents that contain that term over the whole corpus:\n",
    "\n",
    "$$\n",
    "\\mathrm{idf}(t, D) = \\log\\frac{N_\\text{Documents}}{N_\\text{Documents that contain term}}\n",
    "$$\n",
    "\n",
    "TF-IDF is calculated as:\n",
    "\n",
    "$$\n",
    "\\mathrm{tfidf}(t,d,D) = \\mathrm{tf}(t,d) \\cdot \\mathrm{idf}(t, D)\n",
    "$$\n"
   ]
  },
  {
   "cell_type": "markdown",
   "metadata": {
    "slideshow": {
     "slide_type": "slide"
    }
   },
   "source": [
    "### TF-IDF Visually\n",
    "\n",
    "![](https://snag.gy/rBNLtd.jpg)\n",
    "\n",
    "This enhances terms that are highly specific to a particular document while suppressing terms that are common to most documents.\n",
    "\n",
    "> **You might ask: But what is `log` used for?**<br>\n",
    "> Good question! This is a sublinear transformation that helps separate our extremes between rare and common values.\n",
    "\n",
    "> \"...any linear function, ${\\displaystyle g}$, for sufficiently large input ${\\displaystyle f}$, grows slower than ${\\displaystyle g}$\" — Wikipedia"
   ]
  },
  {
   "cell_type": "markdown",
   "metadata": {
    "slideshow": {
     "slide_type": "slide"
    }
   },
   "source": [
    "<a id='tfidf-vec'></a>\n",
    "## Practice Using the `TfidfVectorizer`\n",
    "\n",
    "---\n",
    "\n",
    "### Why Use TF-IDF?\n",
    "- Common words are penalized.\n",
    "- Rare words have more influence.\n",
    "\n",
    "Scikit-learn provides a TF-IDF vectorizer that works similarly to the other vectorizers we've covered. Notice that we can also eliminate stop words to improve our analysis.\n",
    "\n",
    "As you did above, import and initialize the `TfidfVectorizer`, then fit the spam and ham data."
   ]
  },
  {
   "cell_type": "markdown",
   "metadata": {
    "slideshow": {
     "slide_type": "slide"
    }
   },
   "source": [
    "```python\n",
    "from sklearn.feature_extraction.text import TfidfVectorizer\n",
    "tvec = TfidfVectorizer(stop_words='english')\n",
    "tvec.fit([spam, ham])\n",
    "```"
   ]
  },
  {
   "cell_type": "markdown",
   "metadata": {
    "slideshow": {
     "slide_type": "-"
    }
   },
   "source": [
    "```python\n",
    "df  = pd.DataFrame(tvec.transform([spam, ham]).todense(),\n",
    "                   columns=tvec.get_feature_names(),\n",
    "                   index=['spam', 'ham'])\n",
    "\n",
    "df.transpose().sort_values('spam', ascending=False).head(10).transpose()\n",
    "```\n"
   ]
  },
  {
   "cell_type": "markdown",
   "metadata": {
    "slideshow": {
     "slide_type": "slide"
    }
   },
   "source": [
    "<div>\n",
    "<table border=\"1\" class=\"dataframe\">\n",
    "  <thead>\n",
    "    <tr style=\"text-align: right;\">\n",
    "      <th></th>\n",
    "      <th>years</th>\n",
    "      <th>euros</th>\n",
    "      <th>contact</th>\n",
    "      <th>personality</th>\n",
    "      <th>linkedin</th>\n",
    "      <th>lukoil</th>\n",
    "      <th>major</th>\n",
    "      <th>million</th>\n",
    "      <th>old</th>\n",
    "      <th>operation</th>\n",
    "    </tr>\n",
    "  </thead>\n",
    "  <tbody>\n",
    "    <tr>\n",
    "      <th>spam</th>\n",
    "      <td>0.287128</td>\n",
    "      <td>0.287128</td>\n",
    "      <td>0.287128</td>\n",
    "      <td>0.143564</td>\n",
    "      <td>0.143564</td>\n",
    "      <td>0.143564</td>\n",
    "      <td>0.143564</td>\n",
    "      <td>0.143564</td>\n",
    "      <td>0.143564</td>\n",
    "      <td>0.143564</td>\n",
    "    </tr>\n",
    "    <tr>\n",
    "      <th>ham</th>\n",
    "      <td>0.000000</td>\n",
    "      <td>0.000000</td>\n",
    "      <td>0.000000</td>\n",
    "      <td>0.000000</td>\n",
    "      <td>0.000000</td>\n",
    "      <td>0.000000</td>\n",
    "      <td>0.000000</td>\n",
    "      <td>0.000000</td>\n",
    "      <td>0.000000</td>\n",
    "      <td>0.000000</td>\n",
    "    </tr>\n",
    "  </tbody>\n",
    "</table>\n",
    "</div>\n",
    "\n",
    "```python\n",
    "df.transpose().sort_values('ham', ascending=False).head(10).transpose()\n",
    "```\n",
    "\n",
    "<div>\n",
    "<table border=\"1\" class=\"dataframe\">\n",
    "  <thead>\n",
    "    <tr style=\"text-align: right;\">\n",
    "      <th></th>\n",
    "      <th>interview</th>\n",
    "      <th>regards</th>\n",
    "      <th>scientist</th>\n",
    "      <th>data</th>\n",
    "      <th>let</th>\n",
    "      <th>position</th>\n",
    "      <th>john</th>\n",
    "      <th>invite</th>\n",
    "      <th>interviews</th>\n",
    "      <th>inform</th>\n",
    "    </tr>\n",
    "  </thead>\n",
    "  <tbody>\n",
    "    <tr>\n",
    "      <th>spam</th>\n",
    "      <td>0.00000</td>\n",
    "      <td>0.00000</td>\n",
    "      <td>0.00000</td>\n",
    "      <td>0.00000</td>\n",
    "      <td>0.000000</td>\n",
    "      <td>0.000000</td>\n",
    "      <td>0.000000</td>\n",
    "      <td>0.000000</td>\n",
    "      <td>0.000000</td>\n",
    "      <td>0.000000</td>\n",
    "    </tr>\n",
    "    <tr>\n",
    "      <th>ham</th>\n",
    "      <td>0.31039</td>\n",
    "      <td>0.31039</td>\n",
    "      <td>0.31039</td>\n",
    "      <td>0.31039</td>\n",
    "      <td>0.155195</td>\n",
    "      <td>0.155195</td>\n",
    "      <td>0.155195</td>\n",
    "      <td>0.155195</td>\n",
    "      <td>0.155195</td>\n",
    "      <td>0.155195</td>\n",
    "    </tr>\n",
    "  </tbody>\n",
    "</table>\n",
    "</div>\n"
   ]
  },
  {
   "cell_type": "markdown",
   "metadata": {
    "slideshow": {
     "slide_type": "slide"
    }
   },
   "source": [
    "<a name=\"conclusion\"></a>\n",
    "## Conclusion\n",
    "\n",
    "---\n",
    "\n",
    "In this lesson, we covered an overview of natural language processing and learned about two powerful toolkits:\n",
    "\n",
    "- Scikit-Learn's Feature Extraction Text\n",
    "- Natural Language Toolkit\n",
    "\n",
    "**Check:** What are some real-world applications of these techniques?"
   ]
  },
  {
   "cell_type": "markdown",
   "metadata": {
    "slideshow": {
     "slide_type": "fragment"
    }
   },
   "source": [
    "- Spam detection.\n",
    "- Preprocessing for larger NLP problems.\n",
    "- Job market analysis.\n",
    "- Determining if someone is dateable or not; identifying \"I\" in relation to the signifier.\n",
    "- Crude topic analysis.\n",
    "- Building a keyword extraction heuristic and piping it into a marketing analysis."
   ]
  },
  {
   "cell_type": "markdown",
   "metadata": {
    "slideshow": {
     "slide_type": "slide"
    }
   },
   "source": [
    "<a id='resources'></a>\n",
    "## Additional Resources\n",
    "\n",
    "---\n",
    "\n",
    "- Check out this [Yelp blog post](http://engineeringblog.yelp.com/2015/09/automatically-categorizing-yelp-businesses.html) on how it completed a classification task (with more than 1,000 response variables) using restaurant review text.\n",
    "- Always check documentation: \n",
    "    - [CountVectorizer](http://scikit-learn.org/stable/modules/generated/sklearn.feature_extraction.text.CountVectorizer.html). \n",
    "    - [HashingVectorizer](http://scikit-learn.org/stable/modules/generated/sklearn.feature_extraction.text.HashingVectorizer.html). \n",
    "    - [TF-IDF](http://scikit-learn.org/stable/modules/generated/sklearn.feature_extraction.text.TfidfVectorizer.html).\n",
    "- A list of all stop words is available [here](https://github.com/ga-students/DSI-DC-2/blob/master/curriculum/Week-05/5.04-nlp/stop-words.txt).\n",
    "- Wikipedia's [feature hashing](https://github.com/generalassembly-studio/DSI-course-materials/tree/master/curriculum/04-lessons/week-06/4.1-lesson) and [hash functions](https://en.wikipedia.org/wiki/Hash_function) entries are a great place to turn for more information on hashing.\n",
    "- Check out Charlie Greenbacker's [introduction to NLP](http://spark-public.s3.amazonaws.com/nlp/slides/intro.pdf), which he delivered at the [DC-NLP Meetup](http://www.meetup.com/DC-NLP/).\n",
    "- Wikipedia also has a [walk through](https://en.wikipedia.org/wiki/Tf%E2%80%93idf) of TF-IDF.\n",
    "- We played with Google's [ngram tool](https://books.google.com/ngrams/graph?content=data+science&year_start=1800&year_end=2000&corpus=15&smoothing=3&share=&direct_url=t1%3B%2Cdata%20science%3B%2Cc0).\n",
    "- A hilarious data scientist has gone rogue and used NLP and eigenfaces (eigenvalues for face recognition) [for Tinder](http://dataconomy.com/hacking-tinder-with-facial-recognition-nlp/).\n",
    "- We referenced KPCB's 2016 internet trends. If you're into startups, check out [this insightful deck](http://www.kpcb.com/internet-trends).\n",
    "- [Count vectorizer documentation](http://scikit-learn.org/stable/modules/generated/sklearn.feature_extraction.text.CountVectorizer.html).\n",
    "- [Choosing a stemmer](https://www.elastic.co/guide/en/elasticsearch/guide/current/choosing-a-stemmer.html).\n",
    "- [Feature hashing](https://en.wikipedia.org/wiki/Feature_hashing).\n",
    "- [Term frequency-inverse document frequency](https://en.wikipedia.org/wiki/Tf%E2%80%93idf).\n",
    "- [TF-IDF vectorizer](http://scikit-learn.org/stable/modules/generated/sklearn.feature_extraction.text.TfidfVectorizer.html)."
   ]
  }
 ],
 "metadata": {
  "anaconda-cloud": {},
  "kernelspec": {
   "display_name": "Python 3",
   "language": "python",
   "name": "python3"
  },
  "language_info": {
   "codemirror_mode": {
    "name": "ipython",
    "version": 3
   },
   "file_extension": ".py",
   "mimetype": "text/x-python",
   "name": "python",
   "nbconvert_exporter": "python",
   "pygments_lexer": "ipython3",
   "version": "3.6.6"
  }
 },
 "nbformat": 4,
 "nbformat_minor": 1
}
