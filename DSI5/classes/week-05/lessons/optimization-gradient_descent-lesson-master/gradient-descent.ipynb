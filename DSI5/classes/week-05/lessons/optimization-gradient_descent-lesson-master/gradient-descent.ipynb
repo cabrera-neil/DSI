{
 "cells": [
  {
   "cell_type": "markdown",
   "metadata": {
    "slideshow": {
     "slide_type": "slide"
    }
   },
   "source": [
    "<img src=\"http://imgur.com/1ZcRyrc.png\" style=\"float: left; margin: 20px; height: 55px\">\n",
    "\n",
    "# Gradient Descent: Iteratively Minimizing Loss Functions \n",
    "\n",
    "_Authors: Kiefer Katovich (SF)_\n",
    "\n",
    "---\n",
    "\n",
    "### Learning Objectives\n",
    "\n",
    "- Review derivatives and partial derivatives.\n",
    "- Review the least squared loss function for regression.\n",
    "- Understand how gradient descent minimizes the loss function.\n",
    "- Manually code the gradient descent algorithm for simple linear regression from scratch.\n",
    "- Learn how the gradient descent code changes for multiple linear regression.\n",
    "- Visualize gradient descent optimizing the coefficients of a regression.\n",
    "- Understand the pitfalls of gradient descent and observe when it can fail.\n",
    "- Understand how stochastic gradient descent is different and what its benefits are.\n"
   ]
  },
  {
   "cell_type": "markdown",
   "metadata": {},
   "source": [
    "### Lesson Guide\n",
    "- [Introduction to Gradient Descent](#intro)\n",
    "- [Review of Derivatives](#derivatives)\n",
    "- [Review of the Least Squares Loss Function for Regression](#lsq-loss)\n",
    "    - [Exercise 1: Code the Loss Function](#exercise-1)\n",
    "- [Partial Derivatives of the Loss Function](#partial-derivatives)\n",
    "    - [Partial Derivative With Respect to $\\beta_0$](#beta0)\n",
    "    - [Partial Derivative With Respect to $\\beta_1$](#beta1)\n",
    "    - [Exercise 2: Code the Partial Derivative Functions](#exercise-2)\n",
    "    - [Iterating Toward the Minimum](#iterating)\n",
    "- [Coding the Gradient Descent Algorithm for SLR](#code-descent)\n",
    "    - [Exercise 3: Code the Beta Coefficient Update](#exercise-3)\n",
    "    - [Exercise 4: Code the Gradient Descent Iterator](#exercise-4)\n",
    "- [Exercise 5: Test the Gradient Descent Algorithm on the Simple Housing Data](#exercise-5)\n",
    "- [Linear Algebra MLR Generalization of Gradient Descent](#linalg)\n",
    "- [Interactive Visualization of Gradient Descent](#interactive)\n",
    "- [Gradient Descent can Fail: A Toy Example](#fail)\n",
    "- [Stochastic Gradient Descent](#stochastic)"
   ]
  },
  {
   "cell_type": "code",
   "execution_count": 1,
   "metadata": {
    "collapsed": true,
    "slideshow": {
     "slide_type": "-"
    }
   },
   "outputs": [],
   "source": [
    "import matplotlib.pyplot as plt\n",
    "import numpy as np\n",
    "import pandas as pd\n",
    "import seaborn as sns\n",
    "\n",
    "plt.style.use('fivethirtyeight')\n",
    "\n",
    "from ipywidgets import *\n",
    "from IPython.display import display\n",
    "\n",
    "%matplotlib inline\n",
    "%config InlineBackend.figure_format = 'retina'"
   ]
  },
  {
   "cell_type": "markdown",
   "metadata": {},
   "source": [
    "<a id='intro'></a>\n",
    "\n",
    "## Introduction to Gradient Descent\n",
    "\n",
    "---\n",
    "\n",
    "Gradient descent is an algorithm used to minimize functions, such as the least squares loss, in regression. It's popular in machine learning and statistics.\n",
    "\n",
    "The gradient descent algorithm uses the derivative of the loss function to move in the direction where the loss function is descending."
   ]
  },
  {
   "cell_type": "markdown",
   "metadata": {
    "slideshow": {
     "slide_type": "slide"
    }
   },
   "source": [
    "<a id='derivatives'></a>\n",
    "## Derivatives\n",
    "---\n",
    "\n",
    "The derivative of a function quantifies the **rate of change** of the the function with respect to another quantity. \n",
    "\n",
    "Imagine the derivative as a tangent line on the edge of another function. For example, in the image below, if the black curve was the velocity of a car, the red tangent would represent the derivative of velocity at that point (the acceleration of the car).\n",
    "\n",
    "![derivative](https://camo.githubusercontent.com/2f70b084174b825e3ad88564301f9aaf46997fd3/68747470733a2f2f75706c6f61642e77696b696d656469612e6f72672f77696b6970656469612f636f6d6d6f6e732f302f30662f54616e67656e745f746f5f615f63757276652e737667)\n",
    "\n"
   ]
  },
  {
   "cell_type": "markdown",
   "metadata": {
    "slideshow": {
     "slide_type": "slide"
    }
   },
   "source": [
    "The value of the derivative of a function indicates whether the function is **increasing or decreasing** at that point/input value. \n",
    "\n",
    "* If the function is not changing (the tangent line is flat), **the derivative is 0**.\n",
    "* If the function is increasing (the tangent slope is positive), **the derivative is positive**.\n",
    "* If the function is decreasing (the tangent slope is negative), **the derivative is negative**.\n",
    "\n",
    "**In the case of convex loss functions such as the least squares loss, the minimum is the point where the derivative is 0.**"
   ]
  },
  {
   "cell_type": "markdown",
   "metadata": {
    "slideshow": {
     "slide_type": "slide"
    }
   },
   "source": [
    "<a id='lsq-loss'></a>\n",
    "\n",
    "## Review: The Least Squares Loss Function for Regression\n",
    "\n",
    "---\n",
    "\n",
    "Recall the least squares loss function:\n",
    "\n",
    "### $$\\frac{1}{N}\\sum_{i=1}^N{\\left(y_i - \\hat{y}_i\\right)^2}$$\n",
    "\n",
    "As well as the formula for a linear regression with a single predictor variable:\n",
    "\n",
    "### $$y = \\beta_0 + \\beta_1x_1$$\n",
    "\n",
    "We can redefine the loss function by inserting the regression formula:\n",
    "\n",
    "### $$\\frac{1}{N}\\sum_{i=1}^N{\\left(y_i - (\\beta_0 + \\beta_1x_i)\\right)^2}$$"
   ]
  },
  {
   "cell_type": "markdown",
   "metadata": {
    "slideshow": {
     "slide_type": "fragment"
    }
   },
   "source": [
    "<a id='exercise-1'></a>\n",
    "### Exercise 1: Code the Loss Function\n",
    "\n",
    "Write a Python function for the least squares loss of this simple linear regression in terms of:\n",
    "- `y`: Vector of y values.\n",
    "- `beta_0`: Intercept coefficient.\n",
    "- `beta_1`: Coefficient for predictor `x`.\n",
    "- `x`: Vector of predictor values."
   ]
  },
  {
   "cell_type": "code",
   "execution_count": 2,
   "metadata": {
    "collapsed": true
   },
   "outputs": [],
   "source": [
    "# A:"
   ]
  },
  {
   "cell_type": "markdown",
   "metadata": {
    "slideshow": {
     "slide_type": "slide"
    }
   },
   "source": [
    "<a id='partial-derivatives'></a>\n",
    "## Partial Derivatives of the Loss Function\n",
    "\n",
    "---\n",
    "\n",
    "We're going to calculate the two partial derivatives of the loss function. Partial derivatives are derivatives with respect to one variable while the other variables remain constant. Our partial derivatives will be:\n",
    "\n",
    "* The derivative of the loss function with respect to `beta0` (the intercept).\n",
    "* The derivative of the loss function with respect to `beta1` (the slope/coefficient for x1).\n",
    "\n",
    "The loss function is defined by these two parameters. In other words, the value of the loss function depends on the changes in `beta0` and `beta1`. \n",
    "\n",
    "What about `x` and `y`? Those variables affect the calculation of the loss, but we're not able to change them to adjust the error. We can only adjust the parameters of our model."
   ]
  },
  {
   "cell_type": "markdown",
   "metadata": {
    "slideshow": {
     "slide_type": "slide"
    }
   },
   "source": [
    "<a id='beta0'></a>\n",
    "### The partial derivative with respect to $\\beta_0$:\n",
    "\n",
    "### $$\\frac{\\delta}{\\delta\\beta_0} = \\frac{2}{N}\\sum_{i=1}^N{-\\left(y_i - (\\beta_0 + \\beta_1x_1)\\right)}$$\n",
    "\n",
    "<a id='beta1'></a>\n",
    "### The partial derivative with respect to $\\beta_1$:\n",
    "\n",
    "### $$\\frac{\\delta}{\\delta\\beta_1} = \\frac{2}{N}\\sum_{i=1}^N{-x_i\\left(y_i - (\\beta_0 + \\beta_1x_1)\\right)}$$\n"
   ]
  },
  {
   "cell_type": "markdown",
   "metadata": {},
   "source": [
    "<a id='exercise-2'></a>\n",
    "### Exercise 2: Code the Partial Derivative Functions\n",
    "\n",
    "The functions should return the gradients (partial derivatives) of `beta0` and `beta1`."
   ]
  },
  {
   "cell_type": "code",
   "execution_count": 3,
   "metadata": {
    "collapsed": true
   },
   "outputs": [],
   "source": [
    "# A:"
   ]
  },
  {
   "cell_type": "markdown",
   "metadata": {
    "slideshow": {
     "slide_type": "slide"
    }
   },
   "source": [
    "---\n",
    "\n",
    "<a id='iterating'></a>\n",
    "### Iterating Toward the Minimum\n",
    "\n",
    "So what are we going to do with these partial derivatives?\n",
    "\n",
    "Recall that a positive derivative indicates an increasing function and a negative derivative indicates a decreasing function. \n",
    "\n",
    "If we were to subtract a tiny fraction of the partial derivative of $\\beta_1$ from $\\beta_1$, and subtract a tiny fraction of the partial derivative of $\\beta_0$ from $\\beta_0$, we'll adjust the beta coefficients so that the value of the loss function shrinks.\n",
    "\n",
    "We can repeat this incremental process until we reach the minimum of the function (or at least close to the minimum).\n",
    "\n",
    "This is called gradient descent because **we're iteratively moving down the gradient of the error function to its minimum.**"
   ]
  },
  {
   "cell_type": "markdown",
   "metadata": {
    "slideshow": {
     "slide_type": "slide"
    }
   },
   "source": [
    "![](https://upload.wikimedia.org/wikipedia/commons/7/79/Gradient_descent.png)"
   ]
  },
  {
   "cell_type": "markdown",
   "metadata": {
    "slideshow": {
     "slide_type": "slide"
    }
   },
   "source": [
    "<a id='code-descent'></a>\n",
    "## Coding the Gradient Descent Algorithm for SLR\n",
    "\n",
    "---\n",
    "\n",
    "We'll now code the gradient descent algorithm to find the optimal intercept and slope for a simple linear regression using the least squares loss function.\n",
    "\n",
    "We've already coded a few of the components into functions:\n",
    "- **The mean squared error**.\n",
    "- **The beta_0 gradient (partial derivative)**.\n",
    "- **The beta_1 gradient (partial derivative)**.\n",
    "\n",
    "Now we're going to code two more functions:\n",
    "- **The beta coefficient update function**.\n",
    "- **The gradient descent iteration function**.\n",
    "\n",
    "<a id='exercise-3'></a>\n",
    "### Exercise 3: Code the Beta Coefficient Update Function\n",
    "\n",
    "The beta coefficient update function iterates through every observed `y` and predictor `x`. It will calculate the changes to the current `beta0` and `beta1` values to move the loss function (mean squared error) closer to its minimum.\n",
    "\n",
    "The update function will take these arguments:\n",
    "- `y`: The vector of observed target values.\n",
    "- `x`: The vector of predictor values.\n",
    "- `beta0`: The current value of the intercept.\n",
    "- `beta1`: The current value of the coefficient for `x`.\n",
    "- `step_size`: A step size by which to multiply the gradients.\n",
    "\n",
    "The **step size** controls how much the gradient update should modify the coefficients. It's good to take small steps toward the minimum so the algorithm doesn't overshoot and spin out of control.\n",
    "\n",
    "**Your function should return the new values of `beta0` and `beta1`.**\n"
   ]
  },
  {
   "cell_type": "code",
   "execution_count": 4,
   "metadata": {
    "collapsed": true
   },
   "outputs": [],
   "source": [
    "# A:"
   ]
  },
  {
   "cell_type": "markdown",
   "metadata": {},
   "source": [
    "<a id='exercise-4'></a>\n",
    "### Exercise 4: Code the Gradient Descent Iterator\n",
    "\n",
    "Finally, we can put it all together by coding a function that will iterate down the gradient of the loss function toward the minimum. At each step, the function will call the gradient update function.\n",
    "\n",
    "We should keep track of the beta coefficients and the mean squared error in lists as the algorithm progresses.\n",
    "\n",
    "**The arguments to the function will be:**\n",
    "- `x`: The vector of predictors.\n",
    "- `y`: The vector of observed target values.\n",
    "- `beta0`: An initial value for the intercept.\n",
    "- `beta1`: An initial value for the slope.\n",
    "- `step_size`: A step size for the gradient update.\n",
    "- `iterations`: How many times the gradient update function should be called before stopping.\n",
    "\n",
    "> **Note:** Make sure your step size is quite small (`0.0000001`, for example) or the MSE will increase.\n",
    "\n",
    "At each iteration, keep track of the current `beta0`, `beta1`, and the mean squared error.\n",
    "\n",
    "**The function should return the lists of `beta0`, `beta1`, and `mse` values for the iterations.**"
   ]
  },
  {
   "cell_type": "code",
   "execution_count": 5,
   "metadata": {
    "collapsed": true
   },
   "outputs": [],
   "source": [
    "# A:   "
   ]
  },
  {
   "cell_type": "markdown",
   "metadata": {},
   "source": [
    "<a id='exercise-5'></a>\n",
    "\n",
    "## Exercise 5: Test Your Gradient Descent Code on the Simple Housing Data Set\n",
    "\n",
    "---\n",
    "\n",
    "Load in the simple housing data. Set up two variables:\n",
    "- `y`: The price of the house, divided by 1,000.\n",
    "- `x`: The square feet (sq ft) of the house.\n",
    "\n",
    "Initialize starting values for `beta0` and `beta1`. Then, run your gradient descent iterator, returning the array of MSEs and coefficients at each step. \n",
    "\n",
    "Finally, plot the trajectory of the MSEs, beta0s, and beta1s."
   ]
  },
  {
   "cell_type": "code",
   "execution_count": 6,
   "metadata": {
    "collapsed": true
   },
   "outputs": [],
   "source": [
    "house = pd.read_csv('./datasets/housing-data.csv')"
   ]
  },
  {
   "cell_type": "code",
   "execution_count": 7,
   "metadata": {
    "collapsed": true
   },
   "outputs": [],
   "source": [
    "# A:"
   ]
  },
  {
   "cell_type": "markdown",
   "metadata": {},
   "source": [
    "<a id='linalg'></a>\n",
    "\n",
    "## Linear Algebra MLR Generalization of the Gradient Descent Code\n",
    "\n",
    "---\n",
    "\n",
    "Now that we've coded the gradient descent for a simple linear regression, we can generalize this code to work for a matrix of predictors instead of just one. "
   ]
  },
  {
   "cell_type": "markdown",
   "metadata": {
    "slideshow": {
     "slide_type": "slide"
    }
   },
   "source": [
    "### New Mean Squared Error Loss Function\n",
    "\n",
    "This function calculates the mean of the squared errors using a [dot product](http://mathworld.wolfram.com/DotProduct.html) between the `X` predictor matrix and the `beta_array`."
   ]
  },
  {
   "cell_type": "code",
   "execution_count": 8,
   "metadata": {
    "collapsed": true,
    "slideshow": {
     "slide_type": "-"
    }
   },
   "outputs": [],
   "source": [
    "# def mean_squared_error(X, y, beta_array):\n",
    "#     y_hat = np.dot(X, beta_array)\n",
    "#     mean_sq_err = np.mean((y_true - y_hat)**2)\n",
    "#     return mean_sq_err"
   ]
  },
  {
   "cell_type": "markdown",
   "metadata": {
    "slideshow": {
     "slide_type": "slide"
    }
   },
   "source": [
    "### New $\\beta$ Update Function\n",
    "\n",
    "This will update the value of $\\beta$ array. We still use the partial derivative formulas above, with some linear algebra tweaks to make it work with an arbitrary $X$ predictor matrix."
   ]
  },
  {
   "cell_type": "code",
   "execution_count": 9,
   "metadata": {
    "collapsed": true
   },
   "outputs": [],
   "source": [
    "def beta_update_function(X, y, beta_array, step_size):\n",
    "    # Create a transposed version of the X predictor array.\n",
    "    Xt = X.T\n",
    "    \n",
    "    # Predictions are the dot product of the X matrix and beta matrix.\n",
    "    y_hat = np.dot(X, beta_array)\n",
    "    \n",
    "    # Residuals are the true y minus the predicted y.\n",
    "    residuals = y_hat - y\n",
    "    \n",
    "    # Calculate the gradient from the partial derivatives.\n",
    "    # This actually does both at the same time.\n",
    "    # How? Because the beta0 column is all 1s, the \n",
    "    # dot product turns out to be the same as the beta0\n",
    "    # partial derivative function.\n",
    "    gradient = np.dot(Xt, residuals) / (X.shape[0]/2.)\n",
    "    \n",
    "    # Update the betas with the gradient.\n",
    "    beta_array = beta_array - (step_size * gradient)\n",
    "    \n",
    "    return beta_matrix"
   ]
  },
  {
   "cell_type": "markdown",
   "metadata": {
    "slideshow": {
     "slide_type": "slide"
    }
   },
   "source": [
    "### New Gradient Descent Iteration Update Function\n",
    "\n",
    "This is the function that wraps the gradient update with some number of iterations. It's the same except it takes an array of beta coefficients."
   ]
  },
  {
   "cell_type": "code",
   "execution_count": 10,
   "metadata": {
    "collapsed": true,
    "slideshow": {
     "slide_type": "fragment"
    }
   },
   "outputs": [],
   "source": [
    "def run_gradient_descent(X, y, initial_beta_array, step_size, iterations=500):\n",
    "    \n",
    "    beta_array = initial_beta_array\n",
    "    \n",
    "    # Set up the MSE tracker.\n",
    "    mses = []\n",
    "    mses.append(mean_squared_error(X, y, beta_array))\n",
    "    \n",
    "    # Track the betas over the iterations.\n",
    "    beta_arrays = []\n",
    "\n",
    "    # Update the betas via gradient descent.\n",
    "    for i in range(iterations):\n",
    "        beta_array = beta_update_function(X, y, beta_array, step_size)\n",
    "        mses.append(mean_squared_error(X, y, beta_array))\n",
    "        beta_arrays.append(beta_array)\n"
   ]
  },
  {
   "cell_type": "markdown",
   "metadata": {
    "slideshow": {
     "slide_type": "slide"
    }
   },
   "source": [
    "<a id='interactive'></a>\n",
    "\n",
    "## Interactive Visualization of Gradient Descent\n",
    "\n",
    "This interactive visualization lets you watch gradient descent solve the optimal coefficient values.\n",
    "\n",
    "> **Note:** Because this is a simple implementation, there's no automatic adjustment of step size, so setting this value can be finicky and you'll have to play around with it."
   ]
  },
  {
   "cell_type": "code",
   "execution_count": 11,
   "metadata": {
    "collapsed": true,
    "scrolled": false,
    "slideshow": {
     "slide_type": "-"
    }
   },
   "outputs": [],
   "source": [
    "import imp\n",
    "plotter = imp.load_source('plotter', './code/gradient_descent.py')\n",
    "from plotter import GradientDescentPlotter\n",
    "\n",
    "gd_plotter = GradientDescentPlotter(step_size=0.001)\n",
    "gd_plotter.run_gradient_descent(iterations=5000)\n",
    "gd_plotter.gradient_interact()"
   ]
  },
  {
   "cell_type": "markdown",
   "metadata": {
    "slideshow": {
     "slide_type": "slide"
    }
   },
   "source": [
    "<a id='fail'></a>\n",
    "\n",
    "## Gradient Descent Can Fail: A Toy Example\n",
    "\n",
    "---\n",
    "\n",
    "One of the most delicate things about gradient descent is the step size (also known as learning rate). If it's not tuned properly, the algorithm may never converge and may explode into extreme values.\n",
    "\n",
    "But that's not the only pitfall with gradient descent. It can also get stuck in \"local minima\" and only works where there's a gradient to follow. \n",
    "\n",
    "Here's a toy example of a function where gradient descent will fail:\n",
    "\n",
    "$$f(x, y) = \\begin{cases}\n",
    "2 x^2 & \\quad \\text{if $x \\leq 1$}\\\\\n",
    "2  & \\quad \\text{else}\n",
    "\\end{cases}$$"
   ]
  },
  {
   "cell_type": "code",
   "execution_count": 12,
   "metadata": {
    "collapsed": true,
    "slideshow": {
     "slide_type": "-"
    }
   },
   "outputs": [],
   "source": [
    "# def func(x):\n",
    "#     if x <= 1:\n",
    "#         return 2 * x * x\n",
    "#     return 2\n",
    "\n",
    "# def gradient(x):\n",
    "#     if x <= 1:\n",
    "#         return 4 * x\n",
    "#     return 0\n",
    "\n",
    "# def gradient_descent(x, l=0.1):\n",
    "#     vector = np.array(x)\n",
    "#     return vector - l * np.array(gradient(x))\n",
    "\n",
    "\n",
    "# def iterate(x0, n=10):\n",
    "#     xs = [x0]\n",
    "#     ys = [func(x0)]\n",
    "#     for i in range(n):\n",
    "#         x = gradient_descent(xs[-1], l=0.1)\n",
    "#         xs.append(x)\n",
    "#         ys.append(func(x))\n",
    "#     return xs, ys"
   ]
  },
  {
   "cell_type": "markdown",
   "metadata": {
    "slideshow": {
     "slide_type": "slide"
    }
   },
   "source": [
    "**Run the gradient descent algorithm starting at `x = -1.5` first, then try it at `x = 2`.**"
   ]
  },
  {
   "cell_type": "code",
   "execution_count": 13,
   "metadata": {
    "collapsed": true,
    "slideshow": {
     "slide_type": "fragment"
    }
   },
   "outputs": [],
   "source": [
    "# xs = np.arange(-2, 3, 0.1)\n",
    "# ys = [y for y in map(func, xs)]\n",
    "\n",
    "# plt.figure(figsize=(10,8))\n",
    "# plt.plot(xs, ys, alpha=0.5, ls='dashed')\n",
    "\n",
    "# # Start gradient descent at x = -1.5.\n",
    "# xs2, ys2 = iterate(-1.5, n=10)\n",
    "# plt.scatter(xs2, ys2, c='r', s=100)\n",
    "\n",
    "# # Start gradient descent at x = 2.\n",
    "# xs2, ys2 = iterate(2, n=10)\n",
    "# plt.scatter(xs2, ys2, c='y', s=300)"
   ]
  },
  {
   "cell_type": "markdown",
   "metadata": {
    "collapsed": true,
    "slideshow": {
     "slide_type": "slide"
    }
   },
   "source": [
    "<a id='stochastic'></a>\n",
    "## Stochastic Gradient Descent\n",
    "\n",
    "---\n",
    "\n",
    "What is the difference between gradient descent and *stochastic* gradient descent? It's actually very small, but it has big implications.\n",
    "\n",
    "Instead of **all** the samples updating the gradient at a time, **only one** sample updates the gradient within each overall iteration (iterating over all the observations, although this can change based on specification).\n",
    "\n",
    "**Stochastic gradient descent has some advantages over gradient descent:**\n",
    "- It solves faster, as it immediately starts to update the gradient.\n",
    "- It can handle much larger data sets, as it only needs to calculate a single row or small batch of rows of the entire data set.\n",
    "\n",
    "When using scikit-learn, there are only implementations of stochastic gradient descent solvers: `SGDRegressor` and `SGDClassifier`."
   ]
  }
 ],
 "metadata": {
  "kernelspec": {
   "display_name": "Python 3",
   "language": "python",
   "name": "python3"
  },
  "language_info": {
   "codemirror_mode": {
    "name": "ipython",
    "version": 3
   },
   "file_extension": ".py",
   "mimetype": "text/x-python",
   "name": "python",
   "nbconvert_exporter": "python",
   "pygments_lexer": "ipython3",
   "version": "3.6.6"
  }
 },
 "nbformat": 4,
 "nbformat_minor": 1
}
