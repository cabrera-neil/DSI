{
 "cells": [
  {
   "cell_type": "markdown",
   "metadata": {},
   "source": [
    "<img src=\"http://imgur.com/1ZcRyrc.png\" style=\"float: left; margin: 20px; height: 55px\">\n",
    "\n",
    "## Introduction to Bootstrapping\n",
    "\n",
    "_Authors: Kiefer Katovich (SF)_\n",
    "\n",
    "---\n",
    "\n",
    "### Learning Objectives\n",
    "\n",
    "- Understand the concept of the parametric bootstrap.\n",
    "- Code the parametric bootstrap by hand.\n",
    "- Apply the parametric bootstrap to calculate confidence intervals for statistics.\n",
    "- Understand when bootstrapping is useful.\n",
    "- Practice bootstrapping."
   ]
  },
  {
   "cell_type": "markdown",
   "metadata": {},
   "source": [
    "### Lesson Guide\n",
    "- [The Bootstrapping Procedure](#bootstrapping)\n",
    "- [Coding the Nonparametric Bootstrap: Starcraft Data](#code-bootstrap)\n",
    "- [Comparing Bootstrapped to Standard Confidence Intervals](#compare-to-classic)\n",
    "- [Bootstrapping the Median](#bootstrap-median)\n",
    "- [The Theory Behind the Bootstrap](#theory)\n",
    "- [Independent Practice: Confidence Intervals of Correlations](#independent-practice)\n"
   ]
  },
  {
   "cell_type": "code",
   "execution_count": 1,
   "metadata": {},
   "outputs": [],
   "source": [
    "import matplotlib.pyplot as plt\n",
    "import numpy as np\n",
    "import pandas as pd\n",
    "import seaborn as sns\n",
    "import scipy.stats as stats\n",
    "\n",
    "plt.style.use('fivethirtyeight')\n",
    "\n",
    "%matplotlib inline\n",
    "%config InlineBackend.figure_format = 'retina'"
   ]
  },
  {
   "cell_type": "markdown",
   "metadata": {},
   "source": [
    "<a id='bootstrapping'></a>\n",
    "\n",
    "## The Bootstrapping Procedure\n",
    "\n",
    "---\n",
    "\n",
    "Bootstrapping is a powerful resampling method that allows us to estimate our degree of uncertainty about practically any statistic. The beauty of bootstrapping is that it's done directly from the data without needing any assumptions about the distribution of our statistic!\n",
    "\n",
    "There are many variations on the bootstrap. But, in this lesson, we'll cover only the classic **nonparametric bootstrap**. \n",
    "\n",
    "#### Bootstrapping the Confidence Interval of a Statistic\n",
    "\n",
    "Say we wanted to calculate the 95% confidence interval around a statistic such as our sample mean. We could do this using the formula derived based on the central limit theorm (CLT), selecting z-scores along the normal distribution that correspond to our confidence level and multiplying them by our standard error.\n",
    "\n",
    "The nonparametric bootstrap procedure, on the other hand, does not rely on distributional assumputions of the parameter. Below is pseudocode describing the process:\n",
    "\n",
    "---\n",
    "\n",
    "```\n",
    "for specified number of bootstrap iterations\n",
    "    create a bootstrap sample by randomly selecting observations with replacement from your sample \n",
    "        (same size as sample)\n",
    "    calculate the statistic of interest on bootstrap sample\n",
    "\n",
    "calculate lower and upper percentile bounds of bootstrap statistics according to threshold\n",
    "```\n",
    "\n",
    "---\n",
    "\n",
    "In our case, the 95% confidence threshold would mean we'd calculate the 2.5th and 97.5th percentiles of the bootstrapped sample means."
   ]
  },
  {
   "cell_type": "markdown",
   "metadata": {},
   "source": [
    "<a id='code-bootstrap'></a>\n",
    "\n",
    "### Coding the Nonparametric Bootstrap: Starcraft Data\n",
    "\n",
    "---\n",
    "\n",
    "Next, we will code the nonparametric bootstrap function and calculate the confidence interval for the mean `APM` (actions per minute) from a sample of Starcraft data. \n",
    "\n",
    "**Load the Starcraft data.**"
   ]
  },
  {
   "cell_type": "code",
   "execution_count": 2,
   "metadata": {},
   "outputs": [],
   "source": [
    "starcraft = '../datasets/Starcraft_sample.csv'"
   ]
  },
  {
   "cell_type": "code",
   "execution_count": 4,
   "metadata": {},
   "outputs": [
    {
     "name": "stdout",
     "output_type": "stream",
     "text": [
      "(200, 20)\n"
     ]
    }
   ],
   "source": [
    "star = pd.read_csv(starcraft)\n",
    "print(star.shape)"
   ]
  },
  {
   "cell_type": "markdown",
   "metadata": {},
   "source": [
    "**Extract the `APM` vector from the data set.**"
   ]
  },
  {
   "cell_type": "code",
   "execution_count": 5,
   "metadata": {},
   "outputs": [],
   "source": [
    "apm = star['APM'].values"
   ]
  },
  {
   "cell_type": "markdown",
   "metadata": {},
   "source": [
    "**Plot the distribution of `APM` with a histogram.**"
   ]
  },
  {
   "cell_type": "code",
   "execution_count": 6,
   "metadata": {},
   "outputs": [
    {
     "data": {
      "text/plain": [
       "<matplotlib.axes._subplots.AxesSubplot at 0x113831ac8>"
      ]
     },
     "execution_count": 6,
     "metadata": {},
     "output_type": "execute_result"
    },
    {
     "data": {
      "image/png": "[encoded data removed]",
      "text/plain": [
       "<Figure size 432x288 with 1 Axes>"
      ]
     },
     "metadata": {
      "image/png": {
       "height": 244,
       "width": 408
      }
     },
     "output_type": "display_data"
    }
   ],
   "source": [
    "sns.distplot(apm, bins=25, kde=False)"
   ]
  },
  {
   "cell_type": "markdown",
   "metadata": {},
   "source": [
    "**Let's write a function for the nonparametric bootstrap procedure.**\n",
    "\n",
    "The function will take three arguments:\n",
    "- The sample.\n",
    "- The function to calculate the statistic of interest.\n",
    "- The number of iterations.\n",
    "\n",
    "The function should return a vector of the \"bootstrapped\" statistics. Refer to the pseudocode above. Remember that the random sampling must be done **with replacement** and the random sample must be the same size as the original sample."
   ]
  },
  {
   "cell_type": "code",
   "execution_count": 7,
   "metadata": {},
   "outputs": [],
   "source": [
    "def bootstrap(sample, stat_func, iters=1000):\n",
    "    boots = []\n",
    "    for i in range(iters):\n",
    "        random_sample = np.random.choice(sample, replace=True, size=len(sample))\n",
    "        stat = stat_func(random_sample)\n",
    "        boots.append(stat)\n",
    "    return boots"
   ]
  },
  {
   "cell_type": "markdown",
   "metadata": {},
   "source": [
    "**Using our bootstrapping function with 1,000 iterations, let's calculate the 95% confidence interval for the mean `APM`.**\n",
    "\n",
    "Remember that, for a 95% confidence interval, we will want to find the 2.5th percentile bootstrapped mean and the 97.5th percentile bootstrapped mean (corresponding to a threshold of 0.05).\n",
    "\n",
    "The [`.scipy.stats.scoreatpercentile()`](https://docs.scipy.org/doc/scipy-0.14.0/reference/generated/scipy.stats.scoreatpercentile.html) function is useful for finding the values at these percentiles."
   ]
  },
  {
   "cell_type": "code",
   "execution_count": 9,
   "metadata": {},
   "outputs": [
    {
     "name": "stdout",
     "output_type": "stream",
     "text": [
      "107.49317737500002 114.323439 121.99521322499999\n"
     ]
    }
   ],
   "source": [
    "apm_boot = bootstrap(apm, np.mean)\n",
    "\n",
    "apm_lower = stats.scoreatpercentile(apm_boot, 2.5)\n",
    "apm_upper = stats.scoreatpercentile(apm_boot, 97.5)\n",
    "\n",
    "print(apm_lower, np.mean(apm), apm_upper)"
   ]
  },
  {
   "cell_type": "markdown",
   "metadata": {},
   "source": [
    "<a id='compare-to-classic'></a>\n",
    "\n",
    "### Comparing Bootstrapped to Standard Confidence Intervals\n",
    "\n",
    "---\n",
    "\n",
    "The classic formula for calculating the confidence interval bounds for the sample mean is:\n",
    "\n",
    "### $$ [\\; \\bar{x} + z_{\\alpha/2}\\frac{s}{\\sqrt{n}},\\; \\bar{x} + z_{1-\\alpha/2} \\frac{s}{\\sqrt{n}} ]$$\n",
    "\n",
    "In our case, $\\alpha = 0.05$. Filling in the appropriate z-scores according to this threshold, we have:\n",
    "\n",
    "### $$ [\\; \\bar{x} -1.96 \\frac{s}{\\sqrt{n}},\\; \\bar{x} + 1.96 \\frac{s}{\\sqrt{n}} ]$$\n",
    "\n",
    "**Calculate the confidence interval for the mean `APM` using the formula above and compare it to our bootstrapped confidence interval.**"
   ]
  },
  {
   "cell_type": "code",
   "execution_count": 11,
   "metadata": {},
   "outputs": [
    {
     "name": "stdout",
     "output_type": "stream",
     "text": [
      "106.90202067216315 114.323439 121.74485732783684\n"
     ]
    }
   ],
   "source": [
    "std = np.std(apm)\n",
    "sqrtn = np.sqrt(len(apm))\n",
    "\n",
    "apm_lower = np.mean(apm) - 1.96*(std/sqrtn)\n",
    "apm_upper = np.mean(apm) + 1.96*(std/sqrtn)\n",
    "\n",
    "print(apm_lower, np.mean(apm), apm_upper)"
   ]
  },
  {
   "cell_type": "markdown",
   "metadata": {},
   "source": [
    "<a id='bootstrap-median'></a>\n",
    "\n",
    "### Bootstrapping the Median\n",
    "\n",
    "---\n",
    "\n",
    "The bootstrapping procedure is not particularly useful when it comes to estimating the confidence interval surrounding the sample mean, as this mean already has helpful distributional properties. \n",
    "\n",
    "The bootstrap becomes much more useful when we need to calculate our uncertainty about statistics without straightforward formulas or ones with unreasonably strict assumptions. The median is one such statistic. \n",
    "\n",
    "**Here's the formula for finding the sample error of the median (to use when calculating the confidence interval surrounding the median):**\n",
    "\n",
    "### $$ \\text{s.e. median} = 1.2533 \\cdot \\text{s.e. mean} $$\n",
    "\n",
    "This is a function of the sample error of the mean and uses a heuristic multiplier, 1.2533. Furthermore, it requires these assumptions to work:\n",
    "\n",
    "1. $N$ is large.\n",
    "2. The sample of measurements are drawn from a normally distributed population.\n",
    "\n",
    "**Check:** What about these assumptions is impractical?\n",
    "\n",
    "---\n",
    "\n",
    "The second assumption is strict — many distributions are not normally distributed. Furthermore, what tangible benefit do we get from calculating the median over the mean if we know ahead of time that the population is normally distributed?\n",
    "\n",
    "The median is much more useful when we suspect a non-normally distributed population.\n",
    "\n",
    "\n",
    "**Plot the distribution of `APM` from the Starcraft data using a vertical line to indicate the median.**"
   ]
  },
  {
   "cell_type": "code",
   "execution_count": 12,
   "metadata": {},
   "outputs": [
    {
     "data": {
      "text/plain": [
       "<matplotlib.lines.Line2D at 0x10cedbd30>"
      ]
     },
     "execution_count": 12,
     "metadata": {},
     "output_type": "execute_result"
    },
    {
     "data": {
      "image/png": "[encoded data removed]",
      "text/plain": [
       "<Figure size 432x288 with 1 Axes>"
      ]
     },
     "metadata": {
      "image/png": {
       "height": 244,
       "width": 408
      }
     },
     "output_type": "display_data"
    }
   ],
   "source": [
    "apm_median = np.median(apm)\n",
    "ax = sns.distplot(apm, bins=25, kde=False)\n",
    "ax.axvline(apm_median, lw=2.5, ls='dashed', color='black')"
   ]
  },
  {
   "cell_type": "markdown",
   "metadata": {},
   "source": [
    "#### Calculate a 99% confidence interval for the median determined with the formula above.\n",
    "\n",
    "The associated z-score magnitude is 2.576."
   ]
  },
  {
   "cell_type": "code",
   "execution_count": 15,
   "metadata": {},
   "outputs": [
    {
     "name": "stdout",
     "output_type": "stream",
     "text": [
      "92.0 104.0 117.0\n"
     ]
    }
   ],
   "source": [
    "se_mean = np.std(apm)/np.sqrt(len(apm))\n",
    "se_median = se_mean*1.2533\n",
    "\n",
    "apm_med_lower = np.median(apm) - 2.576*se_median\n",
    "apm_med_upper = np.median(apm) + 2.576*se_median\n",
    "\n",
    "print(round(apm_med_lower), round(np.median(apm)), round(apm_med_upper))"
   ]
  },
  {
   "cell_type": "markdown",
   "metadata": {},
   "source": [
    "**Bootstrap the 99% confidence interval for the median with 1,000 iterations.**"
   ]
  },
  {
   "cell_type": "code",
   "execution_count": 16,
   "metadata": {},
   "outputs": [
    {
     "name": "stdout",
     "output_type": "stream",
     "text": [
      "96.2458575 104.3922 117.1971525\n"
     ]
    }
   ],
   "source": [
    "med_boot = bootstrap(apm, np.median)\n",
    "\n",
    "med_boot_lower = stats.scoreatpercentile(med_boot, 0.5)\n",
    "med_boot_upper = stats.scoreatpercentile(med_boot, 99.5)\n",
    "\n",
    "print(med_boot_lower, np.median(apm), med_boot_upper)"
   ]
  },
  {
   "cell_type": "markdown",
   "metadata": {},
   "source": [
    "**How does bootstrapping affect the distribution?**"
   ]
  },
  {
   "cell_type": "markdown",
   "metadata": {
    "collapsed": true
   },
   "source": [
    "The bootstrapped confidence interval is wider on the right-hand side and shorter on the left. This mirrors the skew present in the data set, which we can assume is reflected in the overall population as well.  \n",
    "\n",
    "If the skew is in fact present in the overall data set, then only the bootstrapped confidence interval is appropriate!"
   ]
  },
  {
   "cell_type": "code",
   "execution_count": 17,
   "metadata": {},
   "outputs": [
    {
     "data": {
      "text/plain": [
       "<matplotlib.lines.Line2D at 0x1157fcf28>"
      ]
     },
     "execution_count": 17,
     "metadata": {},
     "output_type": "execute_result"
    },
    {
     "data": {
      "image/png": "[encoded data removed]",
      "text/plain": [
       "<Figure size 432x288 with 1 Axes>"
      ]
     },
     "metadata": {
      "image/png": {
       "height": 244,
       "width": 408
      }
     },
     "output_type": "display_data"
    }
   ],
   "source": [
    "ax = sns.distplot(apm, bins=20, kde=False)\n",
    "ax.axvline(np.median(apm), lw=3, color='black')\n",
    "ax.axvline(apm_med_lower, lw=2.5, color='black', ls='dashed')\n",
    "ax.axvline(apm_med_upper, lw=2.5, color='black', ls='dashed')\n",
    "ax.axvline(med_boot_lower, lw=2.5, color='darkgoldenrod', ls='dashed')\n",
    "ax.axvline(med_boot_upper, lw=2.5, color='darkgoldenrod', ls='dashed')"
   ]
  },
  {
   "cell_type": "markdown",
   "metadata": {},
   "source": [
    "<a id='theory'></a>\n",
    "\n",
    "### The Theory Behind the Bootstrap\n",
    "\n",
    "---\n",
    "\n",
    "The idea grounding the bootstrap is that inferences we draw from random samples of our sample data can in turn be applied as inferences about the overall population. This is because our random sample of the sample mirrors the fact that our sample was randomly drawn from the overall population. \n",
    "\n",
    "Essentially, bootstrap samples are to our original sample as our original sample is to the overall population.\n",
    "\n",
    "With a population parameter, $\\theta$, and sample statistic $\\hat{\\theta}$, we make an inference about the uncertainty surrounding our estimate of the population parameter.\n",
    "\n",
    "> We infer the population, $\\theta$, and the uncertainty of the inference from sample $\\hat{\\theta}_{s}$.\n",
    "\n",
    "With bootstrapping, we mirror this process *to make an inference about the uncertainty surrounding our \"estimate\" of the sample statistic.*\n",
    "\n",
    "> Infer the uncertainty of our sample statistic, $\\hat{\\theta}_{s}$, from multiple random bootstrap samples drawn from that sample.\n",
    "\n"
   ]
  },
  {
   "cell_type": "markdown",
   "metadata": {},
   "source": [
    "<a id='independent-practice'></a>\n",
    "\n",
    "### Independent Practice: Confidence Intervals of Correlations\n",
    "\n",
    "---\n",
    "\n",
    "Like the median, computing the confidence interval for the Pearson correlation coefficient is not straightforward without the bootstrap procedure. \n",
    "\n",
    "**Using the Starcraft data or another data set of your choice, calculate the correlation between two variables you are interested in and then compute the 95% and 99% confidence intervals of that correlation with the bootstrap.**"
   ]
  },
  {
   "cell_type": "code",
   "execution_count": 18,
   "metadata": {},
   "outputs": [],
   "source": [
    "# Pull out `age`.\n",
    "age = star['Age'].values"
   ]
  },
  {
   "cell_type": "code",
   "execution_count": 19,
   "metadata": {},
   "outputs": [
    {
     "data": {
      "text/plain": [
       "<seaborn.axisgrid.JointGrid at 0x1155ded30>"
      ]
     },
     "execution_count": 19,
     "metadata": {},
     "output_type": "execute_result"
    },
    {
     "data": {
      "image/png": "[encoded data removed]",
      "text/plain": [
       "<Figure size 432x432 with 3 Axes>"
      ]
     },
     "metadata": {
      "image/png": {
       "height": 424,
       "width": 428
      }
     },
     "output_type": "display_data"
    }
   ],
   "source": [
    "sns.jointplot(age, apm)"
   ]
  },
  {
   "cell_type": "code",
   "execution_count": 20,
   "metadata": {},
   "outputs": [
    {
     "name": "stdout",
     "output_type": "stream",
     "text": [
      "-0.1778242634211112\n"
     ]
    }
   ],
   "source": [
    "# Calculate the Pearson correlation coefficient between `age` and `apm`.\n",
    "r = stats.pearsonr(age, apm)[0]\n",
    "print(r)"
   ]
  },
  {
   "cell_type": "code",
   "execution_count": 21,
   "metadata": {},
   "outputs": [],
   "source": [
    "# Function to bootstrap the coefficient with 1,000 iterations.\n",
    "# REMEMBER: The x and y need to be paired! I bootstrap the indices\n",
    "# for the different observations of `age/apm` pairs:\n",
    "def bootstrap_r(x, y, iterations=1000):\n",
    "    boot_r = []\n",
    "    inds = range(len(x))\n",
    "    for i in range(iterations):\n",
    "        boot_inds = np.random.choice(inds, replace=True, size=len(inds))\n",
    "        x_b = x[boot_inds]\n",
    "        y_b = y[boot_inds]\n",
    "        boot_r.append(stats.pearsonr(x_b, y_b)[0])\n",
    "    return boot_r"
   ]
  },
  {
   "cell_type": "code",
   "execution_count": 23,
   "metadata": {},
   "outputs": [
    {
     "name": "stdout",
     "output_type": "stream",
     "text": [
      "-0.3396571169204997 -0.1778242634211112 0.016924312998434395\n"
     ]
    }
   ],
   "source": [
    "r_boots = bootstrap_r(age, apm)\n",
    "\n",
    "# 95%\n",
    "lower = stats.scoreatpercentile(r_boots, 2.5)\n",
    "upper = stats.scoreatpercentile(r_boots, 97.5)\n",
    "\n",
    "print(lower, r, upper)"
   ]
  },
  {
   "cell_type": "code",
   "execution_count": 24,
   "metadata": {},
   "outputs": [
    {
     "name": "stdout",
     "output_type": "stream",
     "text": [
      "-0.3704085586153437 -0.1778242634211112 0.08714309983629555\n"
     ]
    }
   ],
   "source": [
    "# 99% confidence interval:\n",
    "lower = stats.scoreatpercentile(r_boots, 0.5)\n",
    "upper = stats.scoreatpercentile(r_boots, 99.5)\n",
    "\n",
    "print(lower, r, upper)"
   ]
  },
  {
   "cell_type": "code",
   "execution_count": 25,
   "metadata": {},
   "outputs": [
    {
     "data": {
      "text/plain": [
       "<matplotlib.axes._subplots.AxesSubplot at 0x113901860>"
      ]
     },
     "execution_count": 25,
     "metadata": {},
     "output_type": "execute_result"
    },
    {
     "data": {
      "image/png": "[encoded data removed]",
      "text/plain": [
       "<Figure size 432x288 with 1 Axes>"
      ]
     },
     "metadata": {
      "image/png": {
       "height": 245,
       "width": 402
      }
     },
     "output_type": "display_data"
    }
   ],
   "source": [
    "# The distribution of bootstrap Pearson `r` coefficients:\n",
    "sns.distplot(r_boots)"
   ]
  }
 ],
 "metadata": {
  "anaconda-cloud": {},
  "kernelspec": {
   "display_name": "Python 3",
   "language": "python",
   "name": "python3"
  },
  "language_info": {
   "codemirror_mode": {
    "name": "ipython",
    "version": 3
   },
   "file_extension": ".py",
   "mimetype": "text/x-python",
   "name": "python",
   "nbconvert_exporter": "python",
   "pygments_lexer": "ipython3",
   "version": "3.6.6"
  }
 },
 "nbformat": 4,
 "nbformat_minor": 2
}
