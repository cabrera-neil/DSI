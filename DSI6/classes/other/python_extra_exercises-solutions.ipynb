{
 "cells": [
  {
   "cell_type": "code",
   "execution_count": 2,
   "metadata": {},
   "outputs": [],
   "source": [
    "matrix = [[1,2,3],\n",
    "          [4,5,6],\n",
    "          [7,8,9]]"
   ]
  },
  {
   "cell_type": "code",
   "execution_count": 3,
   "metadata": {},
   "outputs": [],
   "source": [
    "# Exercise 1\n",
    "# Using a double for loop print:\n",
    "# 1,2,3\n",
    "# 4,5,6\n",
    "# 7,8,9 "
   ]
  },
  {
   "cell_type": "code",
   "execution_count": 5,
   "metadata": {},
   "outputs": [
    {
     "name": "stdout",
     "output_type": "stream",
     "text": [
      "1 2 3 \n",
      "4 5 6 \n",
      "7 8 9 \n"
     ]
    }
   ],
   "source": [
    "for i in range(len(matrix)):\n",
    "    row = matrix[i]\n",
    "    for j in range(len(row)):\n",
    "        print(row[j], end=' ')\n",
    "    print()"
   ]
  },
  {
   "cell_type": "code",
   "execution_count": null,
   "metadata": {},
   "outputs": [],
   "source": [
    "# Exercise 2\n",
    "# Using a double for loop print:\n",
    "# 9,8,7\n",
    "# 6,5,4\n",
    "# 3,2,1"
   ]
  },
  {
   "cell_type": "code",
   "execution_count": 8,
   "metadata": {},
   "outputs": [
    {
     "name": "stdout",
     "output_type": "stream",
     "text": [
      "9 8 7 \n",
      "6 5 4 \n",
      "3 2 1 \n"
     ]
    }
   ],
   "source": [
    "for i in range(len(matrix)):\n",
    "    row = matrix[len(matrix)-i-1]\n",
    "    for j in range(len(row)):\n",
    "        print(row[len(row)-j-1], end=' ')\n",
    "    print()"
   ]
  },
  {
   "cell_type": "code",
   "execution_count": null,
   "metadata": {},
   "outputs": [],
   "source": [
    "# Exercise 3\n",
    "# Print the elements in the diagonal (1,5,9) using a double for loop"
   ]
  },
  {
   "cell_type": "code",
   "execution_count": 9,
   "metadata": {},
   "outputs": [
    {
     "name": "stdout",
     "output_type": "stream",
     "text": [
      "1 \n",
      "5 \n",
      "9 \n"
     ]
    }
   ],
   "source": [
    "for i in range(len(matrix)):\n",
    "    row = matrix[i]\n",
    "    for j in range(len(row)):\n",
    "        if i==j:\n",
    "            print(row[j], end=' ')\n",
    "    print()"
   ]
  },
  {
   "cell_type": "code",
   "execution_count": null,
   "metadata": {},
   "outputs": [],
   "source": [
    "# Exercise 4\n",
    "# Print the lower triangle:\n",
    "# 1\n",
    "# 4,5\n",
    "# 7,8,9"
   ]
  },
  {
   "cell_type": "code",
   "execution_count": 12,
   "metadata": {},
   "outputs": [
    {
     "name": "stdout",
     "output_type": "stream",
     "text": [
      "1 \n",
      "4 5 \n",
      "7 8 9 \n"
     ]
    }
   ],
   "source": [
    "for i in range(len(matrix)):\n",
    "    row = matrix[i]\n",
    "    for j in range(len(row)):\n",
    "        if i>=j:\n",
    "            print(row[j], end=' ')\n",
    "    print()"
   ]
  },
  {
   "cell_type": "code",
   "execution_count": 29,
   "metadata": {},
   "outputs": [],
   "source": [
    "num2string = {3: 'three',\n",
    "              4: 'four',\n",
    "              7: 'seven'}\n",
    "\n",
    "# Exercise 5\n",
    "# Using the matrix and the dictionary (i.e. iterate through the matrix \n",
    "# and check if the element is in the dictionary), print:\n",
    "# 1,2,'three'\n",
    "# 'four,5,6\n",
    "# 'seven',8,9"
   ]
  },
  {
   "cell_type": "code",
   "execution_count": 30,
   "metadata": {},
   "outputs": [
    {
     "data": {
      "text/plain": [
       "'ciao'"
      ]
     },
     "execution_count": 30,
     "metadata": {},
     "output_type": "execute_result"
    }
   ],
   "source": [
    "# tip: you can use get!\n",
    "# 'ciao' is the default value to return, in case the key 2 is not in the dictionary\n",
    "num2string.get(2,'ciao')"
   ]
  },
  {
   "cell_type": "code",
   "execution_count": 31,
   "metadata": {},
   "outputs": [
    {
     "name": "stdout",
     "output_type": "stream",
     "text": [
      "1 2 three \n",
      "four 5 6 \n",
      "seven 8 9 \n"
     ]
    }
   ],
   "source": [
    "for i in range(len(matrix)):\n",
    "    row = matrix[i]\n",
    "    for j in range(len(row)):\n",
    "        print(num2string.get(row[j],row[j]), end=' ')\n",
    "    print()"
   ]
  },
  {
   "cell_type": "code",
   "execution_count": 32,
   "metadata": {},
   "outputs": [
    {
     "name": "stdout",
     "output_type": "stream",
     "text": [
      "(1, 'john') (2, 'john') (3, 'john') \n",
      "(4, 'gon') (5, 'gon') (6, 'gon') \n",
      "(7, 'angela') (8, 'angela') (9, 'angela') \n"
     ]
    }
   ],
   "source": [
    "names = ['john', 'gon', 'angela']\n",
    "\n",
    "# Exercise 6\n",
    "# Using the matrix and the list, print:\n",
    "# (1,john),(2,john),(3,john)\n",
    "# (4,gon),(5,gon),(6,gon)\n",
    "# (7,angela),(8,angela),(9,angela)\n",
    "\n",
    "for i in range(len(matrix)):\n",
    "    row = matrix[i]\n",
    "    for j in range(len(row)):\n",
    "        print((row[j],names[i]), end=' ')\n",
    "    print()"
   ]
  },
  {
   "cell_type": "code",
   "execution_count": 33,
   "metadata": {},
   "outputs": [
    {
     "name": "stdout",
     "output_type": "stream",
     "text": [
      "(1, 'john') (2, 'gon') (3, 'angela') \n",
      "(4, 'john') (5, 'gon') (6, 'angela') \n",
      "(7, 'john') (8, 'gon') (9, 'angela') \n"
     ]
    }
   ],
   "source": [
    "# Exercise 7\n",
    "# Using the matrix and the list, print:\n",
    "# (1,john),(2,gon),(3,angela)\n",
    "# (4,john),(5,gon),(6,angela)\n",
    "# (7,john),(8,gon),(9,angela)\n",
    "\n",
    "for i in range(len(matrix)):\n",
    "    row = matrix[i]\n",
    "    for j in range(len(row)):\n",
    "        print((row[j],names[j]), end=' ')\n",
    "    print()"
   ]
  },
  {
   "cell_type": "code",
   "execution_count": null,
   "metadata": {},
   "outputs": [],
   "source": []
  }
 ],
 "metadata": {
  "kernelspec": {
   "display_name": "Python 3",
   "language": "python",
   "name": "python3"
  }
 },
 "nbformat": 4,
 "nbformat_minor": 2
}
