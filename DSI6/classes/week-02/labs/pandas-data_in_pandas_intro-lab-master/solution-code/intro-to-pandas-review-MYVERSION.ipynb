{
 "cells": [
  {
   "cell_type": "markdown",
   "metadata": {},
   "source": [
    "<img src=\"http://imgur.com/1ZcRyrc.png\" style=\"float: left; margin: 20px; height: 55px\">\n",
    "\n",
    "## Intro to `pandas` Review\n",
    "\n",
    "_Authors: Dave Yerrington (SF), Kiefer Katovich (SF)_\n",
    "\n",
    "---"
   ]
  },
  {
   "cell_type": "code",
   "execution_count": 36,
   "metadata": {
    "ExecuteTime": {
     "end_time": "2018-01-02T23:37:33.868947Z",
     "start_time": "2018-01-02T23:37:30.739081Z"
    }
   },
   "outputs": [],
   "source": [
    "import pandas as pd\n",
    "import numpy as np\n",
    "import matplotlib.pyplot as plt\n",
    "%matplotlib inline"
   ]
  },
  {
   "cell_type": "markdown",
   "metadata": {},
   "source": [
    "### A. Explore _Mad Men_ Cast Data\n",
    "\n",
    "---\n",
    "\n",
    "#### 1. Load the _Mad Men_ cast data into a `pandas` DataFrame."
   ]
  },
  {
   "cell_type": "code",
   "execution_count": 37,
   "metadata": {
    "ExecuteTime": {
     "end_time": "2018-01-02T23:37:42.343002Z",
     "start_time": "2018-01-02T23:37:42.338807Z"
    }
   },
   "outputs": [],
   "source": [
    "cast_data_csv = '../datasets/mad-men-cast-show-data.csv'"
   ]
  },
  {
   "cell_type": "code",
   "execution_count": 38,
   "metadata": {},
   "outputs": [],
   "source": [
    "df = pd.read_csv(cast_data_csv, encoding='latin1')"
   ]
  },
  {
   "cell_type": "markdown",
   "metadata": {},
   "source": [
    "#### 2. Print the head and tail of the data(frame)."
   ]
  },
  {
   "cell_type": "code",
   "execution_count": 39,
   "metadata": {},
   "outputs": [
    {
     "data": {
      "text/html": [
       "<div>\n",
       "<style scoped>\n",
       "    .dataframe tbody tr th:only-of-type {\n",
       "        vertical-align: middle;\n",
       "    }\n",
       "\n",
       "    .dataframe tbody tr th {\n",
       "        vertical-align: top;\n",
       "    }\n",
       "\n",
       "    .dataframe thead th {\n",
       "        text-align: right;\n",
       "    }\n",
       "</style>\n",
       "<table border=\"1\" class=\"dataframe\">\n",
       "  <thead>\n",
       "    <tr style=\"text-align: right;\">\n",
       "      <th></th>\n",
       "      <th>Performer</th>\n",
       "      <th>Show</th>\n",
       "      <th>Show Start</th>\n",
       "      <th>Show End</th>\n",
       "      <th>Status?</th>\n",
       "      <th>CharEnd</th>\n",
       "      <th>Years Since</th>\n",
       "      <th>#LEAD</th>\n",
       "      <th>#SUPPORT</th>\n",
       "      <th>#Shows</th>\n",
       "      <th>Score</th>\n",
       "      <th>Score/Y</th>\n",
       "      <th>lead_notes</th>\n",
       "      <th>support_notes</th>\n",
       "      <th>show_notes</th>\n",
       "    </tr>\n",
       "  </thead>\n",
       "  <tbody>\n",
       "    <tr>\n",
       "      <th>0</th>\n",
       "      <td>Steven Hill</td>\n",
       "      <td>Law &amp; Order</td>\n",
       "      <td>1990</td>\n",
       "      <td>2010</td>\n",
       "      <td>END</td>\n",
       "      <td>2000</td>\n",
       "      <td>15</td>\n",
       "      <td>0</td>\n",
       "      <td>0</td>\n",
       "      <td>0</td>\n",
       "      <td>0.00</td>\n",
       "      <td>0</td>\n",
       "      <td>NaN</td>\n",
       "      <td>NaN</td>\n",
       "      <td>NaN</td>\n",
       "    </tr>\n",
       "    <tr>\n",
       "      <th>1</th>\n",
       "      <td>Kelli Williams</td>\n",
       "      <td>The Practice</td>\n",
       "      <td>1997</td>\n",
       "      <td>2014</td>\n",
       "      <td>END</td>\n",
       "      <td>2003</td>\n",
       "      <td>12</td>\n",
       "      <td>0</td>\n",
       "      <td>1</td>\n",
       "      <td>6</td>\n",
       "      <td>6.25</td>\n",
       "      <td>0.520833333</td>\n",
       "      <td>NaN</td>\n",
       "      <td>Any Day Now (2012)</td>\n",
       "      <td>Medical Investigation, Season 1; Lie To Me, Se...</td>\n",
       "    </tr>\n",
       "    <tr>\n",
       "      <th>2</th>\n",
       "      <td>LisaGay Hamilton</td>\n",
       "      <td>The Practice</td>\n",
       "      <td>1997</td>\n",
       "      <td>2014</td>\n",
       "      <td>END</td>\n",
       "      <td>2003</td>\n",
       "      <td>12</td>\n",
       "      <td>2</td>\n",
       "      <td>0</td>\n",
       "      <td>2</td>\n",
       "      <td>4.00</td>\n",
       "      <td>0.333333333</td>\n",
       "      <td>Life of a King, 2014; Go For Sisters, 2013</td>\n",
       "      <td>NaN</td>\n",
       "      <td>Men of a Certain Age, Season 1-2</td>\n",
       "    </tr>\n",
       "    <tr>\n",
       "      <th>3</th>\n",
       "      <td>Lara Flynn Boyle</td>\n",
       "      <td>The Practice</td>\n",
       "      <td>1997</td>\n",
       "      <td>2014</td>\n",
       "      <td>END</td>\n",
       "      <td>2003</td>\n",
       "      <td>12</td>\n",
       "      <td>0</td>\n",
       "      <td>0</td>\n",
       "      <td>0</td>\n",
       "      <td>0.00</td>\n",
       "      <td>0</td>\n",
       "      <td>NaN</td>\n",
       "      <td>NaN</td>\n",
       "      <td>NaN</td>\n",
       "    </tr>\n",
       "    <tr>\n",
       "      <th>4</th>\n",
       "      <td>Dylan McDermott</td>\n",
       "      <td>The Practice</td>\n",
       "      <td>1997</td>\n",
       "      <td>2014</td>\n",
       "      <td>END</td>\n",
       "      <td>2004</td>\n",
       "      <td>11</td>\n",
       "      <td>2</td>\n",
       "      <td>7</td>\n",
       "      <td>6</td>\n",
       "      <td>9.75</td>\n",
       "      <td>0.886363636</td>\n",
       "      <td>Olympus Has Fallen, 2013; Freezer, 2014</td>\n",
       "      <td>The Messengers, 2007; Unbeatable Harold, 2009;...</td>\n",
       "      <td>Big Shots, Season 1; Dark Blue, Season 1-2; Am...</td>\n",
       "    </tr>\n",
       "  </tbody>\n",
       "</table>\n",
       "</div>"
      ],
      "text/plain": [
       "          Performer          Show  Show Start Show End Status?  CharEnd  \\\n",
       "0       Steven Hill   Law & Order        1990     2010     END     2000   \n",
       "1    Kelli Williams  The Practice        1997     2014     END     2003   \n",
       "2  LisaGay Hamilton  The Practice        1997     2014     END     2003   \n",
       "3  Lara Flynn Boyle  The Practice        1997     2014     END     2003   \n",
       "4   Dylan McDermott  The Practice        1997     2014     END     2004   \n",
       "\n",
       "   Years Since  #LEAD  #SUPPORT  #Shows  Score      Score/Y  \\\n",
       "0           15      0         0       0   0.00            0   \n",
       "1           12      0         1       6   6.25  0.520833333   \n",
       "2           12      2         0       2   4.00  0.333333333   \n",
       "3           12      0         0       0   0.00            0   \n",
       "4           11      2         7       6   9.75  0.886363636   \n",
       "\n",
       "                                   lead_notes  \\\n",
       "0                                         NaN   \n",
       "1                                         NaN   \n",
       "2  Life of a King, 2014; Go For Sisters, 2013   \n",
       "3                                         NaN   \n",
       "4     Olympus Has Fallen, 2013; Freezer, 2014   \n",
       "\n",
       "                                       support_notes  \\\n",
       "0                                                NaN   \n",
       "1                                 Any Day Now (2012)   \n",
       "2                                                NaN   \n",
       "3                                                NaN   \n",
       "4  The Messengers, 2007; Unbeatable Harold, 2009;...   \n",
       "\n",
       "                                          show_notes  \n",
       "0                                                NaN  \n",
       "1  Medical Investigation, Season 1; Lie To Me, Se...  \n",
       "2                   Men of a Certain Age, Season 1-2  \n",
       "3                                                NaN  \n",
       "4  Big Shots, Season 1; Dark Blue, Season 1-2; Am...  "
      ]
     },
     "execution_count": 39,
     "metadata": {},
     "output_type": "execute_result"
    }
   ],
   "source": [
    "df.head()"
   ]
  },
  {
   "cell_type": "code",
   "execution_count": 40,
   "metadata": {},
   "outputs": [
    {
     "data": {
      "text/html": [
       "<div>\n",
       "<style scoped>\n",
       "    .dataframe tbody tr th:only-of-type {\n",
       "        vertical-align: middle;\n",
       "    }\n",
       "\n",
       "    .dataframe tbody tr th {\n",
       "        vertical-align: top;\n",
       "    }\n",
       "\n",
       "    .dataframe thead th {\n",
       "        text-align: right;\n",
       "    }\n",
       "</style>\n",
       "<table border=\"1\" class=\"dataframe\">\n",
       "  <thead>\n",
       "    <tr style=\"text-align: right;\">\n",
       "      <th></th>\n",
       "      <th>Performer</th>\n",
       "      <th>Show</th>\n",
       "      <th>Show Start</th>\n",
       "      <th>Show End</th>\n",
       "      <th>Status?</th>\n",
       "      <th>CharEnd</th>\n",
       "      <th>Years Since</th>\n",
       "      <th>#LEAD</th>\n",
       "      <th>#SUPPORT</th>\n",
       "      <th>#Shows</th>\n",
       "      <th>Score</th>\n",
       "      <th>Score/Y</th>\n",
       "      <th>lead_notes</th>\n",
       "      <th>support_notes</th>\n",
       "      <th>show_notes</th>\n",
       "    </tr>\n",
       "  </thead>\n",
       "  <tbody>\n",
       "    <tr>\n",
       "      <th>243</th>\n",
       "      <td>Meghan Wolfe</td>\n",
       "      <td>True Detective</td>\n",
       "      <td>2014</td>\n",
       "      <td>PRESENT</td>\n",
       "      <td>LEFT</td>\n",
       "      <td>2014</td>\n",
       "      <td>1</td>\n",
       "      <td>0</td>\n",
       "      <td>0</td>\n",
       "      <td>0</td>\n",
       "      <td>0.00</td>\n",
       "      <td>0</td>\n",
       "      <td>NaN</td>\n",
       "      <td>NaN</td>\n",
       "      <td>NaN</td>\n",
       "    </tr>\n",
       "    <tr>\n",
       "      <th>244</th>\n",
       "      <td>Kevin Dunn</td>\n",
       "      <td>True Detective</td>\n",
       "      <td>2014</td>\n",
       "      <td>PRESENT</td>\n",
       "      <td>LEFT</td>\n",
       "      <td>2014</td>\n",
       "      <td>1</td>\n",
       "      <td>0</td>\n",
       "      <td>1</td>\n",
       "      <td>2</td>\n",
       "      <td>2.25</td>\n",
       "      <td>2.25</td>\n",
       "      <td>NaN</td>\n",
       "      <td>Draft Day, 2014</td>\n",
       "      <td>Veep, Season 3-4</td>\n",
       "    </tr>\n",
       "    <tr>\n",
       "      <th>245</th>\n",
       "      <td>Charles Dance</td>\n",
       "      <td>Game of Thrones</td>\n",
       "      <td>2011</td>\n",
       "      <td>PRESENT</td>\n",
       "      <td>LEFT</td>\n",
       "      <td>2015</td>\n",
       "      <td>0</td>\n",
       "      <td>0</td>\n",
       "      <td>2</td>\n",
       "      <td>1</td>\n",
       "      <td>1.50</td>\n",
       "      <td>#DIV/0!</td>\n",
       "      <td>NaN</td>\n",
       "      <td>Woman in Gold, 2015; Child 44, 2015</td>\n",
       "      <td>Deadline Gallipoli, Season 1</td>\n",
       "    </tr>\n",
       "    <tr>\n",
       "      <th>246</th>\n",
       "      <td>Patrick Dempsey</td>\n",
       "      <td>Grey's Anatomy</td>\n",
       "      <td>2005</td>\n",
       "      <td>PRESENT</td>\n",
       "      <td>LEFT</td>\n",
       "      <td>2015</td>\n",
       "      <td>0</td>\n",
       "      <td>0</td>\n",
       "      <td>0</td>\n",
       "      <td>0</td>\n",
       "      <td>0.00</td>\n",
       "      <td>#DIV/0!</td>\n",
       "      <td>NaN</td>\n",
       "      <td>NaN</td>\n",
       "      <td>NaN</td>\n",
       "    </tr>\n",
       "    <tr>\n",
       "      <th>247</th>\n",
       "      <td>Ian McElhinney</td>\n",
       "      <td>Game of Thrones</td>\n",
       "      <td>2011</td>\n",
       "      <td>PRESENT</td>\n",
       "      <td>LEFT</td>\n",
       "      <td>2015</td>\n",
       "      <td>0</td>\n",
       "      <td>0</td>\n",
       "      <td>0</td>\n",
       "      <td>0</td>\n",
       "      <td>0.00</td>\n",
       "      <td>#DIV/0!</td>\n",
       "      <td>NaN</td>\n",
       "      <td>NaN</td>\n",
       "      <td>NaN</td>\n",
       "    </tr>\n",
       "  </tbody>\n",
       "</table>\n",
       "</div>"
      ],
      "text/plain": [
       "           Performer             Show  Show Start Show End Status?  CharEnd  \\\n",
       "243     Meghan Wolfe   True Detective        2014  PRESENT    LEFT     2014   \n",
       "244       Kevin Dunn   True Detective        2014  PRESENT    LEFT     2014   \n",
       "245    Charles Dance  Game of Thrones        2011  PRESENT    LEFT     2015   \n",
       "246  Patrick Dempsey   Grey's Anatomy        2005  PRESENT    LEFT     2015   \n",
       "247   Ian McElhinney  Game of Thrones        2011  PRESENT    LEFT     2015   \n",
       "\n",
       "     Years Since  #LEAD  #SUPPORT  #Shows  Score  Score/Y lead_notes  \\\n",
       "243            1      0         0       0   0.00        0        NaN   \n",
       "244            1      0         1       2   2.25     2.25        NaN   \n",
       "245            0      0         2       1   1.50  #DIV/0!        NaN   \n",
       "246            0      0         0       0   0.00  #DIV/0!        NaN   \n",
       "247            0      0         0       0   0.00  #DIV/0!        NaN   \n",
       "\n",
       "                           support_notes                    show_notes  \n",
       "243                                  NaN                           NaN  \n",
       "244                      Draft Day, 2014              Veep, Season 3-4  \n",
       "245  Woman in Gold, 2015; Child 44, 2015  Deadline Gallipoli, Season 1  \n",
       "246                                  NaN                           NaN  \n",
       "247                                  NaN                           NaN  "
      ]
     },
     "execution_count": 40,
     "metadata": {},
     "output_type": "execute_result"
    }
   ],
   "source": [
    "df.tail()"
   ]
  },
  {
   "cell_type": "markdown",
   "metadata": {},
   "source": [
    "#### 3. Print the columns of the data(frame)."
   ]
  },
  {
   "cell_type": "code",
   "execution_count": 41,
   "metadata": {},
   "outputs": [
    {
     "data": {
      "text/plain": [
       "Index(['Performer', 'Show', 'Show Start', 'Show End', 'Status?', 'CharEnd',\n",
       "       'Years Since', '#LEAD', '#SUPPORT', '#Shows', 'Score', 'Score/Y',\n",
       "       'lead_notes', 'support_notes', 'show_notes'],\n",
       "      dtype='object')"
      ]
     },
     "execution_count": 41,
     "metadata": {},
     "output_type": "execute_result"
    }
   ],
   "source": [
    "df.columns"
   ]
  },
  {
   "cell_type": "markdown",
   "metadata": {},
   "source": [
    "#### 4. Rename the columns by removing spaces and special characters. E.g. transform \"#this is a * column _\" in \"thisisacolumn\""
   ]
  },
  {
   "cell_type": "code",
   "execution_count": 42,
   "metadata": {},
   "outputs": [],
   "source": [
    "import string\n",
    "# the string library has default strings that contain all letters or numbers\n",
    "uppercase = string.ascii_uppercase\n",
    "lowercase = string.ascii_lowercase\n",
    "\n"
   ]
  },
  {
   "cell_type": "code",
   "execution_count": null,
   "metadata": {},
   "outputs": [],
   "source": []
  },
  {
   "cell_type": "code",
   "execution_count": null,
   "metadata": {},
   "outputs": [],
   "source": []
  },
  {
   "cell_type": "code",
   "execution_count": null,
   "metadata": {},
   "outputs": [],
   "source": []
  },
  {
   "cell_type": "code",
   "execution_count": null,
   "metadata": {},
   "outputs": [],
   "source": []
  },
  {
   "cell_type": "code",
   "execution_count": null,
   "metadata": {},
   "outputs": [],
   "source": []
  },
  {
   "cell_type": "code",
   "execution_count": null,
   "metadata": {},
   "outputs": [],
   "source": []
  },
  {
   "cell_type": "code",
   "execution_count": 43,
   "metadata": {},
   "outputs": [
    {
     "data": {
      "text/plain": [
       "{'Performer': 'Performer',\n",
       " 'Show': 'Show',\n",
       " 'Show Start': 'ShowStart',\n",
       " 'Show End': 'ShowEnd',\n",
       " 'Status?': 'Status',\n",
       " 'CharEnd': 'CharEnd',\n",
       " 'Years Since': 'YearsSince',\n",
       " '#LEAD': 'LEAD',\n",
       " '#SUPPORT': 'SUPPORT',\n",
       " '#Shows': 'Shows',\n",
       " 'Score': 'Score',\n",
       " 'Score/Y': 'ScoreY',\n",
       " 'lead_notes': 'leadnotes',\n",
       " 'support_notes': 'supportnotes',\n",
       " 'show_notes': 'shownotes'}"
      ]
     },
     "execution_count": 43,
     "metadata": {},
     "output_type": "execute_result"
    }
   ],
   "source": [
    "#version 1: rename with dictionary\n",
    "\n",
    "new_columns = [''.join([c for c in column if c in uppercase+lowercase]) for column in df.columns.values]\n",
    "column2newcolumns = dict(zip(df.columns, new_columns))\n",
    "column2newcolumns"
   ]
  },
  {
   "cell_type": "code",
   "execution_count": 44,
   "metadata": {},
   "outputs": [
    {
     "data": {
      "text/html": [
       "<div>\n",
       "<style scoped>\n",
       "    .dataframe tbody tr th:only-of-type {\n",
       "        vertical-align: middle;\n",
       "    }\n",
       "\n",
       "    .dataframe tbody tr th {\n",
       "        vertical-align: top;\n",
       "    }\n",
       "\n",
       "    .dataframe thead th {\n",
       "        text-align: right;\n",
       "    }\n",
       "</style>\n",
       "<table border=\"1\" class=\"dataframe\">\n",
       "  <thead>\n",
       "    <tr style=\"text-align: right;\">\n",
       "      <th></th>\n",
       "      <th>Performer</th>\n",
       "      <th>Show</th>\n",
       "      <th>ShowStart</th>\n",
       "      <th>ShowEnd</th>\n",
       "      <th>Status</th>\n",
       "      <th>CharEnd</th>\n",
       "      <th>YearsSince</th>\n",
       "      <th>LEAD</th>\n",
       "      <th>SUPPORT</th>\n",
       "      <th>Shows</th>\n",
       "      <th>Score</th>\n",
       "      <th>ScoreY</th>\n",
       "      <th>leadnotes</th>\n",
       "      <th>supportnotes</th>\n",
       "      <th>shownotes</th>\n",
       "    </tr>\n",
       "  </thead>\n",
       "  <tbody>\n",
       "    <tr>\n",
       "      <th>0</th>\n",
       "      <td>Steven Hill</td>\n",
       "      <td>Law &amp; Order</td>\n",
       "      <td>1990</td>\n",
       "      <td>2010</td>\n",
       "      <td>END</td>\n",
       "      <td>2000</td>\n",
       "      <td>15</td>\n",
       "      <td>0</td>\n",
       "      <td>0</td>\n",
       "      <td>0</td>\n",
       "      <td>0.00</td>\n",
       "      <td>0</td>\n",
       "      <td>NaN</td>\n",
       "      <td>NaN</td>\n",
       "      <td>NaN</td>\n",
       "    </tr>\n",
       "    <tr>\n",
       "      <th>1</th>\n",
       "      <td>Kelli Williams</td>\n",
       "      <td>The Practice</td>\n",
       "      <td>1997</td>\n",
       "      <td>2014</td>\n",
       "      <td>END</td>\n",
       "      <td>2003</td>\n",
       "      <td>12</td>\n",
       "      <td>0</td>\n",
       "      <td>1</td>\n",
       "      <td>6</td>\n",
       "      <td>6.25</td>\n",
       "      <td>0.520833333</td>\n",
       "      <td>NaN</td>\n",
       "      <td>Any Day Now (2012)</td>\n",
       "      <td>Medical Investigation, Season 1; Lie To Me, Se...</td>\n",
       "    </tr>\n",
       "    <tr>\n",
       "      <th>2</th>\n",
       "      <td>LisaGay Hamilton</td>\n",
       "      <td>The Practice</td>\n",
       "      <td>1997</td>\n",
       "      <td>2014</td>\n",
       "      <td>END</td>\n",
       "      <td>2003</td>\n",
       "      <td>12</td>\n",
       "      <td>2</td>\n",
       "      <td>0</td>\n",
       "      <td>2</td>\n",
       "      <td>4.00</td>\n",
       "      <td>0.333333333</td>\n",
       "      <td>Life of a King, 2014; Go For Sisters, 2013</td>\n",
       "      <td>NaN</td>\n",
       "      <td>Men of a Certain Age, Season 1-2</td>\n",
       "    </tr>\n",
       "    <tr>\n",
       "      <th>3</th>\n",
       "      <td>Lara Flynn Boyle</td>\n",
       "      <td>The Practice</td>\n",
       "      <td>1997</td>\n",
       "      <td>2014</td>\n",
       "      <td>END</td>\n",
       "      <td>2003</td>\n",
       "      <td>12</td>\n",
       "      <td>0</td>\n",
       "      <td>0</td>\n",
       "      <td>0</td>\n",
       "      <td>0.00</td>\n",
       "      <td>0</td>\n",
       "      <td>NaN</td>\n",
       "      <td>NaN</td>\n",
       "      <td>NaN</td>\n",
       "    </tr>\n",
       "    <tr>\n",
       "      <th>4</th>\n",
       "      <td>Dylan McDermott</td>\n",
       "      <td>The Practice</td>\n",
       "      <td>1997</td>\n",
       "      <td>2014</td>\n",
       "      <td>END</td>\n",
       "      <td>2004</td>\n",
       "      <td>11</td>\n",
       "      <td>2</td>\n",
       "      <td>7</td>\n",
       "      <td>6</td>\n",
       "      <td>9.75</td>\n",
       "      <td>0.886363636</td>\n",
       "      <td>Olympus Has Fallen, 2013; Freezer, 2014</td>\n",
       "      <td>The Messengers, 2007; Unbeatable Harold, 2009;...</td>\n",
       "      <td>Big Shots, Season 1; Dark Blue, Season 1-2; Am...</td>\n",
       "    </tr>\n",
       "  </tbody>\n",
       "</table>\n",
       "</div>"
      ],
      "text/plain": [
       "          Performer          Show  ShowStart ShowEnd Status  CharEnd  \\\n",
       "0       Steven Hill   Law & Order       1990    2010    END     2000   \n",
       "1    Kelli Williams  The Practice       1997    2014    END     2003   \n",
       "2  LisaGay Hamilton  The Practice       1997    2014    END     2003   \n",
       "3  Lara Flynn Boyle  The Practice       1997    2014    END     2003   \n",
       "4   Dylan McDermott  The Practice       1997    2014    END     2004   \n",
       "\n",
       "   YearsSince  LEAD  SUPPORT  Shows  Score       ScoreY  \\\n",
       "0          15     0        0      0   0.00            0   \n",
       "1          12     0        1      6   6.25  0.520833333   \n",
       "2          12     2        0      2   4.00  0.333333333   \n",
       "3          12     0        0      0   0.00            0   \n",
       "4          11     2        7      6   9.75  0.886363636   \n",
       "\n",
       "                                    leadnotes  \\\n",
       "0                                         NaN   \n",
       "1                                         NaN   \n",
       "2  Life of a King, 2014; Go For Sisters, 2013   \n",
       "3                                         NaN   \n",
       "4     Olympus Has Fallen, 2013; Freezer, 2014   \n",
       "\n",
       "                                        supportnotes  \\\n",
       "0                                                NaN   \n",
       "1                                 Any Day Now (2012)   \n",
       "2                                                NaN   \n",
       "3                                                NaN   \n",
       "4  The Messengers, 2007; Unbeatable Harold, 2009;...   \n",
       "\n",
       "                                           shownotes  \n",
       "0                                                NaN  \n",
       "1  Medical Investigation, Season 1; Lie To Me, Se...  \n",
       "2                   Men of a Certain Age, Season 1-2  \n",
       "3                                                NaN  \n",
       "4  Big Shots, Season 1; Dark Blue, Season 1-2; Am...  "
      ]
     },
     "execution_count": 44,
     "metadata": {},
     "output_type": "execute_result"
    }
   ],
   "source": [
    "df.rename(columns=column2newcolumns).head()"
   ]
  },
  {
   "cell_type": "code",
   "execution_count": 45,
   "metadata": {},
   "outputs": [],
   "source": [
    "#version 2: rename with lambda\n",
    "\n",
    "df.rename(columns=lambda column: ''.join([c for c in column if c in uppercase+lowercase]), inplace=True)"
   ]
  },
  {
   "cell_type": "code",
   "execution_count": 46,
   "metadata": {},
   "outputs": [
    {
     "data": {
      "text/html": [
       "<div>\n",
       "<style scoped>\n",
       "    .dataframe tbody tr th:only-of-type {\n",
       "        vertical-align: middle;\n",
       "    }\n",
       "\n",
       "    .dataframe tbody tr th {\n",
       "        vertical-align: top;\n",
       "    }\n",
       "\n",
       "    .dataframe thead th {\n",
       "        text-align: right;\n",
       "    }\n",
       "</style>\n",
       "<table border=\"1\" class=\"dataframe\">\n",
       "  <thead>\n",
       "    <tr style=\"text-align: right;\">\n",
       "      <th></th>\n",
       "      <th>Performer</th>\n",
       "      <th>Show</th>\n",
       "      <th>ShowStart</th>\n",
       "      <th>ShowEnd</th>\n",
       "      <th>Status</th>\n",
       "      <th>CharEnd</th>\n",
       "      <th>YearsSince</th>\n",
       "      <th>LEAD</th>\n",
       "      <th>SUPPORT</th>\n",
       "      <th>Shows</th>\n",
       "      <th>Score</th>\n",
       "      <th>ScoreY</th>\n",
       "      <th>leadnotes</th>\n",
       "      <th>supportnotes</th>\n",
       "      <th>shownotes</th>\n",
       "    </tr>\n",
       "  </thead>\n",
       "  <tbody>\n",
       "    <tr>\n",
       "      <th>0</th>\n",
       "      <td>Steven Hill</td>\n",
       "      <td>Law &amp; Order</td>\n",
       "      <td>1990</td>\n",
       "      <td>2010</td>\n",
       "      <td>END</td>\n",
       "      <td>2000</td>\n",
       "      <td>15</td>\n",
       "      <td>0</td>\n",
       "      <td>0</td>\n",
       "      <td>0</td>\n",
       "      <td>0.00</td>\n",
       "      <td>0</td>\n",
       "      <td>NaN</td>\n",
       "      <td>NaN</td>\n",
       "      <td>NaN</td>\n",
       "    </tr>\n",
       "    <tr>\n",
       "      <th>1</th>\n",
       "      <td>Kelli Williams</td>\n",
       "      <td>The Practice</td>\n",
       "      <td>1997</td>\n",
       "      <td>2014</td>\n",
       "      <td>END</td>\n",
       "      <td>2003</td>\n",
       "      <td>12</td>\n",
       "      <td>0</td>\n",
       "      <td>1</td>\n",
       "      <td>6</td>\n",
       "      <td>6.25</td>\n",
       "      <td>0.520833333</td>\n",
       "      <td>NaN</td>\n",
       "      <td>Any Day Now (2012)</td>\n",
       "      <td>Medical Investigation, Season 1; Lie To Me, Se...</td>\n",
       "    </tr>\n",
       "    <tr>\n",
       "      <th>2</th>\n",
       "      <td>LisaGay Hamilton</td>\n",
       "      <td>The Practice</td>\n",
       "      <td>1997</td>\n",
       "      <td>2014</td>\n",
       "      <td>END</td>\n",
       "      <td>2003</td>\n",
       "      <td>12</td>\n",
       "      <td>2</td>\n",
       "      <td>0</td>\n",
       "      <td>2</td>\n",
       "      <td>4.00</td>\n",
       "      <td>0.333333333</td>\n",
       "      <td>Life of a King, 2014; Go For Sisters, 2013</td>\n",
       "      <td>NaN</td>\n",
       "      <td>Men of a Certain Age, Season 1-2</td>\n",
       "    </tr>\n",
       "    <tr>\n",
       "      <th>3</th>\n",
       "      <td>Lara Flynn Boyle</td>\n",
       "      <td>The Practice</td>\n",
       "      <td>1997</td>\n",
       "      <td>2014</td>\n",
       "      <td>END</td>\n",
       "      <td>2003</td>\n",
       "      <td>12</td>\n",
       "      <td>0</td>\n",
       "      <td>0</td>\n",
       "      <td>0</td>\n",
       "      <td>0.00</td>\n",
       "      <td>0</td>\n",
       "      <td>NaN</td>\n",
       "      <td>NaN</td>\n",
       "      <td>NaN</td>\n",
       "    </tr>\n",
       "    <tr>\n",
       "      <th>4</th>\n",
       "      <td>Dylan McDermott</td>\n",
       "      <td>The Practice</td>\n",
       "      <td>1997</td>\n",
       "      <td>2014</td>\n",
       "      <td>END</td>\n",
       "      <td>2004</td>\n",
       "      <td>11</td>\n",
       "      <td>2</td>\n",
       "      <td>7</td>\n",
       "      <td>6</td>\n",
       "      <td>9.75</td>\n",
       "      <td>0.886363636</td>\n",
       "      <td>Olympus Has Fallen, 2013; Freezer, 2014</td>\n",
       "      <td>The Messengers, 2007; Unbeatable Harold, 2009;...</td>\n",
       "      <td>Big Shots, Season 1; Dark Blue, Season 1-2; Am...</td>\n",
       "    </tr>\n",
       "  </tbody>\n",
       "</table>\n",
       "</div>"
      ],
      "text/plain": [
       "          Performer          Show  ShowStart ShowEnd Status  CharEnd  \\\n",
       "0       Steven Hill   Law & Order       1990    2010    END     2000   \n",
       "1    Kelli Williams  The Practice       1997    2014    END     2003   \n",
       "2  LisaGay Hamilton  The Practice       1997    2014    END     2003   \n",
       "3  Lara Flynn Boyle  The Practice       1997    2014    END     2003   \n",
       "4   Dylan McDermott  The Practice       1997    2014    END     2004   \n",
       "\n",
       "   YearsSince  LEAD  SUPPORT  Shows  Score       ScoreY  \\\n",
       "0          15     0        0      0   0.00            0   \n",
       "1          12     0        1      6   6.25  0.520833333   \n",
       "2          12     2        0      2   4.00  0.333333333   \n",
       "3          12     0        0      0   0.00            0   \n",
       "4          11     2        7      6   9.75  0.886363636   \n",
       "\n",
       "                                    leadnotes  \\\n",
       "0                                         NaN   \n",
       "1                                         NaN   \n",
       "2  Life of a King, 2014; Go For Sisters, 2013   \n",
       "3                                         NaN   \n",
       "4     Olympus Has Fallen, 2013; Freezer, 2014   \n",
       "\n",
       "                                        supportnotes  \\\n",
       "0                                                NaN   \n",
       "1                                 Any Day Now (2012)   \n",
       "2                                                NaN   \n",
       "3                                                NaN   \n",
       "4  The Messengers, 2007; Unbeatable Harold, 2009;...   \n",
       "\n",
       "                                           shownotes  \n",
       "0                                                NaN  \n",
       "1  Medical Investigation, Season 1; Lie To Me, Se...  \n",
       "2                   Men of a Certain Age, Season 1-2  \n",
       "3                                                NaN  \n",
       "4  Big Shots, Season 1; Dark Blue, Season 1-2; Am...  "
      ]
     },
     "execution_count": 46,
     "metadata": {},
     "output_type": "execute_result"
    }
   ],
   "source": [
    "df.head()"
   ]
  },
  {
   "cell_type": "markdown",
   "metadata": {},
   "source": [
    "#### 5. Select the rows with the status of the show different from \"END\" and \"End.\""
   ]
  },
  {
   "cell_type": "code",
   "execution_count": 47,
   "metadata": {
    "scrolled": false
   },
   "outputs": [
    {
     "data": {
      "text/html": [
       "<div>\n",
       "<style scoped>\n",
       "    .dataframe tbody tr th:only-of-type {\n",
       "        vertical-align: middle;\n",
       "    }\n",
       "\n",
       "    .dataframe tbody tr th {\n",
       "        vertical-align: top;\n",
       "    }\n",
       "\n",
       "    .dataframe thead th {\n",
       "        text-align: right;\n",
       "    }\n",
       "</style>\n",
       "<table border=\"1\" class=\"dataframe\">\n",
       "  <thead>\n",
       "    <tr style=\"text-align: right;\">\n",
       "      <th></th>\n",
       "      <th>Performer</th>\n",
       "      <th>Show</th>\n",
       "      <th>ShowStart</th>\n",
       "      <th>ShowEnd</th>\n",
       "      <th>Status</th>\n",
       "      <th>CharEnd</th>\n",
       "      <th>YearsSince</th>\n",
       "      <th>LEAD</th>\n",
       "      <th>SUPPORT</th>\n",
       "      <th>Shows</th>\n",
       "      <th>Score</th>\n",
       "      <th>ScoreY</th>\n",
       "      <th>leadnotes</th>\n",
       "      <th>supportnotes</th>\n",
       "      <th>shownotes</th>\n",
       "    </tr>\n",
       "  </thead>\n",
       "  <tbody>\n",
       "    <tr>\n",
       "      <th>157</th>\n",
       "      <td>Siobhan Finneran</td>\n",
       "      <td>Downton Abbey</td>\n",
       "      <td>2010</td>\n",
       "      <td>PRESENT</td>\n",
       "      <td>LEFT</td>\n",
       "      <td>2012</td>\n",
       "      <td>3</td>\n",
       "      <td>0</td>\n",
       "      <td>0</td>\n",
       "      <td>8</td>\n",
       "      <td>8.0</td>\n",
       "      <td>2.666666667</td>\n",
       "      <td>NaN</td>\n",
       "      <td>NaN</td>\n",
       "      <td>The Syndicate, Season 2; Happy Valley, Season ...</td>\n",
       "    </tr>\n",
       "    <tr>\n",
       "      <th>162</th>\n",
       "      <td>Eric Dane</td>\n",
       "      <td>Grey's Anatomy</td>\n",
       "      <td>2005</td>\n",
       "      <td>PRESENT</td>\n",
       "      <td>LEFT</td>\n",
       "      <td>2012</td>\n",
       "      <td>3</td>\n",
       "      <td>0</td>\n",
       "      <td>0</td>\n",
       "      <td>1</td>\n",
       "      <td>1.0</td>\n",
       "      <td>0.333333333</td>\n",
       "      <td>NaN</td>\n",
       "      <td>NaN</td>\n",
       "      <td>The Last Ship, Season 1</td>\n",
       "    </tr>\n",
       "  </tbody>\n",
       "</table>\n",
       "</div>"
      ],
      "text/plain": [
       "            Performer            Show  ShowStart  ShowEnd Status  CharEnd  \\\n",
       "157  Siobhan Finneran   Downton Abbey       2010  PRESENT   LEFT     2012   \n",
       "162         Eric Dane  Grey's Anatomy       2005  PRESENT   LEFT     2012   \n",
       "\n",
       "     YearsSince  LEAD  SUPPORT  Shows  Score       ScoreY leadnotes  \\\n",
       "157           3     0        0      8    8.0  2.666666667       NaN   \n",
       "162           3     0        0      1    1.0  0.333333333       NaN   \n",
       "\n",
       "    supportnotes                                          shownotes  \n",
       "157          NaN  The Syndicate, Season 2; Happy Valley, Season ...  \n",
       "162          NaN                            The Last Ship, Season 1  "
      ]
     },
     "execution_count": 47,
     "metadata": {},
     "output_type": "execute_result"
    }
   ],
   "source": [
    "df[(df['Status']!='END') & (df['Status']!='End')].head(2)"
   ]
  },
  {
   "cell_type": "code",
   "execution_count": null,
   "metadata": {},
   "outputs": [],
   "source": []
  },
  {
   "cell_type": "code",
   "execution_count": null,
   "metadata": {},
   "outputs": [],
   "source": []
  },
  {
   "cell_type": "code",
   "execution_count": null,
   "metadata": {},
   "outputs": [],
   "source": []
  },
  {
   "cell_type": "code",
   "execution_count": null,
   "metadata": {},
   "outputs": [],
   "source": []
  },
  {
   "cell_type": "code",
   "execution_count": null,
   "metadata": {},
   "outputs": [],
   "source": []
  },
  {
   "cell_type": "code",
   "execution_count": 48,
   "metadata": {},
   "outputs": [
    {
     "data": {
      "text/html": [
       "<div>\n",
       "<style scoped>\n",
       "    .dataframe tbody tr th:only-of-type {\n",
       "        vertical-align: middle;\n",
       "    }\n",
       "\n",
       "    .dataframe tbody tr th {\n",
       "        vertical-align: top;\n",
       "    }\n",
       "\n",
       "    .dataframe thead th {\n",
       "        text-align: right;\n",
       "    }\n",
       "</style>\n",
       "<table border=\"1\" class=\"dataframe\">\n",
       "  <thead>\n",
       "    <tr style=\"text-align: right;\">\n",
       "      <th></th>\n",
       "      <th>Performer</th>\n",
       "      <th>Show</th>\n",
       "      <th>ShowStart</th>\n",
       "      <th>ShowEnd</th>\n",
       "      <th>Status</th>\n",
       "      <th>CharEnd</th>\n",
       "      <th>YearsSince</th>\n",
       "      <th>LEAD</th>\n",
       "      <th>SUPPORT</th>\n",
       "      <th>Shows</th>\n",
       "      <th>Score</th>\n",
       "      <th>ScoreY</th>\n",
       "      <th>leadnotes</th>\n",
       "      <th>supportnotes</th>\n",
       "      <th>shownotes</th>\n",
       "    </tr>\n",
       "  </thead>\n",
       "  <tbody>\n",
       "    <tr>\n",
       "      <th>157</th>\n",
       "      <td>Siobhan Finneran</td>\n",
       "      <td>Downton Abbey</td>\n",
       "      <td>2010</td>\n",
       "      <td>PRESENT</td>\n",
       "      <td>LEFT</td>\n",
       "      <td>2012</td>\n",
       "      <td>3</td>\n",
       "      <td>0</td>\n",
       "      <td>0</td>\n",
       "      <td>8</td>\n",
       "      <td>8.0</td>\n",
       "      <td>2.666666667</td>\n",
       "      <td>NaN</td>\n",
       "      <td>NaN</td>\n",
       "      <td>The Syndicate, Season 2; Happy Valley, Season ...</td>\n",
       "    </tr>\n",
       "    <tr>\n",
       "      <th>162</th>\n",
       "      <td>Eric Dane</td>\n",
       "      <td>Grey's Anatomy</td>\n",
       "      <td>2005</td>\n",
       "      <td>PRESENT</td>\n",
       "      <td>LEFT</td>\n",
       "      <td>2012</td>\n",
       "      <td>3</td>\n",
       "      <td>0</td>\n",
       "      <td>0</td>\n",
       "      <td>1</td>\n",
       "      <td>1.0</td>\n",
       "      <td>0.333333333</td>\n",
       "      <td>NaN</td>\n",
       "      <td>NaN</td>\n",
       "      <td>The Last Ship, Season 1</td>\n",
       "    </tr>\n",
       "  </tbody>\n",
       "</table>\n",
       "</div>"
      ],
      "text/plain": [
       "            Performer            Show  ShowStart  ShowEnd Status  CharEnd  \\\n",
       "157  Siobhan Finneran   Downton Abbey       2010  PRESENT   LEFT     2012   \n",
       "162         Eric Dane  Grey's Anatomy       2005  PRESENT   LEFT     2012   \n",
       "\n",
       "     YearsSince  LEAD  SUPPORT  Shows  Score       ScoreY leadnotes  \\\n",
       "157           3     0        0      8    8.0  2.666666667       NaN   \n",
       "162           3     0        0      1    1.0  0.333333333       NaN   \n",
       "\n",
       "    supportnotes                                          shownotes  \n",
       "157          NaN  The Syndicate, Season 2; Happy Valley, Season ...  \n",
       "162          NaN                            The Last Ship, Season 1  "
      ]
     },
     "execution_count": 48,
     "metadata": {},
     "output_type": "execute_result"
    }
   ],
   "source": [
    "#different approach\n",
    "df[~df['Status'].isin(['END','End'])].head(2)"
   ]
  },
  {
   "cell_type": "markdown",
   "metadata": {},
   "source": [
    "#### 6. Print out the performers where the show start is greater than 2005 and the score is greater than 7."
   ]
  },
  {
   "cell_type": "code",
   "execution_count": 49,
   "metadata": {},
   "outputs": [],
   "source": [
    "# double checking out dtypes to make sure they are correct.\n"
   ]
  },
  {
   "cell_type": "code",
   "execution_count": 50,
   "metadata": {},
   "outputs": [
    {
     "data": {
      "text/plain": [
       "Performer        object\n",
       "Show             object\n",
       "ShowStart         int64\n",
       "ShowEnd          object\n",
       "Status           object\n",
       "CharEnd           int64\n",
       "YearsSince        int64\n",
       "LEAD              int64\n",
       "SUPPORT           int64\n",
       "Shows             int64\n",
       "Score           float64\n",
       "ScoreY           object\n",
       "leadnotes        object\n",
       "supportnotes     object\n",
       "shownotes        object\n",
       "dtype: object"
      ]
     },
     "execution_count": 50,
     "metadata": {},
     "output_type": "execute_result"
    }
   ],
   "source": [
    "df.dtypes"
   ]
  },
  {
   "cell_type": "code",
   "execution_count": 51,
   "metadata": {},
   "outputs": [
    {
     "data": {
      "text/html": [
       "<div>\n",
       "<style scoped>\n",
       "    .dataframe tbody tr th:only-of-type {\n",
       "        vertical-align: middle;\n",
       "    }\n",
       "\n",
       "    .dataframe tbody tr th {\n",
       "        vertical-align: top;\n",
       "    }\n",
       "\n",
       "    .dataframe thead th {\n",
       "        text-align: right;\n",
       "    }\n",
       "</style>\n",
       "<table border=\"1\" class=\"dataframe\">\n",
       "  <thead>\n",
       "    <tr style=\"text-align: right;\">\n",
       "      <th></th>\n",
       "      <th>Performer</th>\n",
       "      <th>Show</th>\n",
       "      <th>ShowStart</th>\n",
       "      <th>ShowEnd</th>\n",
       "      <th>Status</th>\n",
       "      <th>CharEnd</th>\n",
       "      <th>YearsSince</th>\n",
       "      <th>LEAD</th>\n",
       "      <th>SUPPORT</th>\n",
       "      <th>Shows</th>\n",
       "      <th>Score</th>\n",
       "      <th>ScoreY</th>\n",
       "      <th>leadnotes</th>\n",
       "      <th>supportnotes</th>\n",
       "      <th>shownotes</th>\n",
       "    </tr>\n",
       "  </thead>\n",
       "  <tbody>\n",
       "    <tr>\n",
       "      <th>95</th>\n",
       "      <td>Scott Porter</td>\n",
       "      <td>Friday Night Lights</td>\n",
       "      <td>2006</td>\n",
       "      <td>2011</td>\n",
       "      <td>END</td>\n",
       "      <td>2010</td>\n",
       "      <td>5</td>\n",
       "      <td>3</td>\n",
       "      <td>1</td>\n",
       "      <td>6</td>\n",
       "      <td>9.25</td>\n",
       "      <td>1.85</td>\n",
       "      <td>The Good Guy, 2010; 10 Years, 2012; The To Do ...</td>\n",
       "      <td>Dear John, 2010</td>\n",
       "      <td>The Good Wife, Season 2; X-Men, Season 1; Hear...</td>\n",
       "    </tr>\n",
       "    <tr>\n",
       "      <th>132</th>\n",
       "      <td>Connie Britton</td>\n",
       "      <td>Friday Night Lights</td>\n",
       "      <td>2006</td>\n",
       "      <td>2011</td>\n",
       "      <td>END</td>\n",
       "      <td>2011</td>\n",
       "      <td>4</td>\n",
       "      <td>3</td>\n",
       "      <td>1</td>\n",
       "      <td>4</td>\n",
       "      <td>7.25</td>\n",
       "      <td>1.8125</td>\n",
       "      <td>The Fitzgerald Family Christmas, 2012; Angels ...</td>\n",
       "      <td>The To Do List, 2013</td>\n",
       "      <td>American Horror Story, Season 1; Nashville, Se...</td>\n",
       "    </tr>\n",
       "  </tbody>\n",
       "</table>\n",
       "</div>"
      ],
      "text/plain": [
       "          Performer                 Show  ShowStart ShowEnd Status  CharEnd  \\\n",
       "95     Scott Porter  Friday Night Lights       2006    2011    END     2010   \n",
       "132  Connie Britton  Friday Night Lights       2006    2011    END     2011   \n",
       "\n",
       "     YearsSince  LEAD  SUPPORT  Shows  Score  ScoreY  \\\n",
       "95            5     3        1      6   9.25    1.85   \n",
       "132           4     3        1      4   7.25  1.8125   \n",
       "\n",
       "                                             leadnotes          supportnotes  \\\n",
       "95   The Good Guy, 2010; 10 Years, 2012; The To Do ...       Dear John, 2010   \n",
       "132  The Fitzgerald Family Christmas, 2012; Angels ...  The To Do List, 2013   \n",
       "\n",
       "                                             shownotes  \n",
       "95   The Good Wife, Season 2; X-Men, Season 1; Hear...  \n",
       "132  American Horror Story, Season 1; Nashville, Se...  "
      ]
     },
     "execution_count": 51,
     "metadata": {},
     "output_type": "execute_result"
    }
   ],
   "source": [
    "df[(df['ShowStart']>2005) & (df['Score']>7)].head(2)"
   ]
  },
  {
   "cell_type": "markdown",
   "metadata": {},
   "source": [
    "#### 7. Select the performer and show column for the 20th-25th LABELED rows."
   ]
  },
  {
   "cell_type": "code",
   "execution_count": 52,
   "metadata": {},
   "outputs": [
    {
     "data": {
      "text/html": [
       "<div>\n",
       "<style scoped>\n",
       "    .dataframe tbody tr th:only-of-type {\n",
       "        vertical-align: middle;\n",
       "    }\n",
       "\n",
       "    .dataframe tbody tr th {\n",
       "        vertical-align: top;\n",
       "    }\n",
       "\n",
       "    .dataframe thead th {\n",
       "        text-align: right;\n",
       "    }\n",
       "</style>\n",
       "<table border=\"1\" class=\"dataframe\">\n",
       "  <thead>\n",
       "    <tr style=\"text-align: right;\">\n",
       "      <th></th>\n",
       "      <th>Performer</th>\n",
       "      <th>Show</th>\n",
       "    </tr>\n",
       "  </thead>\n",
       "  <tbody>\n",
       "    <tr>\n",
       "      <th>20</th>\n",
       "      <td>Mary Steenburgen</td>\n",
       "      <td>Joan of Arcadia</td>\n",
       "    </tr>\n",
       "    <tr>\n",
       "      <th>21</th>\n",
       "      <td>Mathew St. Patrick</td>\n",
       "      <td>Six Feet Under</td>\n",
       "    </tr>\n",
       "    <tr>\n",
       "      <th>22</th>\n",
       "      <td>Michael Welch</td>\n",
       "      <td>Joan of Arcadia</td>\n",
       "    </tr>\n",
       "    <tr>\n",
       "      <th>23</th>\n",
       "      <td>Aaron Himelstein</td>\n",
       "      <td>Joan of Arcadia</td>\n",
       "    </tr>\n",
       "    <tr>\n",
       "      <th>24</th>\n",
       "      <td>Becky Wahlstrom</td>\n",
       "      <td>Joan of Arcadia</td>\n",
       "    </tr>\n",
       "  </tbody>\n",
       "</table>\n",
       "</div>"
      ],
      "text/plain": [
       "             Performer             Show\n",
       "20    Mary Steenburgen  Joan of Arcadia\n",
       "21  Mathew St. Patrick   Six Feet Under\n",
       "22       Michael Welch  Joan of Arcadia\n",
       "23    Aaron Himelstein  Joan of Arcadia\n",
       "24     Becky Wahlstrom  Joan of Arcadia"
      ]
     },
     "execution_count": 52,
     "metadata": {},
     "output_type": "execute_result"
    }
   ],
   "source": [
    "df[20:25][['Performer','Show']]"
   ]
  },
  {
   "cell_type": "code",
   "execution_count": null,
   "metadata": {},
   "outputs": [],
   "source": []
  },
  {
   "cell_type": "code",
   "execution_count": null,
   "metadata": {},
   "outputs": [],
   "source": []
  },
  {
   "cell_type": "code",
   "execution_count": null,
   "metadata": {},
   "outputs": [],
   "source": []
  },
  {
   "cell_type": "code",
   "execution_count": null,
   "metadata": {},
   "outputs": [],
   "source": []
  },
  {
   "cell_type": "code",
   "execution_count": null,
   "metadata": {},
   "outputs": [],
   "source": []
  },
  {
   "cell_type": "code",
   "execution_count": null,
   "metadata": {},
   "outputs": [],
   "source": []
  },
  {
   "cell_type": "code",
   "execution_count": 53,
   "metadata": {},
   "outputs": [
    {
     "data": {
      "text/html": [
       "<div>\n",
       "<style scoped>\n",
       "    .dataframe tbody tr th:only-of-type {\n",
       "        vertical-align: middle;\n",
       "    }\n",
       "\n",
       "    .dataframe tbody tr th {\n",
       "        vertical-align: top;\n",
       "    }\n",
       "\n",
       "    .dataframe thead th {\n",
       "        text-align: right;\n",
       "    }\n",
       "</style>\n",
       "<table border=\"1\" class=\"dataframe\">\n",
       "  <thead>\n",
       "    <tr style=\"text-align: right;\">\n",
       "      <th></th>\n",
       "      <th>Performer</th>\n",
       "      <th>Show</th>\n",
       "    </tr>\n",
       "  </thead>\n",
       "  <tbody>\n",
       "    <tr>\n",
       "      <th>20</th>\n",
       "      <td>Mary Steenburgen</td>\n",
       "      <td>Joan of Arcadia</td>\n",
       "    </tr>\n",
       "    <tr>\n",
       "      <th>22</th>\n",
       "      <td>Michael Welch</td>\n",
       "      <td>Joan of Arcadia</td>\n",
       "    </tr>\n",
       "    <tr>\n",
       "      <th>24</th>\n",
       "      <td>Becky Wahlstrom</td>\n",
       "      <td>Joan of Arcadia</td>\n",
       "    </tr>\n",
       "  </tbody>\n",
       "</table>\n",
       "</div>"
      ],
      "text/plain": [
       "           Performer             Show\n",
       "20  Mary Steenburgen  Joan of Arcadia\n",
       "22     Michael Welch  Joan of Arcadia\n",
       "24   Becky Wahlstrom  Joan of Arcadia"
      ]
     },
     "execution_count": 53,
     "metadata": {},
     "output_type": "execute_result"
    }
   ],
   "source": [
    "# you can use the same notation of lists iteration\n",
    "df.loc[20:25:2, ['Performer','Show']]"
   ]
  },
  {
   "cell_type": "markdown",
   "metadata": {},
   "source": [
    "#### 8. Plot a histogram of score."
   ]
  },
  {
   "cell_type": "code",
   "execution_count": 54,
   "metadata": {},
   "outputs": [
    {
     "data": {
      "text/plain": [
       "<matplotlib.axes._subplots.AxesSubplot at 0x1227cc7b8>"
      ]
     },
     "execution_count": 54,
     "metadata": {},
     "output_type": "execute_result"
    },
    {
     "data": {
      "image/png": "[encoded data removed]",
      "text/plain": [
       "<Figure size 432x288 with 1 Axes>"
      ]
     },
     "metadata": {},
     "output_type": "display_data"
    }
   ],
   "source": [
    "df['Score'].hist()"
   ]
  },
  {
   "cell_type": "code",
   "execution_count": 55,
   "metadata": {},
   "outputs": [
    {
     "data": {
      "text/plain": [
       "<matplotlib.axes._subplots.AxesSubplot at 0x1223f4b70>"
      ]
     },
     "execution_count": 55,
     "metadata": {},
     "output_type": "execute_result"
    },
    {
     "data": {
      "image/png": "[encoded data removed]",
      "text/plain": [
       "<Figure size 432x288 with 1 Axes>"
      ]
     },
     "metadata": {},
     "output_type": "display_data"
    }
   ],
   "source": [
    "df['Score'].hist(bins=20)"
   ]
  },
  {
   "cell_type": "code",
   "execution_count": 56,
   "metadata": {},
   "outputs": [
    {
     "data": {
      "text/plain": [
       "<matplotlib.axes._subplots.AxesSubplot at 0x122255710>"
      ]
     },
     "execution_count": 56,
     "metadata": {},
     "output_type": "execute_result"
    },
    {
     "data": {
      "image/png": "[encoded data removed]",
      "text/plain": [
       "<Figure size 432x288 with 1 Axes>"
      ]
     },
     "metadata": {},
     "output_type": "display_data"
    }
   ],
   "source": [
    "df['Score'].hist(bins=range(0,20,5))"
   ]
  },
  {
   "cell_type": "markdown",
   "metadata": {},
   "source": [
    "### B. Explore San Francisco Crime Data\n",
    "\n",
    "--- \n",
    "\n",
    "**9. Load the San Francisco crime data set into a DataFrame.**"
   ]
  },
  {
   "cell_type": "code",
   "execution_count": 57,
   "metadata": {
    "ExecuteTime": {
     "end_time": "2018-01-04T20:03:57.587408Z",
     "start_time": "2018-01-04T20:03:57.584334Z"
    }
   },
   "outputs": [],
   "source": [
    "crime_csv = '../datasets/sf_crime.csv'"
   ]
  },
  {
   "cell_type": "code",
   "execution_count": 58,
   "metadata": {},
   "outputs": [],
   "source": [
    "df = pd.read_csv(crime_csv)"
   ]
  },
  {
   "cell_type": "markdown",
   "metadata": {},
   "source": [
    "**10. Look at the dimensions of the crime data.**"
   ]
  },
  {
   "cell_type": "code",
   "execution_count": 59,
   "metadata": {},
   "outputs": [
    {
     "data": {
      "text/plain": [
       "(25000, 9)"
      ]
     },
     "execution_count": 59,
     "metadata": {},
     "output_type": "execute_result"
    }
   ],
   "source": [
    "df.shape"
   ]
  },
  {
   "cell_type": "markdown",
   "metadata": {},
   "source": [
    "**11. Look at the data types of the columns and print out the column names.**"
   ]
  },
  {
   "cell_type": "code",
   "execution_count": 60,
   "metadata": {},
   "outputs": [
    {
     "data": {
      "text/plain": [
       "Dates          object\n",
       "Category       object\n",
       "Descript       object\n",
       "DayOfWeek      object\n",
       "PdDistrict     object\n",
       "Resolution     object\n",
       "Address        object\n",
       "X             float64\n",
       "Y             float64\n",
       "dtype: object"
      ]
     },
     "execution_count": 60,
     "metadata": {},
     "output_type": "execute_result"
    }
   ],
   "source": [
    "df.dtypes"
   ]
  },
  {
   "cell_type": "code",
   "execution_count": 61,
   "metadata": {},
   "outputs": [
    {
     "data": {
      "text/plain": [
       "Index(['Dates', 'Category', 'Descript', 'DayOfWeek', 'PdDistrict',\n",
       "       'Resolution', 'Address', 'X', 'Y'],\n",
       "      dtype='object')"
      ]
     },
     "execution_count": 61,
     "metadata": {},
     "output_type": "execute_result"
    }
   ],
   "source": [
    "df.columns"
   ]
  },
  {
   "cell_type": "markdown",
   "metadata": {},
   "source": [
    "**12. How many distinct districts are there?**"
   ]
  },
  {
   "cell_type": "code",
   "execution_count": 62,
   "metadata": {},
   "outputs": [
    {
     "data": {
      "text/plain": [
       "0        BAYVIEW\n",
       "1       NORTHERN\n",
       "2       SOUTHERN\n",
       "3        TARAVAL\n",
       "5        MISSION\n",
       "6      INGLESIDE\n",
       "8        CENTRAL\n",
       "10    TENDERLOIN\n",
       "15      RICHMOND\n",
       "41          PARK\n",
       "Name: PdDistrict, dtype: object"
      ]
     },
     "execution_count": 62,
     "metadata": {},
     "output_type": "execute_result"
    }
   ],
   "source": [
    "df['PdDistrict'].drop_duplicates()"
   ]
  },
  {
   "cell_type": "code",
   "execution_count": 63,
   "metadata": {},
   "outputs": [
    {
     "data": {
      "text/plain": [
       "array(['BAYVIEW', 'NORTHERN', 'SOUTHERN', 'TARAVAL', 'MISSION',\n",
       "       'INGLESIDE', 'CENTRAL', 'TENDERLOIN', 'RICHMOND', 'PARK'],\n",
       "      dtype=object)"
      ]
     },
     "execution_count": 63,
     "metadata": {},
     "output_type": "execute_result"
    }
   ],
   "source": [
    "df['PdDistrict'].unique()"
   ]
  },
  {
   "cell_type": "code",
   "execution_count": 64,
   "metadata": {},
   "outputs": [
    {
     "data": {
      "text/plain": [
       "SOUTHERN      4413\n",
       "MISSION       3416\n",
       "NORTHERN      3076\n",
       "BAYVIEW       2555\n",
       "CENTRAL       2424\n",
       "TENDERLOIN    2336\n",
       "INGLESIDE     2256\n",
       "TARAVAL       1804\n",
       "PARK          1438\n",
       "RICHMOND      1282\n",
       "Name: PdDistrict, dtype: int64"
      ]
     },
     "execution_count": 64,
     "metadata": {},
     "output_type": "execute_result"
    }
   ],
   "source": [
    "df['PdDistrict'].value_counts()"
   ]
  },
  {
   "cell_type": "markdown",
   "metadata": {},
   "source": [
    "**13. Which day of the week has the most crime?**"
   ]
  },
  {
   "cell_type": "code",
   "execution_count": 65,
   "metadata": {},
   "outputs": [
    {
     "data": {
      "text/plain": [
       "Friday       3883\n",
       "Wednesday    3657\n",
       "Thursday     3579\n",
       "Tuesday      3548\n",
       "Monday       3524\n",
       "Saturday     3496\n",
       "Sunday       3313\n",
       "Name: DayOfWeek, dtype: int64"
      ]
     },
     "execution_count": 65,
     "metadata": {},
     "output_type": "execute_result"
    }
   ],
   "source": [
    "df['DayOfWeek'].value_counts()"
   ]
  },
  {
   "cell_type": "code",
   "execution_count": 66,
   "metadata": {},
   "outputs": [
    {
     "data": {
      "text/plain": [
       "Friday       0.15532\n",
       "Wednesday    0.14628\n",
       "Thursday     0.14316\n",
       "Tuesday      0.14192\n",
       "Monday       0.14096\n",
       "Saturday     0.13984\n",
       "Sunday       0.13252\n",
       "Name: DayOfWeek, dtype: float64"
      ]
     },
     "execution_count": 66,
     "metadata": {},
     "output_type": "execute_result"
    }
   ],
   "source": [
    "df['DayOfWeek'].value_counts() / len(df)"
   ]
  },
  {
   "cell_type": "markdown",
   "metadata": {},
   "source": [
    "#### 14. Make a new DataFrame featuring the crime categories and the number of crimes per category."
   ]
  },
  {
   "cell_type": "code",
   "execution_count": 77,
   "metadata": {},
   "outputs": [
    {
     "data": {
      "text/html": [
       "<div>\n",
       "<style scoped>\n",
       "    .dataframe tbody tr th:only-of-type {\n",
       "        vertical-align: middle;\n",
       "    }\n",
       "\n",
       "    .dataframe tbody tr th {\n",
       "        vertical-align: top;\n",
       "    }\n",
       "\n",
       "    .dataframe thead th {\n",
       "        text-align: right;\n",
       "    }\n",
       "</style>\n",
       "<table border=\"1\" class=\"dataframe\">\n",
       "  <thead>\n",
       "    <tr style=\"text-align: right;\">\n",
       "      <th></th>\n",
       "      <th>Category</th>\n",
       "    </tr>\n",
       "  </thead>\n",
       "  <tbody>\n",
       "    <tr>\n",
       "      <th>LARCENY/THEFT</th>\n",
       "      <td>4934</td>\n",
       "    </tr>\n",
       "    <tr>\n",
       "      <th>OTHER OFFENSES</th>\n",
       "      <td>3656</td>\n",
       "    </tr>\n",
       "    <tr>\n",
       "      <th>NON-CRIMINAL</th>\n",
       "      <td>2601</td>\n",
       "    </tr>\n",
       "    <tr>\n",
       "      <th>ASSAULT</th>\n",
       "      <td>2164</td>\n",
       "    </tr>\n",
       "    <tr>\n",
       "      <th>DRUG/NARCOTIC</th>\n",
       "      <td>1533</td>\n",
       "    </tr>\n",
       "    <tr>\n",
       "      <th>VEHICLE THEFT</th>\n",
       "      <td>1506</td>\n",
       "    </tr>\n",
       "    <tr>\n",
       "      <th>VANDALISM</th>\n",
       "      <td>1280</td>\n",
       "    </tr>\n",
       "    <tr>\n",
       "      <th>WARRANTS</th>\n",
       "      <td>1239</td>\n",
       "    </tr>\n",
       "    <tr>\n",
       "      <th>BURGLARY</th>\n",
       "      <td>1023</td>\n",
       "    </tr>\n",
       "    <tr>\n",
       "      <th>SUSPICIOUS OCC</th>\n",
       "      <td>891</td>\n",
       "    </tr>\n",
       "    <tr>\n",
       "      <th>MISSING PERSON</th>\n",
       "      <td>771</td>\n",
       "    </tr>\n",
       "    <tr>\n",
       "      <th>ROBBERY</th>\n",
       "      <td>630</td>\n",
       "    </tr>\n",
       "    <tr>\n",
       "      <th>FRAUD</th>\n",
       "      <td>537</td>\n",
       "    </tr>\n",
       "    <tr>\n",
       "      <th>SECONDARY CODES</th>\n",
       "      <td>283</td>\n",
       "    </tr>\n",
       "    <tr>\n",
       "      <th>FORGERY/COUNTERFEITING</th>\n",
       "      <td>281</td>\n",
       "    </tr>\n",
       "    <tr>\n",
       "      <th>WEAPON LAWS</th>\n",
       "      <td>255</td>\n",
       "    </tr>\n",
       "    <tr>\n",
       "      <th>PROSTITUTION</th>\n",
       "      <td>223</td>\n",
       "    </tr>\n",
       "    <tr>\n",
       "      <th>TRESPASS</th>\n",
       "      <td>209</td>\n",
       "    </tr>\n",
       "    <tr>\n",
       "      <th>STOLEN PROPERTY</th>\n",
       "      <td>137</td>\n",
       "    </tr>\n",
       "    <tr>\n",
       "      <th>SEX OFFENSES FORCIBLE</th>\n",
       "      <td>120</td>\n",
       "    </tr>\n",
       "    <tr>\n",
       "      <th>DISORDERLY CONDUCT</th>\n",
       "      <td>105</td>\n",
       "    </tr>\n",
       "    <tr>\n",
       "      <th>DRUNKENNESS</th>\n",
       "      <td>105</td>\n",
       "    </tr>\n",
       "    <tr>\n",
       "      <th>RECOVERED VEHICLE</th>\n",
       "      <td>80</td>\n",
       "    </tr>\n",
       "    <tr>\n",
       "      <th>DRIVING UNDER THE INFLUENCE</th>\n",
       "      <td>75</td>\n",
       "    </tr>\n",
       "    <tr>\n",
       "      <th>KIDNAPPING</th>\n",
       "      <td>71</td>\n",
       "    </tr>\n",
       "    <tr>\n",
       "      <th>RUNAWAY</th>\n",
       "      <td>58</td>\n",
       "    </tr>\n",
       "    <tr>\n",
       "      <th>ARSON</th>\n",
       "      <td>52</td>\n",
       "    </tr>\n",
       "    <tr>\n",
       "      <th>LIQUOR LAWS</th>\n",
       "      <td>51</td>\n",
       "    </tr>\n",
       "    <tr>\n",
       "      <th>LOITERING</th>\n",
       "      <td>37</td>\n",
       "    </tr>\n",
       "    <tr>\n",
       "      <th>EMBEZZLEMENT</th>\n",
       "      <td>28</td>\n",
       "    </tr>\n",
       "    <tr>\n",
       "      <th>FAMILY OFFENSES</th>\n",
       "      <td>14</td>\n",
       "    </tr>\n",
       "    <tr>\n",
       "      <th>BAD CHECKS</th>\n",
       "      <td>14</td>\n",
       "    </tr>\n",
       "    <tr>\n",
       "      <th>SUICIDE</th>\n",
       "      <td>12</td>\n",
       "    </tr>\n",
       "    <tr>\n",
       "      <th>EXTORTION</th>\n",
       "      <td>9</td>\n",
       "    </tr>\n",
       "    <tr>\n",
       "      <th>BRIBERY</th>\n",
       "      <td>8</td>\n",
       "    </tr>\n",
       "    <tr>\n",
       "      <th>GAMBLING</th>\n",
       "      <td>5</td>\n",
       "    </tr>\n",
       "    <tr>\n",
       "      <th>SEX OFFENSES NON FORCIBLE</th>\n",
       "      <td>2</td>\n",
       "    </tr>\n",
       "    <tr>\n",
       "      <th>TREA</th>\n",
       "      <td>1</td>\n",
       "    </tr>\n",
       "  </tbody>\n",
       "</table>\n",
       "</div>"
      ],
      "text/plain": [
       "                             Category\n",
       "LARCENY/THEFT                    4934\n",
       "OTHER OFFENSES                   3656\n",
       "NON-CRIMINAL                     2601\n",
       "ASSAULT                          2164\n",
       "DRUG/NARCOTIC                    1533\n",
       "VEHICLE THEFT                    1506\n",
       "VANDALISM                        1280\n",
       "WARRANTS                         1239\n",
       "BURGLARY                         1023\n",
       "SUSPICIOUS OCC                    891\n",
       "MISSING PERSON                    771\n",
       "ROBBERY                           630\n",
       "FRAUD                             537\n",
       "SECONDARY CODES                   283\n",
       "FORGERY/COUNTERFEITING            281\n",
       "WEAPON LAWS                       255\n",
       "PROSTITUTION                      223\n",
       "TRESPASS                          209\n",
       "STOLEN PROPERTY                   137\n",
       "SEX OFFENSES FORCIBLE             120\n",
       "DISORDERLY CONDUCT                105\n",
       "DRUNKENNESS                       105\n",
       "RECOVERED VEHICLE                  80\n",
       "DRIVING UNDER THE INFLUENCE        75\n",
       "KIDNAPPING                         71\n",
       "RUNAWAY                            58\n",
       "ARSON                              52\n",
       "LIQUOR LAWS                        51\n",
       "LOITERING                          37\n",
       "EMBEZZLEMENT                       28\n",
       "FAMILY OFFENSES                    14\n",
       "BAD CHECKS                         14\n",
       "SUICIDE                            12\n",
       "EXTORTION                           9\n",
       "BRIBERY                             8\n",
       "GAMBLING                            5\n",
       "SEX OFFENSES NON FORCIBLE           2\n",
       "TREA                                1"
      ]
     },
     "execution_count": 77,
     "metadata": {},
     "output_type": "execute_result"
    }
   ],
   "source": [
    "pd.DataFrame(df['Category'].value_counts())"
   ]
  },
  {
   "cell_type": "code",
   "execution_count": 67,
   "metadata": {},
   "outputs": [
    {
     "data": {
      "text/html": [
       "<div>\n",
       "<style scoped>\n",
       "    .dataframe tbody tr th:only-of-type {\n",
       "        vertical-align: middle;\n",
       "    }\n",
       "\n",
       "    .dataframe tbody tr th {\n",
       "        vertical-align: top;\n",
       "    }\n",
       "\n",
       "    .dataframe thead th {\n",
       "        text-align: right;\n",
       "    }\n",
       "</style>\n",
       "<table border=\"1\" class=\"dataframe\">\n",
       "  <thead>\n",
       "    <tr style=\"text-align: right;\">\n",
       "      <th></th>\n",
       "      <th>index</th>\n",
       "      <th>Category</th>\n",
       "    </tr>\n",
       "  </thead>\n",
       "  <tbody>\n",
       "    <tr>\n",
       "      <th>0</th>\n",
       "      <td>LARCENY/THEFT</td>\n",
       "      <td>4934</td>\n",
       "    </tr>\n",
       "    <tr>\n",
       "      <th>1</th>\n",
       "      <td>OTHER OFFENSES</td>\n",
       "      <td>3656</td>\n",
       "    </tr>\n",
       "    <tr>\n",
       "      <th>2</th>\n",
       "      <td>NON-CRIMINAL</td>\n",
       "      <td>2601</td>\n",
       "    </tr>\n",
       "    <tr>\n",
       "      <th>3</th>\n",
       "      <td>ASSAULT</td>\n",
       "      <td>2164</td>\n",
       "    </tr>\n",
       "    <tr>\n",
       "      <th>4</th>\n",
       "      <td>DRUG/NARCOTIC</td>\n",
       "      <td>1533</td>\n",
       "    </tr>\n",
       "  </tbody>\n",
       "</table>\n",
       "</div>"
      ],
      "text/plain": [
       "            index  Category\n",
       "0   LARCENY/THEFT      4934\n",
       "1  OTHER OFFENSES      3656\n",
       "2    NON-CRIMINAL      2601\n",
       "3         ASSAULT      2164\n",
       "4   DRUG/NARCOTIC      1533"
      ]
     },
     "execution_count": 67,
     "metadata": {},
     "output_type": "execute_result"
    }
   ],
   "source": [
    "pd.DataFrame(df['Category'].value_counts()).reset_index(drop=False).head()"
   ]
  },
  {
   "cell_type": "code",
   "execution_count": 68,
   "metadata": {},
   "outputs": [
    {
     "data": {
      "text/html": [
       "<div>\n",
       "<style scoped>\n",
       "    .dataframe tbody tr th:only-of-type {\n",
       "        vertical-align: middle;\n",
       "    }\n",
       "\n",
       "    .dataframe tbody tr th {\n",
       "        vertical-align: top;\n",
       "    }\n",
       "\n",
       "    .dataframe thead th {\n",
       "        text-align: right;\n",
       "    }\n",
       "</style>\n",
       "<table border=\"1\" class=\"dataframe\">\n",
       "  <thead>\n",
       "    <tr style=\"text-align: right;\">\n",
       "      <th></th>\n",
       "      <th>categories</th>\n",
       "      <th>crimes</th>\n",
       "    </tr>\n",
       "  </thead>\n",
       "  <tbody>\n",
       "    <tr>\n",
       "      <th>0</th>\n",
       "      <td>LARCENY/THEFT</td>\n",
       "      <td>4934</td>\n",
       "    </tr>\n",
       "    <tr>\n",
       "      <th>1</th>\n",
       "      <td>OTHER OFFENSES</td>\n",
       "      <td>3656</td>\n",
       "    </tr>\n",
       "    <tr>\n",
       "      <th>2</th>\n",
       "      <td>NON-CRIMINAL</td>\n",
       "      <td>2601</td>\n",
       "    </tr>\n",
       "    <tr>\n",
       "      <th>3</th>\n",
       "      <td>ASSAULT</td>\n",
       "      <td>2164</td>\n",
       "    </tr>\n",
       "    <tr>\n",
       "      <th>4</th>\n",
       "      <td>DRUG/NARCOTIC</td>\n",
       "      <td>1533</td>\n",
       "    </tr>\n",
       "  </tbody>\n",
       "</table>\n",
       "</div>"
      ],
      "text/plain": [
       "       categories  crimes\n",
       "0   LARCENY/THEFT    4934\n",
       "1  OTHER OFFENSES    3656\n",
       "2    NON-CRIMINAL    2601\n",
       "3         ASSAULT    2164\n",
       "4   DRUG/NARCOTIC    1533"
      ]
     },
     "execution_count": 68,
     "metadata": {},
     "output_type": "execute_result"
    }
   ],
   "source": [
    "counts = df['Category'].value_counts()\n",
    "df_new = pd.DataFrame(dict({'categories':counts.index, \n",
    "                            'crimes':counts.values}))\n",
    "df_new.head()"
   ]
  },
  {
   "cell_type": "code",
   "execution_count": 75,
   "metadata": {},
   "outputs": [
    {
     "data": {
      "text/html": [
       "<div>\n",
       "<style scoped>\n",
       "    .dataframe tbody tr th:only-of-type {\n",
       "        vertical-align: middle;\n",
       "    }\n",
       "\n",
       "    .dataframe tbody tr th {\n",
       "        vertical-align: top;\n",
       "    }\n",
       "\n",
       "    .dataframe thead th {\n",
       "        text-align: right;\n",
       "    }\n",
       "</style>\n",
       "<table border=\"1\" class=\"dataframe\">\n",
       "  <thead>\n",
       "    <tr style=\"text-align: right;\">\n",
       "      <th></th>\n",
       "      <th>index</th>\n",
       "      <th>Category</th>\n",
       "    </tr>\n",
       "  </thead>\n",
       "  <tbody>\n",
       "    <tr>\n",
       "      <th>0</th>\n",
       "      <td>LARCENY/THEFT</td>\n",
       "      <td>4934</td>\n",
       "    </tr>\n",
       "    <tr>\n",
       "      <th>1</th>\n",
       "      <td>OTHER OFFENSES</td>\n",
       "      <td>3656</td>\n",
       "    </tr>\n",
       "    <tr>\n",
       "      <th>2</th>\n",
       "      <td>NON-CRIMINAL</td>\n",
       "      <td>2601</td>\n",
       "    </tr>\n",
       "    <tr>\n",
       "      <th>3</th>\n",
       "      <td>ASSAULT</td>\n",
       "      <td>2164</td>\n",
       "    </tr>\n",
       "    <tr>\n",
       "      <th>4</th>\n",
       "      <td>DRUG/NARCOTIC</td>\n",
       "      <td>1533</td>\n",
       "    </tr>\n",
       "  </tbody>\n",
       "</table>\n",
       "</div>"
      ],
      "text/plain": [
       "            index  Category\n",
       "0   LARCENY/THEFT      4934\n",
       "1  OTHER OFFENSES      3656\n",
       "2    NON-CRIMINAL      2601\n",
       "3         ASSAULT      2164\n",
       "4   DRUG/NARCOTIC      1533"
      ]
     },
     "execution_count": 75,
     "metadata": {},
     "output_type": "execute_result"
    }
   ],
   "source": [
    "# other approach\n",
    "pd.DataFrame(df['Category'].value_counts().reset_index(drop=False)).head()"
   ]
  },
  {
   "cell_type": "markdown",
   "metadata": {},
   "source": [
    "**15. Make a DataFrame that includes the districts and crime counts per district. Which district has the most crime?**\n",
    "\n",
    "*Hint: You can use the `.sort_values()` function to sort your DataFrame by column.*"
   ]
  },
  {
   "cell_type": "code",
   "execution_count": 35,
   "metadata": {},
   "outputs": [
    {
     "data": {
      "text/html": [
       "<div>\n",
       "<style scoped>\n",
       "    .dataframe tbody tr th:only-of-type {\n",
       "        vertical-align: middle;\n",
       "    }\n",
       "\n",
       "    .dataframe tbody tr th {\n",
       "        vertical-align: top;\n",
       "    }\n",
       "\n",
       "    .dataframe thead th {\n",
       "        text-align: right;\n",
       "    }\n",
       "</style>\n",
       "<table border=\"1\" class=\"dataframe\">\n",
       "  <thead>\n",
       "    <tr style=\"text-align: right;\">\n",
       "      <th></th>\n",
       "      <th>district</th>\n",
       "      <th>crimes</th>\n",
       "    </tr>\n",
       "  </thead>\n",
       "  <tbody>\n",
       "    <tr>\n",
       "      <th>0</th>\n",
       "      <td>SOUTHERN</td>\n",
       "      <td>4413</td>\n",
       "    </tr>\n",
       "    <tr>\n",
       "      <th>1</th>\n",
       "      <td>MISSION</td>\n",
       "      <td>3416</td>\n",
       "    </tr>\n",
       "    <tr>\n",
       "      <th>2</th>\n",
       "      <td>NORTHERN</td>\n",
       "      <td>3076</td>\n",
       "    </tr>\n",
       "    <tr>\n",
       "      <th>3</th>\n",
       "      <td>BAYVIEW</td>\n",
       "      <td>2555</td>\n",
       "    </tr>\n",
       "    <tr>\n",
       "      <th>4</th>\n",
       "      <td>CENTRAL</td>\n",
       "      <td>2424</td>\n",
       "    </tr>\n",
       "    <tr>\n",
       "      <th>5</th>\n",
       "      <td>TENDERLOIN</td>\n",
       "      <td>2336</td>\n",
       "    </tr>\n",
       "    <tr>\n",
       "      <th>6</th>\n",
       "      <td>INGLESIDE</td>\n",
       "      <td>2256</td>\n",
       "    </tr>\n",
       "    <tr>\n",
       "      <th>7</th>\n",
       "      <td>TARAVAL</td>\n",
       "      <td>1804</td>\n",
       "    </tr>\n",
       "    <tr>\n",
       "      <th>8</th>\n",
       "      <td>PARK</td>\n",
       "      <td>1438</td>\n",
       "    </tr>\n",
       "    <tr>\n",
       "      <th>9</th>\n",
       "      <td>RICHMOND</td>\n",
       "      <td>1282</td>\n",
       "    </tr>\n",
       "  </tbody>\n",
       "</table>\n",
       "</div>"
      ],
      "text/plain": [
       "     district  crimes\n",
       "0    SOUTHERN    4413\n",
       "1     MISSION    3416\n",
       "2    NORTHERN    3076\n",
       "3     BAYVIEW    2555\n",
       "4     CENTRAL    2424\n",
       "5  TENDERLOIN    2336\n",
       "6   INGLESIDE    2256\n",
       "7     TARAVAL    1804\n",
       "8        PARK    1438\n",
       "9    RICHMOND    1282"
      ]
     },
     "execution_count": 35,
     "metadata": {},
     "output_type": "execute_result"
    }
   ],
   "source": [
    "counts = df['PdDistrict'].value_counts()\n",
    "df_new = pd.DataFrame(dict({'district':counts.index, \n",
    "                            'crimes':counts.values}))\n",
    "\n",
    "\n",
    "df_new.sort_values(by=['crimes','col2'], ascending=False)"
   ]
  }
 ],
 "metadata": {
  "anaconda-cloud": {},
  "kernelspec": {
   "display_name": "Python 3",
   "language": "python",
   "name": "python3"
  },
  "language_info": {
   "codemirror_mode": {
    "name": "ipython",
    "version": 3
   },
   "file_extension": ".py",
   "mimetype": "text/x-python",
   "name": "python",
   "nbconvert_exporter": "python",
   "pygments_lexer": "ipython3",
   "version": "3.6.6"
  },
  "varInspector": {
   "cols": {
    "lenName": 16,
    "lenType": 16,
    "lenVar": 40
   },
   "kernels_config": {
    "python": {
     "delete_cmd_postfix": "",
     "delete_cmd_prefix": "del ",
     "library": "var_list.py",
     "varRefreshCmd": "print(var_dic_list())"
    },
    "r": {
     "delete_cmd_postfix": ") ",
     "delete_cmd_prefix": "rm(",
     "library": "var_list.r",
     "varRefreshCmd": "cat(var_dic_list()) "
    }
   },
   "types_to_exclude": [
    "module",
    "function",
    "builtin_function_or_method",
    "instance",
    "_Feature"
   ],
   "window_display": false
  }
 },
 "nbformat": 4,
 "nbformat_minor": 1
}
