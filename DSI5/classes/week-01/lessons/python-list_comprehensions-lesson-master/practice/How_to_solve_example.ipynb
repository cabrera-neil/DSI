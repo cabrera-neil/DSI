{
 "cells": [
  {
   "cell_type": "markdown",
   "metadata": {},
   "source": [
    "# List comprehension: how to solve"
   ]
  },
  {
   "cell_type": "markdown",
   "metadata": {},
   "source": [
    "Given a list of animal names, for every animal, create a list of tuples where ever tuple is:\n",
    "\n",
    "(animal, [all other animals with the same number of letters])  \n",
    "  \n",
    "E.G.:  \n",
    "animals = [\"dog\", \"cat\", \"elephant\"] \n",
    "  \n",
    "Output:  \n",
    "[('dog',['cat']),  \n",
    " ('cat',['dog']),  \n",
    " ('elephant',[])]  \n",
    "    \n"
   ]
  },
  {
   "cell_type": "markdown",
   "metadata": {},
   "source": [
    "#  \n",
    "#  \n",
    "#  "
   ]
  },
  {
   "cell_type": "code",
   "execution_count": 1,
   "metadata": {},
   "outputs": [],
   "source": [
    "animals = ['dog', 'cat', 'bird', 'lion', 'elephant']"
   ]
  },
  {
   "cell_type": "code",
   "execution_count": 2,
   "metadata": {},
   "outputs": [
    {
     "data": {
      "text/plain": [
       "['dog', 'cat', 'bird', 'lion', 'elephant']"
      ]
     },
     "execution_count": 2,
     "metadata": {},
     "output_type": "execute_result"
    }
   ],
   "source": [
    "# basic one\n",
    "[animal for animal in animals]"
   ]
  },
  {
   "cell_type": "code",
   "execution_count": 8,
   "metadata": {},
   "outputs": [
    {
     "data": {
      "text/plain": [
       "['dog', 'cat', 'bird', 'lion', 'elephant']"
      ]
     },
     "execution_count": 8,
     "metadata": {},
     "output_type": "execute_result"
    }
   ],
   "source": [
    "animals"
   ]
  },
  {
   "cell_type": "markdown",
   "metadata": {},
   "source": [
    "#  "
   ]
  },
  {
   "cell_type": "code",
   "execution_count": 3,
   "metadata": {},
   "outputs": [
    {
     "data": {
      "text/plain": [
       "[('dog', 1), ('cat', 1), ('bird', 1), ('lion', 1), ('elephant', 1)]"
      ]
     },
     "execution_count": 3,
     "metadata": {},
     "output_type": "execute_result"
    }
   ],
   "source": [
    "# let's start adding something\n",
    "[(animal,1) for animal in animals]"
   ]
  },
  {
   "cell_type": "markdown",
   "metadata": {},
   "source": [
    "#  "
   ]
  },
  {
   "cell_type": "code",
   "execution_count": 4,
   "metadata": {},
   "outputs": [
    {
     "data": {
      "text/plain": [
       "[('dog', []), ('cat', []), ('bird', []), ('lion', []), ('elephant', [])]"
      ]
     },
     "execution_count": 4,
     "metadata": {},
     "output_type": "execute_result"
    }
   ],
   "source": [
    "# what about an empy list?\n",
    "[(animal,[]) for animal in animals]"
   ]
  },
  {
   "cell_type": "markdown",
   "metadata": {},
   "source": [
    "#  "
   ]
  },
  {
   "cell_type": "code",
   "execution_count": 5,
   "metadata": {},
   "outputs": [
    {
     "data": {
      "text/plain": [
       "[('dog', ['dog', 'cat', 'bird', 'lion', 'elephant']),\n",
       " ('cat', ['dog', 'cat', 'bird', 'lion', 'elephant']),\n",
       " ('bird', ['dog', 'cat', 'bird', 'lion', 'elephant']),\n",
       " ('lion', ['dog', 'cat', 'bird', 'lion', 'elephant']),\n",
       " ('elephant', ['dog', 'cat', 'bird', 'lion', 'elephant'])]"
      ]
     },
     "execution_count": 5,
     "metadata": {},
     "output_type": "execute_result"
    }
   ],
   "source": [
    "# let's add a more complex list: all the animals\n",
    "[(animal,[a for a in animals]) for animal in animals]"
   ]
  },
  {
   "cell_type": "markdown",
   "metadata": {},
   "source": [
    "#  "
   ]
  },
  {
   "cell_type": "code",
   "execution_count": 6,
   "metadata": {},
   "outputs": [
    {
     "data": {
      "text/plain": [
       "[('dog', ['cat', 'bird', 'lion', 'elephant']),\n",
       " ('cat', ['dog', 'bird', 'lion', 'elephant']),\n",
       " ('bird', ['dog', 'cat', 'lion', 'elephant']),\n",
       " ('lion', ['dog', 'cat', 'bird', 'elephant']),\n",
       " ('elephant', ['dog', 'cat', 'bird', 'lion'])]"
      ]
     },
     "execution_count": 6,
     "metadata": {},
     "output_type": "execute_result"
    }
   ],
   "source": [
    "# all the animals but the \"current one\"\n",
    "[(animal,[a for a in animals if a!=animal]) for animal in animals]"
   ]
  },
  {
   "cell_type": "markdown",
   "metadata": {},
   "source": [
    "#  "
   ]
  },
  {
   "cell_type": "code",
   "execution_count": 7,
   "metadata": {},
   "outputs": [
    {
     "data": {
      "text/plain": [
       "[('dog', ['cat']),\n",
       " ('cat', ['dog']),\n",
       " ('bird', ['lion']),\n",
       " ('lion', ['bird']),\n",
       " ('elephant', [])]"
      ]
     },
     "execution_count": 7,
     "metadata": {},
     "output_type": "execute_result"
    }
   ],
   "source": [
    "# include only if they have same len (and are different from the current one)\n",
    "[(animal,[a for a in animals if (a!=animal) and (len(animal)==len(a))]) \n",
    " for animal in animals]"
   ]
  }
 ],
 "metadata": {
  "kernelspec": {
   "display_name": "Python 2",
   "language": "python",
   "name": "python2"
  },
  "language_info": {
   "codemirror_mode": {
    "name": "ipython",
    "version": 2
   },
   "file_extension": ".py",
   "mimetype": "text/x-python",
   "name": "python",
   "nbconvert_exporter": "python",
   "pygments_lexer": "ipython2",
   "version": "2.7.14"
  }
 },
 "nbformat": 4,
 "nbformat_minor": 2
}
