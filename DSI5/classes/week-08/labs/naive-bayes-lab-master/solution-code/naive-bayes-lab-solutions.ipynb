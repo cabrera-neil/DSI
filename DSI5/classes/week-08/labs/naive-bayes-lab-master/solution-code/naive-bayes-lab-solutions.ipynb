{
 "cells": [
  {
   "cell_type": "markdown",
   "metadata": {},
   "source": [
    "<img src=\"https://ga-dash.s3.amazonaws.com/production/assets/logo-9f88ae6c9c3871690e33280fcf557f33.png\" style=\"float: left; margin: 15px;\">\n",
    "\n",
    "## Naive Bayes Language Detection Lab\n",
    "\n",
    "_Author: David Yerrington (SF) _\n",
    "\n",
    "In this lab, we will use Naive Bayes (and other classifiers) to auto-detect the language of a given tweet. We will then assess the performance of our classifier."
   ]
  },
  {
   "cell_type": "code",
   "execution_count": 1,
   "metadata": {},
   "outputs": [],
   "source": [
    "import pandas as pd, seaborn as sns, numpy as np, matplotlib.pyplot as plt\n",
    "\n",
    "from sklearn.feature_extraction.text import CountVectorizer, TfidfTransformer, TfidfVectorizer \n",
    "from sklearn.feature_extraction.text import TfidfTransformer\n",
    "from sklearn.feature_extraction.text import TfidfVectorizer\n",
    "from sklearn.model_selection import learning_curve\n",
    "from sklearn.model_selection import train_test_split, cross_val_score, ShuffleSplit\n",
    "from sklearn.metrics import classification_report\n",
    "from sklearn.naive_bayes import MultinomialNB, BernoulliNB, GaussianNB\n",
    "from sklearn.linear_model import LogisticRegression\n",
    "\n",
    "from sklearn.pipeline import Pipeline\n",
    "\n",
    "%matplotlib inline\n",
    "\n",
    "sns.set_style(\"darkgrid\")"
   ]
  },
  {
   "cell_type": "code",
   "execution_count": 3,
   "metadata": {},
   "outputs": [],
   "source": [
    "tweets_df = pd.read_csv(\"../datasets/tweets_language.csv\", index_col=0)"
   ]
  },
  {
   "cell_type": "code",
   "execution_count": 4,
   "metadata": {
    "scrolled": true
   },
   "outputs": [
    {
     "name": "stdout",
     "output_type": "stream",
     "text": [
      "<class 'pandas.core.frame.DataFrame'>\n",
      "Index: 9431 entries, 0 to 9408\n",
      "Data columns (total 2 columns):\n",
      "LANG    9409 non-null object\n",
      "TEXT    9409 non-null object\n",
      "dtypes: object(2)\n",
      "memory usage: 221.0+ KB\n"
     ]
    }
   ],
   "source": [
    "tweets_df.info()"
   ]
  },
  {
   "cell_type": "code",
   "execution_count": 5,
   "metadata": {},
   "outputs": [],
   "source": [
    "# Note above that some rows are null, which we cannot use for training\n",
    "tweets_df = tweets_df.dropna()"
   ]
  },
  {
   "cell_type": "code",
   "execution_count": 6,
   "metadata": {},
   "outputs": [
    {
     "data": {
      "text/plain": [
       "9409"
      ]
     },
     "execution_count": 6,
     "metadata": {},
     "output_type": "execute_result"
    }
   ],
   "source": [
    "len(tweets_df)"
   ]
  },
  {
   "cell_type": "code",
   "execution_count": 7,
   "metadata": {},
   "outputs": [
    {
     "data": {
      "text/html": [
       "<div>\n",
       "<style scoped>\n",
       "    .dataframe tbody tr th:only-of-type {\n",
       "        vertical-align: middle;\n",
       "    }\n",
       "\n",
       "    .dataframe tbody tr th {\n",
       "        vertical-align: top;\n",
       "    }\n",
       "\n",
       "    .dataframe thead th {\n",
       "        text-align: right;\n",
       "    }\n",
       "</style>\n",
       "<table border=\"1\" class=\"dataframe\">\n",
       "  <thead>\n",
       "    <tr style=\"text-align: right;\">\n",
       "      <th></th>\n",
       "      <th>LANG</th>\n",
       "      <th>TEXT</th>\n",
       "    </tr>\n",
       "  </thead>\n",
       "  <tbody>\n",
       "    <tr>\n",
       "      <th>0</th>\n",
       "      <td>en</td>\n",
       "      <td>The #Yolo bailout: Greece's ex-finance chief h...</td>\n",
       "    </tr>\n",
       "    <tr>\n",
       "      <th>1</th>\n",
       "      <td>en</td>\n",
       "      <td>Another mental Saturday night. It will be near...</td>\n",
       "    </tr>\n",
       "    <tr>\n",
       "      <th>2</th>\n",
       "      <td>en</td>\n",
       "      <td>Sometimes you take bedtime selfies w yer hat s...</td>\n",
       "    </tr>\n",
       "    <tr>\n",
       "      <th>3</th>\n",
       "      <td>en</td>\n",
       "      <td>Currently just changed my entire outfit includ...</td>\n",
       "    </tr>\n",
       "    <tr>\n",
       "      <th>4</th>\n",
       "      <td>en</td>\n",
       "      <td>I just like listening to @SpotifyAU's top 100 ...</td>\n",
       "    </tr>\n",
       "  </tbody>\n",
       "</table>\n",
       "</div>"
      ],
      "text/plain": [
       "  LANG                                               TEXT\n",
       "0   en  The #Yolo bailout: Greece's ex-finance chief h...\n",
       "1   en  Another mental Saturday night. It will be near...\n",
       "2   en  Sometimes you take bedtime selfies w yer hat s...\n",
       "3   en  Currently just changed my entire outfit includ...\n",
       "4   en  I just like listening to @SpotifyAU's top 100 ..."
      ]
     },
     "execution_count": 7,
     "metadata": {},
     "output_type": "execute_result"
    }
   ],
   "source": [
    "tweets_df.head()"
   ]
  },
  {
   "cell_type": "markdown",
   "metadata": {},
   "source": [
    "### 1. Data exploration\n",
    "\n",
    "#### 1.A. Explore a list of tweet words that occur more than 50x\n",
    "Plot a histogram of some kind might be helpful."
   ]
  },
  {
   "cell_type": "code",
   "execution_count": 8,
   "metadata": {
    "scrolled": true
   },
   "outputs": [
    {
     "data": {
      "text/plain": [
       "<9409x229 sparse matrix of type '<class 'numpy.int64'>'\n",
       "\twith 51683 stored elements in Compressed Sparse Row format>"
      ]
     },
     "execution_count": 8,
     "metadata": {},
     "output_type": "execute_result"
    }
   ],
   "source": [
    "# Let's use the CountVectorizer to count words for us\n",
    "cvt      =  CountVectorizer(strip_accents='unicode',min_df=51)\n",
    "X_all    =  cvt.fit_transform(tweets_df['TEXT'])\n",
    "columns  =  np.array(cvt.get_feature_names())          # ndarray (for indexing below)\n",
    "\n",
    "# note this is a large sparse matrix. \n",
    "#    - rows are tweets, columns are words \n",
    "X_all"
   ]
  },
  {
   "cell_type": "code",
   "execution_count": 9,
   "metadata": {},
   "outputs": [
    {
     "name": "stdout",
     "output_type": "stream",
     "text": [
      "(9409, 229)\n",
      "Requires 2154661 ints to do a .toarray()!\n"
     ]
    }
   ],
   "source": [
    "# Converting X_all toarray() may use too much memory (particularly for 32-bit Python!)\n",
    "print(X_all.shape)\n",
    "print(\"Requires {} ints to do a .toarray()!\".format(X_all.shape[0] * X_all.shape[1]))\n",
    "\n",
    "# x_df     =  pd.DataFrame(X_all.toarray(), columns=columns)\n",
    "# tf_df    =  pd.DataFrame(x_df.sum(), columns=[\"freq\"])\n",
    "# tf_df.sort_values(\"freq\", ascending=False).head(10)"
   ]
  },
  {
   "cell_type": "code",
   "execution_count": 10,
   "metadata": {},
   "outputs": [
    {
     "data": {
      "text/plain": [
       "co        8544\n",
       "http      6093\n",
       "https     2658\n",
       "rt        2222\n",
       "love      1758\n",
       "dog       1219\n",
       "family    1082\n",
       "france    1032\n",
       "de         984\n",
       "us         951\n",
       "da         889\n",
       "peace      811\n",
       "yolo       742\n",
       "la         723\n",
       "earth      702\n",
       "in         604\n",
       "the        598\n",
       "planet     589\n",
       "math       473\n",
       "en         425\n",
       "dtype: int64"
      ]
     },
     "execution_count": 10,
     "metadata": {},
     "output_type": "execute_result"
    }
   ],
   "source": [
    "# So .. we'll use np.sum() to convert it directly from the sparse matrix!\n",
    "# This is enormously more memory-efficient ...\n",
    "#   It only requires one int per column since summing across columns is the total word count.\n",
    "\n",
    "def get_freq_words(sparse_counts, columns):\n",
    "    # X_all is a sparse matrix, so sum() returns a 'matrix' datatype ...\n",
    "    #   which we then convert into a 1-D ndarray for sorting\n",
    "    word_counts = np.asarray(X_all.sum(axis=0)).reshape(-1)\n",
    "\n",
    "    # argsort() returns smallest first, so we reverse the result\n",
    "    largest_count_indices = word_counts.argsort()[::-1]\n",
    "\n",
    "    # pretty-print the results! Remember to always ask whether they make sense ...\n",
    "    freq_words = pd.Series(word_counts[largest_count_indices], \n",
    "                           index=columns[largest_count_indices])\n",
    "\n",
    "    return freq_words\n",
    "\n",
    "\n",
    "freq_words = get_freq_words(X_all, columns)\n",
    "freq_words[:20]"
   ]
  },
  {
   "cell_type": "markdown",
   "metadata": {},
   "source": [
    "- Note above that many of the most common words actually may not be relevant to determining language!\n",
    "- Also, we are removing important features such as capitalization, punctuation, sentence length, etc. that might be important for determining language."
   ]
  },
  {
   "cell_type": "code",
   "execution_count": 11,
   "metadata": {},
   "outputs": [
    {
     "data": {
      "text/plain": [
       "<matplotlib.axes._subplots.AxesSubplot at 0x1a15af0908>"
      ]
     },
     "execution_count": 11,
     "metadata": {},
     "output_type": "execute_result"
    },
    {
     "data": {
      "image/png": "[encoded data removed]",
      "text/plain": [
       "<Figure size 432x288 with 1 Axes>"
      ]
     },
     "metadata": {},
     "output_type": "display_data"
    }
   ],
   "source": [
    "freq_words.hist(bins=20)"
   ]
  },
  {
   "cell_type": "markdown",
   "metadata": {},
   "source": [
    "#### 1.B. Investigate histogram of counts"
   ]
  },
  {
   "cell_type": "code",
   "execution_count": 12,
   "metadata": {},
   "outputs": [
    {
     "name": "stdout",
     "output_type": "stream",
     "text": [
      "co        8544\n",
      "http      6093\n",
      "https     2658\n",
      "rt        2222\n",
      "love      1758\n",
      "dog       1219\n",
      "family    1082\n",
      "france    1032\n",
      "de         984\n",
      "us         951\n",
      "dtype: int64\n"
     ]
    },
    {
     "data": {
      "image/png": "[encoded data removed]",
      "text/plain": [
       "<Figure size 864x432 with 3 Axes>"
      ]
     },
     "metadata": {},
     "output_type": "display_data"
    }
   ],
   "source": [
    "from sklearn.preprocessing import StandardScaler, minmax_scale\n",
    "\n",
    "def hist_counts(word_counts):\n",
    "    hist_counts = pd.Series(word_counts/len(tweets_df), \n",
    "                            index=word_counts.index)\n",
    "    \n",
    "    # Overall graph is hard to understand, so let's break it into three graphs\n",
    "    fig, axes = plt.subplots(nrows=1, ncols=3, figsize=(12,6))\n",
    "    \n",
    "    hist_counts.plot(kind=\"hist\", bins=20, ax=axes[0], title=\"Histogram - All\")\n",
    "    \n",
    "    # look at the range of extreme commons that seem to exist below .01\n",
    "    hist_counts[hist_counts < .01].plot(kind=\"hist\", ax=axes[2], title=\"Histogram - Counts < .01\")\n",
    "    \n",
    "    # There are a lot of really common tokens within 10% -- filter them out\n",
    "    hist_counts[hist_counts > .1].plot(kind=\"hist\", bins=20, ax=axes[1], title=\"Histogram - Counts > .1\")\n",
    "\n",
    "print(freq_words[:10])\n",
    "hist_counts(freq_words)"
   ]
  },
  {
   "cell_type": "markdown",
   "metadata": {},
   "source": [
    "#### 1.C. Try it again with stopword removal "
   ]
  },
  {
   "cell_type": "code",
   "execution_count": 13,
   "metadata": {},
   "outputs": [
    {
     "name": "stdout",
     "output_type": "stream",
     "text": [
      "http      6093\n",
      "https     2658\n",
      "rt        2222\n",
      "love      1758\n",
      "dog       1219\n",
      "family    1082\n",
      "france    1032\n",
      "da         889\n",
      "peace      811\n",
      "yolo       742\n",
      "dtype: int64\n"
     ]
    },
    {
     "data": {
      "image/png": "[encoded data removed]",
      "text/plain": [
       "<Figure size 864x432 with 3 Axes>"
      ]
     },
     "metadata": {},
     "output_type": "display_data"
    }
   ],
   "source": [
    "cvt      =  CountVectorizer(strip_accents='unicode', stop_words=\"english\", min_df=51)\n",
    "X_all    =  cvt.fit_transform(tweets_df['TEXT'])\n",
    "columns  =  np.array(cvt.get_feature_names())\n",
    "\n",
    "freq_words = get_freq_words(X_all, columns)\n",
    "\n",
    "print(freq_words[:10])\n",
    "hist_counts(freq_words)"
   ]
  },
  {
   "cell_type": "code",
   "execution_count": 14,
   "metadata": {},
   "outputs": [
    {
     "data": {
      "text/plain": [
       "(2248.1600000000008, 6086.336100000033)"
      ]
     },
     "execution_count": 14,
     "metadata": {},
     "output_type": "execute_result"
    }
   ],
   "source": [
    "# Checking range between .99 - .99999 -- there seem to be lots of words there\n",
    "freq_words.quantile(.99), freq_words.quantile(.99999)"
   ]
  },
  {
   "cell_type": "code",
   "execution_count": 15,
   "metadata": {},
   "outputs": [
    {
     "data": {
      "text/plain": [
       "gt                 145\n",
       "pet                144\n",
       "di                 143\n",
       "et                 142\n",
       "ukraine            139\n",
       "germany            139\n",
       "follow             139\n",
       "al                 138\n",
       "art                138\n",
       "anti               135\n",
       "se                 134\n",
       "du                 132\n",
       "nature             132\n",
       "es                 132\n",
       "pour               131\n",
       "para               130\n",
       "imperialist        129\n",
       "falseflag          129\n",
       "des                126\n",
       "world              119\n",
       "beautiful          117\n",
       "fun                117\n",
       "organic            115\n",
       "nasa               114\n",
       "friends            113\n",
       "mi                 111\n",
       "puppy              111\n",
       "sun                111\n",
       "una                109\n",
       "si                 108\n",
       "                  ... \n",
       "im                  56\n",
       "nice                55\n",
       "animals             55\n",
       "rocket              55\n",
       "vida                55\n",
       "great               55\n",
       "um                  54\n",
       "child               54\n",
       "swag                54\n",
       "photooftheday       54\n",
       "night               54\n",
       "parti               54\n",
       "injury              54\n",
       "ms                  54\n",
       "och                 54\n",
       "juicing             54\n",
       "cuff                54\n",
       "rotator             54\n",
       "organicleather      53\n",
       "dans                53\n",
       "cat                 53\n",
       "dogcollar           53\n",
       "dsep72kjpd          53\n",
       "hundehalsband       53\n",
       "amelie_officiel     53\n",
       "china               53\n",
       "green               52\n",
       "painting            52\n",
       "hits                52\n",
       "webradio            52\n",
       "Length: 156, dtype: int64"
      ]
     },
     "execution_count": 15,
     "metadata": {},
     "output_type": "execute_result"
    }
   ],
   "source": [
    "# find the %1, and %10 threshold for masking\n",
    "freq_words[(freq_words >= 10) & (freq_words <= 150)]"
   ]
  },
  {
   "cell_type": "markdown",
   "metadata": {},
   "source": [
    "#### 1.D. Explore ngrams between 2 and 4\n",
    "Display the top 75 ngrams with frequencies."
   ]
  },
  {
   "cell_type": "code",
   "execution_count": 16,
   "metadata": {
    "scrolled": false
   },
   "outputs": [
    {
     "name": "stdout",
     "output_type": "stream",
     "text": [
      "(188768,)\n"
     ]
    },
    {
     "data": {
      "text/plain": [
       "france http            193\n",
       "naturevalley planet    193\n",
       "da http                173\n",
       "love https             155\n",
       "silver junksilver      151\n",
       "dtype: int64"
      ]
     },
     "execution_count": 16,
     "metadata": {},
     "output_type": "execute_result"
    }
   ],
   "source": [
    "cvt = CountVectorizer(stop_words=\"english\", ngram_range=(2,4))\n",
    "X_all = cvt.fit_transform(tweets_df['TEXT'])\n",
    "columns  =  np.array(cvt.get_feature_names())\n",
    "\n",
    "freq_words = get_freq_words(X_all, columns)\n",
    "print(freq_words.shape)\n",
    "freq_words.head()"
   ]
  },
  {
   "cell_type": "markdown",
   "metadata": {},
   "source": [
    "#### 1.E. (Optional) try expanding the list of stopwords\n",
    "There are definitely some non-words such as web urls, etc. If you could remove them, this could help us improve the score.  Identify word/tokens that don't add much value to either class.  **You should additionally look at ngrams per language to fine tune your preprocessing.  This has the greatest potential to improve your results without tuning any model parameters.**\n",
    "\n",
    "Using `nltk.corpus`, we can get a baseline list of stop words.  Try to expand it and pass it to our vectorizer."
   ]
  },
  {
   "cell_type": "code",
   "execution_count": 17,
   "metadata": {},
   "outputs": [],
   "source": [
    "from nltk.corpus import stopwords\n",
    "stop = stopwords.words('english')\n",
    "stop += ['http', 'https', 'rt']"
   ]
  },
  {
   "cell_type": "code",
   "execution_count": 18,
   "metadata": {},
   "outputs": [
    {
     "data": {
      "text/plain": [
       "co        8544\n",
       "love      1758\n",
       "dog       1219\n",
       "family    1082\n",
       "france    1032\n",
       "de         984\n",
       "us         951\n",
       "da         889\n",
       "peace      811\n",
       "yolo       742\n",
       "la         723\n",
       "earth      702\n",
       "planet     589\n",
       "math       473\n",
       "en         425\n",
       "hund       333\n",
       "que        332\n",
       "vive       307\n",
       "silver     304\n",
       "un         304\n",
       "dtype: int64"
      ]
     },
     "execution_count": 18,
     "metadata": {},
     "output_type": "execute_result"
    }
   ],
   "source": [
    "# These look pretty clean for a first step in anlaysis\n",
    "cvt = CountVectorizer(stop_words=stop, lowercase=True, strip_accents=\"unicode\", ngram_range=(1,2))\n",
    "X_all = cvt.fit_transform(tweets_df['TEXT'])\n",
    "columns  =  np.array(cvt.get_feature_names())\n",
    "\n",
    "freq_words = get_freq_words(X_all, columns)\n",
    "freq_words[:20]"
   ]
  },
  {
   "cell_type": "markdown",
   "metadata": {},
   "source": [
    "### 2. Setup a test / train split of your data using any method you wish.\n",
    "Try 70/30 to start."
   ]
  },
  {
   "cell_type": "code",
   "execution_count": 19,
   "metadata": {},
   "outputs": [
    {
     "data": {
      "text/plain": [
       "(6586, 4657)"
      ]
     },
     "execution_count": 19,
     "metadata": {},
     "output_type": "execute_result"
    }
   ],
   "source": [
    "# Find our training size\n",
    "training_size = int(tweets_df.shape[0] * .7)\n",
    "\n",
    "# Randomly sample our training data\n",
    "tweets_train = tweets_df.sample(n=training_size, replace=True)\n",
    "\n",
    "# Capture the rest of the dataset that's not \"training\" using an inverse mask (rows NOT IN training dataframe)\n",
    "mask = tweets_df.index.isin(tweets_train.index)\n",
    "tweets_test = tweets_df[~mask]\n",
    "\n",
    "# Should be (2762, 1963) = training / testing = 70/30\n",
    "tweets_train.shape[0], tweets_test.shape[0]"
   ]
  },
  {
   "cell_type": "markdown",
   "metadata": {},
   "source": [
    "### 3. Setup a \"Pipeline\" to vectorize and use MultinomialNB classifier.\n",
    "Use `lowercase`, `strip_accents`, `Pipeline`, and optionally your updated `stop_words`.  Fit your comment data using the \"Insult\" feature as your response.\n",
    "\n",
    "Fit your training data to your pipeline, then score it."
   ]
  },
  {
   "cell_type": "code",
   "execution_count": 20,
   "metadata": {},
   "outputs": [
    {
     "data": {
      "text/plain": [
       "0.707751771526734"
      ]
     },
     "execution_count": 20,
     "metadata": {},
     "output_type": "execute_result"
    }
   ],
   "source": [
    "# MultinomialNB\n",
    "pipeline = Pipeline([\n",
    "    ('vect', CountVectorizer(lowercase=True, strip_accents='unicode', stop_words=stop)),\n",
    "    ('tfidf', TfidfTransformer()),\n",
    "    ('cls', MultinomialNB())\n",
    "]) \n",
    "pipeline.fit(tweets_train[\"TEXT\"], tweets_train[\"LANG\"])\n",
    "predicted = pipeline.predict(tweets_test[\"TEXT\"])\n",
    "pipeline.score(tweets_test[\"TEXT\"], tweets_test[\"LANG\"])"
   ]
  },
  {
   "cell_type": "code",
   "execution_count": 21,
   "metadata": {},
   "outputs": [
    {
     "data": {
      "text/plain": [
       "0.7526304487867727"
      ]
     },
     "execution_count": 21,
     "metadata": {},
     "output_type": "execute_result"
    }
   ],
   "source": [
    "# Alternative -- train on all data\n",
    "# MultinomialNB\n",
    "pipeline = Pipeline([\n",
    "    ('vect', cvt),\n",
    "    # ('tfidf', TfidfTransformer()),\n",
    "    ('cls', MultinomialNB())\n",
    "]) \n",
    "pipeline.fit(tweets_train[\"TEXT\"], tweets_train[\"LANG\"])\n",
    "predicted = pipeline.predict(tweets_test[\"TEXT\"])\n",
    "pipeline.score(tweets_test[\"TEXT\"], tweets_test[\"LANG\"])"
   ]
  },
  {
   "cell_type": "markdown",
   "metadata": {},
   "source": [
    "#### 3.A. Swap out MultinomialNB with BernoulliNB in the pipeline\n",
    "How do they compare? Do you have a guess of why BernoulliNB is so poor?"
   ]
  },
  {
   "cell_type": "code",
   "execution_count": 22,
   "metadata": {},
   "outputs": [
    {
     "data": {
      "text/plain": [
       "0.4105647412497316"
      ]
     },
     "execution_count": 22,
     "metadata": {},
     "output_type": "execute_result"
    }
   ],
   "source": [
    "# BernoulliNB\n",
    "pipeline = Pipeline([\n",
    "    ('vect', cvt),\n",
    "    ('tfidf', TfidfTransformer()), #by adding this we get +2%\n",
    "    ('cls', BernoulliNB())\n",
    "]) \n",
    "pipeline.fit(tweets_train[\"TEXT\"], tweets_train[\"LANG\"])\n",
    "predicted = pipeline.predict(tweets_test[\"TEXT\"])\n",
    "pipeline.score(tweets_test[\"TEXT\"], tweets_test[\"LANG\"])"
   ]
  },
  {
   "cell_type": "markdown",
   "metadata": {},
   "source": [
    "#### 3.B. Also try logistic regression and random forests in the pipeline\n",
    "How do they compare? Recall that Logistic Regression is discriminative whereas Naive Bayes is generative. Logistic Regression uses optimization to fit a formula that discriminates between the classes, whereas Naive Bayes essentially just computes aggregate statistics. So, Logistic Regression should have a longer training time than Naive Bayes -- does it here? (see `%time`)\n",
    "\n",
    "Note that Logistic Regression and Random Forests both allow you to see feature \"importance\"/coefficients. In this case, these coefficients will inform you how strong each word indicates a language. Optionally, see if you can sort these coefficients by their values to get the strongest and weakest indicator words for languages."
   ]
  },
  {
   "cell_type": "code",
   "execution_count": 23,
   "metadata": {},
   "outputs": [
    {
     "data": {
      "text/plain": [
       "0.7275069787416792"
      ]
     },
     "execution_count": 23,
     "metadata": {},
     "output_type": "execute_result"
    }
   ],
   "source": [
    "# LogisticRegression\n",
    "pipeline = Pipeline([\n",
    "    ('vect', cvt),\n",
    "    ('tfidf', TfidfTransformer()),\n",
    "    ('cls', LogisticRegression())\n",
    "]) \n",
    "pipeline.fit(tweets_train[\"TEXT\"], tweets_train[\"LANG\"])\n",
    "predicted = pipeline.predict(tweets_test[\"TEXT\"])\n",
    "pipeline.score(tweets_test[\"TEXT\"], tweets_test[\"LANG\"])"
   ]
  },
  {
   "cell_type": "code",
   "execution_count": 24,
   "metadata": {},
   "outputs": [
    {
     "name": "stderr",
     "output_type": "stream",
     "text": [
      "/Users/edoardo/anaconda2/envs/py36/lib/python3.6/site-packages/sklearn/ensemble/weight_boosting.py:29: DeprecationWarning: numpy.core.umath_tests is an internal NumPy module and should not be imported. It will be removed in a future NumPy release.\n",
      "  from numpy.core.umath_tests import inner1d\n"
     ]
    },
    {
     "data": {
      "text/plain": [
       "0.6972299763796436"
      ]
     },
     "execution_count": 24,
     "metadata": {},
     "output_type": "execute_result"
    }
   ],
   "source": [
    "from sklearn.ensemble import RandomForestClassifier\n",
    "\n",
    "# RF - 100\n",
    "pipeline = Pipeline([\n",
    "    ('vect', cvt),\n",
    "    ('tfidf', TfidfTransformer()),\n",
    "    ('rf', RandomForestClassifier(n_estimators=100))\n",
    "]) \n",
    "pipeline.fit(tweets_train[\"TEXT\"], tweets_train[\"LANG\"])\n",
    "predicted = pipeline.predict(tweets_test[\"TEXT\"])\n",
    "pipeline.score(tweets_test[\"TEXT\"], tweets_test[\"LANG\"])"
   ]
  },
  {
   "cell_type": "code",
   "execution_count": 25,
   "metadata": {},
   "outputs": [
    {
     "data": {
      "text/plain": [
       "0.692935366115525"
      ]
     },
     "execution_count": 25,
     "metadata": {},
     "output_type": "execute_result"
    }
   ],
   "source": [
    "# RF - 200\n",
    "pipeline = Pipeline([\n",
    "    ('vect', cvt),\n",
    "    ('tfidf', TfidfTransformer()),\n",
    "    ('rf', RandomForestClassifier(n_estimators=200))\n",
    "]) \n",
    "pipeline.fit(tweets_train[\"TEXT\"], tweets_train[\"LANG\"])\n",
    "predicted = pipeline.predict(tweets_test[\"TEXT\"])\n",
    "pipeline.score(tweets_test[\"TEXT\"], tweets_test[\"LANG\"])"
   ]
  },
  {
   "cell_type": "markdown",
   "metadata": {},
   "source": [
    "#### 3.C. Also try tweaking the paramters of CountVectorizer and TfidfTranformer\n",
    "\n",
    "Remove Tfidf also. Good / bad?"
   ]
  },
  {
   "cell_type": "code",
   "execution_count": 26,
   "metadata": {},
   "outputs": [
    {
     "data": {
      "text/plain": [
       "0.7579987116169208"
      ]
     },
     "execution_count": 26,
     "metadata": {},
     "output_type": "execute_result"
    }
   ],
   "source": [
    "cvt2 = CountVectorizer(stop_words=stop, lowercase=True, strip_accents=\"unicode\", ngram_range=(1,2))\n",
    "pipeline = Pipeline([\n",
    "    ('vect', cvt2),\n",
    "    # ('tfidf', TfidfTransformer()),\n",
    "    ('cls', LogisticRegression())\n",
    "]) \n",
    "pipeline.fit(tweets_train[\"TEXT\"], tweets_train[\"LANG\"])\n",
    "predicted = pipeline.predict(tweets_test[\"TEXT\"])\n",
    "pipeline.score(tweets_test[\"TEXT\"], tweets_test[\"LANG\"])"
   ]
  },
  {
   "cell_type": "code",
   "execution_count": 27,
   "metadata": {},
   "outputs": [
    {
     "data": {
      "text/plain": [
       "0.7159115310285592"
      ]
     },
     "execution_count": 27,
     "metadata": {},
     "output_type": "execute_result"
    }
   ],
   "source": [
    "pipeline = Pipeline([\n",
    "    ('vect', cvt),\n",
    "    #('tfidf', TfidfTransformer()),\n",
    "    ('rf', RandomForestClassifier(n_estimators=100))\n",
    "]) \n",
    "pipeline.fit(tweets_train[\"TEXT\"], tweets_train[\"LANG\"])\n",
    "predicted = pipeline.predict(tweets_test[\"TEXT\"])\n",
    "pipeline.score(tweets_test[\"TEXT\"], tweets_test[\"LANG\"])"
   ]
  },
  {
   "cell_type": "markdown",
   "metadata": {},
   "source": [
    "#  \n",
    "#  \n",
    "#  \n",
    "### 4. Check your score.\n",
    "Which languages does your model work best at? Run a classification report for all languages. [Plot AUC/ROC](../../week-04/2.3-evaluating_model_fit/code/AUC-ROC-codealong.ipynb) for particular languages (vs all others) and compare them -- do they show that some languages perform better? Does our model perform worse than guessing on some languages? Also, [review classfication reporting metrics](../../week-04/4.3-advanced-model_evaluation/code/starter-code/week4-4.1-classification-report.ipynb)."
   ]
  },
  {
   "cell_type": "code",
   "execution_count": 28,
   "metadata": {},
   "outputs": [
    {
     "data": {
      "text/plain": [
       "0.7526304487867727"
      ]
     },
     "execution_count": 28,
     "metadata": {},
     "output_type": "execute_result"
    }
   ],
   "source": [
    "pipeline = Pipeline([\n",
    "    ('vect', cvt),\n",
    "    # ('tfidf', TfidfTransformer()),\n",
    "    ('cls', MultinomialNB())\n",
    "]) \n",
    "pipeline.fit(tweets_train[\"TEXT\"], tweets_train[\"LANG\"])\n",
    "predicted = pipeline.predict(tweets_test[\"TEXT\"])\n",
    "pipeline.score(tweets_test[\"TEXT\"], tweets_test[\"LANG\"])"
   ]
  },
  {
   "cell_type": "code",
   "execution_count": 29,
   "metadata": {},
   "outputs": [
    {
     "data": {
      "text/plain": [
       "((4657, 2), 4657)"
      ]
     },
     "execution_count": 29,
     "metadata": {},
     "output_type": "execute_result"
    }
   ],
   "source": [
    "tweets_test.shape, len(predicted)"
   ]
  },
  {
   "cell_type": "code",
   "execution_count": 33,
   "metadata": {},
   "outputs": [
    {
     "name": "stdout",
     "output_type": "stream",
     "text": [
      "             precision    recall  f1-score   support\n",
      "\n",
      "         de       0.87      0.79      0.83       570\n",
      "         en       0.64      0.84      0.73       671\n",
      "         es       0.68      0.84      0.75       595\n",
      "         fr       0.83      0.85      0.84       569\n",
      "         it       0.78      0.67      0.72       441\n",
      "         pt       0.67      0.83      0.74       478\n",
      "         ru       0.82      0.83      0.82       363\n",
      "         sv       0.85      0.70      0.77       361\n",
      "         tl       0.00      0.00      0.00         2\n",
      "         uk       0.78      0.23      0.35        92\n",
      "        und       0.82      0.51      0.63       314\n",
      "         zh       0.92      0.39      0.55       201\n",
      "\n",
      "avg / total       0.77      0.75      0.75      4657\n",
      "\n"
     ]
    },
    {
     "name": "stderr",
     "output_type": "stream",
     "text": [
      "/Users/edoardo/anaconda2/envs/py36/lib/python3.6/site-packages/sklearn/metrics/classification.py:1135: UndefinedMetricWarning: Precision and F-score are ill-defined and being set to 0.0 in labels with no predicted samples.\n",
      "  'precision', 'predicted', average, warn_for)\n"
     ]
    }
   ],
   "source": [
    "predicted = pipeline.predict(tweets_test[\"TEXT\"])\n",
    "print(classification_report(tweets_test[\"LANG\"], predicted))"
   ]
  },
  {
   "cell_type": "code",
   "execution_count": 34,
   "metadata": {},
   "outputs": [],
   "source": [
    "def multi_roc(y, probs):\n",
    "    \n",
    "    mean_tpr = 0.0\n",
    "    mean_fpr = np.linspace(0, 1, 100)\n",
    "    all_tpr = []\n",
    "\n",
    "    for i, (train, test) in enumerate(cv):\n",
    "        # probas_ = classifier.fit(X[train], y[train]).predict_proba(X[test])\n",
    "        # Compute ROC curve and area the curve\n",
    "        fpr, tpr, thresholds = roc_curve(y[test], probas_[:, 1])\n",
    "        mean_tpr += interp(mean_fpr, fpr, tpr)\n",
    "        mean_tpr[0] = 0.0\n",
    "        roc_auc = auc(fpr, tpr)\n",
    "        plt.plot(fpr, tpr, lw=1, label='ROC fold %d (area = %0.2f)' % (i, roc_auc))\n",
    "\n",
    "    plt.plot([0, 1], [0, 1], '--', color=(0.6, 0.6, 0.6), label='Luck')\n",
    "\n",
    "    mean_tpr /= len(cv)\n",
    "    mean_tpr[-1] = 1.0\n",
    "    mean_auc = auc(mean_fpr, mean_tpr)\n",
    "    plt.plot(mean_fpr, mean_tpr, 'k--',\n",
    "             label='Mean ROC (area = %0.2f)' % mean_auc, lw=2)\n",
    "\n",
    "    plt.xlim([-0.05, 1.05])\n",
    "    plt.ylim([-0.05, 1.05])\n",
    "    plt.xlabel('False Positive Rate')\n",
    "    plt.ylabel('True Positive Rate')\n",
    "    plt.title('Receiver operating characteristic example')\n",
    "    plt.legend(loc=\"lower right\")\n",
    "    plt.show()"
   ]
  },
  {
   "cell_type": "code",
   "execution_count": 35,
   "metadata": {},
   "outputs": [],
   "source": [
    "from sklearn.metrics import roc_curve\n",
    "\n",
    "def plot_roc(y, probs, threshmarkers=None):\n",
    "    fpr, tpr, thresh = roc_curve(y, probs)\n",
    "\n",
    "    plt.figure(figsize=(8,8))\n",
    "    plt.plot(fpr, tpr, lw=2)\n",
    "   \n",
    "    plt.xlabel(\"False Positive Rate\\n(1 - Specificity)\")\n",
    "    plt.ylabel(\"True Positive Rate\\n(Sensitivity)\")\n",
    "    plt.xlim([-0.025, 1.025])\n",
    "    plt.ylim([-0.025, 1.025])\n",
    "    plt.xticks(np.linspace(0, 1, 21), rotation=45)\n",
    "    plt.yticks(np.linspace(0, 1, 21))\n",
    "    plt.show()"
   ]
  },
  {
   "cell_type": "code",
   "execution_count": 36,
   "metadata": {},
   "outputs": [
    {
     "data": {
      "image/png": "[encoded data removed]",
      "text/plain": [
       "<Figure size 576x576 with 1 Axes>"
      ]
     },
     "metadata": {},
     "output_type": "display_data"
    },
    {
     "data": {
      "image/png": "[encoded data removed]",
      "text/plain": [
       "<Figure size 576x576 with 1 Axes>"
      ]
     },
     "metadata": {},
     "output_type": "display_data"
    }
   ],
   "source": [
    "predicted_proba = pipeline.predict_proba(tweets_test['TEXT'])\n",
    "plot_roc(tweets_test['LANG'].apply(lambda x: x == \"en\"), predicted_proba[:, list(pipeline.classes_).index(\"en\")])\n",
    "plot_roc(tweets_test['LANG'].apply(lambda x: x == \"it\"), predicted_proba[:, list(pipeline.classes_).index(\"it\")])"
   ]
  },
  {
   "cell_type": "markdown",
   "metadata": {},
   "source": [
    "### 5 Check out your baseline.\n",
    "\n",
    "What is the chance that you will randomly guess correctly without any modeling? Assume the language of your input phrase has the same chance of appearing as the languages in your training set."
   ]
  },
  {
   "cell_type": "code",
   "execution_count": 37,
   "metadata": {},
   "outputs": [
    {
     "data": {
      "text/plain": [
       "0.08333333333333333"
      ]
     },
     "execution_count": 37,
     "metadata": {},
     "output_type": "execute_result"
    }
   ],
   "source": [
    "(tweets_train.LANG.value_counts() / len(tweets_train)).mean()"
   ]
  },
  {
   "cell_type": "markdown",
   "metadata": {},
   "source": [
    "### 6. What is your model not getting right?\n",
    "\n",
    "Check out the incorrectly classified tweets.  Any noticable patterns? Can you explain why many of these are incorrectly classified, given what you know about how Naive Bayes works?  Pay particular attention to the recall metric.  What might be done in preprocessing steps to improve accuracy?  \n",
    "\n",
    "- Try to improve with your **preprocessing first**\n",
    "- THEN try to tweak your **parameters to your model(s)**"
   ]
  },
  {
   "cell_type": "code",
   "execution_count": 44,
   "metadata": {},
   "outputs": [
    {
     "data": {
      "text/html": [
       "<div>\n",
       "<style scoped>\n",
       "    .dataframe tbody tr th:only-of-type {\n",
       "        vertical-align: middle;\n",
       "    }\n",
       "\n",
       "    .dataframe tbody tr th {\n",
       "        vertical-align: top;\n",
       "    }\n",
       "\n",
       "    .dataframe thead th {\n",
       "        text-align: right;\n",
       "    }\n",
       "</style>\n",
       "<table border=\"1\" class=\"dataframe\">\n",
       "  <thead>\n",
       "    <tr style=\"text-align: right;\">\n",
       "      <th></th>\n",
       "      <th>actual</th>\n",
       "      <th>predicted</th>\n",
       "      <th>TEXT</th>\n",
       "    </tr>\n",
       "  </thead>\n",
       "  <tbody>\n",
       "    <tr>\n",
       "      <th>3</th>\n",
       "      <td>en</td>\n",
       "      <td>sv</td>\n",
       "      <td>Currently just changed my entire outfit includ...</td>\n",
       "    </tr>\n",
       "    <tr>\n",
       "      <th>27</th>\n",
       "      <td>en</td>\n",
       "      <td>de</td>\n",
       "      <td>WordPress –  Promote   Professional Stock Phot...</td>\n",
       "    </tr>\n",
       "    <tr>\n",
       "      <th>29</th>\n",
       "      <td>en</td>\n",
       "      <td>de</td>\n",
       "      <td>@Sashaspringmann frick yea bro #yolo</td>\n",
       "    </tr>\n",
       "    <tr>\n",
       "      <th>31</th>\n",
       "      <td>en</td>\n",
       "      <td>pt</td>\n",
       "      <td>I just ate 1000 calories worth of junk in 3hou...</td>\n",
       "    </tr>\n",
       "    <tr>\n",
       "      <th>55</th>\n",
       "      <td>en</td>\n",
       "      <td>pt</td>\n",
       "      <td>RT @slutlykpeppa: gorge jst wnked in mummy pig...</td>\n",
       "    </tr>\n",
       "    <tr>\n",
       "      <th>77</th>\n",
       "      <td>en</td>\n",
       "      <td>fr</td>\n",
       "      <td>Watching Nixon's 1968 telethon. Is that more o...</td>\n",
       "    </tr>\n",
       "    <tr>\n",
       "      <th>79</th>\n",
       "      <td>en</td>\n",
       "      <td>es</td>\n",
       "      <td>RT @ADayAtDenison: Selfie Time! #yolo #leaders...</td>\n",
       "    </tr>\n",
       "    <tr>\n",
       "      <th>89</th>\n",
       "      <td>en</td>\n",
       "      <td>es</td>\n",
       "      <td>#yolo #swag #mlsallstar #MLS454 hotspur 4 - ML...</td>\n",
       "    </tr>\n",
       "    <tr>\n",
       "      <th>124</th>\n",
       "      <td>en</td>\n",
       "      <td>es</td>\n",
       "      <td>Smile #carp  #sorie #vive #disfruta http://t.c...</td>\n",
       "    </tr>\n",
       "    <tr>\n",
       "      <th>128</th>\n",
       "      <td>en</td>\n",
       "      <td>pt</td>\n",
       "      <td>#Vive Sano 🍃🍏📗 on Instagram: “#ViveSanoTips” h...</td>\n",
       "    </tr>\n",
       "    <tr>\n",
       "      <th>138</th>\n",
       "      <td>en</td>\n",
       "      <td>es</td>\n",
       "      <td>RT @VICOCENTENO: What beautiful place with my ...</td>\n",
       "    </tr>\n",
       "    <tr>\n",
       "      <th>139</th>\n",
       "      <td>en</td>\n",
       "      <td>de</td>\n",
       "      <td>RT @sitaram_thakare: Guidelines regarding gran...</td>\n",
       "    </tr>\n",
       "    <tr>\n",
       "      <th>152</th>\n",
       "      <td>en</td>\n",
       "      <td>es</td>\n",
       "      <td>\"Instagram #me\\n#vive \\n#ama \\n#crece\\n#cree\\n...</td>\n",
       "    </tr>\n",
       "    <tr>\n",
       "      <th>173</th>\n",
       "      <td>en</td>\n",
       "      <td>es</td>\n",
       "      <td>#world #travel #camera #angle #southamerica #v...</td>\n",
       "    </tr>\n",
       "    <tr>\n",
       "      <th>206</th>\n",
       "      <td>en</td>\n",
       "      <td>fr</td>\n",
       "      <td>#India and its expanding Indian Ocean strategy...</td>\n",
       "    </tr>\n",
       "    <tr>\n",
       "      <th>224</th>\n",
       "      <td>en</td>\n",
       "      <td>pt</td>\n",
       "      <td>#rehoboth #beach #al0ud #de #us #usa #summer #...</td>\n",
       "    </tr>\n",
       "    <tr>\n",
       "      <th>244</th>\n",
       "      <td>en</td>\n",
       "      <td>pt</td>\n",
       "      <td>Just as the #US love our tourism dollars as we...</td>\n",
       "    </tr>\n",
       "    <tr>\n",
       "      <th>247</th>\n",
       "      <td>en</td>\n",
       "      <td>pt</td>\n",
       "      <td>Same question. #Mammoth #california #US #meric...</td>\n",
       "    </tr>\n",
       "    <tr>\n",
       "      <th>249</th>\n",
       "      <td>en</td>\n",
       "      <td>und</td>\n",
       "      <td>#US. Slams #Russia 's 'Unpredictable, Irrespon...</td>\n",
       "    </tr>\n",
       "    <tr>\n",
       "      <th>295</th>\n",
       "      <td>en</td>\n",
       "      <td>it</td>\n",
       "      <td>RUSSIA SET TO REJECT #UNSC resolution to inves...</td>\n",
       "    </tr>\n",
       "    <tr>\n",
       "      <th>353</th>\n",
       "      <td>en</td>\n",
       "      <td>pt</td>\n",
       "      <td>RT @hoplabourer: \"There might be a planet like...</td>\n",
       "    </tr>\n",
       "    <tr>\n",
       "      <th>408</th>\n",
       "      <td>en</td>\n",
       "      <td>es</td>\n",
       "      <td>Put some #PLANET in ya life!!! @holiwud from B...</td>\n",
       "    </tr>\n",
       "    <tr>\n",
       "      <th>409</th>\n",
       "      <td>en</td>\n",
       "      <td>pt</td>\n",
       "      <td>Image of God or Planet of the Apes - http://t....</td>\n",
       "    </tr>\n",
       "    <tr>\n",
       "      <th>410</th>\n",
       "      <td>en</td>\n",
       "      <td>es</td>\n",
       "      <td>Put some #PLANET in ya life!!! @holiwud from B...</td>\n",
       "    </tr>\n",
       "    <tr>\n",
       "      <th>413</th>\n",
       "      <td>en</td>\n",
       "      <td>es</td>\n",
       "      <td>Put some #PLANET in ya life!!! @holiwud from B...</td>\n",
       "    </tr>\n",
       "    <tr>\n",
       "      <th>414</th>\n",
       "      <td>en</td>\n",
       "      <td>fr</td>\n",
       "      <td>Xamarin: Amazon Web Services Mobile SDKs for X...</td>\n",
       "    </tr>\n",
       "    <tr>\n",
       "      <th>415</th>\n",
       "      <td>en</td>\n",
       "      <td>es</td>\n",
       "      <td>#NatureValley #Planet backstage... http://t.co...</td>\n",
       "    </tr>\n",
       "    <tr>\n",
       "      <th>431</th>\n",
       "      <td>en</td>\n",
       "      <td>es</td>\n",
       "      <td>#NatureValley #Planet The Wrath of the Gods ht...</td>\n",
       "    </tr>\n",
       "    <tr>\n",
       "      <th>444</th>\n",
       "      <td>en</td>\n",
       "      <td>es</td>\n",
       "      <td>#NatureValley #Planet Sharp turn........... ht...</td>\n",
       "    </tr>\n",
       "    <tr>\n",
       "      <th>445</th>\n",
       "      <td>en</td>\n",
       "      <td>fr</td>\n",
       "      <td>#NatureValley #Planet Basking in the Sun.... h...</td>\n",
       "    </tr>\n",
       "    <tr>\n",
       "      <th>...</th>\n",
       "      <td>...</td>\n",
       "      <td>...</td>\n",
       "      <td>...</td>\n",
       "    </tr>\n",
       "    <tr>\n",
       "      <th>9235</th>\n",
       "      <td>it</td>\n",
       "      <td>uk</td>\n",
       "      <td>Attimi pensanti 🆒 #love #TagsForLikes.com #Tag...</td>\n",
       "    </tr>\n",
       "    <tr>\n",
       "      <th>9238</th>\n",
       "      <td>it</td>\n",
       "      <td>es</td>\n",
       "      <td>Mi ILY!  #Love #movilgrafias #igers_ #madridbu...</td>\n",
       "    </tr>\n",
       "    <tr>\n",
       "      <th>9243</th>\n",
       "      <td>it</td>\n",
       "      <td>pt</td>\n",
       "      <td>✨🌜😴 buona luna!!  #love #instagood #me #cute #...</td>\n",
       "    </tr>\n",
       "    <tr>\n",
       "      <th>9245</th>\n",
       "      <td>it</td>\n",
       "      <td>pt</td>\n",
       "      <td>Colore🍓🍀🌻🌺#love #instadaily #instagood #summer...</td>\n",
       "    </tr>\n",
       "    <tr>\n",
       "      <th>9247</th>\n",
       "      <td>it</td>\n",
       "      <td>es</td>\n",
       "      <td>La miglior risposta sempre??!! La nostra felic...</td>\n",
       "    </tr>\n",
       "    <tr>\n",
       "      <th>9254</th>\n",
       "      <td>it</td>\n",
       "      <td>es</td>\n",
       "      <td>Salonicco 🏰⛵️#instamoment #picoftheday #smile ...</td>\n",
       "    </tr>\n",
       "    <tr>\n",
       "      <th>9265</th>\n",
       "      <td>it</td>\n",
       "      <td>pt</td>\n",
       "      <td>Sempre.\\n\\n#hungergames #mockingjay #peeta #ka...</td>\n",
       "    </tr>\n",
       "    <tr>\n",
       "      <th>9268</th>\n",
       "      <td>it</td>\n",
       "      <td>pt</td>\n",
       "      <td>#Happiness #BirthdayGift #10euros 💰🎁 #love #Fa...</td>\n",
       "    </tr>\n",
       "    <tr>\n",
       "      <th>9269</th>\n",
       "      <td>it</td>\n",
       "      <td>zh</td>\n",
       "      <td>RT @Wowpiks: composizione\\n#popular #amazing #...</td>\n",
       "    </tr>\n",
       "    <tr>\n",
       "      <th>9272</th>\n",
       "      <td>it</td>\n",
       "      <td>zh</td>\n",
       "      <td>composizione\\n#popular #amazing #image #pictur...</td>\n",
       "    </tr>\n",
       "    <tr>\n",
       "      <th>9273</th>\n",
       "      <td>it</td>\n",
       "      <td>de</td>\n",
       "      <td>RT @wildehorse68: Guarda Joan Miro, 1894-1984'...</td>\n",
       "    </tr>\n",
       "    <tr>\n",
       "      <th>9278</th>\n",
       "      <td>it</td>\n",
       "      <td>es</td>\n",
       "      <td>\"@  SofiMacaggi: #hermanos #love https://t.co/...</td>\n",
       "    </tr>\n",
       "    <tr>\n",
       "      <th>9288</th>\n",
       "      <td>it</td>\n",
       "      <td>en</td>\n",
       "      <td>Me &amp;amp; you!!! #love #me&amp;amp;you #friends #fu...</td>\n",
       "    </tr>\n",
       "    <tr>\n",
       "      <th>9289</th>\n",
       "      <td>it</td>\n",
       "      <td>es</td>\n",
       "      <td>Aspettando le 24….🔝😍 @racoarianna @vavvatosc @...</td>\n",
       "    </tr>\n",
       "    <tr>\n",
       "      <th>9292</th>\n",
       "      <td>it</td>\n",
       "      <td>uk</td>\n",
       "      <td>#tortadejamon #Italy #Italo #italia #instahub ...</td>\n",
       "    </tr>\n",
       "    <tr>\n",
       "      <th>9306</th>\n",
       "      <td>it</td>\n",
       "      <td>es</td>\n",
       "      <td>RT @ilariamujer: \"Elevano l'ordinario a straor...</td>\n",
       "    </tr>\n",
       "    <tr>\n",
       "      <th>9307</th>\n",
       "      <td>it</td>\n",
       "      <td>pt</td>\n",
       "      <td>Buonanotte fiorellino  #welcomeludovica #goodn...</td>\n",
       "    </tr>\n",
       "    <tr>\n",
       "      <th>9310</th>\n",
       "      <td>it</td>\n",
       "      <td>es</td>\n",
       "      <td>La Familia in the N.O\\n.\\n.\\n.\\n#neworleans #n...</td>\n",
       "    </tr>\n",
       "    <tr>\n",
       "      <th>9312</th>\n",
       "      <td>it</td>\n",
       "      <td>und</td>\n",
       "      <td>Uconn Mens Soccer 2015. #family #brothers #Som...</td>\n",
       "    </tr>\n",
       "    <tr>\n",
       "      <th>9323</th>\n",
       "      <td>it</td>\n",
       "      <td>fr</td>\n",
       "      <td>La famiglia aumenta ancora e siamo a quota 12 ...</td>\n",
       "    </tr>\n",
       "    <tr>\n",
       "      <th>9325</th>\n",
       "      <td>it</td>\n",
       "      <td>de</td>\n",
       "      <td>Family all'opera 👨‍👩‍👧‍👧 #Sardegna #family #c'...</td>\n",
       "    </tr>\n",
       "    <tr>\n",
       "      <th>9330</th>\n",
       "      <td>it</td>\n",
       "      <td>en</td>\n",
       "      <td>#Pizza #Party #With #Family... #Last #Order 😂😍...</td>\n",
       "    </tr>\n",
       "    <tr>\n",
       "      <th>9336</th>\n",
       "      <td>it</td>\n",
       "      <td>fr</td>\n",
       "      <td>Layla-Mae #granddaughter #family #love #likefo...</td>\n",
       "    </tr>\n",
       "    <tr>\n",
       "      <th>9374</th>\n",
       "      <td>it</td>\n",
       "      <td>ru</td>\n",
       "      <td>33C calorcito, calorcito... ☀️😎 #summer #summe...</td>\n",
       "    </tr>\n",
       "    <tr>\n",
       "      <th>9377</th>\n",
       "      <td>it</td>\n",
       "      <td>pt</td>\n",
       "      <td>Bas mirchi khata hai!\\n#family  #instalike #in...</td>\n",
       "    </tr>\n",
       "    <tr>\n",
       "      <th>9391</th>\n",
       "      <td>it</td>\n",
       "      <td>pt</td>\n",
       "      <td>@luucianamoeller posted Bunogiorno!!!!🙆👪\\n#rom...</td>\n",
       "    </tr>\n",
       "    <tr>\n",
       "      <th>9394</th>\n",
       "      <td>it</td>\n",
       "      <td>en</td>\n",
       "      <td>💯💯💯💯 #family @ City of Palmetto https://t.co/r...</td>\n",
       "    </tr>\n",
       "    <tr>\n",
       "      <th>9399</th>\n",
       "      <td>it</td>\n",
       "      <td>und</td>\n",
       "      <td>Family Hotel Barcelo Karmina Palace Deluxe All...</td>\n",
       "    </tr>\n",
       "    <tr>\n",
       "      <th>9401</th>\n",
       "      <td>it</td>\n",
       "      <td>und</td>\n",
       "      <td>Sweet  Potato Quinoa Muffins. #life #Fun #Fabu...</td>\n",
       "    </tr>\n",
       "    <tr>\n",
       "      <th>9404</th>\n",
       "      <td>it</td>\n",
       "      <td>en</td>\n",
       "      <td>@frabilly Facce da pomodoro #salutidaexpo #exp...</td>\n",
       "    </tr>\n",
       "  </tbody>\n",
       "</table>\n",
       "<p>1225 rows × 3 columns</p>\n",
       "</div>"
      ],
      "text/plain": [
       "     actual predicted                                               TEXT\n",
       "3        en        sv  Currently just changed my entire outfit includ...\n",
       "27       en        de  WordPress –  Promote   Professional Stock Phot...\n",
       "29       en        de               @Sashaspringmann frick yea bro #yolo\n",
       "31       en        pt  I just ate 1000 calories worth of junk in 3hou...\n",
       "55       en        pt  RT @slutlykpeppa: gorge jst wnked in mummy pig...\n",
       "77       en        fr  Watching Nixon's 1968 telethon. Is that more o...\n",
       "79       en        es  RT @ADayAtDenison: Selfie Time! #yolo #leaders...\n",
       "89       en        es  #yolo #swag #mlsallstar #MLS454 hotspur 4 - ML...\n",
       "124      en        es  Smile #carp  #sorie #vive #disfruta http://t.c...\n",
       "128      en        pt  #Vive Sano 🍃🍏📗 on Instagram: “#ViveSanoTips” h...\n",
       "138      en        es  RT @VICOCENTENO: What beautiful place with my ...\n",
       "139      en        de  RT @sitaram_thakare: Guidelines regarding gran...\n",
       "152      en        es  \"Instagram #me\\n#vive \\n#ama \\n#crece\\n#cree\\n...\n",
       "173      en        es  #world #travel #camera #angle #southamerica #v...\n",
       "206      en        fr  #India and its expanding Indian Ocean strategy...\n",
       "224      en        pt  #rehoboth #beach #al0ud #de #us #usa #summer #...\n",
       "244      en        pt  Just as the #US love our tourism dollars as we...\n",
       "247      en        pt  Same question. #Mammoth #california #US #meric...\n",
       "249      en       und  #US. Slams #Russia 's 'Unpredictable, Irrespon...\n",
       "295      en        it  RUSSIA SET TO REJECT #UNSC resolution to inves...\n",
       "353      en        pt  RT @hoplabourer: \"There might be a planet like...\n",
       "408      en        es  Put some #PLANET in ya life!!! @holiwud from B...\n",
       "409      en        pt  Image of God or Planet of the Apes - http://t....\n",
       "410      en        es  Put some #PLANET in ya life!!! @holiwud from B...\n",
       "413      en        es  Put some #PLANET in ya life!!! @holiwud from B...\n",
       "414      en        fr  Xamarin: Amazon Web Services Mobile SDKs for X...\n",
       "415      en        es  #NatureValley #Planet backstage... http://t.co...\n",
       "431      en        es  #NatureValley #Planet The Wrath of the Gods ht...\n",
       "444      en        es  #NatureValley #Planet Sharp turn........... ht...\n",
       "445      en        fr  #NatureValley #Planet Basking in the Sun.... h...\n",
       "...     ...       ...                                                ...\n",
       "9235     it        uk  Attimi pensanti 🆒 #love #TagsForLikes.com #Tag...\n",
       "9238     it        es  Mi ILY!  #Love #movilgrafias #igers_ #madridbu...\n",
       "9243     it        pt  ✨🌜😴 buona luna!!  #love #instagood #me #cute #...\n",
       "9245     it        pt  Colore🍓🍀🌻🌺#love #instadaily #instagood #summer...\n",
       "9247     it        es  La miglior risposta sempre??!! La nostra felic...\n",
       "9254     it        es  Salonicco 🏰⛵️#instamoment #picoftheday #smile ...\n",
       "9265     it        pt  Sempre.\\n\\n#hungergames #mockingjay #peeta #ka...\n",
       "9268     it        pt  #Happiness #BirthdayGift #10euros 💰🎁 #love #Fa...\n",
       "9269     it        zh  RT @Wowpiks: composizione\\n#popular #amazing #...\n",
       "9272     it        zh  composizione\\n#popular #amazing #image #pictur...\n",
       "9273     it        de  RT @wildehorse68: Guarda Joan Miro, 1894-1984'...\n",
       "9278     it        es  \"@  SofiMacaggi: #hermanos #love https://t.co/...\n",
       "9288     it        en  Me &amp; you!!! #love #me&amp;you #friends #fu...\n",
       "9289     it        es  Aspettando le 24….🔝😍 @racoarianna @vavvatosc @...\n",
       "9292     it        uk  #tortadejamon #Italy #Italo #italia #instahub ...\n",
       "9306     it        es  RT @ilariamujer: \"Elevano l'ordinario a straor...\n",
       "9307     it        pt  Buonanotte fiorellino  #welcomeludovica #goodn...\n",
       "9310     it        es  La Familia in the N.O\\n.\\n.\\n.\\n#neworleans #n...\n",
       "9312     it       und  Uconn Mens Soccer 2015. #family #brothers #Som...\n",
       "9323     it        fr  La famiglia aumenta ancora e siamo a quota 12 ...\n",
       "9325     it        de  Family all'opera 👨‍👩‍👧‍👧 #Sardegna #family #c'...\n",
       "9330     it        en  #Pizza #Party #With #Family... #Last #Order 😂😍...\n",
       "9336     it        fr  Layla-Mae #granddaughter #family #love #likefo...\n",
       "9374     it        ru  33C calorcito, calorcito... ☀️😎 #summer #summe...\n",
       "9377     it        pt  Bas mirchi khata hai!\\n#family  #instalike #in...\n",
       "9391     it        pt  @luucianamoeller posted Bunogiorno!!!!🙆👪\\n#rom...\n",
       "9394     it        en  💯💯💯💯 #family @ City of Palmetto https://t.co/r...\n",
       "9399     it       und  Family Hotel Barcelo Karmina Palace Deluxe All...\n",
       "9401     it       und  Sweet  Potato Quinoa Muffins. #life #Fun #Fabu...\n",
       "9404     it        en  @frabilly Facce da pomodoro #salutidaexpo #exp...\n",
       "\n",
       "[1225 rows x 3 columns]"
      ]
     },
     "execution_count": 44,
     "metadata": {},
     "output_type": "execute_result"
    }
   ],
   "source": [
    "predicted = pipeline.predict(tweets_df[\"TEXT\"])\n",
    "\n",
    "# Incorrectly classified\n",
    "incorrect_preds = tweets_df[(predicted != tweets_df['LANG'])]\n",
    "\n",
    "incorrect_df = pd.DataFrame({'actual': incorrect_preds['LANG'], \n",
    "                             'predicted': predicted[incorrect_preds.index.values.astype(int)],\n",
    "                             'TEXT': incorrect_preds['TEXT']})\n",
    "\n",
    "incorrect_df"
   ]
  },
  {
   "cell_type": "markdown",
   "metadata": {},
   "source": [
    "## Additional Practice\n",
    "In the datasets directory are two additional datasets you can use for additional pratice:\n",
    "\n",
    "- **/datasets/tweets_sentiment.csv** - Sentiment analysis\n",
    "\n",
    "- **/datasets/insults_train.csv** - [Kaggle dataset](https://www.kaggle.com/c/detecting-insults-in-social-commentary). _WARNING:_ This content is fairly provacative and contains very offensive and insensitive words. However, this type of problem is very common in the continuum of comment threads throughout the web.\n",
    "\n",
    "    - Check [this blog post](http://webmining.olariu.org/my-first-kaggle-competition-and-how-i-ranked/) by a guy who used SVM, a \"neural network\", a ton of cleaning, then placed 3rd in a Kaggle competition featuing this same dataset. Also see [this blog post](http://peekaboo-vision.blogspot.de/2012/09/recap-of-my-first-kaggle-competition.html) -- he got 6th place and found the best model was a simple Logistic Regression!\n",
    "\n",
    "#### Where Next?\n",
    "\n",
    "If you're interested in this type of problem, a great area to read up on is sentiment analysis.  This [Kaggle dataset](https://www.kaggle.com/c/sentiment-analysis-on-movie-reviews/data) is an excellent opportunity to practice more.  Also these whitepapers are great places to expand on this topic:\n",
    "\n",
    "- [Fast and accurate sentiment classification using an\n",
    "enhanced Naive Bayes model](http://arxiv.org/pdf/1305.6143.pdf) *Great overview!*\n",
    "- [Sarcasm Detection](http://www.aclweb.org/anthology/P15-2124)\n",
    "- [Making Computers Laugh:\n",
    "Investigations in Automatic Humor Recognition](http://www.aclweb.org/anthology/H05-1067)\n",
    "- [Modelling Sarcasm in Twitter, a Novel Approach](http://www.aclweb.org/anthology/W14-2609)\n",
    "- [RUNNING HEAD: NARCISSISM AND LIE DETECTION](https://deepblue.lib.umich.edu/bitstream/handle/2027.42/107345/zarins.finalthesis.pdf?sequence=1) *The study metrics are interesting*"
   ]
  },
  {
   "cell_type": "code",
   "execution_count": null,
   "metadata": {},
   "outputs": [],
   "source": []
  }
 ],
 "metadata": {
  "anaconda-cloud": {},
  "kernelspec": {
   "display_name": "Python 3",
   "language": "python",
   "name": "python3"
  },
  "language_info": {
   "codemirror_mode": {
    "name": "ipython",
    "version": 3
   },
   "file_extension": ".py",
   "mimetype": "text/x-python",
   "name": "python",
   "nbconvert_exporter": "python",
   "pygments_lexer": "ipython3",
   "version": "3.6.6"
  }
 },
 "nbformat": 4,
 "nbformat_minor": 1
}
