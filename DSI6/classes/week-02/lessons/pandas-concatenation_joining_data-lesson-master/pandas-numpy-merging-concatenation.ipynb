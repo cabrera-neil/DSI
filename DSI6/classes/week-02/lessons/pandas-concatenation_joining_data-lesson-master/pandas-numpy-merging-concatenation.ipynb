{
 "cells": [
  {
   "cell_type": "markdown",
   "metadata": {},
   "source": [
    "<img src=\"http://imgur.com/1ZcRyrc.png\" style=\"float: left; margin: 20px; height: 55px\">\n",
    "\n",
    "## Merging and Concatenation with `numpy` and `pandas`\n",
    "\n",
    "_Authors: Kiefer Katovich (SF)_\n",
    "\n",
    "---\n"
   ]
  },
  {
   "cell_type": "markdown",
   "metadata": {},
   "source": [
    "### Learning Objectives\n",
    "- Understand the use cases of concatenation of vectors, matrices, and DataFrames.\n",
    "- Practice concatenating vectors and matrices using `numpy`.\n",
    "- Practice concatenating DataFrames using `pandas`.\n",
    "- Join `pandas` DataFrames using SQL-style JOIN operations."
   ]
  },
  {
   "cell_type": "markdown",
   "metadata": {},
   "source": [
    "### Lesson Guide\n",
    "- [Overview of Concatenation and Joining](#introduction)\n",
    "- [Concatenation using `numpy`](#numpy_concatenation)\n",
    "- [Concatenation using `pandas`](#pandas_concatenation)\n",
    "- [SQL-style JOINs using `pandas`](#pandas_joins)"
   ]
  },
  {
   "cell_type": "markdown",
   "metadata": {},
   "source": [
    "<a id='introduction'></a>\n",
    "\n",
    "### Overview of Concatenation and Joining\n",
    "\n",
    "---\n",
    "\n",
    "**Concatenation** is the process of joining separate objects along a dimension to create a new single object. In\n",
    "computer programming and data processing, two or more character strings are sometimes concatenated for the purpose of saving space or so that they can be addressed as a single item.\n",
    "\n",
    "In `pandas`, we will be concatenating DataFrames together along rows or columns. Likewise, in `numpy`, you can concatenate vectors and matrices along an axis.\n",
    "\n",
    "**JOINs** with `pandas` happen when columns of two DataFrames are joined together on an index or key column. The concept is the same as SQL JOINs. In `pandas`, JOINs are typically accomplished using the `.merge()` function. \n",
    "\n",
    "Here is a representation of LEFT, RIGHT, INNER, and OUTER JOINs in Venn diagrams:\n",
    "\n",
    "![](./assets/joins.png)"
   ]
  },
  {
   "cell_type": "markdown",
   "metadata": {},
   "source": [
    "<a id='numpy_concatenation'></a>\n",
    "\n",
    "### Concatenation Using `numpy`\n",
    "\n",
    "---\n",
    "\n",
    "Concatenating vectors and matrices in `numpy` is a common operation that's useful to know. Because `pandas` uses `numpy` under the hood, concatenation in `pandas` is essentially equivalent to concatenation in `numpy`.\n"
   ]
  },
  {
   "cell_type": "code",
   "execution_count": null,
   "metadata": {
    "collapsed": true
   },
   "outputs": [],
   "source": [
    "import numpy as np\n",
    "import pandas as pd"
   ]
  },
  {
   "cell_type": "code",
   "execution_count": null,
   "metadata": {
    "collapsed": true
   },
   "outputs": [],
   "source": [
    "vector1 = np.array([1,2,3,4])\n",
    "vector2 = np.array([5,6,7,8])"
   ]
  },
  {
   "cell_type": "markdown",
   "metadata": {},
   "source": [
    "#### Concatenate `vector1` and `vector2` together with `np.concatenate()`.\n",
    "\n",
    "**Note**: Unlike Python lists, you cannot simply add two `numpy` vectors together and expect them to concatenate. The addition operator has a different meaning in `numpy` (i.e., element-wise addition)."
   ]
  },
  {
   "cell_type": "code",
   "execution_count": null,
   "metadata": {},
   "outputs": [],
   "source": [
    "# Concatenate the vectors"
   ]
  },
  {
   "cell_type": "markdown",
   "metadata": {},
   "source": [
    "Our two arrays are one-dimensional. We can make them two-dimensional by adding an axis with `np.newaxis`. (This is one of the many ways to perform this action).\n",
    "\n",
    "#### Add a new axis to `vector1` to make it two-dimensional. Print out the shape to verify."
   ]
  },
  {
   "cell_type": "code",
   "execution_count": null,
   "metadata": {},
   "outputs": [],
   "source": [
    "# Add a dimension to the vector"
   ]
  },
  {
   "cell_type": "markdown",
   "metadata": {},
   "source": [
    "There is a big difference between a vector of shape `(4,)` and another vector with shape `(4,1)`. Especially when it comes to matrix multiplications and linear algebra. Numpy prefers to operate with Vectors of shape `(R,1)` where `R` is Rows. "
   ]
  },
  {
   "cell_type": "markdown",
   "metadata": {},
   "source": [
    "Alternatively, put the new axis in the first position:"
   ]
  },
  {
   "cell_type": "code",
   "execution_count": null,
   "metadata": {},
   "outputs": [],
   "source": [
    "# Add a dimension in another axis to the vector"
   ]
  },
  {
   "cell_type": "markdown",
   "metadata": {},
   "source": [
    "With 2D (and above) matrices, concatenation must be performed along an **axis**. With a two-dimensional matrix, you can think of concatenating along `axis 0` as stacking vertically, and concatenation along `axis 1` as stacking horizontally.\n",
    "\n",
    "#### Make `vector1` and `vector2` 2D. Concatenate them vertically and horizontally by specifying the axis in the function."
   ]
  },
  {
   "cell_type": "code",
   "execution_count": null,
   "metadata": {},
   "outputs": [],
   "source": [
    "# Make the vectors 2D and join them along both axes "
   ]
  },
  {
   "cell_type": "markdown",
   "metadata": {},
   "source": [
    "<a id='pandas_concatenation'></a>\n",
    "\n",
    "### Concatenation using `pandas`\n",
    "\n",
    "---\n",
    "\n",
    "Oftentimes, you'll want to concatenate two DataFrames together. Perhaps your data is split up into two groups of subjects with the same variables/columns and you want to join them together (stacking vertically — i.e., adding rows). Or, perhaps you want to add new variables for all of your existing subjects (stacking horizontally — i.e. adding columns).\n",
    "\n",
    "Below we have two simple data sets we can use to practice `pandas` concatenation."
   ]
  },
  {
   "cell_type": "code",
   "execution_count": null,
   "metadata": {
    "collapsed": true
   },
   "outputs": [],
   "source": [
    "df1 = pd.DataFrame({'A': ['A0', 'A1', 'A2', 'A3'],\n",
    "                    'B': ['B0', 'B1', 'B2', 'B3'],\n",
    "                    'C': ['C0', 'C1', 'C2', 'C3'],\n",
    "                    'D': ['D0', 'D1', 'D2', 'D3']},\n",
    "                    index=[0, 1, 2, 3])\n",
    "\n",
    "df2 = pd.DataFrame({'A': ['A4', 'A5', 'A6', 'A7'],\n",
    "                    'B': ['B4', 'B5', 'B6', 'B7'],\n",
    "                    'C': ['C4', 'C5', 'C6', 'C7'],\n",
    "                    'D': ['D4', 'D5', 'D6', 'D7']},\n",
    "                    index=[4, 5, 6, 7])"
   ]
  },
  {
   "cell_type": "markdown",
   "metadata": {},
   "source": [
    "In `pandas`, we can use the `.pd.concat()` function to stack DataFrames vertically or horizontally. `pd.concat()` takes a list of `pandas` DataFrames as its first argument, then an axis keyword argument indicating how to concatenate the DataFrames. \n",
    "\n",
    "The axis argument works the same as in `numpy`.\n",
    "\n",
    "**Concatenate `df1` and `df2` by stacking them vertically.**"
   ]
  },
  {
   "cell_type": "code",
   "execution_count": null,
   "metadata": {},
   "outputs": [],
   "source": [
    "# Vertical concatenation"
   ]
  },
  {
   "cell_type": "markdown",
   "metadata": {},
   "source": [
    "**Concatenate `df1` and `df2` by stacking them horizontally.**"
   ]
  },
  {
   "cell_type": "code",
   "execution_count": null,
   "metadata": {},
   "outputs": [],
   "source": [
    "# Horizontal concatenation"
   ]
  },
  {
   "cell_type": "markdown",
   "metadata": {},
   "source": [
    "You can see that, because the `pandas` indices are different for the two DataFrames, the function fills the empty cells with null values. Perhaps we don't care about the row labels during the horizontal concatenation. If you reset the index for `df2` prior to concatenation, it will not fill in null values:"
   ]
  },
  {
   "cell_type": "code",
   "execution_count": null,
   "metadata": {},
   "outputs": [],
   "source": [
    "# Horizontal concatenation ignoring row labels"
   ]
  },
  {
   "cell_type": "markdown",
   "metadata": {},
   "source": [
    "<a id='pandas_joins'></a>\n",
    "\n",
    "### LEFT, RIGHT, INNER, and OUTER JOINs in `pandas`\n",
    "\n",
    "---\n",
    "\n",
    "The `pandas` `.merge()` function allows us to join together DataFrames using columns as keys.\n",
    "\n",
    "The same walk through can be found [here](http://chrisalbon.com/python/pandas_join_merge_dataframe.html).\n",
    "\n",
    "Below we have two DataFrames with information on `subject_id`, `first_name`, and `last_name`. We also have a third DataFrame with information on `subject_id` and `test_id`."
   ]
  },
  {
   "cell_type": "code",
   "execution_count": null,
   "metadata": {},
   "outputs": [],
   "source": [
    "raw_data = {\n",
    "        'subject_id': ['1', '2', '3', '4', '5'],\n",
    "        'first_name': ['Alex', 'Amy', 'Allen', 'Alice', 'Ayoung'],\n",
    "        'last_name': ['Anderson', 'Ackerman', 'Ali', 'Aoni', 'Atiches']}\n",
    "df_a = pd.DataFrame(raw_data)\n",
    "df_a"
   ]
  },
  {
   "cell_type": "code",
   "execution_count": null,
   "metadata": {},
   "outputs": [],
   "source": [
    "raw_data = {\n",
    "        'subject_id': ['4', '5', '6', '7', '8'],\n",
    "        'first_name': ['Billy', 'Brian', 'Bran', 'Bryce', 'Betty'],\n",
    "        'last_name': ['Bonder', 'Black', 'Balwner', 'Brice', 'Btisan']}\n",
    "df_b = pd.DataFrame(raw_data)\n",
    "df_b"
   ]
  },
  {
   "cell_type": "code",
   "execution_count": null,
   "metadata": {},
   "outputs": [],
   "source": [
    "raw_data = {\n",
    "        'subject_id': ['1', '2', '3', '4', '5', '7', '8', '9', '10', '11'],\n",
    "        'test_id': [51, 15, 15, 61, 16, 14, 15, 1, 61, 16]}\n",
    "df_n = pd.DataFrame(raw_data)\n",
    "df_n"
   ]
  },
  {
   "cell_type": "markdown",
   "metadata": {},
   "source": [
    "#### `pandas` `.pd.merge()` for SQL-style JOINs\n",
    "\n",
    "A LEFT JOIN produces a complete set of records from `df_a`, along with the matching records (where available) in `df_b`. If there is no match, the right side will contain null.\n",
    "\n",
    "The `pandas` `.pd.merge()` command has arguments for:\n",
    "- A left-hand data set.\n",
    "- A right-hand data set.\n",
    "- `on=` : A keyword argument specifying the key column on which to join the DataFrames.\n",
    "- `how=` : A keyword argument specifying the type of JOIN (LEFT, RIGHT, INNER, OUTER).\n",
    "\n",
    "#### LEFT JOIN `df_b` onto `df_a` by `subject_id`."
   ]
  },
  {
   "cell_type": "code",
   "execution_count": null,
   "metadata": {},
   "outputs": [],
   "source": [
    "# left join"
   ]
  },
  {
   "cell_type": "markdown",
   "metadata": {},
   "source": [
    "#### RIGHT JOIN `df_b` onto `df_a` by `subject_id`.\n",
    "\n",
    "Merging with a RIGHT JOIN produces a complete set of records from `df_b`, along with the matching records (where available) in `df_a`. If there is no match, the left side will contain null.\n"
   ]
  },
  {
   "cell_type": "code",
   "execution_count": null,
   "metadata": {},
   "outputs": [],
   "source": [
    "# right join"
   ]
  },
  {
   "cell_type": "markdown",
   "metadata": {},
   "source": [
    "#### OUTER JOIN `df_b` onto `df_a` by `subject_id`.\n",
    "\n",
    "An OUTER JOIN produces the set of all records in `df_a` and `df_b`, along with matching records from both sides (where available). If there is no match, the missing side will contain null."
   ]
  },
  {
   "cell_type": "code",
   "execution_count": null,
   "metadata": {},
   "outputs": [],
   "source": [
    "# outer join"
   ]
  },
  {
   "cell_type": "markdown",
   "metadata": {},
   "source": [
    "#### INNER JOIN `df_b` onto `df_a` by `subject_id`.\n",
    "\n",
    "An INNER JOIN produces only the set of records that matches in both `df_a` and `df_b`."
   ]
  },
  {
   "cell_type": "code",
   "execution_count": null,
   "metadata": {},
   "outputs": [],
   "source": [
    "# inner join"
   ]
  },
  {
   "cell_type": "markdown",
   "metadata": {},
   "source": [
    "#### Combine the information in `df_a`, `df_b`, and `df_n` using JOINs.\n",
    "\n",
    "No information should be lost."
   ]
  },
  {
   "cell_type": "code",
   "execution_count": null,
   "metadata": {},
   "outputs": [],
   "source": [
    "# A:"
   ]
  },
  {
   "cell_type": "markdown",
   "metadata": {},
   "source": [
    "#### Combine the information in the three data sets only where information is contained in all rows of the output."
   ]
  },
  {
   "cell_type": "code",
   "execution_count": null,
   "metadata": {},
   "outputs": [],
   "source": [
    "# A:"
   ]
  },
  {
   "cell_type": "markdown",
   "metadata": {},
   "source": [
    "### Additional Resources\n",
    "[Vector Shapes: (4, ) vs (4,1)](http://stackoverflow.com/questions/22053050/difference-between-numpy-array-shape-r-1-and-r)"
   ]
  },
  {
   "cell_type": "code",
   "execution_count": null,
   "metadata": {
    "collapsed": true
   },
   "outputs": [],
   "source": []
  }
 ],
 "metadata": {
  "anaconda-cloud": {},
  "kernelspec": {
   "display_name": "Python 2",
   "language": "python",
   "name": "python2"
  },
  "language_info": {
   "codemirror_mode": {
    "name": "ipython",
    "version": 2
   },
   "file_extension": ".py",
   "mimetype": "text/x-python",
   "name": "python",
   "nbconvert_exporter": "python",
   "pygments_lexer": "ipython2",
   "version": "2.7.14"
  }
 },
 "nbformat": 4,
 "nbformat_minor": 1
}
