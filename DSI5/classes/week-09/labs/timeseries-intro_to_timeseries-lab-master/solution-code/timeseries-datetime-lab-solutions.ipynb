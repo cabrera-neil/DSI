{
 "cells": [
  {
   "cell_type": "markdown",
   "metadata": {},
   "source": [
    "<img src=\"http://imgur.com/1ZcRyrc.png\" style=\"float: left; margin: 20px; height: 55px\">\n",
    "\n",
    "# Practice Using Time Series Data and Datetime\n",
    "\n",
    "_Authors: Samuel Stack (DC)_\n",
    "\n",
    "---\n",
    "\n",
    "This lab covers the basics of manipulating datetime objects and using datetimes in Pandas."
   ]
  },
  {
   "cell_type": "markdown",
   "metadata": {},
   "source": [
    "### 1) Create a datetime object representing today's date."
   ]
  },
  {
   "cell_type": "code",
   "execution_count": 1,
   "metadata": {},
   "outputs": [],
   "source": [
    "from datetime import datetime\n",
    "from datetime import timedelta\n",
    "\n",
    "# Time this lesson plan was written:\n",
    "lesson_date = datetime(2018, 4, 30)"
   ]
  },
  {
   "cell_type": "code",
   "execution_count": 2,
   "metadata": {},
   "outputs": [
    {
     "data": {
      "text/plain": [
       "datetime.datetime(2018, 4, 30, 0, 0)"
      ]
     },
     "execution_count": 2,
     "metadata": {},
     "output_type": "execute_result"
    }
   ],
   "source": [
    "lesson_date"
   ]
  },
  {
   "cell_type": "markdown",
   "metadata": {},
   "source": [
    "### 2) Write a function to print the day of the week for a datetime object."
   ]
  },
  {
   "cell_type": "code",
   "execution_count": 3,
   "metadata": {},
   "outputs": [
    {
     "data": {
      "text/plain": [
       "'monday'"
      ]
     },
     "execution_count": 3,
     "metadata": {},
     "output_type": "execute_result"
    }
   ],
   "source": [
    "# This is similar to what Pandas .dt. already uses. Neat, huh?\n",
    "def day_of_week(date):\n",
    "#     days_of_week = {0: 'monday', \n",
    "#                     1: 'tuesday', \n",
    "#                     2: 'wednesday', \n",
    "#                     3: 'thursday', \n",
    "#                     4: 'friday', \n",
    "#                     5: 'saturday', \n",
    "#                     6: 'sunday'}\n",
    "    days_of_week = dict(zip(range(7), ['monday','tuesday','wednesday','thursday','friday','saturday','sunday']))\n",
    "    return days_of_week[date.weekday()]\n",
    "\n",
    "day_of_week(lesson_date)"
   ]
  },
  {
   "cell_type": "markdown",
   "metadata": {},
   "source": [
    "### 3) What is the Gregorian ordinal representation of today's date? What is the difference in days between the ordinal representation of today's date and the ordinal representation of your birthday?\n",
    "\n",
    "> *Hint: Use `.toordinal()` to get the ordinal representation. This calculates the number of days between your birthday and today's date."
   ]
  },
  {
   "cell_type": "code",
   "execution_count": 4,
   "metadata": {},
   "outputs": [
    {
     "data": {
      "text/plain": [
       "1"
      ]
     },
     "execution_count": 4,
     "metadata": {},
     "output_type": "execute_result"
    }
   ],
   "source": [
    "datetime(1, 1, 1).toordinal()"
   ]
  },
  {
   "cell_type": "code",
   "execution_count": 5,
   "metadata": {},
   "outputs": [
    {
     "ename": "ValueError",
     "evalue": "year -1200 is out of range",
     "output_type": "error",
     "traceback": [
      "\u001b[0;31m---------------------------------------------------------------------------\u001b[0m",
      "\u001b[0;31mValueError\u001b[0m                                Traceback (most recent call last)",
      "\u001b[0;32m<ipython-input-5-294c74a165a7>\u001b[0m in \u001b[0;36m<module>\u001b[0;34m()\u001b[0m\n\u001b[0;32m----> 1\u001b[0;31m \u001b[0mdatetime\u001b[0m\u001b[0;34m(\u001b[0m\u001b[0;34m-\u001b[0m\u001b[0;36m1200\u001b[0m\u001b[0;34m,\u001b[0m \u001b[0;36m1\u001b[0m\u001b[0;34m,\u001b[0m \u001b[0;36m1\u001b[0m\u001b[0;34m)\u001b[0m\u001b[0;34m.\u001b[0m\u001b[0mtoordinal\u001b[0m\u001b[0;34m(\u001b[0m\u001b[0;34m)\u001b[0m\u001b[0;34m\u001b[0m\u001b[0m\n\u001b[0m",
      "\u001b[0;31mValueError\u001b[0m: year -1200 is out of range"
     ]
    }
   ],
   "source": [
    "datetime(-1200, 1, 1).toordinal()"
   ]
  },
  {
   "cell_type": "code",
   "execution_count": 6,
   "metadata": {},
   "outputs": [
    {
     "data": {
      "text/plain": [
       "11618"
      ]
     },
     "execution_count": 6,
     "metadata": {},
     "output_type": "execute_result"
    }
   ],
   "source": [
    "datetime.now().toordinal() - datetime(1987, 1, 7).toordinal()"
   ]
  },
  {
   "cell_type": "code",
   "execution_count": 7,
   "metadata": {},
   "outputs": [
    {
     "data": {
      "text/plain": [
       "2019.1671232876713"
      ]
     },
     "execution_count": 7,
     "metadata": {},
     "output_type": "execute_result"
    }
   ],
   "source": [
    "datetime.now().toordinal()/365\n",
    "# Let's see how many years ago it started."
   ]
  },
  {
   "cell_type": "markdown",
   "metadata": {},
   "source": [
    "### 4) Try using `timedelta()` to shift our datetime object by the following intervals.\n",
    "- One hour ahead.\n",
    "- Three days ago.\n",
    "- One year, three days, two seconds ahead."
   ]
  },
  {
   "cell_type": "code",
   "execution_count": 8,
   "metadata": {},
   "outputs": [
    {
     "name": "stdout",
     "output_type": "stream",
     "text": [
      "2018-04-30 01:00:00\n",
      "2018-04-27 00:00:00\n",
      "2019-05-03 00:00:02\n"
     ]
    }
   ],
   "source": [
    "print(lesson_date + timedelta(hours=1))\n",
    "\n",
    "lesson_date - timedelta(days=3)\n",
    "# OR\n",
    "print(lesson_date + timedelta(days=-3))\n",
    "# Adding negative days — so cool!\n",
    "\n",
    "print(lesson_date + timedelta(days=368, seconds=2))"
   ]
  },
  {
   "cell_type": "markdown",
   "metadata": {},
   "source": [
    "### 5) Load one of the stock CSVs in the `datasets` folder.\n",
    "\n",
    "Which you choose is up to you!"
   ]
  },
  {
   "cell_type": "code",
   "execution_count": 9,
   "metadata": {},
   "outputs": [],
   "source": [
    "import pandas as pd\n",
    "from datetime import timedelta\n",
    "%matplotlib inline\n",
    "\n",
    "# We chose to look at Volkswagon (because it owns Bugatti).\n",
    "df_vow = pd.read_csv('../datasets/vow.csv')"
   ]
  },
  {
   "cell_type": "code",
   "execution_count": 10,
   "metadata": {},
   "outputs": [
    {
     "data": {
      "text/html": [
       "<div>\n",
       "<style scoped>\n",
       "    .dataframe tbody tr th:only-of-type {\n",
       "        vertical-align: middle;\n",
       "    }\n",
       "\n",
       "    .dataframe tbody tr th {\n",
       "        vertical-align: top;\n",
       "    }\n",
       "\n",
       "    .dataframe thead th {\n",
       "        text-align: right;\n",
       "    }\n",
       "</style>\n",
       "<table border=\"1\" class=\"dataframe\">\n",
       "  <thead>\n",
       "    <tr style=\"text-align: right;\">\n",
       "      <th></th>\n",
       "      <th>Date</th>\n",
       "      <th>Open</th>\n",
       "      <th>High</th>\n",
       "      <th>Low</th>\n",
       "      <th>Close</th>\n",
       "      <th>Volume</th>\n",
       "    </tr>\n",
       "  </thead>\n",
       "  <tbody>\n",
       "    <tr>\n",
       "      <th>0</th>\n",
       "      <td>16-Jan-17</td>\n",
       "      <td>150.05</td>\n",
       "      <td>150.70</td>\n",
       "      <td>147.75</td>\n",
       "      <td>148.40</td>\n",
       "      <td>79341</td>\n",
       "    </tr>\n",
       "    <tr>\n",
       "      <th>1</th>\n",
       "      <td>13-Jan-17</td>\n",
       "      <td>151.85</td>\n",
       "      <td>154.00</td>\n",
       "      <td>149.95</td>\n",
       "      <td>151.75</td>\n",
       "      <td>112464</td>\n",
       "    </tr>\n",
       "    <tr>\n",
       "      <th>2</th>\n",
       "      <td>12-Jan-17</td>\n",
       "      <td>154.05</td>\n",
       "      <td>154.30</td>\n",
       "      <td>148.85</td>\n",
       "      <td>150.70</td>\n",
       "      <td>173155</td>\n",
       "    </tr>\n",
       "    <tr>\n",
       "      <th>3</th>\n",
       "      <td>11-Jan-17</td>\n",
       "      <td>149.05</td>\n",
       "      <td>153.65</td>\n",
       "      <td>148.80</td>\n",
       "      <td>153.15</td>\n",
       "      <td>181285</td>\n",
       "    </tr>\n",
       "    <tr>\n",
       "      <th>4</th>\n",
       "      <td>10-Jan-17</td>\n",
       "      <td>148.05</td>\n",
       "      <td>149.85</td>\n",
       "      <td>146.60</td>\n",
       "      <td>148.10</td>\n",
       "      <td>137786</td>\n",
       "    </tr>\n",
       "  </tbody>\n",
       "</table>\n",
       "</div>"
      ],
      "text/plain": [
       "        Date    Open    High     Low   Close  Volume\n",
       "0  16-Jan-17  150.05  150.70  147.75  148.40   79341\n",
       "1  13-Jan-17  151.85  154.00  149.95  151.75  112464\n",
       "2  12-Jan-17  154.05  154.30  148.85  150.70  173155\n",
       "3  11-Jan-17  149.05  153.65  148.80  153.15  181285\n",
       "4  10-Jan-17  148.05  149.85  146.60  148.10  137786"
      ]
     },
     "execution_count": 10,
     "metadata": {},
     "output_type": "execute_result"
    }
   ],
   "source": [
    "df_vow.head()"
   ]
  },
  {
   "cell_type": "markdown",
   "metadata": {},
   "source": [
    "### 6) Take a high-level look at the data. Describe it. What are we looking at? \n",
    "\n",
    "Use a plotting function to provide a good visual."
   ]
  },
  {
   "cell_type": "code",
   "execution_count": 11,
   "metadata": {},
   "outputs": [
    {
     "data": {
      "text/html": [
       "<div>\n",
       "<style scoped>\n",
       "    .dataframe tbody tr th:only-of-type {\n",
       "        vertical-align: middle;\n",
       "    }\n",
       "\n",
       "    .dataframe tbody tr th {\n",
       "        vertical-align: top;\n",
       "    }\n",
       "\n",
       "    .dataframe thead th {\n",
       "        text-align: right;\n",
       "    }\n",
       "</style>\n",
       "<table border=\"1\" class=\"dataframe\">\n",
       "  <thead>\n",
       "    <tr style=\"text-align: right;\">\n",
       "      <th></th>\n",
       "      <th>Open</th>\n",
       "      <th>High</th>\n",
       "      <th>Low</th>\n",
       "      <th>Close</th>\n",
       "      <th>Volume</th>\n",
       "    </tr>\n",
       "  </thead>\n",
       "  <tbody>\n",
       "    <tr>\n",
       "      <th>count</th>\n",
       "      <td>255.000000</td>\n",
       "      <td>255.000000</td>\n",
       "      <td>255.000000</td>\n",
       "      <td>255.000000</td>\n",
       "      <td>255.000000</td>\n",
       "    </tr>\n",
       "    <tr>\n",
       "      <th>mean</th>\n",
       "      <td>130.380000</td>\n",
       "      <td>132.168235</td>\n",
       "      <td>128.580588</td>\n",
       "      <td>130.415882</td>\n",
       "      <td>96009.898039</td>\n",
       "    </tr>\n",
       "    <tr>\n",
       "      <th>std</th>\n",
       "      <td>7.031538</td>\n",
       "      <td>6.992833</td>\n",
       "      <td>7.398405</td>\n",
       "      <td>7.308949</td>\n",
       "      <td>51570.127117</td>\n",
       "    </tr>\n",
       "    <tr>\n",
       "      <th>min</th>\n",
       "      <td>110.950000</td>\n",
       "      <td>111.000000</td>\n",
       "      <td>106.650000</td>\n",
       "      <td>108.950000</td>\n",
       "      <td>18273.000000</td>\n",
       "    </tr>\n",
       "    <tr>\n",
       "      <th>25%</th>\n",
       "      <td>127.000000</td>\n",
       "      <td>128.600000</td>\n",
       "      <td>125.275000</td>\n",
       "      <td>126.875000</td>\n",
       "      <td>63276.500000</td>\n",
       "    </tr>\n",
       "    <tr>\n",
       "      <th>50%</th>\n",
       "      <td>130.450000</td>\n",
       "      <td>131.950000</td>\n",
       "      <td>128.900000</td>\n",
       "      <td>130.450000</td>\n",
       "      <td>84373.000000</td>\n",
       "    </tr>\n",
       "    <tr>\n",
       "      <th>75%</th>\n",
       "      <td>134.475000</td>\n",
       "      <td>136.150000</td>\n",
       "      <td>132.575000</td>\n",
       "      <td>134.600000</td>\n",
       "      <td>114860.500000</td>\n",
       "    </tr>\n",
       "    <tr>\n",
       "      <th>max</th>\n",
       "      <td>154.050000</td>\n",
       "      <td>154.300000</td>\n",
       "      <td>149.950000</td>\n",
       "      <td>153.150000</td>\n",
       "      <td>374850.000000</td>\n",
       "    </tr>\n",
       "  </tbody>\n",
       "</table>\n",
       "</div>"
      ],
      "text/plain": [
       "             Open        High         Low       Close         Volume\n",
       "count  255.000000  255.000000  255.000000  255.000000     255.000000\n",
       "mean   130.380000  132.168235  128.580588  130.415882   96009.898039\n",
       "std      7.031538    6.992833    7.398405    7.308949   51570.127117\n",
       "min    110.950000  111.000000  106.650000  108.950000   18273.000000\n",
       "25%    127.000000  128.600000  125.275000  126.875000   63276.500000\n",
       "50%    130.450000  131.950000  128.900000  130.450000   84373.000000\n",
       "75%    134.475000  136.150000  132.575000  134.600000  114860.500000\n",
       "max    154.050000  154.300000  149.950000  153.150000  374850.000000"
      ]
     },
     "execution_count": 11,
     "metadata": {},
     "output_type": "execute_result"
    }
   ],
   "source": [
    "df_vow.describe()"
   ]
  },
  {
   "cell_type": "code",
   "execution_count": 12,
   "metadata": {},
   "outputs": [
    {
     "data": {
      "text/plain": [
       "<matplotlib.axes._subplots.AxesSubplot at 0x110edc7b8>"
      ]
     },
     "execution_count": 12,
     "metadata": {},
     "output_type": "execute_result"
    },
    {
     "data": {
      "image/png": "[encoded data removed]",
      "text/plain": [
       "<Figure size 432x288 with 1 Axes>"
      ]
     },
     "metadata": {},
     "output_type": "display_data"
    },
    {
     "data": {
      "image/png": "[encoded data removed]",
      "text/plain": [
       "<Figure size 432x288 with 1 Axes>"
      ]
     },
     "metadata": {},
     "output_type": "display_data"
    }
   ],
   "source": [
    "# We're plotting them all at once so... there are going to be some visual issues.\n",
    "df_vow.plot()\n",
    "# Volume distorts the visualization because those values are much larger than the prices.\n",
    "\n",
    "# Let's put all those other ones on a plot.\n",
    "df_vow[['Open','Close','High','Low']].plot()"
   ]
  },
  {
   "cell_type": "markdown",
   "metadata": {},
   "source": [
    "### 7) Examine the Date column. Make it the index of the DataFrame.\n",
    "\n",
    "Making the index a datetime allows us to easily order the data by time. Doing this will result in six Series objects indexed by DateTime — a literal time series!"
   ]
  },
  {
   "cell_type": "code",
   "execution_count": 13,
   "metadata": {},
   "outputs": [
    {
     "data": {
      "text/html": [
       "<div>\n",
       "<style scoped>\n",
       "    .dataframe tbody tr th:only-of-type {\n",
       "        vertical-align: middle;\n",
       "    }\n",
       "\n",
       "    .dataframe tbody tr th {\n",
       "        vertical-align: top;\n",
       "    }\n",
       "\n",
       "    .dataframe thead th {\n",
       "        text-align: right;\n",
       "    }\n",
       "</style>\n",
       "<table border=\"1\" class=\"dataframe\">\n",
       "  <thead>\n",
       "    <tr style=\"text-align: right;\">\n",
       "      <th></th>\n",
       "      <th>Date</th>\n",
       "      <th>Open</th>\n",
       "      <th>High</th>\n",
       "      <th>Low</th>\n",
       "      <th>Close</th>\n",
       "      <th>Volume</th>\n",
       "    </tr>\n",
       "  </thead>\n",
       "  <tbody>\n",
       "    <tr>\n",
       "      <th>0</th>\n",
       "      <td>16-Jan-17</td>\n",
       "      <td>150.05</td>\n",
       "      <td>150.70</td>\n",
       "      <td>147.75</td>\n",
       "      <td>148.40</td>\n",
       "      <td>79341</td>\n",
       "    </tr>\n",
       "    <tr>\n",
       "      <th>1</th>\n",
       "      <td>13-Jan-17</td>\n",
       "      <td>151.85</td>\n",
       "      <td>154.00</td>\n",
       "      <td>149.95</td>\n",
       "      <td>151.75</td>\n",
       "      <td>112464</td>\n",
       "    </tr>\n",
       "    <tr>\n",
       "      <th>2</th>\n",
       "      <td>12-Jan-17</td>\n",
       "      <td>154.05</td>\n",
       "      <td>154.30</td>\n",
       "      <td>148.85</td>\n",
       "      <td>150.70</td>\n",
       "      <td>173155</td>\n",
       "    </tr>\n",
       "    <tr>\n",
       "      <th>3</th>\n",
       "      <td>11-Jan-17</td>\n",
       "      <td>149.05</td>\n",
       "      <td>153.65</td>\n",
       "      <td>148.80</td>\n",
       "      <td>153.15</td>\n",
       "      <td>181285</td>\n",
       "    </tr>\n",
       "    <tr>\n",
       "      <th>4</th>\n",
       "      <td>10-Jan-17</td>\n",
       "      <td>148.05</td>\n",
       "      <td>149.85</td>\n",
       "      <td>146.60</td>\n",
       "      <td>148.10</td>\n",
       "      <td>137786</td>\n",
       "    </tr>\n",
       "  </tbody>\n",
       "</table>\n",
       "</div>"
      ],
      "text/plain": [
       "        Date    Open    High     Low   Close  Volume\n",
       "0  16-Jan-17  150.05  150.70  147.75  148.40   79341\n",
       "1  13-Jan-17  151.85  154.00  149.95  151.75  112464\n",
       "2  12-Jan-17  154.05  154.30  148.85  150.70  173155\n",
       "3  11-Jan-17  149.05  153.65  148.80  153.15  181285\n",
       "4  10-Jan-17  148.05  149.85  146.60  148.10  137786"
      ]
     },
     "execution_count": 13,
     "metadata": {},
     "output_type": "execute_result"
    }
   ],
   "source": [
    "df_vow.head()"
   ]
  },
  {
   "cell_type": "code",
   "execution_count": 14,
   "metadata": {},
   "outputs": [
    {
     "data": {
      "text/plain": [
       "str"
      ]
     },
     "execution_count": 14,
     "metadata": {},
     "output_type": "execute_result"
    }
   ],
   "source": [
    "# The object type in the date column is a bunch of strings \n",
    "# — or at least the first one is.\n",
    "type(df_vow['Date'].loc[0])"
   ]
  },
  {
   "cell_type": "code",
   "execution_count": 15,
   "metadata": {},
   "outputs": [],
   "source": [
    "df_vow.set_index('Date', inplace=True)\n",
    "df_vow.index = pd.to_datetime(df_vow.index)"
   ]
  },
  {
   "cell_type": "code",
   "execution_count": 16,
   "metadata": {},
   "outputs": [
    {
     "data": {
      "text/html": [
       "<div>\n",
       "<style scoped>\n",
       "    .dataframe tbody tr th:only-of-type {\n",
       "        vertical-align: middle;\n",
       "    }\n",
       "\n",
       "    .dataframe tbody tr th {\n",
       "        vertical-align: top;\n",
       "    }\n",
       "\n",
       "    .dataframe thead th {\n",
       "        text-align: right;\n",
       "    }\n",
       "</style>\n",
       "<table border=\"1\" class=\"dataframe\">\n",
       "  <thead>\n",
       "    <tr style=\"text-align: right;\">\n",
       "      <th></th>\n",
       "      <th>Open</th>\n",
       "      <th>High</th>\n",
       "      <th>Low</th>\n",
       "      <th>Close</th>\n",
       "      <th>Volume</th>\n",
       "    </tr>\n",
       "    <tr>\n",
       "      <th>Date</th>\n",
       "      <th></th>\n",
       "      <th></th>\n",
       "      <th></th>\n",
       "      <th></th>\n",
       "      <th></th>\n",
       "    </tr>\n",
       "  </thead>\n",
       "  <tbody>\n",
       "    <tr>\n",
       "      <th>2017-01-16</th>\n",
       "      <td>150.05</td>\n",
       "      <td>150.70</td>\n",
       "      <td>147.75</td>\n",
       "      <td>148.40</td>\n",
       "      <td>79341</td>\n",
       "    </tr>\n",
       "    <tr>\n",
       "      <th>2017-01-13</th>\n",
       "      <td>151.85</td>\n",
       "      <td>154.00</td>\n",
       "      <td>149.95</td>\n",
       "      <td>151.75</td>\n",
       "      <td>112464</td>\n",
       "    </tr>\n",
       "    <tr>\n",
       "      <th>2017-01-12</th>\n",
       "      <td>154.05</td>\n",
       "      <td>154.30</td>\n",
       "      <td>148.85</td>\n",
       "      <td>150.70</td>\n",
       "      <td>173155</td>\n",
       "    </tr>\n",
       "    <tr>\n",
       "      <th>2017-01-11</th>\n",
       "      <td>149.05</td>\n",
       "      <td>153.65</td>\n",
       "      <td>148.80</td>\n",
       "      <td>153.15</td>\n",
       "      <td>181285</td>\n",
       "    </tr>\n",
       "    <tr>\n",
       "      <th>2017-01-10</th>\n",
       "      <td>148.05</td>\n",
       "      <td>149.85</td>\n",
       "      <td>146.60</td>\n",
       "      <td>148.10</td>\n",
       "      <td>137786</td>\n",
       "    </tr>\n",
       "  </tbody>\n",
       "</table>\n",
       "</div>"
      ],
      "text/plain": [
       "              Open    High     Low   Close  Volume\n",
       "Date                                              \n",
       "2017-01-16  150.05  150.70  147.75  148.40   79341\n",
       "2017-01-13  151.85  154.00  149.95  151.75  112464\n",
       "2017-01-12  154.05  154.30  148.85  150.70  173155\n",
       "2017-01-11  149.05  153.65  148.80  153.15  181285\n",
       "2017-01-10  148.05  149.85  146.60  148.10  137786"
      ]
     },
     "execution_count": 16,
     "metadata": {},
     "output_type": "execute_result"
    }
   ],
   "source": [
    "df_vow.head()"
   ]
  },
  {
   "cell_type": "markdown",
   "metadata": {},
   "source": [
    "### 8) Add columns with useful data extracted from the DateTime index.\n",
    "\n",
    "Create at least three columns; one for day, month, and year.\n"
   ]
  },
  {
   "cell_type": "code",
   "execution_count": 17,
   "metadata": {},
   "outputs": [],
   "source": [
    "df_vow['Year'] = df_vow.index.year\n",
    "df_vow['Month'] = df_vow.index.month\n",
    "df_vow['Day'] = df_vow.index.day"
   ]
  },
  {
   "cell_type": "code",
   "execution_count": 18,
   "metadata": {},
   "outputs": [
    {
     "data": {
      "text/html": [
       "<div>\n",
       "<style scoped>\n",
       "    .dataframe tbody tr th:only-of-type {\n",
       "        vertical-align: middle;\n",
       "    }\n",
       "\n",
       "    .dataframe tbody tr th {\n",
       "        vertical-align: top;\n",
       "    }\n",
       "\n",
       "    .dataframe thead th {\n",
       "        text-align: right;\n",
       "    }\n",
       "</style>\n",
       "<table border=\"1\" class=\"dataframe\">\n",
       "  <thead>\n",
       "    <tr style=\"text-align: right;\">\n",
       "      <th></th>\n",
       "      <th>Open</th>\n",
       "      <th>High</th>\n",
       "      <th>Low</th>\n",
       "      <th>Close</th>\n",
       "      <th>Volume</th>\n",
       "      <th>Year</th>\n",
       "      <th>Month</th>\n",
       "      <th>Day</th>\n",
       "    </tr>\n",
       "    <tr>\n",
       "      <th>Date</th>\n",
       "      <th></th>\n",
       "      <th></th>\n",
       "      <th></th>\n",
       "      <th></th>\n",
       "      <th></th>\n",
       "      <th></th>\n",
       "      <th></th>\n",
       "      <th></th>\n",
       "    </tr>\n",
       "  </thead>\n",
       "  <tbody>\n",
       "    <tr>\n",
       "      <th>2017-01-16</th>\n",
       "      <td>150.05</td>\n",
       "      <td>150.70</td>\n",
       "      <td>147.75</td>\n",
       "      <td>148.40</td>\n",
       "      <td>79341</td>\n",
       "      <td>2017</td>\n",
       "      <td>1</td>\n",
       "      <td>16</td>\n",
       "    </tr>\n",
       "    <tr>\n",
       "      <th>2017-01-13</th>\n",
       "      <td>151.85</td>\n",
       "      <td>154.00</td>\n",
       "      <td>149.95</td>\n",
       "      <td>151.75</td>\n",
       "      <td>112464</td>\n",
       "      <td>2017</td>\n",
       "      <td>1</td>\n",
       "      <td>13</td>\n",
       "    </tr>\n",
       "    <tr>\n",
       "      <th>2017-01-12</th>\n",
       "      <td>154.05</td>\n",
       "      <td>154.30</td>\n",
       "      <td>148.85</td>\n",
       "      <td>150.70</td>\n",
       "      <td>173155</td>\n",
       "      <td>2017</td>\n",
       "      <td>1</td>\n",
       "      <td>12</td>\n",
       "    </tr>\n",
       "    <tr>\n",
       "      <th>2017-01-11</th>\n",
       "      <td>149.05</td>\n",
       "      <td>153.65</td>\n",
       "      <td>148.80</td>\n",
       "      <td>153.15</td>\n",
       "      <td>181285</td>\n",
       "      <td>2017</td>\n",
       "      <td>1</td>\n",
       "      <td>11</td>\n",
       "    </tr>\n",
       "    <tr>\n",
       "      <th>2017-01-10</th>\n",
       "      <td>148.05</td>\n",
       "      <td>149.85</td>\n",
       "      <td>146.60</td>\n",
       "      <td>148.10</td>\n",
       "      <td>137786</td>\n",
       "      <td>2017</td>\n",
       "      <td>1</td>\n",
       "      <td>10</td>\n",
       "    </tr>\n",
       "  </tbody>\n",
       "</table>\n",
       "</div>"
      ],
      "text/plain": [
       "              Open    High     Low   Close  Volume  Year  Month  Day\n",
       "Date                                                                \n",
       "2017-01-16  150.05  150.70  147.75  148.40   79341  2017      1   16\n",
       "2017-01-13  151.85  154.00  149.95  151.75  112464  2017      1   13\n",
       "2017-01-12  154.05  154.30  148.85  150.70  173155  2017      1   12\n",
       "2017-01-11  149.05  153.65  148.80  153.15  181285  2017      1   11\n",
       "2017-01-10  148.05  149.85  146.60  148.10  137786  2017      1   10"
      ]
     },
     "execution_count": 18,
     "metadata": {},
     "output_type": "execute_result"
    }
   ],
   "source": [
    "df_vow.head()"
   ]
  },
  {
   "cell_type": "markdown",
   "metadata": {},
   "source": [
    "### 9) Create a subset of the data containing only 2017 dates."
   ]
  },
  {
   "cell_type": "code",
   "execution_count": 19,
   "metadata": {},
   "outputs": [
    {
     "data": {
      "text/html": [
       "<div>\n",
       "<style scoped>\n",
       "    .dataframe tbody tr th:only-of-type {\n",
       "        vertical-align: middle;\n",
       "    }\n",
       "\n",
       "    .dataframe tbody tr th {\n",
       "        vertical-align: top;\n",
       "    }\n",
       "\n",
       "    .dataframe thead th {\n",
       "        text-align: right;\n",
       "    }\n",
       "</style>\n",
       "<table border=\"1\" class=\"dataframe\">\n",
       "  <thead>\n",
       "    <tr style=\"text-align: right;\">\n",
       "      <th></th>\n",
       "      <th>Open</th>\n",
       "      <th>High</th>\n",
       "      <th>Low</th>\n",
       "      <th>Close</th>\n",
       "      <th>Volume</th>\n",
       "      <th>Year</th>\n",
       "      <th>Month</th>\n",
       "      <th>Day</th>\n",
       "    </tr>\n",
       "    <tr>\n",
       "      <th>Date</th>\n",
       "      <th></th>\n",
       "      <th></th>\n",
       "      <th></th>\n",
       "      <th></th>\n",
       "      <th></th>\n",
       "      <th></th>\n",
       "      <th></th>\n",
       "      <th></th>\n",
       "    </tr>\n",
       "  </thead>\n",
       "  <tbody>\n",
       "    <tr>\n",
       "      <th>2017-01-16</th>\n",
       "      <td>150.05</td>\n",
       "      <td>150.70</td>\n",
       "      <td>147.75</td>\n",
       "      <td>148.40</td>\n",
       "      <td>79341</td>\n",
       "      <td>2017</td>\n",
       "      <td>1</td>\n",
       "      <td>16</td>\n",
       "    </tr>\n",
       "    <tr>\n",
       "      <th>2017-01-13</th>\n",
       "      <td>151.85</td>\n",
       "      <td>154.00</td>\n",
       "      <td>149.95</td>\n",
       "      <td>151.75</td>\n",
       "      <td>112464</td>\n",
       "      <td>2017</td>\n",
       "      <td>1</td>\n",
       "      <td>13</td>\n",
       "    </tr>\n",
       "    <tr>\n",
       "      <th>2017-01-12</th>\n",
       "      <td>154.05</td>\n",
       "      <td>154.30</td>\n",
       "      <td>148.85</td>\n",
       "      <td>150.70</td>\n",
       "      <td>173155</td>\n",
       "      <td>2017</td>\n",
       "      <td>1</td>\n",
       "      <td>12</td>\n",
       "    </tr>\n",
       "    <tr>\n",
       "      <th>2017-01-11</th>\n",
       "      <td>149.05</td>\n",
       "      <td>153.65</td>\n",
       "      <td>148.80</td>\n",
       "      <td>153.15</td>\n",
       "      <td>181285</td>\n",
       "      <td>2017</td>\n",
       "      <td>1</td>\n",
       "      <td>11</td>\n",
       "    </tr>\n",
       "    <tr>\n",
       "      <th>2017-01-10</th>\n",
       "      <td>148.05</td>\n",
       "      <td>149.85</td>\n",
       "      <td>146.60</td>\n",
       "      <td>148.10</td>\n",
       "      <td>137786</td>\n",
       "      <td>2017</td>\n",
       "      <td>1</td>\n",
       "      <td>10</td>\n",
       "    </tr>\n",
       "    <tr>\n",
       "      <th>2017-01-09</th>\n",
       "      <td>143.20</td>\n",
       "      <td>148.15</td>\n",
       "      <td>143.20</td>\n",
       "      <td>148.05</td>\n",
       "      <td>163025</td>\n",
       "      <td>2017</td>\n",
       "      <td>1</td>\n",
       "      <td>9</td>\n",
       "    </tr>\n",
       "    <tr>\n",
       "      <th>2017-01-06</th>\n",
       "      <td>142.60</td>\n",
       "      <td>143.25</td>\n",
       "      <td>141.85</td>\n",
       "      <td>142.60</td>\n",
       "      <td>36778</td>\n",
       "      <td>2017</td>\n",
       "      <td>1</td>\n",
       "      <td>6</td>\n",
       "    </tr>\n",
       "    <tr>\n",
       "      <th>2017-01-05</th>\n",
       "      <td>141.00</td>\n",
       "      <td>144.00</td>\n",
       "      <td>140.85</td>\n",
       "      <td>143.25</td>\n",
       "      <td>69801</td>\n",
       "      <td>2017</td>\n",
       "      <td>1</td>\n",
       "      <td>5</td>\n",
       "    </tr>\n",
       "    <tr>\n",
       "      <th>2017-01-04</th>\n",
       "      <td>143.85</td>\n",
       "      <td>144.75</td>\n",
       "      <td>140.25</td>\n",
       "      <td>142.05</td>\n",
       "      <td>116569</td>\n",
       "      <td>2017</td>\n",
       "      <td>1</td>\n",
       "      <td>4</td>\n",
       "    </tr>\n",
       "    <tr>\n",
       "      <th>2017-01-03</th>\n",
       "      <td>141.30</td>\n",
       "      <td>145.30</td>\n",
       "      <td>141.30</td>\n",
       "      <td>143.75</td>\n",
       "      <td>96699</td>\n",
       "      <td>2017</td>\n",
       "      <td>1</td>\n",
       "      <td>3</td>\n",
       "    </tr>\n",
       "    <tr>\n",
       "      <th>2017-01-02</th>\n",
       "      <td>136.75</td>\n",
       "      <td>141.55</td>\n",
       "      <td>136.30</td>\n",
       "      <td>140.90</td>\n",
       "      <td>59235</td>\n",
       "      <td>2017</td>\n",
       "      <td>1</td>\n",
       "      <td>2</td>\n",
       "    </tr>\n",
       "  </tbody>\n",
       "</table>\n",
       "</div>"
      ],
      "text/plain": [
       "              Open    High     Low   Close  Volume  Year  Month  Day\n",
       "Date                                                                \n",
       "2017-01-16  150.05  150.70  147.75  148.40   79341  2017      1   16\n",
       "2017-01-13  151.85  154.00  149.95  151.75  112464  2017      1   13\n",
       "2017-01-12  154.05  154.30  148.85  150.70  173155  2017      1   12\n",
       "2017-01-11  149.05  153.65  148.80  153.15  181285  2017      1   11\n",
       "2017-01-10  148.05  149.85  146.60  148.10  137786  2017      1   10\n",
       "2017-01-09  143.20  148.15  143.20  148.05  163025  2017      1    9\n",
       "2017-01-06  142.60  143.25  141.85  142.60   36778  2017      1    6\n",
       "2017-01-05  141.00  144.00  140.85  143.25   69801  2017      1    5\n",
       "2017-01-04  143.85  144.75  140.25  142.05  116569  2017      1    4\n",
       "2017-01-03  141.30  145.30  141.30  143.75   96699  2017      1    3\n",
       "2017-01-02  136.75  141.55  136.30  140.90   59235  2017      1    2"
      ]
     },
     "execution_count": 19,
     "metadata": {},
     "output_type": "execute_result"
    }
   ],
   "source": [
    "df_vow['2017']"
   ]
  },
  {
   "cell_type": "markdown",
   "metadata": {},
   "source": [
    "### 10) [Example] Date ranges and frequencies.\n",
    "\n",
    "Explore the following built-in methods.\n",
    "- What does `asfreq` do?\n",
    "> - _Converts time series to specified frequency._\n",
    "\n",
    "- What does `resample` do?\n",
    "> - _This is a convenience method for frequency conversion and the resampling of time series. Object must have a datetime-like index (DatetimeIndex, PeriodIndex, or TimedeltaIndex) or pass datetime-like values to the `on` or `level` keyword._\n",
    "\n",
    "We can also create our own date ranges using a built-in function, `date_range()`. The `periods` and `freq` keyword arguments grant the user fine-grained control over the resulting values. To reset the time data, use the `normalize=True` directive.\n"
   ]
  },
  {
   "cell_type": "code",
   "execution_count": 20,
   "metadata": {},
   "outputs": [
    {
     "data": {
      "text/plain": [
       "DatetimeIndex(['2016-03-01', '2016-03-02', '2016-03-03', '2016-03-04',\n",
       "               '2016-03-05', '2016-03-06', '2016-03-07', '2016-03-08',\n",
       "               '2016-03-09', '2016-03-10', '2016-03-11', '2016-03-12',\n",
       "               '2016-03-13', '2016-03-14', '2016-03-15', '2016-03-16',\n",
       "               '2016-03-17', '2016-03-18', '2016-03-19', '2016-03-20',\n",
       "               '2016-03-21', '2016-03-22', '2016-03-23', '2016-03-24',\n",
       "               '2016-03-25', '2016-03-26', '2016-03-27', '2016-03-28',\n",
       "               '2016-03-29', '2016-03-30', '2016-03-31', '2016-04-01',\n",
       "               '2016-04-02', '2016-04-03', '2016-04-04', '2016-04-05',\n",
       "               '2016-04-06', '2016-04-07', '2016-04-08', '2016-04-09',\n",
       "               '2016-04-10', '2016-04-11', '2016-04-12', '2016-04-13',\n",
       "               '2016-04-14', '2016-04-15', '2016-04-16', '2016-04-17',\n",
       "               '2016-04-18', '2016-04-19', '2016-04-20', '2016-04-21',\n",
       "               '2016-04-22', '2016-04-23', '2016-04-24', '2016-04-25',\n",
       "               '2016-04-26', '2016-04-27', '2016-04-28', '2016-04-29',\n",
       "               '2016-04-30', '2016-05-01', '2016-05-02', '2016-05-03',\n",
       "               '2016-05-04', '2016-05-05', '2016-05-06', '2016-05-07',\n",
       "               '2016-05-08', '2016-05-09', '2016-05-10', '2016-05-11',\n",
       "               '2016-05-12', '2016-05-13', '2016-05-14', '2016-05-15',\n",
       "               '2016-05-16', '2016-05-17', '2016-05-18', '2016-05-19',\n",
       "               '2016-05-20', '2016-05-21', '2016-05-22', '2016-05-23',\n",
       "               '2016-05-24', '2016-05-25', '2016-05-26', '2016-05-27',\n",
       "               '2016-05-28', '2016-05-29', '2016-05-30', '2016-05-31',\n",
       "               '2016-06-01'],\n",
       "              dtype='datetime64[ns]', freq='D')"
      ]
     },
     "execution_count": 20,
     "metadata": {},
     "output_type": "execute_result"
    }
   ],
   "source": [
    "pd.date_range('3/1/2016', '6/1/2016')"
   ]
  },
  {
   "cell_type": "code",
   "execution_count": 21,
   "metadata": {},
   "outputs": [
    {
     "data": {
      "text/plain": [
       "DatetimeIndex(['2016-03-01', '2016-03-02', '2016-03-03', '2016-03-04',\n",
       "               '2016-03-05', '2016-03-06', '2016-03-07', '2016-03-08',\n",
       "               '2016-03-09', '2016-03-10', '2016-03-11', '2016-03-12',\n",
       "               '2016-03-13', '2016-03-14', '2016-03-15', '2016-03-16',\n",
       "               '2016-03-17', '2016-03-18', '2016-03-19', '2016-03-20'],\n",
       "              dtype='datetime64[ns]', freq='D')"
      ]
     },
     "execution_count": 21,
     "metadata": {},
     "output_type": "execute_result"
    }
   ],
   "source": [
    "# Specify a start point and how many periods should come after.\n",
    "pd.date_range(start='3/1/2016', periods=20)"
   ]
  },
  {
   "cell_type": "code",
   "execution_count": 22,
   "metadata": {},
   "outputs": [
    {
     "data": {
      "text/plain": [
       "DatetimeIndex(['2016-05-13', '2016-05-14', '2016-05-15', '2016-05-16',\n",
       "               '2016-05-17', '2016-05-18', '2016-05-19', '2016-05-20',\n",
       "               '2016-05-21', '2016-05-22', '2016-05-23', '2016-05-24',\n",
       "               '2016-05-25', '2016-05-26', '2016-05-27', '2016-05-28',\n",
       "               '2016-05-29', '2016-05-30', '2016-05-31', '2016-06-01'],\n",
       "              dtype='datetime64[ns]', freq='D')"
      ]
     },
     "execution_count": 22,
     "metadata": {},
     "output_type": "execute_result"
    }
   ],
   "source": [
    "# Specify an end point and how many periods should come before.\n",
    "pd.date_range(end='6/1/2016', periods=20)"
   ]
  },
  {
   "cell_type": "code",
   "execution_count": 23,
   "metadata": {},
   "outputs": [
    {
     "data": {
      "text/plain": [
       "DatetimeIndex(['2016-01-29', '2016-02-29', '2016-03-31', '2016-04-29',\n",
       "               '2016-05-31', '2016-06-30', '2016-07-29', '2016-08-31',\n",
       "               '2016-09-30', '2016-10-31', '2016-11-30'],\n",
       "              dtype='datetime64[ns]', freq='BM')"
      ]
     },
     "execution_count": 23,
     "metadata": {},
     "output_type": "execute_result"
    }
   ],
   "source": [
    "# Frequency specifies the length of the periods\n",
    "# — the default, \"D,\" being daily. We understand that BM is bimonthly.\n",
    "pd.date_range('1/1/2016', '12/1/2016', freq='BM')"
   ]
  },
  {
   "cell_type": "code",
   "execution_count": 24,
   "metadata": {},
   "outputs": [
    {
     "data": {
      "text/plain": [
       "DatetimeIndex(['2016-03-07 12:56:31', '2016-03-08 12:56:31',\n",
       "               '2016-03-09 12:56:31', '2016-03-10 12:56:31',\n",
       "               '2016-03-11 12:56:31', '2016-03-12 12:56:31'],\n",
       "              dtype='datetime64[ns]', freq='D')"
      ]
     },
     "execution_count": 24,
     "metadata": {},
     "output_type": "execute_result"
    }
   ],
   "source": [
    "pd.date_range('3/7/2016 12:56:31', periods=6)"
   ]
  },
  {
   "cell_type": "code",
   "execution_count": 25,
   "metadata": {},
   "outputs": [
    {
     "data": {
      "text/plain": [
       "DatetimeIndex(['2012-03-07', '2012-03-08', '2012-03-09', '2012-03-10',\n",
       "               '2012-03-11', '2012-03-12'],\n",
       "              dtype='datetime64[ns]', freq='D')"
      ]
     },
     "execution_count": 25,
     "metadata": {},
     "output_type": "execute_result"
    }
   ],
   "source": [
    "# Normalize creates normal daily times and will set the default time for each day as midnight.\n",
    "pd.date_range('3/7/2012 12:56:31', periods=6, normalize=True)"
   ]
  },
  {
   "cell_type": "markdown",
   "metadata": {},
   "source": [
    "We are also given a `Period` object, which can be used to represent a time interval. The `Period` object consists of a start time and an end time and can be created by providing a start time and a given frequency."
   ]
  },
  {
   "cell_type": "code",
   "execution_count": 26,
   "metadata": {},
   "outputs": [
    {
     "name": "stdout",
     "output_type": "stream",
     "text": [
      "2016-03-01 00:00:00\n",
      "2016-03-31 23:59:59.999999999\n"
     ]
    }
   ],
   "source": [
    "# Our start period was March 2016 and our period frequency is months.\n",
    "march_2016 = pd.Period('2016-03', freq='M')\n",
    "\n",
    "print(march_2016.start_time)\n",
    "print(march_2016.end_time)"
   ]
  }
 ],
 "metadata": {
  "kernelspec": {
   "display_name": "Python 3",
   "language": "python",
   "name": "python3"
  },
  "language_info": {
   "codemirror_mode": {
    "name": "ipython",
    "version": 3
   },
   "file_extension": ".py",
   "mimetype": "text/x-python",
   "name": "python",
   "nbconvert_exporter": "python",
   "pygments_lexer": "ipython3",
   "version": "3.6.6"
  }
 },
 "nbformat": 4,
 "nbformat_minor": 2
}
