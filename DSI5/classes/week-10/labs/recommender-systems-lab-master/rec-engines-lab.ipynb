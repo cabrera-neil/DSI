{
 "cells": [
  {
   "cell_type": "markdown",
   "metadata": {},
   "source": [
    "<img src=\"http://imgur.com/1ZcRyrc.png\" style=\"float: left; margin: 20px; height: 55px\">\n",
    "\n",
    "\n",
    "# Recommendations: Collaborative Filtering Lab\n",
    "\n",
    "_Author: Dan Wilhelm (LA) _\n",
    "\n",
    "---"
   ]
  },
  {
   "cell_type": "markdown",
   "metadata": {},
   "source": [
    "# Collaborative Filtering Lab\n",
    "\n",
    "Today, we will be writing a User-Item Collaborative Filtering recommendation engine. This engine ranks each user by similarity to a given user. Then, it recommends brands from the most similar users, weighting each brand by the users' similarity.\n",
    "\n",
    "Because Collaborative Filtering is relatively easy to implement and not part of Scikit-learn, we will be writing it from scratch using vanilla Python."
   ]
  },
  {
   "cell_type": "code",
   "execution_count": 1,
   "metadata": {},
   "outputs": [],
   "source": [
    "from collections import Counter\n",
    "\n",
    "%matplotlib inline\n",
    "from matplotlib import pyplot as plt\n",
    "\n",
    "BRANDS_FILE = './datasets/user_brand.csv'"
   ]
  },
  {
   "cell_type": "markdown",
   "metadata": {},
   "source": [
    "## Load in User-Brands Data"
   ]
  },
  {
   "cell_type": "code",
   "execution_count": 2,
   "metadata": {
    "scrolled": true
   },
   "outputs": [
    {
     "data": {
      "text/plain": [
       "[['80002', 'Target'],\n",
       " ['80002', 'Home Depot'],\n",
       " ['80010', \"Levi's\"],\n",
       " ['80010', 'Puma'],\n",
       " ['80010', 'Cuisinart'],\n",
       " ['80010', 'Converse'],\n",
       " ['80010', 'DKNY'],\n",
       " ['80010', 'Express'],\n",
       " ['80010', \"Kohl's\"],\n",
       " ['80010', 'Old Navy'],\n",
       " ['80010', 'Container Store'],\n",
       " ['80010', 'Nordstrom'],\n",
       " ['80011', 'Kenneth Cole'],\n",
       " ['80011', 'Calvin Klein'],\n",
       " ['80011', 'French Connection'],\n",
       " ['80011', 'BCBGMAXAZRIA'],\n",
       " ['80011', 'Nine West'],\n",
       " ['80011', 'Steve Madden'],\n",
       " ['80011', 'Diesel'],\n",
       " ['80011', 'Guess']]"
      ]
     },
     "execution_count": 2,
     "metadata": {},
     "output_type": "execute_result"
    }
   ],
   "source": [
    "from io import open\n",
    "\n",
    "user_brands = dict()\n",
    "\n",
    "with open(BRANDS_FILE, 'r', encoding='utf-8') as fin:\n",
    "    data = [line.strip().split(\",\") for line in fin]\n",
    "\n",
    "data[:20]"
   ]
  },
  {
   "cell_type": "markdown",
   "metadata": {},
   "source": [
    "## Explore the Data\n",
    "\n",
    "To assist you in exploring, make the following variables:"
   ]
  },
  {
   "cell_type": "code",
   "execution_count": 9,
   "metadata": {
    "collapsed": true
   },
   "outputs": [],
   "source": [
    "users = []   # List of all users\n",
    "brands = []  # List of all brands\n",
    "\n",
    "# user_brands = {'48132': {'Target', 'H&M', 'Gap'}, '31341': {'Zipcar'}, ... }\n",
    "user_brands = {}\n",
    "\n",
    "# brand_users = {'Target': {'48132', '84172', '12353'}, 'Zipcar': {'31341'}, ... }\n",
    "brand_users = {}"
   ]
  },
  {
   "cell_type": "markdown",
   "metadata": {},
   "source": [
    "1 - How many unique users are there?"
   ]
  },
  {
   "cell_type": "code",
   "execution_count": null,
   "metadata": {
    "collapsed": true
   },
   "outputs": [],
   "source": []
  },
  {
   "cell_type": "markdown",
   "metadata": {},
   "source": [
    "2 - How many unique brands are there?"
   ]
  },
  {
   "cell_type": "code",
   "execution_count": null,
   "metadata": {
    "collapsed": true
   },
   "outputs": [],
   "source": []
  },
  {
   "cell_type": "markdown",
   "metadata": {},
   "source": [
    "3 - What is the distribution of the number of brands liked by users?\n",
    "\n",
    "_Hint:_ Make a list of ```likes_per_brand``` then plot a histogram! \n",
    "\n",
    "+ For example: ```plt.hist([1, 1, 1, 2, 2, 3], bins=3)```"
   ]
  },
  {
   "cell_type": "code",
   "execution_count": 10,
   "metadata": {
    "collapsed": true
   },
   "outputs": [],
   "source": [
    "likes_per_brand = []   # list of number of brand likes\n",
    "\n",
    "#plt.hist(likes_per_brand, bins=50);"
   ]
  },
  {
   "cell_type": "markdown",
   "metadata": {},
   "source": [
    "4 - What is the distribution of the number of users who like a brand?"
   ]
  },
  {
   "cell_type": "code",
   "execution_count": 11,
   "metadata": {
    "collapsed": true
   },
   "outputs": [],
   "source": [
    "likes_per_user = []   # list of number of brand likes\n",
    "\n",
    "#plt.hist(likes_per_user, bins=50);"
   ]
  },
  {
   "cell_type": "markdown",
   "metadata": {},
   "source": [
    "5 - How many people like **Target**?"
   ]
  },
  {
   "cell_type": "code",
   "execution_count": null,
   "metadata": {
    "collapsed": true
   },
   "outputs": [],
   "source": []
  },
  {
   "cell_type": "markdown",
   "metadata": {},
   "source": [
    "6 - How many people like **Banana Republic**?"
   ]
  },
  {
   "cell_type": "code",
   "execution_count": null,
   "metadata": {
    "collapsed": true
   },
   "outputs": [],
   "source": []
  },
  {
   "cell_type": "markdown",
   "metadata": {},
   "source": [
    "7 - What brands does **user 86184** like?"
   ]
  },
  {
   "cell_type": "code",
   "execution_count": null,
   "metadata": {
    "collapsed": true
   },
   "outputs": [],
   "source": []
  },
  {
   "cell_type": "markdown",
   "metadata": {},
   "source": [
    "8 - What brands does **user 83126** like?"
   ]
  },
  {
   "cell_type": "code",
   "execution_count": null,
   "metadata": {
    "collapsed": true
   },
   "outputs": [],
   "source": []
  },
  {
   "cell_type": "markdown",
   "metadata": {},
   "source": [
    "## Jaccard Distance Measure\n",
    "\n",
    "Given two sets of brands, e.g. user1 = {'Target', 'Starbucks', 'Gap'} and user2 = {'Starbucks', 'Old Navy'}, the Jaccard distance is:\n",
    "\n",
    "+ jaccard(u1, u2) = 1 - (# brands in common) / (# brands in total)."
   ]
  },
  {
   "cell_type": "code",
   "execution_count": 12,
   "metadata": {
    "collapsed": true
   },
   "outputs": [],
   "source": [
    "def jaccard(set1, set2):\n",
    "    if len(set1) == 0 and len(set2) == 0:\n",
    "        return Inf\n",
    "    \n",
    "    return 0.0"
   ]
  },
  {
   "cell_type": "code",
   "execution_count": 13,
   "metadata": {
    "collapsed": true
   },
   "outputs": [],
   "source": [
    "# Make test sets by hand, for example using 'Target' and 'Banana Republic'.\n",
    "# Compute what the jaccard score should be for your test set.\n",
    "# Does calling your function yield the same result?\n",
    "\n"
   ]
  },
  {
   "cell_type": "markdown",
   "metadata": {},
   "source": [
    "## Weighted Jaccard\n",
    "\n",
    "This metric does not fully capture our intution of distance between two users and the brands they like. For example, two users who have Target in common are less likely to be similar than users who have Autozone in common. So, let's add a weighting which emphasizes less frequent brands.\n",
    "\n",
    "+ Weight each brand by 1/(brand's total likes). This is a useful measure, since we want a large weight with only 2 likes and a much smaller weight with 100 likes.\n",
    "+ This weighting works because \"Target\" is liked by most users, so it is a less meaningful brand for similarity than \"Zipcar\"."
   ]
  },
  {
   "cell_type": "code",
   "execution_count": 15,
   "metadata": {
    "collapsed": true
   },
   "outputs": [],
   "source": [
    "# count how many times each brand appears in the entire dataset\n",
    "brand_freq = Counter()  # ???\n",
    "\n",
    "def weighted_jaccard(set1, set2):\n",
    "        return 0.0"
   ]
  },
  {
   "cell_type": "code",
   "execution_count": 16,
   "metadata": {
    "collapsed": true
   },
   "outputs": [],
   "source": [
    "# Make test sets by hand, for example using 'Target' and 'Banana Republic'.\n",
    "# Compute what the weighted jaccard score should be for your test set.\n",
    "# Does calling your function yield the same result?\n"
   ]
  },
  {
   "cell_type": "markdown",
   "metadata": {},
   "source": [
    "## Recommendation Engine\n",
    "\n",
    "First, we'll define two already completed helper functions. \n",
    "\n",
    "```\n",
    "# Pretty-prints similar brands to Target\n",
    "similar_brands('Target')\n",
    "\n",
    "# Pretty-prints brands that user 86184 will like\n",
    "similar_users('86184') \n",
    "```\n",
    "\n"
   ]
  },
  {
   "cell_type": "code",
   "execution_count": 1,
   "metadata": {
    "collapsed": true
   },
   "outputs": [],
   "source": [
    "def similar_brands(brand_name):\n",
    "    \"\"\"\n",
    "    Given a brand name **string**, returns a pretty-print string of \n",
    "        recommendations of more brands.\n",
    "    \"\"\"\n",
    "\n",
    "    # IMPORTANT: 'recommend_for_brands' expects a set of brand names.\n",
    "    #   Because 'brand_name' is a string, we convert the single name \n",
    "    #   to a set containing the brand name\n",
    "\n",
    "    recs = recommend_for_brands(set([brand_name]))\n",
    "\n",
    "    return \"For a user who likes {liked}, we recommend {recs}.\".format(\n",
    "        liked=brand_name,\n",
    "        recs=\", \".join(recs))\n",
    "\n",
    "\n",
    "def similar_users(user):\n",
    "    \"\"\"\n",
    "    Given a user name **string**, returns a pretty-print string \n",
    "      of recommendations for a user.\n",
    "    \"\"\"\n",
    "    recs = recommend_for_user(user)\n",
    "\n",
    "    return \"For user {user}, who likes {liked}, we recommend {recs}.\".format(\n",
    "        user=user,\n",
    "        liked=\", \".join(user_brands.get(user, [\"nothing\"])),\n",
    "        recs=\", \".join(recs))"
   ]
  },
  {
   "cell_type": "markdown",
   "metadata": {},
   "source": [
    "Next, we define how to recommend brands to users. Make sure you understand how it works -- we just ask for similar brands to the brands the user already likes. \n",
    "\n",
    "The below function is complete -- no additional code must be written!"
   ]
  },
  {
   "cell_type": "code",
   "execution_count": 18,
   "metadata": {
    "collapsed": true
   },
   "outputs": [],
   "source": [
    "def recommend_for_user(user_string):\n",
    "    \"\"\"\n",
    "     Recommend items to a user that are similar \n",
    "       to the brands the user already likes\n",
    "    \"\"\"\n",
    "\n",
    "    return recommend_for_brands(user_brands.get(user_string, set()))\n",
    "\n",
    "    # NOTE: The second parameter to get() is the default\n",
    "    #   value to send if the user is not a key in 'user_brands'"
   ]
  },
  {
   "cell_type": "markdown",
   "metadata": {},
   "source": [
    "Finally, we implement recommending brands based on a list of brands. To do this, we will find the users closest to the brands set. Then, other brands that those users like will be recommended. \n",
    "\n",
    "Use the ```jaccard``` or ```jaccard_weighted``` as your distance function to rank users. Then, use your best judgement for how to collect the additional brands."
   ]
  },
  {
   "cell_type": "code",
   "execution_count": 101,
   "metadata": {
    "collapsed": true
   },
   "outputs": [],
   "source": [
    "def recommend_for_brands(brands_set):\n",
    "    \"\"\"\n",
    "    Return top five recommended brands\n",
    "      based on the brands in 'brands_set'.\n",
    "    \"\"\"\n",
    "    \n",
    "    # The strategy is:\n",
    "    #   (1) Find the users most similar to the 'brands_set'.\n",
    "    #   (2) Get 5 brands those users also like\n",
    "    #   (3) OPTIONAL: Weight the 5 stores by most unique to least unique\n",
    "\n",
    "    return []"
   ]
  },
  {
   "cell_type": "markdown",
   "metadata": {},
   "source": [
    "## Testing"
   ]
  },
  {
   "cell_type": "code",
   "execution_count": null,
   "metadata": {
    "collapsed": true
   },
   "outputs": [],
   "source": [
    "# For testing, recommend brands similar to Target and Banana Republic\n",
    "print(\"\\n\" + similar_brands(\"Target\"))\n",
    "print(similar_brands(\"Banana Republic\"))\n",
    "\n",
    "# For testing, recommend brands for users 86184 and 83126\n",
    "#    NOTE: This is based on the brands each user likes\n",
    "print(similar_users(\"86184\"))\n",
    "print(similar_users(\"83126\"))"
   ]
  },
  {
   "cell_type": "markdown",
   "metadata": {},
   "source": [
    "## Recap\n",
    "\n",
    "You just implemented User-Item collaborative filtering, making recommendations as follows:\n",
    "+ **Step One:** Find users similar to the target user.\n",
    "+ **Step Two:** Recommend things that similar users like."
   ]
  },
  {
   "cell_type": "markdown",
   "metadata": {},
   "source": [
    "## Challenge: Item-Item Collaborative Filtering\n",
    "\n",
    "Now, let's try making an Item-Item recommendation system, as follows. Given a user, we will again recommend other brands the user may like. Instead of looking at other similar users, however, this time we will look at similar items to what the user likes:\n",
    "\n",
    "+ **Step One:** Determine similarity of brands to one another. \n",
    "    - Of all users who like brand X, what other brands do they most like?\n",
    "\n",
    "\n",
    "+ **Step Two:** Given a target user, recommend similar brands to the brands the user likes.\n",
    "\n",
    "Note there may be many valid ways of implementing both steps!"
   ]
  },
  {
   "cell_type": "code",
   "execution_count": 3,
   "metadata": {
    "collapsed": true
   },
   "outputs": [],
   "source": [
    "# Often, this is computed overnight for all brands and \n",
    "#     stored for making quick recommendations\n",
    "\n",
    "# For a given brand, returns the most similar other brands\n",
    "def get_most_similar_brands(brand, max_n=10):\n",
    "    most_similar_brand_names = []\n",
    "    \n",
    "    # 1. Of the users who like this brand, \n",
    "    #     count how many times they like other brands.\n",
    "    \n",
    "    \n",
    "    # 2. Weight the brands to eliminate common ones such as Target.\n",
    "    \n",
    "    \n",
    "    # 3. Sort the brands by largest score and return only the names\n",
    "    \n",
    "    return most_similar_brand_names[:max_n]"
   ]
  },
  {
   "cell_type": "code",
   "execution_count": null,
   "metadata": {
    "collapsed": true
   },
   "outputs": [],
   "source": [
    "import random\n",
    "\n",
    "def get_user_recommendations(user, max_n=10):\n",
    "    final_brand_names = []\n",
    "    \n",
    "    # 1. Given the brands the user likes, return the similar brands!\n",
    "    \n",
    "    return random.sample(final_brand_names, max_n)"
   ]
  }
 ],
 "metadata": {
  "kernelspec": {
   "display_name": "Python 3",
   "language": "python",
   "name": "python3"
  },
  "language_info": {
   "codemirror_mode": {
    "name": "ipython",
    "version": 3
   },
   "file_extension": ".py",
   "mimetype": "text/x-python",
   "name": "python",
   "nbconvert_exporter": "python",
   "pygments_lexer": "ipython3",
   "version": "3.6.6"
  }
 },
 "nbformat": 4,
 "nbformat_minor": 1
}
