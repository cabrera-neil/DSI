{
 "cells": [
  {
   "cell_type": "markdown",
   "metadata": {},
   "source": [
    "<img src=\"http://imgur.com/1ZcRyrc.png\" style=\"float: left; margin: 20px; height: 55px\">\n",
    "\n",
    "# Additional Bayesian Statistics Problems\n",
    "\n",
    "_Authors: Matt Brems (DC), Richard Harris (CHI), Kiefer Katovich (SF)_\n",
    "\n",
    "---\n"
   ]
  },
  {
   "cell_type": "code",
   "execution_count": 4,
   "metadata": {
    "collapsed": true
   },
   "outputs": [],
   "source": [
    "import matplotlib.pyplot as plt\n",
    "import numpy as np\n",
    "import pandas as pd\n",
    "import seaborn as sns\n",
    "\n",
    "sns.set_style(\"whitegrid\")\n",
    "\n",
    "%matplotlib inline\n",
    "%config InlineBackend.figure_format = 'retina'"
   ]
  },
  {
   "cell_type": "markdown",
   "metadata": {},
   "source": [
    "### 1) Pregnancy Screening\n",
    "\n",
    "Imagine that we have a suspicion that someone is pregnant. We might use a pregnancy test to determine whether or not that's the case. Consider the following:\n",
    "\n",
    "1) Our hypothesis, $H$, is that this person is pregnant.\n",
    "2) A positive result on the pregnancy test is denoted as $D$.\n",
    "3) We'll consider some \"information\" about the world:\n",
    "  - $p(H) = 0.125$ — In other words, on average, 12.5 percent of women are pregnant (not accurate, but useful for our purposes here).\n",
    "  - $p(D) = 0.14$ — Fourteen percent of people who take the pregnancy test come back with a positive result.\n",
    "  - $p(D|H) = 0.85$ — The likelihood states, \"How likely would we get data that look like this _if_ our hypothesis was true?\" In other words, how accurate is our test?\n",
    "  \n",
    "**Estimate how likely it is that a woman who got a positive result is actually be pregnant using Bayes' theorem.**"
   ]
  },
  {
   "cell_type": "code",
   "execution_count": 1,
   "metadata": {
    "collapsed": true
   },
   "outputs": [],
   "source": [
    "# A:"
   ]
  },
  {
   "cell_type": "markdown",
   "metadata": {},
   "source": [
    "### 2) The Cookie Challenge\n",
    "\n",
    "Imagine that we have two jars of cookies, each with their own ratio of cookies:\n",
    "\n",
    "**Jar 1** (10 cookies)\n",
    "- 50 percent chocolate.\n",
    "- 50 percent vanilla.\n",
    "\n",
    "**Jar 2** (40 cookies)\n",
    "- 75 percent chocolate.\n",
    "- 25 percent vanilla.\n",
    "\n",
    "Answer the following questions:\n",
    "\n",
    "**2.A) If we take out a vanilla cookie from a jar without telling you which jar, could you estimate the probability of drawing from Jar 2?**\n",
    "\n",
    "**2.B) Suppose that we got one chocolate and then one vanilla cookie. We put each cookie back in the jar after we get it (sampling with replacement). What is the probability that we drew from Jar 2?**"
   ]
  },
  {
   "cell_type": "code",
   "execution_count": null,
   "metadata": {
    "collapsed": true
   },
   "outputs": [],
   "source": [
    "# A:"
   ]
  },
  {
   "cell_type": "markdown",
   "metadata": {},
   "source": [
    "### 3) German Tank Problem\n",
    "\n",
    "A railroad numbers its railcars $1,\\ldots,N$. You see a railcar with the number 60 painted on it. You need to come up with an estimate for $N$. We'll denote $N=\\theta$ to stick with our standard notation.\n",
    "\n",
    "Apply Bayesian analysis to this problem by articulating the hypothesis/hypotheses, the data, and the likelihood. Be sure to try at least three separate prior distributions for $\\theta$. What effect does this have on your posterior distribution of $\\theta$ and, thus, your estimate for $N$?"
   ]
  },
  {
   "cell_type": "code",
   "execution_count": null,
   "metadata": {
    "collapsed": true
   },
   "outputs": [],
   "source": [
    "# A:"
   ]
  },
  {
   "cell_type": "markdown",
   "metadata": {},
   "source": [
    "### 4) Dungeons & Dragons Dice Problem No. 1\n",
    "\n",
    "There are five dice: a four-sided die, a six-sided die, an eight-sided die, a 12-sided die, and a 20-sided die. You roll a six. The problem is to predict which die was thrown.\n",
    "\n",
    "Apply Bayesian analysis to this problem by articulating the hypothesis/hypotheses, the data, and the likelihood. Identify which die you believe was thrown and the likelihood of your prediction."
   ]
  },
  {
   "cell_type": "code",
   "execution_count": 2,
   "metadata": {
    "collapsed": true
   },
   "outputs": [],
   "source": [
    "# A:"
   ]
  },
  {
   "cell_type": "markdown",
   "metadata": {},
   "source": [
    "### 5) Dungeons & Dragons Dice Problem No. 2\n",
    "\n",
    "There are five dice: a four-sided die, a six-sided die, an eight-sided die, a 12-sided die, and a 20-sided die. You roll the same die and get a six, four, eight, seven, five, and seven. The problem is to predict which die was thrown.\n",
    "\n",
    "Apply Bayesian analysis to this problem by articulating the hypothesis/hypotheses, the data, and the likelihood. Identify which die you believe was thrown and the likelihood of your prediction."
   ]
  },
  {
   "cell_type": "code",
   "execution_count": 3,
   "metadata": {
    "collapsed": true
   },
   "outputs": [],
   "source": [
    "# A:"
   ]
  },
  {
   "cell_type": "markdown",
   "metadata": {},
   "source": [
    "### 6) M&M's Problem\n",
    "\n",
    "You have two bags of M&M's. The first bag, created before 1995, has the following color distribution: 30 percent brown, 20 percent yellow, 20 percent red, 10 percent orange, 10 percent green, and 10 percent tan. The second bag, created after 1995, has the following color distribution: 24 percent blue, 20 percent green, 16 percent orange, 14 percent yellow, 12 percent red, and 12 percent brown.\n",
    "\n",
    "From one bag, you pull a yellow M&M. You need to predict which bag you pulled the yellow M&M from.\n",
    "\n",
    "Apply Bayesian analysis to this problem by articulating the hypothesis/hypotheses, the data, and the likelihood.\n",
    "\n",
    "Consider that the yellow M&M is already pulled (so this is part of your data). From the other bag, you pull a green M&M. Update your posterior appropriately and update your answer to the problem."
   ]
  },
  {
   "cell_type": "code",
   "execution_count": 4,
   "metadata": {
    "collapsed": true
   },
   "outputs": [],
   "source": [
    "# A:"
   ]
  }
 ],
 "metadata": {
  "anaconda-cloud": {},
  "kernelspec": {
   "display_name": "Python 2",
   "language": "python",
   "name": "python2"
  },
  "language_info": {
   "codemirror_mode": {
    "name": "ipython",
    "version": 2
   },
   "file_extension": ".py",
   "mimetype": "text/x-python",
   "name": "python",
   "nbconvert_exporter": "python",
   "pygments_lexer": "ipython2",
   "version": "2.7.14"
  }
 },
 "nbformat": 4,
 "nbformat_minor": 1
}
