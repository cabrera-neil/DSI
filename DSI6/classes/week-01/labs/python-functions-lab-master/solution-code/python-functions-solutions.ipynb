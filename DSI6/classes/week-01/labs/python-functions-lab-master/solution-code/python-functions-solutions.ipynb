{
 "cells": [
  {
   "cell_type": "markdown",
   "metadata": {},
   "source": [
    "<img src=\"http://imgur.com/1ZcRyrc.png\" style=\"float: left; margin: 20px; height: 55px\">\n",
    "\n",
    "## Practice Python Functions\n",
    "\n",
    "_Author: Ryan Dunlap | DSI-SF_\n",
    "\n",
    "---"
   ]
  },
  {
   "cell_type": "markdown",
   "metadata": {},
   "source": [
    "### Resources - Potentially Helpful Functions\n",
    "\n",
    "* [Dictionary Comprehension](https://docs.python.org/2/tutorial/datastructures.html#dictionaries)\n",
    "* [Enumerate](https://docs.python.org/2/library/functions.html#enumerate)\n",
    "* [Length](https://docs.python.org/2/library/functions.html#len)\n",
    "* [Int](https://docs.python.org/2/library/functions.html#int)\n",
    "* [List](https://docs.python.org/2/library/functions.html#list)"
   ]
  },
  {
   "cell_type": "markdown",
   "metadata": {},
   "source": [
    "Now-a-days, most of the components of the `String` module are already built into Python. However, it still has several [constant values](https://docs.python.org/2/library/string.html#string-constants) which can be useful, such as:\n",
    "```python\n",
    "string.ascii_uppercase\n",
    "```"
   ]
  },
  {
   "cell_type": "code",
   "execution_count": 1,
   "metadata": {},
   "outputs": [
    {
     "data": {
      "text/plain": [
       "'ABCDEFGHIJKLMNOPQRSTUVWXYZ'"
      ]
     },
     "execution_count": 1,
     "metadata": {},
     "output_type": "execute_result"
    }
   ],
   "source": [
    "import string\n",
    "\n",
    "string.ascii_uppercase"
   ]
  },
  {
   "cell_type": "markdown",
   "metadata": {},
   "source": [
    "---\n",
    "\n",
    "### 1. Write a function that takes the length of a side of a square as an argument and returns the area of the square."
   ]
  },
  {
   "cell_type": "code",
   "execution_count": 2,
   "metadata": {},
   "outputs": [],
   "source": [
    "def area_square(length):\n",
    "    return length ** 2"
   ]
  },
  {
   "cell_type": "markdown",
   "metadata": {},
   "source": [
    "We can use the \"`assert`\" statement to validate if our functions output is correct."
   ]
  },
  {
   "cell_type": "code",
   "execution_count": 3,
   "metadata": {},
   "outputs": [
    {
     "name": "stdout",
     "output_type": "stream",
     "text": [
      "True\n"
     ]
    }
   ],
   "source": [
    "print(area_square(5) == 25)"
   ]
  },
  {
   "cell_type": "code",
   "execution_count": 4,
   "metadata": {},
   "outputs": [],
   "source": [
    "assert area_square(5) == 25"
   ]
  },
  {
   "cell_type": "code",
   "execution_count": 5,
   "metadata": {},
   "outputs": [
    {
     "ename": "AssertionError",
     "evalue": "",
     "output_type": "error",
     "traceback": [
      "\u001b[0;31m---------------------------------------------------------------------------\u001b[0m",
      "\u001b[0;31mAssertionError\u001b[0m                            Traceback (most recent call last)",
      "\u001b[0;32m<ipython-input-5-f968bb1106ce>\u001b[0m in \u001b[0;36m<module>\u001b[0;34m()\u001b[0m\n\u001b[1;32m      1\u001b[0m \u001b[0;31m# If our assert statement is false, assert will return an error.\u001b[0m\u001b[0;34m\u001b[0m\u001b[0;34m\u001b[0m\u001b[0m\n\u001b[1;32m      2\u001b[0m \u001b[0;34m\u001b[0m\u001b[0m\n\u001b[0;32m----> 3\u001b[0;31m \u001b[0;32massert\u001b[0m \u001b[0marea_square\u001b[0m\u001b[0;34m(\u001b[0m\u001b[0;36m5\u001b[0m\u001b[0;34m)\u001b[0m \u001b[0;34m==\u001b[0m \u001b[0;36m21\u001b[0m\u001b[0;34m\u001b[0m\u001b[0m\n\u001b[0m",
      "\u001b[0;31mAssertionError\u001b[0m: "
     ]
    }
   ],
   "source": [
    "# If our assert statement is false, assert will return an error.\n",
    "\n",
    "assert area_square(5) == 21"
   ]
  },
  {
   "cell_type": "markdown",
   "metadata": {},
   "source": [
    "---\n",
    "\n",
    "### 2. Write a function that takes the heigth and width of a triangle and returns the area."
   ]
  },
  {
   "cell_type": "code",
   "execution_count": null,
   "metadata": {},
   "outputs": [],
   "source": [
    "def area_triangle(heigth,width):\n",
    "    return width * heigth / 2.0"
   ]
  },
  {
   "cell_type": "code",
   "execution_count": null,
   "metadata": {},
   "outputs": [],
   "source": [
    "assert area_triangle(2,2) == 2\n",
    "assert area_triangle(5,5) == 12.5"
   ]
  },
  {
   "cell_type": "code",
   "execution_count": null,
   "metadata": {},
   "outputs": [],
   "source": [
    "assert area_triangle(2,2) == 20"
   ]
  },
  {
   "cell_type": "markdown",
   "metadata": {},
   "source": [
    "---\n",
    "\n",
    "### 3. Write a function that takes a string as an argument and returns a tuple consisting of two elements:\n",
    "- **A list of all the characters in the string.** \n",
    "- **A count of the number of characters in the string.**"
   ]
  },
  {
   "cell_type": "code",
   "execution_count": null,
   "metadata": {},
   "outputs": [],
   "source": [
    "# approach 1\n",
    "def string_list_fun(user_string):\n",
    "    return (list(user_string),len(user_string))"
   ]
  },
  {
   "cell_type": "code",
   "execution_count": null,
   "metadata": {},
   "outputs": [],
   "source": [
    "# approach 2\n",
    "def string_list_fun(user_string):\n",
    "    chars = []\n",
    "    for c in user_string:\n",
    "        chars.append(c)\n",
    "    return (chars,len(user_string))"
   ]
  },
  {
   "cell_type": "code",
   "execution_count": null,
   "metadata": {},
   "outputs": [],
   "source": [
    "assert string_list_fun('Ryan Rocks') == (['R','y','a','n',' ','R','o','c','k','s'],10)"
   ]
  },
  {
   "cell_type": "code",
   "execution_count": null,
   "metadata": {},
   "outputs": [],
   "source": [
    "string_list_fun('Ryan Rocks')"
   ]
  },
  {
   "cell_type": "markdown",
   "metadata": {},
   "source": [
    "---\n",
    "\n",
    "### 4. Write a function that takes two integers, passed as strings, and returns the sum, difference, and product as a tuple (all values as integers)."
   ]
  },
  {
   "cell_type": "code",
   "execution_count": null,
   "metadata": {},
   "outputs": [],
   "source": [
    "def math_rocks(number_1, number_2):\n",
    "    \n",
    "    int_1 = int(number_1)\n",
    "    int_2 = int(number_2)\n",
    "    \n",
    "    my_sum = int_1 + int_2\n",
    "    my_diff = int_1 - int_2\n",
    "    my_prod = int_1 * int_2\n",
    "    \n",
    "    return (my_sum, my_diff, my_prod)"
   ]
  },
  {
   "cell_type": "code",
   "execution_count": null,
   "metadata": {},
   "outputs": [],
   "source": [
    "assert math_rocks('5','2') == (7,3,10)\n",
    "math_rocks('5','2')"
   ]
  },
  {
   "cell_type": "code",
   "execution_count": null,
   "metadata": {},
   "outputs": [],
   "source": [
    "# to get the values\n",
    "my_sum, my_diff, my_prod = math_rocks('5','2')\n",
    "print(my_sum, my_diff, my_prod)"
   ]
  },
  {
   "cell_type": "markdown",
   "metadata": {},
   "source": [
    "---\n",
    "\n",
    "### 5. Write a function that takes a list as the argument and returns a tuple consisting of two elements:\n",
    "- **A list with the items in reverse order.**  \n",
    "- **A list of the items in the original list that have an odd index.**"
   ]
  },
  {
   "cell_type": "code",
   "execution_count": null,
   "metadata": {},
   "outputs": [],
   "source": [
    "def getting_crazy(my_list):\n",
    "    # we can use -1 to reverse index the list\n",
    "    reverse_list = my_list[::-1]\n",
    "    \n",
    "    # start from index 1 and grab everyother index from there(1,3,5 etc.)\n",
    "    odd_list = my_list[1::2]\n",
    "    \n",
    "    return (reverse_list,odd_list)"
   ]
  },
  {
   "cell_type": "code",
   "execution_count": null,
   "metadata": {},
   "outputs": [],
   "source": [
    "assert getting_crazy([1,2,3,4,5]) == ([5,4,3,2,1],[2,4])\n",
    "getting_crazy([1,2,3,4,5])"
   ]
  },
  {
   "cell_type": "markdown",
   "metadata": {},
   "source": [
    "---\n",
    "\n",
    "### Challenge Problem: Write a function that returns the score for a word.  The score of the word is the sum of the scores of its letters. Each letter's score is equal to it's position in the alphabet.\n",
    "\n",
    "So, for example:\n",
    "\n",
    "* A = 1, B = 2, C = 3, D = 4, E = 5\n",
    "* abe = 8 = (1 + 2 + 5)\n",
    "\n",
    "\n",
    "_Hint: The string library has a property_ `ascii_lowercase` _that can save some typing here._\n"
   ]
  },
  {
   "cell_type": "code",
   "execution_count": null,
   "metadata": {},
   "outputs": [],
   "source": [
    "def score_word(user_word):\n",
    "    # added level to ensure letters used are uniform\n",
    "    user_word = user_word.lower()\n",
    "    \n",
    "    # Baseline score to add to\n",
    "    score = 0\n",
    "    \n",
    "    # iterates through the argument word and adds their scores to the total\n",
    "    for letter in user_word:\n",
    "        score += string.ascii_lowercase.index(letter)+1 # +1 because the first index is 0\n",
    "        \n",
    "    return score"
   ]
  },
  {
   "cell_type": "code",
   "execution_count": null,
   "metadata": {},
   "outputs": [],
   "source": [
    "assert score_word(\"abe\") == 8"
   ]
  }
 ],
 "metadata": {
  "anaconda-cloud": {},
  "kernelspec": {
   "display_name": "Python 3",
   "language": "python",
   "name": "python3"
  },
  "language_info": {
   "codemirror_mode": {
    "name": "ipython",
    "version": 3
   },
   "file_extension": ".py",
   "mimetype": "text/x-python",
   "name": "python",
   "nbconvert_exporter": "python",
   "pygments_lexer": "ipython3",
   "version": "3.6.6"
  }
 },
 "nbformat": 4,
 "nbformat_minor": 1
}
