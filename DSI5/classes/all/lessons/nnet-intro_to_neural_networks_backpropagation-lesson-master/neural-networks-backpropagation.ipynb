{
 "cells": [
  {
   "cell_type": "markdown",
   "metadata": {},
   "source": [
    "<img src=\"http://imgur.com/1ZcRyrc.png\" style=\"float: left; margin: 20px; height: 55px\">\n",
    "\n",
    "# Introduction to Neural Networks and Backpropagation\n",
    "\n",
    "_Authors: Kiefer Katovich (SF)_\n",
    "\n",
    "---\n",
    "\n",
    "### Learning Objective\n",
    "- Learn what a neural network is. \n",
    "- Visualize a simple feedforward neural network.\n",
    "- Code the forward propagation algorithm.\n",
    "- Understand the math behind neural network fitting and backpropagation.\n",
    "- Code a class for a simple neural network by hand!\n",
    "- Understand the concept of activation functions and the sigmoid activation.\n",
    "- Test out the custom neural network class on the XOR problem."
   ]
  },
  {
   "cell_type": "markdown",
   "metadata": {},
   "source": [
    "### Lesson Guide\n",
    "- [Visualizing a simple feedforward neural network](#visualizing-a-simple-feedforward-neural-network)\n",
    "- [Initializing the neurons with numpy](#initializing-the-neurons-with-numpy)\n",
    "- [Equation for neuron activation](#equation-for-neuron-activation)\n",
    "\t- [Matrix algebra notation](#matrix-algebra-notation)\n",
    "- [Coding the forward propagation](#coding-the-forward-propagation)\n",
    "\t- [Linear activation function](#linear-activation-function)\n",
    "\t- [Function for the activation of a single neuron](#function-for-the-activation-of-a-single-neuron)\n",
    "\t- [Function to compute layer-to-layer forward propagation](#function-to-compute-layer-to-layer-forward-propagation)\n",
    "\t- [Matrix algebra version of forward propagation](#matrix-algebra-version-of-forward-propagation)\n",
    "- [The XOR problem](#the-xor-problem)\n",
    "\t- [Loss function](#loss-function)\n",
    "- [Backpropagation: adjusting parameters in a direction that reduces loss](#backpropagation-adjusting-parameters-in-a-direction-that-reduces-loss)\n",
    "\t- [A very simple network](#a-very-simple-network)\n",
    "\t- [Derivative of error with respect to parameters](#derivative-of-error-with-respect-to-parameters)\n",
    "- [The chain rule of calculus](#the-chain-rule-of-calculus)\n",
    "- [Error of a single neuron](#error-of-a-single-neuron)\n",
    "- [Error of the output layer](#error-of-the-output-layer)\n",
    "\t- [Calculate the error of the output layer](#calculate-the-error-of-the-output-layer)\n",
    "- [Calculating error of a layer using the error of the following layer](#calculating-error-of-a-layer-using-the-error-of-the-following-layer)\n",
    "- [Rate of change of cost with respect to bias](#rate-of-change-of-cost-with-respect-to-bias)\n",
    "- [Rate of change of cost with respect to weights](#rate-of-change-of-cost-with-respect-to-weights)\n",
    "- [Putting it all together into a neural network](#putting-it-all-together-into-a-neural-network)\n",
    "\t- [Initialization](#initialization)\n",
    "\t- [The sigmoid actiation function](#the-sigmoid-actiation-function)\n",
    "\t- [Code the forward propagation](#code-the-forward-propagation)\n",
    "\t- [Implement the backpropagation step](#implement-the-backpropagation-step)\n",
    "\t- [Implement a fit function](#implement-a-fit-function)\n",
    "- [Test the custom network on the XOR problem](#test-the-custom-network-on-the-xor-problem)\n"
   ]
  },
  {
   "cell_type": "code",
   "execution_count": 1,
   "metadata": {},
   "outputs": [],
   "source": [
    "import matplotlib.pyplot as plt\n",
    "import numpy as np\n",
    "import pandas as pd\n",
    "import seaborn as sns\n",
    "\n",
    "sns.set_style('whitegrid')\n",
    "\n",
    "%matplotlib inline\n",
    "%config InlineBackend.figure_format = 'retina'"
   ]
  },
  {
   "cell_type": "code",
   "execution_count": 2,
   "metadata": {},
   "outputs": [],
   "source": [
    "def draw_neural_net(ax, layer_sizes, layer_activations=None, weights=None,\n",
    "                    left=0.1, right=0.9, bottom=0.1, top=0.9):\n",
    "    '''\n",
    "    Draw a neural network cartoon using matplotilb.\n",
    "\n",
    "    :usage:\n",
    "        >>> fig = plt.figure(figsize=(12, 12))\n",
    "        >>> draw_neural_net(fig.gca(), .1, .9, .1, .9, [4, 7, 2])\n",
    "\n",
    "    '''\n",
    "    n_layers = len(layer_sizes)\n",
    "    v_spacing = (top - bottom)/float(max(max(layer_sizes), 2))\n",
    "    h_spacing = (right - left)/float(len(layer_sizes) - 1)\n",
    "    # Nodes\n",
    "    for n, layer_size in enumerate(layer_sizes):\n",
    "        layer_top = v_spacing*(layer_size - 1)/2. + (top + bottom)/2.\n",
    "        for m in xrange(layer_size):\n",
    "            circle = plt.Circle((n*h_spacing + left, layer_top - m*v_spacing), v_spacing/4.,\n",
    "                                color='w', ec='k', zorder=4)\n",
    "            ax.add_artist(circle)\n",
    "            if layer_activations is not None:\n",
    "                act = layer_activations[n][m]\n",
    "                if not isinstance(act, str):\n",
    "                    act = \"{0:.2f}\".format(act)\n",
    "                    fontsize = 14\n",
    "                else:\n",
    "                    fontsize = 18\n",
    "                ax.text(n*h_spacing + left, layer_top - m*v_spacing,\n",
    "                        act, ha='center', va='center', zorder=5, fontsize=fontsize)\n",
    "    # Edges\n",
    "    for n, (layer_size_a, layer_size_b) in enumerate(zip(layer_sizes[:-1], layer_sizes[1:])):\n",
    "        layer_top_a = v_spacing*(layer_size_a - 1)/2. + (top + bottom)/2.\n",
    "        layer_top_b = v_spacing*(layer_size_b - 1)/2. + (top + bottom)/2.\n",
    "        for m in xrange(layer_size_a):\n",
    "            for o in xrange(layer_size_b):\n",
    "                color = 'k'\n",
    "                lw = 2.\n",
    "                if weights is not None:\n",
    "                    W = weights[n]\n",
    "                    if len(W.shape) == 2:\n",
    "                        w = W[m, o]\n",
    "                    else:\n",
    "                        w = W[o]\n",
    "                    if w < 0:\n",
    "                        color = 'darkred'\n",
    "                    lw = 0.5 + 2*np.abs(w)\n",
    "                    \n",
    "                line = plt.Line2D([n*h_spacing + left, (n + 1)*h_spacing + left],\n",
    "                                  [layer_top_a - m*v_spacing, layer_top_b - o*v_spacing], \n",
    "                                  c=color, lw=lw)\n",
    "                ax.add_artist(line)"
   ]
  },
  {
   "cell_type": "markdown",
   "metadata": {},
   "source": [
    "<a id=\"visualizing-a-simple-feedforward-neural-network\"></a>\n",
    "## Visualizing a simple feedforward neural network\n",
    "---\n",
    "\n",
    "The chart below shows a simple feedforward neural network. There are three layers in this network:\n",
    "- The **input** layer (2 neurons)\n",
    "- The **hidden** layer (3 neurons)\n",
    "- The **output** layer (1 neuron)\n",
    "\n",
    "This is a *fully connected* feedforward network. That means that there are connections from each neuron in one layer to every neuron in the following layer. Note that there are not connections from the input layer to the output layer.\n",
    "\n",
    "The connections between the layers are **weights**. The very high-level behavior of this neural network is that the \"activation\" in a a neuron is multiplied by the weights and that new value is passed forward to the next neuron. When there are multiple incoming connections to a neuron, the weighted activations are summed together.\n",
    "\n",
    "Using neural networks for machine learning tasks, the input neurons are given the value of our predictors. The output layer will represent the prediction (or predictions if there are multiple neurons in the output layer!) of the target. \n",
    "\n",
    "Like with other models, we evaluate the error of the prediction against the true target. Neural networks are fit (their weights adjusted to optimal values) through the process of **backpropagation**. Backpropagation is gradient descent for the parameters (with parameters represented as the weights). The details of backprogagation are covered in this lesson.\n",
    "\n",
    "There are some other nuances like **activation functions** that I have not included in this high level introduction, but we will examine them soon."
   ]
  },
  {
   "cell_type": "code",
   "execution_count": 3,
   "metadata": {
    "scrolled": false
   },
   "outputs": [
    {
     "data": {
      "image/png": "[encoded data removed]",
      "text/plain": [
       "<matplotlib.figure.Figure at 0x110573d50>"
      ]
     },
     "metadata": {
      "image/png": {
       "height": 411,
       "width": 429
      }
     },
     "output_type": "display_data"
    }
   ],
   "source": [
    "fig, ax = plt.subplots(figsize=(7, 7))\n",
    "ax.axis('off')\n",
    "draw_neural_net(ax, [2, 3, 1], layer_activations=[[1.23, 1.23], \n",
    "                                                  [2.33, 4.33, 5.44], \n",
    "                                                  [1.34555]],\n",
    "                weights=[np.random.normal(0,1, size=(2,3)), \n",
    "                         np.random.normal(0,1, size=(3,1))])\n"
   ]
  },
  {
   "cell_type": "markdown",
   "metadata": {},
   "source": [
    "<a id=\"initializing-the-neurons-with-numpy\"></a>\n",
    "## Initializing the neurons with numpy\n",
    "---\n",
    "\n",
    "We can start to build this simple neural network using numpy:"
   ]
  },
  {
   "cell_type": "code",
   "execution_count": 4,
   "metadata": {},
   "outputs": [
    {
     "name": "stdout",
     "output_type": "stream",
     "text": [
      "[0. 0.] [0. 0. 0.] [0.]\n"
     ]
    }
   ],
   "source": [
    "input_act = np.zeros(2)\n",
    "hidden_act = np.zeros(3)\n",
    "output_act = np.zeros(1)\n",
    "\n",
    "print input_act, hidden_act, output_act"
   ]
  },
  {
   "cell_type": "markdown",
   "metadata": {},
   "source": [
    "<a id=\"equation-for-neuron-activation\"></a>\n",
    "## Equation for neuron activation \n",
    "---\n",
    "\n",
    "We can write the equation for the activation of the $j$th neuron in the $i$th layer as:\n",
    "\n",
    "### $$ a_j^i = \\sigma \\left( \\sum_k w_{jk}^i a_k^{i-1} + b_j^i \\right)$$\n",
    "\n",
    "There is a decent amount going on in this equation. We will examine the pieces.\n",
    "\n",
    "- $a_j^i$ represents the activation of the $j$th neuron in the $i$th layer. Note that the superscript corresponds to the layer number and the subscript corresponds to the neuron number within the layer.\n",
    "\n",
    "- $a_k^{i-1}$ is the activation of the $k$th neuron in the $i-1$th layer.\n",
    "\n",
    "- $\\sigma$ represents an \"activation function\". More on this later, but it is a function that can transform the activation of neurons. The simplest activation function is the linear activation, $f(x) = x$.\n",
    "\n",
    "- $w_{jk}^i$ represents the weight of the activation in the $k$th neuron in the $i-1$ layer to the $j$th neuron in the $i$th layer. So, $j$ is the destination neuron in the $i$ layer. $k$ is the departure neuron in the previous layer.\n",
    "\n",
    "- $b_j^i$ is the \"bias\" of the $j$th neuron in the $i$th layer. The bias adds a constant to the value of the activation.\n",
    "\n",
    "The gist of the equation is that each neuron is a sum of the weighted activations of neurons that feed into it plus a \"bias\" value, all fed through a final activation function.\n"
   ]
  },
  {
   "cell_type": "markdown",
   "metadata": {},
   "source": [
    "<a id=\"matrix-algebra-notation\"></a>\n",
    "### Matrix algebra notation\n",
    "\n",
    "The formula becomes cleaner in matrix notation. Here is the vectorized version of the formula above:\n",
    "\n",
    "### $$ a^i = \\sigma(W^i a^{i-1} + b^i) $$\n",
    "\n",
    "Now there is a weight matrix $W^i$ for each layer $i$. The weight matrix defines the weightings on the previous layer neuron activations to the neurons of the current layer. "
   ]
  },
  {
   "cell_type": "markdown",
   "metadata": {},
   "source": [
    "<a id=\"coding-the-forward-propagation\"></a>\n",
    "## Coding the forward propagation\n",
    "---\n",
    "\n",
    "We can manually demo how the activations are propagated forward through the network using our simple architecture. We will do this with the element-wise and linear algebraic formula both for clarity.\n",
    "    \n",
    "<a id=\"linear-activation-function\"></a>\n",
    "### Linear activation function\n",
    "\n",
    "First off, let's code the linear activation function. This is the most basic activation function and literally just returns the input as output.\n",
    "\n",
    "### $$ f(x) = x $$"
   ]
  },
  {
   "cell_type": "code",
   "execution_count": 5,
   "metadata": {},
   "outputs": [],
   "source": [
    "def linear(x):\n",
    "    return x"
   ]
  },
  {
   "cell_type": "markdown",
   "metadata": {},
   "source": [
    "<a id=\"function-for-the-activation-of-a-single-neuron\"></a>\n",
    "### Function for the activation of a single neuron\n",
    "\n",
    "We can write a function to calculate the activation of a **single** neuron given arguments:\n",
    "\n",
    "    neurons\n",
    "    neuron_weights\n",
    "    bias\n",
    "    activation_func\n",
    "\n",
    "According to the formula outlined above."
   ]
  },
  {
   "cell_type": "code",
   "execution_count": 6,
   "metadata": {},
   "outputs": [],
   "source": [
    "def single_activation(neurons, neuron_weights, bias, activation_func=linear):\n",
    "    activation = 0.\n",
    "    for n, w in zip(neurons, neuron_weights):\n",
    "        activation += n*w\n",
    "    activation += bias\n",
    "    activation = activation_func(activation)\n",
    "    return activation\n",
    "    "
   ]
  },
  {
   "cell_type": "markdown",
   "metadata": {},
   "source": [
    "**Test out the activation function on a set of input neurons, weights, and bias.**"
   ]
  },
  {
   "cell_type": "code",
   "execution_count": 7,
   "metadata": {},
   "outputs": [
    {
     "data": {
      "text/plain": [
       "13.0"
      ]
     },
     "execution_count": 7,
     "metadata": {},
     "output_type": "execute_result"
    }
   ],
   "source": [
    "single_activation([1.,2.,3.], [0.5, 0.5, 0.5], bias=10.)"
   ]
  },
  {
   "cell_type": "markdown",
   "metadata": {},
   "source": [
    "**We can visualize our test using the plotting function as well.**"
   ]
  },
  {
   "cell_type": "code",
   "execution_count": 8,
   "metadata": {},
   "outputs": [
    {
     "data": {
      "image/png": "[encoded data removed]",
      "text/plain": [
       "<matplotlib.figure.Figure at 0x115383f50>"
      ]
     },
     "metadata": {
      "image/png": {
       "height": 411,
       "width": 429
      }
     },
     "output_type": "display_data"
    }
   ],
   "source": [
    "fig, ax = plt.subplots(figsize=(7, 7))\n",
    "ax.axis('off')\n",
    "draw_neural_net(ax, [3, 1], layer_activations=np.array([[1,2,3],[13]]),\n",
    "                weights=np.array([[0.5, 0.5, 0.5]]))"
   ]
  },
  {
   "cell_type": "markdown",
   "metadata": {},
   "source": [
    "<a id=\"function-to-compute-layer-to-layer-forward-propagation\"></a>\n",
    "### Function to compute layer-to-layer forward propagation\n",
    "\n",
    "Having the function to calculate activation for a single neuron, we can write a function to calculate an entire layer-to-layer forward propagation. This function will accept arguments:\n",
    "\n",
    "    layer_in\n",
    "    in_out_weights\n",
    "    layer_out_biases\n",
    "    activation_function\n",
    "    \n",
    "The `in_out_weights` will be a matrix or list of lists that specifies the weightings for each of the input neuron activations to all of the neurons in the output layer. The biases will be a vector the same length as the output layer.\n",
    "\n",
    "Assume that the layers in and out are represented as 1D vectors."
   ]
  },
  {
   "cell_type": "code",
   "execution_count": 9,
   "metadata": {},
   "outputs": [],
   "source": [
    "def layer_activation(layer_in, in_out_weights, out_biases, activation_func=linear):\n",
    "    activations = np.zeros(in_out_weights.shape[1])\n",
    "    print 'initial activations:', activations\n",
    "    for col in range(in_out_weights.shape[1]):\n",
    "        current_weights = in_out_weights[:, col]\n",
    "        print 'current weights:', current_weights\n",
    "        current_bias = out_biases[col]\n",
    "        activations[col] = single_activation(layer_in, current_weights, current_bias,\n",
    "                                             activation_func=activation_func)\n",
    "    return activations"
   ]
  },
  {
   "cell_type": "markdown",
   "metadata": {},
   "source": [
    "**We can test it out below. Initialize the inputs, weights, and biases to calculate the hidden layer:**"
   ]
  },
  {
   "cell_type": "code",
   "execution_count": 10,
   "metadata": {},
   "outputs": [
    {
     "name": "stdout",
     "output_type": "stream",
     "text": [
      "[-0.43467042 -0.8969043 ]\n",
      "[[-0.30405042 -0.97280051 -1.13353324]\n",
      " [ 0.90450323  0.47001421 -0.23197764]]\n",
      "[1. 1. 1.]\n"
     ]
    }
   ],
   "source": [
    "input_act = np.random.uniform(-1, 1, size=2)\n",
    "input_to_hidden = np.random.randn(2, 3)\n",
    "hidden_biases = np.ones(3)\n",
    "\n",
    "print input_act\n",
    "print input_to_hidden\n",
    "print hidden_biases"
   ]
  },
  {
   "cell_type": "code",
   "execution_count": 11,
   "metadata": {},
   "outputs": [
    {
     "name": "stdout",
     "output_type": "stream",
     "text": [
      "initial activations: [0. 0. 0.]\n",
      "current weights: [-0.30405042  0.90450323]\n",
      "current weights: [-0.97280051  0.47001421]\n",
      "current weights: [-1.13353324 -0.23197764]\n"
     ]
    },
    {
     "data": {
      "text/plain": [
       "array([0.32090888, 1.00128984, 1.70077511])"
      ]
     },
     "execution_count": 11,
     "metadata": {},
     "output_type": "execute_result"
    }
   ],
   "source": [
    "hidden_act = layer_activation(input_act, input_to_hidden, hidden_biases)\n",
    "hidden_act"
   ]
  },
  {
   "cell_type": "code",
   "execution_count": 12,
   "metadata": {},
   "outputs": [
    {
     "data": {
      "image/png": "[encoded data removed]",
      "text/plain": [
       "<matplotlib.figure.Figure at 0x11585bd90>"
      ]
     },
     "metadata": {
      "image/png": {
       "height": 411,
       "width": 429
      }
     },
     "output_type": "display_data"
    }
   ],
   "source": [
    "fig, ax = plt.subplots(figsize=(7, 7))\n",
    "ax.axis('off')\n",
    "draw_neural_net(ax, [2, 3], layer_activations=[input_act, hidden_act],\n",
    "                weights=input_to_hidden)\n"
   ]
  },
  {
   "cell_type": "markdown",
   "metadata": {},
   "source": [
    "**You can do the same for the hidden layer to the output layer.**\n",
    "\n",
    "Initialize the hidden to output weights as well as the bias for the output weights, then you can use the function again."
   ]
  },
  {
   "cell_type": "code",
   "execution_count": 13,
   "metadata": {},
   "outputs": [
    {
     "name": "stdout",
     "output_type": "stream",
     "text": [
      "[[ 0.28570415]\n",
      " [ 1.23965114]\n",
      " [-0.03356812]]\n",
      "[-1]\n"
     ]
    }
   ],
   "source": [
    "hidden_to_output = np.random.randn(3,1)\n",
    "print hidden_to_output\n",
    "output_bias = np.array([-1])\n",
    "print output_bias"
   ]
  },
  {
   "cell_type": "code",
   "execution_count": 14,
   "metadata": {},
   "outputs": [
    {
     "name": "stdout",
     "output_type": "stream",
     "text": [
      "[0.32090888 1.00128984 1.70077511]\n",
      "[ 0.28570415  1.23965114 -0.03356812]\n",
      "[ 0.091685    1.2412501  -0.05709183]\n",
      "1.2758432697642428\n",
      "0.2758432697642428\n"
     ]
    }
   ],
   "source": [
    "print hidden_act\n",
    "print hidden_to_output.T[0]\n",
    "print hidden_act * hidden_to_output.T[0]\n",
    "print np.sum(hidden_act * hidden_to_output.T[0])\n",
    "print np.sum(hidden_act * hidden_to_output.T[0]) -1"
   ]
  },
  {
   "cell_type": "code",
   "execution_count": 15,
   "metadata": {},
   "outputs": [
    {
     "data": {
      "text/plain": [
       "0.2758432697642428"
      ]
     },
     "execution_count": 15,
     "metadata": {},
     "output_type": "execute_result"
    }
   ],
   "source": [
    "np.sum(hidden_act*hidden_to_output.T) -1 "
   ]
  },
  {
   "cell_type": "code",
   "execution_count": 16,
   "metadata": {},
   "outputs": [
    {
     "name": "stdout",
     "output_type": "stream",
     "text": [
      "initial activations: [0.]\n",
      "current weights: [ 0.28570415  1.23965114 -0.03356812]\n"
     ]
    },
    {
     "data": {
      "text/plain": [
       "array([0.27584327])"
      ]
     },
     "execution_count": 16,
     "metadata": {},
     "output_type": "execute_result"
    }
   ],
   "source": [
    "output_act = layer_activation(hidden_act, hidden_to_output, output_bias)\n",
    "output_act"
   ]
  },
  {
   "cell_type": "markdown",
   "metadata": {},
   "source": [
    "<a id=\"matrix-algebra-version-of-forward-propagation\"></a>\n",
    "### Matrix algebra version of forward propagation\n",
    "\n",
    "Recall the \"vectorized\" formulation of the forward propagation:\n",
    "\n",
    "### $$ a^i = \\sigma(W^i a^{i-1} + b^i) $$\n",
    "\n",
    "$a$ are vectors of neuron activations for layer $i$, the $b$ is now a vector of biases, and $W$ indicates our weight matrix.\n",
    "\n",
    "We can also define just the weighted input - the vector that is fed to the activation function - as a vector $z$:\n",
    "\n",
    "### $$ z^i = (W^i a^{i-1} + b^i) $$\n",
    "\n",
    "Write the forward propagation functions above but using matrix operations. Define a function that will take the input layer, weight matrix, biases, and activation function and calculate the activations with linear algebra operations."
   ]
  },
  {
   "cell_type": "code",
   "execution_count": 17,
   "metadata": {},
   "outputs": [
    {
     "data": {
      "text/plain": [
       "array([[ 0.29880185, -2.24463554,  0.78856987],\n",
       "       [ 0.00297998, -1.38147537, -1.16544197]])"
      ]
     },
     "execution_count": 17,
     "metadata": {},
     "output_type": "execute_result"
    }
   ],
   "source": [
    "input_to_hidden"
   ]
  },
  {
   "cell_type": "code",
   "execution_count": 18,
   "metadata": {},
   "outputs": [
    {
     "data": {
      "text/plain": [
       "array([[ 0.17963578,  0.91807199]])"
      ]
     },
     "execution_count": 18,
     "metadata": {},
     "output_type": "execute_result"
    }
   ],
   "source": [
    "np.atleast_2d(input_act)"
   ]
  },
  {
   "cell_type": "code",
   "execution_count": 19,
   "metadata": {},
   "outputs": [
    {
     "data": {
      "text/plain": [
       "array([ 0.05641134, -1.6715107 , -0.92830426])"
      ]
     },
     "execution_count": 19,
     "metadata": {},
     "output_type": "execute_result"
    }
   ],
   "source": [
    "input_act.dot(input_to_hidden)"
   ]
  },
  {
   "cell_type": "code",
   "execution_count": 20,
   "metadata": {
    "collapsed": true
   },
   "outputs": [],
   "source": [
    "def forward(input_layer, weights, biases, activation_function=linear):\n",
    "    input_rows = np.atleast_2d(input_layer)\n",
    "    \n",
    "    # calculate output layer activations\n",
    "    output_activations = activation_function(input_rows.dot(weights) + biases)\n",
    "    \n",
    "    return output_activations"
   ]
  },
  {
   "cell_type": "markdown",
   "metadata": {},
   "source": [
    "You can see that this gives us the same result as above. This way of writing it will come in handy when you want to apply the operation to multiple observations of inputs at once."
   ]
  },
  {
   "cell_type": "code",
   "execution_count": 21,
   "metadata": {},
   "outputs": [
    {
     "data": {
      "text/plain": [
       "array([[ 1.05641134, -0.6715107 ,  0.07169574]])"
      ]
     },
     "execution_count": 21,
     "metadata": {},
     "output_type": "execute_result"
    }
   ],
   "source": [
    "hidden_act = forward(input_act, input_to_hidden, hidden_biases)\n",
    "hidden_act"
   ]
  },
  {
   "cell_type": "code",
   "execution_count": 22,
   "metadata": {},
   "outputs": [
    {
     "data": {
      "text/plain": [
       "array([[-0.48735809]])"
      ]
     },
     "execution_count": 22,
     "metadata": {},
     "output_type": "execute_result"
    }
   ],
   "source": [
    "output_act = forward(hidden_act, hidden_to_output, output_bias)\n",
    "output_act"
   ]
  },
  {
   "cell_type": "markdown",
   "metadata": {},
   "source": [
    "We can plot this out again with the activations for clarity."
   ]
  },
  {
   "cell_type": "code",
   "execution_count": 23,
   "metadata": {},
   "outputs": [
    {
     "data": {
      "image/png": "[encoded data removed]",
      "text/plain": [
       "<matplotlib.figure.Figure at 0x1046d0110>"
      ]
     },
     "metadata": {
      "image/png": {
       "height": 415,
       "width": 432
      }
     },
     "output_type": "display_data"
    }
   ],
   "source": [
    "fig, ax = plt.subplots(figsize=(7, 7))\n",
    "ax.axis('off')\n",
    "draw_neural_net(ax, [2, 3, 1], layer_activations=[input_act, hidden_act[0], output_act[0]],\n",
    "                weights=[input_to_hidden, hidden_to_output])\n"
   ]
  },
  {
   "cell_type": "markdown",
   "metadata": {},
   "source": [
    "<a id=\"the-xor-problem\"></a>\n",
    "## The XOR problem\n",
    "---\n",
    "\n",
    "Thus far, our network is not terribly interesting or useful. Let's introduce a problem to solve with our neural network.\n",
    "\n",
    "The XOR problem is a classic problem for neural networks. XOR is the symbol for \"exclusive or\", which is a logical operation that evaluates to `True` when A or B is present, but not both. \n",
    "\n",
    "Let's set up our \"data\" below, with the inputs to XOR and our expected output."
   ]
  },
  {
   "cell_type": "code",
   "execution_count": 24,
   "metadata": {},
   "outputs": [
    {
     "name": "stdout",
     "output_type": "stream",
     "text": [
      "[[1 1]\n",
      " [1 0]\n",
      " [0 1]\n",
      " [0 0]]\n",
      "[[0]\n",
      " [1]\n",
      " [1]\n",
      " [0]]\n"
     ]
    }
   ],
   "source": [
    "XOR_in = np.array([[1,1],[1,0],[0,1],[0,0]])\n",
    "XOR_out = np.array([[0,1,1,0]]).T\n",
    "\n",
    "print XOR_in\n",
    "print XOR_out"
   ]
  },
  {
   "cell_type": "markdown",
   "metadata": {},
   "source": [
    "<a id=\"loss-function\"></a>\n",
    "### Loss function\n",
    "\n",
    "We will also need to specify a loss function. For now let's use the least squared loss, which we will code below."
   ]
  },
  {
   "cell_type": "code",
   "execution_count": 25,
   "metadata": {
    "collapsed": true
   },
   "outputs": [],
   "source": [
    "def lsq_loss(y_true, y_pred):\n",
    "    return np.mean(0.5 * (y_true - y_pred)**2)"
   ]
  },
  {
   "cell_type": "markdown",
   "metadata": {},
   "source": [
    "What would be our loss right now, if we fed the inputs into the neural network?\n",
    "\n",
    "We can put it through our function above to see."
   ]
  },
  {
   "cell_type": "code",
   "execution_count": 26,
   "metadata": {
    "collapsed": true
   },
   "outputs": [],
   "source": [
    "def forward_pass(input_layer, weights_list, biases_list):\n",
    "    activations = [input_layer]\n",
    "    for W, b in zip(weights_list, biases_list):\n",
    "        activations.append(forward(activations[-1], W, b))\n",
    "    return activations"
   ]
  },
  {
   "cell_type": "code",
   "execution_count": 27,
   "metadata": {
    "collapsed": true
   },
   "outputs": [],
   "source": [
    "acts = forward_pass(XOR_in, [input_to_hidden, hidden_to_output], [hidden_biases, output_bias])"
   ]
  },
  {
   "cell_type": "code",
   "execution_count": 28,
   "metadata": {},
   "outputs": [
    {
     "name": "stdout",
     "output_type": "stream",
     "text": [
      "[[1 1]\n",
      " [1 0]\n",
      " [0 1]\n",
      " [0 0]]\n",
      "[[ 1.30178183 -2.62611091  0.62312789]\n",
      " [ 1.29880185 -1.24463554  1.78856987]\n",
      " [ 1.00297998 -0.38147537 -0.16544197]\n",
      " [ 1.          1.          1.        ]]\n",
      "[[ 1.44637631]\n",
      " [ 0.22224319]\n",
      " [-0.78853785]\n",
      " [-2.01267097]]\n"
     ]
    }
   ],
   "source": [
    "for a in acts:\n",
    "    print a"
   ]
  },
  {
   "cell_type": "code",
   "execution_count": 29,
   "metadata": {},
   "outputs": [
    {
     "data": {
      "text/plain": [
       "array([[0],\n",
       "       [1],\n",
       "       [1],\n",
       "       [0]])"
      ]
     },
     "execution_count": 29,
     "metadata": {},
     "output_type": "execute_result"
    }
   ],
   "source": [
    "XOR_out"
   ]
  },
  {
   "cell_type": "code",
   "execution_count": 30,
   "metadata": {},
   "outputs": [
    {
     "data": {
      "text/plain": [
       "array([[-0.14304674, -0.97699162,  0.10736739]])"
      ]
     },
     "execution_count": 30,
     "metadata": {},
     "output_type": "execute_result"
    }
   ],
   "source": [
    "hidden_to_output.T"
   ]
  },
  {
   "cell_type": "markdown",
   "metadata": {},
   "source": [
    "You'll notice that these are now for each observation.\n"
   ]
  },
  {
   "cell_type": "code",
   "execution_count": 31,
   "metadata": {},
   "outputs": [
    {
     "data": {
      "text/plain": [
       "('MSE loss:', 1.2433277739302464)"
      ]
     },
     "execution_count": 31,
     "metadata": {},
     "output_type": "execute_result"
    }
   ],
   "source": [
    "'MSE loss:', lsq_loss(XOR_out, acts[-1])"
   ]
  },
  {
   "cell_type": "markdown",
   "metadata": {},
   "source": [
    "<a id=\"backpropagation-adjusting-parameters-in-a-direction-that-reduces-loss\"></a>\n",
    "## Backpropagation: adjusting parameters in a direction that reduces loss\n",
    "---\n",
    "\n",
    "We would like to reduce our error on prediction. In order to do this, we will have to adjust the weights in our network. Backpropagation of error is the method in which neural networks adjust these weights. \n",
    "\n",
    "The crux of backpropagation is that we calculate the partial derivative of the cost function (loss function) with respect to weights and biases. This is the same idea of gradient descent, where we incrementally tweak the values of coefficients down the gradient towards the minimum of the loss function. The only difficulty is that we now have layered coefficients and the derivative with respect to any one of them may be intractable to explicitly derive.\n",
    "\n",
    "Luckily, backpropagation allows us to avoid deriving the full derivative of the cost function with respect to any given parameter. It leverages the chain rule of calculus to find the gradient through an iterative procedure.\n",
    "\n",
    "<a id=\"a-very-simple-network\"></a>\n",
    "### A very simple network \n",
    "\n",
    "To simplify things starting out, let's look at an even more basic neural network architecture. Now we have 3 layers, but only one node in each one:\n"
   ]
  },
  {
   "cell_type": "code",
   "execution_count": 32,
   "metadata": {},
   "outputs": [
    {
     "data": {
      "image/png": "[encoded data removed]",
      "text/plain": [
       "<matplotlib.figure.Figure at 0x115c737d0>"
      ]
     },
     "metadata": {
      "image/png": {
       "height": 360,
       "width": 377
      }
     },
     "output_type": "display_data"
    }
   ],
   "source": [
    "fig, ax = plt.subplots(figsize=(6, 6))\n",
    "ax.axis('off')\n",
    "draw_neural_net(ax, [1, 1, 1], layer_activations=[['A'],['B'],['C']])\n"
   ]
  },
  {
   "cell_type": "markdown",
   "metadata": {},
   "source": [
    "<a id=\"derivative-of-error-with-respect-to-parameters\"></a>\n",
    "### Derivative of error with respect to parameters\n",
    "\n",
    "Say $MSE_x$ is our loss function for a single training example, we want to calculate:\n",
    "\n",
    "### $$ \\frac{\\partial MSE_x}{\\partial w} \\\\\n",
    "\\frac{\\partial MSE_x}{\\partial b} $$\n",
    "\n",
    "Where $w$ are the weights between the neurons and $b$ are the biases. These partial derivatives will inform us how to adjust the values like in gradient descent to minimize the loss function.\n",
    "\n",
    "We may have many observations - in the case of our XOR problem we have 4. Luckily we can recover the partial derivative of the entire cost function with respect to $w$ and $b$ by averaging over the input training samples. This is because our least squared loss function can be described as an average loss across the training examples.\n",
    "\n",
    "Backpropagation is really about the backpropagation of the total error of the network (as defined by the loss/cost function) through to the neurons. One way of thinking about this is that each neuron will be assigned an amount of error that it is contributing to the overall error."
   ]
  },
  {
   "cell_type": "markdown",
   "metadata": {},
   "source": [
    "<a id=\"the-chain-rule-of-calculus\"></a>\n",
    "## The chain rule of calculus\n",
    "---\n",
    "\n",
    "The key to how backpropagation works lies in the chain rule. The chain rule is a method to compute the derivatives of functions that are compositions of other functions with known derivatives.\n",
    "\n",
    "Say we have two functions, $f$ and $g$, and that we define variables $y$ and $z$ such that:\n",
    "\n",
    "### $$ y = g(x) \\\\\n",
    "z = f(g(x)) = f(y) $$\n",
    "\n",
    "Where $x$ is a real number. These are functions that map real numbers to other real numbers, and they represent a dependent relationship. Specifically, the value of $z$ is dependent on the value of $y$. The chain rule is written as:\n",
    "\n",
    "### $$ \\frac{\\partial z}{\\partial x} = \\frac{\\partial z}{\\partial y} \\cdot \\frac{\\partial y}{\\partial x} $$\n",
    "\n",
    "Take our simple neural network we plotted above with neurons A, B, and C. We can write out some formulas for the activations of these neurons:\n",
    "\n",
    "### $$ a_B(x) = \\sigma (a_A(x) \\cdot W_{AB} + b_{B}) \\\\\n",
    "a_C(x) = \\sigma (a_B(x) \\cdot W_{BC} + b_{C})$$\n",
    "\n",
    "So, therefore:\n",
    "\n",
    "### $$ a_C(x) = \\sigma (\\sigma (a_A(x) \\cdot W_{AB} + b_{B}) \\cdot W_{BC} + b_{C}) $$\n",
    "\n",
    "And:\n",
    "\n",
    "### $$ \\frac{\\partial C}{x} = \\frac{\\partial C}{\\partial B} \\frac{\\partial B}{\\partial A} \\frac{\\partial A}{\\partial x} $$\n",
    "\n",
    "We have the dependent function relationship defined in the chain rule above."
   ]
  },
  {
   "cell_type": "markdown",
   "metadata": {},
   "source": [
    "<a id=\"error-of-a-single-neuron\"></a>\n",
    "## Error of a single neuron\n",
    "---\n",
    "\n",
    "We can define the error of a neuron $j$ as:\n",
    "\n",
    "### $$ \\partial_j^i = \\frac{\\partial C}{\\partial a_j^i} $$\n",
    "\n",
    "Where $a_j^i$ is the activation of the neuron *before* we apply the activation function $\\sigma$.\n",
    "\n",
    "$C$ here represents the cost, or total error of the network. The entire right hand side of the equation represents the partial derivative of the loss with respect to the weighted input of neuron $j$ at layer $i$.\n"
   ]
  },
  {
   "cell_type": "markdown",
   "metadata": {},
   "source": [
    "<a id=\"error-of-the-output-layer\"></a>\n",
    "## Error of the output layer\n",
    "---\n",
    "\n",
    "In backpropagation we will work backwards from the output layer down, computing the error with derivatives at each step. \n",
    "\n",
    "The first step is to calculate the error of our output neurons. The error will be the derivative of our cost $C$ with respect to the activation multiplied by the derivative our our activation function applied to the pre-function activation of our neurons $z_j^i$. The full formula is written as:\n",
    "\n",
    "### $$ \\partial_j^{out} = \\frac{\\partial C}{\\partial a_j^{out}} \\sigma' (z_j^{out}) $$\n",
    "\n",
    "- $\\partial_j^{out}$ are the errors for each of the $j$ output nodes. In our case, there is just one output node, so we will just have $\\partial^{out}$\n",
    "\n",
    "- $\\frac{\\partial C}{\\partial a_j^{out}}$ is the derivative of the cost with respect to the activations of the output neurons. Again, we only have a single output neuron.\n",
    "\n",
    "- $\\sigma' (z_j^{out})$ is the derivative of the activation function applied to the weighted inputs to the neurons. We are using a linear activation function, and it's derivative evaluates to 1 regardless of input:\n",
    "\n",
    "### $$ \\text{linear}'(x) = 1 $$\n",
    "\n",
    "For our simple neural network with a single output, we can simplify the equation:\n",
    "\n",
    "### $$ \\partial^{out} = \\frac{\\partial C}{\\partial a^{out}}$$\n",
    "\n",
    "This formula is derived using the chain rule:\n",
    "\n",
    "### $$ \\partial_j^{out} = \\frac{\\partial C}{\\partial a_j^{out}} \\frac{\\partial a_j^{out}}{\\partial z_j^{out}} = \\frac{\\partial C}{\\partial a_j^{out}} \\sigma' (z_j^{out}) $$\n",
    "\n",
    "Since, \n",
    "\n",
    "### $$ a_j^{out} = \\sigma (z_j^{out}) \\\\\n",
    "\\sigma' (z_j^{out}) = \\frac{\\partial a_j^{out}}{\\partial z_j^{out}} $$\n",
    "\n",
    "\n",
    "Our error is the derivative of the loss with respect to the output activation. Because we are using the least squares loss function (remember, we multiplied it by 0.5 earlier to cancel out the exponent in the derivative), we can further simplify this to:\n",
    "\n",
    "### $$ \\partial^{out} = - (y - a^{out}) \\\\\n",
    "\\partial^{out} = a^{out} - y  $$\n"
   ]
  },
  {
   "cell_type": "markdown",
   "metadata": {},
   "source": [
    "<a id=\"calculate-the-error-of-the-output-layer\"></a>\n",
    "### Calculate the error of the output layer\n",
    "\n",
    "Let's calculate the error of our output layer. We will need to write a function that calculates the derivative of the loss function."
   ]
  },
  {
   "cell_type": "code",
   "execution_count": 33,
   "metadata": {
    "collapsed": true
   },
   "outputs": [],
   "source": [
    "def lsq_prime(y_true, y_hat):\n",
    "    return np.mean(y_hat - y_true)"
   ]
  },
  {
   "cell_type": "code",
   "execution_count": 34,
   "metadata": {},
   "outputs": [
    {
     "data": {
      "text/plain": [
       "-0.78314733031076367"
      ]
     },
     "execution_count": 34,
     "metadata": {},
     "output_type": "execute_result"
    }
   ],
   "source": [
    "acts = forward_pass(XOR_in, [input_to_hidden, hidden_to_output], [hidden_biases, output_bias])\n",
    "out_act = acts[-1]\n",
    "delta = lsq_prime(XOR_out, out_act)\n",
    "delta"
   ]
  },
  {
   "cell_type": "markdown",
   "metadata": {},
   "source": [
    "<a id=\"calculating-error-of-a-layer-using-the-error-of-the-following-layer\"></a>\n",
    "## Calculating error of a layer using the error of the following layer\n",
    "---\n",
    "\n",
    "Using the error of the output layer, we can calculate the error of the previous (hidden) layer. We can keep doing this for each layer down the line. The equation to calculate the error of a layer from the error of the layer above it is:\n",
    "\n",
    "### $$ \\partial^i = ((W^{i+1})^T \\partial^{i+1}) \\circ \\sigma' (z^i) $$\n",
    "\n",
    "This is also derived using the chain rule. [The full proof (and a great overview of all the theory this lecture is primarily based on) of this can be found here.](http://neuralnetworksanddeeplearning.com/chap2.html)\n",
    "\n",
    "The $\\circ \\sigma' (z^i)$ indicates a \"hadamard product\" which is an elementwise multiplication. Because we are using the linear activation and our derivative activation function outputs 1, we do not have to worry about this. If you did need to do it, you can use the `np.multiply` function.\n",
    "\n",
    "With linear activation we can just write this:\n",
    "\n",
    "### $$ \\partial^i = ((W^{i+1})^T \\partial^{i+1})$$\n",
    "\n",
    "The $(W^{i+1})^T \\partial^{i+1}$ section of the equation is interesting. It is doing the dot product of the transposed weights and the error from the layer up. The intuition behind this is that we are moving the error down to this layer proportional to the weightings between this layer and the one above."
   ]
  },
  {
   "cell_type": "markdown",
   "metadata": {},
   "source": [
    "<a id=\"rate-of-change-of-cost-with-respect-to-bias\"></a>\n",
    "## Rate of change of cost with respect to bias\n",
    "---\n",
    "\n",
    "The derivative of the cost function with respect to the bias for a neuron in a layer is equal to the error of the neuron. This is good news because we have the formula for the error already in the equation above.\n",
    "\n",
    "### $$ \\frac{\\partial C}{\\partial b_j^i} = \\partial_j^i $$\n"
   ]
  },
  {
   "cell_type": "markdown",
   "metadata": {},
   "source": [
    "<a id=\"rate-of-change-of-cost-with-respect-to-weights\"></a>\n",
    "## Rate of change of cost with respect to weights\n",
    "---\n",
    "\n",
    "The derivative of the cost function with respect to a weight is calculated with the activation input to that neuron multiplied by the error of the neuron. The equation is:\n",
    "\n",
    "### $$ \\frac{\\partial C}{\\partial w_{jk}^i} = a_k^{i-1} \\partial_j^i $$\n",
    "\n",
    "Specifically, this states that for weights between neuron $k$ in layer $i-1$ to to the neuron $j$ in layer $i$, the derivative of the cost function with respect to this weight is the activation of the input times the error of the neuron.\n",
    "\n",
    "More casually:\n",
    "\n",
    "### $$ \\frac{\\partial C}{\\partial w_{jk}^i} = a_{in} \\partial_{out} $$\n",
    "\n",
    "Where $a_{in}$ is the activation of the neuron on the input side of the weight, and $\\partial_{out}$ is the error for the neuron on the output side of the weight."
   ]
  },
  {
   "cell_type": "markdown",
   "metadata": {},
   "source": [
    "<a id=\"putting-it-all-together-into-a-neural-network\"></a>\n",
    "## Putting it all together into a neural network\n",
    "---\n",
    "\n",
    "Now that we have all of the equations, we can code a class to build a neural network that will adjust its weights using backpropagation.\n",
    "\n",
    "1. The class will need a function to perform the _forward_ propagation of the activations through the network given an input. This will give us the activations at each layer for the neurons.\n",
    "2. We will also need a cost function and its derivative. This is how we will calculate the error of the network from the output layers.\n",
    "3. Once we have the error of the network, we can create the _backwards_ propagation of this error/gradient from the output layer downwards. Our goal is to calculate the derivative of the cost function with respect to the weights and the biases, which are our parameters.\n",
    "4. With the derivatives of the cost function of our parameters, we can update the weights and biases according to a learning rate parameter."
   ]
  },
  {
   "cell_type": "markdown",
   "metadata": {},
   "source": [
    "<a id=\"initialization\"></a>\n",
    "### Initialization\n",
    "\n",
    "First let's set up the network with the input, hidden, and output sizes.\n",
    "\n",
    "The initialization function needs to create some random weights between the input and hidden layer, the hidden and output layer, as well as create the bias vectors for the hidden and output.\n",
    "\n",
    "For the bias vectors, I am putting the values in the column dimension to make numpy operations consistent down the line."
   ]
  },
  {
   "cell_type": "code",
   "execution_count": 35,
   "metadata": {
    "collapsed": true
   },
   "outputs": [],
   "source": [
    "class DumbNet(object):\n",
    "    \n",
    "    activations = []\n",
    "    \n",
    "    def __init__(self, input_size=2, hidden_size=3, output_size=1):\n",
    "        \n",
    "        self.input_size = input_size\n",
    "        self.hidden_size = hidden_size\n",
    "        self.output_size = output_size\n",
    "        \n",
    "        self.input_to_hidden = np.random.randn(self.input_size, self.hidden_size)\n",
    "        self.hidden_to_output = np.random.randn(self.hidden_size, self.output_size)\n",
    "        \n",
    "        self.hidden_bias = np.random.uniform(-1, 1, (1, hidden_size))\n",
    "        self.output_bias = np.random.uniform(-1, 1, (1, output_size))\n",
    "        "
   ]
  },
  {
   "cell_type": "markdown",
   "metadata": {},
   "source": [
    "I've also initialized a list `activations` that will store the current forward propagation activations.\n",
    "\n",
    "We can print out the different initialized matrices to get a feel for the setup:"
   ]
  },
  {
   "cell_type": "code",
   "execution_count": 36,
   "metadata": {},
   "outputs": [
    {
     "name": "stdout",
     "output_type": "stream",
     "text": [
      "input to hidden W:\n",
      "[[-0.27139718 -0.30566207 -0.50213509]\n",
      " [-0.17114751  0.25278268 -0.83881125]]\n",
      "hidden to output W: [[-0.71516773]\n",
      " [ 0.20930802]\n",
      " [-0.78911418]]\n",
      "hidden bias:\n",
      "[[-0.17462484 -0.71737495  0.25598798]]\n",
      "output bias:\n",
      "[[-0.28811538]]\n"
     ]
    }
   ],
   "source": [
    "dn = DumbNet()\n",
    "print 'input to hidden W:'\n",
    "print dn.input_to_hidden\n",
    "print 'hidden to output W:',\n",
    "print dn.hidden_to_output\n",
    "print 'hidden bias:'\n",
    "print dn.hidden_bias\n",
    "print 'output bias:'\n",
    "print dn.output_bias"
   ]
  },
  {
   "cell_type": "markdown",
   "metadata": {},
   "source": [
    "You can see that rows correspond to the dimensions of inputs and columns the dimensions of outputs for the weights."
   ]
  },
  {
   "cell_type": "markdown",
   "metadata": {},
   "source": [
    "<a id=\"the-sigmoid-actiation-function\"></a>\n",
    "### The sigmoid actiation function\n",
    "\n",
    "Next we need to code the activation function, loss function, and their derivatives for use in the forward and backward propagation step. Instead of linear activation, we will switch to using a _nonlinear_ activation function, the sigmoid activation. This squishes activation to a value between 0 and 1. \n",
    "\n",
    "For the XOR problem this nonlinearity allows the network to converge on the right answer.\n",
    "\n",
    "The sigmoid activation function is defined:\n",
    "\n",
    "### $$ \\text{sigmoid}(x) = \\frac{1}{1 + e^{-x}} $$\n",
    "\n",
    "Which is the same as the link function in logistic regression.\n",
    "\n",
    "The derivative of the sigmoid function is:\n",
    "\n",
    "### $$ \\text{sigmoid}'(x) = (1 - \\text{sigmoid}(x)) \\text{ sigmoid}(x) $$\n",
    "\n",
    "Below, add the sigmoid activations as well as the least squares loss function and its derivative. Recall the quadratic (least squares) cost function and its derivative is:\n",
    "\n",
    "### $$ C(y, \\hat{y}) = 0.5 (\\hat{y} - y)^2 \\\\\n",
    "C'(y, \\hat{y}) = \\hat{y} - y$$"
   ]
  },
  {
   "cell_type": "code",
   "execution_count": 37,
   "metadata": {
    "collapsed": true
   },
   "outputs": [],
   "source": [
    "class DumbNet(object):\n",
    "    \n",
    "    activations = []\n",
    "    \n",
    "    def __init__(self, input_size=2, hidden_size=3, output_size=1):\n",
    "        \n",
    "        self.input_size = input_size\n",
    "        self.hidden_size = hidden_size\n",
    "        self.output_size = output_size\n",
    "        \n",
    "        self.input_to_hidden = np.random.randn(self.input_size, self.hidden_size)\n",
    "        self.hidden_to_output = np.random.randn(self.hidden_size, self.output_size)\n",
    "        \n",
    "        self.hidden_bias = np.random.uniform(-1, 1, (1, hidden_size))\n",
    "        self.output_bias = np.random.uniform(-1, 1, (1, output_size))\n",
    "        \n",
    "    def quadratic_cost(self, y_true, y_hat):\n",
    "        return 0.5 * np.sum((y_hat - y_true)**2)\n",
    "    \n",
    "    def quadratic_prime(self, y_true, y_hat):\n",
    "        # returned as a vector, not sum, for gradient calculations\n",
    "        return y_hat - y_true\n",
    "        \n",
    "    def sigmoid(self, x):\n",
    "        x = 1. / (1. + np.exp(-x))\n",
    "        return x\n",
    "    \n",
    "    def sigmoid_prime(self, x):\n",
    "        return (1. - self.sigmoid(x)) * self.sigmoid(x)\n",
    "    "
   ]
  },
  {
   "cell_type": "markdown",
   "metadata": {},
   "source": [
    "<a id=\"code-the-forward-propagation\"></a>\n",
    "### Code the forward propagation\n",
    "\n",
    "Next we can write the function to do forward propagation. The function will take the input activations as an argument and calculate the activations for each layer.\n",
    "\n",
    "Recall the official formula for the activation of a layer $i$'s neurons is:\n",
    "\n",
    "### $$ z^i = W^i a^{i-1} + b^i \\\\\n",
    "a^i = \\sigma(W^i a^{i-1} + b^i) \\\\\n",
    "a^i = \\sigma(z^i)$$\n",
    "\n",
    "As it turns out, because we've specified our matrices to have rows corresponding to inputs and columns as outputs, the activation function changes to:\n",
    "\n",
    "### $$ a^i = \\sigma(a^i W^i + b^i) $$\n",
    "\n",
    "Where $a^{i-1}$ is the activations of the previous layer, $W^i$ is the weight matrix for the previous layer to current layer activations, and $b^i$ are the biases for the current layer neurons. $\\sigma$ is the activation function, which in our case will be the sigmoid function."
   ]
  },
  {
   "cell_type": "code",
   "execution_count": 38,
   "metadata": {},
   "outputs": [
    {
     "name": "stdout",
     "output_type": "stream",
     "text": [
      "input acts:\n",
      "[[1 1]\n",
      " [1 0]\n",
      " [0 1]\n",
      " [0 0]]\n",
      "input by output weight matrix:\n",
      "[[ 1. -2.  3.]\n",
      " [-4.  5. -6.]]\n"
     ]
    }
   ],
   "source": [
    "# make a test matrix of weights for input to output:\n",
    "in_to_hid = np.array([[1.,-2.,3.],[-4.,5.,-6.]])\n",
    "\n",
    "print 'input acts:'\n",
    "print XOR_in\n",
    "print 'input by output weight matrix:'\n",
    "print in_to_hid\n"
   ]
  },
  {
   "cell_type": "markdown",
   "metadata": {},
   "source": [
    "If we use the formula with the weight matrix coming first in the dot product we will get dimension mismatch."
   ]
  },
  {
   "cell_type": "code",
   "execution_count": 39,
   "metadata": {},
   "outputs": [
    {
     "ename": "ValueError",
     "evalue": "shapes (2,3) and (4,2) not aligned: 3 (dim 1) != 4 (dim 0)",
     "output_type": "error",
     "traceback": [
      "\u001b[0;31m---------------------------------------------------------------------------\u001b[0m",
      "\u001b[0;31mValueError\u001b[0m                                Traceback (most recent call last)",
      "\u001b[0;32m<ipython-input-39-9f25a41fa4df>\u001b[0m in \u001b[0;36m<module>\u001b[0;34m()\u001b[0m\n\u001b[0;32m----> 1\u001b[0;31m \u001b[0mnp\u001b[0m\u001b[0;34m.\u001b[0m\u001b[0mdot\u001b[0m\u001b[0;34m(\u001b[0m\u001b[0min_to_hid\u001b[0m\u001b[0;34m,\u001b[0m \u001b[0mXOR_in\u001b[0m\u001b[0;34m)\u001b[0m\u001b[0;34m\u001b[0m\u001b[0m\n\u001b[0m",
      "\u001b[0;31mValueError\u001b[0m: shapes (2,3) and (4,2) not aligned: 3 (dim 1) != 4 (dim 0)"
     ]
    }
   ],
   "source": [
    "np.dot(in_to_hid, XOR_in)"
   ]
  },
  {
   "cell_type": "markdown",
   "metadata": {},
   "source": [
    "If our inputs and weights were transposed, the operation would work - the column dimension of the input matrix matches the row dimension of the weight matrix:"
   ]
  },
  {
   "cell_type": "code",
   "execution_count": 40,
   "metadata": {},
   "outputs": [
    {
     "name": "stdout",
     "output_type": "stream",
     "text": [
      "(3, 2)\n",
      "(2, 4)\n"
     ]
    },
    {
     "data": {
      "text/plain": [
       "array([[-3.,  1., -4.,  0.],\n",
       "       [ 3., -2.,  5.,  0.],\n",
       "       [-3.,  3., -6.,  0.]])"
      ]
     },
     "execution_count": 40,
     "metadata": {},
     "output_type": "execute_result"
    }
   ],
   "source": [
    "print in_to_hid.T.shape\n",
    "print XOR_in.T.shape\n",
    "np.dot(in_to_hid.T, XOR_in.T)"
   ]
  },
  {
   "cell_type": "markdown",
   "metadata": {},
   "source": [
    "If we transposed this dot product, it would be equivalent to the dot product with our input activation matrix coming first."
   ]
  },
  {
   "cell_type": "code",
   "execution_count": 41,
   "metadata": {},
   "outputs": [
    {
     "name": "stdout",
     "output_type": "stream",
     "text": [
      "[[-3.  3. -3.]\n",
      " [ 1. -2.  3.]\n",
      " [-4.  5. -6.]\n",
      " [ 0.  0.  0.]]\n",
      "[[-3.  3. -3.]\n",
      " [ 1. -2.  3.]\n",
      " [-4.  5. -6.]\n",
      " [ 0.  0.  0.]]\n"
     ]
    }
   ],
   "source": [
    "print np.dot(in_to_hid.T, XOR_in.T).T\n",
    "print np.dot(XOR_in, in_to_hid)"
   ]
  },
  {
   "cell_type": "markdown",
   "metadata": {},
   "source": [
    "Which is a property of matrices:\n",
    "\n",
    "### $$ A \\cdot B = (B^T \\cdot A^T)^T \\\\\n",
    "(AB)^T = B^T A^T$$\n",
    "\n",
    "So, the standard formula is written for the transposed version of our input and weight matrices. We can rewrite the formula for our matrices as:\n",
    "\n",
    "### $$ a^i = \\sigma(a^{i-1} W^{i} + b^i) $$ \n",
    "\n",
    "Knowing that our $a^{i-1}$ and $W^i$ are the transposed versions of what is expected in the original."
   ]
  },
  {
   "cell_type": "code",
   "execution_count": 42,
   "metadata": {
    "collapsed": true
   },
   "outputs": [],
   "source": [
    "class DumbNet(object):\n",
    "    \n",
    "    activations = []\n",
    "    \n",
    "    def __init__(self, input_size=2, hidden_size=3, output_size=1):\n",
    "        \n",
    "        self.input_size = input_size\n",
    "        self.hidden_size = hidden_size\n",
    "        self.output_size = output_size\n",
    "        \n",
    "        self.input_to_hidden = np.random.randn(self.input_size, self.hidden_size)\n",
    "        self.hidden_to_output = np.random.randn(self.hidden_size, self.output_size)\n",
    "        \n",
    "        self.hidden_bias = np.random.uniform(-1, 1, (1, hidden_size))\n",
    "        self.output_bias = np.random.uniform(-1, 1, (1, output_size))\n",
    "        \n",
    "    def quadratic_cost(self, y_true, y_hat):\n",
    "        return 0.5 * np.sum((y_hat - y_true)**2)\n",
    "    \n",
    "    def quadratic_prime(self, y_true, y_hat):\n",
    "        # returned as a vector, not sum, for gradient calculations\n",
    "        return y_hat - y_true\n",
    "        \n",
    "    def sigmoid(self, x):\n",
    "        x = 1. / (1. + np.exp(-x))\n",
    "        return x\n",
    "    \n",
    "    def sigmoid_prime(self, x):\n",
    "        return (1. - self.sigmoid(x)) * self.sigmoid(x)\n",
    "    \n",
    "    def forward_prop(self, input_act):\n",
    "        \n",
    "        # ensure that the input is at least a 2D matrix - in case a single row is supplied:\n",
    "        input_act = np.atleast_2d(input_act)\n",
    "        \n",
    "        # reset the activations attribute to a list where the input activations are the first element\n",
    "        self.activations = [input_act]\n",
    "        \n",
    "        # hidden = sigmoid(a^{input} W^{hidden} + b^{hidden})\n",
    "        hidden_act = self.sigmoid(input_act.dot(self.input_to_hidden) + self.hidden_bias)\n",
    "        self.activations.append(hidden_act)\n",
    "        \n",
    "        # output = sigmoid(a^{hidden} W^{output} + b^{output})\n",
    "        output_act = self.sigmoid(hidden_act.dot(self.hidden_to_output) + self.output_bias)\n",
    "        self.activations.append(output_act)\n",
    "        \n",
    "        return self.activations"
   ]
  },
  {
   "cell_type": "markdown",
   "metadata": {},
   "source": [
    "We can test out the forward propagation function to make sure it works as expected:"
   ]
  },
  {
   "cell_type": "code",
   "execution_count": 43,
   "metadata": {},
   "outputs": [
    {
     "name": "stdout",
     "output_type": "stream",
     "text": [
      "input activations:\n",
      "[[1 1]\n",
      " [1 0]\n",
      " [0 1]\n",
      " [0 0]]\n",
      "hidden activations:\n",
      "[[ 0.40399806  0.20921793  0.40956629]\n",
      " [ 0.84774957  0.22186242  0.63954228]\n",
      " [ 0.21500178  0.26530381  0.2005657 ]\n",
      " [ 0.69229214  0.28013715  0.39087735]]\n",
      "output activations:\n",
      "[[ 0.43563583]\n",
      " [ 0.36153339]\n",
      " [ 0.42824731]\n",
      " [ 0.32867176]]\n"
     ]
    }
   ],
   "source": [
    "dn = DumbNet()\n",
    "acts = dn.forward_prop(XOR_in)\n",
    "for w, label in zip(acts, ['input','hidden','output']):\n",
    "    print label, 'activations:'\n",
    "    print w"
   ]
  },
  {
   "cell_type": "markdown",
   "metadata": {},
   "source": [
    "<a id=\"implement-the-backpropagation-step\"></a>\n",
    "### Implement the backpropagation step\n",
    "\n",
    "Now we will code the backpropagation algorithm. We need to use the formulas covered above to calculating the derivatives with respect to parameters or neurons.\n",
    "\n",
    "The first step will be to calculate the derivative of the error with respect to the output layer activations:\n",
    "\n",
    "### $$ \\partial^{out} = \\frac{\\partial C}{\\partial a^{out}} \\sigma' (z^{out}) $$\n",
    "\n",
    "So we should really store the $z$ pre-activation function values in the forward propagation function as well, to make it easy to plug that in here.\n",
    "\n",
    "The first part of the right-hand side of the equation is the derivative of the cost function with respect to the activations. This is our derivative of the cost function that we wrote earlier that will take the true values of y and the predicted.\n",
    "\n",
    "The second part will plug in the pre-sigmoid activations to the sigmoid_prime function.\n",
    "\n",
    "We will also need to calculate the error of the hidden layer. The formula to calculate the delta using the layer above is:\n",
    "\n",
    "\n",
    "### $$ \\partial^{hidden} = ((\\partial^{output} W^{output})^T) \\circ \\sigma' (z^{hidden}) $$\n",
    "\n",
    "And again here we have swapped the weight and delta matrices since we have ours transposed from the standard formula.\n",
    "\n",
    "And last but not least, we need the rate of change in the cost with respect to the biases and weights. Recall the formulas for these are:\n",
    "\n",
    "### $$ \\frac{\\partial C}{\\partial b^i} = \\partial^i $$\n",
    "\n",
    "### $$ \\frac{\\partial C}{\\partial W^i} = a^{i-1} \\partial^i $$\n",
    "\n",
    "Once we have the gradients, we will adjust the weight and bias matrices. Essentially we will multiply the gradient by -1 and the learning rate, then add those values to the current values. We multiply by -1 because we want to go in the opposite direction of the gradient - towards a smaller cost/loss."
   ]
  },
  {
   "cell_type": "code",
   "execution_count": 44,
   "metadata": {
    "collapsed": true
   },
   "outputs": [],
   "source": [
    "class DumbNet(object):\n",
    "    \n",
    "    activations = []\n",
    "    z_activations = []\n",
    "    \n",
    "    def __init__(self, input_size=2, hidden_size=3, output_size=1):\n",
    "        \n",
    "        self.input_size = input_size\n",
    "        self.hidden_size = hidden_size\n",
    "        self.output_size = output_size\n",
    "        \n",
    "        self.input_to_hidden = np.random.randn(self.input_size, self.hidden_size)\n",
    "        self.hidden_to_output = np.random.randn(self.hidden_size, self.output_size)\n",
    "        \n",
    "        self.hidden_bias = np.random.uniform(-1, 1, (1, hidden_size))\n",
    "        self.output_bias = np.random.uniform(-1, 1, (1, output_size))\n",
    "        \n",
    "    def quadratic_cost(self, y_true, y_hat):\n",
    "        return 0.5 * np.sum((y_hat - y_true)**2)\n",
    "    \n",
    "    def quadratic_prime(self, y_true, y_hat):\n",
    "        # returned as a vector, not sum, for gradient calculations\n",
    "        return y_hat - y_true\n",
    "        \n",
    "    def sigmoid(self, x):\n",
    "        x = 1. / (1. + np.exp(-x))\n",
    "        return x\n",
    "    \n",
    "    def sigmoid_prime(self, x):\n",
    "        return (1. - self.sigmoid(x)) * self.sigmoid(x)\n",
    "    \n",
    "    def forward_prop(self, input_act):\n",
    "        \n",
    "        # ensure that the input is at least a 2D matrix - in case a single row is supplied:\n",
    "        input_act = np.atleast_2d(input_act)\n",
    "        \n",
    "        # reset the activations attribute to a list where the input activations are the first element\n",
    "        self.activations = [input_act]\n",
    "        self.z_activations = [input_act]\n",
    "        \n",
    "        # hidden = sigmoid(a^{input} W^{hidden} + b^{hidden})\n",
    "        hidden_z = input_act.dot(self.input_to_hidden) + self.hidden_bias\n",
    "        self.z_activations.append(hidden_z)\n",
    "        \n",
    "        hidden_act = self.sigmoid(hidden_z)\n",
    "        self.activations.append(hidden_act)\n",
    "        \n",
    "        # output = sigmoid(a^{hidden} W^{output} + b^{output})\n",
    "        output_z = hidden_act.dot(self.hidden_to_output) + self.output_bias\n",
    "        self.z_activations(output_z)\n",
    "        \n",
    "        output_act = self.sigmoid(output_z)\n",
    "        self.activations.append(output_act)\n",
    "        \n",
    "        return self.activations\n",
    "    \n",
    "    def backwards_prop(self, y_true, lr=0.05):\n",
    "                \n",
    "        output_act = self.activations[-1]\n",
    "        output_z = self.z_activations[-1]\n",
    "        \n",
    "        # calculate dC/da{out} * sigmoid'(z{out})\n",
    "        output_delta = self.quadratic_prime(y_true, output_act) * self.sigmoid_prime(output_z)\n",
    "        \n",
    "        hidden_act = self.activations[-2]\n",
    "        hidden_z = self.z_activations[-2]\n",
    "        \n",
    "        # calculate d{out} W{out}^T * sigmoid'(z{hid})\n",
    "        hidden_delta = output_delta.dot(self.hidden_to_output.T) * self.sigmoid_prime(hidden_z)\n",
    "        \n",
    "        # dW{output} = a{hidden}^T d{output}\n",
    "        delta_hidden_to_output = np.dot(hidden_act.T, output_delta)\n",
    "        # db{output} = sum(d{output})\n",
    "        # we sum here because we have a bias update for each observation. We can just update\n",
    "        # a value for the bias of each neuron across all the observations.\n",
    "        delta_output_bias = np.sum(output_delta, axis=0, keepdims=True)\n",
    "\n",
    "        inputs_act = self.activations[-3]\n",
    "        \n",
    "        # dW{hidden} = a{input}^T d{hidden}\n",
    "        delta_input_to_hidden = np.dot(inputs_act.T, hidden_delta)\n",
    "        # db{hidden} = sum(d{hidden})\n",
    "        delta_hidden_bias = np.sum(hidden_delta, axis=0)\n",
    "        \n",
    "        # update the weights and biases by a small amount:\n",
    "        self.hidden_to_output += (lr * -1*delta_hidden_to_output)\n",
    "        self.input_to_hidden += (lr * -1*delta_input_to_hidden)\n",
    "        self.output_biases += (lr * -1*delta_output_bias)\n",
    "        self.hidden_biases += (lr * -1*delta_hidden_bias)"
   ]
  },
  {
   "cell_type": "markdown",
   "metadata": {},
   "source": [
    "<a id=\"implement-a-fit-function\"></a>\n",
    "### Implement a fit function\n",
    "\n",
    "Last we can write a fit function that will iterate through the forward and backward propagation many times, according to a prespecified learning rate and number of epochs."
   ]
  },
  {
   "cell_type": "code",
   "execution_count": 45,
   "metadata": {},
   "outputs": [],
   "source": [
    "class DumbNet(object):\n",
    "    \n",
    "    activations = []\n",
    "    z_activations = []\n",
    "    \n",
    "    def __init__(self, input_size=2, hidden_size=3, output_size=1):\n",
    "        \n",
    "        self.input_size = input_size\n",
    "        self.hidden_size = hidden_size\n",
    "        self.output_size = output_size\n",
    "        \n",
    "        self.input_to_hidden = np.random.randn(self.input_size, self.hidden_size)\n",
    "        self.hidden_to_output = np.random.randn(self.hidden_size, self.output_size)\n",
    "        \n",
    "        self.hidden_bias = np.random.uniform(-1, 1, (1, hidden_size))\n",
    "        self.output_bias = np.random.uniform(-1, 1, (1, output_size))\n",
    "        \n",
    "    def quadratic_cost(self, y_true, y_hat):\n",
    "        return 0.5 * np.sum((y_hat - y_true)**2)\n",
    "    \n",
    "    def quadratic_prime(self, y_true, y_hat):\n",
    "        # returned as a vector, not sum, for gradient calculations\n",
    "        return y_hat - y_true\n",
    "        \n",
    "    def sigmoid(self, x):\n",
    "        x = 1. / (1. + np.exp(-x))\n",
    "        return x\n",
    "    \n",
    "    def sigmoid_prime(self, x):\n",
    "        return (1. - self.sigmoid(x)) * self.sigmoid(x)\n",
    "    \n",
    "    def forward_prop(self, input_act):\n",
    "        \n",
    "        # ensure that the input is at least a 2D matrix - in case a single row is supplied:\n",
    "        input_act = np.atleast_2d(input_act)\n",
    "        \n",
    "        # reset the activations attribute to a list where the input activations are the first element\n",
    "        self.activations = [input_act]\n",
    "        self.z_activations = [input_act]\n",
    "        \n",
    "        # hidden = sigmoid(a^{input} W^{hidden} + b^{hidden})\n",
    "        hidden_z = input_act.dot(self.input_to_hidden) + self.hidden_bias\n",
    "        self.z_activations.append(hidden_z)\n",
    "        \n",
    "        hidden_act = self.sigmoid(hidden_z)\n",
    "        self.activations.append(hidden_act)\n",
    "        \n",
    "        # output = sigmoid(a^{hidden} W^{output} + b^{output})\n",
    "        output_z = hidden_act.dot(self.hidden_to_output) + self.output_bias\n",
    "        self.z_activations.append(output_z)\n",
    "        \n",
    "        output_act = self.sigmoid(output_z)\n",
    "        self.activations.append(output_act)\n",
    "        \n",
    "        return self.activations\n",
    "    \n",
    "    def backward_prop(self, y_true, lr=0.05):\n",
    "                \n",
    "        output_act = self.activations[-1]\n",
    "        output_z = self.z_activations[-1]\n",
    "        \n",
    "        # calculate dC/da{out} * sigmoid'(z{out})\n",
    "        output_delta = self.quadratic_prime(y_true, output_act) * self.sigmoid_prime(output_z)\n",
    "        \n",
    "        hidden_act = self.activations[-2]\n",
    "        hidden_z = self.z_activations[-2]\n",
    "        \n",
    "        # calculate d{out} W{out}^T * sigmoid'(z{hid})\n",
    "        hidden_delta = output_delta.dot(self.hidden_to_output.T) * self.sigmoid_prime(hidden_z)\n",
    "        \n",
    "        # dW{output} = a{hidden}^T d{output}\n",
    "        delta_hidden_to_output = np.dot(hidden_act.T, output_delta)\n",
    "        # db{output} = sum(d{output})\n",
    "        # we sum here because we have a bias update for each observation. We can just update\n",
    "        # a value for the bias of each neuron across all the observations.\n",
    "        delta_output_bias = np.sum(output_delta, axis=0, keepdims=True)\n",
    "\n",
    "        inputs_act = self.activations[-3]\n",
    "        \n",
    "        # dW{hidden} = a{input}^T d{hidden}\n",
    "        delta_input_to_hidden = np.dot(inputs_act.T, hidden_delta)\n",
    "        # db{hidden} = sum(d{hidden})\n",
    "        delta_hidden_bias = np.sum(hidden_delta, axis=0)\n",
    "        \n",
    "        # update the weights and biases by a small amount:\n",
    "        self.hidden_to_output += (lr * -1*delta_hidden_to_output)\n",
    "        self.input_to_hidden += (lr * -1*delta_input_to_hidden)\n",
    "        self.output_bias += (lr * -1*delta_output_bias)\n",
    "        self.hidden_bias += (lr * -1*delta_hidden_bias)\n",
    "        \n",
    "        \n",
    "    def fit(self, X, y, epochs=100, lr=0.05, print_every=5):\n",
    "        \n",
    "        for i in range(epochs):\n",
    "            acts = self.forward_prop(X)\n",
    "            self.backward_prop(y, lr=lr)\n",
    "            if (i % print_every) == 0:\n",
    "                print 'MSE:', self.quadratic_cost(y, acts[-1])\n",
    "                print acts[-1]"
   ]
  },
  {
   "cell_type": "markdown",
   "metadata": {},
   "source": [
    "<a id=\"test-the-custom-network-on-the-xor-problem\"></a>\n",
    "## Test the custom network on the XOR problem\n",
    "---\n",
    "\n",
    "Try out the network on the XOR problem!"
   ]
  },
  {
   "cell_type": "code",
   "execution_count": 46,
   "metadata": {},
   "outputs": [
    {
     "name": "stdout",
     "output_type": "stream",
     "text": [
      "MSE: 0.62105975913\n",
      "[[ 0.24061489]\n",
      " [ 0.23795524]\n",
      " [ 0.27200057]\n",
      " [ 0.27116158]]\n",
      "MSE: 0.498563364392\n",
      "[[ 0.50113799]\n",
      " [ 0.49551414]\n",
      " [ 0.50332269]\n",
      " [ 0.49476572]]\n",
      "MSE: 0.477969479347\n",
      "[[ 0.53399367]\n",
      " [ 0.51058177]\n",
      " [ 0.51282526]\n",
      " [ 0.44036381]]\n",
      "MSE: 0.376642685882\n",
      "[[ 0.58037134]\n",
      " [ 0.57757959]\n",
      " [ 0.59086005]\n",
      " [ 0.2657442 ]]\n",
      "MSE: 0.177055754166\n",
      "[[ 0.37559564]\n",
      " [ 0.69906637]\n",
      " [ 0.70137082]\n",
      " [ 0.1824801 ]]\n",
      "MSE: 0.0480389826152\n",
      "[[ 0.17543877]\n",
      " [ 0.84000526]\n",
      " [ 0.83981991]\n",
      " [ 0.11850412]]\n",
      "MSE: 0.0223186633981\n",
      "[[ 0.11470343]\n",
      " [ 0.89051333]\n",
      " [ 0.89038793]\n",
      " [ 0.08647724]]\n",
      "MSE: 0.0137611940071\n",
      "[[ 0.08822707]\n",
      " [ 0.91388758]\n",
      " [ 0.91379795]\n",
      " [ 0.06994447]]\n",
      "MSE: 0.0097382811376\n",
      "[[ 0.07329204]\n",
      " [ 0.92748985]\n",
      " [ 0.92742043]\n",
      " [ 0.05982745]]\n",
      "MSE: 0.00745622581392\n",
      "[[ 0.06358251]\n",
      " [ 0.93650971]\n",
      " [ 0.93645302]\n",
      " [ 0.05291957]]\n",
      "MSE: 0.00600398448724\n",
      "[[ 0.05669454]\n",
      " [ 0.94299855]\n",
      " [ 0.94295058]\n",
      " [ 0.04785287]]\n",
      "MSE: 0.00500582479467\n",
      "[[ 0.05151343]\n",
      " [ 0.94793125]\n",
      " [ 0.94788961]\n",
      " [ 0.04394734]]\n",
      "MSE: 0.00428096793995\n",
      "[[ 0.04744959]\n",
      " [ 0.95183264]\n",
      " [ 0.95179581]\n",
      " [ 0.04082564]]\n",
      "MSE: 0.00373245452262\n",
      "[[ 0.0441606 ]\n",
      " [ 0.9550117 ]\n",
      " [ 0.95497864]\n",
      " [ 0.0382607 ]]\n",
      "MSE: 0.00330391334574\n",
      "[[ 0.04143321]\n",
      " [ 0.95766296]\n",
      " [ 0.95763295]\n",
      " [ 0.03610712]]\n",
      "MSE: 0.00296046604144\n",
      "[[ 0.03912726]\n",
      " [ 0.95991544]\n",
      " [ 0.95988793]\n",
      " [ 0.03426718]]\n",
      "MSE: 0.00267943755552\n",
      "[[ 0.03714657]\n",
      " [ 0.96185834]\n",
      " [ 0.96183293]\n",
      " [ 0.03267257]]\n",
      "MSE: 0.00244548036104\n",
      "[[ 0.03542277]\n",
      " [ 0.96355549]\n",
      " [ 0.96353186]\n",
      " [ 0.03127396]]\n",
      "MSE: 0.00224785334435\n",
      "[[ 0.03390585]\n",
      " [ 0.96505385]\n",
      " [ 0.96503175]\n",
      " [ 0.03003477]]\n",
      "MSE: 0.00207882430129\n",
      "[[ 0.03255829]\n",
      " [ 0.96638881]\n",
      " [ 0.96636805]\n",
      " [ 0.02892725]]\n"
     ]
    }
   ],
   "source": [
    "dn = DumbNet(hidden_size=2)\n",
    "dn.fit(XOR_in, XOR_out, epochs=10000, lr=0.2, print_every=500)"
   ]
  },
  {
   "cell_type": "code",
   "execution_count": 47,
   "metadata": {},
   "outputs": [
    {
     "data": {
      "text/plain": [
       "[array([[1, 1],\n",
       "        [1, 0],\n",
       "        [0, 1],\n",
       "        [0, 0]]), array([[  6.66358043e-05,   8.74592408e-01],\n",
       "        [  2.46209151e-02,   8.04728637e-02],\n",
       "        [  2.48543813e-02,   8.03147626e-02],\n",
       "        [  9.06142526e-01,   1.09467078e-03]]), array([[ 0.03135365],\n",
       "        [ 0.96758535],\n",
       "        [ 0.96756576],\n",
       "        [ 0.02793182]])]"
      ]
     },
     "execution_count": 47,
     "metadata": {},
     "output_type": "execute_result"
    }
   ],
   "source": [
    "dn.activations"
   ]
  },
  {
   "cell_type": "code",
   "execution_count": 48,
   "metadata": {},
   "outputs": [
    {
     "data": {
      "image/png": "[encoded data removed]",
      "text/plain": [
       "<matplotlib.figure.Figure at 0x116e39f90>"
      ]
     },
     "metadata": {
      "image/png": {
       "height": 415,
       "width": 432
      }
     },
     "output_type": "display_data"
    }
   ],
   "source": [
    "fig, ax = plt.subplots(figsize=(7, 7))\n",
    "ax.axis('off')\n",
    "draw_neural_net(ax, [2, 2, 1], weights=[dn.input_to_hidden, dn.hidden_to_output])\n"
   ]
  },
  {
   "cell_type": "code",
   "execution_count": null,
   "metadata": {
    "collapsed": true
   },
   "outputs": [],
   "source": []
  }
 ],
 "metadata": {
  "kernelspec": {
   "display_name": "Python 2",
   "language": "python",
   "name": "python2"
  },
  "language_info": {
   "codemirror_mode": {
    "name": "ipython",
    "version": 2
   },
   "file_extension": ".py",
   "mimetype": "text/x-python",
   "name": "python",
   "nbconvert_exporter": "python",
   "pygments_lexer": "ipython2",
   "version": "2.7.14"
  }
 },
 "nbformat": 4,
 "nbformat_minor": 2
}
