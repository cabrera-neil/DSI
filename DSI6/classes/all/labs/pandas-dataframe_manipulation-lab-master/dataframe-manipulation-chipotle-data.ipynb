{
 "cells": [
  {
   "cell_type": "markdown",
   "metadata": {},
   "source": [
    "<img src=\"http://imgur.com/1ZcRyrc.png\" style=\"float: left; margin: 20px; height: 55px\">\n",
    "\n",
    "## DataFrame Manipulation Lab\n",
    "\n",
    "_Authors: Kiefer Katovich (SF)_\n",
    "\n",
    "---\n",
    "\n",
    "This lab is intended to cover a variety of skills for data manipulation in `pandas` using a challenging data set from Chipotle.\n",
    "\n",
    "In addition to practicing Python function writing, you will be implementing multiple `pandas` EDA skills, including:\n",
    "- Data cleaning\n",
    "- Grouping\n",
    "- Data summarization and aggregation\n",
    "- [`Pandas` split-apply-combine pattern](http://pandas.pydata.org/pandas-docs/stable/groupby.html)\n",
    "- Basic plotting\n"
   ]
  },
  {
   "cell_type": "code",
   "execution_count": null,
   "metadata": {
    "collapsed": true
   },
   "outputs": [],
   "source": [
    "import numpy as np\n",
    "import scipy.stats as stats\n",
    "import seaborn as sns\n",
    "import matplotlib.pyplot as plt\n",
    "import pandas as pd\n",
    "\n",
    "sns.set_style('whitegrid')\n",
    "\n",
    "%config InlineBackend.figure_format = 'retina'\n",
    "%matplotlib inline"
   ]
  },
  {
   "cell_type": "markdown",
   "metadata": {},
   "source": [
    "#### 1. Load the `chipotle.tsv` and examine the data."
   ]
  },
  {
   "cell_type": "code",
   "execution_count": null,
   "metadata": {
    "collapsed": true
   },
   "outputs": [],
   "source": [
    "chip_file = './datasets/chipotle.tsv'"
   ]
  },
  {
   "cell_type": "markdown",
   "metadata": {},
   "source": [
    "Chipotle's data is contained in a `.tsv`, which means \"tab-separated value.\" This is just like a `.csv` but the cells are separated by tabs. There is an argument in `read_csv` called `delimiter`, where you can specify the string that separates the tabs."
   ]
  },
  {
   "cell_type": "code",
   "execution_count": null,
   "metadata": {
    "collapsed": true
   },
   "outputs": [],
   "source": [
    "# A:"
   ]
  },
  {
   "cell_type": "markdown",
   "metadata": {
    "collapsed": true
   },
   "source": [
    "_Chipotle's order data is messy. The column containing ingredients is a list of lists, which will need to be dealt with. Plus, the set will require us to work with long and wide format data._"
   ]
  },
  {
   "cell_type": "markdown",
   "metadata": {},
   "source": [
    "#### 2. Create a `sub-id` for each `order-id`.\n",
    "\n",
    "We have an identifier for each order already in `order_id`, but there is no unique identifier for each _`sub_order`_ within the overall order.\n",
    "\n",
    "Use grouping and the `.apply()` function to assign `sub_id`s for orders."
   ]
  },
  {
   "cell_type": "code",
   "execution_count": null,
   "metadata": {
    "collapsed": true
   },
   "outputs": [],
   "source": [
    "# A:"
   ]
  },
  {
   "cell_type": "markdown",
   "metadata": {},
   "source": [
    "#### 3. Clean up the `price` column.\n",
    "\n",
    "We want the `price` column to be a numeric float value. Currently it is a string (and contains a dollar sign)."
   ]
  },
  {
   "cell_type": "code",
   "execution_count": null,
   "metadata": {},
   "outputs": [],
   "source": [
    "# A:"
   ]
  },
  {
   "cell_type": "markdown",
   "metadata": {},
   "source": [
    "#### 4. Make a new categorical column for broader item types.\n",
    "\n",
    "Currently, we have many different item types. Make a new column that only has five different broad item types. You should include these types in the new column in your DataFrame. Categories should include:\n",
    "\n",
    "    chips\n",
    "    drink\n",
    "    burrito\n",
    "    taco\n",
    "    salad\n",
    "    \n",
    "(Put `bowl` items into the `burrito` category)."
   ]
  },
  {
   "cell_type": "code",
   "execution_count": null,
   "metadata": {},
   "outputs": [],
   "source": [
    "# A:"
   ]
  },
  {
   "cell_type": "markdown",
   "metadata": {},
   "source": [
    "#### 5. Calculate the total price by `order_id` and add the results as a new column, `order_total_price`.\n",
    "\n",
    "There are a variety of different ways you can tackle this problem. One way is to perform a grouped `.apply()` function on `price` and then merge by `order_id` with the total price.\n",
    "\n",
    "Hints:\n",
    "\n",
    "- Merging a DataFrame with a Series doesn't work. You need to merge two DataFrames.\n",
    "- A Series object coming out of a `.groupby()` function with an `.apply()` function chained to it will consider the `.groupby()` results to be potentially hierarchical indices. Using `.reset_index()` will turn these back into columns and also convert to a DataFrame, which can be used to merge."
   ]
  },
  {
   "cell_type": "code",
   "execution_count": null,
   "metadata": {},
   "outputs": [],
   "source": [
    "# A:"
   ]
  },
  {
   "cell_type": "markdown",
   "metadata": {},
   "source": [
    "#### 6. Make an `adjusted_item_price` column to account for multiple orders per row.\n",
    "\n",
    "Some items have multiple orders per row, as indicated by `quantity.` Adjust the `price` to account for the number of orders in a new column."
   ]
  },
  {
   "cell_type": "code",
   "execution_count": null,
   "metadata": {
    "collapsed": true
   },
   "outputs": [],
   "source": [
    "# A:"
   ]
  },
  {
   "cell_type": "markdown",
   "metadata": {},
   "source": [
    "#### 7. What is the `min`, `max`, `count`, ` mean`, and `std` of `price` for each unique item in  `item_name`?\n",
    "\n",
    "A pivot table works well for this. You can pass multiple aggregation functions into the `aggfunc` argument.\n",
    "\n",
    "`count` won't just be the length of each order's subset — there are sometimes multiple orders per row (as we can see in the `quantity` column)."
   ]
  },
  {
   "cell_type": "code",
   "execution_count": null,
   "metadata": {},
   "outputs": [],
   "source": [
    "# A:"
   ]
  },
  {
   "cell_type": "markdown",
   "metadata": {},
   "source": [
    "#### 8. Plot the `mean` `price` of items against the `count` (popularity).\n",
    "\n",
    "You already have this information in your summary table from the previous question."
   ]
  },
  {
   "cell_type": "code",
   "execution_count": null,
   "metadata": {},
   "outputs": [],
   "source": [
    "# A:"
   ]
  },
  {
   "cell_type": "markdown",
   "metadata": {},
   "source": [
    "#### 9. Plot the `max` `price` of items against the `count` (popularity)."
   ]
  },
  {
   "cell_type": "code",
   "execution_count": null,
   "metadata": {},
   "outputs": [],
   "source": [
    "# A:"
   ]
  },
  {
   "cell_type": "markdown",
   "metadata": {},
   "source": [
    "#### 10. Calculate the `mean` of adjusted `price` per `broad_type` category.\n",
    "\n",
    "You can handle these with a single function or in another way you prefer.\n",
    "\n",
    "FYI, `.apply()` functions can take keyword arguments that you pass in when you call the `.apply()` function chained to the `.groupby()` function.\n",
    "\n",
    "For example:\n",
    "\n",
    "```python\n",
    "def my_applier(df, my_kwarg='placeholder'):\n",
    "    df['newcol_'+placeholder] = 1.\n",
    "    return df\n",
    "    \n",
    "data = data.groupby('variable').apply(my_applier, my_kwarg='colsuffix').reset_index(drop=True)\n",
    "```\n"
   ]
  },
  {
   "cell_type": "code",
   "execution_count": null,
   "metadata": {
    "collapsed": true
   },
   "outputs": [],
   "source": [
    "# A:"
   ]
  },
  {
   "cell_type": "markdown",
   "metadata": {},
   "source": [
    "#### 11. Make a bar plot of your `mean` `price` by `broad_type` category.\n"
   ]
  },
  {
   "cell_type": "code",
   "execution_count": null,
   "metadata": {},
   "outputs": [],
   "source": [
    "# A:"
   ]
  },
  {
   "cell_type": "markdown",
   "metadata": {},
   "source": [
    "#### 12. Challenge: Parse the `choice_description` column into two new columns: `order_customizations` and `order_customization_id`.\n",
    "\n",
    "Here is what your inputs and outputs would look like for a hypothetical section of the DataFrame (I'm only showing some of the columns to give you an idea of what the output format will be):\n",
    "\n",
    "**Input:**\n",
    "\n",
    "```python\n",
    "                                  choice_description     item_name  order_id  \\\n",
    "0                                       [Clementine]          Izze         1   \n",
    "1  [Red Salsa, [Black Beans, Guacamole, Sour Cream]]  Chicken Bowl         1   \n",
    "\n",
    "   sub_order_id  \n",
    "0             1  \n",
    "1             2\n",
    "```\n",
    "\n",
    "**Output:**\n",
    "\n",
    "```python\n",
    "   order_customization_id order_customizations  \\\n",
    "0                       0           Clementine   \n",
    "1                       0            Red Salsa   \n",
    "2                       1          Black Beans   \n",
    "3                       2            Guacamole   \n",
    "4                       3           Sour Cream   \n",
    "\n",
    "                                  choice_description     item_name  order_id  \\\n",
    "0                                       [Clementine]          Izze         1   \n",
    "1  [Red Salsa, [Black Beans, Guacamole, Sour Cream]]  Chicken Bowl         1   \n",
    "2  [Red Salsa, [Black Beans, Guacamole, Sour Cream]]  Chicken Bowl         1   \n",
    "3  [Red Salsa, [Black Beans, Guacamole, Sour Cream]]  Chicken Bowl         1   \n",
    "4  [Red Salsa, [Black Beans, Guacamole, Sour Cream]]  Chicken Bowl         1   \n",
    "\n",
    "   sub_order_id  \n",
    "0             1  \n",
    "1             2  \n",
    "2             2  \n",
    "3             2  \n",
    "4             2 \n",
    "```\n",
    "\n",
    "**Hints**:\n",
    "\n",
    "- Remember, you can write your own function and pass it into `.apply()`. In this case there will be one item per group, as we have to parse every row, but you may be able to get a solution with `.iterrows()` if you want to try that out.\n",
    "- Within a function you are passing into `.apply()`, you can create a _new DataFrame and return it._ This is one of the features that makes `.apply()` so powerful, as you can essentially perform any operations you want on a subset of your original DataFrame, as long as you return DataFrames/groups that can be recombined.\n",
    "- Your output DataFrame will be lengthy, as there will be a row for every item in the `item_name` column. Expect there to be a lot of repeated information among rows, but they should not be entirely identical to one another.\n",
    "\n",
    "**Note: This function may take a while to complete. `.apply()` isn't that efficient when used with complicated custom operations per row like it is now.**"
   ]
  },
  {
   "cell_type": "code",
   "execution_count": null,
   "metadata": {
    "collapsed": true
   },
   "outputs": [],
   "source": [
    "# A:"
   ]
  }
 ],
 "metadata": {
  "kernelspec": {
   "display_name": "Python [Root]",
   "language": "python",
   "name": "Python [Root]"
  },
  "language_info": {
   "codemirror_mode": {
    "name": "ipython",
    "version": 2
   },
   "file_extension": ".py",
   "mimetype": "text/x-python",
   "name": "python",
   "nbconvert_exporter": "python",
   "pygments_lexer": "ipython2",
   "version": "2.7.12"
  }
 },
 "nbformat": 4,
 "nbformat_minor": 2
}
