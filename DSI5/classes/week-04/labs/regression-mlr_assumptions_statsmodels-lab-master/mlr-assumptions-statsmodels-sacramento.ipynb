{
 "cells": [
  {
   "cell_type": "markdown",
   "metadata": {},
   "source": [
    "<img src=\"http://imgur.com/1ZcRyrc.png\" style=\"float: left; margin: 20px; height: 55px\">\n",
    "\n",
    "# Practice MLR Using the Sacramento Real Estate Data\n",
    "\n",
    "_Authors: Matt Brems (DC), Marc Harper (LA), Sam Stack (DC)_\n",
    "\n",
    "---\n",
    "\n",
    "We return to the Sacramento real estate data, but this time around we will be constructing multiple linear regression models. \n",
    "\n",
    "You will review the assumptions of multiple linear regression and practice building a model using the statsmodels package."
   ]
  },
  {
   "cell_type": "markdown",
   "metadata": {},
   "source": [
    "### 1) Load the data. "
   ]
  },
  {
   "cell_type": "code",
   "execution_count": 1,
   "metadata": {
    "collapsed": true
   },
   "outputs": [],
   "source": [
    "import pandas as pd\n",
    "\n",
    "shd_csv = './datasets/sacramento_real_estate_transactions_Clean.csv'\n"
   ]
  },
  {
   "cell_type": "markdown",
   "metadata": {},
   "source": [
    "## Dummy Variables\n",
    "\n",
    "---\n",
    "\n",
    "When building a regression, it's important to be cautious with categorical variables, which represent distinct groups or categories. If they're put in a regression \"as is,\" categorical variables represented as integers will be treated like *continuous* variables.\n",
    "\n",
    "For example, if occupation category \"1\" represents \"analyst\" and occupation category \"3\" represents \"barista\" (with our target variable being salary) and we leave this as a column of integers, then \"barista\" will always have `beta*3` the effect of \"analyst.\" \n",
    "\n",
    "In simpler terms, instead of category \"3\" having a different effect on the estimation than category \"1,\" it will estimate literally three times more than category \"1.\"\n",
    "\n",
    "This will almost certainly produce an incorrect beta coefficient. Instead, we can re-represent the categories as multiple \"dummy-coded\" columns.\n",
    "\n",
    "### 2) Use the `pd.get_dummies` function to convert the `type` column into dummy-coded variables.\n",
    "\n",
    "Print out the header of the dummy-coded variable output."
   ]
  },
  {
   "cell_type": "code",
   "execution_count": 2,
   "metadata": {
    "collapsed": true
   },
   "outputs": [],
   "source": [
    "# A:"
   ]
  },
  {
   "cell_type": "markdown",
   "metadata": {},
   "source": [
    "---\n",
    "\n",
    "### A Word of Caution When Dummy Coding\n",
    "\n",
    "Let's touch on precautions we should take when dummy coding.\n",
    "\n",
    "**If you convert qualitative variables to dummy variables, you want to turn a variable with N categories into N-1 variables.**\n",
    "\n",
    "> Scenario 1: Suppose we're working with the variable \"sex\" or \"gender\" with values \"M\" and \"F.\" \n",
    "\n",
    "Your model should only include one variable for \"sex = F,\" which becomes 1 if sex is female and 0 if sex is not female. Rather than saying \"a one-unit change in X,\" the coefficient associated with \"sex = F\" is interpreted as the average change in Y when sex = F, relative to when sex = M.\n",
    "\n",
    "> Scenario 2: Suppose we're modeling revenue at a bar for each day of the week. We have a column with strings identifying the day of the week the observation occurred.\n",
    "\n",
    "We might include six of the days as their own variables — \"Monday,\" \"Tuesday,\" \"Wednesday,\" \"Thursday,\" \"Friday,\" and \"Saturday\"— **but not all seven days.**\n",
    "\n",
    "The coefficient for Monday is then interpreted as the average change in revenue when \"day = Monday,\" relative to \"day = Sunday.\" The coefficient for Tuesday is interpreted in the average change in revenue when \"day = Tuesday,\" relative to \"day = Sunday,\" and so on.\n",
    "\n",
    "The category you leave out, which the other columns are *relative to,* is often referred to as the **reference category**.\n",
    "\n",
    "### 3) Remove \"Unknown\" from your dummy-coded variable DataFrame and append the rest to the original data."
   ]
  },
  {
   "cell_type": "code",
   "execution_count": 3,
   "metadata": {
    "collapsed": true
   },
   "outputs": [],
   "source": [
    "# A:"
   ]
  },
  {
   "cell_type": "markdown",
   "metadata": {},
   "source": [
    "### 4) Build what you think may be the best MLR model predicting `price`. \n",
    "\n",
    "The independent variables are your choice, but *include at least three.* At least one of your variables should be  dummy coded (either one we created previously or a new one).\n",
    "\n",
    "When constructing your model, don't forget to load in the statsmodels API:\n",
    "\n",
    "```python\n",
    "import statsmodels.api as sm\n",
    "\n",
    "model = sm.OLS(y, X).fit()\n",
    "```"
   ]
  },
  {
   "cell_type": "code",
   "execution_count": 4,
   "metadata": {
    "collapsed": true
   },
   "outputs": [],
   "source": [
    "# A:"
   ]
  },
  {
   "cell_type": "markdown",
   "metadata": {},
   "source": [
    "### 5) Plot the residuals ( y-true vs. y-pred) to evaluate your MLR visually.\n",
    "\n",
    "> **Tip:** With Seaborn's `sns.lmplot`, you can set `x`, `y`, and even a `hue` (which will plot regression lines by category in different colors) to easily plot a regression line."
   ]
  },
  {
   "cell_type": "code",
   "execution_count": 5,
   "metadata": {
    "collapsed": true
   },
   "outputs": [],
   "source": [
    "# A:"
   ]
  },
  {
   "cell_type": "markdown",
   "metadata": {},
   "source": [
    "### 6) List the five assumptions for an MLR model. \n",
    "\n",
    "Indicate which ones are the same as the assumptions for an SLR model. "
   ]
  },
  {
   "cell_type": "code",
   "execution_count": 6,
   "metadata": {
    "collapsed": true
   },
   "outputs": [],
   "source": [
    "# A:\n"
   ]
  },
  {
   "cell_type": "markdown",
   "metadata": {},
   "source": [
    "### 7) Pick at least two assumptions and articulate whether or not you believe they were met for your model and why."
   ]
  },
  {
   "cell_type": "code",
   "execution_count": 7,
   "metadata": {
    "collapsed": true
   },
   "outputs": [],
   "source": [
    "# A:"
   ]
  },
  {
   "cell_type": "markdown",
   "metadata": {},
   "source": [
    "### 8) Explain what the intercept in your model means in the context of your predictor variables."
   ]
  },
  {
   "cell_type": "code",
   "execution_count": 8,
   "metadata": {
    "collapsed": true
   },
   "outputs": [],
   "source": [
    "# A:"
   ]
  },
  {
   "cell_type": "markdown",
   "metadata": {},
   "source": [
    "### 9) Generate a table showing the point estimates, standard errors, t-scores, p values, and 95 percent confidence intervals for the model you built. \n",
    "\n",
    "**Write a few sentences interpreting some of the output.**\n",
    "\n",
    "> **Hint:** Scikit-learn does not have this functionality built in, but  you can find it in the `summary` function in statsmodels."
   ]
  },
  {
   "cell_type": "code",
   "execution_count": 9,
   "metadata": {
    "collapsed": true
   },
   "outputs": [],
   "source": [
    "# A:"
   ]
  },
  {
   "cell_type": "markdown",
   "metadata": {},
   "source": [
    "### 10) [Bonus] Summarize your findings.\n",
    "\n",
    "Picture this: You work for a real estate agency. You're asked to prepare an executive summary for your very busy boss highlighting the most important findings from your MLR model. Convey these findings in no more than two paragraphs. Be sure to briefly address any potential shortcomings of your model.\n"
   ]
  },
  {
   "cell_type": "code",
   "execution_count": 10,
   "metadata": {
    "collapsed": true
   },
   "outputs": [],
   "source": [
    "# A: "
   ]
  }
 ],
 "metadata": {
  "anaconda-cloud": {},
  "kernelspec": {
   "display_name": "Python [Root]",
   "language": "python",
   "name": "Python [Root]"
  },
  "language_info": {
   "codemirror_mode": {
    "name": "ipython",
    "version": 2
   },
   "file_extension": ".py",
   "mimetype": "text/x-python",
   "name": "python",
   "nbconvert_exporter": "python",
   "pygments_lexer": "ipython2",
   "version": "2.7.12"
  }
 },
 "nbformat": 4,
 "nbformat_minor": 1
}
