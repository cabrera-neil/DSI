{
 "cells": [
  {
   "cell_type": "markdown",
   "metadata": {},
   "source": [
    "<img src=\"http://imgur.com/1ZcRyrc.png\" style=\"float: left; margin: 20px; height: 55px\">\n",
    "\n",
    "# Practice Grid Searching and Multinomial Models with San Francisco Crime Data\n",
    "\n",
    "_Authors: Joseph Nelson (DC), Sam Stack (DC)_\n",
    "\n",
    "---\n",
    "\n",
    "### Multinomial Logistic Regression Models\n",
    "\n",
    "So far, we've been using logistic regression for binary problems where there are only two class labels. Logistic regression can also be extended to dependent variables with multiple classes.\n",
    "\n",
    "There are two ways scikit-learn solves multiple class problems with logistic regression: a multinomial loss or a \"one-versus-rest\" (OvR) process in which a model is fit for each target class versus all of the other classes. \n",
    "\n",
    "**Multinomial vs. OvR**\n",
    "- (both) `k` classes.\n",
    "- (M) `k-1` models with one reference category.\n",
    "- (OvR) `k*(k-1)/2` models.\n",
    "\n",
    "You'll use grid search in conjunction with multinomial logistic regression to optimize a model that predicts the category (type) of crime based on various features captured by San Francisco police departments.\n",
    "\n",
    "Rather than use the [OneVsRestClassifier](http://scikit-learn.org/stable/modules/generated/sklearn.multiclass.OneVsRestClassifier.html), we're going to practice building individual models optimized to predict on _one class versus the rest_ for this lab."
   ]
  },
  {
   "cell_type": "markdown",
   "metadata": {},
   "source": [
    "**Necessary Lab Imports**"
   ]
  },
  {
   "cell_type": "code",
   "execution_count": 1,
   "metadata": {},
   "outputs": [],
   "source": [
    "import numpy as np\n",
    "import pandas as pd\n",
    "import patsy\n",
    "\n",
    "from sklearn.metrics import classification_report, confusion_matrix, accuracy_score\n",
    "from sklearn.model_selection import train_test_split, GridSearchCV\n",
    "from sklearn.linear_model import LogisticRegression, LogisticRegressionCV\n",
    "\n",
    "\n",
    "import seaborn as sns\n",
    "\n",
    "import matplotlib.pyplot as plt\n",
    "plt.style.use('fivethirtyeight')\n",
    "\n",
    "%matplotlib inline\n",
    "%config InlineBackend.figure_format = 'retina'"
   ]
  },
  {
   "cell_type": "markdown",
   "metadata": {},
   "source": [
    "### 1) Read in the data."
   ]
  },
  {
   "cell_type": "code",
   "execution_count": 2,
   "metadata": {},
   "outputs": [],
   "source": [
    "crime_csv = '../datasets/sf_crime_train.csv'"
   ]
  },
  {
   "cell_type": "code",
   "execution_count": 3,
   "metadata": {},
   "outputs": [
    {
     "data": {
      "text/html": [
       "<div>\n",
       "<style scoped>\n",
       "    .dataframe tbody tr th:only-of-type {\n",
       "        vertical-align: middle;\n",
       "    }\n",
       "\n",
       "    .dataframe tbody tr th {\n",
       "        vertical-align: top;\n",
       "    }\n",
       "\n",
       "    .dataframe thead th {\n",
       "        text-align: right;\n",
       "    }\n",
       "</style>\n",
       "<table border=\"1\" class=\"dataframe\">\n",
       "  <thead>\n",
       "    <tr style=\"text-align: right;\">\n",
       "      <th></th>\n",
       "      <th>Dates</th>\n",
       "      <th>Category</th>\n",
       "      <th>Descript</th>\n",
       "      <th>DayOfWeek</th>\n",
       "      <th>PdDistrict</th>\n",
       "      <th>Resolution</th>\n",
       "      <th>Address</th>\n",
       "      <th>X</th>\n",
       "      <th>Y</th>\n",
       "    </tr>\n",
       "  </thead>\n",
       "  <tbody>\n",
       "    <tr>\n",
       "      <th>0</th>\n",
       "      <td>5/13/15 23:53</td>\n",
       "      <td>WARRANTS</td>\n",
       "      <td>WARRANT ARREST</td>\n",
       "      <td>Wednesday</td>\n",
       "      <td>NORTHERN</td>\n",
       "      <td>ARREST, BOOKED</td>\n",
       "      <td>OAK ST / LAGUNA ST</td>\n",
       "      <td>-122.425892</td>\n",
       "      <td>37.774599</td>\n",
       "    </tr>\n",
       "    <tr>\n",
       "      <th>1</th>\n",
       "      <td>5/13/15 23:53</td>\n",
       "      <td>OTHER OFFENSES</td>\n",
       "      <td>TRAFFIC VIOLATION ARREST</td>\n",
       "      <td>Wednesday</td>\n",
       "      <td>NORTHERN</td>\n",
       "      <td>ARREST, BOOKED</td>\n",
       "      <td>OAK ST / LAGUNA ST</td>\n",
       "      <td>-122.425892</td>\n",
       "      <td>37.774599</td>\n",
       "    </tr>\n",
       "    <tr>\n",
       "      <th>2</th>\n",
       "      <td>5/13/15 23:33</td>\n",
       "      <td>OTHER OFFENSES</td>\n",
       "      <td>TRAFFIC VIOLATION ARREST</td>\n",
       "      <td>Wednesday</td>\n",
       "      <td>NORTHERN</td>\n",
       "      <td>ARREST, BOOKED</td>\n",
       "      <td>VANNESS AV / GREENWICH ST</td>\n",
       "      <td>-122.424363</td>\n",
       "      <td>37.800414</td>\n",
       "    </tr>\n",
       "    <tr>\n",
       "      <th>3</th>\n",
       "      <td>5/13/15 23:30</td>\n",
       "      <td>LARCENY/THEFT</td>\n",
       "      <td>GRAND THEFT FROM LOCKED AUTO</td>\n",
       "      <td>Wednesday</td>\n",
       "      <td>NORTHERN</td>\n",
       "      <td>NONE</td>\n",
       "      <td>1500 Block of LOMBARD ST</td>\n",
       "      <td>-122.426995</td>\n",
       "      <td>37.800873</td>\n",
       "    </tr>\n",
       "    <tr>\n",
       "      <th>4</th>\n",
       "      <td>5/13/15 23:30</td>\n",
       "      <td>LARCENY/THEFT</td>\n",
       "      <td>GRAND THEFT FROM LOCKED AUTO</td>\n",
       "      <td>Wednesday</td>\n",
       "      <td>PARK</td>\n",
       "      <td>NONE</td>\n",
       "      <td>100 Block of BRODERICK ST</td>\n",
       "      <td>-122.438738</td>\n",
       "      <td>37.771541</td>\n",
       "    </tr>\n",
       "  </tbody>\n",
       "</table>\n",
       "</div>"
      ],
      "text/plain": [
       "           Dates        Category                      Descript  DayOfWeek  \\\n",
       "0  5/13/15 23:53        WARRANTS                WARRANT ARREST  Wednesday   \n",
       "1  5/13/15 23:53  OTHER OFFENSES      TRAFFIC VIOLATION ARREST  Wednesday   \n",
       "2  5/13/15 23:33  OTHER OFFENSES      TRAFFIC VIOLATION ARREST  Wednesday   \n",
       "3  5/13/15 23:30   LARCENY/THEFT  GRAND THEFT FROM LOCKED AUTO  Wednesday   \n",
       "4  5/13/15 23:30   LARCENY/THEFT  GRAND THEFT FROM LOCKED AUTO  Wednesday   \n",
       "\n",
       "  PdDistrict      Resolution                    Address           X          Y  \n",
       "0   NORTHERN  ARREST, BOOKED         OAK ST / LAGUNA ST -122.425892  37.774599  \n",
       "1   NORTHERN  ARREST, BOOKED         OAK ST / LAGUNA ST -122.425892  37.774599  \n",
       "2   NORTHERN  ARREST, BOOKED  VANNESS AV / GREENWICH ST -122.424363  37.800414  \n",
       "3   NORTHERN            NONE   1500 Block of LOMBARD ST -122.426995  37.800873  \n",
       "4       PARK            NONE  100 Block of BRODERICK ST -122.438738  37.771541  "
      ]
     },
     "execution_count": 3,
     "metadata": {},
     "output_type": "execute_result"
    }
   ],
   "source": [
    "sf_crime = pd.read_csv(crime_csv)\n",
    "sf_crime.head()"
   ]
  },
  {
   "cell_type": "code",
   "execution_count": 4,
   "metadata": {},
   "outputs": [
    {
     "data": {
      "text/plain": [
       "dtype('O')"
      ]
     },
     "execution_count": 4,
     "metadata": {},
     "output_type": "execute_result"
    }
   ],
   "source": [
    "# There is a column that is a datetime data type and we want to check and see if it is currently an object.\n",
    "sf_crime.Dates.dtype"
   ]
  },
  {
   "cell_type": "markdown",
   "metadata": {
    "collapsed": true
   },
   "source": [
    "### 2) Create column for hour, month, and year from \"Dates\" column.\n",
    "\n",
    "> *Hint: `pd.to_datetime` may or may not be helpful.*\n"
   ]
  },
  {
   "cell_type": "code",
   "execution_count": 5,
   "metadata": {},
   "outputs": [],
   "source": [
    "sf_crime['date'] = sf_crime['Dates'].apply(pd.to_datetime)"
   ]
  },
  {
   "cell_type": "code",
   "execution_count": 6,
   "metadata": {},
   "outputs": [],
   "source": [
    "sf_crime['year'] = sf_crime['date'].apply(lambda x: x.year)\n",
    "sf_crime['month'] = sf_crime['date'].apply(lambda x: x.month)\n",
    "sf_crime['day'] = sf_crime['date'].apply(lambda x: x.day)\n",
    "sf_crime['hour'] = sf_crime['date'].apply(lambda x: x.time().hour)"
   ]
  },
  {
   "cell_type": "code",
   "execution_count": 7,
   "metadata": {},
   "outputs": [
    {
     "data": {
      "text/html": [
       "<div>\n",
       "<style scoped>\n",
       "    .dataframe tbody tr th:only-of-type {\n",
       "        vertical-align: middle;\n",
       "    }\n",
       "\n",
       "    .dataframe tbody tr th {\n",
       "        vertical-align: top;\n",
       "    }\n",
       "\n",
       "    .dataframe thead th {\n",
       "        text-align: right;\n",
       "    }\n",
       "</style>\n",
       "<table border=\"1\" class=\"dataframe\">\n",
       "  <thead>\n",
       "    <tr style=\"text-align: right;\">\n",
       "      <th></th>\n",
       "      <th>Dates</th>\n",
       "      <th>Category</th>\n",
       "      <th>Descript</th>\n",
       "      <th>DayOfWeek</th>\n",
       "      <th>PdDistrict</th>\n",
       "      <th>Resolution</th>\n",
       "      <th>Address</th>\n",
       "      <th>X</th>\n",
       "      <th>Y</th>\n",
       "      <th>date</th>\n",
       "      <th>year</th>\n",
       "      <th>month</th>\n",
       "      <th>day</th>\n",
       "      <th>hour</th>\n",
       "    </tr>\n",
       "  </thead>\n",
       "  <tbody>\n",
       "    <tr>\n",
       "      <th>0</th>\n",
       "      <td>5/13/15 23:53</td>\n",
       "      <td>WARRANTS</td>\n",
       "      <td>WARRANT ARREST</td>\n",
       "      <td>Wednesday</td>\n",
       "      <td>NORTHERN</td>\n",
       "      <td>ARREST, BOOKED</td>\n",
       "      <td>OAK ST / LAGUNA ST</td>\n",
       "      <td>-122.425892</td>\n",
       "      <td>37.774599</td>\n",
       "      <td>2015-05-13 23:53:00</td>\n",
       "      <td>2015</td>\n",
       "      <td>5</td>\n",
       "      <td>13</td>\n",
       "      <td>23</td>\n",
       "    </tr>\n",
       "    <tr>\n",
       "      <th>1</th>\n",
       "      <td>5/13/15 23:53</td>\n",
       "      <td>OTHER OFFENSES</td>\n",
       "      <td>TRAFFIC VIOLATION ARREST</td>\n",
       "      <td>Wednesday</td>\n",
       "      <td>NORTHERN</td>\n",
       "      <td>ARREST, BOOKED</td>\n",
       "      <td>OAK ST / LAGUNA ST</td>\n",
       "      <td>-122.425892</td>\n",
       "      <td>37.774599</td>\n",
       "      <td>2015-05-13 23:53:00</td>\n",
       "      <td>2015</td>\n",
       "      <td>5</td>\n",
       "      <td>13</td>\n",
       "      <td>23</td>\n",
       "    </tr>\n",
       "  </tbody>\n",
       "</table>\n",
       "</div>"
      ],
      "text/plain": [
       "           Dates        Category                  Descript  DayOfWeek  \\\n",
       "0  5/13/15 23:53        WARRANTS            WARRANT ARREST  Wednesday   \n",
       "1  5/13/15 23:53  OTHER OFFENSES  TRAFFIC VIOLATION ARREST  Wednesday   \n",
       "\n",
       "  PdDistrict      Resolution             Address           X          Y  \\\n",
       "0   NORTHERN  ARREST, BOOKED  OAK ST / LAGUNA ST -122.425892  37.774599   \n",
       "1   NORTHERN  ARREST, BOOKED  OAK ST / LAGUNA ST -122.425892  37.774599   \n",
       "\n",
       "                 date  year  month  day  hour  \n",
       "0 2015-05-13 23:53:00  2015      5   13    23  \n",
       "1 2015-05-13 23:53:00  2015      5   13    23  "
      ]
     },
     "execution_count": 7,
     "metadata": {},
     "output_type": "execute_result"
    }
   ],
   "source": [
    "# Check out the current DataFrame if you're are interested.\n",
    "sf_crime.head(2)"
   ]
  },
  {
   "cell_type": "code",
   "execution_count": 8,
   "metadata": {},
   "outputs": [],
   "source": [
    "# Dropping columns where time is expressed in human language:\n",
    "sf_crime.drop(['Dates','date'], axis = 1, inplace = True)"
   ]
  },
  {
   "cell_type": "markdown",
   "metadata": {},
   "source": [
    "### 3) Validate and clean the data."
   ]
  },
  {
   "cell_type": "code",
   "execution_count": 9,
   "metadata": {},
   "outputs": [
    {
     "data": {
      "text/plain": [
       "LARCENY/THEFT                  4885\n",
       "OTHER OFFENSES                 2291\n",
       "NON-CRIMINAL                   2255\n",
       "ASSAULT                        1536\n",
       "VEHICLE THEFT                   967\n",
       "VANDALISM                       877\n",
       "BURGLARY                        732\n",
       "WARRANTS                        728\n",
       "SUSPICIOUS OCC                  592\n",
       "MISSING PERSON                  535\n",
       "DRUG/NARCOTIC                   496\n",
       "ROBBERY                         465\n",
       "FRAUD                           363\n",
       "SECONDARY CODES                 261\n",
       "WEAPON LAWS                     212\n",
       "TRESPASS                        130\n",
       "STOLEN PROPERTY                 111\n",
       "SEX OFFENSES FORCIBLE           103\n",
       "FORGERY/COUNTERFEITING           85\n",
       "DRUNKENNESS                      74\n",
       "KIDNAPPING                       50\n",
       "PROSTITUTION                     44\n",
       "DRIVING UNDER THE INFLUENCE      42\n",
       "DISORDERLY CONDUCT               37\n",
       "ARSON                            35\n",
       "LIQUOR LAWS                      25\n",
       "RUNAWAY                          16\n",
       "EMBEZZLEMENT                     11\n",
       "BRIBERY                          11\n",
       "FAMILY OFFENSES                   5\n",
       "SUICIDE                           5\n",
       "LOITERING                         4\n",
       "GAMBLING                          4\n",
       "EXTORTION                         4\n",
       "SEX OFFENSES NON FORCIBLE         4\n",
       "ASSUALT                           2\n",
       "BAD CHECKS                        2\n",
       "TRESPASSING                       1\n",
       "Name: Category, dtype: int64"
      ]
     },
     "execution_count": 9,
     "metadata": {},
     "output_type": "execute_result"
    }
   ],
   "source": [
    "sf_crime['Category'].value_counts()"
   ]
  },
  {
   "cell_type": "code",
   "execution_count": 10,
   "metadata": {},
   "outputs": [],
   "source": [
    "# There is one instance of trespassing while all others are trespass, \n",
    "# as well as one instance of \"assualt\" due to a misspelling."
   ]
  },
  {
   "cell_type": "code",
   "execution_count": 11,
   "metadata": {},
   "outputs": [
    {
     "data": {
      "text/plain": [
       "Wednesday    2930\n",
       "Friday       2733\n",
       "Saturday     2556\n",
       "Thursday     2479\n",
       "Sunday       2456\n",
       "Monday       2447\n",
       "Tuesday      2399\n",
       "Name: DayOfWeek, dtype: int64"
      ]
     },
     "execution_count": 11,
     "metadata": {},
     "output_type": "execute_result"
    }
   ],
   "source": [
    "sf_crime['DayOfWeek'].value_counts()\n",
    "# All days of the week are there."
   ]
  },
  {
   "cell_type": "code",
   "execution_count": 12,
   "metadata": {},
   "outputs": [
    {
     "data": {
      "text/plain": [
       "SOUTHERN      3287\n",
       "NORTHERN      2250\n",
       "CENTRAL       2206\n",
       "MISSION       2118\n",
       "BAYVIEW       1678\n",
       "INGLESIDE     1628\n",
       "TARAVAL       1426\n",
       "TENDERLOIN    1327\n",
       "RICHMOND      1101\n",
       "PARK           979\n",
       "Name: PdDistrict, dtype: int64"
      ]
     },
     "execution_count": 12,
     "metadata": {},
     "output_type": "execute_result"
    }
   ],
   "source": [
    "sf_crime['PdDistrict'].value_counts()\n",
    "# The values look good."
   ]
  },
  {
   "cell_type": "code",
   "execution_count": 13,
   "metadata": {},
   "outputs": [
    {
     "data": {
      "text/plain": [
       "NONE                                      12862\n",
       "ARREST, BOOKED                             4455\n",
       "UNFOUNDED                                   367\n",
       "ARREST, CITED                               100\n",
       "JUVENILE BOOKED                              94\n",
       "EXCEPTIONAL CLEARANCE                        58\n",
       "PSYCHOPATHIC CASE                            28\n",
       "LOCATED                                      25\n",
       "CLEARED-CONTACT JUVENILE FOR MORE INFO       10\n",
       "NOT PROSECUTED                                1\n",
       "Name: Resolution, dtype: int64"
      ]
     },
     "execution_count": 13,
     "metadata": {},
     "output_type": "execute_result"
    }
   ],
   "source": [
    "sf_crime['Resolution'].value_counts()\n",
    "# One instance of not prosecuted was found."
   ]
  },
  {
   "cell_type": "code",
   "execution_count": 14,
   "metadata": {},
   "outputs": [
    {
     "data": {
      "text/html": [
       "<div>\n",
       "<style scoped>\n",
       "    .dataframe tbody tr th:only-of-type {\n",
       "        vertical-align: middle;\n",
       "    }\n",
       "\n",
       "    .dataframe tbody tr th {\n",
       "        vertical-align: top;\n",
       "    }\n",
       "\n",
       "    .dataframe thead th {\n",
       "        text-align: right;\n",
       "    }\n",
       "</style>\n",
       "<table border=\"1\" class=\"dataframe\">\n",
       "  <thead>\n",
       "    <tr style=\"text-align: right;\">\n",
       "      <th></th>\n",
       "      <th>X</th>\n",
       "      <th>Y</th>\n",
       "    </tr>\n",
       "  </thead>\n",
       "  <tbody>\n",
       "    <tr>\n",
       "      <th>count</th>\n",
       "      <td>18000.000000</td>\n",
       "      <td>18000.000000</td>\n",
       "    </tr>\n",
       "    <tr>\n",
       "      <th>mean</th>\n",
       "      <td>-122.423639</td>\n",
       "      <td>37.768466</td>\n",
       "    </tr>\n",
       "    <tr>\n",
       "      <th>std</th>\n",
       "      <td>0.026532</td>\n",
       "      <td>0.024391</td>\n",
       "    </tr>\n",
       "    <tr>\n",
       "      <th>min</th>\n",
       "      <td>-122.513642</td>\n",
       "      <td>37.708154</td>\n",
       "    </tr>\n",
       "    <tr>\n",
       "      <th>25%</th>\n",
       "      <td>-122.434199</td>\n",
       "      <td>37.753838</td>\n",
       "    </tr>\n",
       "    <tr>\n",
       "      <th>50%</th>\n",
       "      <td>-122.416949</td>\n",
       "      <td>37.775608</td>\n",
       "    </tr>\n",
       "    <tr>\n",
       "      <th>75%</th>\n",
       "      <td>-122.406539</td>\n",
       "      <td>37.785390</td>\n",
       "    </tr>\n",
       "    <tr>\n",
       "      <th>max</th>\n",
       "      <td>-122.365565</td>\n",
       "      <td>37.819923</td>\n",
       "    </tr>\n",
       "  </tbody>\n",
       "</table>\n",
       "</div>"
      ],
      "text/plain": [
       "                  X             Y\n",
       "count  18000.000000  18000.000000\n",
       "mean    -122.423639     37.768466\n",
       "std        0.026532      0.024391\n",
       "min     -122.513642     37.708154\n",
       "25%     -122.434199     37.753838\n",
       "50%     -122.416949     37.775608\n",
       "75%     -122.406539     37.785390\n",
       "max     -122.365565     37.819923"
      ]
     },
     "execution_count": 14,
     "metadata": {},
     "output_type": "execute_result"
    }
   ],
   "source": [
    "sf_crime[['X','Y']].describe()\n",
    "# All of the coordinates appear to be legitimate."
   ]
  },
  {
   "cell_type": "code",
   "execution_count": 15,
   "metadata": {},
   "outputs": [
    {
     "data": {
      "text/html": [
       "<div>\n",
       "<style scoped>\n",
       "    .dataframe tbody tr th:only-of-type {\n",
       "        vertical-align: middle;\n",
       "    }\n",
       "\n",
       "    .dataframe tbody tr th {\n",
       "        vertical-align: top;\n",
       "    }\n",
       "\n",
       "    .dataframe thead th {\n",
       "        text-align: right;\n",
       "    }\n",
       "</style>\n",
       "<table border=\"1\" class=\"dataframe\">\n",
       "  <thead>\n",
       "    <tr style=\"text-align: right;\">\n",
       "      <th></th>\n",
       "      <th>Category</th>\n",
       "      <th>Descript</th>\n",
       "      <th>DayOfWeek</th>\n",
       "      <th>PdDistrict</th>\n",
       "      <th>Resolution</th>\n",
       "      <th>Address</th>\n",
       "      <th>X</th>\n",
       "      <th>Y</th>\n",
       "      <th>year</th>\n",
       "      <th>month</th>\n",
       "      <th>day</th>\n",
       "      <th>hour</th>\n",
       "    </tr>\n",
       "  </thead>\n",
       "  <tbody>\n",
       "    <tr>\n",
       "      <th>2750</th>\n",
       "      <td>ASSUALT</td>\n",
       "      <td>AGGRAVATED ASSAULT WITH A DEADLY WEAPON</td>\n",
       "      <td>Wednesday</td>\n",
       "      <td>MISSION</td>\n",
       "      <td>NONE</td>\n",
       "      <td>3000 Block of 16TH ST</td>\n",
       "      <td>-122.421083</td>\n",
       "      <td>37.764911</td>\n",
       "      <td>2015</td>\n",
       "      <td>4</td>\n",
       "      <td>29</td>\n",
       "      <td>20</td>\n",
       "    </tr>\n",
       "    <tr>\n",
       "      <th>4330</th>\n",
       "      <td>ASSUALT</td>\n",
       "      <td>THREATS AGAINST LIFE</td>\n",
       "      <td>Saturday</td>\n",
       "      <td>MISSION</td>\n",
       "      <td>ARREST, BOOKED</td>\n",
       "      <td>16TH ST / CALEDONIA ST</td>\n",
       "      <td>-122.421382</td>\n",
       "      <td>37.764948</td>\n",
       "      <td>2015</td>\n",
       "      <td>4</td>\n",
       "      <td>18</td>\n",
       "      <td>23</td>\n",
       "    </tr>\n",
       "  </tbody>\n",
       "</table>\n",
       "</div>"
      ],
      "text/plain": [
       "     Category                                 Descript  DayOfWeek PdDistrict  \\\n",
       "2750  ASSUALT  AGGRAVATED ASSAULT WITH A DEADLY WEAPON  Wednesday    MISSION   \n",
       "4330  ASSUALT                     THREATS AGAINST LIFE   Saturday    MISSION   \n",
       "\n",
       "          Resolution                 Address           X          Y  year  \\\n",
       "2750            NONE   3000 Block of 16TH ST -122.421083  37.764911  2015   \n",
       "4330  ARREST, BOOKED  16TH ST / CALEDONIA ST -122.421382  37.764948  2015   \n",
       "\n",
       "      month  day  hour  \n",
       "2750      4   29    20  \n",
       "4330      4   18    23  "
      ]
     },
     "execution_count": 15,
     "metadata": {},
     "output_type": "execute_result"
    }
   ],
   "source": [
    "# Figuring out where that wrong data exist in the DataFrame:\n",
    "sf_crime[sf_crime['Category'] == 'ASSUALT']\n",
    "# Rows 2750 and 4330."
   ]
  },
  {
   "cell_type": "code",
   "execution_count": 16,
   "metadata": {},
   "outputs": [
    {
     "data": {
      "text/html": [
       "<div>\n",
       "<style scoped>\n",
       "    .dataframe tbody tr th:only-of-type {\n",
       "        vertical-align: middle;\n",
       "    }\n",
       "\n",
       "    .dataframe tbody tr th {\n",
       "        vertical-align: top;\n",
       "    }\n",
       "\n",
       "    .dataframe thead th {\n",
       "        text-align: right;\n",
       "    }\n",
       "</style>\n",
       "<table border=\"1\" class=\"dataframe\">\n",
       "  <thead>\n",
       "    <tr style=\"text-align: right;\">\n",
       "      <th></th>\n",
       "      <th>Category</th>\n",
       "      <th>Descript</th>\n",
       "      <th>DayOfWeek</th>\n",
       "      <th>PdDistrict</th>\n",
       "      <th>Resolution</th>\n",
       "      <th>Address</th>\n",
       "      <th>X</th>\n",
       "      <th>Y</th>\n",
       "      <th>year</th>\n",
       "      <th>month</th>\n",
       "      <th>day</th>\n",
       "      <th>hour</th>\n",
       "    </tr>\n",
       "  </thead>\n",
       "  <tbody>\n",
       "    <tr>\n",
       "      <th>5519</th>\n",
       "      <td>TRESPASSING</td>\n",
       "      <td>TRESPASSING</td>\n",
       "      <td>Thursday</td>\n",
       "      <td>CENTRAL</td>\n",
       "      <td>ARREST, BOOKED</td>\n",
       "      <td>300 Block of MONTGOMERY ST</td>\n",
       "      <td>-122.402739</td>\n",
       "      <td>37.792375</td>\n",
       "      <td>2015</td>\n",
       "      <td>4</td>\n",
       "      <td>16</td>\n",
       "      <td>6</td>\n",
       "    </tr>\n",
       "  </tbody>\n",
       "</table>\n",
       "</div>"
      ],
      "text/plain": [
       "         Category     Descript DayOfWeek PdDistrict      Resolution  \\\n",
       "5519  TRESPASSING  TRESPASSING  Thursday    CENTRAL  ARREST, BOOKED   \n",
       "\n",
       "                         Address           X          Y  year  month  day  \\\n",
       "5519  300 Block of MONTGOMERY ST -122.402739  37.792375  2015      4   16   \n",
       "\n",
       "      hour  \n",
       "5519     6  "
      ]
     },
     "execution_count": 16,
     "metadata": {},
     "output_type": "execute_result"
    }
   ],
   "source": [
    "sf_crime[sf_crime['Category'] == 'TRESPASSING']\n",
    "# Row 5519."
   ]
  },
  {
   "cell_type": "code",
   "execution_count": 17,
   "metadata": {},
   "outputs": [
    {
     "data": {
      "text/plain": [
       "'TRESPASSING'"
      ]
     },
     "execution_count": 17,
     "metadata": {},
     "output_type": "execute_result"
    }
   ],
   "source": [
    "sf_crime.loc[5519, 'Category']"
   ]
  },
  {
   "cell_type": "code",
   "execution_count": 18,
   "metadata": {},
   "outputs": [],
   "source": [
    "# The issues with the data are small enough to be changed manually.\n",
    "sf_crime.loc[2750, 'Category'] = 'ASSAULT'\n",
    "sf_crime.loc[4330, 'Category'] = 'ASSAULT'\n",
    "sf_crime.loc[5519, 'Category'] = 'TRESPASS'"
   ]
  },
  {
   "cell_type": "markdown",
   "metadata": {
    "collapsed": true
   },
   "source": [
    "### 4) Set up a target and predictor matrix for predicting violent, versus non-violent, versus non-crimes.\n",
    "\n",
    "**Non-Violent Crimes**\n",
    "- Bad checks.\n",
    "- Bribery.\n",
    "- Drug/narcotic.\n",
    "- Drunkenness.\n",
    "- Embezzlement.\n",
    "- Forgery/counterfeiting.\n",
    "- Fraud.\n",
    "- Gambling.\n",
    "- Liquor.\n",
    "- Loitering.\n",
    "- Trespass.\n",
    "\n",
    "**Non-Crimes**\n",
    "- Non-criminal.\n",
    "- Runaway.\n",
    "- Secondary codes.\n",
    "- Suspicious OCC.\n",
    "- Warrants.\n",
    "\n",
    "**Violent Crimes**\n",
    "- Everything else.\n",
    "\n",
    "**What type of model do you need here? What should your \"baseline\" category be?**"
   ]
  },
  {
   "cell_type": "code",
   "execution_count": 19,
   "metadata": {},
   "outputs": [],
   "source": [
    "# Multiclass regression. Our baseline will probably be violent, as it's the leftover group, so to speak.\n",
    "# However, it would naturally make sense to set our baseline as the class with the most observations."
   ]
  },
  {
   "cell_type": "code",
   "execution_count": 20,
   "metadata": {},
   "outputs": [],
   "source": [
    "non_crime = ['non-criminal', 'runaway', 'secondary codes', \n",
    "         'suspicious occ', 'warrants']\n",
    "non_violent  = ['bad checks', 'bribery', 'drug/narcotic', \n",
    "         'drunkenness', 'embezzlement', 'forgery/counterfeiting', \n",
    "         'fraud', 'gambling','liquor', 'loitering', \n",
    "         'trespass', 'other offenses']\n",
    "# the rest is 'violent'\n",
    "\n",
    "\n",
    "sf_crime['Category'] = sf_crime['Category'].str.lower()\n",
    "sf_crime['cat_number'] = sf_crime['Category'].apply(lambda c: 'non-crime' if c in non_crime else ('non-violent' if c in non_violent else 'violent'))"
   ]
  },
  {
   "cell_type": "code",
   "execution_count": 21,
   "metadata": {},
   "outputs": [],
   "source": [
    "# We're also going to convert DayOfWeek, PdDistrict, and Resolution to dummy variables.\n",
    "dummies = pd.get_dummies(sf_crime[['DayOfWeek','PdDistrict','Resolution']], drop_first = True)\n",
    "\n",
    "# Merge the DataFrame result back onto the original DataFrame.\n",
    "sf_crime = sf_crime.merge(dummies, left_index = True, right_index = True,how = 'outer')"
   ]
  },
  {
   "cell_type": "code",
   "execution_count": 22,
   "metadata": {},
   "outputs": [],
   "source": [
    "# Dropping all the categorical values that probably \n",
    "# won't be relevant or have been converted to dummies for X.\n",
    "X = sf_crime.drop(['Category','Descript','DayOfWeek','PdDistrict',\n",
    "                   'Resolution','Address','X','Y','cat_number'], axis = 1)\n",
    "y = sf_crime['cat_number'].values"
   ]
  },
  {
   "cell_type": "code",
   "execution_count": 23,
   "metadata": {},
   "outputs": [
    {
     "name": "stdout",
     "output_type": "stream",
     "text": [
      "year\n",
      "month\n",
      "day\n",
      "hour\n",
      "DayOfWeek_Monday\n",
      "DayOfWeek_Saturday\n",
      "DayOfWeek_Sunday\n",
      "DayOfWeek_Thursday\n",
      "DayOfWeek_Tuesday\n",
      "DayOfWeek_Wednesday\n",
      "PdDistrict_CENTRAL\n",
      "PdDistrict_INGLESIDE\n",
      "PdDistrict_MISSION\n",
      "PdDistrict_NORTHERN\n",
      "PdDistrict_PARK\n",
      "PdDistrict_RICHMOND\n",
      "PdDistrict_SOUTHERN\n",
      "PdDistrict_TARAVAL\n",
      "PdDistrict_TENDERLOIN\n",
      "Resolution_ARREST, CITED\n",
      "Resolution_CLEARED-CONTACT JUVENILE FOR MORE INFO\n",
      "Resolution_EXCEPTIONAL CLEARANCE\n",
      "Resolution_JUVENILE BOOKED\n",
      "Resolution_LOCATED\n",
      "Resolution_NONE\n",
      "Resolution_NOT PROSECUTED\n",
      "Resolution_PSYCHOPATHIC CASE\n",
      "Resolution_UNFOUNDED\n"
     ]
    }
   ],
   "source": [
    "for c in X.columns:\n",
    "    print(c)"
   ]
  },
  {
   "cell_type": "markdown",
   "metadata": {},
   "source": [
    "### 5) Standardize the predictor matrix."
   ]
  },
  {
   "cell_type": "code",
   "execution_count": 24,
   "metadata": {},
   "outputs": [],
   "source": [
    "from sklearn.preprocessing import StandardScaler\n",
    "\n",
    "ss = StandardScaler()\n",
    "Xs = ss.fit_transform(X)"
   ]
  },
  {
   "cell_type": "markdown",
   "metadata": {},
   "source": [
    "### 6) Find the optimal hyperparameters (optimal regularization) to predict your crime categories.\n",
    "\n",
    "> **Note:** Grid searching can be done with `GridSearchCV` or `LogisticRegressionCV`. They operate differently — the grid search object is more general and can be applied to any model. The `LogisticRegressionCV` is specific to tuning the logistic regression hyperparameters. The `LogisticRegressionCV` is recommended, but the downside is that the lasso and ridge must be searched separately.\n",
    "\n",
    "**References for logistic regression regularization hyperparameters:**\n",
    "- `solver`: Algorithm used for optimization (relevant for multiclass).\n",
    "    - `Newton-cg`: Handles multinomial loss and L2 only.\n",
    "    - `Sag`: Handles multinomial loss, large data sets, and L2 only; works best on scaled data.\n",
    "    - `lbfgs`: Handles multinomial loss and L2 only.\n",
    "    - `Liblinear`: Small data sets; no warm starts.\n",
    "- `Cs`: Regularization strengths (smaller values are stronger penalties).\n",
    "- `cv`: Cross-validations or number of folds.\n",
    "- `penalty`: `'l1'` = lasso, `'l2'` = ridge."
   ]
  },
  {
   "cell_type": "code",
   "execution_count": 25,
   "metadata": {},
   "outputs": [],
   "source": [
    "# Example:\n",
    "# Fit model with five folds and lasso regularization.\n",
    "# Use Cs=15 to test a grid of 15 distinct parameters.\n",
    "# Remember: Cs describes the inverse of regularization strength.\n",
    "\n",
    "# logreg_cv = LogisticRegressionCV(solver='liblinear', \n",
    "#                                  Cs=[1,5,10], \n",
    "#                                  cv=5, penalty='l1')"
   ]
  },
  {
   "cell_type": "markdown",
   "metadata": {},
   "source": [
    "**Split data into training and testing sets with 50 percent in testing.**"
   ]
  },
  {
   "cell_type": "code",
   "execution_count": 26,
   "metadata": {},
   "outputs": [],
   "source": [
    "# TTS our data.\n",
    "# We'll have a holdout set to test on at the end.\n",
    "X_train, X_test, y_train, y_test = train_test_split(X, y, test_size=0.5, random_state=12)"
   ]
  },
  {
   "cell_type": "markdown",
   "metadata": {},
   "source": [
    "**Grid search hyperparameters for the training data.**"
   ]
  },
  {
   "cell_type": "code",
   "execution_count": 27,
   "metadata": {},
   "outputs": [
    {
     "data": {
      "text/plain": [
       "LogisticRegressionCV(Cs=100, class_weight=None, cv=5, dual=False,\n",
       "           fit_intercept=True, intercept_scaling=1.0, max_iter=100,\n",
       "           multi_class='ovr', n_jobs=1, penalty='l1', random_state=None,\n",
       "           refit=True, scoring='accuracy', solver='liblinear', tol=0.0001,\n",
       "           verbose=0)"
      ]
     },
     "execution_count": 27,
     "metadata": {},
     "output_type": "execute_result"
    }
   ],
   "source": [
    "# Let's set our model parameters. \n",
    "logreg_cv = LogisticRegressionCV(Cs=100, \n",
    "                                 cv=5, \n",
    "                                 penalty='l1', \n",
    "                                 scoring='accuracy', \n",
    "                                 solver='liblinear')\n",
    "logreg_cv.fit(X_train, y_train)"
   ]
  },
  {
   "cell_type": "code",
   "execution_count": 28,
   "metadata": {},
   "outputs": [
    {
     "data": {
      "text/plain": [
       "(array(['non-crime', 'non-violent', 'violent'], dtype=object),\n",
       " array([0.52140083, 0.1176812 , 0.62802914]))"
      ]
     },
     "execution_count": 28,
     "metadata": {},
     "output_type": "execute_result"
    }
   ],
   "source": [
    "logreg_cv.classes_, logreg_cv.C_"
   ]
  },
  {
   "cell_type": "markdown",
   "metadata": {},
   "source": [
    "**Find the best parameters for each target class.**"
   ]
  },
  {
   "cell_type": "code",
   "execution_count": 29,
   "metadata": {},
   "outputs": [
    {
     "name": "stdout",
     "output_type": "stream",
     "text": [
      "best C for class: {'non-crime': 0.521400828799969, 'non-violent': 0.1176811952434999, 'violent': 0.6280291441834259}\n"
     ]
    }
   ],
   "source": [
    "# Find best C per class.\n",
    "# Build a dictionary that performs a regression \n",
    "# for each of the y classes.\n",
    "# After the fit, it grabs the C values for said \n",
    "# logistic regression and puts them together.\n",
    "best_C = dict(zip(logreg_cv.classes_, logreg_cv.C_))\n",
    "print('best C for class:', best_C)"
   ]
  },
  {
   "cell_type": "markdown",
   "metadata": {},
   "source": [
    "**Build three logistic regression models using the best parameters for each target class.**"
   ]
  },
  {
   "cell_type": "code",
   "execution_count": 30,
   "metadata": {},
   "outputs": [],
   "source": [
    "# Fit regular logit model to 'non-crime', 'non-violent' \n",
    "# and 'violent' classes.\n",
    "# Use lasso penalty.\n",
    "logreg_1 = LogisticRegression(C=best_C['non-crime'], \n",
    "                              penalty='l1', \n",
    "                              solver='liblinear', \n",
    "                              multi_class = 'ovr')\n",
    "\n",
    "logreg_2 = LogisticRegression(C=best_C['non-violent'], \n",
    "                              penalty='l1', \n",
    "                              solver='liblinear', \n",
    "                              multi_class = 'ovr')\n",
    "\n",
    "logreg_3 = LogisticRegression(C=best_C['violent'], \n",
    "                              penalty='l1', \n",
    "                              solver='liblinear', \n",
    "                              multi_class = 'ovr')"
   ]
  },
  {
   "cell_type": "code",
   "execution_count": 31,
   "metadata": {},
   "outputs": [
    {
     "data": {
      "text/plain": [
       "LogisticRegression(C=0.521400828799969, class_weight=None, dual=False,\n",
       "          fit_intercept=True, intercept_scaling=1, max_iter=100,\n",
       "          multi_class='ovr', n_jobs=1, penalty='l1', random_state=None,\n",
       "          solver='liblinear', tol=0.0001, verbose=0, warm_start=False)"
      ]
     },
     "execution_count": 31,
     "metadata": {},
     "output_type": "execute_result"
    }
   ],
   "source": [
    "# Let's check all of our outputs for all of our models.\n",
    "# Fit model for predicting 'non-crime'.\n",
    "logreg_1.fit(X_train, y_train)"
   ]
  },
  {
   "cell_type": "code",
   "execution_count": 32,
   "metadata": {},
   "outputs": [
    {
     "data": {
      "text/plain": [
       "LogisticRegression(C=0.1176811952434999, class_weight=None, dual=False,\n",
       "          fit_intercept=True, intercept_scaling=1, max_iter=100,\n",
       "          multi_class='ovr', n_jobs=1, penalty='l1', random_state=None,\n",
       "          solver='liblinear', tol=0.0001, verbose=0, warm_start=False)"
      ]
     },
     "execution_count": 32,
     "metadata": {},
     "output_type": "execute_result"
    }
   ],
   "source": [
    "# Fit model for predicting 'non-violent'.\n",
    "logreg_2.fit(X_train, y_train)"
   ]
  },
  {
   "cell_type": "code",
   "execution_count": 33,
   "metadata": {},
   "outputs": [
    {
     "data": {
      "text/plain": [
       "LogisticRegression(C=0.6280291441834259, class_weight=None, dual=False,\n",
       "          fit_intercept=True, intercept_scaling=1, max_iter=100,\n",
       "          multi_class='ovr', n_jobs=1, penalty='l1', random_state=None,\n",
       "          solver='liblinear', tol=0.0001, verbose=0, warm_start=False)"
      ]
     },
     "execution_count": 33,
     "metadata": {},
     "output_type": "execute_result"
    }
   ],
   "source": [
    "# Fit model for predicting 'violent'.\n",
    "logreg_3.fit(X_train, y_train)"
   ]
  },
  {
   "cell_type": "markdown",
   "metadata": {},
   "source": [
    "### 7) Build confusion matrices for the models above.\n",
    "- Use the holdout test data from the train/test split."
   ]
  },
  {
   "cell_type": "code",
   "execution_count": 34,
   "metadata": {},
   "outputs": [],
   "source": [
    "# Use the logregs to predict on our test set and storing predictions.\n",
    "Y_1_pred = logreg_1.predict(X_test)\n",
    "Y_2_pred = logreg_2.predict(X_test)\n",
    "Y_3_pred = logreg_3.predict(X_test)\n",
    "\n",
    "# Stores confusion matrix for y test and y predictions.  \n",
    "conmat_1 = confusion_matrix(y_test, Y_1_pred, labels=logreg_1.classes_)\n",
    "# Converts np.matrix format matrix to a DataFrame and adds index and column names:\n",
    "conmat_1 = pd.DataFrame(conmat_1, columns=logreg_1.classes_, index=logreg_1.classes_)\n",
    "\n",
    "conmat_2 = confusion_matrix(y_test, Y_2_pred, labels=logreg_2.classes_)\n",
    "conmat_2 = pd.DataFrame(conmat_2, columns=logreg_2.classes_, index=logreg_2.classes_)\n",
    "\n",
    "conmat_3 = confusion_matrix(y_test, Y_3_pred, labels=logreg_3.classes_)\n",
    "conmat_3 = pd.DataFrame(conmat_3, columns=logreg_3.classes_, index=logreg_3.classes_)"
   ]
  },
  {
   "cell_type": "code",
   "execution_count": 35,
   "metadata": {},
   "outputs": [
    {
     "name": "stdout",
     "output_type": "stream",
     "text": [
      "best params for non-crime:\n",
      "             non-crime  non-violent  violent\n",
      "non-crime          132          344     1401\n",
      "non-violent         38          836      900\n",
      "violent             28          595     4726\n",
      "----------------------------------------\n",
      "best params for non-violent:\n",
      "             non-crime  non-violent  violent\n",
      "non-crime          117          376     1384\n",
      "non-violent         38          847      889\n",
      "violent             28          628     4693\n",
      "----------------------------------------\n",
      "best params for violent:\n",
      "             non-crime  non-violent  violent\n",
      "non-crime          132          344     1401\n",
      "non-violent         38          837      899\n",
      "violent             30          592     4727\n"
     ]
    }
   ],
   "source": [
    "print('best params for non-crime:')\n",
    "print(conmat_1)\n",
    "print('-'*40)\n",
    "print('best params for non-violent:')\n",
    "print(conmat_2)\n",
    "print('-'*40)\n",
    "print('best params for violent:')\n",
    "print(conmat_3)"
   ]
  },
  {
   "cell_type": "markdown",
   "metadata": {},
   "source": [
    "### 8) Print classification reports for your three models."
   ]
  },
  {
   "cell_type": "code",
   "execution_count": 36,
   "metadata": {},
   "outputs": [
    {
     "name": "stdout",
     "output_type": "stream",
     "text": [
      "             precision    recall  f1-score   support\n",
      "\n",
      "  non-crime       0.67      0.07      0.13      1877\n",
      "non-violent       0.47      0.47      0.47      1774\n",
      "    violent       0.67      0.88      0.76      5349\n",
      "\n",
      "avg / total       0.63      0.63      0.57      9000\n",
      "\n",
      "             precision    recall  f1-score   support\n",
      "\n",
      "  non-crime       0.64      0.06      0.11      1877\n",
      "non-violent       0.46      0.48      0.47      1774\n",
      "    violent       0.67      0.88      0.76      5349\n",
      "\n",
      "avg / total       0.62      0.63      0.57      9000\n",
      "\n",
      "             precision    recall  f1-score   support\n",
      "\n",
      "  non-crime       0.66      0.07      0.13      1877\n",
      "non-violent       0.47      0.47      0.47      1774\n",
      "    violent       0.67      0.88      0.76      5349\n",
      "\n",
      "avg / total       0.63      0.63      0.57      9000\n",
      "\n"
     ]
    }
   ],
   "source": [
    "print(classification_report(y_test, Y_1_pred))\n",
    "print(classification_report(y_test, Y_2_pred))\n",
    "print(classification_report(y_test, Y_3_pred))"
   ]
  },
  {
   "cell_type": "markdown",
   "metadata": {},
   "source": [
    "**Describe the metrics in the classification report.**"
   ]
  },
  {
   "cell_type": "code",
   "execution_count": 37,
   "metadata": {},
   "outputs": [],
   "source": [
    "# Precision: True positives divided by total predicted positives.\n",
    "# Recall: True positives divided by total actual positives.\n",
    "# F1 Score: 2 * (precision * recall) / (precision + recall) ).\n",
    "# Support: Number of true values in said class."
   ]
  },
  {
   "cell_type": "code",
   "execution_count": 38,
   "metadata": {},
   "outputs": [],
   "source": [
    "# We can observe subtle differences in the confusion matrix, \n",
    "# but overall our classification reports are identical.  \n",
    "\n",
    "# This leads us to believe that there variables that are highly\n",
    "# predictive of specific classes."
   ]
  }
 ],
 "metadata": {
  "anaconda-cloud": {},
  "kernelspec": {
   "display_name": "Python 3",
   "language": "python",
   "name": "python3"
  },
  "language_info": {
   "codemirror_mode": {
    "name": "ipython",
    "version": 3
   },
   "file_extension": ".py",
   "mimetype": "text/x-python",
   "name": "python",
   "nbconvert_exporter": "python",
   "pygments_lexer": "ipython3",
   "version": "3.6.6"
  }
 },
 "nbformat": 4,
 "nbformat_minor": 1
}
