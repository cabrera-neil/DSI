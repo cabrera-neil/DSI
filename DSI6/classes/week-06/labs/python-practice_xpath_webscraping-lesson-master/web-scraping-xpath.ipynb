{
 "cells": [
  {
   "cell_type": "markdown",
   "metadata": {},
   "source": [
    "<img src=\"http://imgur.com/1ZcRyrc.png\" style=\"float: left; margin: 20px; height: 55px\">\n",
    "\n",
    "# Practicing Web Scraping With XPath\n",
    "\n",
    "_Authors: Dave Yerrington (SF)_\n",
    "\n",
    "---\n",
    "\n",
    "### Learning Objectives\n",
    "*After this lesson, you will be able to:*\n",
    "- Build a basic scraper\n",
    "- Understand HTML and XPath basics\n",
    "- Scrape a website for various data and putting your results into a DataFrame"
   ]
  },
  {
   "cell_type": "markdown",
   "metadata": {},
   "source": [
    "### Lesson Guide\n",
    "- [Review of HTML and Web Scraping](#review1)\n",
    "- [Review of XPath](#review2)\n",
    "- [Basic XPath Expressions](#basic-xpath)\n",
    "    - [Absolute References](#absolute)\n",
    "    - [Relative References](#relative-references)\n",
    "    - [Selecting Attributes](#attributes)\n",
    "- [Guided Practice: Where's Waldo? - XPath Edition](#practice1)\n",
    "- [1 vs. N Selections](#1vsn)\n",
    "    - [Selecting the First Element in a Series of Elements](#first-elem)\n",
    "    - [Selecting the Last Element in a Series of Elements](#last-elem)\n",
    "    - [Selecting all Elements Matching a Selection](#all-elem-match)\n",
    "    - [Selecting Elements Matching an Attribute](#elem-match-attr)\n",
    "- [Guided Practice: Selecting Elements](#practice2)\n",
    "- [A Quick Note: The Requests Module](#requests)\n",
    "- [Guided Practice: Scrape DataTau Headlines](#practice3)\n",
    "- [Independent Practice](#independent)"
   ]
  },
  {
   "cell_type": "markdown",
   "metadata": {},
   "source": [
    "<a id='review1'></a>\n",
    "## Review of HTML and Web Scraping\n",
    "\n",
    "---\n",
    "\n",
    "Web scraping is a technique of extracting information from websites. It's the downloading and transformation of unstructured web data into structured data that can be stored and analyzed.\n",
    "\n",
    "There are a variety of ways to \"scrape\" what we want from the web:\n",
    "- Using third-party services (import.io).\n",
    "- By writing our own Python apps that pull HTML documents and parse them.\n",
    "  - Mechanize\n",
    "  - Scrapy\n",
    "  - Requests\n",
    "  - Libxml/XPath\n",
    "  - Regular expressions\n",
    "  - Beautiful Soup"
   ]
  },
  {
   "cell_type": "markdown",
   "metadata": {},
   "source": [
    "> **Check:** What do you perceive to be the hardest aspect of scraping?\n",
    "\n",
    "_E.G.: If you were asked to scrape Craigslist property listings and put them in a DataFrame, what would hold you up?_"
   ]
  },
  {
   "cell_type": "markdown",
   "metadata": {},
   "source": [
    "### Review: HTML\n",
    "\n",
    "In the HTML document object model (DOM), everything is a node:\n",
    " * The document itself is a document node\n",
    " * All HTML elements are element nodes\n",
    " * All HTML attributes are attribute nodes\n",
    " * The text inside HTML elements are text nodes\n",
    " * The comments are comment nodes"
   ]
  },
  {
   "cell_type": "markdown",
   "metadata": {},
   "source": [
    "### Review: Elements\n",
    "Elements begin and end with **opening and closing tags** that are defined by namespaced, encapsulated strings. \n",
    "\n",
    "```html\n",
    "<title>I am a title.</title>\n",
    "<p>I am a paragraph.</p>\n",
    "<strong>I am bold.</strong>\n",
    "```\n",
    "\n",
    "_Note: The tags **title, p,** and **strong** are represented below._"
   ]
  },
  {
   "cell_type": "markdown",
   "metadata": {},
   "source": [
    "### Review: Element Parent/Child Relationships\n",
    "\n",
    "<img src=\"http://www.htmlgoodies.com/img/2007/06/flowChart2.gif\" width=\"250\">\n",
    "\n",
    "**Elements begin and end in the same namespace, like so:** `<p></p>`\n",
    "\n",
    "**Elements can have parents and children.** It's important to remember that an element can be both a parent and a child, and whether to refer to the element as a parent or a child depends on the specific element you are referencing.\n",
    "\n",
    "_Your parents are **parents** to you but **children** of your grandparents. The same logic applies with HTML elements._\n",
    "\n",
    "```html\n",
    "<body id = 'parent'>\n",
    "    <div id = 'child_1'>I am the child of 'parent.'\n",
    "        <div id = 'child_2'>I am the child of 'child_1.'\n",
    "            <div id = 'child_3'>I am the child of 'child_2.'\n",
    "                <div id = 'child_4'>I am the child of 'child_4.'</div>\n",
    "            </div>\n",
    "        </div>\n",
    "    </div>\n",
    "</body>\n",
    "```\n",
    "\n",
    "**or**\n",
    "\n",
    "```html\n",
    "<body id = 'parent'>\n",
    "    <div id = 'child_1'>I am the parent of 'child_2.'\n",
    "        <div id = 'child_2'>I am the parent of 'child_3.'\n",
    "            <div id = 'child_3'> I am the parent of 'child_4.'\n",
    "                <div id = 'child_4'>I am not a parent. </div>\n",
    "            </div>\n",
    "        </div>\n",
    "    </div>\n",
    "</body>\n",
    "```"
   ]
  },
  {
   "cell_type": "markdown",
   "metadata": {},
   "source": [
    "### Review: Element Attributes\n",
    "\n",
    "Elements can also have attributes. Attributes are defined inside **element tags** and can contain data that may be useful to scrape.\n",
    "\n",
    "```html\n",
    "<a href=\"http://lmgtfy.com/?q=html+element+attributes\" title=\"A title\" id=\"web-link\" name=\"hal\">A Simple Link</a>\n",
    "```\n",
    "\n",
    "The **element attributes** of this `<a>` tag element are:\n",
    "- `id`\n",
    "- `href`\n",
    "- `title`\n",
    "- `name`\n",
    "\n",
    "This `<a>` tag example will render in your browser like this:\n",
    "> <a href=\"https://www.youtube.com/watch?v=dQw4w9WgXcQ\">A Simple Link</a>\n"
   ]
  },
  {
   "cell_type": "markdown",
   "metadata": {},
   "source": [
    "**Check:** Can you identify an attribute, an element, a text item, and a child element in the code below?\n",
    "\n",
    "```HTML\n",
    "<html>\n",
    "   <title id=\"main-title\">All this scraping is making me itch!</title>\n",
    "   <body>\n",
    "       <h1>Welcome to my Homepage</h1>\n",
    "       <p id=\"welcome-paragraph\" class=\"strong-paragraph\">\n",
    "           <span>Hello friends, let me tell you about this cool hair product.</span>\n",
    "           <ul>\n",
    "              <li>It's cool.</li>\n",
    "              <li>It's fresh.</li>\n",
    "              <li>It can tell the future.</li>\n",
    "              <li>Always be closing.</li>\n",
    "           </ul>\n",
    "       </p>\n",
    "   </body>\n",
    "```\n",
    "\n",
    "**Bonus:** What's missing?"
   ]
  },
  {
   "cell_type": "markdown",
   "metadata": {},
   "source": [
    "<a id='review2'></a>\n",
    "## Review of XPath\n",
    "\n",
    "---\n",
    "\n",
    "XPath uses path expressions to select nodes or node sets in an HTML/XML document. These path expressions look similar to the expressions you see when you work with a traditional computer file system."
   ]
  },
  {
   "cell_type": "markdown",
   "metadata": {},
   "source": [
    "### XPath Features\n",
    "\n",
    "XPath includes more than 100 built-in functions to help us select and manipulate HTML (or XML) documents. XPath has functions for:\n",
    "\n",
    "- String values\n",
    "- Numeric values\n",
    "- Date and time comparison\n",
    "- Sequence manipulation\n",
    "- Boolean values\n",
    "- And more"
   ]
  },
  {
   "cell_type": "markdown",
   "metadata": {},
   "source": [
    "<a id='basic-xpath'></a>\n",
    "## Basic XPath Expressions\n",
    "\n",
    "---\n",
    "\n",
    "XPath comes with a wide array of features, but the basics of selecting data are the most common problems that XPath can help you solve.\n",
    "\n",
    "Most often, you'll use **XPath** for selecting data from HTML documents. There are two ways you can **select elements** within HTML using **XPath**:\n",
    "\n",
    "- Absolute references\n",
    "- Relative references"
   ]
  },
  {
   "cell_type": "markdown",
   "metadata": {},
   "source": [
    "<a id='absolute'></a>\n",
    "### Absolute References\n",
    "\n",
    "> _For our XPath demonstration, we'll use Scrapy, which is using [Libxml](http://xmlsoft.org) under the hood. Libxml provides the basic functionality for XPath expressions._"
   ]
  },
  {
   "cell_type": "code",
   "execution_count": 1,
   "metadata": {},
   "outputs": [
    {
     "data": {
      "text/plain": [
       "['good']"
      ]
     },
     "execution_count": 1,
     "metadata": {},
     "output_type": "execute_result"
    }
   ],
   "source": [
    "# Pip install Scrapy.\n",
    "# Pip install --upgrade zope2.\n",
    "from scrapy.selector import Selector\n",
    "from scrapy.http import HtmlResponse\n",
    "\n",
    "HTML = \"\"\"\n",
    "<html>\n",
    "    <body>\n",
    "        <span id=\"only-span\">good</span>\n",
    "    </body>\n",
    "</html>\n",
    "\"\"\"\n",
    "# The same thing, but an absolute reference:\n",
    "Selector(text=HTML).xpath('/html/body/span/text()').extract()\n"
   ]
  },
  {
   "cell_type": "markdown",
   "metadata": {},
   "source": [
    "<a id='relative-references'></a>\n",
    "### Relative References\n",
    "\n",
    "Relative references in XPath match the \"ends\" of structures. As there is only a single `span` element, `//span/text()` matches **one element**."
   ]
  },
  {
   "cell_type": "code",
   "execution_count": 2,
   "metadata": {},
   "outputs": [
    {
     "data": {
      "text/plain": [
       "['good']"
      ]
     },
     "execution_count": 2,
     "metadata": {},
     "output_type": "execute_result"
    }
   ],
   "source": [
    "Selector(text=HTML).xpath('//span/text()').extract()"
   ]
  },
  {
   "cell_type": "markdown",
   "metadata": {},
   "source": [
    "<a id='attributes'></a>\n",
    "### Selecting Attributes\n",
    "\n",
    "Attributes are **within a tag**, such as `id=\"only-span\"` within our `span` attribute. We can get the attribute by using the `@` symbol **after** the **element reference**.\n"
   ]
  },
  {
   "cell_type": "code",
   "execution_count": 3,
   "metadata": {},
   "outputs": [
    {
     "data": {
      "text/plain": [
       "['only-span']"
      ]
     },
     "execution_count": 3,
     "metadata": {},
     "output_type": "execute_result"
    }
   ],
   "source": [
    "Selector(text=HTML).xpath('//span/@id').extract()"
   ]
  },
  {
   "cell_type": "markdown",
   "metadata": {},
   "source": [
    "<a id='practice1'></a>\n",
    "## Guided Practice: Where's Waldo? — XPath Edition\n",
    "\n",
    "---\n",
    "\n",
    "**In this example, we'll find Waldo together. Find Waldo as:**\n",
    "\n",
    "- An element\n",
    "- An attribute\n",
    "- A text element\n",
    "\n",
    "The practice HTML string is provided below."
   ]
  },
  {
   "cell_type": "code",
   "execution_count": 4,
   "metadata": {},
   "outputs": [],
   "source": [
    "HTML = \"\"\"\n",
    "<html>\n",
    "    <body>\n",
    "        \n",
    "        <ul id=\"waldo\">\n",
    "            <li class=\"waldo\">\n",
    "                <span> yo I'm not here</span>\n",
    "            </li>\n",
    "            <li class=\"waldo\">Height:  ???</li>\n",
    "            <li class=\"waldo\">Weight:  ???</li>\n",
    "            <li class=\"waldo\">Last Location:  ???</li>\n",
    "            <li class=\"nerds\">\n",
    "                <div class=\"alpha\">Bill Gates</div>\n",
    "                <div class=\"alpha\">Zuckerberg</div>\n",
    "                <div class=\"beta\">Theil</div>\n",
    "                <div class=\"animal\">Parker</div>\n",
    "            </li>\n",
    "        </ul>\n",
    "        \n",
    "        <ul id=\"tim\">\n",
    "            <li class=\"tdawg\">\n",
    "                <span>yo im here</span>\n",
    "            </li>\n",
    "        </ul>\n",
    "        <li>stuff</li>\n",
    "        <li>stuff2</li>\n",
    "        \n",
    "        <div id=\"cooldiv\">\n",
    "            <span class=\"dsi-rocks\">\n",
    "               YO!\n",
    "            </span>\n",
    "        </div>\n",
    "        \n",
    "        \n",
    "        <waldo>Waldo</waldo>\n",
    "    </body>\n",
    "</html>\n",
    "\"\"\""
   ]
  },
  {
   "cell_type": "code",
   "execution_count": null,
   "metadata": {},
   "outputs": [],
   "source": [
    "# A:"
   ]
  },
  {
   "cell_type": "markdown",
   "metadata": {},
   "source": [
    "<a id='1vsn'></a>\n",
    "## 1 vs N Selections\n",
    "\n",
    "---\n",
    "\n",
    "When selecting elements via relative reference, it's possible that you'll select multiple items. It's still possible to select single items if you're specific enough.\n",
    "\n",
    "**Singular Reference**\n",
    "- **Index** starts at **1**\n",
    "- Selections by offset\n",
    "- Selections by \"first\" or \"last\"\n",
    "- Selections by **unique attribute value**\n"
   ]
  },
  {
   "cell_type": "code",
   "execution_count": null,
   "metadata": {},
   "outputs": [],
   "source": [
    "HTML = \"\"\"\n",
    "<html>\n",
    "    <body>\n",
    "    \n",
    "        <!-- Search Results -->\n",
    "        <div class=\"search-result\">\n",
    "           <a href=\"https://www.youtube.com/watch?v=751hUX_q0Do\" title=\"Rappin with Gas\">Rapping with gas</a>\n",
    "           <span class=\"link-details\">This is a great video about gas.</span>\n",
    "        </div>\n",
    "        <div class=\"search-result\">\n",
    "           <a href=\"https://www.youtube.com/watch?v=97byWqi-zsI\" title=\"Casio Rapmap\">The Rapmaster</a>\n",
    "           <span class=\"link-details\">My first synth ever.</span>\n",
    "        </div>\n",
    "        <div class=\"search-result\">\n",
    "           <a href=\"https://www.youtube.com/watch?v=TSwqnR327fk\" title=\"Cinco Products\">Cinco Midi Organizer</a>\n",
    "           <span class=\"link-details\">Midi files at the speed of light.</span>\n",
    "        </div>\n",
    "        <div class=\"search-result\">\n",
    "           <a href=\"https://www.youtube.com/watch?v=8TCxE0bWQeQ\" title=\"Baddest Gates\">BBG Baddest Moments</a>\n",
    "           <span class=\"link-details\">It's tough to be a gangster.</span>\n",
    "        </div>\n",
    "        \n",
    "        <!-- Page stats -->\n",
    "        <div class=\"page-stats-container\">\n",
    "            <li class=\"item\" id=\"pageviews\">1,333,443</li>\n",
    "            <li class=\"item\" id=\"somethingelse\">bla</li>\n",
    "            <li class=\"item\" id=\"last-viewed\">01-22-2016</li>\n",
    "            <li class=\"item\" id=\"views-per-hour\">1,532</li>\n",
    "            <li class=\"item\" id=\"kiefer-views-per-hour\">5,233.42</li>\n",
    "        </div>\n",
    "        \n",
    "    </body>\n",
    "</html>\n",
    "\"\"\"\n",
    "\n",
    "span = Selector(text=HTML).xpath('/html/body/div/li[@id=\"kiefer-views-per-hour\"]/text()').extract()\n",
    "span"
   ]
  },
  {
   "cell_type": "markdown",
   "metadata": {},
   "source": [
    "<a id='first-elem'></a>\n",
    "### Selecting the First Element in a Series of Elements"
   ]
  },
  {
   "cell_type": "code",
   "execution_count": null,
   "metadata": {},
   "outputs": [],
   "source": [
    "# A:"
   ]
  },
  {
   "cell_type": "markdown",
   "metadata": {},
   "source": [
    "<a id='last-elem'></a>\n",
    "### Selecting the Last Element in a Series of Elements"
   ]
  },
  {
   "cell_type": "code",
   "execution_count": null,
   "metadata": {},
   "outputs": [],
   "source": [
    "# A:"
   ]
  },
  {
   "cell_type": "markdown",
   "metadata": {},
   "source": [
    "<a id='all-elem-match'></a>\n",
    "### Selecting All Elements Matching a Selection"
   ]
  },
  {
   "cell_type": "code",
   "execution_count": null,
   "metadata": {
    "scrolled": true
   },
   "outputs": [],
   "source": [
    "# A:"
   ]
  },
  {
   "cell_type": "markdown",
   "metadata": {},
   "source": [
    "<a id='elem-match-attr'></a>\n",
    "### Selecting Elements Matching An _Attribute_\n",
    "\n",
    "This will be one of the most common ways you'll select items. HTML DOM elements will be more differentiated based on their class and ID variables. Mainly, these types of attributes are used by web developers to refer to specific elements or a broad set of elements to apply visual characteristics to using CSS.\n",
    "\n",
    "```HTML \n",
    "//element[@attribute=\"value\"]\n",
    "```\n",
    "\n",
    "**Generally:**\n",
    "\n",
    "- \"Class\" attributes within elements usually refer to multiple items\n",
    "- \"ID\" attributes are supposed to be unique but aren't always\n",
    "\n",
    "_CSS stands for cascading style sheets. These are used to abstract the definition of visual elements on a micro and macro scale for the web. They are also our best friend as data miners. They give us strong hints and cues as to how a web document is structured._"
   ]
  },
  {
   "cell_type": "markdown",
   "metadata": {},
   "source": [
    "<a id='practice2'></a>\n",
    "## Guided Practice: Selecting Elements\n",
    "\n",
    "---\n",
    "\n",
    "1) How can we get a series of only text items for the page statistics section of our page?<br>\n",
    "2) We want to know only how many times Kiefer views the YouTube videos page per hour."
   ]
  },
  {
   "cell_type": "code",
   "execution_count": null,
   "metadata": {},
   "outputs": [],
   "source": [
    "# A:"
   ]
  },
  {
   "cell_type": "code",
   "execution_count": null,
   "metadata": {},
   "outputs": [],
   "source": [
    "# A:"
   ]
  },
  {
   "cell_type": "markdown",
   "metadata": {},
   "source": [
    "<a id='requests'></a>\n",
    "## A Quick Note on the Requests Module\n",
    "\n",
    "---\n",
    "\n",
    "The requests module is the gateway to interacting with the web using Python. We can:\n",
    "\n",
    " - Fetch web documents as strings\n",
    " - Decode JSON\n",
    " - Complete basic data munging with web documents\n",
    " - Download static files that aren't text, including:\n",
    "  - Images\n",
    "  - Videos\n",
    "  - Binary data\n",
    "\n",
    "\n",
    "Take some time and read up on requests:\n",
    "\n",
    "http://docs.python-requests.org/en/master/user/quickstart/"
   ]
  },
  {
   "cell_type": "markdown",
   "metadata": {},
   "source": [
    "<a id='practice3'></a>\n",
    "## Guided Practice: Scrape DataTau Headlines\n",
    "\n",
    "DataTau is a great site for data science news. Let's take its headlines using Python **`requests`** and practice selecting various elements.\n",
    "\n",
    "Using the <a href=\"https://chrome.google.com/webstore/detail/xpath-helper/hgimnogjllphhhkhlmebbmlgjoejdpjl?hl=en\">XPath Helper Chrome plugin</a> _(cmd-shift-x)_ and the Chrome Inspect feature, let's explore the structure of the page.\n",
    "\n",
    "_Here's a <a href=\"https://www.youtube.com/watch?v=i2Li1vnv09U\">concise video</a> that demonstrates the basic Inspect feature in Chrome._"
   ]
  },
  {
   "cell_type": "code",
   "execution_count": null,
   "metadata": {},
   "outputs": [],
   "source": [
    "import requests\n",
    "\n",
    "# A:"
   ]
  },
  {
   "cell_type": "markdown",
   "metadata": {},
   "source": [
    "### Selecting Only the Headlines\n",
    "\n",
    "We'll use the XPath Helper tool to inspect the markup that comprises the **title** to find a pattern. Because there is more than one **title**, we expect to find a series of elements representing the **title** data we're interested in.\n",
    "\n",
    "In this example, we are referencing the **first center**, **third table row (`tr[3]`)** within the second **td having a class of \"title\" (`td[@class=\"title\"][2]`)** and the anchor tag within a **(`a/text()`)**.\n"
   ]
  },
  {
   "cell_type": "code",
   "execution_count": null,
   "metadata": {},
   "outputs": [],
   "source": [
    "import pandas as pd\n",
    "\n",
    "# A:"
   ]
  },
  {
   "cell_type": "markdown",
   "metadata": {},
   "source": [
    "### How Can We Get the URLs From the Titles?"
   ]
  },
  {
   "cell_type": "code",
   "execution_count": null,
   "metadata": {},
   "outputs": [],
   "source": [
    "# A:"
   ]
  },
  {
   "cell_type": "markdown",
   "metadata": {},
   "source": [
    "### How Can We Get the Site Domain After the Title Within the Parentheses (i.e., stitchfix.com)?"
   ]
  },
  {
   "cell_type": "code",
   "execution_count": null,
   "metadata": {},
   "outputs": [],
   "source": [
    "# A:"
   ]
  },
  {
   "cell_type": "markdown",
   "metadata": {},
   "source": [
    "### How About the Points?"
   ]
  },
  {
   "cell_type": "code",
   "execution_count": null,
   "metadata": {},
   "outputs": [],
   "source": [
    "# A:"
   ]
  },
  {
   "cell_type": "markdown",
   "metadata": {},
   "source": [
    "### How About the \"More\" Link?\n",
    "\n",
    "> *Hint: You can use `element[text()='exact text']` to find text elements matching specific text.*"
   ]
  },
  {
   "cell_type": "code",
   "execution_count": null,
   "metadata": {},
   "outputs": [],
   "source": [
    "# A:"
   ]
  },
  {
   "cell_type": "markdown",
   "metadata": {},
   "source": [
    "<a id='independent'></a>\n",
    "## Independent Practice\n",
    "\n",
    "---\n",
    "\n",
    "**For the next 30 minutes, try to grab the following from DataTau:**\n",
    "\n",
    "- Story titles\n",
    "- Story URL (href)\n",
    "- Domain\n",
    "- Points\n",
    "\n",
    "**Stretch goals:**\n",
    "- Author\n",
    "- Comment count\n",
    "\n",
    "**Put your results into a DataFrame.**\n",
    "\n",
    "- Perform a basic analysis of domains and point distributions\n",
    "\n",
    "**Bonus**\n",
    "\n",
    "Automatically find the next \"more\" link and mine the next page(s) until none exist. Logically, you can parse each page with this pseudocode:\n",
    "\n",
    "- Does the next link exist (a tag with `text == \"More\"`)?\n",
    "- Fetch the URL, prepended with domain (`datatau.com/(extracted link here)`)\n",
    "- Parse the page with `Selector(text=HTML).xpath('').extract()` to find the elements\n",
    "- Add to DataFrame\n",
    "\n",
    "> _Note: You might want to set a limit — something like 2–3 total requests per attempt — to avoid unnecessary transfer._\n"
   ]
  },
  {
   "cell_type": "code",
   "execution_count": null,
   "metadata": {},
   "outputs": [],
   "source": [
    "# A:"
   ]
  }
 ],
 "metadata": {
  "anaconda-cloud": {},
  "kernelspec": {
   "display_name": "Python 3",
   "language": "python",
   "name": "python3"
  },
  "language_info": {
   "codemirror_mode": {
    "name": "ipython",
    "version": 3
   },
   "file_extension": ".py",
   "mimetype": "text/x-python",
   "name": "python",
   "nbconvert_exporter": "python",
   "pygments_lexer": "ipython3",
   "version": "3.6.6"
  }
 },
 "nbformat": 4,
 "nbformat_minor": 1
}
