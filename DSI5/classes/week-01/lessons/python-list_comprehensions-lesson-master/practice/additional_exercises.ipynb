{
 "cells": [
  {
   "cell_type": "markdown",
   "metadata": {},
   "source": [
    "### Exercise 1\n",
    "\n",
    "Given a list of strings create a dictionary where:  \n",
    "  \n",
    "key: string  \n",
    "value: [all other strings with more letters than the key and the same first letter of the key])  \n",
    "  \n",
    "E.G.:  \n",
    "strings = [\"aaa\", \"abc\", \"ccc\",\"cdcd\",\"cdcdcd\"]  \n",
    "  \n",
    "Output:  \n",
    "{  \n",
    "'aaa':[],  \n",
    "'abc':[],  \n",
    "'ccc':['cdcd','cdcdcd'],  \n",
    "'cdcd':['cdcdcd'],  \n",
    "'cdcdcd':[]  \n",
    "}\n"
   ]
  },
  {
   "cell_type": "code",
   "execution_count": null,
   "metadata": {},
   "outputs": [],
   "source": []
  },
  {
   "cell_type": "markdown",
   "metadata": {},
   "source": [
    "### Exercise 2\n",
    "\n",
    "Given two lists:\n",
    "\n",
    "keys = [1,2,3]  \n",
    "reversed_values = ['c','b','a']  \n",
    "  \n",
    "create the followin dictionary, with dictionary comprehension:  \n",
    "\n",
    "{1:'a', 2:'b', 3:'c'}  \n",
    "  \n",
    "You can't reverse the reversed_values list, you have to leave it like that!\n",
    "\n",
    "Hint: you can use enumerate."
   ]
  },
  {
   "cell_type": "code",
   "execution_count": null,
   "metadata": {},
   "outputs": [],
   "source": []
  },
  {
   "cell_type": "markdown",
   "metadata": {},
   "source": [
    "### Exercise 3\n",
    "\n",
    "Given a string like \"given a string like this\" and using dictionary comprehension build a dictionary where the keys are the words in the string and the values are the lenghts of the words.\n",
    "\n",
    "{\"given\":5,\n",
    "\"a\":1,\n",
    "\"string\":6,\n",
    "\"like\":4,\n",
    "\"this\":4}\n",
    "\n"
   ]
  },
  {
   "cell_type": "code",
   "execution_count": null,
   "metadata": {},
   "outputs": [],
   "source": []
  },
  {
   "cell_type": "markdown",
   "metadata": {},
   "source": [
    "### Exercise 4\n",
    "\n",
    "Using a nested list comprehension (e.g. [[a for a in range(n)] for n in [1,2,3]]) build a list of lists where, for each number n between 0 and 100, you build a list of the numbers smaller than n, larger than 0 and that are divisible by 3. "
   ]
  },
  {
   "cell_type": "code",
   "execution_count": 4,
   "metadata": {},
   "outputs": [],
   "source": [
    "# E.g.:\n",
    "\n",
    "# [[], #this is for 0\n",
    "#  [], #this is for 1\n",
    "#  [], #this is for 2\n",
    "#  [], #this is for 3\n",
    "#  [3], #this is for 4\n",
    "#  [3], #this is for 5\n",
    "#  [3], #this is for 6\n",
    "#  [3, 6],  #this is for 7\n",
    "#  ...\n",
    "#  ]"
   ]
  },
  {
   "cell_type": "code",
   "execution_count": null,
   "metadata": {},
   "outputs": [],
   "source": []
  },
  {
   "cell_type": "markdown",
   "metadata": {},
   "source": [
    "### Exercise 5\n",
    "\n",
    "Use a nested list comprehension to find all of the numbers from 1-1000 that are divisible by numbers from 2 to 9, included.  \n",
    "The output should be:  \n",
    "[[all numbers in 1-1000 divisible by 2],  \n",
    "[all numbers in 1-1000 divisible by 3],  \n",
    "[all numbers in 1-1000 divisible by 4],  \n",
    "[etc.]]"
   ]
  },
  {
   "cell_type": "code",
   "execution_count": null,
   "metadata": {},
   "outputs": [],
   "source": []
  }
 ],
 "metadata": {
  "kernelspec": {
   "display_name": "Python 3",
   "language": "python",
   "name": "python3"
  },
  "language_info": {
   "codemirror_mode": {
    "name": "ipython",
    "version": 3
   },
   "file_extension": ".py",
   "mimetype": "text/x-python",
   "name": "python",
   "nbconvert_exporter": "python",
   "pygments_lexer": "ipython3",
   "version": "3.6.6"
  }
 },
 "nbformat": 4,
 "nbformat_minor": 2
}
