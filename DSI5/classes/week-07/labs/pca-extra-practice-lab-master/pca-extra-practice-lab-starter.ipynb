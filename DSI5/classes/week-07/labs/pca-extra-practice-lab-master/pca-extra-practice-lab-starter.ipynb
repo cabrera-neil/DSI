{
 "cells": [
  {
   "cell_type": "markdown",
   "metadata": {},
   "source": [
    "<img src=\"http://imgur.com/1ZcRyrc.png\" style=\"float: left; margin: 20px; height: 55px\">\n",
    "\n",
    "# PCA: Extra Practice\n",
    "\n",
    "_Author: Joseph Nelson (DC), Matt Brems (DC) _\n",
    "\n",
    "---"
   ]
  },
  {
   "cell_type": "markdown",
   "metadata": {},
   "source": [
    "In this lab, we will practice performing a principal component analysis (PCA) process:\n",
    "\n",
    "- Loading the data.\n",
    "- Centering the data (standardizing and centering at zero).\n",
    "- Computing the covariance matrix of the standardized original data.\n",
    "- Computing the eigenvalues/eigenvectors.\n",
    "- Deciding how much explained variance you want in your final model and selecting the number of principal components that are necessary to explain that amount of variance.  \n",
    "- Keeping the needed eigenvalues to explain the variance.\n",
    "- Going back and multiplying the original data by the eigenvalues of the selected principal components.\n",
    "\n",
    "PCA works best for finding the importance of relationships between various features.  \n",
    "\n",
    "A data set of entirely uncorrelated features will not benefit much from a PCA."
   ]
  },
  {
   "cell_type": "markdown",
   "metadata": {},
   "source": [
    "# Congressional Voting Data"
   ]
  },
  {
   "cell_type": "markdown",
   "metadata": {},
   "source": [
    "You're working for a political watchdog who wants to track and analyze the voting behavior of various politicians. Specifically, they want to understand how the political affiliation of House of Representatives members affects voting records. You're given a data set with affiliations and voting records for a variety of key bills.\n",
    "\n",
    "Your task is to perform a PCA to determine the principal components of the data set. Then, your data science team can perform a clustering analysis to learn how political affiliation relates to voting.\n",
    "\n",
    "[Congressional Voting Data Set](./datasets/votes.csv)\n",
    "\n",
    "Bill Index|Bill (Vote Options)\n",
    "----------|----\n",
    "V1.  |handicapped-infants: 2 (y,n)\n",
    "V2.  |water-project-cost-sharing: 2 (y,n)\n",
    "V3.  |adoption-of-the-budget-resolution: 2 (y,n)\n",
    "V4.  |physician-fee-freeze: 2 (y,n)\n",
    "V5.  |el-salvador-aid: 2 (y,n)\n",
    "V6.  |religious-groups-in-schools: 2 (y,n)\n",
    "V7.  |anti-satellite-test-ban: 2 (y,n)\n",
    "V8.  |aid-to-nicaraguan-contras: 2 (y,n)\n",
    "V9.  |mx-missile: 2 (y,n)\n",
    "V10. |immigration: 2 (y,n)\n",
    "V11. |synfuels-corporation-cutback: 2 (y,n)\n",
    "V12. |education-spending: 2 (y,n)\n",
    "V13. |superfund-right-to-sue: 2 (y,n)\n",
    "V14. |crime: 2 (y,n)\n",
    "V15. |duty-free-exports: 2 (y,n)\n",
    "V16. |export-administration-act-south-africa: 2 (y,n)"
   ]
  },
  {
   "cell_type": "markdown",
   "metadata": {},
   "source": [
    "### 1) Load packages."
   ]
  },
  {
   "cell_type": "code",
   "execution_count": 1,
   "metadata": {
    "collapsed": true
   },
   "outputs": [],
   "source": [
    "import pandas as pd\n",
    "import numpy as np\n",
    "import os\n",
    "from matplotlib import pyplot as plt\n",
    "import numpy as np\n",
    "import math\n",
    "from sklearn.preprocessing import StandardScaler\n",
    "from sklearn.decomposition import PCA \n",
    "\n",
    "votes_file = './datasets/votes.csv'"
   ]
  },
  {
   "cell_type": "markdown",
   "metadata": {},
   "source": [
    "### 2) Preprocess the data.\n",
    "\n",
    "After you've downloaded the data from the repository, load the set with Pandas and handle any necessary preprocessing.\n",
    "\n",
    "- Convert all columns to numeric values.\n",
    "- Decide how to deal with NaN values.\n",
    "- Standardize numeric values."
   ]
  },
  {
   "cell_type": "code",
   "execution_count": null,
   "metadata": {
    "collapsed": true
   },
   "outputs": [],
   "source": []
  },
  {
   "cell_type": "code",
   "execution_count": null,
   "metadata": {
    "collapsed": true
   },
   "outputs": [],
   "source": []
  },
  {
   "cell_type": "code",
   "execution_count": null,
   "metadata": {
    "collapsed": true
   },
   "outputs": [],
   "source": []
  },
  {
   "cell_type": "code",
   "execution_count": null,
   "metadata": {
    "collapsed": true
   },
   "outputs": [],
   "source": []
  },
  {
   "cell_type": "code",
   "execution_count": null,
   "metadata": {
    "collapsed": true
   },
   "outputs": [],
   "source": []
  },
  {
   "cell_type": "markdown",
   "metadata": {},
   "source": [
    "### 3) Compute the eigenpairs.\n",
    "\n",
    "- Compute the covariance matrix.\n",
    "- Compute the eigenvectors and eigenvalues using `np.linalg`.\n",
    "- Sort by descending eigenvalues to find the principal components."
   ]
  },
  {
   "cell_type": "code",
   "execution_count": null,
   "metadata": {
    "collapsed": true
   },
   "outputs": [],
   "source": []
  },
  {
   "cell_type": "code",
   "execution_count": null,
   "metadata": {
    "collapsed": true
   },
   "outputs": [],
   "source": []
  },
  {
   "cell_type": "code",
   "execution_count": null,
   "metadata": {
    "collapsed": true
   },
   "outputs": [],
   "source": []
  },
  {
   "cell_type": "code",
   "execution_count": null,
   "metadata": {
    "collapsed": true
   },
   "outputs": [],
   "source": []
  },
  {
   "cell_type": "markdown",
   "metadata": {},
   "source": [
    "### 4) Understand the principal components."
   ]
  },
  {
   "cell_type": "markdown",
   "metadata": {
    "collapsed": true
   },
   "source": [
    "#### 4.A) Calculate the explained variance. \n",
    "\n",
    "> Explained variance is the eigenvalue divided by the sum of all eigenvalues.\n",
    "  **These should sum to one!**"
   ]
  },
  {
   "cell_type": "code",
   "execution_count": null,
   "metadata": {
    "collapsed": true
   },
   "outputs": [],
   "source": []
  },
  {
   "cell_type": "markdown",
   "metadata": {},
   "source": [
    "#### 4.B) Calculate the explained variance and the cumulative explained variance (see `np.cumsum`)."
   ]
  },
  {
   "cell_type": "code",
   "execution_count": 43,
   "metadata": {
    "collapsed": true
   },
   "outputs": [],
   "source": []
  },
  {
   "cell_type": "markdown",
   "metadata": {},
   "source": [
    "#### 4.C) Suppose we require 90-percent explained variance. How many eigenvectors should we keep? \n",
    "\n",
    "- Hint: Use the cumulative sum."
   ]
  },
  {
   "cell_type": "code",
   "execution_count": null,
   "metadata": {
    "collapsed": true
   },
   "outputs": [],
   "source": []
  },
  {
   "cell_type": "markdown",
   "metadata": {},
   "source": [
    "### 5) Now, repeat the process with scikit-learn.\n",
    "http://scikit-learn.org/stable/modules/generated/sklearn.decomposition.PCA.html"
   ]
  },
  {
   "cell_type": "code",
   "execution_count": null,
   "metadata": {
    "collapsed": true
   },
   "outputs": [],
   "source": []
  }
 ],
 "metadata": {
  "anaconda-cloud": {},
  "kernelspec": {
   "display_name": "Python 3",
   "language": "python",
   "name": "python3"
  },
  "language_info": {
   "codemirror_mode": {
    "name": "ipython",
    "version": 3
   },
   "file_extension": ".py",
   "mimetype": "text/x-python",
   "name": "python",
   "nbconvert_exporter": "python",
   "pygments_lexer": "ipython3",
   "version": "3.6.6"
  }
 },
 "nbformat": 4,
 "nbformat_minor": 1
}
