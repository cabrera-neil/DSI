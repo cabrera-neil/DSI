{
 "cells": [
  {
   "cell_type": "markdown",
   "metadata": {},
   "source": [
    "<img src=\"http://imgur.com/1ZcRyrc.png\" style=\"float: left; margin: 20px; height: 55px\">\n",
    "\n",
    "# Fast Food Chains and Price Discrimination\n",
    "\n",
    "_Authors: Kiefer Katovich (SF), Mario Carrillo (SF)_\n",
    "\n",
    "---\n",
    "\n",
    "This group lab uses a 1994 data set of detailed prices on items sold at more than 400 Burger King, Wendy's, KFC, and [Roy Rogers](https://en.wikipedia.org/wiki/Roy_Rogers_Restaurants) restaurants in New Jersey and Pennsylvania.\n",
    "\n",
    "The data set is a restricted version of the data set used in this publication:\n",
    "\n",
    "> [K. Graddy (1997), \"Do Fast-Food Chains Price Discriminate on the Race and Income Characteristics of an Area?\" Journal of Business and Economic Statistics 15, 391-401](http://people.brandeis.edu/~kgraddy/published%20papers/GraddyK_jbes1997.pdf).\n",
    "\n",
    "**The goal of this exercise is to evaluate whether or not fast food restaurants are using discriminatory pricing.** This is a fairly open-ended prompt. It's up to you to determine how to quantify pricing discrimination using the following groups of variables:\n",
    "- The price of fast food items, which can be a metric of discriminatory practices.\n",
    "- The proportion of African Americans residents, low-income residents, and residents without a car.\n",
    "\n",
    "---\n",
    "\n",
    "### In Groups, You Should:\n",
    "\n",
    "1) **Load and examine the data.**\n",
    "\n",
    "2) **Perform any necessary data cleaning.**\n",
    "\n",
    "3) **Conduct an exploratory data analysis relevant to the goals of the project.** What variables are you interested in for your target(s) and predictors? What types of relationships do you see in the data that will inform your analysis?\n",
    "\n",
    "4) **Formulate and formally define your hypotheses.** Based on the prompt and your EDA, come up with a plan for testing each one.\n",
    "\n",
    "5) **Construct regression models to test each hypothesis.** What are your findings? Do they support the hypothesis? What are the limitations and assumptions of your approach? \n",
    "\n",
    "6) **[Bonus] Cross-validate the results of your regression.** If the results support your hypotheses, do they hold up during cross-validation or a train/test split?\n",
    "\n",
    "7) **Prepare a brief (10-minute) presentation on the findings.** Each group's presentation should include your questions, models, and findings.\n",
    "    - Be concise! Only include relevant information in your presentation.\n",
    "    - Visuals are nice, but don't overdo it.\n",
    "    - Don't just talk about your model's significance or metrics. Interpret the coefficients. What are the implications?\n",
    "    - What future hypotheses could you test going forward?\n",
    "\n",
    "\n",
    "> *Note*: If you are interested, the full data set is also available in the \"datasets\" folder under the name `discrim_full.csv`."
   ]
  },
  {
   "cell_type": "markdown",
   "metadata": {},
   "source": [
    "### Data Set Characteristics\n",
    "\n",
    "    :Number of Instances: 410\n",
    "    \n",
    "    :Attribute Information\n",
    "    \n",
    "    psoda         price of medium soda\n",
    "    pfries        price of small fries\n",
    "    pentree       price entree (burger or chicken)\n",
    "    wagest        starting wage\n",
    "    nmgrs         number of managers\n",
    "    nregs         number of registers\n",
    "    hrsopen       hours open\n",
    "    emp           number of employees\n",
    "    compown       =1 if company owned\n",
    "    chain         BK = 1, KFC = 2, Roy Rogers = 3, Wendy's = 4\n",
    "    density       population density, town\n",
    "    crmrte        crime rate, town\n",
    "    state         NJ = 1, PA = 2\n",
    "    prpblck       proportion black, zipcode\n",
    "    prppov        proportion in poverty, zipcode\n",
    "    prpncar       proportion no car, zipcode\n",
    "    hseval        median housing value, zipcode\n",
    "    nstores       number of stores, zipcode\n",
    "    income        median family income, zipcode\n",
    "    county        county label\n",
    "    NJ            =1 for New Jersey\n",
    "    BK            =1 if Burger King\n",
    "    KFC           =1 if Kentucky Fried Chicken\n",
    "    RR            =1 if Roy Rogers"
   ]
  },
  {
   "cell_type": "code",
   "execution_count": 2,
   "metadata": {},
   "outputs": [],
   "source": [
    "# Data modules\n",
    "import numpy as np\n",
    "import scipy.stats as stats\n",
    "import pandas as pd\n",
    "\n",
    "# Plotting modules\n",
    "import matplotlib.pyplot as plt\n",
    "import seaborn as sns\n",
    "sns.set_style('whitegrid')\n",
    "\n",
    "# Stats/regressions packages\n",
    "from sklearn import linear_model\n",
    "from sklearn.metrics import r2_score\n",
    "\n",
    "# Make sure your charts appear in the notebook\n",
    "%matplotlib inline\n",
    "%config InlineBackend.figure_format ='retina'"
   ]
  },
  {
   "cell_type": "code",
   "execution_count": 3,
   "metadata": {},
   "outputs": [],
   "source": [
    "food = pd.read_csv('./datasets/discrim.csv')"
   ]
  },
  {
   "cell_type": "code",
   "execution_count": null,
   "metadata": {
    "collapsed": true
   },
   "outputs": [],
   "source": []
  }
 ],
 "metadata": {
  "kernelspec": {
   "display_name": "Python 2",
   "language": "python",
   "name": "python2"
  },
  "language_info": {
   "codemirror_mode": {
    "name": "ipython",
    "version": 2
   },
   "file_extension": ".py",
   "mimetype": "text/x-python",
   "name": "python",
   "nbconvert_exporter": "python",
   "pygments_lexer": "ipython2",
   "version": "2.7.14"
  }
 },
 "nbformat": 4,
 "nbformat_minor": 2
}
