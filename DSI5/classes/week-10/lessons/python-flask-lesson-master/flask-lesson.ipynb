{
 "cells": [
  {
   "cell_type": "markdown",
   "metadata": {
    "slideshow": {
     "slide_type": "notes"
    }
   },
   "source": [
    "> **Jupyter slideshow:** This notebook can be displayed as slides. To view it as a slideshow in your browser type in the console:\n",
    "\n",
    "\n",
    "> `> jupyter nbconvert [this_notebook.ipynb] --to slides --post serve`\n",
    "\n",
    "\n",
    "> To toggle off the slideshow cell formatting, click the `CellToolbar` button, then `View --> Cell Toolbar --> None`"
   ]
  },
  {
   "cell_type": "markdown",
   "metadata": {
    "slideshow": {
     "slide_type": "slide"
    }
   },
   "source": [
    "<img src=\"http://imgur.com/1ZcRyrc.png\" style=\"float: left; margin: 20px; height: 55px\">\n",
    "\n",
    "\n",
    "# Flask\n",
    "\n",
    "_Author: Alex Combs (NYC) _\n",
    "\n",
    "---\n",
    "\n",
    "<a id=\"learning-objectives\"></a>\n",
    "### Learning Objectives\n",
    "\n",
    "- Understand what Flask is and what a web backend does.\n",
    "- Understand how values are passed between a website and the Flask backend.\n",
    "- Create a simple website locally that allows the user to interact with a model.\n",
    "- Practice adding new features to our website."
   ]
  },
  {
   "cell_type": "markdown",
   "metadata": {
    "slideshow": {
     "slide_type": "slide"
    }
   },
   "source": [
    "### Lesson Guide\n",
    "\n",
    "- [Learning Objectives](#learning-objectives)\n",
    "- [Introduction](#introduction)\n",
    "\n",
    "  - [Part 1 - Hello, world](#part----hello-world)\n",
    "  - [Part 2 - Arguments and styling](#part----arguments-and-styling)\n",
    "  - [Part 3 - Add in machine learning](#part----add-in-machine-learning)\n",
    "  - [Part 4 - Create and train a Model](#part----create-and-train-a-model)\n",
    "  - [Part 5 - Make a simple API](#part----make-a-simple-api)\n",
    "  - [Part 6 - Make a simple webform](#part----make-a-simple-webform)\n",
    "\n",
    "\n",
    "- [Independent Practice](#independent-practice)\n",
    "- [Examples](#examples)\n",
    "- [Additional Resources](#additional-resources)\n"
   ]
  },
  {
   "cell_type": "markdown",
   "metadata": {
    "slideshow": {
     "slide_type": "slide"
    }
   },
   "source": [
    "<a id=\"introduction\"></a>\n",
    "## Introduction\n",
    "---\n",
    "\n",
    "![flask logo](http://flask.pocoo.org/static/logo/flask.png)\n",
    "Flask is a fast, lightweight way to connect your Python scripts to a server. It's a simple and robust framework that can do small tasks (create a microblog, stand up a simple API) or complex ones (Pinterest's API, create a twitter clone).\n",
    "\n",
    "Flask is called a _microframework_ because it is minimalistic and does not impose an application structure on you. Flask allows you to \"plug in\" libraries of your choice to add additional functionality. \"Heavier\" frameworks such as Django typically come with their own libraries (e.g. for database access). This is often convenient, but it takes more time to learn and is not as flexible.\n",
    "\n",
    "Let's jump in with a simple example. Then, we'll expand it to show what it can do with your models. Flask comes preinstalled with Anaconda. However, if you don't have it you can install it:\n",
    "\n",
    "```bash\n",
    "$ conda install flask\n",
    "```"
   ]
  },
  {
   "cell_type": "markdown",
   "metadata": {
    "slideshow": {
     "slide_type": "slide"
    }
   },
   "source": [
    "Let's discuss how Flask is used to render a website:\n",
    "\n",
    "1. First, each URL is mapped to a function (called **routing**).\n",
    "\n",
    "2. When the user visits the URL, the associated function is called.\n",
    "\n",
    "3. The function returns a string of HTML, which is directly rendered by the browser.\n",
    "\n",
    "That's it! \n",
    "\n",
    "> Using this way of thinking, when visiting a URL you are actually making a function call to a remote computer.\n",
    "\n",
    "> The URL is the function signature (including parameters), and the function returns a value back to the browser -- in this case a string of HTML. In fact, this is why interfaces for retrieving data online are called \"Web APIs\" -- they are just function calls disguised as URLs!"
   ]
  },
  {
   "cell_type": "markdown",
   "metadata": {
    "slideshow": {
     "slide_type": "slide"
    }
   },
   "source": [
    "<a id=\"part----hello-world\"></a>\n",
    "### Part 1 - Hello, world\n",
    "\n",
    "Create a new file called `hello.py` . Type in this code line by line. No copy pasting!\n",
    "\n",
    "```Python\n",
    "import flask\n",
    "app = flask.Flask(__name__)\n",
    "\n",
    "@app.route(\"/\")\n",
    "def hello():\n",
    "    return \"Hello World!\"\n",
    "\n",
    "if __name__ == '__main__':\n",
    "    app.run()\n",
    "```\n",
    "\n",
    "Three things happen here:\n",
    "- initialize the app\n",
    "- use built-in decorators to define what happens on a page\n",
    "- launch the app\n",
    "\n",
    "Note that `app` must be defined prior to using the decorators! "
   ]
  },
  {
   "cell_type": "markdown",
   "metadata": {
    "slideshow": {
     "slide_type": "slide"
    }
   },
   "source": [
    "Now launch the file from your command line:\n",
    "\n",
    "```bash\n",
    "$ python hello.py\n",
    "* Running on http://127.0.0.1:8080/ (Press CTRL+C to quit)\n",
    "```\n",
    "Go to that URL to see your app running on your `localhost`.\n",
    "\n",
    "Typically, we develop apps locally using this development server. When working, we then upload the files to a web host such as EC2."
   ]
  },
  {
   "cell_type": "markdown",
   "metadata": {
    "slideshow": {
     "slide_type": "slide"
    }
   },
   "source": [
    "<a id=\"part----arguments-and-styling\"></a>\n",
    "### Part 2 - Arguments and styling\n",
    "\n",
    "Add the following route underneath the hello() function:\n",
    "\n",
    "```Python\n",
    "@app.route('/greet/<name>')\n",
    "def greet(name):\n",
    "    '''Say hello to your first parameter'''\n",
    "    return \"Hello, %s!\" %name\n",
    "```\n",
    "Save and relaunch the app. Now navigate to `http://127.0.0.1:8080/greet/Roger`. Your function should respond to that input!"
   ]
  },
  {
   "cell_type": "markdown",
   "metadata": {
    "slideshow": {
     "slide_type": "fragment"
    }
   },
   "source": [
    "Since the `return` statement sends text to an HTML page, you can style our original `hello()` function with HTML tags:\n",
    "\n",
    "```Python\n",
    "@app.route(\"/\")\n",
    "def hello():\n",
    "    return '''\n",
    "    <body>\n",
    "    <h2> Hello World! <h2>\n",
    "    </body>\n",
    "    '''\n",
    "```\n",
    "We can also call a function, but let's get into that a little later."
   ]
  },
  {
   "cell_type": "markdown",
   "metadata": {
    "slideshow": {
     "slide_type": "slide"
    }
   },
   "source": [
    "<a id=\"part----add-in-machine-learning\"></a>\n",
    "### Part 3 - Add in machine learning\n",
    "We can use Flask as a way to share and host our machine learning predictions.\n",
    "\n",
    "In the titanic_app folder, create a new file `titanic_app.py`. Import and initialize the flask app, and launch the server at the bottom. Leave room in the middle to add in your model and routes later on.\n",
    "\n",
    "```Python\n",
    "import flask\n",
    "app = flask.Flask(__name__)\n",
    "\n",
    "#-------- MODEL GOES HERE -----------#\n",
    "\n",
    "#-------- ROUTES GO HERE -----------#\n",
    "\n",
    "if __name__ == '__main__':\n",
    "    '''Connects to the server'''\n",
    "\n",
    "    HOST = '127.0.0.1'\n",
    "    PORT = 4000\n",
    "\n",
    "    app.run(HOST, PORT)\n",
    "```\n",
    "Note that this time we specifed the host and port we want the app to run on."
   ]
  },
  {
   "cell_type": "markdown",
   "metadata": {
    "slideshow": {
     "slide_type": "slide"
    }
   },
   "source": [
    "<a id=\"part----create-and-train-a-model\"></a>\n",
    "### Part 4 - Create and train a Model\n",
    "\n",
    "Load in the titanic dataset and create a model on it:\n",
    "\n",
    "```Python\n",
    "#-------- MODEL GOES HERE -----------#\n",
    "import numpy as np\n",
    "import pandas as pd\n",
    "from sklearn.ensemble import RandomForestClassifier\n",
    "\n",
    "df = pd.read_csv('datasets/titanic.csv')\n",
    "include = ['Pclass', 'Sex', 'Age', 'Fare', 'SibSp', 'Survived']\n",
    "\n",
    "# Create dummies and drop NaNs\n",
    "df['Sex'] = df['Sex'].apply(lambda x: 0 if x == 'male' else 1)\n",
    "df = df[include].dropna()\n",
    "\n",
    "X = df[['Pclass', 'Sex', 'Age', 'Fare', 'SibSp']]\n",
    "y = df['Survived']\n",
    "\n",
    "PREDICTOR = RandomForestClassifier(n_estimators=100).fit(X, y)\n",
    "```"
   ]
  },
  {
   "cell_type": "markdown",
   "metadata": {
    "slideshow": {
     "slide_type": "fragment"
    }
   },
   "source": [
    "You could also train and test your model in a Jupyter notebook and pickle the fitted model. This would result in a much faster load time for your app. In that case, your code would look something like this:\n",
    "\n",
    "```Python\n",
    "with open('picked_model.pkl', 'r') as picklefile:\n",
    "    PREDICTOR = pickle.load(picklefile)\n",
    "```"
   ]
  },
  {
   "cell_type": "markdown",
   "metadata": {
    "slideshow": {
     "slide_type": "slide"
    }
   },
   "source": [
    "<a id=\"part----make-a-simple-api\"></a>\n",
    "### Part 5 - Make a simple API\n",
    "\n",
    "Here's the fun part. Now that we have a `PREDICTOR`, we need to get some values to make our predictions.\n",
    "\n",
    "One way to do this is to get information from the **URL parameters**. These are the part of a URL that come after the `?` and are matched by key:value pairs. For example, if you navigate to:\n",
    "\n",
    "```\n",
    "http://localhost:4000/predict?pclass=1&sex=1&age=18&fare=500&sibsp=0\n",
    "```\n",
    "\n",
    "then Flask can retrieve that data for you. Let's write a route to do just that:\n",
    "\n",
    "```Python\n",
    "#-------- ROUTES GO HERE -----------#\n",
    "\n",
    "@app.route('/predict', methods=[\"GET\"])\n",
    "def predict():\n",
    "    pclass = flask.request.args['pclass']\n",
    "    sex = flask.request.args['sex']\n",
    "    age = flask.request.args['age']\n",
    "    fare = flask.request.args['fare']\n",
    "    sibsp = flask.request.args['sibsp']\n",
    "\n",
    "    item = [pclass, sex, age, fare, sibsp]\n",
    "    score = PREDICTOR.predict_proba(item)\n",
    "    results = {'survival chances': score[0,1], 'death chances': score[0,0]}\n",
    "    return flask.jsonify(results)\n",
    "```\n",
    "\n",
    "And... voila! Save the file. Launch your app. You now have a simple API for your model.  \n",
    "\n",
    "Play with the parameters in the URL. You should get the predicted probability of death and survival."
   ]
  },
  {
   "cell_type": "markdown",
   "metadata": {
    "slideshow": {
     "slide_type": "slide"
    }
   },
   "source": [
    "<a id=\"part----make-a-simple-webform\"></a>\n",
    "### Part 6 - Make a simple webform\n",
    "\n",
    "Well that was exciting. But it doesn't look very nice. Let's create a simple web form to read in the inputs.\n",
    "\n",
    "Create a file `page.html`:\n",
    "\n",
    "```html\n",
    "<!doctype html>\n",
    "<html>\n",
    "  <head>\n",
    "    <title>Titanic Survivor-O-Matic</title>\n",
    "  </head>\n",
    "  <body>\n",
    "\n",
    "    <form action=\"http://localhost:4000/result\" method=\"POST\">\n",
    "      <p>Class <input type=\"number\" name=\"pclass\" /></p>\n",
    "      <p>Sex <input type=\"number\" name=\"sex\" /></p>\n",
    "      <p>Age <input type=\"number\" name=\"age\" /></p>\n",
    "      <p>Fare <input type=\"number\" name=\"fare\" /></p>\n",
    "      <p># of siblings <input type=\"text\" name=\"sibsp\" /></p>\n",
    "\n",
    "      <p><input type=\"submit\" value=\"submit\" /></p>\n",
    "    </form>\n",
    "\n",
    "  </body>\n",
    "</html>\n",
    "```\n",
    "\n",
    "The two most common HTTP methods are `GET` and `POST`. When your browser visits a URL, it sends a `GET` request. However, when you submit a web form, typically a `POST` request is sent. For a `POST` request, a URL is still accessed. However, the parameters are sent inside the request body instead of as part of the URL (as we saw earlier with the `GET` parameters). Sending parameters in the body allows you to send more data than would fit inside the URL. However, it prevents a user from bookmarking the exact URL call and \"hides\" the submitted data from the user. (It only hides it from your average user -- the submitted data is actually easy to see using your browser's developer tools.)"
   ]
  },
  {
   "cell_type": "markdown",
   "metadata": {
    "slideshow": {
     "slide_type": "slide"
    }
   },
   "source": [
    "Luckily, Flask knows how to read `form` tags in an HTML file that have been `POST`'d to the server.\n",
    "\n",
    "Add two new decorators in below your first one. Write all this text out, don't copy paste:\n",
    "\n",
    "```Python\n",
    "#---------- CREATING AN API, METHOD 2 ----------------#\n",
    "\n",
    "# This method takes input via an HTML page\n",
    "@app.route('/page')\n",
    "def page():\n",
    "   with open(\"page.html\", 'r') as viz_file:\n",
    "       return viz_file.read()\n",
    "\n",
    "@app.route('/result', methods=['POST', 'GET'])\n",
    "def result():\n",
    "    '''Gets prediction using the HTML form'''\n",
    "    if flask.request.method == 'POST':\n",
    "\n",
    "       inputs = flask.request.form\n",
    "\n",
    "       pclass = inputs['pclass'][0]\n",
    "       sex = inputs['sex'][0]\n",
    "       age = inputs['age'][0]\n",
    "       fare = inputs['fare'][0]\n",
    "       sibsp = inputs['sibsp'][0]\n",
    "\n",
    "       item = np.array([pclass, sex, age, fare, sibsp])\n",
    "       score = PREDICTOR.predict_proba(item)\n",
    "       results = {'survival chances': score[0,1], 'death chances': score[0,0]}\n",
    "       return flask.jsonify(results)\n",
    "\n",
    "```\n",
    "\n",
    "Save, close, and relaunch the app. Go to `http://127.0.0.1:4000/page` and type in your inputs.\n",
    "\n",
    "Both methods should still be there. You can either play with the URL parameters at `/predict` or enter them at `/page`"
   ]
  },
  {
   "cell_type": "markdown",
   "metadata": {
    "collapsed": true,
    "slideshow": {
     "slide_type": "slide"
    }
   },
   "source": [
    "<a id=\"independent-practice\"></a>\n",
    "## Independent Practice\n",
    "---\n",
    "\n",
    "See if you can customize and play around with the app you just built. Try the following things:\n",
    "\n",
    "- Create the model in jupyter / pycharm, pickle it, and import it into your flask app.  Play around with the features used, change the model (try logistic regression)\n",
    "- Make the app look nicer by playing with the HTML.  Can you use dropdowns?  Buttons?\n",
    "- See if you can return more values to the page, like the predicted category, or the model's parameters.\n",
    "- Whenever you let the user provide inputs, you must always validate them. For example, can you enter values that make the web app crash or return invalid output? To prevent this, you must always validate your inputs -- can you add some input validation here? Can you show the user an error if some inputs are not valid?\n"
   ]
  },
  {
   "cell_type": "markdown",
   "metadata": {
    "slideshow": {
     "slide_type": "slide"
    }
   },
   "source": [
    "<a id=\"examples\"></a>\n",
    "## Examples\n",
    "---\n",
    "\n",
    "Here are some examples of Flask apps in action. Fork and clone the apps you like so you can play with them and edit them on your local machine.\n",
    "\n",
    "Two apps using scikit-learn:\n",
    "- [Visualizing the Iris dataset using Flask and Angular JS](https://github.com/ColCarroll/flask_angular_example)\n",
    "- [Using Neural Nets to recognize images](https://github.com/mdlai/digit_recognition)\n",
    "\n",
    "More websites built in Flask:\n",
    "- [The Flask Website itself!](http://flask.pocoo.org/)\n",
    "- [A reddit clone](https://github.com/codelucas/flask_reddit)\n"
   ]
  },
  {
   "cell_type": "markdown",
   "metadata": {
    "slideshow": {
     "slide_type": "slide"
    }
   },
   "source": [
    "<a id=\"additional-resources\"></a>\n",
    "## Additional Resources\n",
    "---\n",
    "\n",
    "- [The Flask Documentation](http://flask.pocoo.org/docs/0.11/)\n",
    "- [A Flask tutorial to follow along with](https://github.com/miguelgrinberg/flask-pycon2014)\n",
    "- [The Flask mega tutorial](http://blog.miguelgrinberg.com/post/the-flask-mega-tutorial-part-ii-templates)\n"
   ]
  }
 ],
 "metadata": {
  "kernelspec": {
   "display_name": "Python 2",
   "language": "python",
   "name": "python2"
  },
  "language_info": {
   "codemirror_mode": {
    "name": "ipython",
    "version": 2
   },
   "file_extension": ".py",
   "mimetype": "text/x-python",
   "name": "python",
   "nbconvert_exporter": "python",
   "pygments_lexer": "ipython2",
   "version": "2.7.14"
  }
 },
 "nbformat": 4,
 "nbformat_minor": 2
}
