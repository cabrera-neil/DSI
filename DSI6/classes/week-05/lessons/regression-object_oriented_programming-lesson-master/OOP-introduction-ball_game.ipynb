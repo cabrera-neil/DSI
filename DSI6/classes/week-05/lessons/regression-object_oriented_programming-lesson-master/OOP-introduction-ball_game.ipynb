{
 "cells": [
  {
   "cell_type": "markdown",
   "metadata": {},
   "source": [
    "### Quick summary:\n",
    "1. `len(df)`  --> len it's a function offered by python\n",
    "2. `df.columns`  --> columns is an attribute of the (object) df\n",
    "3. `df['col'].apply(...)` --> apply is a function (or method) of the (object) df"
   ]
  },
  {
   "cell_type": "code",
   "execution_count": null,
   "metadata": {},
   "outputs": [],
   "source": []
  },
  {
   "cell_type": "code",
   "execution_count": null,
   "metadata": {},
   "outputs": [],
   "source": []
  },
  {
   "cell_type": "code",
   "execution_count": null,
   "metadata": {},
   "outputs": [],
   "source": []
  },
  {
   "cell_type": "code",
   "execution_count": null,
   "metadata": {},
   "outputs": [],
   "source": []
  },
  {
   "cell_type": "code",
   "execution_count": null,
   "metadata": {},
   "outputs": [],
   "source": []
  },
  {
   "cell_type": "code",
   "execution_count": null,
   "metadata": {},
   "outputs": [],
   "source": []
  },
  {
   "cell_type": "code",
   "execution_count": null,
   "metadata": {},
   "outputs": [],
   "source": []
  },
  {
   "cell_type": "code",
   "execution_count": null,
   "metadata": {},
   "outputs": [],
   "source": []
  },
  {
   "cell_type": "markdown",
   "metadata": {},
   "source": [
    "### Object oriented programming (OOP)\n",
    "I can define my own objects.   \n",
    "Objects can have attributes and functions/methods.  \n",
    "Objects can interact with other objects.  \n",
    "Objects can inherit characteristics from other objects (e.g. an object \"football player\" can inherit characteristics from an object \"person\")."
   ]
  },
  {
   "cell_type": "code",
   "execution_count": null,
   "metadata": {},
   "outputs": [],
   "source": []
  },
  {
   "cell_type": "code",
   "execution_count": null,
   "metadata": {},
   "outputs": [],
   "source": []
  },
  {
   "cell_type": "code",
   "execution_count": null,
   "metadata": {},
   "outputs": [],
   "source": []
  },
  {
   "cell_type": "code",
   "execution_count": null,
   "metadata": {},
   "outputs": [],
   "source": []
  },
  {
   "cell_type": "code",
   "execution_count": null,
   "metadata": {},
   "outputs": [],
   "source": []
  },
  {
   "cell_type": "code",
   "execution_count": null,
   "metadata": {},
   "outputs": [],
   "source": []
  },
  {
   "cell_type": "markdown",
   "metadata": {},
   "source": [
    "### Why do we need OOP?!"
   ]
  },
  {
   "cell_type": "markdown",
   "metadata": {},
   "source": [
    "It's usually used structure the code in a better way in \"complex\" projects (e.g. when you have to define your own libraries).  \n",
    "OOP code is usually easier to maintain and extend."
   ]
  },
  {
   "cell_type": "code",
   "execution_count": null,
   "metadata": {},
   "outputs": [],
   "source": []
  },
  {
   "cell_type": "code",
   "execution_count": null,
   "metadata": {},
   "outputs": [],
   "source": []
  },
  {
   "cell_type": "code",
   "execution_count": null,
   "metadata": {},
   "outputs": [],
   "source": []
  },
  {
   "cell_type": "code",
   "execution_count": null,
   "metadata": {},
   "outputs": [],
   "source": []
  },
  {
   "cell_type": "code",
   "execution_count": null,
   "metadata": {},
   "outputs": [],
   "source": []
  },
  {
   "cell_type": "code",
   "execution_count": null,
   "metadata": {},
   "outputs": [],
   "source": []
  },
  {
   "cell_type": "code",
   "execution_count": null,
   "metadata": {},
   "outputs": [],
   "source": []
  },
  {
   "cell_type": "code",
   "execution_count": null,
   "metadata": {},
   "outputs": [],
   "source": []
  },
  {
   "cell_type": "markdown",
   "metadata": {},
   "source": [
    "### Class vs. Instance\n",
    "*Class* = general, abstract representation of an object  \n",
    "*Instance* = instance of a particular object  \n",
    "*Class Triangle* = a general representation of a triangle based on its height and width  \n",
    "*Instance of a Triangle* = a specific triangle with height=3cm and width=2cm"
   ]
  },
  {
   "cell_type": "code",
   "execution_count": null,
   "metadata": {},
   "outputs": [],
   "source": []
  },
  {
   "cell_type": "code",
   "execution_count": null,
   "metadata": {},
   "outputs": [],
   "source": []
  },
  {
   "cell_type": "code",
   "execution_count": null,
   "metadata": {},
   "outputs": [],
   "source": []
  },
  {
   "cell_type": "code",
   "execution_count": null,
   "metadata": {},
   "outputs": [],
   "source": []
  },
  {
   "cell_type": "code",
   "execution_count": null,
   "metadata": {},
   "outputs": [],
   "source": []
  },
  {
   "cell_type": "code",
   "execution_count": null,
   "metadata": {},
   "outputs": [],
   "source": []
  },
  {
   "cell_type": "code",
   "execution_count": null,
   "metadata": {},
   "outputs": [],
   "source": []
  },
  {
   "cell_type": "code",
   "execution_count": null,
   "metadata": {},
   "outputs": [],
   "source": []
  },
  {
   "cell_type": "code",
   "execution_count": null,
   "metadata": {},
   "outputs": [],
   "source": []
  },
  {
   "cell_type": "code",
   "execution_count": null,
   "metadata": {},
   "outputs": [],
   "source": []
  },
  {
   "cell_type": "markdown",
   "metadata": {},
   "source": [
    "### Define a class Person"
   ]
  },
  {
   "cell_type": "code",
   "execution_count": 7,
   "metadata": {},
   "outputs": [],
   "source": [
    "class Person:\n",
    "    \n",
    "    # this is a special method I need to define\n",
    "    # to initialize a person\n",
    "    def __init__(self, name, age):\n",
    "        self.name = name\n",
    "        self.age = age"
   ]
  },
  {
   "cell_type": "code",
   "execution_count": 8,
   "metadata": {},
   "outputs": [],
   "source": [
    "person_john = Person(name='John', age=32)"
   ]
  },
  {
   "cell_type": "code",
   "execution_count": 9,
   "metadata": {},
   "outputs": [
    {
     "name": "stdout",
     "output_type": "stream",
     "text": [
      "<__main__.Person object at 0x1090e3748>\n"
     ]
    }
   ],
   "source": [
    "print(person_john)"
   ]
  },
  {
   "cell_type": "code",
   "execution_count": 10,
   "metadata": {},
   "outputs": [
    {
     "name": "stdout",
     "output_type": "stream",
     "text": [
      "John\n"
     ]
    }
   ],
   "source": [
    "# same as df.columns\n",
    "print(person_john.name)"
   ]
  },
  {
   "cell_type": "code",
   "execution_count": 11,
   "metadata": {},
   "outputs": [
    {
     "name": "stdout",
     "output_type": "stream",
     "text": [
      "32\n"
     ]
    }
   ],
   "source": [
    "print(person_john.age)"
   ]
  },
  {
   "cell_type": "code",
   "execution_count": null,
   "metadata": {},
   "outputs": [],
   "source": [
    "# BE CAREFUL, YOU CAN DO THIS\n",
    "\n",
    "# class Person:\n",
    "#     def __init__(self, name, age):\n",
    "#         self.name = age\n",
    "#         self.age = name"
   ]
  },
  {
   "cell_type": "markdown",
   "metadata": {},
   "source": [
    "### Add a function/method"
   ]
  },
  {
   "cell_type": "code",
   "execution_count": 12,
   "metadata": {},
   "outputs": [],
   "source": [
    "class Person:\n",
    "    def __init__(self, name, hello_sentence, description_sentence):\n",
    "        self.name = name\n",
    "        self.hello_sentence = hello_sentence\n",
    "        self.description_sentence = description_sentence.format(name)\n",
    "        \n",
    "    def say_hello(self, another_person):\n",
    "        print(self.hello_sentence.format(another_person.name))"
   ]
  },
  {
   "cell_type": "markdown",
   "metadata": {},
   "source": [
    "### Create two instances of Person"
   ]
  },
  {
   "cell_type": "code",
   "execution_count": 14,
   "metadata": {},
   "outputs": [],
   "source": [
    "person_edo = Person(name='edo', \n",
    "                    hello_sentence='Ciaoo {}, come va?', \n",
    "                    description_sentence='Mi chiamo {}')\n",
    "\n",
    "person_angela = Person(name='angela', \n",
    "                       hello_sentence='Hello {}!', \n",
    "                       description_sentence='My name is {}')"
   ]
  },
  {
   "cell_type": "markdown",
   "metadata": {},
   "source": [
    "### Use the two instances"
   ]
  },
  {
   "cell_type": "code",
   "execution_count": 15,
   "metadata": {},
   "outputs": [
    {
     "name": "stdout",
     "output_type": "stream",
     "text": [
      "Ciaoo angela, come va?\n"
     ]
    }
   ],
   "source": [
    "person_edo.say_hello(person_angela)"
   ]
  },
  {
   "cell_type": "code",
   "execution_count": 16,
   "metadata": {},
   "outputs": [
    {
     "name": "stdout",
     "output_type": "stream",
     "text": [
      "Hello edo!\n"
     ]
    }
   ],
   "source": [
    "person_angela.say_hello(person_edo)"
   ]
  },
  {
   "cell_type": "code",
   "execution_count": 17,
   "metadata": {},
   "outputs": [
    {
     "name": "stdout",
     "output_type": "stream",
     "text": [
      "My name is angela\n",
      "Mi chiamo edo\n"
     ]
    }
   ],
   "source": [
    "print(person_angela.description_sentence)\n",
    "print(person_edo.description_sentence)"
   ]
  },
  {
   "cell_type": "markdown",
   "metadata": {},
   "source": [
    "### Define a custom string for print(person)"
   ]
  },
  {
   "cell_type": "code",
   "execution_count": 18,
   "metadata": {},
   "outputs": [],
   "source": [
    "class Person:\n",
    "    def __init__(self, name, hello_sentence, description_sentence):\n",
    "        self.name = name\n",
    "        self.hello_sentence = hello_sentence\n",
    "        self.description_sentence = description_sentence\n",
    "        \n",
    "    def say_hello(self, another_person):\n",
    "        print(self.hello_sentence.format(another_person.name))\n",
    "        \n",
    "    def __str__(self):\n",
    "        # this is used when the instance is printed, \n",
    "        # like for print(person1)\n",
    "        return self.description_sentence.format(self.name)"
   ]
  },
  {
   "cell_type": "code",
   "execution_count": 19,
   "metadata": {},
   "outputs": [],
   "source": [
    "person_edo = Person(name='edo', \n",
    "                    hello_sentence='Ciaoo {}, come va?', \n",
    "                    description_sentence='Mi chiamo {}')\n",
    "\n",
    "person_angela = Person(name='angela', \n",
    "                       hello_sentence='Hello {}!', \n",
    "                       description_sentence='My name is {}')"
   ]
  },
  {
   "cell_type": "code",
   "execution_count": 20,
   "metadata": {},
   "outputs": [
    {
     "name": "stdout",
     "output_type": "stream",
     "text": [
      "My name is angela\n",
      "Mi chiamo edo\n"
     ]
    }
   ],
   "source": [
    "print(person_angela)\n",
    "print(person_edo)"
   ]
  },
  {
   "cell_type": "markdown",
   "metadata": {},
   "source": [
    "# Let's make a simple game: exploding ball"
   ]
  },
  {
   "cell_type": "markdown",
   "metadata": {},
   "source": [
    "### Create a class Ball"
   ]
  },
  {
   "cell_type": "code",
   "execution_count": 24,
   "metadata": {},
   "outputs": [],
   "source": [
    "class Ball:\n",
    "    def __init__(self,timer,color):\n",
    "        self.timer = timer\n",
    "        self.color = color"
   ]
  },
  {
   "cell_type": "markdown",
   "metadata": {},
   "source": [
    "Add a description"
   ]
  },
  {
   "cell_type": "code",
   "execution_count": 25,
   "metadata": {},
   "outputs": [],
   "source": [
    "class Ball:\n",
    "    def __init__(self,timer,color):\n",
    "        self.timer = timer\n",
    "        self.color = color\n",
    "    \n",
    "    def __str__(self):\n",
    "        return 'A {} ball, that explodes in {} turns'.format(self.color,self.timer)"
   ]
  },
  {
   "cell_type": "markdown",
   "metadata": {},
   "source": [
    "### Create an instance of a Ball"
   ]
  },
  {
   "cell_type": "code",
   "execution_count": 26,
   "metadata": {},
   "outputs": [
    {
     "name": "stdout",
     "output_type": "stream",
     "text": [
      "A red ball, that explodes in 5 turns\n"
     ]
    }
   ],
   "source": [
    "red_ball = Ball(timer=5, color='red')\n",
    "print(red_ball)"
   ]
  },
  {
   "cell_type": "markdown",
   "metadata": {},
   "source": [
    "### Create a Ball Game"
   ]
  },
  {
   "cell_type": "code",
   "execution_count": 27,
   "metadata": {},
   "outputs": [],
   "source": [
    "class SupidBallGame:\n",
    "    def __init__(self,playersList, ball):\n",
    "        self.players = playersList\n",
    "        self.ball = ball"
   ]
  },
  {
   "cell_type": "markdown",
   "metadata": {},
   "source": [
    "### Create an instance of the game"
   ]
  },
  {
   "cell_type": "code",
   "execution_count": 28,
   "metadata": {},
   "outputs": [
    {
     "name": "stdout",
     "output_type": "stream",
     "text": [
      "<__main__.SupidBallGame object at 0x1090eb6a0>\n"
     ]
    }
   ],
   "source": [
    "game1 = SupidBallGame(playersList=[person_edo, person_angela],\n",
    "                      ball=red_ball)\n",
    "print(game1) # We haven't defined the __str__ method, python is using the default one"
   ]
  },
  {
   "cell_type": "markdown",
   "metadata": {},
   "source": [
    "### Add a run() method for the Ball Game"
   ]
  },
  {
   "cell_type": "code",
   "execution_count": 29,
   "metadata": {},
   "outputs": [],
   "source": [
    "class SupidBallGame:\n",
    "    \n",
    "    def __init__(self,players, ball):\n",
    "        self.players = players\n",
    "        self.ball = ball\n",
    "        self.player_with_ball = 0 # this is an index\n",
    "        \n",
    "    def run(self):\n",
    "        while self.ball.timer>0:\n",
    "            current_player = self.player_with_ball\n",
    "            #pass the ball to the next player\n",
    "            self.player_with_ball = (current_player + 1) % len(self.players)\n",
    "            # decrement the timer\n",
    "            self.ball.timer = self.ball.timer - 1\n",
    "        # let's print the name of the player with the ball\n",
    "        print(self.players[self.player_with_ball].name)"
   ]
  },
  {
   "cell_type": "markdown",
   "metadata": {},
   "source": [
    "### Run the game!"
   ]
  },
  {
   "cell_type": "code",
   "execution_count": 30,
   "metadata": {},
   "outputs": [
    {
     "name": "stdout",
     "output_type": "stream",
     "text": [
      "angela\n"
     ]
    }
   ],
   "source": [
    "ball = Ball(11,\"red\")\n",
    "\n",
    "game1 = SupidBallGame([person_edo, person_angela], ball)\n",
    "game1.run()"
   ]
  },
  {
   "cell_type": "markdown",
   "metadata": {},
   "source": [
    "### The ball now has a random timer!"
   ]
  },
  {
   "cell_type": "code",
   "execution_count": 31,
   "metadata": {},
   "outputs": [
    {
     "name": "stdout",
     "output_type": "stream",
     "text": [
      "edo\n"
     ]
    }
   ],
   "source": [
    "import numpy as np\n",
    "\n",
    "ball = Ball(np.random.randint(10,20),\"red\") # a random number between 10 and 20\n",
    "\n",
    "game1 = SupidBallGame([person_edo, person_angela], ball)\n",
    "game1.run()"
   ]
  },
  {
   "cell_type": "markdown",
   "metadata": {},
   "source": [
    "### Let's add a nice output for the game"
   ]
  },
  {
   "cell_type": "code",
   "execution_count": 32,
   "metadata": {},
   "outputs": [],
   "source": [
    "class SupidBallGame:\n",
    "    \n",
    "    def __init__(self,playersList, ball):\n",
    "        self.players = playersList\n",
    "        self.ball = ball\n",
    "        self.player_with_ball = 0\n",
    "        \n",
    "    def run(self):\n",
    "        while self.ball.timer>0:\n",
    "            current_player = self.player_with_ball\n",
    "            self.player_with_ball = (current_player + 1) % len(self.players)\n",
    "            self.ball.timer = self.ball.timer - 1\n",
    "            print('{} passes the ball to {}'.format(self.players[current_player].name, \n",
    "                                                    self.players[self.player_with_ball].name))\n",
    "        print('BOOM')\n",
    "        print(self.players[self.player_with_ball].name+' had the ball and loses')"
   ]
  },
  {
   "cell_type": "code",
   "execution_count": 33,
   "metadata": {},
   "outputs": [
    {
     "name": "stdout",
     "output_type": "stream",
     "text": [
      "edo passes the ball to angela\n",
      "angela passes the ball to edo\n",
      "edo passes the ball to angela\n",
      "angela passes the ball to edo\n",
      "edo passes the ball to angela\n",
      "angela passes the ball to edo\n",
      "edo passes the ball to angela\n",
      "angela passes the ball to edo\n",
      "edo passes the ball to angela\n",
      "BOOM\n",
      "angela had the ball and loses\n"
     ]
    }
   ],
   "source": [
    "#ball = Ball(np.random.randint(10,20),\"red\")\n",
    "ball = Ball(9,\"red\")\n",
    "\n",
    "game1 = SupidBallGame([person_edo, person_angela], ball)\n",
    "game1.run()"
   ]
  },
  {
   "cell_type": "markdown",
   "metadata": {},
   "source": [
    "### Possible exercises"
   ]
  },
  {
   "cell_type": "markdown",
   "metadata": {},
   "source": [
    "Every 5 turns, print a summary of the game:  \n",
    "-who has the ball  \n",
    "-how many rounds (keep track with a variable)  "
   ]
  },
  {
   "cell_type": "markdown",
   "metadata": {},
   "source": [
    "Shuffle the players before starting"
   ]
  },
  {
   "cell_type": "markdown",
   "metadata": {},
   "source": [
    "Add an \"OMG I lost\"-like sentence for every player (the sentence can be different from player to player). The sentence should be printed at the end of the game, for the player who lost."
   ]
  },
  {
   "cell_type": "markdown",
   "metadata": {},
   "source": [
    "Customise the ball: every ball has a unique message inside when it explodes"
   ]
  },
  {
   "cell_type": "markdown",
   "metadata": {},
   "source": [
    "Create a class Dice, every player has an assigned dice. A dice can randomly have 4,5 or 6 faces. When the ball explodes, the player rolls her dice, if the number is 1, the game is draw."
   ]
  },
  {
   "cell_type": "markdown",
   "metadata": {},
   "source": [
    "Create a class Tournament that contains and keep track of multiple matches (i.e. a tournament is composed by 5 matches of the same game). Run a tournament and print the results of every game."
   ]
  }
 ],
 "metadata": {
  "kernelspec": {
   "display_name": "Python 3",
   "language": "python",
   "name": "python3"
  },
  "language_info": {
   "codemirror_mode": {
    "name": "ipython",
    "version": 3
   },
   "file_extension": ".py",
   "mimetype": "text/x-python",
   "name": "python",
   "nbconvert_exporter": "python",
   "pygments_lexer": "ipython3",
   "version": "3.6.6"
  }
 },
 "nbformat": 4,
 "nbformat_minor": 1
}
