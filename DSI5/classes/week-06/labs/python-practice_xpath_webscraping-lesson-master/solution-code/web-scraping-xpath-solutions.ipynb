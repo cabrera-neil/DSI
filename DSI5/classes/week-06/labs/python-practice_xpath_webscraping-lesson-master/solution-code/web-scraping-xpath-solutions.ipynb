{
 "cells": [
  {
   "cell_type": "markdown",
   "metadata": {},
   "source": [
    "<img src=\"http://imgur.com/1ZcRyrc.png\" style=\"float: left; margin: 20px; height: 55px\">\n",
    "\n",
    "# Practicing Web Scraping With XPath\n",
    "\n",
    "_Authors: Dave Yerrington (SF)_\n",
    "\n",
    "---\n",
    "\n",
    "### Learning Objectives\n",
    "*After this lesson, you will be able to:*\n",
    "- Build a basic scraper\n",
    "- Understand HTML and XPath basics\n",
    "- Scrape a website for various data and putting your results into a DataFrame"
   ]
  },
  {
   "cell_type": "markdown",
   "metadata": {},
   "source": [
    "### Lesson Guide\n",
    "- [Review of HTML and Web Scraping](#review1)\n",
    "- [Review of XPath](#review2)\n",
    "- [Basic XPath Expressions](#basic-xpath)\n",
    "    - [Absolute References](#absolute)\n",
    "    - [Relative References](#relative-references)\n",
    "    - [Selecting Attributes](#attributes)\n",
    "- [Guided Practice: Where's Waldo? - XPath Edition](#practice1)\n",
    "- [1 vs. N Selections](#1vsn)\n",
    "    - [Selecting the First Element in a Series of Elements](#first-elem)\n",
    "    - [Selecting the Last Element in a Series of Elements](#last-elem)\n",
    "    - [Selecting all Elements Matching a Selection](#all-elem-match)\n",
    "    - [Selecting Elements Matching an Attribute](#elem-match-attr)\n",
    "- [Guided Practice: Selecting Elements](#practice2)\n",
    "- [A Quick Note: The Requests Module](#requests)\n",
    "- [Guided Practice: Scrape DataTau Headlines](#practice3)\n",
    "- [Independent Practice](#independent)"
   ]
  },
  {
   "cell_type": "markdown",
   "metadata": {},
   "source": [
    "<a id='review1'></a>\n",
    "## Review of HTML and Web Scraping\n",
    "\n",
    "---\n",
    "\n",
    "Web scraping is a technique of extracting information from websites. It's the downloading and transformation of unstructured web data into structured data that can be stored and analyzed.\n",
    "\n",
    "There are a variety of ways to \"scrape\" what we want from the web:\n",
    "- Using third-party services (import.io).\n",
    "- By writing our own Python apps that pull HTML documents and parse them.\n",
    "  - Mechanize\n",
    "  - Scrapy\n",
    "  - Requests\n",
    "  - Libxml/XPath\n",
    "  - Regular expressions\n",
    "  - BeautifulSoup"
   ]
  },
  {
   "cell_type": "markdown",
   "metadata": {},
   "source": [
    "> **Check:** What do you perceive to be the hardest aspect of scraping?\n",
    "\n",
    "_E.G.: If you were asked to scrape Craigslist property listings and put them in a DataFrame, what would hold you up?_"
   ]
  },
  {
   "cell_type": "markdown",
   "metadata": {},
   "source": [
    "### Review: HTML\n",
    "\n",
    "In the HTML document object model (DOM), everything is a node:\n",
    " * The document itself is a document node\n",
    " * All HTML elements are element nodes\n",
    " * All HTML attributes are attribute nodes\n",
    " * The text inside HTML elements are text nodes\n",
    " * The comments are comment nodes"
   ]
  },
  {
   "cell_type": "markdown",
   "metadata": {},
   "source": [
    "### Review: Elements\n",
    "Elements begin and end with **opening and closing tags** that are defined by namespaced, encapsulated strings. \n",
    "\n",
    "```html\n",
    "<title>I am a title.</title>\n",
    "<p>I am a paragraph.</p>\n",
    "<strong>I am bold.</strong>\n",
    "```\n",
    "\n",
    "_Note: The tags **title, p,** and **strong** are represented below._"
   ]
  },
  {
   "cell_type": "markdown",
   "metadata": {},
   "source": [
    "### Review: Element Parent/Child Relationships\n",
    "\n",
    "<img src=\"http://www.htmlgoodies.com/img/2007/06/flowChart2.gif\" width=\"250\">\n",
    "\n",
    "**Elements begin and end in the same namespace, like so:** `<p></p>`\n",
    "\n",
    "**Elements can have parents and children.** It's important to remember that an element can be both a parent and a child, and whether to refer to the element as a parent or a child depends on the specific element you are referencing.\n",
    "\n",
    "_Your parents are **parents** to you but **children** of your grandparents. The same logic applies with HTML elements._\n",
    "\n",
    "```html\n",
    "<body id = 'parent'>\n",
    "    <div id = 'child_1'>I am the child of 'parent.'\n",
    "        <div id = 'child_2'>I am the child of 'child_1.'\n",
    "            <div id = 'child_3'>I am the child of 'child_2.'\n",
    "                <div id = 'child_4'>I am the child of 'child_4.'</div>\n",
    "            </div>\n",
    "        </div>\n",
    "    </div>\n",
    "</body>\n",
    "```\n",
    "\n",
    "**or**\n",
    "\n",
    "```html\n",
    "<body id = 'parent'>\n",
    "    <div id = 'child_1'>I am the parent of 'child_2.'\n",
    "        <div id = 'child_2'>I am the parent of 'child_3.'\n",
    "            <div id = 'child_3'> I am the parent of 'child_4.'\n",
    "                <div id = 'child_4'>I am not a parent. </div>\n",
    "            </div>\n",
    "        </div>\n",
    "    </div>\n",
    "</body>\n",
    "```"
   ]
  },
  {
   "cell_type": "markdown",
   "metadata": {},
   "source": [
    "### Review: Element Attributes\n",
    "\n",
    "Elements can also have attributes. Attributes are defined inside **element tags** and can contain data that may be useful to scrape.\n",
    "\n",
    "```html\n",
    "<a href=\"http://lmgtfy.com/?q=html+element+attributes\" title=\"A title\" id=\"web-link\" name=\"hal\">A Simple Link</a>\n",
    "```\n",
    "\n",
    "The **element attributes** of this `<a>` tag element are:\n",
    "- `id`\n",
    "- `href`\n",
    "- `title`\n",
    "- `name`\n",
    "\n",
    "This `<a>` tag example will render in your browser like this:\n",
    "> <a href=\"https://www.youtube.com/watch?v=dQw4w9WgXcQ\">A Simple Link</a>\n"
   ]
  },
  {
   "cell_type": "markdown",
   "metadata": {},
   "source": [
    "**Check:** Can you identify an attribute, an element, a text item, and a child element in the code below?\n",
    "\n",
    "```HTML\n",
    "<html>\n",
    "   <title id=\"main-title\">All this scraping is making me itch!</title>\n",
    "   <body>\n",
    "       <h1>Welcome to my Homepage</h1>\n",
    "       <p id=\"welcome-paragraph\" class=\"strong-paragraph\">\n",
    "           <span>Hello friends, let me tell you about this cool hair product.</span>\n",
    "           <ul>\n",
    "              <li>It's cool.</li>\n",
    "              <li>It's fresh.</li>\n",
    "              <li>It can tell the future.</li>\n",
    "              <li>Always be closing.</li>\n",
    "           </ul>\n",
    "       </p>\n",
    "   </body>\n",
    "```\n",
    "\n",
    "**Bonus:** What's missing?"
   ]
  },
  {
   "cell_type": "code",
   "execution_count": 1,
   "metadata": {},
   "outputs": [],
   "source": [
    "# </html>"
   ]
  },
  {
   "cell_type": "markdown",
   "metadata": {},
   "source": [
    "<a id='review2'></a>\n",
    "## Review of XPath\n",
    "\n",
    "---\n",
    "\n",
    "XPath uses path expressions to select nodes or node sets in an HTML/XML document. These path expressions look similar to the expressions you see when you work with a traditional computer file system."
   ]
  },
  {
   "cell_type": "markdown",
   "metadata": {},
   "source": [
    "### XPath Features\n",
    "\n",
    "XPath includes more than 100 built-in functions to help us select and manipulate HTML (or XML) documents. XPath has functions for:\n",
    "\n",
    "- String values\n",
    "- Numeric values\n",
    "- Date and time comparison\n",
    "- Sequence manipulation\n",
    "- Boolean values\n",
    "- And more"
   ]
  },
  {
   "cell_type": "markdown",
   "metadata": {},
   "source": [
    "<a id='basic-xpath'></a>\n",
    "## Basic XPath Expressions\n",
    "\n",
    "---\n",
    "\n",
    "XPath comes with a wide array of features, but the basics of selecting data are the most common problems that XPath can help you solve.\n",
    "\n",
    "Most often, you'll use **XPath** for selecting data from HTML documents. There are two ways you can **select elements** within HTML using **XPath**:\n",
    "\n",
    "- Absolute references\n",
    "- Relative references"
   ]
  },
  {
   "cell_type": "markdown",
   "metadata": {},
   "source": [
    "<a id='absolute'></a>\n",
    "### Absolute References\n",
    "\n",
    "> _For our XPath demonstration, we'll use Scrapy, which is using [Libxml](http://xmlsoft.org) under the hood. Libxml provides the basic functionality for XPath expressions._"
   ]
  },
  {
   "cell_type": "code",
   "execution_count": 2,
   "metadata": {},
   "outputs": [
    {
     "data": {
      "text/plain": [
       "['good']"
      ]
     },
     "execution_count": 2,
     "metadata": {},
     "output_type": "execute_result"
    }
   ],
   "source": [
    "# Pip install Scrapy.\n",
    "# Pip install --upgrade zope2.\n",
    "from scrapy.selector import Selector\n",
    "from scrapy.http import HtmlResponse\n",
    "\n",
    "HTML = \"\"\"\n",
    "<html>\n",
    "    <body>\n",
    "        <span id=\"only-span\">good</span>\n",
    "    </body>\n",
    "</html>\n",
    "\"\"\"\n",
    "# The same thing, but an absolute reference:\n",
    "Selector(text=HTML).xpath('/html/body/span/text()').extract()\n"
   ]
  },
  {
   "cell_type": "markdown",
   "metadata": {},
   "source": [
    "<a id='relative-references'></a>\n",
    "### Relative References\n",
    "\n",
    "Relative references in XPath match the \"ends\" of structures. As there is only a single `span` element, `//span/text()` matches **one element**."
   ]
  },
  {
   "cell_type": "code",
   "execution_count": 3,
   "metadata": {},
   "outputs": [
    {
     "data": {
      "text/plain": [
       "['good']"
      ]
     },
     "execution_count": 3,
     "metadata": {},
     "output_type": "execute_result"
    }
   ],
   "source": [
    "Selector(text=HTML).xpath('//span/text()').extract()"
   ]
  },
  {
   "cell_type": "markdown",
   "metadata": {},
   "source": [
    "<a id='attributes'></a>\n",
    "### Selecting Attributes\n",
    "\n",
    "Attributes are **within a tag**, such as `id=\"only-span\"` within our `span` attribute. We can get the attribute by using the `@` symbol **after** the **element reference**.\n"
   ]
  },
  {
   "cell_type": "code",
   "execution_count": 4,
   "metadata": {},
   "outputs": [
    {
     "data": {
      "text/plain": [
       "['only-span']"
      ]
     },
     "execution_count": 4,
     "metadata": {},
     "output_type": "execute_result"
    }
   ],
   "source": [
    "Selector(text=HTML).xpath('//span/@id').extract()"
   ]
  },
  {
   "cell_type": "markdown",
   "metadata": {},
   "source": [
    "<a id='practice1'></a>\n",
    "## Guided Practice: Where's Waldo? — XPath Edition\n",
    "\n",
    "---\n",
    "\n",
    "**In this example, we'll find Waldo together. Find Waldo as:**\n",
    "\n",
    "- An element\n",
    "- An attribute\n",
    "- A text element\n",
    "\n",
    "The practice HTML string is provided below."
   ]
  },
  {
   "cell_type": "code",
   "execution_count": 5,
   "metadata": {},
   "outputs": [],
   "source": [
    "HTML = \"\"\"\n",
    "<html>\n",
    "    <body>\n",
    "        \n",
    "        <ul id=\"waldo\">\n",
    "            <li class=\"waldo\">\n",
    "                <span> yo I'm not here</span>\n",
    "            </li>\n",
    "            <li class=\"waldo\">Height:  ???</li>\n",
    "            <li class=\"waldo\">Weight:  ???</li>\n",
    "            <li class=\"waldo\">Last Location:  ???</li>\n",
    "            <li class=\"nerds\">\n",
    "                <div class=\"alpha\">Bill Gates</div>\n",
    "                <div class=\"alpha\">Zuckerberg</div>\n",
    "                <div class=\"beta\">Theil</div>\n",
    "                <div class=\"animal\">Parker</div>\n",
    "            </li>\n",
    "        </ul>\n",
    "        \n",
    "        <ul id=\"tim\">\n",
    "            <li class=\"tdawg\">\n",
    "                <span>yo im here</span>\n",
    "            </li>\n",
    "        </ul>\n",
    "        <li>stuff</li>\n",
    "        <li>stuff2</li>\n",
    "        \n",
    "        <div id=\"cooldiv\">\n",
    "            <span class=\"dsi-rocks\">\n",
    "               YO!\n",
    "            </span>\n",
    "        </div>\n",
    "        \n",
    "        \n",
    "        <waldo>Waldo</waldo>\n",
    "    </body>\n",
    "</html>\n",
    "\"\"\""
   ]
  },
  {
   "cell_type": "code",
   "execution_count": 6,
   "metadata": {},
   "outputs": [
    {
     "data": {
      "text/plain": [
       "['waldo',\n",
       " 'waldo',\n",
       " 'waldo',\n",
       " 'waldo',\n",
       " 'nerds',\n",
       " 'alpha',\n",
       " 'alpha',\n",
       " 'beta',\n",
       " 'animal',\n",
       " 'tdawg',\n",
       " 'dsi-rocks']"
      ]
     },
     "execution_count": 6,
     "metadata": {},
     "output_type": "execute_result"
    }
   ],
   "source": [
    "Selector(text=HTML).xpath('//@class').extract()"
   ]
  },
  {
   "cell_type": "code",
   "execution_count": 10,
   "metadata": {},
   "outputs": [
    {
     "name": "stdout",
     "output_type": "stream",
     "text": [
      "['Waldo']\n",
      "['\\n                ', '\\n            ', 'Height:  ???', 'Weight:  ???', 'Last Location:  ???', '\\n                ', '\\n                ', '\\n                ', '\\n                ', '\\n            ', '\\n                ', '\\n            ']\n",
      "['<li class=\"waldo\">\\n                <span> yo I\\'m not here</span>\\n            </li>', '<li class=\"waldo\">Height:  ???</li>', '<li class=\"waldo\">Weight:  ???</li>', '<li class=\"waldo\">Last Location:  ???</li>', '<li class=\"nerds\">\\n                <div class=\"alpha\">Bill Gates</div>\\n                <div class=\"alpha\">Zuckerberg</div>\\n                <div class=\"beta\">Theil</div>\\n                <div class=\"animal\">Parker</div>\\n            </li>', '<li class=\"tdawg\">\\n                <span>yo im here</span>\\n            </li>', '<li>stuff</li>', '<li>stuff2</li>']\n",
      "['waldo', 'waldo', 'waldo', 'waldo', 'nerds', 'alpha', 'alpha', 'beta', 'animal', 'tdawg', 'dsi-rocks']\n",
      "['waldo', 'tim']\n"
     ]
    }
   ],
   "source": [
    "# Find the absolute element.\n",
    "print(Selector(text=HTML).xpath('/html/body/waldo/text()').extract())\n",
    "print(Selector(text=HTML).xpath('/html/body/ul/li/text()').extract())\n",
    "\n",
    "# Find the relative element.\n",
    "print(Selector(text=HTML).xpath('//li').extract())\n",
    "\n",
    "# Find the element attribute.\n",
    "print(Selector(text=HTML).xpath('////@class').extract())\n",
    "print(Selector(text=HTML).xpath('//ul/@id').extract())\n"
   ]
  },
  {
   "cell_type": "code",
   "execution_count": 11,
   "metadata": {},
   "outputs": [
    {
     "name": "stdout",
     "output_type": "stream",
     "text": [
      "['waldo', 'waldo', 'waldo', 'waldo', 'nerds', 'alpha', 'alpha', 'beta', 'animal', 'tdawg', 'dsi-rocks']\n"
     ]
    }
   ],
   "source": [
    "print(Selector(text=HTML).xpath('//@class').extract())"
   ]
  },
  {
   "cell_type": "code",
   "execution_count": 12,
   "metadata": {},
   "outputs": [
    {
     "name": "stdout",
     "output_type": "stream",
     "text": [
      "['waldo', 'waldo', 'waldo', 'waldo', 'nerds', 'alpha', 'alpha', 'beta', 'animal', 'tdawg', 'dsi-rocks']\n"
     ]
    }
   ],
   "source": [
    "print(Selector(text=HTML).xpath('//*/@class').extract())"
   ]
  },
  {
   "cell_type": "markdown",
   "metadata": {},
   "source": [
    "<a id='1vsn'></a>\n",
    "## 1 vs N Selections\n",
    "\n",
    "---\n",
    "\n",
    "When selecting elements via relative reference, it's possible that you'll select multiple items. It's still possible to select single items if you're specific enough.\n",
    "\n",
    "**Singular Reference**\n",
    "- **Index** starts at **1**\n",
    "- Selections by offset\n",
    "- Selections by \"first\" or \"last\"\n",
    "- Selections by **unique attribute value**\n"
   ]
  },
  {
   "cell_type": "code",
   "execution_count": 13,
   "metadata": {},
   "outputs": [
    {
     "data": {
      "text/plain": [
       "['5,233.42']"
      ]
     },
     "execution_count": 13,
     "metadata": {},
     "output_type": "execute_result"
    }
   ],
   "source": [
    "HTML = \"\"\"\n",
    "<html>\n",
    "    <body>\n",
    "    \n",
    "        <!-- Search Results -->\n",
    "        <div class=\"search-result\">\n",
    "           <a href=\"https://www.youtube.com/watch?v=751hUX_q0Do\" title=\"Rappin with Gas\">Rapping with gas</a>\n",
    "           <span class=\"link-details\">This is a great video about gas.</span>\n",
    "        </div>\n",
    "        <div class=\"search-result\">\n",
    "           <a href=\"https://www.youtube.com/watch?v=97byWqi-zsI\" title=\"Casio Rapmap\">The Rapmaster</a>\n",
    "           <span class=\"link-details\">My first synth ever.</span>\n",
    "        </div>\n",
    "        <div class=\"search-result\">\n",
    "           <a href=\"https://www.youtube.com/watch?v=TSwqnR327fk\" title=\"Cinco Products\">Cinco Midi Organizer</a>\n",
    "           <span class=\"link-details\">Midi files at the speed of light.</span>\n",
    "        </div>\n",
    "        <div class=\"search-result\">\n",
    "           <a href=\"https://www.youtube.com/watch?v=8TCxE0bWQeQ\" title=\"Baddest Gates\">BBG Baddest Moments</a>\n",
    "           <span class=\"link-details\">It's tough to be a gangster.</span>\n",
    "        </div>\n",
    "        \n",
    "        <!-- Page stats -->\n",
    "        <div class=\"page-stats-container\">\n",
    "            <li class=\"item\" id=\"pageviews\">1,333,443</li>\n",
    "            <li class=\"item\" id=\"somethingelse\">bla</li>\n",
    "            <li class=\"item\" id=\"last-viewed\">01-22-2016</li>\n",
    "            <li class=\"item\" id=\"views-per-hour\">1,532</li>\n",
    "            <li class=\"item\" id=\"kiefer-views-per-hour\">5,233.42</li>\n",
    "        </div>\n",
    "        \n",
    "    </body>\n",
    "</html>\n",
    "\"\"\"\n",
    "\n",
    "span = Selector(text=HTML).xpath('/html/body/div/li[@id=\"kiefer-views-per-hour\"]/text()').extract()\n",
    "span"
   ]
  },
  {
   "cell_type": "markdown",
   "metadata": {},
   "source": [
    "<a id='first-elem'></a>\n",
    "### Selecting the First Element in a Series of Elements"
   ]
  },
  {
   "cell_type": "code",
   "execution_count": 14,
   "metadata": {},
   "outputs": [
    {
     "data": {
      "text/plain": [
       "'<span class=\"link-details\">This is a great video about gas.</span>'"
      ]
     },
     "execution_count": 14,
     "metadata": {},
     "output_type": "execute_result"
    }
   ],
   "source": [
    "spans = Selector(text=HTML).xpath('//span').extract()\n",
    "spans[0]"
   ]
  },
  {
   "cell_type": "markdown",
   "metadata": {},
   "source": [
    "<a id='last-elem'></a>\n",
    "### Selecting the Last Element in a Series of Elements"
   ]
  },
  {
   "cell_type": "code",
   "execution_count": 15,
   "metadata": {},
   "outputs": [
    {
     "data": {
      "text/plain": [
       "'<span class=\"link-details\">It\\'s tough to be a gangster.</span>'"
      ]
     },
     "execution_count": 15,
     "metadata": {},
     "output_type": "execute_result"
    }
   ],
   "source": [
    "spans = Selector(text=HTML).xpath('//span').extract()\n",
    "spans[-1]"
   ]
  },
  {
   "cell_type": "markdown",
   "metadata": {},
   "source": [
    "<a id='all-elem-match'></a>\n",
    "### Selecting All Elements Matching a Selection"
   ]
  },
  {
   "cell_type": "code",
   "execution_count": 16,
   "metadata": {
    "scrolled": true
   },
   "outputs": [
    {
     "data": {
      "text/plain": [
       "['<span class=\"link-details\">This is a great video about gas.</span>',\n",
       " '<span class=\"link-details\">My first synth ever.</span>',\n",
       " '<span class=\"link-details\">Midi files at the speed of light.</span>',\n",
       " '<span class=\"link-details\">It\\'s tough to be a gangster.</span>']"
      ]
     },
     "execution_count": 16,
     "metadata": {},
     "output_type": "execute_result"
    }
   ],
   "source": [
    "Selector(text=HTML).xpath('//span').extract()"
   ]
  },
  {
   "cell_type": "markdown",
   "metadata": {},
   "source": [
    "<a id='elem-match-attr'></a>\n",
    "### Selecting Elements Matching An _Attribute_\n",
    "\n",
    "This will be one of the most common ways you'll select items. HTML DOM elements will be more differentiated based on their class and ID variables. Mainly, these types of attributes are used by web developers to refer to specific elements or a broad set of elements to apply visual characteristics to using CSS.\n",
    "\n",
    "```HTML \n",
    "//element[@attribute=\"value\"]\n",
    "```\n",
    "\n",
    "**Generally:**\n",
    "\n",
    "- \"Class\" attributes within elements usually refer to multiple items\n",
    "- \"ID\" attributes are supposed to be unique but aren't always\n",
    "\n",
    "_CSS stands for cascading style sheets. These are used to abstract the definition of visual elements on a micro and macro scale for the web. They are also our best friend as data miners. They give us strong hints and cues as to how a web document is structured._"
   ]
  },
  {
   "cell_type": "markdown",
   "metadata": {},
   "source": [
    "<a id='practice2'></a>\n",
    "## Guided Practice: Selecting Elements\n",
    "\n",
    "---\n",
    "\n",
    "1) How can we get a series of only text items for the page statistics section of our page?<br>\n",
    "2) We want to know only how many times Kiefer views the YouTube videos page per hour."
   ]
  },
  {
   "cell_type": "code",
   "execution_count": 17,
   "metadata": {},
   "outputs": [
    {
     "data": {
      "text/plain": [
       "[<Selector xpath='//li/text()' data='1,333,443'>,\n",
       " <Selector xpath='//li/text()' data='bla'>,\n",
       " <Selector xpath='//li/text()' data='01-22-2016'>,\n",
       " <Selector xpath='//li/text()' data='1,532'>,\n",
       " <Selector xpath='//li/text()' data='5,233.42'>]"
      ]
     },
     "execution_count": 17,
     "metadata": {},
     "output_type": "execute_result"
    }
   ],
   "source": [
    "# Get all text elements for the page statistics section.\n",
    "Selector(text=HTML).xpath('//li/text()')"
   ]
  },
  {
   "cell_type": "code",
   "execution_count": 18,
   "metadata": {},
   "outputs": [
    {
     "data": {
      "text/plain": [
       "['1,532']"
      ]
     },
     "execution_count": 18,
     "metadata": {},
     "output_type": "execute_result"
    }
   ],
   "source": [
    "# Get only the text for \"Kiefer's\" number of views per hour.\n",
    "Selector(text=HTML).xpath('//div[@class=\"page-stats-container\"]/li[4]/text()').extract()"
   ]
  },
  {
   "cell_type": "code",
   "execution_count": 19,
   "metadata": {},
   "outputs": [
    {
     "data": {
      "text/plain": [
       "['5,233.42']"
      ]
     },
     "execution_count": 19,
     "metadata": {},
     "output_type": "execute_result"
    }
   ],
   "source": [
    "# Get only the text for \"Kiefer's\" number of views per hour.\n",
    "Selector(text=HTML).xpath('//li[@id=\"kiefer-views-per-hour\"]/text()').extract()"
   ]
  },
  {
   "cell_type": "markdown",
   "metadata": {},
   "source": [
    "<a id='requests'></a>\n",
    "## A Quick Note on the Requests Module\n",
    "\n",
    "---\n",
    "\n",
    "The requests module is the gateway to interacting with the web using Python. We can:\n",
    "\n",
    " - Fetch web documents as strings\n",
    " - Decode JSON\n",
    " - Complete basic data munging with web documents\n",
    " - Download static files that aren't text, including:\n",
    "  - Images\n",
    "  - Videos\n",
    "  - Binary data\n",
    "\n",
    "\n",
    "Take some time and read up on requests:\n",
    "\n",
    "http://docs.python-requests.org/en/master/user/quickstart/"
   ]
  },
  {
   "cell_type": "markdown",
   "metadata": {},
   "source": [
    "<a id='practice3'></a>\n",
    "## Guided Practice: Scrape DataTau Headlines\n",
    "\n",
    "DataTau is a great site for data science news. Let's take its headlines using Python **`requests`** and practice selecting various elements.\n",
    "\n",
    "Using the <a href=\"https://chrome.google.com/webstore/detail/xpath-helper/hgimnogjllphhhkhlmebbmlgjoejdpjl?hl=en\">XPath Helper Chrome plugin</a> _(cmd-shift-x)_ and the Chrome Inspect feature, let's explore the structure of the page.\n",
    "\n",
    "_Here's a <a href=\"https://www.youtube.com/watch?v=i2Li1vnv09U\">concise video</a> that demonstrates the basic Inspect feature in Chrome._"
   ]
  },
  {
   "cell_type": "code",
   "execution_count": 20,
   "metadata": {},
   "outputs": [
    {
     "data": {
      "text/plain": [
       "'<html><head><link rel=\"stylesheet\" type=\"text/css\" href=\"news.css\">\\n<link rel=\"shortcut icon\" href=\"http://www.iconj.com/ico/d/x/dxo02ap56v.ico\">\\n<scr'"
      ]
     },
     "execution_count": 20,
     "metadata": {},
     "output_type": "execute_result"
    }
   ],
   "source": [
    "# Please only run this frame once to avoid hitting the site too hard all at once.\n",
    "import requests\n",
    "\n",
    "response = requests.get(\"http://www.datatau.com\")\n",
    "HTML = response.text  \n",
    "HTML[0:150]           # View the first 500 characters of the HTML index document for DataTau."
   ]
  },
  {
   "cell_type": "markdown",
   "metadata": {},
   "source": [
    "### Selecting Only the Headlines\n",
    "\n",
    "We'll use the XPath Helper tool to inspect the markup that comprises the **title** to find a pattern. Because there is more than one **title**, we expect to find a series of elements representing the **title** data we're interested in.\n",
    "\n",
    "In this example, we are referencing the **first center**, **third table row (`tr[3]`)** within the second **td having a class of \"title\" (`td[@class=\"title\"][2]`)** and the anchor tag within a **(`a/text()`)**.\n"
   ]
  },
  {
   "cell_type": "code",
   "execution_count": 21,
   "metadata": {},
   "outputs": [
    {
     "data": {
      "text/plain": [
       "['Comparison of the Most Useful Text Processing APIs',\n",
       " 'How to deliver on Machine Learning projects',\n",
       " 'Analyzing news headline sentiment with Python',\n",
       " 'Five Key Roles in Data Product Management',\n",
       " 'Insight Data Engineering & DevOps Engineering land in Seattle',\n",
       " 'Polyaxon 0.2.3: Experiment stability, better tracking, better visualization',\n",
       " 'Calculating the Age of the Universe',\n",
       " 'A/B Testing with a Data Science Approach',\n",
       " '10 Google Analytics reports to grow your blog and content',\n",
       " 'Top Data Science Interview Questions and Answers - Acing the AI Interview']"
      ]
     },
     "execution_count": 21,
     "metadata": {},
     "output_type": "execute_result"
    }
   ],
   "source": [
    "import pandas as pd\n",
    "\n",
    "titles = Selector(text=HTML).xpath('//td[@class=\"title\"]/a/text()').extract()\n",
    "titles[0:10] # The first five titles."
   ]
  },
  {
   "cell_type": "markdown",
   "metadata": {},
   "source": [
    "### How Can We Get the URLs From the Titles?"
   ]
  },
  {
   "cell_type": "code",
   "execution_count": 22,
   "metadata": {},
   "outputs": [
    {
     "data": {
      "text/plain": [
       "['/x?fnid=ko1F4BAu06',\n",
       " 'https://semanti.ca/blog/?the-most-important-skills-for-a-data-scientist',\n",
       " 'https://theexecute.com/automate-blog-posts-subscribers/',\n",
       " 'https://www.gethighlights.co/blog/fix-analytics-dashboards/',\n",
       " 'http://www.behind-the-enemy-lines.com/2018/01/how-many-mechanical-turk-workers-are.html',\n",
       " 'https://medium.com/acing-ai/ibm-artificial-intelligence-interview-questions-57ce1de3f6cf',\n",
       " 'https://data36.com/productive-data-scientist-not-more-smarter/',\n",
       " 'https://medium.com/activewizards-machine-learning-company/u-s-startups-locations-analysis-ab1e9cbf38df',\n",
       " 'https://data36.com/sql-data-analysis-workshop-online/',\n",
       " 'https://www.kettlebellkings.com/blog/kettlebells-muscular-endurance-for-combat-athletes/',\n",
       " 'https://medium.com/indeed-data-science/where-do-data-scientists-come-from-fc526023ace',\n",
       " 'https://github.com/polyaxon/rhea',\n",
       " 'https://www.indicative.com/blog/real-time-data-analysis-efficient-business/',\n",
       " 'https://medium.com/feature-labs-engineering/featuretools-on-spark-e5aa67eaf807',\n",
       " 'http://tech.marksblogg.com/working-with-data-feeds.html',\n",
       " 'https://medium.com/@Zelros/a-brief-history-of-machine-learning-models-explainability-f1c3301be9dc',\n",
       " 'https://www.datazar.com/focus/f1c76f153-ced1-47b3-be28-a96408d764a4',\n",
       " 'https://scortex.io/eccv-2018-deep-learning-summary/',\n",
       " 'https://www.interviewqs.com/ddi_code_snippets/prophet_intro',\n",
       " 'https://remicnrd.github.io/the-machine-learning-cheatsheet/',\n",
       " 'https://www.omnisci.com/blog/mapd-has-rebranded-to-omnisci/',\n",
       " 'https://medium.com/acing-ai/top-ai-interview-questions-answers-acing-the-ai-interview-61bf52ca34d4',\n",
       " 'https://www.gethighlights.co/blog/google-analytics-for-bloggers/',\n",
       " 'https://statsbot.co/blog/ab-testing-data-science/',\n",
       " 'https://axibase.com/use-cases/research/universe-age/',\n",
       " 'https://medium.com/polyaxon/polyaxon-0-2-3-experiment-stability-better-tracking-better-visualization-b81f318efbd1',\n",
       " 'https://blog.insightdatascience.com/insight-data-engineering-devops-engineering-land-in-seattle-3826bc52b4de',\n",
       " 'https://blog.insightdatascience.com/an-introduction-to-the-data-product-management-landscape-ef930afe6de5',\n",
       " 'https://www.interviewqs.com/blog/news_sentiment',\n",
       " 'https://blog.insightdatascience.com/how-to-deliver-on-machine-learning-projects-c8d82ce642b0',\n",
       " 'https://medium.com/activewizards-machine-learning-company/comparison-of-the-most-useful-text-processing-apis-e4b4c1e6626a']"
      ]
     },
     "execution_count": 22,
     "metadata": {},
     "output_type": "execute_result"
    }
   ],
   "source": [
    "urls = Selector(text=HTML).xpath('//td[@class=\"title\"]/a/@href').extract()\n",
    "urls[::-1]"
   ]
  },
  {
   "cell_type": "code",
   "execution_count": 23,
   "metadata": {},
   "outputs": [
    {
     "data": {
      "text/plain": [
       "['Comparison of the Most Useful Text Processing APIs',\n",
       " 'How to deliver on Machine Learning projects',\n",
       " 'Analyzing news headline sentiment with Python',\n",
       " 'Five Key Roles in Data Product Management',\n",
       " 'Insight Data Engineering & DevOps Engineering land in Seattle']"
      ]
     },
     "execution_count": 23,
     "metadata": {},
     "output_type": "execute_result"
    }
   ],
   "source": [
    "titles[0:5] # The first five titles."
   ]
  },
  {
   "cell_type": "markdown",
   "metadata": {},
   "source": [
    "### How Can We Get the Site Domain After the Title Within the Parentheses (i.e., stitchfix.com)?"
   ]
  },
  {
   "cell_type": "code",
   "execution_count": 24,
   "metadata": {},
   "outputs": [],
   "source": [
    "domains = Selector(text=HTML).xpath(\"//span[@class='comhead']/text()\").extract()"
   ]
  },
  {
   "cell_type": "code",
   "execution_count": 25,
   "metadata": {},
   "outputs": [
    {
     "data": {
      "text/plain": [
       "[' (medium.com) ',\n",
       " ' (insightdatascience.com) ',\n",
       " ' (interviewqs.com) ',\n",
       " ' (insightdatascience.com) ',\n",
       " ' (insightdatascience.com) ']"
      ]
     },
     "execution_count": 25,
     "metadata": {},
     "output_type": "execute_result"
    }
   ],
   "source": [
    "domains[0:5]"
   ]
  },
  {
   "cell_type": "markdown",
   "metadata": {},
   "source": [
    "### How About the Points?"
   ]
  },
  {
   "cell_type": "code",
   "execution_count": 26,
   "metadata": {},
   "outputs": [
    {
     "data": {
      "text/plain": [
       "['8 points', '6 points', '3 points', '5 points', '2 points']"
      ]
     },
     "execution_count": 26,
     "metadata": {},
     "output_type": "execute_result"
    }
   ],
   "source": [
    "points = Selector(text=HTML).xpath('//td[@class=\"subtext\"]/span/text()').extract()\n",
    "points[0:5]"
   ]
  },
  {
   "cell_type": "markdown",
   "metadata": {},
   "source": [
    "### How About the \"More\" Link?\n",
    "\n",
    "> *Hint: You can use `element[text()='exact text']` to find text elements matching specific text.*"
   ]
  },
  {
   "cell_type": "code",
   "execution_count": 27,
   "metadata": {},
   "outputs": [
    {
     "data": {
      "text/plain": [
       "['/x?fnid=ko1F4BAu06']"
      ]
     },
     "execution_count": 27,
     "metadata": {},
     "output_type": "execute_result"
    }
   ],
   "source": [
    "next_link = Selector(text=HTML).xpath('//a[text()=\"More\"]/@href').extract()\n",
    "next_link"
   ]
  },
  {
   "cell_type": "markdown",
   "metadata": {},
   "source": [
    "<a id='independent'></a>\n",
    "## Independent Practice\n",
    "\n",
    "---\n",
    "\n",
    "**For the next 30 minutes, try to grab the following from DataTau:**\n",
    "\n",
    "- Story titles\n",
    "- Story URL (href)\n",
    "- Domain\n",
    "- Points\n",
    "\n",
    "**Stretch goals:**\n",
    "- Author\n",
    "- Comment count\n",
    "\n",
    "**Put your results into a DataFrame.**\n",
    "\n",
    "- Perform a basic analysis of domains and point distributions\n",
    "\n",
    "**Bonus**\n",
    "\n",
    "Automatically find the next \"more\" link and mine the next page(s) until none exist. Logically, you can parse each page with this pseudocode:\n",
    "\n",
    "- Does the next link exist (a tag with `text == \"More\"`)?\n",
    "- Fetch the URL, prepended with domain (`datatau.com/(extracted link here)`)\n",
    "- Parse the page with `Selector(text=HTML).xpath('').extract()` to find the elements\n",
    "- Add to DataFrame\n",
    "\n",
    "> _Note: You might want to set a limit — something like 2–3 total requests per attempt — to avoid unnecessary transfer._\n"
   ]
  },
  {
   "cell_type": "code",
   "execution_count": 28,
   "metadata": {},
   "outputs": [],
   "source": [
    "url=\"http://www.datatau.com\"\n",
    "response  =  requests.get(url)\n",
    "links     =  Selector(text=response.text).xpath(\"//td[@class='title']/a/@href\").extract()\n",
    "titles    =  Selector(text=response.text).xpath(\"//td[@class='title']/a/text()\").extract()\n",
    "points    =  Selector(text=response.text).xpath(\"//td[@class='subtext']/span/text()\").extract()\n",
    "domains   =  Selector(text=response.text).xpath(\"//td[@class='title']/span/text()\").extract()\n",
    "authors   =  Selector(text=response.text).xpath(\"//td[@class='subtext']/a[contains(@href, 'user')]/text()\").extract()\n",
    "comments  =  Selector(text=response.text).xpath(\"//td[@class='subtext']/a[contains(@href, 'item')]/text()\").extract()\n",
    "\n",
    "expected_length = 30\n",
    "\n",
    "# Add [np.nan]*(expected_length - len(points)) to the end of the lists. It will fill in missing\n",
    "# values that sometimes don't exist at the end of the results.\n",
    "# scraped = dict(\n",
    "#     titles   =  titles[:30], \n",
    "#     links    =  links[:30], # :30 because of that \"more\" link.\n",
    "#     points   =  points + [np.nan]*(expected_length - len(points)),\n",
    "#     domains  =  domains + [np.nan]*(expected_length - len(domains)),\n",
    "#     authors  =  authors + [np.nan]*(expected_length - len(authors)),\n",
    "#     comments =  comments + [np.nan]*(expected_length - len(comments))\n",
    "# )"
   ]
  },
  {
   "cell_type": "code",
   "execution_count": 29,
   "metadata": {},
   "outputs": [
    {
     "data": {
      "text/plain": [
       "['Comparison of the Most Useful Text Processing APIs',\n",
       " 'How to deliver on Machine Learning projects',\n",
       " 'Analyzing news headline sentiment with Python',\n",
       " 'Five Key Roles in Data Product Management',\n",
       " 'Insight Data Engineering & DevOps Engineering land in Seattle',\n",
       " 'Polyaxon 0.2.3: Experiment stability, better tracking, better visualization',\n",
       " 'Calculating the Age of the Universe',\n",
       " 'A/B Testing with a Data Science Approach',\n",
       " '10 Google Analytics reports to grow your blog and content',\n",
       " 'Top Data Science Interview Questions and Answers - Acing the AI Interview',\n",
       " 'MapD has rebranded to OmniSci',\n",
       " 'A Machine Learning Cheatsheet',\n",
       " \"Introduction to time series forecasting in Python with FB's Prophet\",\n",
       " 'ECCV 2018 conference recap',\n",
       " 'Introduction to KNN in R',\n",
       " 'A Brief History of Machine Learning Models Explainability',\n",
       " 'Working with Data Feeds',\n",
       " 'Distributed feature engineering with Spark',\n",
       " 'How Real-Time Data Can Make Your Business More Efficient',\n",
       " 'Rhea: Efficient environment variables management and typing for python',\n",
       " 'Where do data scientists come from? Indeed.com research',\n",
       " 'Kettlebells Muscular Endurance for Combat Athletes',\n",
       " 'SQL For Beginners Live ONLINE Workshop',\n",
       " 'U.S. Startups Locations Analysis',\n",
       " 'How to be a more productive Data Scientist? Don’t do more, do it smarter!',\n",
       " 'IBM Watson Artificial Intelligence Interview Questions',\n",
       " 'How many Mechanical Turk workers are there? A capture-recapture analysis',\n",
       " 'Everything Wrong With Analytics Dashboards',\n",
       " 'How to Automate Blog Posts to Subscribers?',\n",
       " 'Hard and soft skills of successful data scientists',\n",
       " 'More']"
      ]
     },
     "execution_count": 29,
     "metadata": {},
     "output_type": "execute_result"
    }
   ],
   "source": [
    "titles"
   ]
  },
  {
   "cell_type": "code",
   "execution_count": 30,
   "metadata": {},
   "outputs": [
    {
     "data": {
      "text/plain": [
       "(31, 31, 30)"
      ]
     },
     "execution_count": 30,
     "metadata": {},
     "output_type": "execute_result"
    }
   ],
   "source": [
    "len(titles),len(links),len(authors)"
   ]
  },
  {
   "cell_type": "code",
   "execution_count": 32,
   "metadata": {
    "scrolled": false
   },
   "outputs": [
    {
     "name": "stdout",
     "output_type": "stream",
     "text": [
      "Fetching http://www.datatau.com/x?fnid=ko1F4BAu06...\n",
      "Fetching http://www.datatau.com/x?fnid=GDeIRwlKNn...\n",
      "Fetching http://www.datatau.com/x?fnid=GZSRkB3kTQ...\n",
      "Fetching http://www.datatau.com/x?fnid=9EeRUaFvpy...\n",
      "Fetching http://www.datatau.com/x?fnid=3EkcOsVH9T...\n",
      "Fetching http://www.datatau.com/x?fnid=bSyBYTe85G...\n"
     ]
    },
    {
     "data": {
      "text/html": [
       "<div>\n",
       "<style scoped>\n",
       "    .dataframe tbody tr th:only-of-type {\n",
       "        vertical-align: middle;\n",
       "    }\n",
       "\n",
       "    .dataframe tbody tr th {\n",
       "        vertical-align: top;\n",
       "    }\n",
       "\n",
       "    .dataframe thead th {\n",
       "        text-align: right;\n",
       "    }\n",
       "</style>\n",
       "<table border=\"1\" class=\"dataframe\">\n",
       "  <thead>\n",
       "    <tr style=\"text-align: right;\">\n",
       "      <th></th>\n",
       "      <th>index</th>\n",
       "      <th>titles</th>\n",
       "      <th>links</th>\n",
       "      <th>points</th>\n",
       "      <th>domains</th>\n",
       "      <th>authors</th>\n",
       "      <th>comments</th>\n",
       "    </tr>\n",
       "  </thead>\n",
       "  <tbody>\n",
       "    <tr>\n",
       "      <th>0</th>\n",
       "      <td>0</td>\n",
       "      <td>Webinar on Survey Analysis using Machine Learning</td>\n",
       "      <td>https://blog.paralleldots.com/product/webinar-...</td>\n",
       "      <td>4 points</td>\n",
       "      <td>(paralleldots.com)</td>\n",
       "      <td>shashankg22</td>\n",
       "      <td>discuss</td>\n",
       "    </tr>\n",
       "    <tr>\n",
       "      <th>1</th>\n",
       "      <td>1</td>\n",
       "      <td>Create TensorFlow Name Scopes For TensorBoard</td>\n",
       "      <td>https://www.aiworkbox.com/lessons/create-tenso...</td>\n",
       "      <td>3 points</td>\n",
       "      <td>(aiworkbox.com)</td>\n",
       "      <td>iheartai</td>\n",
       "      <td>discuss</td>\n",
       "    </tr>\n",
       "    <tr>\n",
       "      <th>2</th>\n",
       "      <td>2</td>\n",
       "      <td>AI and Data Science trends (ahead of DataWorks...</td>\n",
       "      <td>https://medium.com/inside-machine-learning/ai-...</td>\n",
       "      <td>3 points</td>\n",
       "      <td>(medium.com)</td>\n",
       "      <td>m_ly</td>\n",
       "      <td>discuss</td>\n",
       "    </tr>\n",
       "    <tr>\n",
       "      <th>3</th>\n",
       "      <td>3</td>\n",
       "      <td>How to get a free Lifeline Phone service in Maine</td>\n",
       "      <td>https://www.tagmobile.com/blog/how-to-get-a-fr...</td>\n",
       "      <td>3 points</td>\n",
       "      <td>(tagmobile.com)</td>\n",
       "      <td>tagmobile56007</td>\n",
       "      <td>discuss</td>\n",
       "    </tr>\n",
       "    <tr>\n",
       "      <th>4</th>\n",
       "      <td>4</td>\n",
       "      <td>Hadoop 3: Comparison with Hadoop 2 and Spark</td>\n",
       "      <td>https://medium.com/activewizards-machine-learn...</td>\n",
       "      <td>25 points</td>\n",
       "      <td>(medium.com)</td>\n",
       "      <td>tbugaevskii</td>\n",
       "      <td>discuss</td>\n",
       "    </tr>\n",
       "    <tr>\n",
       "      <th>5</th>\n",
       "      <td>5</td>\n",
       "      <td>Python Import Statement &amp; Built-in Modules for...</td>\n",
       "      <td>https://data36.com/python-import-built-in-modu...</td>\n",
       "      <td>16 points</td>\n",
       "      <td>(data36.com)</td>\n",
       "      <td>hiimtomi</td>\n",
       "      <td>discuss</td>\n",
       "    </tr>\n",
       "    <tr>\n",
       "      <th>6</th>\n",
       "      <td>6</td>\n",
       "      <td>Elitist shuffle for recommendation systems</td>\n",
       "      <td>https://blog.godatadriven.com/rod-elitist-shuffle</td>\n",
       "      <td>15 points</td>\n",
       "      <td>(godatadriven.com)</td>\n",
       "      <td>stijntonk</td>\n",
       "      <td>discuss</td>\n",
       "    </tr>\n",
       "    <tr>\n",
       "      <th>7</th>\n",
       "      <td>7</td>\n",
       "      <td>Getting Started with IPFS, Python, and Jupyter...</td>\n",
       "      <td>https://hackernoon.com/a-short-trip-to-jupyter...</td>\n",
       "      <td>3 points</td>\n",
       "      <td>(hackernoon.com)</td>\n",
       "      <td>andrewxhill</td>\n",
       "      <td>discuss</td>\n",
       "    </tr>\n",
       "    <tr>\n",
       "      <th>8</th>\n",
       "      <td>8</td>\n",
       "      <td>Reading and writing to Google Spreadsheets usi...</td>\n",
       "      <td>https://www.interviewqs.com/blog/python_sheets</td>\n",
       "      <td>5 points</td>\n",
       "      <td>(interviewqs.com)</td>\n",
       "      <td>ddinterview</td>\n",
       "      <td>discuss</td>\n",
       "    </tr>\n",
       "    <tr>\n",
       "      <th>9</th>\n",
       "      <td>9</td>\n",
       "      <td>An Interview with Jesse Steinweg-Woods — Ph.D,...</td>\n",
       "      <td>https://medium.com/acing-ai/in-conversation-wi...</td>\n",
       "      <td>3 points</td>\n",
       "      <td>(medium.com)</td>\n",
       "      <td>vimarshk</td>\n",
       "      <td>discuss</td>\n",
       "    </tr>\n",
       "    <tr>\n",
       "      <th>10</th>\n",
       "      <td>10</td>\n",
       "      <td>SQL For Data Analysis Workshop (for Beginners)...</td>\n",
       "      <td>https://data36.com/sql-for-data-analysis-works...</td>\n",
       "      <td>5 points</td>\n",
       "      <td>(data36.com)</td>\n",
       "      <td>hiimtomi</td>\n",
       "      <td>1 comment</td>\n",
       "    </tr>\n",
       "    <tr>\n",
       "      <th>11</th>\n",
       "      <td>11</td>\n",
       "      <td>Ask DT: What are you using HDFS for?</td>\n",
       "      <td>item?id=25062</td>\n",
       "      <td>2 points</td>\n",
       "      <td>(data-recovery-solutions.com)</td>\n",
       "      <td>marklit</td>\n",
       "      <td>discuss</td>\n",
       "    </tr>\n",
       "    <tr>\n",
       "      <th>12</th>\n",
       "      <td>12</td>\n",
       "      <td>NN matlab toolbox</td>\n",
       "      <td>item?id=25035</td>\n",
       "      <td>2 points</td>\n",
       "      <td>(github.com)</td>\n",
       "      <td>N3ur0n15</td>\n",
       "      <td>discuss</td>\n",
       "    </tr>\n",
       "    <tr>\n",
       "      <th>13</th>\n",
       "      <td>13</td>\n",
       "      <td>Easy and manual ways to archive emails in MS O...</td>\n",
       "      <td>http://www.data-recovery-solutions.com/blog/ar...</td>\n",
       "      <td>2 points</td>\n",
       "      <td>(medium.com)</td>\n",
       "      <td>Arnbse</td>\n",
       "      <td>discuss</td>\n",
       "    </tr>\n",
       "    <tr>\n",
       "      <th>14</th>\n",
       "      <td>14</td>\n",
       "      <td>Dbx: A fast, easy-to-use database library for ...</td>\n",
       "      <td>https://github.com/ankane/dbx</td>\n",
       "      <td>2 points</td>\n",
       "      <td>(byteacademy.co)</td>\n",
       "      <td>ankane</td>\n",
       "      <td>discuss</td>\n",
       "    </tr>\n",
       "    <tr>\n",
       "      <th>15</th>\n",
       "      <td>15</td>\n",
       "      <td>How to easily do Semantic Segmentation using D...</td>\n",
       "      <td>https://medium.com/nanonets/how-to-do-image-se...</td>\n",
       "      <td>22 points</td>\n",
       "      <td>(circonus.com)</td>\n",
       "      <td>agandhi</td>\n",
       "      <td>discuss</td>\n",
       "    </tr>\n",
       "    <tr>\n",
       "      <th>16</th>\n",
       "      <td>16</td>\n",
       "      <td>Great list of datasets to explore deep learnin...</td>\n",
       "      <td>http://byteacademy.co/blog/datasets-deep-learning</td>\n",
       "      <td>18 points</td>\n",
       "      <td>(mapd.com)</td>\n",
       "      <td>saloni_S</td>\n",
       "      <td>2 comments</td>\n",
       "    </tr>\n",
       "    <tr>\n",
       "      <th>17</th>\n",
       "      <td>17</td>\n",
       "      <td>Less Toil, More Coil – Telemetry Analysis with...</td>\n",
       "      <td>https://www.circonus.com/2018/05/less-toil-mor...</td>\n",
       "      <td>6 points</td>\n",
       "      <td>(circonus.com)</td>\n",
       "      <td>Crusso3</td>\n",
       "      <td>discuss</td>\n",
       "    </tr>\n",
       "    <tr>\n",
       "      <th>18</th>\n",
       "      <td>18</td>\n",
       "      <td>Visualizing the bitcoin blockchain with a fast...</td>\n",
       "      <td>https://www.mapd.com/blog/bitcoin-transactions...</td>\n",
       "      <td>4 points</td>\n",
       "      <td>(harderchoices.com)</td>\n",
       "      <td>tmostak</td>\n",
       "      <td>discuss</td>\n",
       "    </tr>\n",
       "    <tr>\n",
       "      <th>19</th>\n",
       "      <td>19</td>\n",
       "      <td>Effective Management of High Volume Numeric Da...</td>\n",
       "      <td>https://www.circonus.com/2018/05/effective-man...</td>\n",
       "      <td>16 points</td>\n",
       "      <td>(randyzwitch.com)</td>\n",
       "      <td>Crusso3</td>\n",
       "      <td>4 comments</td>\n",
       "    </tr>\n",
       "    <tr>\n",
       "      <th>20</th>\n",
       "      <td>20</td>\n",
       "      <td>Temporal Difference Learning in Python</td>\n",
       "      <td>https://harderchoices.com/2018/06/07/temporal-...</td>\n",
       "      <td>3 points</td>\n",
       "      <td>(pixlab.io)</td>\n",
       "      <td>jeerr</td>\n",
       "      <td>discuss</td>\n",
       "    </tr>\n",
       "    <tr>\n",
       "      <th>21</th>\n",
       "      <td>21</td>\n",
       "      <td>Bulk Loading Shapefiles Using Bash</td>\n",
       "      <td>https://randyzwitch.com/bulk-loading-postgis/</td>\n",
       "      <td>4 points</td>\n",
       "      <td>(ilovefreesoftware.com)</td>\n",
       "      <td>randyzwitch</td>\n",
       "      <td>discuss</td>\n",
       "    </tr>\n",
       "    <tr>\n",
       "      <th>22</th>\n",
       "      <td>22</td>\n",
       "      <td>SOD - An Embedded Computer Vision and Machine ...</td>\n",
       "      <td>https://sod.pixlab.io</td>\n",
       "      <td>3 points</td>\n",
       "      <td>(statsbot.co)</td>\n",
       "      <td>dean</td>\n",
       "      <td>discuss</td>\n",
       "    </tr>\n",
       "    <tr>\n",
       "      <th>23</th>\n",
       "      <td>23</td>\n",
       "      <td>Facebook Messenger Bot to Summarize Documents,...</td>\n",
       "      <td>http://www.ilovefreesoftware.com/18/webware/fa...</td>\n",
       "      <td>4 points</td>\n",
       "      <td>(statsbot.co)</td>\n",
       "      <td>tashamay</td>\n",
       "      <td>discuss</td>\n",
       "    </tr>\n",
       "    <tr>\n",
       "      <th>24</th>\n",
       "      <td>24</td>\n",
       "      <td>How to speed up PostgreSQL performance 100x</td>\n",
       "      <td>https://statsbot.co/blog/postgresql-query-opti...</td>\n",
       "      <td>11 points</td>\n",
       "      <td>(toronto.edu)</td>\n",
       "      <td>upiter</td>\n",
       "      <td>discuss</td>\n",
       "    </tr>\n",
       "    <tr>\n",
       "      <th>25</th>\n",
       "      <td>25</td>\n",
       "      <td>Data Scientist Resume Projects</td>\n",
       "      <td>https://statsbot.co/blog/data-scientist-resume...</td>\n",
       "      <td>15 points</td>\n",
       "      <td>(insightdatascience.com)</td>\n",
       "      <td>coder</td>\n",
       "      <td>discuss</td>\n",
       "    </tr>\n",
       "    <tr>\n",
       "      <th>26</th>\n",
       "      <td>26</td>\n",
       "      <td>Applications of the geometric mean</td>\n",
       "      <td>https://www.math.toronto.edu/mathnet/questionC...</td>\n",
       "      <td>4 points</td>\n",
       "      <td>(paralleldots.com)</td>\n",
       "      <td>calendar</td>\n",
       "      <td>discuss</td>\n",
       "    </tr>\n",
       "    <tr>\n",
       "      <th>27</th>\n",
       "      <td>27</td>\n",
       "      <td>A Marketplace for AI</td>\n",
       "      <td>item?id=24874</td>\n",
       "      <td>3 points</td>\n",
       "      <td>NaN</td>\n",
       "      <td>AI-Store</td>\n",
       "      <td>1 comment</td>\n",
       "    </tr>\n",
       "    <tr>\n",
       "      <th>28</th>\n",
       "      <td>28</td>\n",
       "      <td>AI at massive scale, and Reinforcement Learnin...</td>\n",
       "      <td>https://blog.insightdatascience.com/ai-at-mass...</td>\n",
       "      <td>14 points</td>\n",
       "      <td>NaN</td>\n",
       "      <td>e_ameisen</td>\n",
       "      <td>2 comments</td>\n",
       "    </tr>\n",
       "    <tr>\n",
       "      <th>29</th>\n",
       "      <td>29</td>\n",
       "      <td>Ten Machine Learning Algorithms You Should Kno...</td>\n",
       "      <td>https://blog.paralleldots.com/data-science/mac...</td>\n",
       "      <td>14 points</td>\n",
       "      <td>NaN</td>\n",
       "      <td>shashankg22</td>\n",
       "      <td>3 comments</td>\n",
       "    </tr>\n",
       "    <tr>\n",
       "      <th>...</th>\n",
       "      <td>...</td>\n",
       "      <td>...</td>\n",
       "      <td>...</td>\n",
       "      <td>...</td>\n",
       "      <td>...</td>\n",
       "      <td>...</td>\n",
       "      <td>...</td>\n",
       "    </tr>\n",
       "    <tr>\n",
       "      <th>180</th>\n",
       "      <td>0</td>\n",
       "      <td>Comparison of the Most Useful Text Processing ...</td>\n",
       "      <td>https://medium.com/activewizards-machine-learn...</td>\n",
       "      <td>8 points</td>\n",
       "      <td>(medium.com)</td>\n",
       "      <td>viktoriia_shu</td>\n",
       "      <td>discuss</td>\n",
       "    </tr>\n",
       "    <tr>\n",
       "      <th>181</th>\n",
       "      <td>1</td>\n",
       "      <td>How to deliver on Machine Learning projects</td>\n",
       "      <td>https://blog.insightdatascience.com/how-to-del...</td>\n",
       "      <td>6 points</td>\n",
       "      <td>(insightdatascience.com)</td>\n",
       "      <td>e_ameisen</td>\n",
       "      <td>discuss</td>\n",
       "    </tr>\n",
       "    <tr>\n",
       "      <th>182</th>\n",
       "      <td>2</td>\n",
       "      <td>Analyzing news headline sentiment with Python</td>\n",
       "      <td>https://www.interviewqs.com/blog/news_sentiment</td>\n",
       "      <td>3 points</td>\n",
       "      <td>(interviewqs.com)</td>\n",
       "      <td>qvorak</td>\n",
       "      <td>discuss</td>\n",
       "    </tr>\n",
       "    <tr>\n",
       "      <th>183</th>\n",
       "      <td>3</td>\n",
       "      <td>Five Key Roles in Data Product Management</td>\n",
       "      <td>https://blog.insightdatascience.com/an-introdu...</td>\n",
       "      <td>5 points</td>\n",
       "      <td>(insightdatascience.com)</td>\n",
       "      <td>mwakanosya</td>\n",
       "      <td>discuss</td>\n",
       "    </tr>\n",
       "    <tr>\n",
       "      <th>184</th>\n",
       "      <td>4</td>\n",
       "      <td>Insight Data Engineering &amp; DevOps Engineering ...</td>\n",
       "      <td>https://blog.insightdatascience.com/insight-da...</td>\n",
       "      <td>2 points</td>\n",
       "      <td>(insightdatascience.com)</td>\n",
       "      <td>ddrum001</td>\n",
       "      <td>discuss</td>\n",
       "    </tr>\n",
       "    <tr>\n",
       "      <th>185</th>\n",
       "      <td>5</td>\n",
       "      <td>Polyaxon 0.2.3: Experiment stability, better t...</td>\n",
       "      <td>https://medium.com/polyaxon/polyaxon-0-2-3-exp...</td>\n",
       "      <td>4 points</td>\n",
       "      <td>(medium.com)</td>\n",
       "      <td>mmq</td>\n",
       "      <td>discuss</td>\n",
       "    </tr>\n",
       "    <tr>\n",
       "      <th>186</th>\n",
       "      <td>6</td>\n",
       "      <td>Calculating the Age of the Universe</td>\n",
       "      <td>https://axibase.com/use-cases/research/univers...</td>\n",
       "      <td>2 points</td>\n",
       "      <td>(axibase.com)</td>\n",
       "      <td>kghamilton89</td>\n",
       "      <td>discuss</td>\n",
       "    </tr>\n",
       "    <tr>\n",
       "      <th>187</th>\n",
       "      <td>7</td>\n",
       "      <td>A/B Testing with a Data Science Approach</td>\n",
       "      <td>https://statsbot.co/blog/ab-testing-data-science/</td>\n",
       "      <td>8 points</td>\n",
       "      <td>(statsbot.co)</td>\n",
       "      <td>albanotte</td>\n",
       "      <td>discuss</td>\n",
       "    </tr>\n",
       "    <tr>\n",
       "      <th>188</th>\n",
       "      <td>8</td>\n",
       "      <td>10 Google Analytics reports to grow your blog ...</td>\n",
       "      <td>https://www.gethighlights.co/blog/google-analy...</td>\n",
       "      <td>2 points</td>\n",
       "      <td>(gethighlights.co)</td>\n",
       "      <td>highlights</td>\n",
       "      <td>discuss</td>\n",
       "    </tr>\n",
       "    <tr>\n",
       "      <th>189</th>\n",
       "      <td>9</td>\n",
       "      <td>Top Data Science Interview Questions and Answe...</td>\n",
       "      <td>https://medium.com/acing-ai/top-ai-interview-q...</td>\n",
       "      <td>2 points</td>\n",
       "      <td>(medium.com)</td>\n",
       "      <td>vimarshk</td>\n",
       "      <td>discuss</td>\n",
       "    </tr>\n",
       "    <tr>\n",
       "      <th>190</th>\n",
       "      <td>10</td>\n",
       "      <td>MapD has rebranded to OmniSci</td>\n",
       "      <td>https://www.omnisci.com/blog/mapd-has-rebrande...</td>\n",
       "      <td>7 points</td>\n",
       "      <td>(omnisci.com)</td>\n",
       "      <td>randyzwitch</td>\n",
       "      <td>discuss</td>\n",
       "    </tr>\n",
       "    <tr>\n",
       "      <th>191</th>\n",
       "      <td>11</td>\n",
       "      <td>A Machine Learning Cheatsheet</td>\n",
       "      <td>https://remicnrd.github.io/the-machine-learnin...</td>\n",
       "      <td>27 points</td>\n",
       "      <td>(github.io)</td>\n",
       "      <td>adopu</td>\n",
       "      <td>1 comment</td>\n",
       "    </tr>\n",
       "    <tr>\n",
       "      <th>192</th>\n",
       "      <td>12</td>\n",
       "      <td>Introduction to time series forecasting in Pyt...</td>\n",
       "      <td>https://www.interviewqs.com/ddi_code_snippets/...</td>\n",
       "      <td>7 points</td>\n",
       "      <td>(interviewqs.com)</td>\n",
       "      <td>qvorak</td>\n",
       "      <td>discuss</td>\n",
       "    </tr>\n",
       "    <tr>\n",
       "      <th>193</th>\n",
       "      <td>13</td>\n",
       "      <td>ECCV 2018 conference recap</td>\n",
       "      <td>https://scortex.io/eccv-2018-deep-learning-sum...</td>\n",
       "      <td>7 points</td>\n",
       "      <td>(scortex.io)</td>\n",
       "      <td>gpierre</td>\n",
       "      <td>1 comment</td>\n",
       "    </tr>\n",
       "    <tr>\n",
       "      <th>194</th>\n",
       "      <td>14</td>\n",
       "      <td>Introduction to KNN in R</td>\n",
       "      <td>https://www.datazar.com/focus/f1c76f153-ced1-4...</td>\n",
       "      <td>2 points</td>\n",
       "      <td>(datazar.com)</td>\n",
       "      <td>ata_aman</td>\n",
       "      <td>discuss</td>\n",
       "    </tr>\n",
       "    <tr>\n",
       "      <th>195</th>\n",
       "      <td>15</td>\n",
       "      <td>A Brief History of Machine Learning Models Exp...</td>\n",
       "      <td>https://medium.com/@Zelros/a-brief-history-of-...</td>\n",
       "      <td>5 points</td>\n",
       "      <td>(medium.com)</td>\n",
       "      <td>kriss</td>\n",
       "      <td>discuss</td>\n",
       "    </tr>\n",
       "    <tr>\n",
       "      <th>196</th>\n",
       "      <td>16</td>\n",
       "      <td>Working with Data Feeds</td>\n",
       "      <td>http://tech.marksblogg.com/working-with-data-f...</td>\n",
       "      <td>5 points</td>\n",
       "      <td>(marksblogg.com)</td>\n",
       "      <td>marklit</td>\n",
       "      <td>discuss</td>\n",
       "    </tr>\n",
       "    <tr>\n",
       "      <th>197</th>\n",
       "      <td>17</td>\n",
       "      <td>Distributed feature engineering with Spark</td>\n",
       "      <td>https://medium.com/feature-labs-engineering/fe...</td>\n",
       "      <td>3 points</td>\n",
       "      <td>(medium.com)</td>\n",
       "      <td>kmax12</td>\n",
       "      <td>discuss</td>\n",
       "    </tr>\n",
       "    <tr>\n",
       "      <th>198</th>\n",
       "      <td>18</td>\n",
       "      <td>How Real-Time Data Can Make Your Business More...</td>\n",
       "      <td>https://www.indicative.com/blog/real-time-data...</td>\n",
       "      <td>6 points</td>\n",
       "      <td>(indicative.com)</td>\n",
       "      <td>lfeiner</td>\n",
       "      <td>discuss</td>\n",
       "    </tr>\n",
       "    <tr>\n",
       "      <th>199</th>\n",
       "      <td>19</td>\n",
       "      <td>Rhea: Efficient environment variables manageme...</td>\n",
       "      <td>https://github.com/polyaxon/rhea</td>\n",
       "      <td>6 points</td>\n",
       "      <td>(github.com)</td>\n",
       "      <td>mmq</td>\n",
       "      <td>discuss</td>\n",
       "    </tr>\n",
       "    <tr>\n",
       "      <th>200</th>\n",
       "      <td>20</td>\n",
       "      <td>Where do data scientists come from? Indeed.com...</td>\n",
       "      <td>https://medium.com/indeed-data-science/where-d...</td>\n",
       "      <td>5 points</td>\n",
       "      <td>(medium.com)</td>\n",
       "      <td>eoberg</td>\n",
       "      <td>discuss</td>\n",
       "    </tr>\n",
       "    <tr>\n",
       "      <th>201</th>\n",
       "      <td>21</td>\n",
       "      <td>Kettlebells Muscular Endurance for Combat Athl...</td>\n",
       "      <td>https://www.kettlebellkings.com/blog/kettlebel...</td>\n",
       "      <td>3 points</td>\n",
       "      <td>(kettlebellkings.com)</td>\n",
       "      <td>KettlebellKings</td>\n",
       "      <td>discuss</td>\n",
       "    </tr>\n",
       "    <tr>\n",
       "      <th>202</th>\n",
       "      <td>22</td>\n",
       "      <td>SQL For Beginners Live ONLINE Workshop</td>\n",
       "      <td>https://data36.com/sql-data-analysis-workshop-...</td>\n",
       "      <td>5 points</td>\n",
       "      <td>(data36.com)</td>\n",
       "      <td>Bazorpazorb</td>\n",
       "      <td>discuss</td>\n",
       "    </tr>\n",
       "    <tr>\n",
       "      <th>203</th>\n",
       "      <td>23</td>\n",
       "      <td>U.S. Startups Locations Analysis</td>\n",
       "      <td>https://medium.com/activewizards-machine-learn...</td>\n",
       "      <td>12 points</td>\n",
       "      <td>(medium.com)</td>\n",
       "      <td>tbugaevskii</td>\n",
       "      <td>discuss</td>\n",
       "    </tr>\n",
       "    <tr>\n",
       "      <th>204</th>\n",
       "      <td>24</td>\n",
       "      <td>How to be a more productive Data Scientist? Do...</td>\n",
       "      <td>https://data36.com/productive-data-scientist-n...</td>\n",
       "      <td>2 points</td>\n",
       "      <td>(data36.com)</td>\n",
       "      <td>Bazorpazorb</td>\n",
       "      <td>discuss</td>\n",
       "    </tr>\n",
       "    <tr>\n",
       "      <th>205</th>\n",
       "      <td>25</td>\n",
       "      <td>IBM Watson Artificial Intelligence Interview Q...</td>\n",
       "      <td>https://medium.com/acing-ai/ibm-artificial-int...</td>\n",
       "      <td>2 points</td>\n",
       "      <td>(medium.com)</td>\n",
       "      <td>vimarshk</td>\n",
       "      <td>discuss</td>\n",
       "    </tr>\n",
       "    <tr>\n",
       "      <th>206</th>\n",
       "      <td>26</td>\n",
       "      <td>How many Mechanical Turk workers are there? A ...</td>\n",
       "      <td>http://www.behind-the-enemy-lines.com/2018/01/...</td>\n",
       "      <td>4 points</td>\n",
       "      <td>(behind-the-enemy-lines.com)</td>\n",
       "      <td>pirot</td>\n",
       "      <td>discuss</td>\n",
       "    </tr>\n",
       "    <tr>\n",
       "      <th>207</th>\n",
       "      <td>27</td>\n",
       "      <td>Everything Wrong With Analytics Dashboards</td>\n",
       "      <td>https://www.gethighlights.co/blog/fix-analytic...</td>\n",
       "      <td>4 points</td>\n",
       "      <td>(gethighlights.co)</td>\n",
       "      <td>highlights</td>\n",
       "      <td>discuss</td>\n",
       "    </tr>\n",
       "    <tr>\n",
       "      <th>208</th>\n",
       "      <td>28</td>\n",
       "      <td>How to Automate Blog Posts to Subscribers?</td>\n",
       "      <td>https://theexecute.com/automate-blog-posts-sub...</td>\n",
       "      <td>3 points</td>\n",
       "      <td>(theexecute.com)</td>\n",
       "      <td>theexecute</td>\n",
       "      <td>discuss</td>\n",
       "    </tr>\n",
       "    <tr>\n",
       "      <th>209</th>\n",
       "      <td>29</td>\n",
       "      <td>Hard and soft skills of successful data scient...</td>\n",
       "      <td>https://semanti.ca/blog/?the-most-important-sk...</td>\n",
       "      <td>3 points</td>\n",
       "      <td>(semanti.ca)</td>\n",
       "      <td>RudyWurlitzer</td>\n",
       "      <td>discuss</td>\n",
       "    </tr>\n",
       "  </tbody>\n",
       "</table>\n",
       "<p>210 rows × 7 columns</p>\n",
       "</div>"
      ],
      "text/plain": [
       "     index                                             titles  \\\n",
       "0        0  Webinar on Survey Analysis using Machine Learning   \n",
       "1        1      Create TensorFlow Name Scopes For TensorBoard   \n",
       "2        2  AI and Data Science trends (ahead of DataWorks...   \n",
       "3        3  How to get a free Lifeline Phone service in Maine   \n",
       "4        4       Hadoop 3: Comparison with Hadoop 2 and Spark   \n",
       "5        5  Python Import Statement & Built-in Modules for...   \n",
       "6        6         Elitist shuffle for recommendation systems   \n",
       "7        7  Getting Started with IPFS, Python, and Jupyter...   \n",
       "8        8  Reading and writing to Google Spreadsheets usi...   \n",
       "9        9  An Interview with Jesse Steinweg-Woods — Ph.D,...   \n",
       "10      10  SQL For Data Analysis Workshop (for Beginners)...   \n",
       "11      11               Ask DT: What are you using HDFS for?   \n",
       "12      12                                  NN matlab toolbox   \n",
       "13      13  Easy and manual ways to archive emails in MS O...   \n",
       "14      14  Dbx: A fast, easy-to-use database library for ...   \n",
       "15      15  How to easily do Semantic Segmentation using D...   \n",
       "16      16  Great list of datasets to explore deep learnin...   \n",
       "17      17  Less Toil, More Coil – Telemetry Analysis with...   \n",
       "18      18  Visualizing the bitcoin blockchain with a fast...   \n",
       "19      19  Effective Management of High Volume Numeric Da...   \n",
       "20      20             Temporal Difference Learning in Python   \n",
       "21      21                 Bulk Loading Shapefiles Using Bash   \n",
       "22      22  SOD - An Embedded Computer Vision and Machine ...   \n",
       "23      23  Facebook Messenger Bot to Summarize Documents,...   \n",
       "24      24        How to speed up PostgreSQL performance 100x   \n",
       "25      25                     Data Scientist Resume Projects   \n",
       "26      26                 Applications of the geometric mean   \n",
       "27      27                               A Marketplace for AI   \n",
       "28      28  AI at massive scale, and Reinforcement Learnin...   \n",
       "29      29  Ten Machine Learning Algorithms You Should Kno...   \n",
       "..     ...                                                ...   \n",
       "180      0  Comparison of the Most Useful Text Processing ...   \n",
       "181      1        How to deliver on Machine Learning projects   \n",
       "182      2      Analyzing news headline sentiment with Python   \n",
       "183      3          Five Key Roles in Data Product Management   \n",
       "184      4  Insight Data Engineering & DevOps Engineering ...   \n",
       "185      5  Polyaxon 0.2.3: Experiment stability, better t...   \n",
       "186      6                Calculating the Age of the Universe   \n",
       "187      7           A/B Testing with a Data Science Approach   \n",
       "188      8  10 Google Analytics reports to grow your blog ...   \n",
       "189      9  Top Data Science Interview Questions and Answe...   \n",
       "190     10                      MapD has rebranded to OmniSci   \n",
       "191     11                      A Machine Learning Cheatsheet   \n",
       "192     12  Introduction to time series forecasting in Pyt...   \n",
       "193     13                         ECCV 2018 conference recap   \n",
       "194     14                           Introduction to KNN in R   \n",
       "195     15  A Brief History of Machine Learning Models Exp...   \n",
       "196     16                            Working with Data Feeds   \n",
       "197     17         Distributed feature engineering with Spark   \n",
       "198     18  How Real-Time Data Can Make Your Business More...   \n",
       "199     19  Rhea: Efficient environment variables manageme...   \n",
       "200     20  Where do data scientists come from? Indeed.com...   \n",
       "201     21  Kettlebells Muscular Endurance for Combat Athl...   \n",
       "202     22             SQL For Beginners Live ONLINE Workshop   \n",
       "203     23                   U.S. Startups Locations Analysis   \n",
       "204     24  How to be a more productive Data Scientist? Do...   \n",
       "205     25  IBM Watson Artificial Intelligence Interview Q...   \n",
       "206     26  How many Mechanical Turk workers are there? A ...   \n",
       "207     27         Everything Wrong With Analytics Dashboards   \n",
       "208     28         How to Automate Blog Posts to Subscribers?   \n",
       "209     29  Hard and soft skills of successful data scient...   \n",
       "\n",
       "                                                 links     points  \\\n",
       "0    https://blog.paralleldots.com/product/webinar-...   4 points   \n",
       "1    https://www.aiworkbox.com/lessons/create-tenso...   3 points   \n",
       "2    https://medium.com/inside-machine-learning/ai-...   3 points   \n",
       "3    https://www.tagmobile.com/blog/how-to-get-a-fr...   3 points   \n",
       "4    https://medium.com/activewizards-machine-learn...  25 points   \n",
       "5    https://data36.com/python-import-built-in-modu...  16 points   \n",
       "6    https://blog.godatadriven.com/rod-elitist-shuffle  15 points   \n",
       "7    https://hackernoon.com/a-short-trip-to-jupyter...   3 points   \n",
       "8       https://www.interviewqs.com/blog/python_sheets   5 points   \n",
       "9    https://medium.com/acing-ai/in-conversation-wi...   3 points   \n",
       "10   https://data36.com/sql-for-data-analysis-works...   5 points   \n",
       "11                                       item?id=25062   2 points   \n",
       "12                                       item?id=25035   2 points   \n",
       "13   http://www.data-recovery-solutions.com/blog/ar...   2 points   \n",
       "14                       https://github.com/ankane/dbx   2 points   \n",
       "15   https://medium.com/nanonets/how-to-do-image-se...  22 points   \n",
       "16   http://byteacademy.co/blog/datasets-deep-learning  18 points   \n",
       "17   https://www.circonus.com/2018/05/less-toil-mor...   6 points   \n",
       "18   https://www.mapd.com/blog/bitcoin-transactions...   4 points   \n",
       "19   https://www.circonus.com/2018/05/effective-man...  16 points   \n",
       "20   https://harderchoices.com/2018/06/07/temporal-...   3 points   \n",
       "21       https://randyzwitch.com/bulk-loading-postgis/   4 points   \n",
       "22                               https://sod.pixlab.io   3 points   \n",
       "23   http://www.ilovefreesoftware.com/18/webware/fa...   4 points   \n",
       "24   https://statsbot.co/blog/postgresql-query-opti...  11 points   \n",
       "25   https://statsbot.co/blog/data-scientist-resume...  15 points   \n",
       "26   https://www.math.toronto.edu/mathnet/questionC...   4 points   \n",
       "27                                       item?id=24874   3 points   \n",
       "28   https://blog.insightdatascience.com/ai-at-mass...  14 points   \n",
       "29   https://blog.paralleldots.com/data-science/mac...  14 points   \n",
       "..                                                 ...        ...   \n",
       "180  https://medium.com/activewizards-machine-learn...   8 points   \n",
       "181  https://blog.insightdatascience.com/how-to-del...   6 points   \n",
       "182    https://www.interviewqs.com/blog/news_sentiment   3 points   \n",
       "183  https://blog.insightdatascience.com/an-introdu...   5 points   \n",
       "184  https://blog.insightdatascience.com/insight-da...   2 points   \n",
       "185  https://medium.com/polyaxon/polyaxon-0-2-3-exp...   4 points   \n",
       "186  https://axibase.com/use-cases/research/univers...   2 points   \n",
       "187  https://statsbot.co/blog/ab-testing-data-science/   8 points   \n",
       "188  https://www.gethighlights.co/blog/google-analy...   2 points   \n",
       "189  https://medium.com/acing-ai/top-ai-interview-q...   2 points   \n",
       "190  https://www.omnisci.com/blog/mapd-has-rebrande...   7 points   \n",
       "191  https://remicnrd.github.io/the-machine-learnin...  27 points   \n",
       "192  https://www.interviewqs.com/ddi_code_snippets/...   7 points   \n",
       "193  https://scortex.io/eccv-2018-deep-learning-sum...   7 points   \n",
       "194  https://www.datazar.com/focus/f1c76f153-ced1-4...   2 points   \n",
       "195  https://medium.com/@Zelros/a-brief-history-of-...   5 points   \n",
       "196  http://tech.marksblogg.com/working-with-data-f...   5 points   \n",
       "197  https://medium.com/feature-labs-engineering/fe...   3 points   \n",
       "198  https://www.indicative.com/blog/real-time-data...   6 points   \n",
       "199                   https://github.com/polyaxon/rhea   6 points   \n",
       "200  https://medium.com/indeed-data-science/where-d...   5 points   \n",
       "201  https://www.kettlebellkings.com/blog/kettlebel...   3 points   \n",
       "202  https://data36.com/sql-data-analysis-workshop-...   5 points   \n",
       "203  https://medium.com/activewizards-machine-learn...  12 points   \n",
       "204  https://data36.com/productive-data-scientist-n...   2 points   \n",
       "205  https://medium.com/acing-ai/ibm-artificial-int...   2 points   \n",
       "206  http://www.behind-the-enemy-lines.com/2018/01/...   4 points   \n",
       "207  https://www.gethighlights.co/blog/fix-analytic...   4 points   \n",
       "208  https://theexecute.com/automate-blog-posts-sub...   3 points   \n",
       "209  https://semanti.ca/blog/?the-most-important-sk...   3 points   \n",
       "\n",
       "                             domains          authors    comments  \n",
       "0                (paralleldots.com)       shashankg22     discuss  \n",
       "1                   (aiworkbox.com)          iheartai     discuss  \n",
       "2                      (medium.com)              m_ly     discuss  \n",
       "3                   (tagmobile.com)    tagmobile56007     discuss  \n",
       "4                      (medium.com)       tbugaevskii     discuss  \n",
       "5                      (data36.com)          hiimtomi     discuss  \n",
       "6                (godatadriven.com)         stijntonk     discuss  \n",
       "7                  (hackernoon.com)       andrewxhill     discuss  \n",
       "8                 (interviewqs.com)       ddinterview     discuss  \n",
       "9                      (medium.com)          vimarshk     discuss  \n",
       "10                     (data36.com)          hiimtomi   1 comment  \n",
       "11    (data-recovery-solutions.com)           marklit     discuss  \n",
       "12                     (github.com)          N3ur0n15     discuss  \n",
       "13                     (medium.com)            Arnbse     discuss  \n",
       "14                 (byteacademy.co)            ankane     discuss  \n",
       "15                   (circonus.com)           agandhi     discuss  \n",
       "16                       (mapd.com)          saloni_S  2 comments  \n",
       "17                   (circonus.com)           Crusso3     discuss  \n",
       "18              (harderchoices.com)           tmostak     discuss  \n",
       "19                (randyzwitch.com)           Crusso3  4 comments  \n",
       "20                      (pixlab.io)             jeerr     discuss  \n",
       "21          (ilovefreesoftware.com)       randyzwitch     discuss  \n",
       "22                    (statsbot.co)              dean     discuss  \n",
       "23                    (statsbot.co)          tashamay     discuss  \n",
       "24                    (toronto.edu)            upiter     discuss  \n",
       "25         (insightdatascience.com)             coder     discuss  \n",
       "26               (paralleldots.com)          calendar     discuss  \n",
       "27                               NaN         AI-Store   1 comment  \n",
       "28                               NaN        e_ameisen  2 comments  \n",
       "29                               NaN      shashankg22  3 comments  \n",
       "..                               ...              ...         ...  \n",
       "180                    (medium.com)     viktoriia_shu     discuss  \n",
       "181        (insightdatascience.com)         e_ameisen     discuss  \n",
       "182               (interviewqs.com)            qvorak     discuss  \n",
       "183        (insightdatascience.com)        mwakanosya     discuss  \n",
       "184        (insightdatascience.com)          ddrum001     discuss  \n",
       "185                    (medium.com)               mmq     discuss  \n",
       "186                   (axibase.com)      kghamilton89     discuss  \n",
       "187                   (statsbot.co)         albanotte     discuss  \n",
       "188              (gethighlights.co)        highlights     discuss  \n",
       "189                    (medium.com)          vimarshk     discuss  \n",
       "190                   (omnisci.com)       randyzwitch     discuss  \n",
       "191                     (github.io)             adopu   1 comment  \n",
       "192               (interviewqs.com)            qvorak     discuss  \n",
       "193                    (scortex.io)           gpierre   1 comment  \n",
       "194                   (datazar.com)          ata_aman     discuss  \n",
       "195                    (medium.com)             kriss     discuss  \n",
       "196                (marksblogg.com)           marklit     discuss  \n",
       "197                    (medium.com)            kmax12     discuss  \n",
       "198                (indicative.com)           lfeiner     discuss  \n",
       "199                    (github.com)               mmq     discuss  \n",
       "200                    (medium.com)            eoberg     discuss  \n",
       "201           (kettlebellkings.com)   KettlebellKings     discuss  \n",
       "202                    (data36.com)       Bazorpazorb     discuss  \n",
       "203                    (medium.com)       tbugaevskii     discuss  \n",
       "204                    (data36.com)       Bazorpazorb     discuss  \n",
       "205                    (medium.com)          vimarshk     discuss  \n",
       "206    (behind-the-enemy-lines.com)             pirot     discuss  \n",
       "207              (gethighlights.co)        highlights     discuss  \n",
       "208                (theexecute.com)        theexecute     discuss  \n",
       "209                    (semanti.ca)     RudyWurlitzer     discuss  \n",
       "\n",
       "[210 rows x 7 columns]"
      ]
     },
     "execution_count": 32,
     "metadata": {},
     "output_type": "execute_result"
    }
   ],
   "source": [
    "import requests, numpy as np\n",
    "\n",
    "def parse_url(url=\"http://www.datatau.com\", data=False):\n",
    "    \n",
    "    response  =  requests.get(url)\n",
    "    links     =  Selector(text=response.text).xpath(\"//td[@class='title']/a/@href\").extract()\n",
    "    titles    =  Selector(text=response.text).xpath(\"//td[@class='title']/a/text()\").extract()\n",
    "    points    =  Selector(text=response.text).xpath(\"//td[@class='subtext']/span/text()\").extract()\n",
    "    domains   =  Selector(text=response.text).xpath(\"//td[@class='title']/span/text()\").extract()\n",
    "    authors   =  Selector(text=response.text).xpath(\"//td[@class='subtext']/a[contains(@href, 'user')]/text()\").extract()\n",
    "    comments  =  Selector(text=response.text).xpath(\"//td[@class='subtext']/a[contains(@href, 'item')]/text()\").extract()\n",
    "\n",
    "    expected_length = 30\n",
    "    \n",
    "    # Add [np.nan]*(expected_length - len(points)) to \n",
    "    # the end of the lists. It will fill in missing\n",
    "    # values that sometimes don't exist at the end of the results.\n",
    "    scraped = dict(\n",
    "        titles   =  titles[:30], \n",
    "        links    =  links[:30], # :30 because of that \"more\" link.\n",
    "        points   =  points + [np.nan]*(expected_length - len(points)),\n",
    "        domains  =  domains + [np.nan]*(expected_length - len(domains)),\n",
    "        authors  =  authors + [np.nan]*(expected_length - len(authors)),\n",
    "        comments =  comments + [np.nan]*(expected_length - len(comments))\n",
    "    )\n",
    "    \n",
    "    df = pd.DataFrame(scraped)\n",
    "    \n",
    "    if type(data) != bool:\n",
    "        data = df.append(data)\n",
    "    else:\n",
    "        data = df\n",
    "        \n",
    "    # If there's data, append them. \n",
    "    # If not, it's the first iteration so there's no need.\n",
    "    # Find \"more\" link.\n",
    "    more_anchor  =  Selector(text=response.text).xpath(\"//a[text() = 'More']/@href\").extract()\n",
    "    \n",
    "    if len(more_anchor) > 0:\n",
    "        more_url  =  \"http://www.datatau.com%s\" % more_anchor[0]\n",
    "        print(\"Fetching %s...\" % more_url)\n",
    "        return parse_url(more_url, data=data)\n",
    "    else:\n",
    "        return data.reset_index()\n",
    "       \n",
    "        \n",
    "df = parse_url(\"http://www.datatau.com\")\n",
    "df"
   ]
  }
 ],
 "metadata": {
  "anaconda-cloud": {},
  "kernelspec": {
   "display_name": "Python 3",
   "language": "python",
   "name": "python3"
  },
  "language_info": {
   "codemirror_mode": {
    "name": "ipython",
    "version": 3
   },
   "file_extension": ".py",
   "mimetype": "text/x-python",
   "name": "python",
   "nbconvert_exporter": "python",
   "pygments_lexer": "ipython3",
   "version": "3.6.6"
  }
 },
 "nbformat": 4,
 "nbformat_minor": 1
}
