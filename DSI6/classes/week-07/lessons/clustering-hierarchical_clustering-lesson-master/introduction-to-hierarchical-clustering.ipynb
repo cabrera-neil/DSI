{
 "cells": [
  {
   "cell_type": "markdown",
   "metadata": {
    "slideshow": {
     "slide_type": "notes"
    }
   },
   "source": [
    "> **Jupyter slideshow:** This notebook can be displayed as slides. To view it as a slideshow in your browser, type the following in the console:\n",
    "\n",
    "\n",
    "> `> ipython nbconvert [this_notebook.ipynb] --to slides --post serve`\n",
    "\n",
    "\n",
    "> To toggle off the slideshow cell formatting, click the `CellToolbar` button, then `View --> Cell Toolbar --> None`."
   ]
  },
  {
   "cell_type": "markdown",
   "metadata": {
    "slideshow": {
     "slide_type": "slide"
    }
   },
   "source": [
    "<img src=\"http://imgur.com/1ZcRyrc.png\" style=\"float: left; margin: 20px; height: 55px\">\n",
    "\n",
    "# Introduction to Hierarchical Clustering\n",
    "\n",
    "_Authors: David Yerrington (DC)_\n",
    "\n",
    "---\n",
    "\n",
    "![](https://snag.gy/J8iyBj.jpg)"
   ]
  },
  {
   "cell_type": "markdown",
   "metadata": {
    "slideshow": {
     "slide_type": "slide"
    }
   },
   "source": [
    "### Learning Objectives\n",
    "*By the end of this lesson, you will be able to:*\n",
    "\n",
    "- Define the hierarchical clustering algorithm.\n",
    "- Understand the differences between k-means and hierarchical clustering.\n",
    "- Identify the difference between agglomerative clustering and divisive clustering.\n",
    "- Plot, analyze, and understand a dendrogram.\n",
    "- Explore the cophenetic correlation coefficient.\n",
    "- Practice hierarchical clustering on language data.\n",
    "- Gain an intuition for how clusters are selected with an interactive visualization."
   ]
  },
  {
   "cell_type": "markdown",
   "metadata": {
    "slideshow": {
     "slide_type": "slide"
    }
   },
   "source": [
    "### Lesson Guide\n",
    "- [What is Hierarchical Clustering?](#what-is)\n",
    "- [When Does Hierarchical Clustering Perform Well?](#when)\n",
    "- [How is Hierarchical Clustering Different From K-Means Clustering?](#how)\n",
    "- [How Does Hierarchical Clustering Work?](#how-work)\n",
    "- [Single Linkage: Step-by-Step](#single)\n",
    "- [Hierarchical Clustering in Python](#python)\n",
    "    - [Evaluation With the Cophenetic Correlation Coefficient](#coph)\n",
    "- [Intuition Behind the Cophenetic Correlation Coefficient](#intuition)\n",
    "- [Visualizing Hierarchical Clustering on Language Skills Data](#guided-practice)\n",
    "- [Conclusion](#conclusion)\n",
    "- [Additional Resources](#resources)"
   ]
  },
  {
   "cell_type": "markdown",
   "metadata": {
    "slideshow": {
     "slide_type": "slide"
    }
   },
   "source": [
    "<a name=\"what-is\"></a>\n",
    "## What is Hierarchical Clustering?\n",
    "\n",
    "---\n",
    "\n",
    "Hierarchical clustering is another common form of clustering analysis. With this type of clustering, we seek to do exactly what its name suggests: \n",
    "\n",
    "- Build hierarchies of clusters.\n",
    "- Connect the clusters in the hierarchy with links.\n",
    "\n",
    "Once the links are determined, we can display them in what is called a **dendrogram** — a graph that displays these links in their hierarchical structure.\n",
    "\n",
    "![denex](./assets/denex.png)\n",
    "\n",
    "To find clusters in a dendrogram, we can cut the graph — we'll cover this later in the lesson. \n"
   ]
  },
  {
   "cell_type": "markdown",
   "metadata": {
    "slideshow": {
     "slide_type": "slide"
    }
   },
   "source": [
    "<a id='when'></a>\n",
    "## When Does Hierarchical Clustering Perform Well?\n",
    "\n",
    "---\n",
    "\n",
    "- Hierarchical clustering works well for non-spherical clusters.\n",
    "- It also works well on smaller data sets. _This algorithm has a longer computational time and doesn't work well for larger data sets._\n",
    "\n",
    "$$O(n^2 * n\\ features)$$\n",
    "\n",
    "#### Hierarchical clustering works well for instances when we are working with frequencies.\n",
    "\n",
    "For instance, say you tallied the amount of times a certain skill exists in a collection of resumes. **Because k-means computes *means*, this wouldn't give us very good clusters.**"
   ]
  },
  {
   "cell_type": "markdown",
   "metadata": {
    "slideshow": {
     "slide_type": "slide"
    }
   },
   "source": [
    "<a id='how'></a>\n",
    "## How is Hierarchical Clustering Different From K-Means Clustering?\n",
    "---\n",
    "\n",
    "![](https://snag.gy/tfzWw6.jpg)\n",
    "\n",
    "Hierarchical clustering, like k-means, is an unsupervised learning algorithm used to divide our data into groups. In k-means clustering, the algorithm groups data into a predefined set of clusters based on a process of determining the centroid points for the k clusters, calculating the geometric mean of classified points, and moving the centroid until no points change class.\n",
    "\n",
    "**In hierarchical clustering, the algorithm builds classification trees using the data that merge groups of similar data points.**\n",
    "\n",
    "In k-means, the boundaries between the various clusters are distinct and independent (see graph), whereas in hierarchical clustering, there are shared similarities between the groups represented by the classification tree.  \n",
    "\n",
    "**Hierarchical clustering does not require you to define `k` as an input.**\n",
    "\n",
    "![kmeans](./assets/kmeans.png)\n"
   ]
  },
  {
   "cell_type": "markdown",
   "metadata": {
    "slideshow": {
     "slide_type": "slide"
    }
   },
   "source": [
    "**K-Means**\n",
    "\n",
    "- Aims to achieve separation.\n",
    "- Partitions are independent of each other.\n",
    "\n",
    "**Hierarchical Clustering**\n",
    "\n",
    "- Partitions can be visualized using a tree structure (a dendrogram).\n",
    "- Does not need the number of clusters as input.\n",
    "- it's possible to view partitions at different levels of granularities (i.e., can it refine/coarsen clusters) using different `k`s.\n",
    "- Guaranteed to converge to the same solution (no random initialization).\n"
   ]
  },
  {
   "cell_type": "markdown",
   "metadata": {
    "slideshow": {
     "slide_type": "slide"
    }
   },
   "source": [
    "<a name=\"how-work\"></a>\n",
    "## How Does Hierarchical Clustering Work?\n",
    "\n",
    "---\n",
    "\n",
    "There are two forms of hierarchical clustering: **agglomerative hierarchical clustering** and **divisive hierarchical clustering**. \n",
    "- Agglomerative works from the bottom up, starting with single data points and merging them into groups.\n",
    "- Divisive works from the top down, starting with all of the data points and dividing them.\n",
    "\n",
    "Whether starting from the top or bottom, the algorithm makes the best choice it can at each step to join or split the data based on the current sample. The hope is that these neighborhood best choices will approximate or equal the global best choice for clusters. It's an example of a **greedy algorithm**.\n",
    "\n",
    "\n",
    "![](./assets/hier.png)\n",
    "\n",
    "Today, we'll look at one of the fundamental methods for agglomerative hierarchical clustering: **linkage clustering**. Linkage clustering iterates through data points and computes the distance between groups by computing the distance between two data points using the **nearest neighbor** technique (similar to KNN).\n",
    "\n",
    "> _Note: A **greedy algorithm** is an algorithm that follows the problem-solving heuristic of making the locally optimal choice at each stage with the hope of finding a global optimum._"
   ]
  },
  {
   "cell_type": "markdown",
   "metadata": {
    "slideshow": {
     "slide_type": "slide"
    }
   },
   "source": [
    "<a id='single'></a>\n",
    "## Single Linkage Step-by-Step\n",
    "\n",
    "---\n",
    "\n",
    "> **Note:** This walk through is for the agglomerative strategy.\n",
    "\n",
    "\n",
    "Single linkage is also known as minimum distance clustering or nearest neighbor clustering.\n",
    "\n",
    "![](assets/single_linkage.jpg)\n",
    "The distance between two clusters is defined by the minimum distance between objects of the two clusters. \n"
   ]
  },
  {
   "cell_type": "markdown",
   "metadata": {
    "slideshow": {
     "slide_type": "subslide"
    }
   },
   "source": [
    "\n",
    "#### First, Let's consider a single series of distances between `X` and `Y` points in a 2-D space, represented as a matrix.\n",
    "\n",
    "\n",
    "![](assets/distances.jpg)  \n",
    "\n",
    "_All points (A, B, C,...) are clusters._  \n",
    "In each step of the iteration, we find the closest pair of clusters.  \n",
    "Our end goal is to assemble all of these into a single cluster.  \n",
    "**In this case, the closest cluster is between cluster F and D with a distance of 0.5.**  \n",
    "**Thus, we group clusters D and F into cluster (D, F).**  "
   ]
  },
  {
   "cell_type": "markdown",
   "metadata": {
    "slideshow": {
     "slide_type": "subslide"
    }
   },
   "source": [
    "![](assets/distances2.jpg)  \n",
    "D and F turn into a cluster.  \n",
    "The distance matrix is updated (the distance between ungrouped clusters does not change).  \n",
    "**Now we have to figure out how to calculate the distance between the newly grouped clusters (D, F) and the other clusters.**"
   ]
  },
  {
   "cell_type": "markdown",
   "metadata": {
    "slideshow": {
     "slide_type": "subslide"
    }
   },
   "source": [
    "![](assets/distances3.jpg)  \n",
    "This is where our linkage function starts to do some work.  \n",
    "Using single linkage, we specify the minimum distance between the original objects of the two clusters.  \n",
    "We then find the minimum point from cluster ${d,f}$ to all other clusters.  \n",
    "$d(d,f)\\rightarrow a = min(d_{DA}, d_{FA}) = min(3.61, 3.20) = 3.20$  \n",
    "$d(d,f)\\rightarrow b = min(d_{DB}, d_{FB}) = min(2.92, 2.50) = 2.50$  \n",
    "$d(d,f)\\rightarrow c = min(d_{DC}, d_{FC}) = min(2.24, 2.50) = 2.24$  \n",
    "$d(d,f)\\rightarrow e = min(d_{DE}, d_{FE}) = min(1.00, 1.12) = 1.00$  \n"
   ]
  },
  {
   "cell_type": "markdown",
   "metadata": {
    "slideshow": {
     "slide_type": "subslide"
    }
   },
   "source": [
    "![](assets/distances4.jpg)  \n",
    "**Cluster B and cluster A are now 0.71, which creates cluster (A, B).**\n",
    "\n",
    "Now we update the distance matrix.\n",
    "Using the **original** input distance matrix (size six by six), distance between cluster C and cluster (D, F) is computed as:  \n",
    "\n",
    "\n",
    "$d_{(c)\\rightarrow (a,b)} = min(d_{CA}, d_{CB}) = min(5.66, 4.95) = 4.95$  \n",
    "\n",
    "\n",
    "The distance between cluster (D, F) and cluster (A, B) is the minimum distance between all objects involved in the two clusters. \n",
    "\n",
    "\n",
    "$d_{(d,f)\\rightarrow (a,b)} = min(d_{DA}, d_{DB}, d_{FA}, d_{FB}) = min(2.61, 2.92, 3.20, 2.50) = 2.50$  \n",
    "\n",
    "\n",
    "Now we compute $e$ and $(a,b)$.  \n",
    "\n",
    "$d(e)\\rightarrow (a,b) = min(d_{E}, d_{AB}) = min(4.24, 3.54) = 3.54$  \n"
   ]
  },
  {
   "cell_type": "markdown",
   "metadata": {
    "slideshow": {
     "slide_type": "subslide"
    }
   },
   "source": [
    "![](assets/distances5.jpg) \n",
    "**Here's our updated distance matrix:**  \n",
    "$d_{((D,F),E)\\rightarrow(AB)} = MIN(d_{DA},d_{DB},d_{FA},d_{FB},d_{EB}) = MIN(3.61, 2.92, 3.20, 2.50, 4.24, 3.54) = 2.50$  \n",
    "$d_{(D,F), E)\\rightarrow C} = MIN(d_{DF}, d_{FC}, d_{EC}) = MIN(2.24,2.50,1.41) = 1.41$  "
   ]
  },
  {
   "cell_type": "markdown",
   "metadata": {
    "slideshow": {
     "slide_type": "subslide"
    }
   },
   "source": [
    "![](assets/distances6.jpg) \n",
    "$d_{(((D,F), E),C)\\rightarrow(A, B)} = MIN(d_{DA},d_{DB},d_{FA}, d_{FB}, d_{EA}, d_{EB}, d_{CA}, d_{CB})$  \n",
    "$d_{(((D,F), E),C)\\rightarrow(A, B)} = MIN(3.61,2.92,3.20,2.50,4.24,3.54, 5.66, 4.95) = 2.50$\n",
    "  \n",
    "In the beginning, we had six clusters: A, B, C, D, E, and F.\n",
    "We merged cluster D and F into cluster (D, F) at distance<strong> 0.50</strong>.  \n",
    "We merged cluster A and cluster B into (A, B) at distance <strong>0.71</strong>.  \n",
    "We merged cluster E and (D, F) into ((D, F), E) at distance <strong>1.00</strong>.  \n",
    "We merged cluster ((D, F), E) and C into (((D, F), E), C) at distance <strong>1.41</strong>.  \n",
    "We merged cluster (((D, F), E), C) and (A, B) into ((((D, F), E), C), (A, B)) at distance <strong>2.50</strong>.   \n",
    "The last cluster contains all of the objects, thus concluding the computation.   \n",
    "**Our final result can be represented in terms of a dendrogram such as:**  \n",
    "\n",
    "![](assets/final.jpg) "
   ]
  },
  {
   "cell_type": "markdown",
   "metadata": {
    "slideshow": {
     "slide_type": "slide"
    }
   },
   "source": [
    "<a id='python'></a>\n",
    "## Hierarchical Clustering in Python\n",
    "\n",
    "---\n",
    "\n",
    "Implementing hierarchical clustering in Python is as simple as calling a function from the SciPy toolbox:\n",
    "\n",
    "```python\n",
    "Z = linkage(X, 'ward')\n",
    "```\n",
    "\n",
    "Here, `X` represents the matrix of data that we're clustering and `'ward'` tells our algorithm which method to use to calculate the distance between our newly formed clusters. In this case, we're using **Ward's Method**, which seeks to minimize the variance when forming clusters. When calculating distance, the default is **Euclidean distance**.\n",
    "\n",
    "After we cluster, we can calculate the dendrogram using a simple ```dendrogram()``` function from SciPy, which we can then draw using our handy  ```plt``` from Matplotlib. \n",
    "\n",
    "<a id='coph'></a>\n",
    "\n",
    "### Evaluation With the Cophenetic Correlation Coefficient\n",
    "\n",
    "To check how well our algorithm has measured the distance, we can calculate the **cophenetic correlation coefficient**. This metric measures the height of the dendrogram at the point where two branches merge. It can tell us how well the dendrogram has measured the distance between data points in the original data set.\n",
    "\n",
    "```python\n",
    "c, coph_dists = cophenet(Z, pdist(X))\n",
    "```\n",
    "\n",
    "Here, we call the cophenetic function using ```cophenet``` from SciPy and apply it to our clustered set, `Z`, and the distance of our original set, `X`. "
   ]
  },
  {
   "cell_type": "markdown",
   "metadata": {
    "slideshow": {
     "slide_type": "slide"
    }
   },
   "source": [
    "## Intuition for the Cophenetic Correlation Coefficient\n",
    "\n",
    "- Based on the interpoint distance within clusters.\n",
    "- Considers $MIN(C_i)$ when looking at the distance between clusters (product moment correlation).\n",
    "- Values closer to $one$ are considered good in terms of fusion (how well clusters sit with each other).\n",
    "\n",
    "[Detailed cophenetic coefficient calculation](https://en.wikipedia.org/wiki/Cophenetic_correlation#Calculating_the_cophenetic_correlation_coefficient).\n",
    "\n",
    "$$\n",
    "c = \\frac {\\sum_{i<j} (x(i,j) - \\bar{x})(t(i,j) - \\bar{t})}{\\sqrt{[\\sum_{i<j}(x(i,j)-\\bar{x})^2] [\\sum_{i<j}(t(i,j)-\\bar{t})^2]}}.\n",
    "$$\n",
    "\n",
    "\n",
    "\n"
   ]
  },
  {
   "cell_type": "markdown",
   "metadata": {
    "slideshow": {
     "slide_type": "slide"
    }
   },
   "source": [
    "<a name=\"guided-practice\"></a>\n",
    "## Visualizing Hierarchical Clustering on Language Skills Data\n",
    "\n",
    "---\n",
    "\n",
    "Let's say you're asked to perform a hierarchical clustering analysis on a new data set — how would you go about it?\n",
    "\n",
    "We'll now perform a hierarchical clustering analysis on a data set that details language skills from different European countries."
   ]
  },
  {
   "cell_type": "code",
   "execution_count": 1,
   "metadata": {
    "slideshow": {
     "slide_type": "slide"
    }
   },
   "outputs": [],
   "source": [
    "from matplotlib import pyplot as plt\n",
    "import seaborn as sns\n",
    "from scipy.cluster.hierarchy import dendrogram, linkage, cophenet, fcluster\n",
    "from scipy.spatial.distance import pdist\n",
    "import numpy as np\n",
    "import pandas as pd\n",
    "import os\n",
    "\n",
    "%matplotlib inline"
   ]
  },
  {
   "cell_type": "markdown",
   "metadata": {
    "slideshow": {
     "slide_type": "-"
    }
   },
   "source": [
    "We're going to be using **SciPy** for our analysis. Let's load in the data set using Pandas' ```read.csv()``` and check the head to see its structure."
   ]
  },
  {
   "cell_type": "code",
   "execution_count": 2,
   "metadata": {
    "scrolled": true,
    "slideshow": {
     "slide_type": "-"
    }
   },
   "outputs": [
    {
     "data": {
      "text/html": [
       "<div>\n",
       "<style scoped>\n",
       "    .dataframe tbody tr th:only-of-type {\n",
       "        vertical-align: middle;\n",
       "    }\n",
       "\n",
       "    .dataframe tbody tr th {\n",
       "        vertical-align: top;\n",
       "    }\n",
       "\n",
       "    .dataframe thead th {\n",
       "        text-align: right;\n",
       "    }\n",
       "</style>\n",
       "<table border=\"1\" class=\"dataframe\">\n",
       "  <thead>\n",
       "    <tr style=\"text-align: right;\">\n",
       "      <th></th>\n",
       "      <th>country</th>\n",
       "      <th>finnish</th>\n",
       "      <th>swedish</th>\n",
       "      <th>danish</th>\n",
       "      <th>norwegian</th>\n",
       "      <th>english</th>\n",
       "      <th>german</th>\n",
       "      <th>dutch</th>\n",
       "      <th>flemish</th>\n",
       "      <th>french</th>\n",
       "      <th>italian</th>\n",
       "      <th>spanish</th>\n",
       "      <th>portuguese</th>\n",
       "    </tr>\n",
       "  </thead>\n",
       "  <tbody>\n",
       "    <tr>\n",
       "      <th>0</th>\n",
       "      <td>1</td>\n",
       "      <td>0</td>\n",
       "      <td>0</td>\n",
       "      <td>0</td>\n",
       "      <td>0</td>\n",
       "      <td>21</td>\n",
       "      <td>100</td>\n",
       "      <td>2</td>\n",
       "      <td>1</td>\n",
       "      <td>10</td>\n",
       "      <td>2</td>\n",
       "      <td>1</td>\n",
       "      <td>0</td>\n",
       "    </tr>\n",
       "    <tr>\n",
       "      <th>1</th>\n",
       "      <td>2</td>\n",
       "      <td>0</td>\n",
       "      <td>0</td>\n",
       "      <td>0</td>\n",
       "      <td>0</td>\n",
       "      <td>5</td>\n",
       "      <td>3</td>\n",
       "      <td>0</td>\n",
       "      <td>0</td>\n",
       "      <td>11</td>\n",
       "      <td>100</td>\n",
       "      <td>1</td>\n",
       "      <td>0</td>\n",
       "    </tr>\n",
       "    <tr>\n",
       "      <th>2</th>\n",
       "      <td>3</td>\n",
       "      <td>0</td>\n",
       "      <td>2</td>\n",
       "      <td>3</td>\n",
       "      <td>0</td>\n",
       "      <td>10</td>\n",
       "      <td>7</td>\n",
       "      <td>1</td>\n",
       "      <td>1</td>\n",
       "      <td>100</td>\n",
       "      <td>12</td>\n",
       "      <td>7</td>\n",
       "      <td>1</td>\n",
       "    </tr>\n",
       "    <tr>\n",
       "      <th>3</th>\n",
       "      <td>4</td>\n",
       "      <td>0</td>\n",
       "      <td>0</td>\n",
       "      <td>0</td>\n",
       "      <td>0</td>\n",
       "      <td>41</td>\n",
       "      <td>47</td>\n",
       "      <td>100</td>\n",
       "      <td>100</td>\n",
       "      <td>16</td>\n",
       "      <td>2</td>\n",
       "      <td>2</td>\n",
       "      <td>0</td>\n",
       "    </tr>\n",
       "    <tr>\n",
       "      <th>4</th>\n",
       "      <td>5</td>\n",
       "      <td>0</td>\n",
       "      <td>0</td>\n",
       "      <td>0</td>\n",
       "      <td>0</td>\n",
       "      <td>14</td>\n",
       "      <td>15</td>\n",
       "      <td>0</td>\n",
       "      <td>59</td>\n",
       "      <td>44</td>\n",
       "      <td>2</td>\n",
       "      <td>1</td>\n",
       "      <td>0</td>\n",
       "    </tr>\n",
       "  </tbody>\n",
       "</table>\n",
       "</div>"
      ],
      "text/plain": [
       "   country  finnish  swedish  danish  norwegian  english  german  dutch  \\\n",
       "0        1        0        0       0          0       21     100      2   \n",
       "1        2        0        0       0          0        5       3      0   \n",
       "2        3        0        2       3          0       10       7      1   \n",
       "3        4        0        0       0          0       41      47    100   \n",
       "4        5        0        0       0          0       14      15      0   \n",
       "\n",
       "   flemish  french  italian  spanish  portuguese  \n",
       "0        1      10        2        1           0  \n",
       "1        0      11      100        1           0  \n",
       "2        1     100       12        7           1  \n",
       "3      100      16        2        2           0  \n",
       "4       59      44        2        1           0  "
      ]
     },
     "execution_count": 2,
     "metadata": {},
     "output_type": "execute_result"
    }
   ],
   "source": [
    "lang = pd.read_csv(\"./datasets/lang.csv\")\n",
    "lang.head()"
   ]
  },
  {
   "cell_type": "code",
   "execution_count": 3,
   "metadata": {
    "slideshow": {
     "slide_type": "-"
    }
   },
   "outputs": [
    {
     "data": {
      "image/png": "[encoded data removed]",
      "text/plain": [
       "<Figure size 432x288 with 1 Axes>"
      ]
     },
     "metadata": {},
     "output_type": "display_data"
    }
   ],
   "source": [
    "# How many clusters does it look like we have?\n",
    "plt.scatter(lang['german'], lang['english'])\n",
    "plt.show()"
   ]
  },
  {
   "cell_type": "markdown",
   "metadata": {},
   "source": [
    "Now let's convert our data to a matrix (a.k.a., array) to pass to the clustering algorithm — the matrix makes it easier for our algorithm to compute distance."
   ]
  },
  {
   "cell_type": "code",
   "execution_count": 6,
   "metadata": {},
   "outputs": [],
   "source": [
    "X = lang.values"
   ]
  },
  {
   "cell_type": "markdown",
   "metadata": {},
   "source": [
    "Next, we'll implement the actual clustering algorithm using the **`'ward'`** method (described in detail earlier)."
   ]
  },
  {
   "cell_type": "code",
   "execution_count": 7,
   "metadata": {},
   "outputs": [
    {
     "data": {
      "text/plain": [
       "array([[  0.        ,   8.        ,  10.48808848,   2.        ],\n",
       "       [  6.        ,  15.        ,  17.29161647,   2.        ],\n",
       "       [  5.        ,   9.        ,  37.12142239,   2.        ],\n",
       "       [  2.        ,   4.        ,  82.06704576,   2.        ],\n",
       "       [ 16.        ,  18.        , 103.69667304,   4.        ],\n",
       "       [ 11.        ,  12.        , 115.41230437,   2.        ],\n",
       "       [ 10.        ,  21.        , 119.93887332,   3.        ],\n",
       "       [  1.        ,  19.        , 133.66500415,   3.        ],\n",
       "       [ 14.        ,  23.        , 139.49253266,   4.        ],\n",
       "       [  7.        ,  24.        , 142.18473898,   5.        ],\n",
       "       [ 13.        ,  25.        , 148.66068747,   6.        ],\n",
       "       [ 17.        ,  22.        , 158.59529207,   5.        ],\n",
       "       [  3.        ,  20.        , 191.10991602,   5.        ],\n",
       "       [ 26.        ,  27.        , 192.04241956,  11.        ],\n",
       "       [ 28.        ,  29.        , 226.23253323,  16.        ]])"
      ]
     },
     "execution_count": 7,
     "metadata": {},
     "output_type": "execute_result"
    }
   ],
   "source": [
    "Z = linkage(X, 'ward')\n",
    "Z"
   ]
  },
  {
   "cell_type": "markdown",
   "metadata": {},
   "source": [
    "Now, we can calculate the cophenetic correlation coefficient to see how well our algorithm has measured the distances between the points."
   ]
  },
  {
   "cell_type": "code",
   "execution_count": 8,
   "metadata": {},
   "outputs": [],
   "source": [
    "c, coph_dists = cophenet(Z, pdist(X))"
   ]
  },
  {
   "cell_type": "code",
   "execution_count": 9,
   "metadata": {},
   "outputs": [
    {
     "data": {
      "text/plain": [
       "0.6664592560324294"
      ]
     },
     "execution_count": 9,
     "metadata": {},
     "output_type": "execute_result"
    }
   ],
   "source": [
    "c"
   ]
  },
  {
   "cell_type": "markdown",
   "metadata": {},
   "source": [
    "You should see a **C** around **0.667**, which means that the distances of the clusters are somewhat related to the original distances of the data.\n",
    "\n",
    "Now, let's plot the dendrogram. To do this, we call dendrogram from ```scipy.cluster.hierarchy```, input our links, and rotate the labels so we can view the graph in a more organized matter. \n",
    "\n",
    "#### We can then plot the dendrogram with Pyplot from Matplotlib."
   ]
  },
  {
   "cell_type": "code",
   "execution_count": 11,
   "metadata": {},
   "outputs": [
    {
     "data": {
      "image/png": "[encoded data removed]",
      "text/plain": [
       "<Figure size 432x288 with 1 Axes>"
      ]
     },
     "metadata": {},
     "output_type": "display_data"
    }
   ],
   "source": [
    "def plot_dendogram(df):\n",
    "    \n",
    "    # Data preparation:\n",
    "    X = df.values\n",
    "    Z = linkage(X, 'ward')\n",
    "    \n",
    "    # Plotting:\n",
    "    plt.title('Dendrogram')\n",
    "    plt.xlabel('Index Numbers')\n",
    "    plt.ylabel('Distance')\n",
    "    dendrogram(\n",
    "        Z,\n",
    "        leaf_rotation=90.,  \n",
    "        leaf_font_size=8.,\n",
    "    )\n",
    "    plt.show()\n",
    "    \n",
    "    \n",
    "plot_dendogram(lang)"
   ]
  },
  {
   "cell_type": "markdown",
   "metadata": {},
   "source": [
    "### Determining the Clusters\n",
    "\n",
    "While there are many ways to automate this process, we can visually assess the dendrogram and set a maximum distance to help estimate the clusters.\n",
    "\n",
    "Here, we can see that no links exist above a distance of 200. Use the ```fclusters``` function from ```scipy.cluster.hierarchy``` with this maximum distance to return our cluster IDs. "
   ]
  },
  {
   "cell_type": "code",
   "execution_count": 12,
   "metadata": {},
   "outputs": [
    {
     "data": {
      "text/plain": [
       "array([1, 2, 2, 1, 2, 1, 2, 2, 1, 1, 2, 2, 2, 2, 2, 2], dtype=int32)"
      ]
     },
     "execution_count": 12,
     "metadata": {},
     "output_type": "execute_result"
    }
   ],
   "source": [
    "max_dist = 200 # Pairwise distance.\n",
    "clusters = fcluster(Z, max_dist, criterion='distance')\n",
    "clusters"
   ]
  },
  {
   "cell_type": "markdown",
   "metadata": {
    "slideshow": {
     "slide_type": "-"
    }
   },
   "source": [
    "Lastly, let's plot our data and assign the class labels as the color:"
   ]
  },
  {
   "cell_type": "code",
   "execution_count": 13,
   "metadata": {},
   "outputs": [],
   "source": [
    "from __future__ import print_function\n",
    "from ipywidgets import interact, interactive, fixed\n",
    "import ipywidgets as widgets\n",
    "from ipywidgets import *"
   ]
  },
  {
   "cell_type": "code",
   "execution_count": 14,
   "metadata": {},
   "outputs": [],
   "source": [
    "sns.set_style(\"darkgrid\")\n",
    "import matplotlib.patches as mpatches\n",
    "from matplotlib.colors import ListedColormap\n",
    "import matplotlib.cm as cm\n",
    "\n",
    "def plot_dist_thresh(max_dist=200):\n",
    "    # max_dist = 200 # Pairwise distance.\n",
    "    plot_dendogram(lang)\n",
    "    clusters = fcluster(Z, max_dist, criterion='distance')\n",
    "    \n",
    "    print(\"Clusters represented at distance: \", set(clusters))\n",
    "    \n",
    "    # Complete color maps from Matplotlib.\n",
    "    \n",
    "    # Plotting.\n",
    "    # Add a legend with some customizations.\n",
    "    \n",
    "    fig, ax = plt.subplots(1, 2, figsize=(10, 4))\n",
    "\n",
    "    ax[0].scatter(X[:,0], X[:,6], c=clusters, cmap=cm.jet, s=40)\n",
    "\n",
    "    ax[0].set_title(\"Max Dist: %d\" % max_dist)\n",
    "    \n",
    "    plt.legend(clusters, loc='upper right', shadow=True, scatterpoints=1)\n",
    "    \n",
    "    ax[0].legend(['c{}'.format(i) for i in range(len(clusters))], loc=2, bbox_to_anchor=(1.05, 1), borderaxespad=0., fontsize=11)\n",
    "        \n",
    "    t = (0, max_dist)\n",
    "    ax[1].plot((0, 200), (max_dist, max_dist), 'r--')\n",
    "    \n",
    "    ax[1].set_title('Dendrogram')\n",
    "    ax[1].set_xlabel('Index Numbers')\n",
    "    ax[1].set_ylabel('Distance')\n",
    "    dendrogram(\n",
    "        Z,\n",
    "        leaf_rotation=90.,  \n",
    "        leaf_font_size=8.,\n",
    "        #link_color_func=lambda color: plt.get_cmap('Miscellaneous'),\n",
    "    )\n",
    "    \n",
    "def plot_wrapper(max_dist):\n",
    "    plot_dist_thresh(max_dist)\n",
    "    plt.show()"
   ]
  },
  {
   "cell_type": "code",
   "execution_count": 15,
   "metadata": {},
   "outputs": [
    {
     "data": {
      "application/vnd.jupyter.widget-view+json": {
       "model_id": "2ea27a2d9f534f9a886397de04b7769f",
       "version_major": 2,
       "version_minor": 0
      },
      "text/plain": [
       "interactive(children=(IntSlider(value=100, description='max_dist', max=200, min=100), Output()), _dom_classes=…"
      ]
     },
     "metadata": {},
     "output_type": "display_data"
    },
    {
     "data": {
      "text/plain": [
       "<function __main__.plot_wrapper(max_dist)>"
      ]
     },
     "execution_count": 15,
     "metadata": {},
     "output_type": "execute_result"
    }
   ],
   "source": [
    "interact(plot_wrapper, max_dist=IntSlider(min=100, max=200, step=1))"
   ]
  },
  {
   "cell_type": "code",
   "execution_count": 16,
   "metadata": {
    "scrolled": false
   },
   "outputs": [
    {
     "data": {
      "image/png": "[encoded data removed]",
      "text/plain": [
       "<Figure size 432x288 with 1 Axes>"
      ]
     },
     "metadata": {},
     "output_type": "display_data"
    },
    {
     "name": "stdout",
     "output_type": "stream",
     "text": [
      "Clusters represented at distance:  {1}\n"
     ]
    },
    {
     "data": {
      "image/png": "[encoded data removed]",
      "text/plain": [
       "<Figure size 720x288 with 2 Axes>"
      ]
     },
     "metadata": {},
     "output_type": "display_data"
    },
    {
     "name": "stdout",
     "output_type": "stream",
     "text": [
      "Clusters represented at distance:  {1, 2}\n"
     ]
    },
    {
     "data": {
      "image/png": "[encoded data removed]",
      "text/plain": [
       "<Figure size 720x288 with 2 Axes>"
      ]
     },
     "metadata": {},
     "output_type": "display_data"
    },
    {
     "name": "stdout",
     "output_type": "stream",
     "text": [
      "Clusters represented at distance:  {1, 2, 3, 4, 5}\n"
     ]
    },
    {
     "data": {
      "image/png": "[encoded data removed]",
      "text/plain": [
       "<Figure size 720x288 with 2 Axes>"
      ]
     },
     "metadata": {},
     "output_type": "display_data"
    },
    {
     "name": "stdout",
     "output_type": "stream",
     "text": [
      "Clusters represented at distance:  {1, 2, 3, 4, 5, 6, 7, 8, 9, 10, 11, 12}\n"
     ]
    },
    {
     "data": {
      "image/png": "[encoded data removed]",
      "text/plain": [
       "<Figure size 720x288 with 2 Axes>"
      ]
     },
     "metadata": {},
     "output_type": "display_data"
    },
    {
     "name": "stdout",
     "output_type": "stream",
     "text": [
      "Clusters represented at distance:  {1, 2, 3, 4, 5, 6, 7, 8, 9, 10, 11, 12, 13}\n"
     ]
    },
    {
     "data": {
      "image/png": "[encoded data removed]",
      "text/plain": [
       "<Figure size 720x288 with 2 Axes>"
      ]
     },
     "metadata": {},
     "output_type": "display_data"
    },
    {
     "name": "stdout",
     "output_type": "stream",
     "text": [
      "Clusters represented at distance:  {1, 2, 3, 4, 5, 6, 7, 8, 9, 10, 11, 12, 13, 14}\n"
     ]
    },
    {
     "data": {
      "image/png": "[encoded data removed]",
      "text/plain": [
       "<Figure size 720x288 with 2 Axes>"
      ]
     },
     "metadata": {},
     "output_type": "display_data"
    }
   ],
   "source": [
    "plot_dist_thresh(250)\n",
    "plot_dist_thresh(200)\n",
    "plot_dist_thresh(150)\n",
    "plot_dist_thresh(100)\n",
    "plot_dist_thresh(50)\n",
    "plot_dist_thresh(25)"
   ]
  },
  {
   "cell_type": "code",
   "execution_count": 17,
   "metadata": {},
   "outputs": [
    {
     "data": {
      "image/png": "[encoded data removed]",
      "text/plain": [
       "<Figure size 432x288 with 1 Axes>"
      ]
     },
     "metadata": {},
     "output_type": "display_data"
    }
   ],
   "source": [
    "plt.scatter(X[:,0], X[:,6], c=clusters, cmap='prism', s=50)\n",
    "plt.show()"
   ]
  },
  {
   "cell_type": "markdown",
   "metadata": {
    "slideshow": {
     "slide_type": "slide"
    }
   },
   "source": [
    "<a name=\"conclusion\"></a>\n",
    "## Conclusion\n",
    "---\n",
    "\n",
    "- Recall the definitions of linkage, cophenetic coefficient, and dendrogram.\n",
    "- Recap the process steps in hierarchical clustering.\n",
    "    - Linkage: First, we create the linkages in Python that form the basis of our analysis.\n",
    "    - Cophenetic coefficient: We find the cophenetic coefficient to determine how well our analysis is running.\n",
    "    - Dendrogram: We plot the dendrogram and visually inspect the clusters.\n",
    "    - Lastly, we find our cluster IDs and plot."
   ]
  },
  {
   "cell_type": "markdown",
   "metadata": {
    "slideshow": {
     "slide_type": "slide"
    }
   },
   "source": [
    "<a id='resources'></a>\n",
    "## Additional Resources \n",
    "\n",
    "---\n",
    "\n",
    "- [SciPy documentation for linkage techniques](http://docs.scipy.org/doc/scipy-0.16.0/reference/generated/scipy.cluster.hierarchy.linkage.html)\n",
    "- [What Even is This Hierarchical Clustering Thing, Anyway?](http://www.saedsayad.com/clustering_hierarchical.htm)\n",
    "- [Scikit-learn documentation](http://scikit-learn.org/stable/modules/clustering.html#hierarchical-clustering) on hierarchical clustering.\n",
    "- [Stanford's walk through of hierarchical clustering](http://www.econ.upf.edu/~michael/stanford/maeb7.pdf).\n",
    "- [Wikipedia's entry](https://en.wikipedia.org/wiki/Hierarchical_clustering) on hierarchical clustering.\n",
    "- [An example of hierarchical clustering: U.S. cities](http://www.analytictech.com/networks/hiclus.htm).\n",
    "- [Wikipedia's entry](https://en.wikipedia.org/wiki/Cophenetic_correlation) on cophrenetic coefficients.\n",
    "- [An intuitive explanation](http://people.revoledu.com/kardi/tutorial/Clustering/Cophenetic.htm) of cophrenetic coefficients.\n",
    "- [Joseph Nelson's video](https://www.youtube.com/watch?v=62cphKGR0_s) explaining hierarchical clustering in seven minutes.\n",
    "- A contrasting example of differing [cophrenetic coefficients](http://stats.stackexchange.com/questions/33066/on-cophenetic-correlation-for-dendrogram-clustering)."
   ]
  },
  {
   "cell_type": "code",
   "execution_count": null,
   "metadata": {},
   "outputs": [],
   "source": []
  }
 ],
 "metadata": {
  "anaconda-cloud": {},
  "kernelspec": {
   "display_name": "Python 3",
   "language": "python",
   "name": "python3"
  },
  "language_info": {
   "codemirror_mode": {
    "name": "ipython",
    "version": 3
   },
   "file_extension": ".py",
   "mimetype": "text/x-python",
   "name": "python",
   "nbconvert_exporter": "python",
   "pygments_lexer": "ipython3",
   "version": "3.6.6"
  }
 },
 "nbformat": 4,
 "nbformat_minor": 1
}
