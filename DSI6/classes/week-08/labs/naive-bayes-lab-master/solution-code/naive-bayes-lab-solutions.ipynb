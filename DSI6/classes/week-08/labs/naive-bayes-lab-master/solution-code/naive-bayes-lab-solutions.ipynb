{
 "cells": [
  {
   "cell_type": "markdown",
   "metadata": {},
   "source": [
    "<img src=\"https://ga-dash.s3.amazonaws.com/production/assets/logo-9f88ae6c9c3871690e33280fcf557f33.png\" style=\"float: left; margin: 15px;\">\n",
    "\n",
    "## Naive Bayes Language Detection Lab\n",
    "\n",
    "_Author: David Yerrington (SF) _\n",
    "\n",
    "In this lab, we will use Naive Bayes (and other classifiers) to auto-detect the language of a given tweet. We will then assess the performance of our classifier."
   ]
  },
  {
   "cell_type": "code",
   "execution_count": 1,
   "metadata": {},
   "outputs": [],
   "source": [
    "import pandas as pd, seaborn as sns, numpy as np, matplotlib.pyplot as plt\n",
    "\n",
    "from sklearn.feature_extraction.text import CountVectorizer, TfidfTransformer, TfidfVectorizer \n",
    "from sklearn.feature_extraction.text import TfidfTransformer\n",
    "from sklearn.feature_extraction.text import TfidfVectorizer\n",
    "from sklearn.model_selection import learning_curve\n",
    "from sklearn.model_selection import train_test_split, cross_val_score, ShuffleSplit\n",
    "from sklearn.metrics import classification_report\n",
    "from sklearn.naive_bayes import MultinomialNB, BernoulliNB, GaussianNB\n",
    "from sklearn.linear_model import LogisticRegression\n",
    "\n",
    "from sklearn.pipeline import Pipeline\n",
    "\n",
    "%matplotlib inline\n",
    "\n",
    "sns.set_style(\"darkgrid\")"
   ]
  },
  {
   "cell_type": "code",
   "execution_count": 2,
   "metadata": {},
   "outputs": [],
   "source": [
    "tweets_df = pd.read_csv(\"../datasets/tweets_language.csv\", index_col=0)"
   ]
  },
  {
   "cell_type": "code",
   "execution_count": 3,
   "metadata": {
    "scrolled": true
   },
   "outputs": [
    {
     "name": "stdout",
     "output_type": "stream",
     "text": [
      "<class 'pandas.core.frame.DataFrame'>\n",
      "Index: 9431 entries, 0 to 9408\n",
      "Data columns (total 2 columns):\n",
      "LANG    9409 non-null object\n",
      "TEXT    9409 non-null object\n",
      "dtypes: object(2)\n",
      "memory usage: 221.0+ KB\n"
     ]
    }
   ],
   "source": [
    "tweets_df.info()"
   ]
  },
  {
   "cell_type": "code",
   "execution_count": 4,
   "metadata": {},
   "outputs": [],
   "source": [
    "# Note above that some rows are null, which we cannot use for training\n",
    "tweets_df = tweets_df.dropna()"
   ]
  },
  {
   "cell_type": "code",
   "execution_count": 5,
   "metadata": {},
   "outputs": [
    {
     "data": {
      "text/plain": [
       "9409"
      ]
     },
     "execution_count": 5,
     "metadata": {},
     "output_type": "execute_result"
    }
   ],
   "source": [
    "len(tweets_df)"
   ]
  },
  {
   "cell_type": "code",
   "execution_count": 6,
   "metadata": {},
   "outputs": [
    {
     "data": {
      "text/html": [
       "<div>\n",
       "<style scoped>\n",
       "    .dataframe tbody tr th:only-of-type {\n",
       "        vertical-align: middle;\n",
       "    }\n",
       "\n",
       "    .dataframe tbody tr th {\n",
       "        vertical-align: top;\n",
       "    }\n",
       "\n",
       "    .dataframe thead th {\n",
       "        text-align: right;\n",
       "    }\n",
       "</style>\n",
       "<table border=\"1\" class=\"dataframe\">\n",
       "  <thead>\n",
       "    <tr style=\"text-align: right;\">\n",
       "      <th></th>\n",
       "      <th>LANG</th>\n",
       "      <th>TEXT</th>\n",
       "    </tr>\n",
       "  </thead>\n",
       "  <tbody>\n",
       "    <tr>\n",
       "      <th>0</th>\n",
       "      <td>en</td>\n",
       "      <td>The #Yolo bailout: Greece's ex-finance chief h...</td>\n",
       "    </tr>\n",
       "    <tr>\n",
       "      <th>1</th>\n",
       "      <td>en</td>\n",
       "      <td>Another mental Saturday night. It will be near...</td>\n",
       "    </tr>\n",
       "    <tr>\n",
       "      <th>2</th>\n",
       "      <td>en</td>\n",
       "      <td>Sometimes you take bedtime selfies w yer hat s...</td>\n",
       "    </tr>\n",
       "    <tr>\n",
       "      <th>3</th>\n",
       "      <td>en</td>\n",
       "      <td>Currently just changed my entire outfit includ...</td>\n",
       "    </tr>\n",
       "    <tr>\n",
       "      <th>4</th>\n",
       "      <td>en</td>\n",
       "      <td>I just like listening to @SpotifyAU's top 100 ...</td>\n",
       "    </tr>\n",
       "  </tbody>\n",
       "</table>\n",
       "</div>"
      ],
      "text/plain": [
       "  LANG                                               TEXT\n",
       "0   en  The #Yolo bailout: Greece's ex-finance chief h...\n",
       "1   en  Another mental Saturday night. It will be near...\n",
       "2   en  Sometimes you take bedtime selfies w yer hat s...\n",
       "3   en  Currently just changed my entire outfit includ...\n",
       "4   en  I just like listening to @SpotifyAU's top 100 ..."
      ]
     },
     "execution_count": 6,
     "metadata": {},
     "output_type": "execute_result"
    }
   ],
   "source": [
    "tweets_df.head()"
   ]
  },
  {
   "cell_type": "markdown",
   "metadata": {},
   "source": [
    "### 1. Data exploration\n",
    "\n",
    "#### 1.A. Explore a list of tweet words that occur more than 50x\n",
    "Plot a histogram of some kind might be helpful."
   ]
  },
  {
   "cell_type": "code",
   "execution_count": 7,
   "metadata": {
    "scrolled": true
   },
   "outputs": [
    {
     "data": {
      "text/plain": [
       "<9409x229 sparse matrix of type '<class 'numpy.int64'>'\n",
       "\twith 51683 stored elements in Compressed Sparse Row format>"
      ]
     },
     "execution_count": 7,
     "metadata": {},
     "output_type": "execute_result"
    }
   ],
   "source": [
    "# Let's use the CountVectorizer to count words for us\n",
    "cvt      =  CountVectorizer(strip_accents='unicode',min_df=51)\n",
    "X_all    =  cvt.fit_transform(tweets_df['TEXT'])\n",
    "columns  =  np.array(cvt.get_feature_names())          # ndarray (for indexing below)\n",
    "\n",
    "# note this is a large sparse matrix. \n",
    "#    - rows are tweets, columns are words \n",
    "X_all"
   ]
  },
  {
   "cell_type": "code",
   "execution_count": 8,
   "metadata": {},
   "outputs": [
    {
     "name": "stdout",
     "output_type": "stream",
     "text": [
      "(9409, 229)\n",
      "Requires 2154661 ints to do a .toarray()!\n"
     ]
    }
   ],
   "source": [
    "# Converting X_all toarray() may use too much memory (particularly for 32-bit Python!)\n",
    "print(X_all.shape)\n",
    "print(\"Requires {} ints to do a .toarray()!\".format(X_all.shape[0] * X_all.shape[1]))\n",
    "\n",
    "# x_df     =  pd.DataFrame(X_all.toarray(), columns=columns)\n",
    "# tf_df    =  pd.DataFrame(x_df.sum(), columns=[\"freq\"])\n",
    "# tf_df.sort_values(\"freq\", ascending=False).head(10)"
   ]
  },
  {
   "cell_type": "code",
   "execution_count": 9,
   "metadata": {},
   "outputs": [
    {
     "data": {
      "text/plain": [
       "co        8544\n",
       "http      6093\n",
       "https     2658\n",
       "rt        2222\n",
       "love      1758\n",
       "dog       1219\n",
       "family    1082\n",
       "france    1032\n",
       "de         984\n",
       "us         951\n",
       "da         889\n",
       "peace      811\n",
       "yolo       742\n",
       "la         723\n",
       "earth      702\n",
       "in         604\n",
       "the        598\n",
       "planet     589\n",
       "math       473\n",
       "en         425\n",
       "dtype: int64"
      ]
     },
     "execution_count": 9,
     "metadata": {},
     "output_type": "execute_result"
    }
   ],
   "source": [
    "# So .. we'll use np.sum() to convert it directly from the sparse matrix!\n",
    "# This is enormously more memory-efficient ...\n",
    "#   It only requires one int per column since summing across columns is the total word count.\n",
    "\n",
    "def get_freq_words(sparse_counts, columns):\n",
    "    # X_all is a sparse matrix, so sum() returns a 'matrix' datatype ...\n",
    "    #   which we then convert into a 1-D ndarray for sorting\n",
    "    word_counts = np.asarray(X_all.sum(axis=0)).reshape(-1)\n",
    "\n",
    "    # argsort() returns smallest first, so we reverse the result\n",
    "    largest_count_indices = word_counts.argsort()[::-1]\n",
    "\n",
    "    # pretty-print the results! Remember to always ask whether they make sense ...\n",
    "    freq_words = pd.Series(word_counts[largest_count_indices], \n",
    "                           index=columns[largest_count_indices])\n",
    "\n",
    "    return freq_words\n",
    "\n",
    "\n",
    "freq_words = get_freq_words(X_all, columns)\n",
    "freq_words[:20]"
   ]
  },
  {
   "cell_type": "markdown",
   "metadata": {},
   "source": [
    "- Note above that many of the most common words actually may not be relevant to determining language!\n",
    "- Also, we are removing important features such as capitalization, punctuation, sentence length, etc. that might be important for determining language."
   ]
  },
  {
   "cell_type": "code",
   "execution_count": 10,
   "metadata": {},
   "outputs": [
    {
     "data": {
      "text/plain": [
       "<matplotlib.axes._subplots.AxesSubplot at 0x1a1bc9cdd8>"
      ]
     },
     "execution_count": 10,
     "metadata": {},
     "output_type": "execute_result"
    },
    {
     "data": {
      "image/png": "[encoded data removed]",
      "text/plain": [
       "<Figure size 432x288 with 1 Axes>"
      ]
     },
     "metadata": {},
     "output_type": "display_data"
    }
   ],
   "source": [
    "freq_words.hist(bins=20)"
   ]
  },
  {
   "cell_type": "markdown",
   "metadata": {},
   "source": [
    "#### 1.B. Investigate histogram of counts"
   ]
  },
  {
   "cell_type": "code",
   "execution_count": 11,
   "metadata": {},
   "outputs": [
    {
     "name": "stdout",
     "output_type": "stream",
     "text": [
      "co        8544\n",
      "http      6093\n",
      "https     2658\n",
      "rt        2222\n",
      "love      1758\n",
      "dog       1219\n",
      "family    1082\n",
      "france    1032\n",
      "de         984\n",
      "us         951\n",
      "dtype: int64\n"
     ]
    },
    {
     "data": {
      "image/png": "[encoded data removed]",
      "text/plain": [
       "<Figure size 864x432 with 3 Axes>"
      ]
     },
     "metadata": {},
     "output_type": "display_data"
    }
   ],
   "source": [
    "from sklearn.preprocessing import StandardScaler, minmax_scale\n",
    "\n",
    "def hist_counts(word_counts):\n",
    "    hist_counts = pd.Series(word_counts/len(tweets_df), \n",
    "                            index=word_counts.index)\n",
    "    \n",
    "    # Overall graph is hard to understand, so let's break it into three graphs\n",
    "    fig, axes = plt.subplots(nrows=1, ncols=3, figsize=(12,6))\n",
    "    \n",
    "    hist_counts.plot(kind=\"hist\", bins=20, ax=axes[0], title=\"Histogram - All\")\n",
    "    \n",
    "    # look at the range of extreme commons that seem to exist below .01\n",
    "    hist_counts[hist_counts < .01].plot(kind=\"hist\", ax=axes[2], title=\"Histogram - Counts < .01\")\n",
    "    \n",
    "    # There are a lot of really common tokens within 10% -- filter them out\n",
    "    hist_counts[hist_counts > .1].plot(kind=\"hist\", bins=20, ax=axes[1], title=\"Histogram - Counts > .1\")\n",
    "\n",
    "print(freq_words[:10])\n",
    "hist_counts(freq_words)"
   ]
  },
  {
   "cell_type": "markdown",
   "metadata": {},
   "source": [
    "#### 1.C. Try it again with stopword removal "
   ]
  },
  {
   "cell_type": "code",
   "execution_count": 12,
   "metadata": {},
   "outputs": [
    {
     "name": "stdout",
     "output_type": "stream",
     "text": [
      "http      6093\n",
      "https     2658\n",
      "rt        2222\n",
      "love      1758\n",
      "dog       1219\n",
      "family    1082\n",
      "france    1032\n",
      "da         889\n",
      "peace      811\n",
      "yolo       742\n",
      "dtype: int64\n"
     ]
    },
    {
     "data": {
      "image/png": "[encoded data removed]",
      "text/plain": [
       "<Figure size 864x432 with 3 Axes>"
      ]
     },
     "metadata": {},
     "output_type": "display_data"
    }
   ],
   "source": [
    "cvt      =  CountVectorizer(strip_accents='unicode', stop_words=\"english\", min_df=51)\n",
    "X_all    =  cvt.fit_transform(tweets_df['TEXT'])\n",
    "columns  =  np.array(cvt.get_feature_names())\n",
    "\n",
    "freq_words = get_freq_words(X_all, columns)\n",
    "\n",
    "print(freq_words[:10])\n",
    "hist_counts(freq_words)"
   ]
  },
  {
   "cell_type": "code",
   "execution_count": 14,
   "metadata": {},
   "outputs": [
    {
     "data": {
      "text/plain": [
       "http     6093\n",
       "https    2658\n",
       "rt       2222\n",
       "love     1758\n",
       "dog      1219\n",
       "dtype: int64"
      ]
     },
     "execution_count": 14,
     "metadata": {},
     "output_type": "execute_result"
    }
   ],
   "source": [
    "freq_words.head()"
   ]
  },
  {
   "cell_type": "code",
   "execution_count": 13,
   "metadata": {},
   "outputs": [
    {
     "data": {
      "text/plain": [
       "(2248.1600000000008, 6086.336100000033)"
      ]
     },
     "execution_count": 13,
     "metadata": {},
     "output_type": "execute_result"
    }
   ],
   "source": [
    "# Checking range between .99 - .99999 -- there seem to be lots of words there\n",
    "freq_words.quantile(.99), freq_words.quantile(.99999)"
   ]
  },
  {
   "cell_type": "code",
   "execution_count": 15,
   "metadata": {},
   "outputs": [
    {
     "data": {
      "text/plain": [
       "gt                 145\n",
       "pet                144\n",
       "di                 143\n",
       "et                 142\n",
       "ukraine            139\n",
       "germany            139\n",
       "follow             139\n",
       "al                 138\n",
       "art                138\n",
       "anti               135\n",
       "se                 134\n",
       "du                 132\n",
       "nature             132\n",
       "es                 132\n",
       "pour               131\n",
       "para               130\n",
       "imperialist        129\n",
       "falseflag          129\n",
       "des                126\n",
       "world              119\n",
       "beautiful          117\n",
       "fun                117\n",
       "organic            115\n",
       "nasa               114\n",
       "friends            113\n",
       "mi                 111\n",
       "puppy              111\n",
       "sun                111\n",
       "una                109\n",
       "si                 108\n",
       "                  ... \n",
       "im                  56\n",
       "nice                55\n",
       "animals             55\n",
       "rocket              55\n",
       "vida                55\n",
       "great               55\n",
       "um                  54\n",
       "child               54\n",
       "swag                54\n",
       "photooftheday       54\n",
       "night               54\n",
       "parti               54\n",
       "injury              54\n",
       "ms                  54\n",
       "och                 54\n",
       "juicing             54\n",
       "cuff                54\n",
       "rotator             54\n",
       "organicleather      53\n",
       "dans                53\n",
       "cat                 53\n",
       "dogcollar           53\n",
       "dsep72kjpd          53\n",
       "hundehalsband       53\n",
       "amelie_officiel     53\n",
       "china               53\n",
       "green               52\n",
       "painting            52\n",
       "hits                52\n",
       "webradio            52\n",
       "Length: 156, dtype: int64"
      ]
     },
     "execution_count": 15,
     "metadata": {},
     "output_type": "execute_result"
    }
   ],
   "source": [
    "# find the %1, and %10 threshold for masking\n",
    "freq_words[(freq_words >= 10) & (freq_words <= 150)]"
   ]
  },
  {
   "cell_type": "markdown",
   "metadata": {},
   "source": [
    "#### 1.D. Explore ngrams between 2 and 4\n",
    "Display the top 75 ngrams with frequencies."
   ]
  },
  {
   "cell_type": "code",
   "execution_count": 16,
   "metadata": {
    "scrolled": false
   },
   "outputs": [
    {
     "name": "stdout",
     "output_type": "stream",
     "text": [
      "(188768,)\n"
     ]
    },
    {
     "data": {
      "text/plain": [
       "france http            193\n",
       "naturevalley planet    193\n",
       "da http                173\n",
       "love https             155\n",
       "silver junksilver      151\n",
       "dtype: int64"
      ]
     },
     "execution_count": 16,
     "metadata": {},
     "output_type": "execute_result"
    }
   ],
   "source": [
    "cvt = CountVectorizer(stop_words=\"english\", ngram_range=(2,4))\n",
    "X_all = cvt.fit_transform(tweets_df['TEXT'])\n",
    "columns  =  np.array(cvt.get_feature_names())\n",
    "\n",
    "freq_words = get_freq_words(X_all, columns)\n",
    "print(freq_words.shape)\n",
    "freq_words.head()"
   ]
  },
  {
   "cell_type": "markdown",
   "metadata": {},
   "source": [
    "#### 1.E. (Optional) try expanding the list of stopwords\n",
    "There are definitely some non-words such as web urls, etc. If you could remove them, this could help us improve the score.  Identify word/tokens that don't add much value to either class.  **You should additionally look at ngrams per language to fine tune your preprocessing.  This has the greatest potential to improve your results without tuning any model parameters.**\n",
    "\n",
    "Using `nltk.corpus`, we can get a baseline list of stop words.  Try to expand it and pass it to our vectorizer."
   ]
  },
  {
   "cell_type": "code",
   "execution_count": 17,
   "metadata": {},
   "outputs": [],
   "source": [
    "from nltk.corpus import stopwords\n",
    "stop = stopwords.words('english')\n",
    "stop += ['http', 'https', 'rt']"
   ]
  },
  {
   "cell_type": "code",
   "execution_count": 18,
   "metadata": {},
   "outputs": [
    {
     "data": {
      "text/plain": [
       "co        8544\n",
       "love      1758\n",
       "dog       1219\n",
       "family    1082\n",
       "france    1032\n",
       "de         984\n",
       "us         951\n",
       "da         889\n",
       "peace      811\n",
       "yolo       742\n",
       "la         723\n",
       "earth      702\n",
       "planet     589\n",
       "math       473\n",
       "en         425\n",
       "hund       333\n",
       "que        332\n",
       "vive       307\n",
       "silver     304\n",
       "un         304\n",
       "dtype: int64"
      ]
     },
     "execution_count": 18,
     "metadata": {},
     "output_type": "execute_result"
    }
   ],
   "source": [
    "# These look pretty clean for a first step in anlaysis\n",
    "cvt = CountVectorizer(stop_words=stop, lowercase=True, strip_accents=\"unicode\", ngram_range=(1,2))\n",
    "X_all = cvt.fit_transform(tweets_df['TEXT'])\n",
    "columns  =  np.array(cvt.get_feature_names())\n",
    "\n",
    "freq_words = get_freq_words(X_all, columns)\n",
    "freq_words[:20]"
   ]
  },
  {
   "cell_type": "markdown",
   "metadata": {},
   "source": [
    "### 2. Setup a test / train split of your data using any method you wish.\n",
    "Try 70/30 to start."
   ]
  },
  {
   "cell_type": "code",
   "execution_count": 19,
   "metadata": {},
   "outputs": [
    {
     "data": {
      "text/plain": [
       "(6586, 4703)"
      ]
     },
     "execution_count": 19,
     "metadata": {},
     "output_type": "execute_result"
    }
   ],
   "source": [
    "# Find our training size\n",
    "training_size = int(tweets_df.shape[0] * .7)\n",
    "\n",
    "# Randomly sample our training data\n",
    "tweets_train = tweets_df.sample(n=training_size, replace=True)\n",
    "\n",
    "# Capture the rest of the dataset that's not \"training\" using an inverse mask (rows NOT IN training dataframe)\n",
    "mask = tweets_df.index.isin(tweets_train.index)\n",
    "tweets_test = tweets_df[~mask]\n",
    "\n",
    "# Should be (2762, 1963) = training / testing = 70/30\n",
    "tweets_train.shape[0], tweets_test.shape[0]"
   ]
  },
  {
   "cell_type": "markdown",
   "metadata": {},
   "source": [
    "### 3. Setup a \"Pipeline\" to vectorize and use MultinomialNB classifier.\n",
    "Use `lowercase`, `strip_accents`, `Pipeline`, and optionally your updated `stop_words`.  Fit your comment data using the \"Insult\" feature as your response.\n",
    "\n",
    "Fit your training data to your pipeline, then score it."
   ]
  },
  {
   "cell_type": "code",
   "execution_count": 20,
   "metadata": {},
   "outputs": [
    {
     "data": {
      "text/plain": [
       "0.7199659791622369"
      ]
     },
     "execution_count": 20,
     "metadata": {},
     "output_type": "execute_result"
    }
   ],
   "source": [
    "# MultinomialNB\n",
    "pipeline = Pipeline([\n",
    "    ('vect', CountVectorizer(lowercase=True, strip_accents='unicode', stop_words=stop)),\n",
    "    ('tfidf', TfidfTransformer()),\n",
    "    ('cls', MultinomialNB())\n",
    "]) \n",
    "pipeline.fit(tweets_train[\"TEXT\"], tweets_train[\"LANG\"])\n",
    "predicted = pipeline.predict(tweets_test[\"TEXT\"])\n",
    "pipeline.score(tweets_test[\"TEXT\"], tweets_test[\"LANG\"])"
   ]
  },
  {
   "cell_type": "code",
   "execution_count": 21,
   "metadata": {},
   "outputs": [
    {
     "data": {
      "text/plain": [
       "0.7550499681054645"
      ]
     },
     "execution_count": 21,
     "metadata": {},
     "output_type": "execute_result"
    }
   ],
   "source": [
    "# Alternative -- train on all data\n",
    "# MultinomialNB\n",
    "pipeline = Pipeline([\n",
    "    ('vect', cvt),\n",
    "    # ('tfidf', TfidfTransformer()),\n",
    "    ('cls', MultinomialNB())\n",
    "]) \n",
    "pipeline.fit(tweets_train[\"TEXT\"], tweets_train[\"LANG\"])\n",
    "predicted = pipeline.predict(tweets_test[\"TEXT\"])\n",
    "pipeline.score(tweets_test[\"TEXT\"], tweets_test[\"LANG\"])"
   ]
  },
  {
   "cell_type": "markdown",
   "metadata": {},
   "source": [
    "#### 3.A. Swap out MultinomialNB with BernoulliNB in the pipeline\n",
    "How do they compare? Do you have a guess of why BernoulliNB is so poor?"
   ]
  },
  {
   "cell_type": "code",
   "execution_count": 22,
   "metadata": {},
   "outputs": [
    {
     "data": {
      "text/plain": [
       "0.4227089092068892"
      ]
     },
     "execution_count": 22,
     "metadata": {},
     "output_type": "execute_result"
    }
   ],
   "source": [
    "# BernoulliNB\n",
    "pipeline = Pipeline([\n",
    "    ('vect', cvt),\n",
    "    ('tfidf', TfidfTransformer()), #by adding this we get +2%\n",
    "    ('cls', BernoulliNB())\n",
    "]) \n",
    "pipeline.fit(tweets_train[\"TEXT\"], tweets_train[\"LANG\"])\n",
    "predicted = pipeline.predict(tweets_test[\"TEXT\"])\n",
    "pipeline.score(tweets_test[\"TEXT\"], tweets_test[\"LANG\"])"
   ]
  },
  {
   "cell_type": "markdown",
   "metadata": {},
   "source": [
    "#### 3.B. Also try logistic regression and random forests in the pipeline\n",
    "How do they compare? Recall that Logistic Regression is discriminative whereas Naive Bayes is generative. Logistic Regression uses optimization to fit a formula that discriminates between the classes, whereas Naive Bayes essentially just computes aggregate statistics. So, Logistic Regression should have a longer training time than Naive Bayes -- does it here? (see `%time`)\n",
    "\n",
    "Note that Logistic Regression and Random Forests both allow you to see feature \"importance\"/coefficients. In this case, these coefficients will inform you how strong each word indicates a language. Optionally, see if you can sort these coefficients by their values to get the strongest and weakest indicator words for languages."
   ]
  },
  {
   "cell_type": "code",
   "execution_count": 23,
   "metadata": {},
   "outputs": [
    {
     "data": {
      "text/plain": [
       "0.7320859026153519"
      ]
     },
     "execution_count": 23,
     "metadata": {},
     "output_type": "execute_result"
    }
   ],
   "source": [
    "# LogisticRegression\n",
    "pipeline = Pipeline([\n",
    "    ('vect', cvt),\n",
    "    ('tfidf', TfidfTransformer()),\n",
    "    ('cls', LogisticRegression())\n",
    "]) \n",
    "pipeline.fit(tweets_train[\"TEXT\"], tweets_train[\"LANG\"])\n",
    "predicted = pipeline.predict(tweets_test[\"TEXT\"])\n",
    "pipeline.score(tweets_test[\"TEXT\"], tweets_test[\"LANG\"])"
   ]
  },
  {
   "cell_type": "code",
   "execution_count": 24,
   "metadata": {},
   "outputs": [
    {
     "name": "stderr",
     "output_type": "stream",
     "text": [
      "/Users/edoardo/anaconda2/envs/py36/lib/python3.6/site-packages/sklearn/ensemble/weight_boosting.py:29: DeprecationWarning: numpy.core.umath_tests is an internal NumPy module and should not be imported. It will be removed in a future NumPy release.\n",
      "  from numpy.core.umath_tests import inner1d\n"
     ]
    },
    {
     "data": {
      "text/plain": [
       "0.682543057622794"
      ]
     },
     "execution_count": 24,
     "metadata": {},
     "output_type": "execute_result"
    }
   ],
   "source": [
    "from sklearn.ensemble import RandomForestClassifier\n",
    "\n",
    "# RF - 100\n",
    "pipeline = Pipeline([\n",
    "    ('vect', cvt),\n",
    "    ('tfidf', TfidfTransformer()),\n",
    "    ('rf', RandomForestClassifier(n_estimators=100))\n",
    "]) \n",
    "pipeline.fit(tweets_train[\"TEXT\"], tweets_train[\"LANG\"])\n",
    "predicted = pipeline.predict(tweets_test[\"TEXT\"])\n",
    "pipeline.score(tweets_test[\"TEXT\"], tweets_test[\"LANG\"])"
   ]
  },
  {
   "cell_type": "code",
   "execution_count": 25,
   "metadata": {},
   "outputs": [
    {
     "data": {
      "text/plain": [
       "0.6882840739953221"
      ]
     },
     "execution_count": 25,
     "metadata": {},
     "output_type": "execute_result"
    }
   ],
   "source": [
    "# RF - 200\n",
    "pipeline = Pipeline([\n",
    "    ('vect', cvt),\n",
    "    ('tfidf', TfidfTransformer()),\n",
    "    ('rf', RandomForestClassifier(n_estimators=200))\n",
    "]) \n",
    "pipeline.fit(tweets_train[\"TEXT\"], tweets_train[\"LANG\"])\n",
    "predicted = pipeline.predict(tweets_test[\"TEXT\"])\n",
    "pipeline.score(tweets_test[\"TEXT\"], tweets_test[\"LANG\"])"
   ]
  },
  {
   "cell_type": "markdown",
   "metadata": {},
   "source": [
    "#### 3.C. Also try tweaking the paramters of CountVectorizer and TfidfTranformer\n",
    "\n",
    "Remove Tfidf also. Good / bad?"
   ]
  },
  {
   "cell_type": "code",
   "execution_count": 26,
   "metadata": {},
   "outputs": [
    {
     "data": {
      "text/plain": [
       "0.7439931958324474"
      ]
     },
     "execution_count": 26,
     "metadata": {},
     "output_type": "execute_result"
    }
   ],
   "source": [
    "cvt2 = CountVectorizer(stop_words=stop, lowercase=True, strip_accents=\"unicode\", ngram_range=(1,2))\n",
    "pipeline = Pipeline([\n",
    "    ('vect', cvt2),\n",
    "    # ('tfidf', TfidfTransformer()),\n",
    "    ('cls', LogisticRegression())\n",
    "]) \n",
    "pipeline.fit(tweets_train[\"TEXT\"], tweets_train[\"LANG\"])\n",
    "predicted = pipeline.predict(tweets_test[\"TEXT\"])\n",
    "pipeline.score(tweets_test[\"TEXT\"], tweets_test[\"LANG\"])"
   ]
  },
  {
   "cell_type": "code",
   "execution_count": 27,
   "metadata": {},
   "outputs": [
    {
     "data": {
      "text/plain": [
       "0.7023176695726132"
      ]
     },
     "execution_count": 27,
     "metadata": {},
     "output_type": "execute_result"
    }
   ],
   "source": [
    "pipeline = Pipeline([\n",
    "    ('vect', cvt),\n",
    "    #('tfidf', TfidfTransformer()),\n",
    "    ('rf', RandomForestClassifier(n_estimators=100))\n",
    "]) \n",
    "pipeline.fit(tweets_train[\"TEXT\"], tweets_train[\"LANG\"])\n",
    "predicted = pipeline.predict(tweets_test[\"TEXT\"])\n",
    "pipeline.score(tweets_test[\"TEXT\"], tweets_test[\"LANG\"])"
   ]
  },
  {
   "cell_type": "markdown",
   "metadata": {},
   "source": [
    "#  \n",
    "#  \n",
    "#  \n",
    "### 4. Check your score.\n",
    "Which languages does your model work best at? Run a classification report for all languages. [Plot AUC/ROC](../../week-04/2.3-evaluating_model_fit/code/AUC-ROC-codealong.ipynb) for particular languages (vs all others) and compare them -- do they show that some languages perform better? Does our model perform worse than guessing on some languages? Also, [review classfication reporting metrics](../../week-04/4.3-advanced-model_evaluation/code/starter-code/week4-4.1-classification-report.ipynb)."
   ]
  },
  {
   "cell_type": "code",
   "execution_count": 28,
   "metadata": {},
   "outputs": [
    {
     "data": {
      "text/plain": [
       "0.7550499681054645"
      ]
     },
     "execution_count": 28,
     "metadata": {},
     "output_type": "execute_result"
    }
   ],
   "source": [
    "pipeline = Pipeline([\n",
    "    ('vect', cvt),\n",
    "    # ('tfidf', TfidfTransformer()),\n",
    "    ('cls', MultinomialNB())\n",
    "]) \n",
    "pipeline.fit(tweets_train[\"TEXT\"], tweets_train[\"LANG\"])\n",
    "predicted = pipeline.predict(tweets_test[\"TEXT\"])\n",
    "pipeline.score(tweets_test[\"TEXT\"], tweets_test[\"LANG\"])"
   ]
  },
  {
   "cell_type": "code",
   "execution_count": 29,
   "metadata": {},
   "outputs": [
    {
     "data": {
      "text/plain": [
       "((4703, 2), 4703)"
      ]
     },
     "execution_count": 29,
     "metadata": {},
     "output_type": "execute_result"
    }
   ],
   "source": [
    "tweets_test.shape, len(predicted)"
   ]
  },
  {
   "cell_type": "code",
   "execution_count": 30,
   "metadata": {},
   "outputs": [
    {
     "name": "stdout",
     "output_type": "stream",
     "text": [
      "             precision    recall  f1-score   support\n",
      "\n",
      "         de       0.80      0.80      0.80       555\n",
      "         en       0.66      0.83      0.73       696\n",
      "         es       0.71      0.84      0.77       604\n",
      "         fr       0.84      0.83      0.83       598\n",
      "         it       0.74      0.73      0.74       418\n",
      "         pt       0.73      0.81      0.77       516\n",
      "         ru       0.81      0.77      0.79       387\n",
      "         sv       0.83      0.69      0.75       332\n",
      "         tl       0.00      0.00      0.00         1\n",
      "         uk       0.54      0.22      0.31        91\n",
      "        und       0.80      0.56      0.66       297\n",
      "         zh       0.92      0.43      0.59       208\n",
      "\n",
      "avg / total       0.76      0.76      0.75      4703\n",
      "\n"
     ]
    },
    {
     "name": "stderr",
     "output_type": "stream",
     "text": [
      "/Users/edoardo/anaconda2/envs/py36/lib/python3.6/site-packages/sklearn/metrics/classification.py:1135: UndefinedMetricWarning: Precision and F-score are ill-defined and being set to 0.0 in labels with no predicted samples.\n",
      "  'precision', 'predicted', average, warn_for)\n"
     ]
    }
   ],
   "source": [
    "predicted = pipeline.predict(tweets_test[\"TEXT\"])\n",
    "print(classification_report(tweets_test[\"LANG\"], predicted))"
   ]
  },
  {
   "cell_type": "code",
   "execution_count": 31,
   "metadata": {},
   "outputs": [],
   "source": [
    "def multi_roc(y, probs):\n",
    "    \n",
    "    mean_tpr = 0.0\n",
    "    mean_fpr = np.linspace(0, 1, 100)\n",
    "    all_tpr = []\n",
    "\n",
    "    for i, (train, test) in enumerate(cv):\n",
    "        # probas_ = classifier.fit(X[train], y[train]).predict_proba(X[test])\n",
    "        # Compute ROC curve and area the curve\n",
    "        fpr, tpr, thresholds = roc_curve(y[test], probas_[:, 1])\n",
    "        mean_tpr += interp(mean_fpr, fpr, tpr)\n",
    "        mean_tpr[0] = 0.0\n",
    "        roc_auc = auc(fpr, tpr)\n",
    "        plt.plot(fpr, tpr, lw=1, label='ROC fold %d (area = %0.2f)' % (i, roc_auc))\n",
    "\n",
    "    plt.plot([0, 1], [0, 1], '--', color=(0.6, 0.6, 0.6), label='Luck')\n",
    "\n",
    "    mean_tpr /= len(cv)\n",
    "    mean_tpr[-1] = 1.0\n",
    "    mean_auc = auc(mean_fpr, mean_tpr)\n",
    "    plt.plot(mean_fpr, mean_tpr, 'k--',\n",
    "             label='Mean ROC (area = %0.2f)' % mean_auc, lw=2)\n",
    "\n",
    "    plt.xlim([-0.05, 1.05])\n",
    "    plt.ylim([-0.05, 1.05])\n",
    "    plt.xlabel('False Positive Rate')\n",
    "    plt.ylabel('True Positive Rate')\n",
    "    plt.title('Receiver operating characteristic example')\n",
    "    plt.legend(loc=\"lower right\")\n",
    "    plt.show()"
   ]
  },
  {
   "cell_type": "code",
   "execution_count": 32,
   "metadata": {},
   "outputs": [],
   "source": [
    "from sklearn.metrics import roc_curve\n",
    "\n",
    "def plot_roc(y, probs, threshmarkers=None):\n",
    "    fpr, tpr, thresh = roc_curve(y, probs)\n",
    "\n",
    "    plt.figure(figsize=(8,8))\n",
    "    plt.plot(fpr, tpr, lw=2)\n",
    "   \n",
    "    plt.xlabel(\"False Positive Rate\\n(1 - Specificity)\")\n",
    "    plt.ylabel(\"True Positive Rate\\n(Sensitivity)\")\n",
    "    plt.xlim([-0.025, 1.025])\n",
    "    plt.ylim([-0.025, 1.025])\n",
    "    plt.xticks(np.linspace(0, 1, 21), rotation=45)\n",
    "    plt.yticks(np.linspace(0, 1, 21))\n",
    "    plt.show()"
   ]
  },
  {
   "cell_type": "code",
   "execution_count": 33,
   "metadata": {},
   "outputs": [
    {
     "data": {
      "image/png": "[encoded data removed]",
      "text/plain": [
       "<Figure size 576x576 with 1 Axes>"
      ]
     },
     "metadata": {},
     "output_type": "display_data"
    },
    {
     "data": {
      "image/png": "[encoded data removed]",
      "text/plain": [
       "<Figure size 576x576 with 1 Axes>"
      ]
     },
     "metadata": {},
     "output_type": "display_data"
    }
   ],
   "source": [
    "predicted_proba = pipeline.predict_proba(tweets_test['TEXT'])\n",
    "plot_roc(tweets_test['LANG'].apply(lambda x: x == \"en\"), predicted_proba[:, list(pipeline.classes_).index(\"en\")])\n",
    "plot_roc(tweets_test['LANG'].apply(lambda x: x == \"it\"), predicted_proba[:, list(pipeline.classes_).index(\"it\")])"
   ]
  },
  {
   "cell_type": "markdown",
   "metadata": {},
   "source": [
    "### 5 Check out your baseline.\n",
    "\n",
    "What is the chance that you will randomly guess correctly without any modeling? Assume the language of your input phrase has the same chance of appearing as the languages in your training set."
   ]
  },
  {
   "cell_type": "code",
   "execution_count": 34,
   "metadata": {},
   "outputs": [
    {
     "data": {
      "text/plain": [
       "0.08333333333333333"
      ]
     },
     "execution_count": 34,
     "metadata": {},
     "output_type": "execute_result"
    }
   ],
   "source": [
    "(tweets_train.LANG.value_counts() / len(tweets_train)).mean()"
   ]
  },
  {
   "cell_type": "markdown",
   "metadata": {},
   "source": [
    "### 6. What is your model not getting right?\n",
    "\n",
    "Check out the incorrectly classified tweets.  Any noticable patterns? Can you explain why many of these are incorrectly classified, given what you know about how Naive Bayes works?  Pay particular attention to the recall metric.  What might be done in preprocessing steps to improve accuracy?  \n",
    "\n",
    "- Try to improve with your **preprocessing first**\n",
    "- THEN try to tweak your **parameters to your model(s)**"
   ]
  },
  {
   "cell_type": "code",
   "execution_count": 35,
   "metadata": {},
   "outputs": [
    {
     "data": {
      "text/html": [
       "<div>\n",
       "<style scoped>\n",
       "    .dataframe tbody tr th:only-of-type {\n",
       "        vertical-align: middle;\n",
       "    }\n",
       "\n",
       "    .dataframe tbody tr th {\n",
       "        vertical-align: top;\n",
       "    }\n",
       "\n",
       "    .dataframe thead th {\n",
       "        text-align: right;\n",
       "    }\n",
       "</style>\n",
       "<table border=\"1\" class=\"dataframe\">\n",
       "  <thead>\n",
       "    <tr style=\"text-align: right;\">\n",
       "      <th></th>\n",
       "      <th>actual</th>\n",
       "      <th>predicted</th>\n",
       "      <th>TEXT</th>\n",
       "    </tr>\n",
       "  </thead>\n",
       "  <tbody>\n",
       "    <tr>\n",
       "      <th>3</th>\n",
       "      <td>en</td>\n",
       "      <td>sv</td>\n",
       "      <td>Currently just changed my entire outfit includ...</td>\n",
       "    </tr>\n",
       "    <tr>\n",
       "      <th>22</th>\n",
       "      <td>en</td>\n",
       "      <td>pt</td>\n",
       "      <td>To Infinity &amp;amp; Beyond  #Rodos #Lindos #Gree...</td>\n",
       "    </tr>\n",
       "    <tr>\n",
       "      <th>27</th>\n",
       "      <td>en</td>\n",
       "      <td>de</td>\n",
       "      <td>WordPress –  Promote   Professional Stock Phot...</td>\n",
       "    </tr>\n",
       "    <tr>\n",
       "      <th>35</th>\n",
       "      <td>en</td>\n",
       "      <td>de</td>\n",
       "      <td>im painting my nails at 2:30am #yolo #yoloswag...</td>\n",
       "    </tr>\n",
       "    <tr>\n",
       "      <th>49</th>\n",
       "      <td>en</td>\n",
       "      <td>it</td>\n",
       "      <td>00:16 Breaking the system #YOLO</td>\n",
       "    </tr>\n",
       "    <tr>\n",
       "      <th>61</th>\n",
       "      <td>en</td>\n",
       "      <td>fr</td>\n",
       "      <td>Fuck it.  I'm done with bras. #yolo</td>\n",
       "    </tr>\n",
       "    <tr>\n",
       "      <th>63</th>\n",
       "      <td>en</td>\n",
       "      <td>de</td>\n",
       "      <td>LOOK @GRAB_1558_FOLLOWS\\n\\n#dubai #best #wcw #...</td>\n",
       "    </tr>\n",
       "    <tr>\n",
       "      <th>74</th>\n",
       "      <td>en</td>\n",
       "      <td>es</td>\n",
       "      <td>@vddfalcona because #yolo #swag #policiastem7b...</td>\n",
       "    </tr>\n",
       "    <tr>\n",
       "      <th>85</th>\n",
       "      <td>en</td>\n",
       "      <td>es</td>\n",
       "      <td>Living on Earth may be expensive, but it inclu...</td>\n",
       "    </tr>\n",
       "    <tr>\n",
       "      <th>89</th>\n",
       "      <td>en</td>\n",
       "      <td>es</td>\n",
       "      <td>#yolo #swag #mlsallstar #MLS454 hotspur 4 - ML...</td>\n",
       "    </tr>\n",
       "    <tr>\n",
       "      <th>107</th>\n",
       "      <td>en</td>\n",
       "      <td>es</td>\n",
       "      <td>Some List of Documents About Vive Tu Otono, #v...</td>\n",
       "    </tr>\n",
       "    <tr>\n",
       "      <th>127</th>\n",
       "      <td>en</td>\n",
       "      <td>es</td>\n",
       "      <td>Mural in Quebec city ... Yes Peter Stastny jer...</td>\n",
       "    </tr>\n",
       "    <tr>\n",
       "      <th>138</th>\n",
       "      <td>en</td>\n",
       "      <td>es</td>\n",
       "      <td>RT @VICOCENTENO: What beautiful place with my ...</td>\n",
       "    </tr>\n",
       "    <tr>\n",
       "      <th>145</th>\n",
       "      <td>en</td>\n",
       "      <td>pt</td>\n",
       "      <td>#LIVE everyday as #Friday\\n#Viernes #Vive #Son...</td>\n",
       "    </tr>\n",
       "    <tr>\n",
       "      <th>147</th>\n",
       "      <td>en</td>\n",
       "      <td>fr</td>\n",
       "      <td>http://t.co/Z8inxXnW6K: CHANCE EAU VIVE - The ...</td>\n",
       "    </tr>\n",
       "    <tr>\n",
       "      <th>173</th>\n",
       "      <td>en</td>\n",
       "      <td>es</td>\n",
       "      <td>#world #travel #camera #angle #southamerica #v...</td>\n",
       "    </tr>\n",
       "    <tr>\n",
       "      <th>228</th>\n",
       "      <td>en</td>\n",
       "      <td>fr</td>\n",
       "      <td>Video Funny #Autistic Boy http://t.co/l9mKW77h...</td>\n",
       "    </tr>\n",
       "    <tr>\n",
       "      <th>239</th>\n",
       "      <td>en</td>\n",
       "      <td>und</td>\n",
       "      <td>RT @tagi_madi: Morgherini’s #Iran trip encoura...</td>\n",
       "    </tr>\n",
       "    <tr>\n",
       "      <th>241</th>\n",
       "      <td>en</td>\n",
       "      <td>sv</td>\n",
       "      <td>RT @ryan_hunt: Florida Man Charged With Plotti...</td>\n",
       "    </tr>\n",
       "    <tr>\n",
       "      <th>249</th>\n",
       "      <td>en</td>\n",
       "      <td>und</td>\n",
       "      <td>#US. Slams #Russia 's 'Unpredictable, Irrespon...</td>\n",
       "    </tr>\n",
       "    <tr>\n",
       "      <th>250</th>\n",
       "      <td>en</td>\n",
       "      <td>de</td>\n",
       "      <td>RT @Daudoo: Surveillance #drone departed from ...</td>\n",
       "    </tr>\n",
       "    <tr>\n",
       "      <th>267</th>\n",
       "      <td>en</td>\n",
       "      <td>und</td>\n",
       "      <td>#US not confirming Syria ‘safe zone,’ despite ...</td>\n",
       "    </tr>\n",
       "    <tr>\n",
       "      <th>282</th>\n",
       "      <td>en</td>\n",
       "      <td>es</td>\n",
       "      <td>#9: Apple iPhone 5C White 8GB Smartphone works...</td>\n",
       "    </tr>\n",
       "    <tr>\n",
       "      <th>295</th>\n",
       "      <td>en</td>\n",
       "      <td>it</td>\n",
       "      <td>RUSSIA SET TO REJECT #UNSC resolution to inves...</td>\n",
       "    </tr>\n",
       "    <tr>\n",
       "      <th>305</th>\n",
       "      <td>en</td>\n",
       "      <td>fr</td>\n",
       "      <td>The distance between Idroussa 832 00, Greece a...</td>\n",
       "    </tr>\n",
       "    <tr>\n",
       "      <th>320</th>\n",
       "      <td>en</td>\n",
       "      <td>it</td>\n",
       "      <td>Video: “The cure for anything is salt water: s...</td>\n",
       "    </tr>\n",
       "    <tr>\n",
       "      <th>405</th>\n",
       "      <td>en</td>\n",
       "      <td>de</td>\n",
       "      <td>#NatureValley #Planet Spring http://t.co/O8RvY...</td>\n",
       "    </tr>\n",
       "    <tr>\n",
       "      <th>414</th>\n",
       "      <td>en</td>\n",
       "      <td>de</td>\n",
       "      <td>Xamarin: Amazon Web Services Mobile SDKs for X...</td>\n",
       "    </tr>\n",
       "    <tr>\n",
       "      <th>415</th>\n",
       "      <td>en</td>\n",
       "      <td>es</td>\n",
       "      <td>#NatureValley #Planet backstage... http://t.co...</td>\n",
       "    </tr>\n",
       "    <tr>\n",
       "      <th>421</th>\n",
       "      <td>en</td>\n",
       "      <td>es</td>\n",
       "      <td>#NatureValley #Planet Egret in the Weeds http:...</td>\n",
       "    </tr>\n",
       "    <tr>\n",
       "      <th>...</th>\n",
       "      <td>...</td>\n",
       "      <td>...</td>\n",
       "      <td>...</td>\n",
       "    </tr>\n",
       "    <tr>\n",
       "      <th>9226</th>\n",
       "      <td>it</td>\n",
       "      <td>en</td>\n",
       "      <td>RT @blondereddell: L.O.V.E. #commanderinchic #...</td>\n",
       "    </tr>\n",
       "    <tr>\n",
       "      <th>9227</th>\n",
       "      <td>it</td>\n",
       "      <td>ru</td>\n",
       "      <td>Tornare dementi!! 😆😆😆😂❤❤ #love #couple #cute #...</td>\n",
       "    </tr>\n",
       "    <tr>\n",
       "      <th>9229</th>\n",
       "      <td>it</td>\n",
       "      <td>fr</td>\n",
       "      <td>L.O.V.E. #commanderinchic #idcdesigners #inter...</td>\n",
       "    </tr>\n",
       "    <tr>\n",
       "      <th>9235</th>\n",
       "      <td>it</td>\n",
       "      <td>uk</td>\n",
       "      <td>Attimi pensanti 🆒 #love #TagsForLikes.com #Tag...</td>\n",
       "    </tr>\n",
       "    <tr>\n",
       "      <th>9238</th>\n",
       "      <td>it</td>\n",
       "      <td>es</td>\n",
       "      <td>Mi ILY!  #Love #movilgrafias #igers_ #madridbu...</td>\n",
       "    </tr>\n",
       "    <tr>\n",
       "      <th>9243</th>\n",
       "      <td>it</td>\n",
       "      <td>pt</td>\n",
       "      <td>✨🌜😴 buona luna!!  #love #instagood #me #cute #...</td>\n",
       "    </tr>\n",
       "    <tr>\n",
       "      <th>9245</th>\n",
       "      <td>it</td>\n",
       "      <td>pt</td>\n",
       "      <td>Colore🍓🍀🌻🌺#love #instadaily #instagood #summer...</td>\n",
       "    </tr>\n",
       "    <tr>\n",
       "      <th>9254</th>\n",
       "      <td>it</td>\n",
       "      <td>und</td>\n",
       "      <td>Salonicco 🏰⛵️#instamoment #picoftheday #smile ...</td>\n",
       "    </tr>\n",
       "    <tr>\n",
       "      <th>9265</th>\n",
       "      <td>it</td>\n",
       "      <td>pt</td>\n",
       "      <td>Sempre.\\n\\n#hungergames #mockingjay #peeta #ka...</td>\n",
       "    </tr>\n",
       "    <tr>\n",
       "      <th>9278</th>\n",
       "      <td>it</td>\n",
       "      <td>pt</td>\n",
       "      <td>\"@  SofiMacaggi: #hermanos #love https://t.co/...</td>\n",
       "    </tr>\n",
       "    <tr>\n",
       "      <th>9284</th>\n",
       "      <td>it</td>\n",
       "      <td>und</td>\n",
       "      <td>InstaPic by silviasibilla: Giorni vacanzieri ❤...</td>\n",
       "    </tr>\n",
       "    <tr>\n",
       "      <th>9287</th>\n",
       "      <td>it</td>\n",
       "      <td>sv</td>\n",
       "      <td>Brando coccole... Gelato, banana, cioccolato e...</td>\n",
       "    </tr>\n",
       "    <tr>\n",
       "      <th>9288</th>\n",
       "      <td>it</td>\n",
       "      <td>en</td>\n",
       "      <td>Me &amp;amp; you!!! #love #me&amp;amp;you #friends #fu...</td>\n",
       "    </tr>\n",
       "    <tr>\n",
       "      <th>9296</th>\n",
       "      <td>it</td>\n",
       "      <td>uk</td>\n",
       "      <td>Un giorno sarai mio😍 #tatoo #love #TagsForLike...</td>\n",
       "    </tr>\n",
       "    <tr>\n",
       "      <th>9297</th>\n",
       "      <td>it</td>\n",
       "      <td>es</td>\n",
       "      <td>Una fogata by:Ainara\\n#family #love #sobrina h...</td>\n",
       "    </tr>\n",
       "    <tr>\n",
       "      <th>9309</th>\n",
       "      <td>it</td>\n",
       "      <td>es</td>\n",
       "      <td>#KCA #VoteJKT48ID ornellitanita:  #daddy #sist...</td>\n",
       "    </tr>\n",
       "    <tr>\n",
       "      <th>9318</th>\n",
       "      <td>it</td>\n",
       "      <td>es</td>\n",
       "      <td>Una fogata by:Ainara\\n#family #love #sobrina h...</td>\n",
       "    </tr>\n",
       "    <tr>\n",
       "      <th>9319</th>\n",
       "      <td>it</td>\n",
       "      <td>es</td>\n",
       "      <td>Tramonti calabresi! 😍😍😍 #sunset #south #Italy ...</td>\n",
       "    </tr>\n",
       "    <tr>\n",
       "      <th>9320</th>\n",
       "      <td>it</td>\n",
       "      <td>pt</td>\n",
       "      <td>#family #cousins #algarve by asfrancisco79 htt...</td>\n",
       "    </tr>\n",
       "    <tr>\n",
       "      <th>9330</th>\n",
       "      <td>it</td>\n",
       "      <td>en</td>\n",
       "      <td>#Pizza #Party #With #Family... #Last #Order 😂😍...</td>\n",
       "    </tr>\n",
       "    <tr>\n",
       "      <th>9333</th>\n",
       "      <td>it</td>\n",
       "      <td>de</td>\n",
       "      <td>InstaPic by nenostefanomanetti: amore ❤️ Ercol...</td>\n",
       "    </tr>\n",
       "    <tr>\n",
       "      <th>9334</th>\n",
       "      <td>it</td>\n",
       "      <td>pt</td>\n",
       "      <td>Baby Davi brincando e a tia babando.. #instagr...</td>\n",
       "    </tr>\n",
       "    <tr>\n",
       "      <th>9336</th>\n",
       "      <td>it</td>\n",
       "      <td>fr</td>\n",
       "      <td>Layla-Mae #granddaughter #family #love #likefo...</td>\n",
       "    </tr>\n",
       "    <tr>\n",
       "      <th>9343</th>\n",
       "      <td>it</td>\n",
       "      <td>es</td>\n",
       "      <td>#MIA #lil #Cuzo #South #Beach #family #love #v...</td>\n",
       "    </tr>\n",
       "    <tr>\n",
       "      <th>9345</th>\n",
       "      <td>it</td>\n",
       "      <td>en</td>\n",
       "      <td>Joshua mamma e Gea!\\n#Catania #Sicily #Summer ...</td>\n",
       "    </tr>\n",
       "    <tr>\n",
       "      <th>9364</th>\n",
       "      <td>it</td>\n",
       "      <td>es</td>\n",
       "      <td>Castelli di sabbia 🏰🏰🏰\\n#Sand #Beach #Summer #...</td>\n",
       "    </tr>\n",
       "    <tr>\n",
       "      <th>9378</th>\n",
       "      <td>it</td>\n",
       "      <td>ru</td>\n",
       "      <td>Tatù Bracelets by Niente Paura\\nhttp://t.co/qS...</td>\n",
       "    </tr>\n",
       "    <tr>\n",
       "      <th>9394</th>\n",
       "      <td>it</td>\n",
       "      <td>en</td>\n",
       "      <td>💯💯💯💯 #family @ City of Palmetto https://t.co/r...</td>\n",
       "    </tr>\n",
       "    <tr>\n",
       "      <th>9399</th>\n",
       "      <td>it</td>\n",
       "      <td>und</td>\n",
       "      <td>Family Hotel Barcelo Karmina Palace Deluxe All...</td>\n",
       "    </tr>\n",
       "    <tr>\n",
       "      <th>9408</th>\n",
       "      <td>it</td>\n",
       "      <td>es</td>\n",
       "      <td>Con mi gordis bella!!! #disneyonice #love #nie...</td>\n",
       "    </tr>\n",
       "  </tbody>\n",
       "</table>\n",
       "<p>1221 rows × 3 columns</p>\n",
       "</div>"
      ],
      "text/plain": [
       "     actual predicted                                               TEXT\n",
       "3        en        sv  Currently just changed my entire outfit includ...\n",
       "22       en        pt  To Infinity &amp; Beyond  #Rodos #Lindos #Gree...\n",
       "27       en        de  WordPress –  Promote   Professional Stock Phot...\n",
       "35       en        de  im painting my nails at 2:30am #yolo #yoloswag...\n",
       "49       en        it                    00:16 Breaking the system #YOLO\n",
       "61       en        fr                Fuck it.  I'm done with bras. #yolo\n",
       "63       en        de  LOOK @GRAB_1558_FOLLOWS\\n\\n#dubai #best #wcw #...\n",
       "74       en        es  @vddfalcona because #yolo #swag #policiastem7b...\n",
       "85       en        es  Living on Earth may be expensive, but it inclu...\n",
       "89       en        es  #yolo #swag #mlsallstar #MLS454 hotspur 4 - ML...\n",
       "107      en        es  Some List of Documents About Vive Tu Otono, #v...\n",
       "127      en        es  Mural in Quebec city ... Yes Peter Stastny jer...\n",
       "138      en        es  RT @VICOCENTENO: What beautiful place with my ...\n",
       "145      en        pt  #LIVE everyday as #Friday\\n#Viernes #Vive #Son...\n",
       "147      en        fr  http://t.co/Z8inxXnW6K: CHANCE EAU VIVE - The ...\n",
       "173      en        es  #world #travel #camera #angle #southamerica #v...\n",
       "228      en        fr  Video Funny #Autistic Boy http://t.co/l9mKW77h...\n",
       "239      en       und  RT @tagi_madi: Morgherini’s #Iran trip encoura...\n",
       "241      en        sv  RT @ryan_hunt: Florida Man Charged With Plotti...\n",
       "249      en       und  #US. Slams #Russia 's 'Unpredictable, Irrespon...\n",
       "250      en        de  RT @Daudoo: Surveillance #drone departed from ...\n",
       "267      en       und  #US not confirming Syria ‘safe zone,’ despite ...\n",
       "282      en        es  #9: Apple iPhone 5C White 8GB Smartphone works...\n",
       "295      en        it  RUSSIA SET TO REJECT #UNSC resolution to inves...\n",
       "305      en        fr  The distance between Idroussa 832 00, Greece a...\n",
       "320      en        it  Video: “The cure for anything is salt water: s...\n",
       "405      en        de  #NatureValley #Planet Spring http://t.co/O8RvY...\n",
       "414      en        de  Xamarin: Amazon Web Services Mobile SDKs for X...\n",
       "415      en        es  #NatureValley #Planet backstage... http://t.co...\n",
       "421      en        es  #NatureValley #Planet Egret in the Weeds http:...\n",
       "...     ...       ...                                                ...\n",
       "9226     it        en  RT @blondereddell: L.O.V.E. #commanderinchic #...\n",
       "9227     it        ru  Tornare dementi!! 😆😆😆😂❤❤ #love #couple #cute #...\n",
       "9229     it        fr  L.O.V.E. #commanderinchic #idcdesigners #inter...\n",
       "9235     it        uk  Attimi pensanti 🆒 #love #TagsForLikes.com #Tag...\n",
       "9238     it        es  Mi ILY!  #Love #movilgrafias #igers_ #madridbu...\n",
       "9243     it        pt  ✨🌜😴 buona luna!!  #love #instagood #me #cute #...\n",
       "9245     it        pt  Colore🍓🍀🌻🌺#love #instadaily #instagood #summer...\n",
       "9254     it       und  Salonicco 🏰⛵️#instamoment #picoftheday #smile ...\n",
       "9265     it        pt  Sempre.\\n\\n#hungergames #mockingjay #peeta #ka...\n",
       "9278     it        pt  \"@  SofiMacaggi: #hermanos #love https://t.co/...\n",
       "9284     it       und  InstaPic by silviasibilla: Giorni vacanzieri ❤...\n",
       "9287     it        sv  Brando coccole... Gelato, banana, cioccolato e...\n",
       "9288     it        en  Me &amp; you!!! #love #me&amp;you #friends #fu...\n",
       "9296     it        uk  Un giorno sarai mio😍 #tatoo #love #TagsForLike...\n",
       "9297     it        es  Una fogata by:Ainara\\n#family #love #sobrina h...\n",
       "9309     it        es  #KCA #VoteJKT48ID ornellitanita:  #daddy #sist...\n",
       "9318     it        es  Una fogata by:Ainara\\n#family #love #sobrina h...\n",
       "9319     it        es  Tramonti calabresi! 😍😍😍 #sunset #south #Italy ...\n",
       "9320     it        pt  #family #cousins #algarve by asfrancisco79 htt...\n",
       "9330     it        en  #Pizza #Party #With #Family... #Last #Order 😂😍...\n",
       "9333     it        de  InstaPic by nenostefanomanetti: amore ❤️ Ercol...\n",
       "9334     it        pt  Baby Davi brincando e a tia babando.. #instagr...\n",
       "9336     it        fr  Layla-Mae #granddaughter #family #love #likefo...\n",
       "9343     it        es  #MIA #lil #Cuzo #South #Beach #family #love #v...\n",
       "9345     it        en  Joshua mamma e Gea!\\n#Catania #Sicily #Summer ...\n",
       "9364     it        es  Castelli di sabbia 🏰🏰🏰\\n#Sand #Beach #Summer #...\n",
       "9378     it        ru  Tatù Bracelets by Niente Paura\\nhttp://t.co/qS...\n",
       "9394     it        en  💯💯💯💯 #family @ City of Palmetto https://t.co/r...\n",
       "9399     it       und  Family Hotel Barcelo Karmina Palace Deluxe All...\n",
       "9408     it        es  Con mi gordis bella!!! #disneyonice #love #nie...\n",
       "\n",
       "[1221 rows x 3 columns]"
      ]
     },
     "execution_count": 35,
     "metadata": {},
     "output_type": "execute_result"
    }
   ],
   "source": [
    "predicted = pipeline.predict(tweets_df[\"TEXT\"])\n",
    "\n",
    "# Incorrectly classified\n",
    "incorrect_preds = tweets_df[(predicted != tweets_df['LANG'])]\n",
    "\n",
    "incorrect_df = pd.DataFrame({'actual': incorrect_preds['LANG'], \n",
    "                             'predicted': predicted[incorrect_preds.index.values.astype(int)],\n",
    "                             'TEXT': incorrect_preds['TEXT']})\n",
    "\n",
    "incorrect_df"
   ]
  },
  {
   "cell_type": "markdown",
   "metadata": {},
   "source": [
    "## Additional Practice\n",
    "In the datasets directory are two additional datasets you can use for additional pratice:\n",
    "\n",
    "- **/datasets/tweets_sentiment.csv** - Sentiment analysis\n",
    "\n",
    "- **/datasets/insults_train.csv** - [Kaggle dataset](https://www.kaggle.com/c/detecting-insults-in-social-commentary). _WARNING:_ This content is fairly provacative and contains very offensive and insensitive words. However, this type of problem is very common in the continuum of comment threads throughout the web.\n",
    "\n",
    "    - Check [this blog post](http://webmining.olariu.org/my-first-kaggle-competition-and-how-i-ranked/) by a guy who used SVM, a \"neural network\", a ton of cleaning, then placed 3rd in a Kaggle competition featuing this same dataset. Also see [this blog post](http://peekaboo-vision.blogspot.de/2012/09/recap-of-my-first-kaggle-competition.html) -- he got 6th place and found the best model was a simple Logistic Regression!\n",
    "\n",
    "#### Where Next?\n",
    "\n",
    "If you're interested in this type of problem, a great area to read up on is sentiment analysis.  This [Kaggle dataset](https://www.kaggle.com/c/sentiment-analysis-on-movie-reviews/data) is an excellent opportunity to practice more.  Also these whitepapers are great places to expand on this topic:\n",
    "\n",
    "- [Fast and accurate sentiment classification using an\n",
    "enhanced Naive Bayes model](http://arxiv.org/pdf/1305.6143.pdf) *Great overview!*\n",
    "- [Sarcasm Detection](http://www.aclweb.org/anthology/P15-2124)\n",
    "- [Making Computers Laugh:\n",
    "Investigations in Automatic Humor Recognition](http://www.aclweb.org/anthology/H05-1067)\n",
    "- [Modelling Sarcasm in Twitter, a Novel Approach](http://www.aclweb.org/anthology/W14-2609)\n",
    "- [RUNNING HEAD: NARCISSISM AND LIE DETECTION](https://deepblue.lib.umich.edu/bitstream/handle/2027.42/107345/zarins.finalthesis.pdf?sequence=1) *The study metrics are interesting*"
   ]
  },
  {
   "cell_type": "code",
   "execution_count": null,
   "metadata": {},
   "outputs": [],
   "source": []
  }
 ],
 "metadata": {
  "anaconda-cloud": {},
  "kernelspec": {
   "display_name": "Python 3",
   "language": "python",
   "name": "python3"
  },
  "language_info": {
   "codemirror_mode": {
    "name": "ipython",
    "version": 3
   },
   "file_extension": ".py",
   "mimetype": "text/x-python",
   "name": "python",
   "nbconvert_exporter": "python",
   "pygments_lexer": "ipython3",
   "version": "3.6.6"
  }
 },
 "nbformat": 4,
 "nbformat_minor": 1
}
