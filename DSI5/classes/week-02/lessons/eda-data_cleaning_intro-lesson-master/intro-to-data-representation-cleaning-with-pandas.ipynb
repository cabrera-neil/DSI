{
 "cells": [
  {
   "cell_type": "markdown",
   "metadata": {
    "slideshow": {
     "slide_type": "slide"
    }
   },
   "source": [
    "<img src=\"http://imgur.com/1ZcRyrc.png\" style=\"float: left; margin: 20px; height: 55px\">\n",
    "\n",
    "## Intro to Data Representation and Data Cleaning\n",
    "\n",
    "_Authors: Dave Yerrington (SF)_\n",
    "\n",
    "---\n",
    "\n",
    "<img src=\"https://snag.gy/ywU34V.jpg\" width=\"250\">"
   ]
  },
  {
   "cell_type": "markdown",
   "metadata": {
    "slideshow": {
     "slide_type": "slide"
    }
   },
   "source": [
    "### Learning Objectives\n",
    "*After this lesson, you will be able to:*\n",
    "- Inspect data types.\n",
    "- Clean up a column using `df.apply()`.\n",
    "- Recognize situations in which to use `.value_counts()` in your code."
   ]
  },
  {
   "cell_type": "markdown",
   "metadata": {
    "slideshow": {
     "slide_type": "slide"
    }
   },
   "source": [
    "### Lesson Guide\n",
    "\n",
    "- [Common Data Cleaning Strategies](#common_strategies)\n",
    "- [Data Quality Measures](#data_quality_measures)\n",
    "- [`pandas` Tools for Cleaning Data](#cleaning_tools)\n",
    "- [Common Operations on Data by Type](#common_operations)\n",
    "- [Guided Practice: Inspecting Data Types and Applying Functions](#guided_practice)\n",
    "- [Independent Practice: Sales Data](#independent_pratice)\n"
   ]
  },
  {
   "cell_type": "markdown",
   "metadata": {
    "slideshow": {
     "slide_type": "slide"
    }
   },
   "source": [
    "<a id='common_strategies'></a>\n",
    "\n",
    "### Common Data Cleaning Strategies\n",
    "\n",
    "---\n",
    "\n",
    " - Remove missing values.\n",
    " - Remove incorrect values.\n",
    " - Update incorrect values.\n",
    "  - Removing invalid characters.\n",
    "  - Truncating part of a value.\n",
    "  - Adding an extra numeral or string-based data.\n",
    " - Imputate missing or invalid data.\n",
    "  - Calculating the mean/median/mode of a column, sometimes within group subsets.\n",
    "  - Implementing model-based imputation (K-Nearest Neighbors, MICE, etc.).\n",
    " - Backfill or forward fill.\n"
   ]
  },
  {
   "cell_type": "markdown",
   "metadata": {
    "slideshow": {
     "slide_type": "slide"
    }
   },
   "source": [
    "<a id='data_quality_measures'></a>\n",
    "\n",
    "### Measures of Data Quality\n",
    "\n",
    "---\n",
    "\n",
    " - What is the relative value of the data column?\n",
    " - Is the data encoded properly?\n",
    " - Is the data consistently encoded? Does it represent the information it contains appropriately?"
   ]
  },
  {
   "cell_type": "markdown",
   "metadata": {
    "slideshow": {
     "slide_type": "slide"
    }
   },
   "source": [
    "<a id='cleaning_tools'></a>\n",
    "\n",
    "### `pandas` Tools for Cleaning Data\n",
    "\n",
    "---\n",
    "\n",
    "We're starting to get more comfortable with using `pandas` for manipulating and examining data. Now, let's add a couple more tools to our toolbox.\n",
    "\n",
    "The main data types in `pandas` objects are:\n",
    "- `float`\n",
    "- `int`\n",
    "- `bool`\n",
    "- `datetime64`\n",
    "- `timedelta`\n",
    "- `category`\n",
    "- `object`\n",
    "\n",
    "It is always important to evaluate the data types of columns to ensure that the information they contain is properly represented.\n",
    "\n",
    "See [`pandas`: dtypes](http://pandas.pydata.org/pandas-docs/stable/pandas.pdf) for a more detailed reference.\n",
    "\n",
    "We will be using two tools extensively in this lesson:\n",
    "\n",
    "**The `.apply()` function**\n",
    "\n",
    "This built-in function will apply a function to all cells, rows, or columns within a DataFrame. We will explore this process in detail below.\n",
    "\n",
    "**The Series `.value_counts` attribute**\n",
    "\n",
    "`pandas` Series objects have `.value_counts` attributes that return a new Series containing the counts of the data's unique values. This Series will be formatted in descending order by default, so the first element is the most frequently occuring value.\n",
    "\n",
    "Note: `.value_counts` excludes the counts of null values in the column!\n",
    "\n",
    "See [`pandas` Series: value_counts](http://nullege.com/codes/search/pandas.Series.value_counts) for more detailed information.\n"
   ]
  },
  {
   "cell_type": "markdown",
   "metadata": {
    "slideshow": {
     "slide_type": "slide"
    }
   },
   "source": [
    "<a id='common_operations'></a>\n",
    "\n",
    "### Common Operations on Data by Type\n",
    "\n",
    "---\n",
    "\n",
    "- **`float`**: Precision-specific math operations.\n",
    "- **`int`**: Operations with whole numbers.\n",
    "- **`bool`**: Control flow conditions.\n",
    "- **`datetime64`**: Resampling, slicing/selection, frequency back/front filling on a date range.\n",
    "- **`timedelta`**: Date comparisons.\n",
    "- **`category`**: A more powerful set type; can capture for example days as a category with ordinal (ordering) information.\n",
    "- **`object`**: All data types can be represented as an object, but math and date operations will not be possible. Limited control flow possibilities are available unless you are comparing strings."
   ]
  },
  {
   "cell_type": "markdown",
   "metadata": {
    "slideshow": {
     "slide_type": "slide"
    }
   },
   "source": [
    "<a id='guided_practice'></a>\n",
    "\n",
    "### Guided Practice: Inspecting Data Types and Applying Functions\n",
    "\n",
    "---\n",
    "\n",
    "[This guided practice](./practice-inspecting-data-applying-functions.ipynb) follows along with the questions in the Jupyter notebook provided.\n"
   ]
  },
  {
   "cell_type": "code",
   "execution_count": 3,
   "metadata": {},
   "outputs": [],
   "source": [
    "import pandas as pd\n",
    "import numpy as np"
   ]
  },
  {
   "cell_type": "markdown",
   "metadata": {
    "slideshow": {
     "slide_type": "slide"
    }
   },
   "source": [
    "**1. Create a small DataFrame with different data types.**"
   ]
  },
  {
   "cell_type": "code",
   "execution_count": 4,
   "metadata": {
    "slideshow": {
     "slide_type": "-"
    }
   },
   "outputs": [],
   "source": [
    "test_data = dict( \n",
    "    A = np.random.rand(3),\n",
    "    B = 1,\n",
    "    C = 'foo',\n",
    "    D = pd.Timestamp('20010102'),\n",
    "    E = pd.Series([1.0]*3).astype('float32'),\n",
    "    F = False,\n",
    "    G = pd.Series([1]*3,dtype='int8')\n",
    ")"
   ]
  },
  {
   "cell_type": "code",
   "execution_count": 5,
   "metadata": {
    "slideshow": {
     "slide_type": "fragment"
    }
   },
   "outputs": [
    {
     "data": {
      "text/plain": [
       "{'A': array([0.31370676, 0.60118905, 0.78123557]),\n",
       " 'B': 1,\n",
       " 'C': 'foo',\n",
       " 'D': Timestamp('2001-01-02 00:00:00'),\n",
       " 'E': 0    1.0\n",
       " 1    1.0\n",
       " 2    1.0\n",
       " dtype: float32,\n",
       " 'F': False,\n",
       " 'G': 0    1\n",
       " 1    1\n",
       " 2    1\n",
       " dtype: int8}"
      ]
     },
     "execution_count": 5,
     "metadata": {},
     "output_type": "execute_result"
    }
   ],
   "source": [
    "test_data"
   ]
  },
  {
   "cell_type": "code",
   "execution_count": 6,
   "metadata": {
    "slideshow": {
     "slide_type": "slide"
    }
   },
   "outputs": [
    {
     "data": {
      "text/html": [
       "<div>\n",
       "<style scoped>\n",
       "    .dataframe tbody tr th:only-of-type {\n",
       "        vertical-align: middle;\n",
       "    }\n",
       "\n",
       "    .dataframe tbody tr th {\n",
       "        vertical-align: top;\n",
       "    }\n",
       "\n",
       "    .dataframe thead th {\n",
       "        text-align: right;\n",
       "    }\n",
       "</style>\n",
       "<table border=\"1\" class=\"dataframe\">\n",
       "  <thead>\n",
       "    <tr style=\"text-align: right;\">\n",
       "      <th></th>\n",
       "      <th>A</th>\n",
       "      <th>B</th>\n",
       "      <th>C</th>\n",
       "      <th>D</th>\n",
       "      <th>E</th>\n",
       "      <th>F</th>\n",
       "      <th>G</th>\n",
       "    </tr>\n",
       "  </thead>\n",
       "  <tbody>\n",
       "    <tr>\n",
       "      <th>0</th>\n",
       "      <td>0.313707</td>\n",
       "      <td>1</td>\n",
       "      <td>foo</td>\n",
       "      <td>2001-01-02</td>\n",
       "      <td>1.0</td>\n",
       "      <td>False</td>\n",
       "      <td>1</td>\n",
       "    </tr>\n",
       "    <tr>\n",
       "      <th>1</th>\n",
       "      <td>0.601189</td>\n",
       "      <td>1</td>\n",
       "      <td>foo</td>\n",
       "      <td>2001-01-02</td>\n",
       "      <td>1.0</td>\n",
       "      <td>False</td>\n",
       "      <td>1</td>\n",
       "    </tr>\n",
       "    <tr>\n",
       "      <th>2</th>\n",
       "      <td>0.781236</td>\n",
       "      <td>1</td>\n",
       "      <td>foo</td>\n",
       "      <td>2001-01-02</td>\n",
       "      <td>1.0</td>\n",
       "      <td>False</td>\n",
       "      <td>1</td>\n",
       "    </tr>\n",
       "  </tbody>\n",
       "</table>\n",
       "</div>"
      ],
      "text/plain": [
       "          A  B    C          D    E      F  G\n",
       "0  0.313707  1  foo 2001-01-02  1.0  False  1\n",
       "1  0.601189  1  foo 2001-01-02  1.0  False  1\n",
       "2  0.781236  1  foo 2001-01-02  1.0  False  1"
      ]
     },
     "execution_count": 6,
     "metadata": {},
     "output_type": "execute_result"
    }
   ],
   "source": [
    "dft = pd.DataFrame(test_data)\n",
    "dft"
   ]
  },
  {
   "cell_type": "markdown",
   "metadata": {
    "slideshow": {
     "slide_type": "slide"
    }
   },
   "source": [
    "**2. Examine the data types of the columns.**"
   ]
  },
  {
   "cell_type": "code",
   "execution_count": 7,
   "metadata": {
    "slideshow": {
     "slide_type": "fragment"
    }
   },
   "outputs": [
    {
     "data": {
      "text/plain": [
       "A           float64\n",
       "B             int64\n",
       "C            object\n",
       "D    datetime64[ns]\n",
       "E           float32\n",
       "F              bool\n",
       "G              int8\n",
       "dtype: object"
      ]
     },
     "execution_count": 7,
     "metadata": {},
     "output_type": "execute_result"
    }
   ],
   "source": [
    "dft.dtypes"
   ]
  },
  {
   "cell_type": "code",
   "execution_count": 8,
   "metadata": {},
   "outputs": [
    {
     "data": {
      "text/plain": [
       "pandas.core.series.Series"
      ]
     },
     "execution_count": 8,
     "metadata": {},
     "output_type": "execute_result"
    }
   ],
   "source": [
    "type(dft.dtypes)"
   ]
  },
  {
   "cell_type": "code",
   "execution_count": 9,
   "metadata": {},
   "outputs": [
    {
     "data": {
      "text/html": [
       "<div>\n",
       "<style scoped>\n",
       "    .dataframe tbody tr th:only-of-type {\n",
       "        vertical-align: middle;\n",
       "    }\n",
       "\n",
       "    .dataframe tbody tr th {\n",
       "        vertical-align: top;\n",
       "    }\n",
       "\n",
       "    .dataframe thead th {\n",
       "        text-align: right;\n",
       "    }\n",
       "</style>\n",
       "<table border=\"1\" class=\"dataframe\">\n",
       "  <thead>\n",
       "    <tr style=\"text-align: right;\">\n",
       "      <th></th>\n",
       "      <th>column</th>\n",
       "      <th>type</th>\n",
       "    </tr>\n",
       "  </thead>\n",
       "  <tbody>\n",
       "    <tr>\n",
       "      <th>0</th>\n",
       "      <td>A</td>\n",
       "      <td>float64</td>\n",
       "    </tr>\n",
       "    <tr>\n",
       "      <th>1</th>\n",
       "      <td>B</td>\n",
       "      <td>int64</td>\n",
       "    </tr>\n",
       "    <tr>\n",
       "      <th>2</th>\n",
       "      <td>C</td>\n",
       "      <td>object</td>\n",
       "    </tr>\n",
       "    <tr>\n",
       "      <th>3</th>\n",
       "      <td>D</td>\n",
       "      <td>datetime64[ns]</td>\n",
       "    </tr>\n",
       "    <tr>\n",
       "      <th>4</th>\n",
       "      <td>E</td>\n",
       "      <td>float32</td>\n",
       "    </tr>\n",
       "    <tr>\n",
       "      <th>5</th>\n",
       "      <td>F</td>\n",
       "      <td>bool</td>\n",
       "    </tr>\n",
       "    <tr>\n",
       "      <th>6</th>\n",
       "      <td>G</td>\n",
       "      <td>int8</td>\n",
       "    </tr>\n",
       "  </tbody>\n",
       "</table>\n",
       "</div>"
      ],
      "text/plain": [
       "  column            type\n",
       "0      A         float64\n",
       "1      B           int64\n",
       "2      C          object\n",
       "3      D  datetime64[ns]\n",
       "4      E         float32\n",
       "5      F            bool\n",
       "6      G            int8"
      ]
     },
     "execution_count": 9,
     "metadata": {},
     "output_type": "execute_result"
    }
   ],
   "source": [
    "# A nice way of breaking lines\n",
    "\n",
    "pd.DataFrame(dft.dtypes)\\\n",
    "  .reset_index()\\\n",
    "  .rename(columns={'index':'column',0:'type'})"
   ]
  },
  {
   "cell_type": "code",
   "execution_count": 10,
   "metadata": {},
   "outputs": [
    {
     "name": "stdout",
     "output_type": "stream",
     "text": [
      "<class 'pandas.core.frame.DataFrame'>\n",
      "RangeIndex: 3 entries, 0 to 2\n",
      "Data columns (total 7 columns):\n",
      "A    3 non-null float64\n",
      "B    3 non-null int64\n",
      "C    3 non-null object\n",
      "D    3 non-null datetime64[ns]\n",
      "E    3 non-null float32\n",
      "F    3 non-null bool\n",
      "G    3 non-null int8\n",
      "dtypes: bool(1), datetime64[ns](1), float32(1), float64(1), int64(1), int8(1), object(1)\n",
      "memory usage: 186.0+ bytes\n"
     ]
    }
   ],
   "source": [
    "dft.info()"
   ]
  },
  {
   "cell_type": "markdown",
   "metadata": {
    "slideshow": {
     "slide_type": "slide"
    }
   },
   "source": [
    "**3. Create a Series object with integers 1-5 and float 6.0. What data type is the Series?**"
   ]
  },
  {
   "cell_type": "code",
   "execution_count": 11,
   "metadata": {
    "slideshow": {
     "slide_type": "fragment"
    }
   },
   "outputs": [
    {
     "data": {
      "text/plain": [
       "0    1.0\n",
       "1    2.0\n",
       "2    3.0\n",
       "3    4.0\n",
       "4    5.0\n",
       "5    6.0\n",
       "dtype: float64"
      ]
     },
     "execution_count": 11,
     "metadata": {},
     "output_type": "execute_result"
    }
   ],
   "source": [
    "pd.Series([1, 2, 3, 4, 5, 6.])"
   ]
  },
  {
   "cell_type": "markdown",
   "metadata": {
    "slideshow": {
     "slide_type": "-"
    }
   },
   "source": [
    "If a `pandas` object contains data of multiple dtypes in a single column, the dtype of that column will be used to accommodate all data types (`object` is the most general)."
   ]
  },
  {
   "cell_type": "markdown",
   "metadata": {
    "slideshow": {
     "slide_type": "slide"
    }
   },
   "source": [
    "**4. Create a Series with data `[1, 2, 3, 6., 'foo']`. What data type is the Series?**"
   ]
  },
  {
   "cell_type": "code",
   "execution_count": 12,
   "metadata": {
    "scrolled": true,
    "slideshow": {
     "slide_type": "fragment"
    }
   },
   "outputs": [
    {
     "data": {
      "text/plain": [
       "0      1\n",
       "1      2\n",
       "2      3\n",
       "3    foo\n",
       "dtype: object"
      ]
     },
     "execution_count": 12,
     "metadata": {},
     "output_type": "execute_result"
    }
   ],
   "source": [
    "pd.Series([1, 2, 3, 'foo'])"
   ]
  },
  {
   "cell_type": "markdown",
   "metadata": {
    "slideshow": {
     "slide_type": "slide"
    }
   },
   "source": [
    "**5. Use the `.get_dtype_counts()` function to determine how many columns there are of each type.**"
   ]
  },
  {
   "cell_type": "code",
   "execution_count": 13,
   "metadata": {
    "slideshow": {
     "slide_type": "fragment"
    }
   },
   "outputs": [
    {
     "data": {
      "text/plain": [
       "bool              1\n",
       "datetime64[ns]    1\n",
       "float32           1\n",
       "float64           1\n",
       "int64             1\n",
       "int8              1\n",
       "object            1\n",
       "dtype: int64"
      ]
     },
     "execution_count": 13,
     "metadata": {},
     "output_type": "execute_result"
    }
   ],
   "source": [
    "dft.get_dtype_counts()"
   ]
  },
  {
   "cell_type": "markdown",
   "metadata": {
    "slideshow": {
     "slide_type": "slide"
    }
   },
   "source": [
    "# With a partner, take three minutes to discuss:\n",
    "\n",
    "*Without* running this code with a Python interpreter, what would you expect to be the most common `dtype`?\n",
    "\n",
    "    [1, 3, 9, .33, False, '03-20-1978', np.arange(22)]\n",
    "\n"
   ]
  },
  {
   "cell_type": "markdown",
   "metadata": {
    "slideshow": {
     "slide_type": "fragment"
    }
   },
   "source": [
    "You can do a lot more with dtypes. For more information, check out \n",
    "[`pandas` Documentation](http://pandas.pydata.org/pandas-docs/stable/pandas.pdf)."
   ]
  },
  {
   "cell_type": "markdown",
   "metadata": {
    "slideshow": {
     "slide_type": "slide"
    }
   },
   "source": [
    "**Applying Functions to Data with `df.apply()`**\n",
    "\n",
    "Generally, `df.apply()` will apply a singlular function to every cell of the DataFrame it's used within.  \n",
    "\n",
    "Note: There is another common built-in function, `df.map()`, that applies a function to each element of a single Series (column). For example:\n",
    "\n",
    "```python\n",
    "df['a'].map(my_func)\n",
    "```\n",
    "\n",
    "**6. Create another small DataFrame.**"
   ]
  },
  {
   "cell_type": "code",
   "execution_count": 15,
   "metadata": {
    "slideshow": {
     "slide_type": "-"
    }
   },
   "outputs": [
    {
     "data": {
      "text/html": [
       "<div>\n",
       "<style scoped>\n",
       "    .dataframe tbody tr th:only-of-type {\n",
       "        vertical-align: middle;\n",
       "    }\n",
       "\n",
       "    .dataframe tbody tr th {\n",
       "        vertical-align: top;\n",
       "    }\n",
       "\n",
       "    .dataframe thead th {\n",
       "        text-align: right;\n",
       "    }\n",
       "</style>\n",
       "<table border=\"1\" class=\"dataframe\">\n",
       "  <thead>\n",
       "    <tr style=\"text-align: right;\">\n",
       "      <th></th>\n",
       "      <th>a</th>\n",
       "      <th>b</th>\n",
       "      <th>c</th>\n",
       "      <th>d</th>\n",
       "    </tr>\n",
       "  </thead>\n",
       "  <tbody>\n",
       "    <tr>\n",
       "      <th>0</th>\n",
       "      <td>1.962557</td>\n",
       "      <td>-0.279251</td>\n",
       "      <td>0.399534</td>\n",
       "      <td>-1.031091</td>\n",
       "    </tr>\n",
       "    <tr>\n",
       "      <th>1</th>\n",
       "      <td>-0.325102</td>\n",
       "      <td>-1.914864</td>\n",
       "      <td>0.138112</td>\n",
       "      <td>-0.257419</td>\n",
       "    </tr>\n",
       "    <tr>\n",
       "      <th>2</th>\n",
       "      <td>-1.899602</td>\n",
       "      <td>-1.934455</td>\n",
       "      <td>-0.674815</td>\n",
       "      <td>2.703735</td>\n",
       "    </tr>\n",
       "    <tr>\n",
       "      <th>3</th>\n",
       "      <td>-1.327366</td>\n",
       "      <td>0.788601</td>\n",
       "      <td>2.224093</td>\n",
       "      <td>-0.053750</td>\n",
       "    </tr>\n",
       "    <tr>\n",
       "      <th>4</th>\n",
       "      <td>0.752134</td>\n",
       "      <td>-0.496843</td>\n",
       "      <td>-0.743827</td>\n",
       "      <td>-1.440373</td>\n",
       "    </tr>\n",
       "  </tbody>\n",
       "</table>\n",
       "</div>"
      ],
      "text/plain": [
       "          a         b         c         d\n",
       "0  1.962557 -0.279251  0.399534 -1.031091\n",
       "1 -0.325102 -1.914864  0.138112 -0.257419\n",
       "2 -1.899602 -1.934455 -0.674815  2.703735\n",
       "3 -1.327366  0.788601  2.224093 -0.053750\n",
       "4  0.752134 -0.496843 -0.743827 -1.440373"
      ]
     },
     "execution_count": 15,
     "metadata": {},
     "output_type": "execute_result"
    }
   ],
   "source": [
    "# Create some more test data.\n",
    "df = pd.DataFrame(np.random.randn(5, 4), \n",
    "                  columns=['a', 'b', 'c', 'd'])\n",
    "df"
   ]
  },
  {
   "cell_type": "markdown",
   "metadata": {
    "slideshow": {
     "slide_type": "slide"
    }
   },
   "source": [
    "**7. Use the `.apply()` function to find the square root of all cells.**"
   ]
  },
  {
   "cell_type": "code",
   "execution_count": 16,
   "metadata": {
    "slideshow": {
     "slide_type": "fragment"
    }
   },
   "outputs": [
    {
     "data": {
      "text/html": [
       "<div>\n",
       "<style scoped>\n",
       "    .dataframe tbody tr th:only-of-type {\n",
       "        vertical-align: middle;\n",
       "    }\n",
       "\n",
       "    .dataframe tbody tr th {\n",
       "        vertical-align: top;\n",
       "    }\n",
       "\n",
       "    .dataframe thead th {\n",
       "        text-align: right;\n",
       "    }\n",
       "</style>\n",
       "<table border=\"1\" class=\"dataframe\">\n",
       "  <thead>\n",
       "    <tr style=\"text-align: right;\">\n",
       "      <th></th>\n",
       "      <th>a</th>\n",
       "      <th>b</th>\n",
       "      <th>c</th>\n",
       "      <th>d</th>\n",
       "    </tr>\n",
       "  </thead>\n",
       "  <tbody>\n",
       "    <tr>\n",
       "      <th>0</th>\n",
       "      <td>1.400913</td>\n",
       "      <td>NaN</td>\n",
       "      <td>0.632087</td>\n",
       "      <td>NaN</td>\n",
       "    </tr>\n",
       "    <tr>\n",
       "      <th>1</th>\n",
       "      <td>NaN</td>\n",
       "      <td>NaN</td>\n",
       "      <td>0.371634</td>\n",
       "      <td>NaN</td>\n",
       "    </tr>\n",
       "    <tr>\n",
       "      <th>2</th>\n",
       "      <td>NaN</td>\n",
       "      <td>NaN</td>\n",
       "      <td>NaN</td>\n",
       "      <td>1.644304</td>\n",
       "    </tr>\n",
       "    <tr>\n",
       "      <th>3</th>\n",
       "      <td>NaN</td>\n",
       "      <td>0.888032</td>\n",
       "      <td>1.491339</td>\n",
       "      <td>NaN</td>\n",
       "    </tr>\n",
       "    <tr>\n",
       "      <th>4</th>\n",
       "      <td>0.867256</td>\n",
       "      <td>NaN</td>\n",
       "      <td>NaN</td>\n",
       "      <td>NaN</td>\n",
       "    </tr>\n",
       "  </tbody>\n",
       "</table>\n",
       "</div>"
      ],
      "text/plain": [
       "          a         b         c         d\n",
       "0  1.400913       NaN  0.632087       NaN\n",
       "1       NaN       NaN  0.371634       NaN\n",
       "2       NaN       NaN       NaN  1.644304\n",
       "3       NaN  0.888032  1.491339       NaN\n",
       "4  0.867256       NaN       NaN       NaN"
      ]
     },
     "execution_count": 16,
     "metadata": {},
     "output_type": "execute_result"
    }
   ],
   "source": [
    "# Square root ALL CELLS (NaN == Not a Number).\n",
    "df.apply(np.sqrt)"
   ]
  },
  {
   "cell_type": "code",
   "execution_count": 17,
   "metadata": {},
   "outputs": [
    {
     "data": {
      "text/html": [
       "<div>\n",
       "<style scoped>\n",
       "    .dataframe tbody tr th:only-of-type {\n",
       "        vertical-align: middle;\n",
       "    }\n",
       "\n",
       "    .dataframe tbody tr th {\n",
       "        vertical-align: top;\n",
       "    }\n",
       "\n",
       "    .dataframe thead th {\n",
       "        text-align: right;\n",
       "    }\n",
       "</style>\n",
       "<table border=\"1\" class=\"dataframe\">\n",
       "  <thead>\n",
       "    <tr style=\"text-align: right;\">\n",
       "      <th></th>\n",
       "      <th>a</th>\n",
       "      <th>b</th>\n",
       "      <th>c</th>\n",
       "      <th>d</th>\n",
       "    </tr>\n",
       "  </thead>\n",
       "  <tbody>\n",
       "    <tr>\n",
       "      <th>0</th>\n",
       "      <td>2.962557</td>\n",
       "      <td>0.720749</td>\n",
       "      <td>1.399534</td>\n",
       "      <td>-0.031091</td>\n",
       "    </tr>\n",
       "    <tr>\n",
       "      <th>1</th>\n",
       "      <td>0.674898</td>\n",
       "      <td>-0.914864</td>\n",
       "      <td>1.138112</td>\n",
       "      <td>0.742581</td>\n",
       "    </tr>\n",
       "    <tr>\n",
       "      <th>2</th>\n",
       "      <td>-0.899602</td>\n",
       "      <td>-0.934455</td>\n",
       "      <td>0.325185</td>\n",
       "      <td>3.703735</td>\n",
       "    </tr>\n",
       "    <tr>\n",
       "      <th>3</th>\n",
       "      <td>-0.327366</td>\n",
       "      <td>1.788601</td>\n",
       "      <td>3.224093</td>\n",
       "      <td>0.946250</td>\n",
       "    </tr>\n",
       "    <tr>\n",
       "      <th>4</th>\n",
       "      <td>1.752134</td>\n",
       "      <td>0.503157</td>\n",
       "      <td>0.256173</td>\n",
       "      <td>-0.440373</td>\n",
       "    </tr>\n",
       "  </tbody>\n",
       "</table>\n",
       "</div>"
      ],
      "text/plain": [
       "          a         b         c         d\n",
       "0  2.962557  0.720749  1.399534 -0.031091\n",
       "1  0.674898 -0.914864  1.138112  0.742581\n",
       "2 -0.899602 -0.934455  0.325185  3.703735\n",
       "3 -0.327366  1.788601  3.224093  0.946250\n",
       "4  1.752134  0.503157  0.256173 -0.440373"
      ]
     },
     "execution_count": 17,
     "metadata": {},
     "output_type": "execute_result"
    }
   ],
   "source": [
    "df.apply(lambda x: x+1)"
   ]
  },
  {
   "cell_type": "markdown",
   "metadata": {
    "slideshow": {
     "slide_type": "slide"
    }
   },
   "source": [
    "**8. Use `.apply()` to find the mean of the columns.**"
   ]
  },
  {
   "cell_type": "code",
   "execution_count": 18,
   "metadata": {
    "slideshow": {
     "slide_type": "fragment"
    }
   },
   "outputs": [
    {
     "data": {
      "text/plain": [
       "a   -0.167476\n",
       "b   -0.767362\n",
       "c    0.268619\n",
       "d   -0.015780\n",
       "dtype: float64"
      ]
     },
     "execution_count": 18,
     "metadata": {},
     "output_type": "execute_result"
    }
   ],
   "source": [
    "df.apply(np.mean, axis=0)"
   ]
  },
  {
   "cell_type": "code",
   "execution_count": 19,
   "metadata": {},
   "outputs": [
    {
     "data": {
      "text/plain": [
       "a   -0.167476\n",
       "b   -0.767362\n",
       "c    0.268619\n",
       "d   -0.015780\n",
       "dtype: float64"
      ]
     },
     "execution_count": 19,
     "metadata": {},
     "output_type": "execute_result"
    }
   ],
   "source": [
    "df.apply(np.mean)"
   ]
  },
  {
   "cell_type": "code",
   "execution_count": 25,
   "metadata": {},
   "outputs": [
    {
     "data": {
      "text/html": [
       "<div>\n",
       "<style scoped>\n",
       "    .dataframe tbody tr th:only-of-type {\n",
       "        vertical-align: middle;\n",
       "    }\n",
       "\n",
       "    .dataframe tbody tr th {\n",
       "        vertical-align: top;\n",
       "    }\n",
       "\n",
       "    .dataframe thead th {\n",
       "        text-align: right;\n",
       "    }\n",
       "</style>\n",
       "<table border=\"1\" class=\"dataframe\">\n",
       "  <thead>\n",
       "    <tr style=\"text-align: right;\">\n",
       "      <th></th>\n",
       "      <th>a</th>\n",
       "      <th>b</th>\n",
       "      <th>c</th>\n",
       "      <th>d</th>\n",
       "    </tr>\n",
       "  </thead>\n",
       "  <tbody>\n",
       "    <tr>\n",
       "      <th>0</th>\n",
       "      <td>1.525100</td>\n",
       "      <td>0.469194</td>\n",
       "      <td>0.121833</td>\n",
       "      <td>-0.700101</td>\n",
       "    </tr>\n",
       "    <tr>\n",
       "      <th>1</th>\n",
       "      <td>-0.112860</td>\n",
       "      <td>-1.103028</td>\n",
       "      <td>-0.121454</td>\n",
       "      <td>-0.166621</td>\n",
       "    </tr>\n",
       "    <tr>\n",
       "      <th>2</th>\n",
       "      <td>-1.240200</td>\n",
       "      <td>-1.121860</td>\n",
       "      <td>-0.877990</td>\n",
       "      <td>1.875223</td>\n",
       "    </tr>\n",
       "    <tr>\n",
       "      <th>3</th>\n",
       "      <td>-0.830479</td>\n",
       "      <td>1.495660</td>\n",
       "      <td>1.819827</td>\n",
       "      <td>-0.026182</td>\n",
       "    </tr>\n",
       "    <tr>\n",
       "      <th>4</th>\n",
       "      <td>0.658439</td>\n",
       "      <td>0.260035</td>\n",
       "      <td>-0.942215</td>\n",
       "      <td>-0.982319</td>\n",
       "    </tr>\n",
       "  </tbody>\n",
       "</table>\n",
       "</div>"
      ],
      "text/plain": [
       "          a         b         c         d\n",
       "0  1.525100  0.469194  0.121833 -0.700101\n",
       "1 -0.112860 -1.103028 -0.121454 -0.166621\n",
       "2 -1.240200 -1.121860 -0.877990  1.875223\n",
       "3 -0.830479  1.495660  1.819827 -0.026182\n",
       "4  0.658439  0.260035 -0.942215 -0.982319"
      ]
     },
     "execution_count": 25,
     "metadata": {},
     "output_type": "execute_result"
    }
   ],
   "source": [
    "# Strange example!\n",
    "# x is both the element and the column..!..\n",
    "df.apply(lambda x: x-np.mean(x), axis=0)"
   ]
  },
  {
   "cell_type": "markdown",
   "metadata": {
    "slideshow": {
     "slide_type": "slide"
    }
   },
   "source": [
    "**9. Find the mean of the rows.**"
   ]
  },
  {
   "cell_type": "code",
   "execution_count": 20,
   "metadata": {
    "slideshow": {
     "slide_type": "fragment"
    }
   },
   "outputs": [
    {
     "data": {
      "text/plain": [
       "0    0.262937\n",
       "1   -0.589818\n",
       "2   -0.451284\n",
       "3    0.407894\n",
       "4   -0.482227\n",
       "dtype: float64"
      ]
     },
     "execution_count": 20,
     "metadata": {},
     "output_type": "execute_result"
    }
   ],
   "source": [
    "df.apply(np.mean, axis=1)"
   ]
  },
  {
   "cell_type": "markdown",
   "metadata": {
    "slideshow": {
     "slide_type": "slide"
    }
   },
   "source": [
    "### Further Reading\n",
    "\n",
    "For more advanced information on `.apply` usage, check out these links:\n",
    "\n",
    "- [\"Why Not\"'s Gist Examples](https://gist.github.com/why-not/4582705)\n",
    "\n",
    "- [Chris Albon's Map + Apply Examples](http://chrisalbon.com/python/pandas_apply_operations_to_dataframes.html)\n"
   ]
  },
  {
   "cell_type": "markdown",
   "metadata": {
    "slideshow": {
     "slide_type": "slide"
    }
   },
   "source": [
    "**Counting Occurrances of Unique Values With `.value_counts()`**\n",
    "\n",
    "The `.value_counts` attribute tells us the count of unique values in a column's data. It's helpful for identifying unexpected values and getting a feel for the data's distribution, especially when looking at group membership.  Looking at the value counts per column can give us a quick overview of values expressed in our data.\n",
    "\n",
    "Some common use cases of `.value_counts` include:\n",
    " - Finding strings inside of mostly numeric/continuous data.\n",
    " - Finding non-numeric values.\n",
    " - General distributions of categorical variables.\n",
    " - Identifying the most and least common values."
   ]
  },
  {
   "cell_type": "markdown",
   "metadata": {
    "slideshow": {
     "slide_type": "slide"
    }
   },
   "source": [
    "**10. Use `numpy` to create a random vector of 50 numbers ranging from 0 to 6.**\n"
   ]
  },
  {
   "cell_type": "code",
   "execution_count": 15,
   "metadata": {
    "slideshow": {
     "slide_type": "fragment"
    }
   },
   "outputs": [
    {
     "data": {
      "text/plain": [
       "array([2, 4, 4, 4, 4, 2, 4, 6, 5, 0, 6, 5, 0, 0, 6, 5, 0, 3, 3, 6, 2, 6,\n",
       "       1, 1, 0, 6, 0, 0, 5, 6, 1, 6, 6, 0, 4, 1, 5, 6, 6, 6, 1, 2, 2, 5,\n",
       "       1, 6, 5, 3, 0, 2])"
      ]
     },
     "execution_count": 15,
     "metadata": {},
     "output_type": "execute_result"
    }
   ],
   "source": [
    "data = np.random.randint(0, 7, size = 50)\n",
    "data"
   ]
  },
  {
   "cell_type": "markdown",
   "metadata": {
    "slideshow": {
     "slide_type": "fragment"
    }
   },
   "source": [
    "**11. Convert the vector to a Series and count the occurrences of each number.**"
   ]
  },
  {
   "cell_type": "code",
   "execution_count": 16,
   "metadata": {
    "slideshow": {
     "slide_type": "fragment"
    }
   },
   "outputs": [
    {
     "data": {
      "text/plain": [
       "0    2\n",
       "1    4\n",
       "2    4\n",
       "3    4\n",
       "4    4\n",
       "dtype: int64"
      ]
     },
     "execution_count": 16,
     "metadata": {},
     "output_type": "execute_result"
    }
   ],
   "source": [
    "s = pd.Series(data)\n",
    "s.head()"
   ]
  },
  {
   "cell_type": "code",
   "execution_count": 17,
   "metadata": {
    "slideshow": {
     "slide_type": "fragment"
    }
   },
   "outputs": [
    {
     "data": {
      "text/plain": [
       "6    13\n",
       "0     9\n",
       "5     7\n",
       "4     6\n",
       "2     6\n",
       "1     6\n",
       "3     3\n",
       "dtype: int64"
      ]
     },
     "execution_count": 17,
     "metadata": {},
     "output_type": "execute_result"
    }
   ],
   "source": [
    "# The counts of each number that occurs in our array is listed.\n",
    "pd.value_counts(s)"
   ]
  },
  {
   "cell_type": "markdown",
   "metadata": {
    "slideshow": {
     "slide_type": "slide"
    }
   },
   "source": [
    "<a name=\"independent_ practice\"></a>\n",
    "\n",
    "### Independent Practice: Sales Data\n",
    "\n",
    "---\n",
    "\n",
    "1. Load the `sales.csv` data set from the `datasets` directory.\n",
    "- Inspect the data types.\n",
    "- Imagine you've found out that all your values in column 1 are off by one. Use `.apply()` or `.map()` to add `1` to column 1 of the data set.\n",
    "- Use `.value_counts` to count the values of one column of the data set.\n"
   ]
  },
  {
   "cell_type": "code",
   "execution_count": null,
   "metadata": {},
   "outputs": [],
   "source": []
  }
 ],
 "metadata": {
  "anaconda-cloud": {},
  "kernelspec": {
   "display_name": "Python 2",
   "language": "python",
   "name": "python2"
  },
  "language_info": {
   "codemirror_mode": {
    "name": "ipython",
    "version": 2
   },
   "file_extension": ".py",
   "mimetype": "text/x-python",
   "name": "python",
   "nbconvert_exporter": "python",
   "pygments_lexer": "ipython2",
   "version": "2.7.14"
  },
  "varInspector": {
   "cols": {
    "lenName": 16,
    "lenType": 16,
    "lenVar": 40
   },
   "kernels_config": {
    "python": {
     "delete_cmd_postfix": "",
     "delete_cmd_prefix": "del ",
     "library": "var_list.py",
     "varRefreshCmd": "print(var_dic_list())"
    },
    "r": {
     "delete_cmd_postfix": ") ",
     "delete_cmd_prefix": "rm(",
     "library": "var_list.r",
     "varRefreshCmd": "cat(var_dic_list()) "
    }
   },
   "types_to_exclude": [
    "module",
    "function",
    "builtin_function_or_method",
    "instance",
    "_Feature"
   ],
   "window_display": false
  }
 },
 "nbformat": 4,
 "nbformat_minor": 1
}
