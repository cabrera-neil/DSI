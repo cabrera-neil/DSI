{
 "cells": [
  {
   "cell_type": "markdown",
   "metadata": {},
   "source": [
    "### Q1.\n",
    "\n",
    "If you have two groups of students, 10 freshman and 11 sophomores, how many teams of two can be formed that include one member from each class?"
   ]
  },
  {
   "cell_type": "code",
   "execution_count": 1,
   "metadata": {},
   "outputs": [
    {
     "name": "stdout",
     "output_type": "stream",
     "text": [
      "a 1\n",
      "a 2\n",
      "a 3\n",
      "b 1\n",
      "b 2\n",
      "b 3\n",
      "c 1\n",
      "c 2\n",
      "c 3\n"
     ]
    }
   ],
   "source": [
    "fresh = ['a','b','c']\n",
    "soph = [1,2,3]\n",
    "for f in fresh:\n",
    "    for s in soph:\n",
    "        print(f,s)"
   ]
  },
  {
   "cell_type": "code",
   "execution_count": 2,
   "metadata": {},
   "outputs": [
    {
     "data": {
      "text/plain": [
       "110"
      ]
     },
     "execution_count": 2,
     "metadata": {},
     "output_type": "execute_result"
    }
   ],
   "source": [
    "teams_of_2 = 10 * 11\n",
    "teams_of_2"
   ]
  },
  {
   "cell_type": "markdown",
   "metadata": {},
   "source": [
    "### Q2.\n",
    "\n",
    "There are five qualified candidates to fill three positions. How many ways can the roles be filled, assuming only person is hired for each position?"
   ]
  },
  {
   "cell_type": "code",
   "execution_count": 4,
   "metadata": {},
   "outputs": [
    {
     "name": "stdout",
     "output_type": "stream",
     "text": [
      "marie\n",
      "['john', 'julie', 'nadine', 'luke']\n",
      "luke\n",
      "['john', 'julie', 'nadine']\n",
      "julie\n",
      "['john', 'nadine']\n"
     ]
    }
   ],
   "source": [
    "import numpy as np\n",
    "\n",
    "cands = ['john','julie','marie','nadine','luke']\n",
    "\n",
    "#first hire = 5 possibilities\n",
    "hire1 = cands.pop(np.random.choice(len(cands)))\n",
    "print(hire1)\n",
    "print(cands)\n",
    "\n",
    "#second hire = 4 possibilities\n",
    "hire2 = cands.pop(np.random.choice(len(cands)))\n",
    "print(hire2)\n",
    "print(cands)\n",
    "\n",
    "#third hire = 3 possibilities\n",
    "hire3 = cands.pop(np.random.choice(len(cands)))\n",
    "print(hire3)\n",
    "print(cands)"
   ]
  },
  {
   "cell_type": "code",
   "execution_count": 5,
   "metadata": {},
   "outputs": [
    {
     "data": {
      "text/plain": [
       "60"
      ]
     },
     "execution_count": 5,
     "metadata": {},
     "output_type": "execute_result"
    }
   ],
   "source": [
    "cands  = 5 * 4 * 3\n",
    "cands"
   ]
  },
  {
   "cell_type": "markdown",
   "metadata": {},
   "source": [
    "### Q3.\n",
    "\n",
    "If there are nine players on a baseball team, how many possibile permutations are there for the first three players in the batting lineup?"
   ]
  },
  {
   "cell_type": "code",
   "execution_count": 8,
   "metadata": {},
   "outputs": [],
   "source": [
    "from math import factorial"
   ]
  },
  {
   "cell_type": "code",
   "execution_count": 9,
   "metadata": {},
   "outputs": [
    {
     "data": {
      "text/plain": [
       "504"
      ]
     },
     "execution_count": 9,
     "metadata": {},
     "output_type": "execute_result"
    }
   ],
   "source": [
    "9*8*7"
   ]
  },
  {
   "cell_type": "code",
   "execution_count": 10,
   "metadata": {},
   "outputs": [
    {
     "data": {
      "text/plain": [
       "504.0"
      ]
     },
     "execution_count": 10,
     "metadata": {},
     "output_type": "execute_result"
    }
   ],
   "source": [
    "9*8*7*factorial(6) / factorial(6)"
   ]
  },
  {
   "cell_type": "code",
   "execution_count": 12,
   "metadata": {},
   "outputs": [
    {
     "name": "stdout",
     "output_type": "stream",
     "text": [
      "504.0\n"
     ]
    }
   ],
   "source": [
    "\n",
    "\n",
    "print(factorial(9)/factorial(9-3))"
   ]
  },
  {
   "cell_type": "markdown",
   "metadata": {},
   "source": [
    "### Q4. \n",
    "\n",
    "Code a function to compute the factorial of a number."
   ]
  },
  {
   "cell_type": "code",
   "execution_count": 13,
   "metadata": {},
   "outputs": [],
   "source": [
    "def factorial(x):\n",
    "    if x < 0:\n",
    "        print(\"Must be a non-negative integer.\")\n",
    "    if x == 0:\n",
    "        return 1\n",
    "    else:\n",
    "        if x != int(x):\n",
    "            print(\"Must be an integer.\")\n",
    "        else:    \n",
    "            return x * factorial(x-1) \n",
    "            # recursively calling our defined function, not the one from the math lib.  "
   ]
  },
  {
   "cell_type": "markdown",
   "metadata": {},
   "source": [
    "### Q5.\n",
    "\n",
    "How many possible five-card hands are there within a deck of 52 cards?"
   ]
  },
  {
   "cell_type": "code",
   "execution_count": 14,
   "metadata": {},
   "outputs": [
    {
     "data": {
      "text/plain": [
       "311875200"
      ]
     },
     "execution_count": 14,
     "metadata": {},
     "output_type": "execute_result"
    }
   ],
   "source": [
    "# This is if we're interested in the permutation, \n",
    "# e.g. (1a,2b) is different from (2b,1a)\n",
    "# This is the same of factorial(52)/factorial(52-5)\n",
    "52*51*50*49*48 "
   ]
  },
  {
   "cell_type": "code",
   "execution_count": 15,
   "metadata": {},
   "outputs": [
    {
     "name": "stdout",
     "output_type": "stream",
     "text": [
      "2598960.0\n"
     ]
    }
   ],
   "source": [
    "print(factorial(52) / (factorial(52-5) * factorial(5)))\n"
   ]
  },
  {
   "cell_type": "code",
   "execution_count": 16,
   "metadata": {},
   "outputs": [],
   "source": [
    "# numbers = range(1,13+1)\n",
    "# symbols = ['a','b','c','d']\n",
    "# deck = "
   ]
  },
  {
   "cell_type": "markdown",
   "metadata": {},
   "source": [
    "### Q7.\n",
    "\n",
    "A restaurant has 22 employees, including:\n",
    "\n",
    "- Six chefs\n",
    "- Five waiters\n",
    "- Seven busboys \n",
    "\n",
    "The owner has requested a few things from you, the manager:\n",
    "\n",
    "1. A private party is coming on Tuesday and wants to know how many teams of one chef and two -waiters can be formed.\n",
    "- Each busboy works just one day of the week. The owner wants to know how many different versions of the weekly busboy assignments are possible.\n",
    "- He wants his favorite waiter to serve him and his wife for their anniversary on Sunday, along with two other waiters. How many teams of three waiters can serve him?"
   ]
  },
  {
   "cell_type": "code",
   "execution_count": 18,
   "metadata": {},
   "outputs": [
    {
     "name": "stdout",
     "output_type": "stream",
     "text": [
      "60.0\n"
     ]
    }
   ],
   "source": [
    "# 1:\n",
    "chefs = 6\n",
    "waiters = 5\n",
    "busboys = 7\n",
    "\n",
    "# Set up permutation and combination functions:\n",
    "def perm(n, k):\n",
    "    return float(factorial(n)) / factorial(n-k)\n",
    "\n",
    "def comb(n, k):\n",
    "    return float(perm(n, k)) / perm(k, k)\n",
    "\n",
    "# First, figure out how many combinations of two waiters are possible:\n",
    "waiter_combs = comb(waiters, 2)\n",
    "\n",
    "# For each combination of waiters, you have six possible pairings with chefs:\n",
    "groups = chefs * waiter_combs\n",
    "\n",
    "print(groups)"
   ]
  },
  {
   "cell_type": "code",
   "execution_count": 19,
   "metadata": {},
   "outputs": [
    {
     "name": "stdout",
     "output_type": "stream",
     "text": [
      "5040.0\n"
     ]
    }
   ],
   "source": [
    "# 2:\n",
    "# Calculate the permutations of busboys. There are seven busboys, and \n",
    "# we want to know the number of possible orderings throughout the week.\n",
    "print(perm(busboys, 7))"
   ]
  },
  {
   "cell_type": "code",
   "execution_count": 20,
   "metadata": {},
   "outputs": [
    {
     "name": "stdout",
     "output_type": "stream",
     "text": [
      "6.0\n"
     ]
    }
   ],
   "source": [
    "# 3:\n",
    "# We have to remove his favorite waiter, who must be present, and then\n",
    "# calculate the combinations.\n",
    "print(comb(waiters-1, 2))"
   ]
  },
  {
   "cell_type": "markdown",
   "metadata": {},
   "source": [
    "### Q8.\n",
    "\n",
    "What is the probability that you are deal two cards that are both aces from a 52-card deck?"
   ]
  },
  {
   "cell_type": "markdown",
   "metadata": {},
   "source": [
    "2 aces permutations:\n",
    "\n",
    "a,b  \n",
    "a,c  \n",
    "a,d\n",
    "\n",
    "b,a  \n",
    "b,c  \n",
    "b,d\n",
    "\n",
    "c,a  \n",
    "c,b  \n",
    "c,d\n",
    "\n",
    "d,a  \n",
    "d,b  \n",
    "d,c"
   ]
  },
  {
   "cell_type": "markdown",
   "metadata": {},
   "source": [
    "2 aces combinations:\n",
    "\n",
    "a,b  \n",
    "a,c  \n",
    "a,d\n",
    "\n",
    "b,a  --> remove  \n",
    "b,c  \n",
    "b,d\n",
    "\n",
    "c,a  --> remove    \n",
    "c,b  --> remove    \n",
    "c,d\n",
    "\n",
    "d,a   --> remove   \n",
    "d,b   --> remove   \n",
    "d,c   --> remove  "
   ]
  },
  {
   "cell_type": "code",
   "execution_count": null,
   "metadata": {},
   "outputs": [],
   "source": []
  },
  {
   "cell_type": "code",
   "execution_count": 21,
   "metadata": {},
   "outputs": [
    {
     "name": "stdout",
     "output_type": "stream",
     "text": [
      "0.004524886877828055\n"
     ]
    }
   ],
   "source": [
    "# Determine the number of different two-ace hands that are possible:\n",
    "ace_hands = comb(4,2)\n",
    "\n",
    "# Determine the number of possible two-card hands \n",
    "# you can have from the deck:\n",
    "hands = comb(52,2)\n",
    "\n",
    "print(ace_hands / hands)"
   ]
  },
  {
   "cell_type": "code",
   "execution_count": 22,
   "metadata": {},
   "outputs": [
    {
     "data": {
      "text/plain": [
       "0.004524886877828055"
      ]
     },
     "execution_count": 22,
     "metadata": {},
     "output_type": "execute_result"
    }
   ],
   "source": [
    "# alternative solution\n",
    "(4./52)*(3./51)"
   ]
  },
  {
   "cell_type": "markdown",
   "metadata": {},
   "source": [
    "### Q9.\n",
    "\n",
    "What is the probability of getting two queens and three kings in a five-card hand?"
   ]
  },
  {
   "cell_type": "code",
   "execution_count": 23,
   "metadata": {},
   "outputs": [
    {
     "name": "stdout",
     "output_type": "stream",
     "text": [
      "9.23446301597562e-06\n"
     ]
    }
   ],
   "source": [
    "# Calculate the number of three-king combinations:\n",
    "kings = comb(4,3)\n",
    "\n",
    "# Calculate the number of two-queen combinations:\n",
    "queens = comb(4,2)\n",
    "\n",
    "# Calculate all possible five-card combinations:\n",
    "hands = comb(52,5)\n",
    "\n",
    "# Grid all possible king combinations and queen combinations \n",
    "# (using the counting principle):\n",
    "full = kings*queens\n",
    "\n",
    "print(full / hands)"
   ]
  },
  {
   "cell_type": "markdown",
   "metadata": {},
   "source": [
    "### Q10.\n",
    "\n",
    "For 10 coin flips, print out the probability of getting 0 heads through 10 heads.\n",
    "\n",
    "Also print out the sum of the probabilities."
   ]
  },
  {
   "cell_type": "code",
   "execution_count": 24,
   "metadata": {},
   "outputs": [
    {
     "name": "stdout",
     "output_type": "stream",
     "text": [
      "hh\n",
      "ht\n",
      "th\n",
      "tt\n",
      "4\n"
     ]
    }
   ],
   "source": [
    "# 2**2\n",
    "possibilities = 0\n",
    "for c1 in ['h','t']:\n",
    "    for c2 in ['h','t']:\n",
    "        print(c1+c2)\n",
    "        possibilities += 1\n",
    "print(possibilities)"
   ]
  },
  {
   "cell_type": "code",
   "execution_count": 25,
   "metadata": {},
   "outputs": [
    {
     "name": "stdout",
     "output_type": "stream",
     "text": [
      "hhh\n",
      "hht\n",
      "hth\n",
      "htt\n",
      "thh\n",
      "tht\n",
      "tth\n",
      "ttt\n",
      "8\n"
     ]
    }
   ],
   "source": [
    "# 2**2\n",
    "possibilities = 0\n",
    "for c1 in ['h','t']:\n",
    "    for c2 in ['h','t']:\n",
    "        for c3 in ['h','t']:\n",
    "            print(c1+c2+c3)\n",
    "            possibilities += 1\n",
    "print(possibilities)"
   ]
  },
  {
   "cell_type": "code",
   "execution_count": 26,
   "metadata": {},
   "outputs": [
    {
     "name": "stdout",
     "output_type": "stream",
     "text": [
      "hhhh\n",
      "hhht\n",
      "hhth\n",
      "hhtt\n",
      "hthh\n",
      "htht\n",
      "htth\n",
      "httt\n",
      "thhh\n",
      "thht\n",
      "thth\n",
      "thtt\n",
      "tthh\n",
      "ttht\n",
      "ttth\n",
      "tttt\n",
      "16\n"
     ]
    }
   ],
   "source": [
    "#2**4\n",
    "possibilities = 0\n",
    "for c1 in ['h','t']:\n",
    "    for c2 in ['h','t']:\n",
    "        for c3 in ['h','t']:\n",
    "            for c4 in ['h','t']:\n",
    "                print(c1+c2+c3+c4)\n",
    "                possibilities += 1\n",
    "print(possibilities)"
   ]
  },
  {
   "cell_type": "code",
   "execution_count": 28,
   "metadata": {},
   "outputs": [
    {
     "name": "stdout",
     "output_type": "stream",
     "text": [
      "Heads: 0 P =  0.0009765625\n",
      "Heads: 1 P =  0.009765625\n",
      "Heads: 2 P =  0.0439453125\n",
      "Heads: 3 P =  0.1171875\n",
      "Heads: 4 P =  0.205078125\n",
      "Heads: 5 P =  0.24609375\n",
      "Heads: 6 P =  0.205078125\n",
      "Heads: 7 P =  0.1171875\n",
      "Heads: 8 P =  0.0439453125\n",
      "Heads: 9 P =  0.009765625\n",
      "Heads: 10 P =  0.0009765625\n",
      "Total probability: 1.0\n"
     ]
    }
   ],
   "source": [
    "def flip_prob(heads, total):\n",
    "    head_combs = comb(total, heads)\n",
    "    total_possibilities = 2**total\n",
    "    return head_combs / total_possibilities\n",
    "    \n",
    "probs = []\n",
    "for i in range(0, 11):\n",
    "    flip = flip_prob(i, 10)\n",
    "    print('Heads:', i, 'P = ', flip)\n",
    "    probs.append(flip)\n",
    "    \n",
    "print('Total probability:', sum(probs))\n"
   ]
  },
  {
   "cell_type": "markdown",
   "metadata": {},
   "source": [
    "### Q11.\n",
    "\n",
    "Suppose you have a game in which you can toss a ball and it will land in one of five buckets.\n",
    "\n",
    "You toss two balls and they each land in a bucket. If the balls are indistinguishable from each other, how many different outcomes (distributions of balls in buckets) are possible?"
   ]
  },
  {
   "cell_type": "code",
   "execution_count": null,
   "metadata": {},
   "outputs": [],
   "source": [
    "00011\n",
    "00101\n",
    "01001\n",
    "10001\n",
    "\n",
    "00110\n",
    "01010\n",
    "10010\n",
    "\n",
    "01100\n",
    "10100\n",
    "11000\n",
    "\n",
    "00002\n",
    "00020\n",
    "00200\n",
    "02000\n",
    "20000"
   ]
  },
  {
   "cell_type": "code",
   "execution_count": 11,
   "metadata": {},
   "outputs": [
    {
     "data": {
      "text/plain": [
       "15.0"
      ]
     },
     "execution_count": 11,
     "metadata": {},
     "output_type": "execute_result"
    }
   ],
   "source": [
    "comb(5+2-1, 5-1)\n"
   ]
  },
  {
   "cell_type": "markdown",
   "metadata": {},
   "source": [
    "### Q12.\n",
    "\n",
    "How many solutions are there to the formula:\n",
    "\n",
    "$X_1 + X_2 + X_3 + X_4 = 15$\n",
    "\n",
    "Where the order of numbers matters?"
   ]
  },
  {
   "cell_type": "code",
   "execution_count": 13,
   "metadata": {
    "collapsed": true
   },
   "outputs": [],
   "source": [
    "# Conceptualize this as a balls-and-urns problem:\n",
    "balls = 15\n",
    "urns = 4"
   ]
  },
  {
   "cell_type": "markdown",
   "metadata": {},
   "source": [
    "The balls are indistinguishable (just because $X_1$ is three doesn't mean there are three versions, or, in other words, $1$ is indistinguishable from another $1$ in $1+1+1$)."
   ]
  },
  {
   "cell_type": "code",
   "execution_count": 14,
   "metadata": {},
   "outputs": [
    {
     "name": "stdout",
     "output_type": "stream",
     "text": [
      "816.0\n"
     ]
    }
   ],
   "source": [
    "solutions = comb(balls + urns - 1, urns - 1)\n",
    "print (solutions)\n"
   ]
  }
 ],
 "metadata": {
  "kernelspec": {
   "display_name": "Python 3",
   "language": "python",
   "name": "python3"
  },
  "language_info": {
   "codemirror_mode": {
    "name": "ipython",
    "version": 3
   },
   "file_extension": ".py",
   "mimetype": "text/x-python",
   "name": "python",
   "nbconvert_exporter": "python",
   "pygments_lexer": "ipython3",
   "version": "3.6.6"
  }
 },
 "nbformat": 4,
 "nbformat_minor": 1
}
