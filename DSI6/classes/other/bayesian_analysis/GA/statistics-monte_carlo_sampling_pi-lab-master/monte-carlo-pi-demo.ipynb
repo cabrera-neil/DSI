{
 "cells": [
  {
   "cell_type": "markdown",
   "metadata": {},
   "source": [
    "<img src=\"http://imgur.com/1ZcRyrc.png\" style=\"float: left; margin: 20px; height: 55px\">\n",
    "\n",
    "# Using Monte Carlo to Estimate Pi\n",
    "\n",
    "_Author: Matt Brems (DC) _\n",
    "\n",
    "---\n",
    "\n",
    "In this demo, we will estimate the value of $\\pi$ using the Monte Carlo method. We will generate uniformly random points in the first quadrant. Then, we'll use an inequality to test whether each is \"inside\" the unit circle. Finally, we'll use the ratio of inside to total points to estimate $\\pi$ based on $A_{circle} = \\pi r^2$.\n",
    "\n",
    "### Lesson Guide\n",
    "1. [Generate uniformly random points in Quadrant I](#1.-Generate-uniformly-random-points-in-Quadrant-I)\n",
    "2. [Test whether each point is \"inside\" or \"outside\" the unit circle](#2.-Test-whether-each-point-is-\"inside\"-or-\"outside\"-the-unit-circle)\n",
    "3. [Estimate the area of the circle to estimate pi](#3.-Compute-the-area-of-the-circle-to-estimate-pi)\n"
   ]
  },
  {
   "cell_type": "code",
   "execution_count": 1,
   "metadata": {
    "collapsed": true
   },
   "outputs": [],
   "source": [
    "import math\n",
    "\n",
    "import numpy as np\n",
    "import matplotlib.pyplot as plt\n",
    "\n",
    "%matplotlib inline"
   ]
  },
  {
   "cell_type": "markdown",
   "metadata": {},
   "source": [
    "## 1. Generate uniformly random points in Quadrant I"
   ]
  },
  {
   "cell_type": "code",
   "execution_count": 2,
   "metadata": {
    "collapsed": true
   },
   "outputs": [],
   "source": [
    "NPOINTS = 1000000\n",
    "\n",
    "# Sample from \"quadrant I\": 0 < x,y < 1:\n"
   ]
  },
  {
   "cell_type": "code",
   "execution_count": 3,
   "metadata": {
    "collapsed": false
   },
   "outputs": [],
   "source": [
    "# Given the above, what numbers would you expect to be most likely to appear?\n"
   ]
  },
  {
   "cell_type": "code",
   "execution_count": 4,
   "metadata": {
    "collapsed": false
   },
   "outputs": [],
   "source": [
    "# Verify your intuition! How would you expect the distribution to change as you increase N?\n"
   ]
  },
  {
   "cell_type": "markdown",
   "metadata": {},
   "source": [
    "\n",
    "\n",
    "## 2. Test whether each point is \"inside\" or \"outside\" the unit circle\n",
    "---\n",
    "\n",
    "Recall that all points \"outside\" a unit circle satisfy:\n",
    "$$x^2 + y^2 > 1$$\n",
    "\n",
    "Solving for y:\n",
    "$$y > sqrt(1 - x^2)$$\n",
    "\n",
    "So if this inequality holds, the point (x,y) must be outside the unit circle.\n",
    "\n",
    "We will approximate the area of 1/4 of the unit circle by randomly sampling points in the first quadrant and applying this inequality to each."
   ]
  },
  {
   "cell_type": "code",
   "execution_count": 5,
   "metadata": {
    "collapsed": true
   },
   "outputs": [],
   "source": [
    "# A:"
   ]
  },
  {
   "cell_type": "code",
   "execution_count": 6,
   "metadata": {
    "collapsed": false
   },
   "outputs": [],
   "source": [
    "# It is always a good idea to verify! Let's scatter plot our two classes.\n"
   ]
  },
  {
   "cell_type": "markdown",
   "metadata": {},
   "source": [
    "\n",
    "\n",
    "## 3. Compute the area of the circle to estimate pi\n",
    "---\n",
    "\n",
    "The \"inside\" area of a unit circle ($r = 1$) in the first quadrant is:\n",
    "\n",
    "$$\\frac{\\pi r^2}{4} = \\frac{\\pi}{4}$$\n",
    "\n",
    "The ratio of our \"inside\" to total points approximates this area:\n",
    "\n",
    "$$\\frac{\\pi}{4} \\approx \\frac{N_{inside}}{N_{total}}$$\n",
    "\n",
    "Hence:\n",
    "\n",
    "$$\\pi \\approx 4 \\frac{N_{inside}}{N_{total}}$$"
   ]
  },
  {
   "cell_type": "code",
   "execution_count": 7,
   "metadata": {
    "collapsed": false
   },
   "outputs": [],
   "source": [
    "# A:"
   ]
  },
  {
   "cell_type": "code",
   "execution_count": 8,
   "metadata": {
    "collapsed": false
   },
   "outputs": [],
   "source": [
    "# What is our percent error?\n"
   ]
  }
 ],
 "metadata": {
  "anaconda-cloud": {},
  "kernelspec": {
   "display_name": "Python 2",
   "language": "python",
   "name": "python2"
  },
  "language_info": {
   "codemirror_mode": {
    "name": "ipython",
    "version": 2
   },
   "file_extension": ".py",
   "mimetype": "text/x-python",
   "name": "python",
   "nbconvert_exporter": "python",
   "pygments_lexer": "ipython2",
   "version": "2.7.12"
  }
 },
 "nbformat": 4,
 "nbformat_minor": 1
}
