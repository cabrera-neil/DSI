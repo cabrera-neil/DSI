{
 "cells": [
  {
   "cell_type": "markdown",
   "metadata": {},
   "source": [
    "<img src=\"http://imgur.com/1ZcRyrc.png\" style=\"float: left; margin: 20px; height: 55px\">\n",
    "\n",
    "# Predicting \"Greenness\" of Content\n",
    "\n",
    "_Authors: Joseph Nelson (DC), Kiefer Katovich (SF)_\n",
    "\n",
    "---\n",
    "\n",
    "\n",
    "This data set comes from [StumbleUpon](https://www.stumbleupon.com/), a web page recommender, and was made available [here](https://www.kaggle.com/c/stumbleupon/download/train.tsv).\n",
    "\n",
    "Below is a description of the columns:\n",
    "\n",
    "FieldName|Type|Description\n",
    "---------|----|-----------\n",
    "url|string|URL of the web page to be classified\n",
    "urlid|integer| StumbleUpon's unique identifier for each URL\n",
    "boilerplate|json|Boilerplate text\n",
    "alchemy_category|string|Alchemy category (per the publicly available AlchemyAPI found at www.alchemyapi.com)\n",
    "alchemy_category_score|double|Alchemy category score (per the publicly available AlchemyAPI found at www.alchemyapi.com)\n",
    "avglinksize| double|Average number of words in each link\n",
    "commonLinkRatio_1|double|Number of links sharing at least one word with one other link/number of links\n",
    "commonLinkRatio_2|double|Number of links sharing at least one word with two other links/number of links\n",
    "commonLinkRatio_3|double|Number of links sharing at least one word with three other links/number of links\n",
    "commonLinkRatio_4|double|Number of links sharing at least one word with four other links/number of links\n",
    "compression_ratio|double|Compression achieved on this page via gzip (measure of redundancy).\n",
    "embed_ratio|double|Count of the number of <embed> usages\n",
    "frameBased|integer (0 or 1)|A page is frame based (1) if it has no body markup but has a frameset markup\n",
    "frameTagRatio|double|Ratio of the iframe markups over the total number of markups\n",
    "hasDomainLink|integer (0 or 1)|True (1) if it contains a URL with a domain\n",
    "html_ratio|double|Ratio of tags vs. text in the page\n",
    "image_ratio|double|Ratio of <img> tags vs. text in the page\n",
    "is_news|integer (0 or 1) | True (1) if StumbleUpon's news classifier determines that this web page is news\n",
    "lengthyLinkDomain| integer (0 or 1)|True (1) if at least three <a>'s text contain more than 30 alphanumeric characters\n",
    "linkwordscore|double|Percentage of words on the page that are hyperlinks\n",
    "news_front_page| integer (0 or 1)|True (1) if StumbleUpon's news classifier determines that this web page is front-page news\n",
    "non_markup_alphanum_characters|integer| Page's text's number of alphanumeric characters\n",
    "numberOfLinks|integer Number of <a>| Markups\n",
    "numwords_in_url| double|Number of words in URL\n",
    "parametrizedLinkRatio|double|A link is parametrized if it's URL contains parameters or has an attached onclick event\n",
    "spelling_errors_ratio|double|Ratio of words not found in wiki (considered to be a spelling mistake)\n",
    "label|integer (0 or 1)|User-determined label. Either evergreen (1) or non-evergreen (0); available for train.tsv only"
   ]
  },
  {
   "cell_type": "code",
   "execution_count": 44,
   "metadata": {},
   "outputs": [],
   "source": [
    "import pandas as pd\n",
    "import numpy as np\n",
    "import seaborn as sns\n",
    "import matplotlib.pyplot as plt\n",
    "import json\n",
    "%matplotlib inline\n",
    "\n",
    "# Set max printout options for Pandas.\n",
    "pd.options.display.max_columns = 50\n",
    "pd.options.display.max_colwidth = 300"
   ]
  },
  {
   "cell_type": "markdown",
   "metadata": {},
   "source": [
    "### 1) Load the data.\n",
    "- Note that it's a `.tsv` file and has a tab separator instead of comma.\n",
    "- Clean the `is_news` column.\n",
    "- Create two new columns, `title` and `body`, from the `boilerplate` column.\n",
    "\n",
    "> **Note:** The `boilerplate` column is in JSON dictionary format. You can use the `json.loads()` function from the `json` module to convert this into a Python dictionary."
   ]
  },
  {
   "cell_type": "code",
   "execution_count": 45,
   "metadata": {},
   "outputs": [],
   "source": [
    "evergreen_tsv = '../datasets/evergreen_sites.tsv'"
   ]
  },
  {
   "cell_type": "code",
   "execution_count": 46,
   "metadata": {},
   "outputs": [
    {
     "data": {
      "text/html": [
       "<div>\n",
       "<style scoped>\n",
       "    .dataframe tbody tr th:only-of-type {\n",
       "        vertical-align: middle;\n",
       "    }\n",
       "\n",
       "    .dataframe tbody tr th {\n",
       "        vertical-align: top;\n",
       "    }\n",
       "\n",
       "    .dataframe thead th {\n",
       "        text-align: right;\n",
       "    }\n",
       "</style>\n",
       "<table border=\"1\" class=\"dataframe\">\n",
       "  <thead>\n",
       "    <tr style=\"text-align: right;\">\n",
       "      <th></th>\n",
       "      <th>url</th>\n",
       "      <th>urlid</th>\n",
       "      <th>boilerplate</th>\n",
       "      <th>alchemy_category</th>\n",
       "      <th>alchemy_category_score</th>\n",
       "      <th>avglinksize</th>\n",
       "      <th>commonlinkratio_1</th>\n",
       "      <th>commonlinkratio_2</th>\n",
       "      <th>commonlinkratio_3</th>\n",
       "      <th>commonlinkratio_4</th>\n",
       "      <th>compression_ratio</th>\n",
       "      <th>embed_ratio</th>\n",
       "      <th>framebased</th>\n",
       "      <th>frameTagRatio</th>\n",
       "      <th>hasDomainLink</th>\n",
       "      <th>html_ratio</th>\n",
       "      <th>image_ratio</th>\n",
       "      <th>is_news</th>\n",
       "      <th>lengthyLinkDomain</th>\n",
       "      <th>linkwordscore</th>\n",
       "      <th>news_front_page</th>\n",
       "      <th>non_markup_alphanum_characters</th>\n",
       "      <th>numberOfLinks</th>\n",
       "      <th>numwords_in_url</th>\n",
       "      <th>parametrizedLinkRatio</th>\n",
       "      <th>spelling_errors_ratio</th>\n",
       "      <th>label</th>\n",
       "    </tr>\n",
       "  </thead>\n",
       "  <tbody>\n",
       "    <tr>\n",
       "      <th>6509</th>\n",
       "      <td>http://www.scarves.net/blog/12-more-ways-to-tie-a-scarf</td>\n",
       "      <td>2225</td>\n",
       "      <td>{\"url\":\"scarves blog 12 more ways to tie a scarf\",\"title\":\"12 More Ways to Tie A Scarf For Every Season \",\"body\":\"Remember this graphic on how to tie scarves It s back Now with a brand new batch of creative ways to tie your favorite neck embellishment this easy breezy graphic is here to rescue s...</td>\n",
       "      <td>arts_entertainment</td>\n",
       "      <td>0.773994</td>\n",
       "      <td>1.927536</td>\n",
       "      <td>0.507042</td>\n",
       "      <td>0.253521</td>\n",
       "      <td>0.056338</td>\n",
       "      <td>0.028169</td>\n",
       "      <td>0.375385</td>\n",
       "      <td>0.0</td>\n",
       "      <td>0</td>\n",
       "      <td>0.037534</td>\n",
       "      <td>0</td>\n",
       "      <td>0.262208</td>\n",
       "      <td>0.035294</td>\n",
       "      <td>1</td>\n",
       "      <td>0</td>\n",
       "      <td>17</td>\n",
       "      <td>0</td>\n",
       "      <td>2872</td>\n",
       "      <td>71</td>\n",
       "      <td>5</td>\n",
       "      <td>0.084507</td>\n",
       "      <td>0.124272</td>\n",
       "      <td>1</td>\n",
       "    </tr>\n",
       "    <tr>\n",
       "      <th>5354</th>\n",
       "      <td>http://www.fishtec.co.uk/blog/fly-fishing-downton-abbey</td>\n",
       "      <td>5395</td>\n",
       "      <td>{\"url\":\"fishtec co uk blog fly fishing downton abbey\",\"title\":\"Fly fishing at Downton Abbey \",\"body\":\"Ever dreamt of casting your fly rod with the Earl of Grantham or sharing cucumber sandwiches with Lady Mary by the riverbank The TV series Downton Abbey depicts the aristocracy and their servant...</td>\n",
       "      <td>recreation</td>\n",
       "      <td>0.911915</td>\n",
       "      <td>4.677843</td>\n",
       "      <td>0.927746</td>\n",
       "      <td>0.830925</td>\n",
       "      <td>0.601156</td>\n",
       "      <td>0.414740</td>\n",
       "      <td>0.478495</td>\n",
       "      <td>0.0</td>\n",
       "      <td>0</td>\n",
       "      <td>0.012686</td>\n",
       "      <td>0</td>\n",
       "      <td>0.159712</td>\n",
       "      <td>0.014894</td>\n",
       "      <td>1</td>\n",
       "      <td>1</td>\n",
       "      <td>74</td>\n",
       "      <td>0</td>\n",
       "      <td>5109</td>\n",
       "      <td>692</td>\n",
       "      <td>6</td>\n",
       "      <td>0.001445</td>\n",
       "      <td>0.092613</td>\n",
       "      <td>0</td>\n",
       "    </tr>\n",
       "    <tr>\n",
       "      <th>777</th>\n",
       "      <td>http://beenidrew.com/i-am-sasha-fierce/</td>\n",
       "      <td>8011</td>\n",
       "      <td>{\"title\":\"Beyonce I Am Sasha Fierce \",\"body\":\"I Am Sasha Fierce is the third studio album by American R B recording artist Beyonc\\u00e9 It was released on November 18 2008 by Columbia Records It is classified as a dual disc album the first disc I Am incorporates slow and mid tempo R B ballads an...</td>\n",
       "      <td>?</td>\n",
       "      <td>?</td>\n",
       "      <td>1.285714</td>\n",
       "      <td>0.650943</td>\n",
       "      <td>0.245283</td>\n",
       "      <td>0.000000</td>\n",
       "      <td>0.000000</td>\n",
       "      <td>0.566489</td>\n",
       "      <td>0.0</td>\n",
       "      <td>0</td>\n",
       "      <td>0.063444</td>\n",
       "      <td>0</td>\n",
       "      <td>0.220529</td>\n",
       "      <td>0.102041</td>\n",
       "      <td>1</td>\n",
       "      <td>0</td>\n",
       "      <td>33</td>\n",
       "      <td>0</td>\n",
       "      <td>1270</td>\n",
       "      <td>106</td>\n",
       "      <td>2</td>\n",
       "      <td>0.047170</td>\n",
       "      <td>0.048128</td>\n",
       "      <td>0</td>\n",
       "    </tr>\n",
       "    <tr>\n",
       "      <th>4675</th>\n",
       "      <td>http://www.theburghbaby.com/burghbaby/campfire-baked-apples.html</td>\n",
       "      <td>661</td>\n",
       "      <td>{\"title\":\"Campfire Baked Apples Home burgh baby campfire baked apples - home - burgh baby\",\"body\":\"It s all Maggie s fault On my post about these She mentioned in the comments that baked apples are really good when thrown on a fire Which WTH Why didn t I think of that I make baked apples fairly ...</td>\n",
       "      <td>recreation</td>\n",
       "      <td>0.428649</td>\n",
       "      <td>1.187500</td>\n",
       "      <td>0.126984</td>\n",
       "      <td>0.063492</td>\n",
       "      <td>0.000000</td>\n",
       "      <td>0.000000</td>\n",
       "      <td>0.535549</td>\n",
       "      <td>0.0</td>\n",
       "      <td>0</td>\n",
       "      <td>0.077568</td>\n",
       "      <td>0</td>\n",
       "      <td>0.225668</td>\n",
       "      <td>0.110577</td>\n",
       "      <td>1</td>\n",
       "      <td>0</td>\n",
       "      <td>12</td>\n",
       "      <td>0</td>\n",
       "      <td>1926</td>\n",
       "      <td>63</td>\n",
       "      <td>5</td>\n",
       "      <td>0.063492</td>\n",
       "      <td>0.126761</td>\n",
       "      <td>1</td>\n",
       "    </tr>\n",
       "    <tr>\n",
       "      <th>235</th>\n",
       "      <td>http://www.geekosystem.com/inglip/</td>\n",
       "      <td>1761</td>\n",
       "      <td>{\"title\":\"Inglip Explained Geekosystem praise lord inglip, from whom all blessings flow\",\"body\":\"Come one come all and listen to the revelation of our Lord Inglip Come receive his wisdom delivered to us through the holy mouthpiece of reCAPTCHA Examine the Inglipnomicon and be enlightened Oh you ...</td>\n",
       "      <td>recreation</td>\n",
       "      <td>0.114894</td>\n",
       "      <td>1.957746</td>\n",
       "      <td>0.514019</td>\n",
       "      <td>0.070093</td>\n",
       "      <td>0.032710</td>\n",
       "      <td>0.023364</td>\n",
       "      <td>0.443843</td>\n",
       "      <td>-1.0</td>\n",
       "      <td>0</td>\n",
       "      <td>0.049605</td>\n",
       "      <td>0</td>\n",
       "      <td>0.216563</td>\n",
       "      <td>0.169192</td>\n",
       "      <td>1</td>\n",
       "      <td>1</td>\n",
       "      <td>27</td>\n",
       "      <td>0</td>\n",
       "      <td>5086</td>\n",
       "      <td>214</td>\n",
       "      <td>1</td>\n",
       "      <td>0.308411</td>\n",
       "      <td>0.171355</td>\n",
       "      <td>0</td>\n",
       "    </tr>\n",
       "  </tbody>\n",
       "</table>\n",
       "</div>"
      ],
      "text/plain": [
       "                                                                   url  urlid  \\\n",
       "6509           http://www.scarves.net/blog/12-more-ways-to-tie-a-scarf   2225   \n",
       "5354           http://www.fishtec.co.uk/blog/fly-fishing-downton-abbey   5395   \n",
       "777                            http://beenidrew.com/i-am-sasha-fierce/   8011   \n",
       "4675  http://www.theburghbaby.com/burghbaby/campfire-baked-apples.html    661   \n",
       "235                                 http://www.geekosystem.com/inglip/   1761   \n",
       "\n",
       "                                                                                                                                                                                                                                                                                                      boilerplate  \\\n",
       "6509  {\"url\":\"scarves blog 12 more ways to tie a scarf\",\"title\":\"12 More Ways to Tie A Scarf For Every Season \",\"body\":\"Remember this graphic on how to tie scarves It s back Now with a brand new batch of creative ways to tie your favorite neck embellishment this easy breezy graphic is here to rescue s...   \n",
       "5354  {\"url\":\"fishtec co uk blog fly fishing downton abbey\",\"title\":\"Fly fishing at Downton Abbey \",\"body\":\"Ever dreamt of casting your fly rod with the Earl of Grantham or sharing cucumber sandwiches with Lady Mary by the riverbank The TV series Downton Abbey depicts the aristocracy and their servant...   \n",
       "777   {\"title\":\"Beyonce I Am Sasha Fierce \",\"body\":\"I Am Sasha Fierce is the third studio album by American R B recording artist Beyonc\\u00e9 It was released on November 18 2008 by Columbia Records It is classified as a dual disc album the first disc I Am incorporates slow and mid tempo R B ballads an...   \n",
       "4675  {\"title\":\"Campfire Baked Apples Home burgh baby campfire baked apples - home - burgh baby\",\"body\":\"It s all Maggie s fault On my post about these She mentioned in the comments that baked apples are really good when thrown on a fire Which WTH Why didn t I think of that I make baked apples fairly ...   \n",
       "235   {\"title\":\"Inglip Explained Geekosystem praise lord inglip, from whom all blessings flow\",\"body\":\"Come one come all and listen to the revelation of our Lord Inglip Come receive his wisdom delivered to us through the holy mouthpiece of reCAPTCHA Examine the Inglipnomicon and be enlightened Oh you ...   \n",
       "\n",
       "        alchemy_category alchemy_category_score  avglinksize  \\\n",
       "6509  arts_entertainment               0.773994     1.927536   \n",
       "5354          recreation               0.911915     4.677843   \n",
       "777                    ?                      ?     1.285714   \n",
       "4675          recreation               0.428649     1.187500   \n",
       "235           recreation               0.114894     1.957746   \n",
       "\n",
       "      commonlinkratio_1  commonlinkratio_2  commonlinkratio_3  \\\n",
       "6509           0.507042           0.253521           0.056338   \n",
       "5354           0.927746           0.830925           0.601156   \n",
       "777            0.650943           0.245283           0.000000   \n",
       "4675           0.126984           0.063492           0.000000   \n",
       "235            0.514019           0.070093           0.032710   \n",
       "\n",
       "      commonlinkratio_4  compression_ratio  embed_ratio  framebased  \\\n",
       "6509           0.028169           0.375385          0.0           0   \n",
       "5354           0.414740           0.478495          0.0           0   \n",
       "777            0.000000           0.566489          0.0           0   \n",
       "4675           0.000000           0.535549          0.0           0   \n",
       "235            0.023364           0.443843         -1.0           0   \n",
       "\n",
       "      frameTagRatio  hasDomainLink  html_ratio  image_ratio is_news  \\\n",
       "6509       0.037534              0    0.262208     0.035294       1   \n",
       "5354       0.012686              0    0.159712     0.014894       1   \n",
       "777        0.063444              0    0.220529     0.102041       1   \n",
       "4675       0.077568              0    0.225668     0.110577       1   \n",
       "235        0.049605              0    0.216563     0.169192       1   \n",
       "\n",
       "      lengthyLinkDomain  linkwordscore news_front_page  \\\n",
       "6509                  0             17               0   \n",
       "5354                  1             74               0   \n",
       "777                   0             33               0   \n",
       "4675                  0             12               0   \n",
       "235                   1             27               0   \n",
       "\n",
       "      non_markup_alphanum_characters  numberOfLinks  numwords_in_url  \\\n",
       "6509                            2872             71                5   \n",
       "5354                            5109            692                6   \n",
       "777                             1270            106                2   \n",
       "4675                            1926             63                5   \n",
       "235                             5086            214                1   \n",
       "\n",
       "      parametrizedLinkRatio  spelling_errors_ratio  label  \n",
       "6509               0.084507               0.124272      1  \n",
       "5354               0.001445               0.092613      0  \n",
       "777                0.047170               0.048128      0  \n",
       "4675               0.063492               0.126761      1  \n",
       "235                0.308411               0.171355      0  "
      ]
     },
     "execution_count": 46,
     "metadata": {},
     "output_type": "execute_result"
    }
   ],
   "source": [
    "df = pd.read_csv(evergreen_tsv, delimiter='\\t')\n",
    "df.sample(5)"
   ]
  },
  {
   "cell_type": "code",
   "execution_count": 47,
   "metadata": {},
   "outputs": [
    {
     "data": {
      "text/plain": [
       "1    4552\n",
       "?    2843\n",
       "Name: is_news, dtype: int64"
      ]
     },
     "execution_count": 47,
     "metadata": {},
     "output_type": "execute_result"
    }
   ],
   "source": [
    "df['is_news'].value_counts()"
   ]
  },
  {
   "cell_type": "code",
   "execution_count": 48,
   "metadata": {},
   "outputs": [],
   "source": [
    "df['is_news'] = df['is_news'].apply(lambda x: int(str(x).replace('?','0')))"
   ]
  },
  {
   "cell_type": "code",
   "execution_count": 49,
   "metadata": {},
   "outputs": [],
   "source": [
    "df['title'] = df['boilerplate'].map(lambda x: json.loads(x).get('title', ''))\n",
    "df['body'] = df['boilerplate'].map(lambda x: json.loads(x).get('body', ''))"
   ]
  },
  {
   "cell_type": "code",
   "execution_count": 50,
   "metadata": {},
   "outputs": [
    {
     "name": "stdout",
     "output_type": "stream",
     "text": [
      "<class 'pandas.core.frame.DataFrame'>\n",
      "RangeIndex: 7395 entries, 0 to 7394\n",
      "Data columns (total 29 columns):\n",
      "url                               7395 non-null object\n",
      "urlid                             7395 non-null int64\n",
      "boilerplate                       7395 non-null object\n",
      "alchemy_category                  7395 non-null object\n",
      "alchemy_category_score            7395 non-null object\n",
      "avglinksize                       7395 non-null float64\n",
      "commonlinkratio_1                 7395 non-null float64\n",
      "commonlinkratio_2                 7395 non-null float64\n",
      "commonlinkratio_3                 7395 non-null float64\n",
      "commonlinkratio_4                 7395 non-null float64\n",
      "compression_ratio                 7395 non-null float64\n",
      "embed_ratio                       7395 non-null float64\n",
      "framebased                        7395 non-null int64\n",
      "frameTagRatio                     7395 non-null float64\n",
      "hasDomainLink                     7395 non-null int64\n",
      "html_ratio                        7395 non-null float64\n",
      "image_ratio                       7395 non-null float64\n",
      "is_news                           7395 non-null int64\n",
      "lengthyLinkDomain                 7395 non-null int64\n",
      "linkwordscore                     7395 non-null int64\n",
      "news_front_page                   7395 non-null object\n",
      "non_markup_alphanum_characters    7395 non-null int64\n",
      "numberOfLinks                     7395 non-null int64\n",
      "numwords_in_url                   7395 non-null int64\n",
      "parametrizedLinkRatio             7395 non-null float64\n",
      "spelling_errors_ratio             7395 non-null float64\n",
      "label                             7395 non-null int64\n",
      "title                             7383 non-null object\n",
      "body                              7338 non-null object\n",
      "dtypes: float64(12), int64(10), object(7)\n",
      "memory usage: 1.6+ MB\n"
     ]
    }
   ],
   "source": [
    "df.info()"
   ]
  },
  {
   "cell_type": "code",
   "execution_count": 51,
   "metadata": {},
   "outputs": [
    {
     "data": {
      "text/plain": [
       "(7395, 29)"
      ]
     },
     "execution_count": 51,
     "metadata": {},
     "output_type": "execute_result"
    }
   ],
   "source": [
    "df.shape"
   ]
  },
  {
   "cell_type": "markdown",
   "metadata": {},
   "source": [
    "### 2) What are \"evergreen\" sites?\n",
    "- These are websites that have content that's always relevant — like recipes or reviews — as opposed to current events.\n",
    "- \"Evergreen\" is stored as a binary indicator in the `label` column.\n",
    "- Let's look at some examples:"
   ]
  },
  {
   "cell_type": "code",
   "execution_count": 52,
   "metadata": {},
   "outputs": [
    {
     "data": {
      "text/plain": [
       "1    3796\n",
       "0    3599\n",
       "Name: label, dtype: int64"
      ]
     },
     "execution_count": 52,
     "metadata": {},
     "output_type": "execute_result"
    }
   ],
   "source": [
    "df['label'].value_counts()"
   ]
  },
  {
   "cell_type": "code",
   "execution_count": 53,
   "metadata": {},
   "outputs": [
    {
     "data": {
      "text/plain": [
       "6613               shine.yahoo.com\n",
       "5204      vanillaicing.typepad.com\n",
       "2122              frugalkiwi.co.nz\n",
       "6633    unegaminedanslacuisine.com\n",
       "6856        www.andreasrecipes.com\n",
       "2753               17andbaking.com\n",
       "2860                  usafilm.info\n",
       "1187          www.sciencedaily.com\n",
       "1727          www.villagevoice.com\n",
       "3699         www.alithelazydog.com\n",
       "Name: url, dtype: object"
      ]
     },
     "execution_count": 53,
     "metadata": {},
     "output_type": "execute_result"
    }
   ],
   "source": [
    "df[df['label']==1].sample(10)['url'].apply(lambda x: x.replace(\"http://\",'').split('/')[0])"
   ]
  },
  {
   "cell_type": "code",
   "execution_count": 54,
   "metadata": {},
   "outputs": [
    {
     "data": {
      "text/plain": [
       "6502          www.360bilder.de\n",
       "2914       www.sportaphile.com\n",
       "7289           www.youtube.com\n",
       "5417        www.tensionnot.com\n",
       "1635              www.wimp.com\n",
       "6608           www.cbsnews.com\n",
       "3321        bleacherreport.com\n",
       "3339              www.elle.com\n",
       "6487    www.insidershealth.com\n",
       "1340         www.newyorker.com\n",
       "Name: url, dtype: object"
      ]
     },
     "execution_count": 54,
     "metadata": {},
     "output_type": "execute_result"
    }
   ],
   "source": [
    "df[df['label']==0].sample(10)['url'].apply(lambda x: x.replace(\"http://\",'').split('/')[0])"
   ]
  },
  {
   "cell_type": "markdown",
   "metadata": {},
   "source": [
    "### 3) Does being a news site affect greenness?\n",
    "\n",
    "**3.A Investigate with plots/EDA.**"
   ]
  },
  {
   "cell_type": "code",
   "execution_count": 55,
   "metadata": {},
   "outputs": [],
   "source": [
    "import statsmodels.formula.api as sm"
   ]
  },
  {
   "cell_type": "code",
   "execution_count": 56,
   "metadata": {},
   "outputs": [
    {
     "data": {
      "text/plain": [
       "1    4552\n",
       "0    2843\n",
       "Name: is_news, dtype: int64"
      ]
     },
     "execution_count": 56,
     "metadata": {},
     "output_type": "execute_result"
    }
   ],
   "source": [
    "df['is_news'].value_counts()"
   ]
  },
  {
   "cell_type": "code",
   "execution_count": 57,
   "metadata": {},
   "outputs": [
    {
     "data": {
      "text/html": [
       "<div>\n",
       "<style scoped>\n",
       "    .dataframe tbody tr th:only-of-type {\n",
       "        vertical-align: middle;\n",
       "    }\n",
       "\n",
       "    .dataframe tbody tr th {\n",
       "        vertical-align: top;\n",
       "    }\n",
       "\n",
       "    .dataframe thead tr th {\n",
       "        text-align: left;\n",
       "    }\n",
       "\n",
       "    .dataframe thead tr:last-of-type th {\n",
       "        text-align: right;\n",
       "    }\n",
       "</style>\n",
       "<table border=\"1\" class=\"dataframe\">\n",
       "  <thead>\n",
       "    <tr>\n",
       "      <th></th>\n",
       "      <th colspan=\"3\" halign=\"left\">label</th>\n",
       "    </tr>\n",
       "    <tr>\n",
       "      <th></th>\n",
       "      <th>mean</th>\n",
       "      <th>std</th>\n",
       "      <th>count_nonzero</th>\n",
       "    </tr>\n",
       "    <tr>\n",
       "      <th>is_news</th>\n",
       "      <th></th>\n",
       "      <th></th>\n",
       "      <th></th>\n",
       "    </tr>\n",
       "  </thead>\n",
       "  <tbody>\n",
       "    <tr>\n",
       "      <th>0</th>\n",
       "      <td>0.507562</td>\n",
       "      <td>0.500031</td>\n",
       "      <td>1443</td>\n",
       "    </tr>\n",
       "    <tr>\n",
       "      <th>1</th>\n",
       "      <td>0.516916</td>\n",
       "      <td>0.499769</td>\n",
       "      <td>2353</td>\n",
       "    </tr>\n",
       "  </tbody>\n",
       "</table>\n",
       "</div>"
      ],
      "text/plain": [
       "            label                        \n",
       "             mean       std count_nonzero\n",
       "is_news                                  \n",
       "0        0.507562  0.500031          1443\n",
       "1        0.516916  0.499769          2353"
      ]
     },
     "execution_count": 57,
     "metadata": {},
     "output_type": "execute_result"
    }
   ],
   "source": [
    "df.groupby('is_news').agg([np.mean,np.std, np.count_nonzero])[['label']]"
   ]
  },
  {
   "cell_type": "code",
   "execution_count": 58,
   "metadata": {},
   "outputs": [
    {
     "data": {
      "text/html": [
       "<div>\n",
       "<style scoped>\n",
       "    .dataframe tbody tr th:only-of-type {\n",
       "        vertical-align: middle;\n",
       "    }\n",
       "\n",
       "    .dataframe tbody tr th {\n",
       "        vertical-align: top;\n",
       "    }\n",
       "\n",
       "    .dataframe thead th {\n",
       "        text-align: right;\n",
       "    }\n",
       "</style>\n",
       "<table border=\"1\" class=\"dataframe\">\n",
       "  <thead>\n",
       "    <tr style=\"text-align: right;\">\n",
       "      <th>label</th>\n",
       "      <th>0</th>\n",
       "      <th>1</th>\n",
       "    </tr>\n",
       "    <tr>\n",
       "      <th>is_news</th>\n",
       "      <th></th>\n",
       "      <th></th>\n",
       "    </tr>\n",
       "  </thead>\n",
       "  <tbody>\n",
       "    <tr>\n",
       "      <th>0</th>\n",
       "      <td>1400</td>\n",
       "      <td>1443</td>\n",
       "    </tr>\n",
       "    <tr>\n",
       "      <th>1</th>\n",
       "      <td>2199</td>\n",
       "      <td>2353</td>\n",
       "    </tr>\n",
       "  </tbody>\n",
       "</table>\n",
       "</div>"
      ],
      "text/plain": [
       "label       0     1\n",
       "is_news            \n",
       "0        1400  1443\n",
       "1        2199  2353"
      ]
     },
     "execution_count": 58,
     "metadata": {},
     "output_type": "execute_result"
    }
   ],
   "source": [
    "df.groupby(['is_news','label']).size().unstack()"
   ]
  },
  {
   "cell_type": "code",
   "execution_count": 59,
   "metadata": {},
   "outputs": [
    {
     "name": "stdout",
     "output_type": "stream",
     "text": [
      "0.5759488221401785 0.44790464888828363\n"
     ]
    }
   ],
   "source": [
    "from scipy.stats import chi2_contingency\n",
    "\n",
    "chi2, p, dof, ex = chi2_contingency(df.groupby(['is_news','label']).size().unstack().values)\n",
    "print(chi2,p)"
   ]
  },
  {
   "cell_type": "markdown",
   "metadata": {},
   "source": [
    "**3.B) Test the hypothesis with a logistic regression using statsmodels.**\n",
    "\n",
    "> **Hint:** The `sm.logit` function from `statsmodels.formula.api` will perform a logistic regression using a formula string."
   ]
  },
  {
   "cell_type": "code",
   "execution_count": 60,
   "metadata": {},
   "outputs": [],
   "source": [
    "import statsmodels.formula.api as sm\n",
    "from scipy import stats\n",
    "stats.chisqprob = lambda chisq, df: stats.chi2.sf(chisq, df)"
   ]
  },
  {
   "cell_type": "code",
   "execution_count": 61,
   "metadata": {},
   "outputs": [
    {
     "name": "stdout",
     "output_type": "stream",
     "text": [
      "Optimization terminated successfully.\n",
      "         Current function value: 0.692751\n",
      "         Iterations 3\n"
     ]
    },
    {
     "data": {
      "text/html": [
       "<table class=\"simpletable\">\n",
       "<caption>Logit Regression Results</caption>\n",
       "<tr>\n",
       "  <th>Dep. Variable:</th>       <td>label</td>      <th>  No. Observations:  </th>  <td>  7395</td>  \n",
       "</tr>\n",
       "<tr>\n",
       "  <th>Model:</th>               <td>Logit</td>      <th>  Df Residuals:      </th>  <td>  7393</td>  \n",
       "</tr>\n",
       "<tr>\n",
       "  <th>Method:</th>               <td>MLE</td>       <th>  Df Model:          </th>  <td>     1</td>  \n",
       "</tr>\n",
       "<tr>\n",
       "  <th>Date:</th>          <td>Tue, 02 Oct 2018</td> <th>  Pseudo R-squ.:     </th> <td>5.980e-05</td>\n",
       "</tr>\n",
       "<tr>\n",
       "  <th>Time:</th>              <td>10:23:15</td>     <th>  Log-Likelihood:    </th> <td> -5122.9</td> \n",
       "</tr>\n",
       "<tr>\n",
       "  <th>converged:</th>           <td>True</td>       <th>  LL-Null:           </th> <td> -5123.2</td> \n",
       "</tr>\n",
       "<tr>\n",
       "  <th> </th>                      <td> </td>        <th>  LLR p-value:       </th>  <td>0.4337</td>  \n",
       "</tr>\n",
       "</table>\n",
       "<table class=\"simpletable\">\n",
       "<tr>\n",
       "      <td></td>         <th>coef</th>     <th>std err</th>      <th>z</th>      <th>P>|z|</th>  <th>[0.025</th>    <th>0.975]</th>  \n",
       "</tr>\n",
       "<tr>\n",
       "  <th>Intercept</th> <td>    0.0303</td> <td>    0.038</td> <td>    0.806</td> <td> 0.420</td> <td>   -0.043</td> <td>    0.104</td>\n",
       "</tr>\n",
       "<tr>\n",
       "  <th>is_news</th>   <td>    0.0374</td> <td>    0.048</td> <td>    0.783</td> <td> 0.434</td> <td>   -0.056</td> <td>    0.131</td>\n",
       "</tr>\n",
       "</table>"
      ],
      "text/plain": [
       "<class 'statsmodels.iolib.summary.Summary'>\n",
       "\"\"\"\n",
       "                           Logit Regression Results                           \n",
       "==============================================================================\n",
       "Dep. Variable:                  label   No. Observations:                 7395\n",
       "Model:                          Logit   Df Residuals:                     7393\n",
       "Method:                           MLE   Df Model:                            1\n",
       "Date:                Tue, 02 Oct 2018   Pseudo R-squ.:               5.980e-05\n",
       "Time:                        10:23:15   Log-Likelihood:                -5122.9\n",
       "converged:                       True   LL-Null:                       -5123.2\n",
       "                                        LLR p-value:                    0.4337\n",
       "==============================================================================\n",
       "                 coef    std err          z      P>|z|      [0.025      0.975]\n",
       "------------------------------------------------------------------------------\n",
       "Intercept      0.0303      0.038      0.806      0.420      -0.043       0.104\n",
       "is_news        0.0374      0.048      0.783      0.434      -0.056       0.131\n",
       "==============================================================================\n",
       "\"\"\""
      ]
     },
     "execution_count": 61,
     "metadata": {},
     "output_type": "execute_result"
    }
   ],
   "source": [
    "sm.logit(formula='label ~ is_news',data=df).fit().summary()"
   ]
  },
  {
   "cell_type": "markdown",
   "metadata": {},
   "source": [
    "**3.C) Interpret the results of your model.**"
   ]
  },
  {
   "cell_type": "markdown",
   "metadata": {
    "collapsed": true
   },
   "source": [
    "Both p values (for intercept and is_news) are >0.05 so we cannot say is_news is a good predictor of our target variable"
   ]
  },
  {
   "cell_type": "markdown",
   "metadata": {},
   "source": [
    "### 4) Does the website category affect greenness?\n",
    "\n",
    "**4.A) Investigate with plots/EDA.**"
   ]
  },
  {
   "cell_type": "code",
   "execution_count": 62,
   "metadata": {},
   "outputs": [
    {
     "data": {
      "text/plain": [
       "?                     2342\n",
       "recreation            1229\n",
       "arts_entertainment     941\n",
       "business               880\n",
       "health                 506\n",
       "sports                 380\n",
       "culture_politics       343\n",
       "computer_internet      296\n",
       "science_technology     289\n",
       "gaming                  76\n",
       "religion                72\n",
       "law_crime               31\n",
       "unknown                  6\n",
       "weather                  4\n",
       "Name: alchemy_category, dtype: int64"
      ]
     },
     "execution_count": 62,
     "metadata": {},
     "output_type": "execute_result"
    }
   ],
   "source": [
    "df['alchemy_category'].value_counts()"
   ]
  },
  {
   "cell_type": "code",
   "execution_count": 63,
   "metadata": {},
   "outputs": [],
   "source": [
    "df['alchemy_category'] = df['alchemy_category'].apply(lambda x: 'unknown' if x=='?' else x)"
   ]
  },
  {
   "cell_type": "code",
   "execution_count": 64,
   "metadata": {},
   "outputs": [
    {
     "data": {
      "text/plain": [
       "unknown               2348\n",
       "recreation            1229\n",
       "arts_entertainment     941\n",
       "business               880\n",
       "health                 506\n",
       "sports                 380\n",
       "culture_politics       343\n",
       "computer_internet      296\n",
       "science_technology     289\n",
       "gaming                  76\n",
       "religion                72\n",
       "law_crime               31\n",
       "weather                  4\n",
       "Name: alchemy_category, dtype: int64"
      ]
     },
     "execution_count": 64,
     "metadata": {},
     "output_type": "execute_result"
    }
   ],
   "source": [
    "df['alchemy_category'].value_counts()"
   ]
  },
  {
   "cell_type": "code",
   "execution_count": 65,
   "metadata": {},
   "outputs": [
    {
     "data": {
      "text/html": [
       "<div>\n",
       "<style scoped>\n",
       "    .dataframe tbody tr th:only-of-type {\n",
       "        vertical-align: middle;\n",
       "    }\n",
       "\n",
       "    .dataframe tbody tr th {\n",
       "        vertical-align: top;\n",
       "    }\n",
       "\n",
       "    .dataframe thead tr th {\n",
       "        text-align: left;\n",
       "    }\n",
       "\n",
       "    .dataframe thead tr:last-of-type th {\n",
       "        text-align: right;\n",
       "    }\n",
       "</style>\n",
       "<table border=\"1\" class=\"dataframe\">\n",
       "  <thead>\n",
       "    <tr>\n",
       "      <th></th>\n",
       "      <th colspan=\"3\" halign=\"left\">label</th>\n",
       "    </tr>\n",
       "    <tr>\n",
       "      <th></th>\n",
       "      <th>mean</th>\n",
       "      <th>std</th>\n",
       "      <th>size</th>\n",
       "    </tr>\n",
       "    <tr>\n",
       "      <th>alchemy_category</th>\n",
       "      <th></th>\n",
       "      <th></th>\n",
       "      <th></th>\n",
       "    </tr>\n",
       "  </thead>\n",
       "  <tbody>\n",
       "    <tr>\n",
       "      <th>arts_entertainment</th>\n",
       "      <td>0.371945</td>\n",
       "      <td>0.483581</td>\n",
       "      <td>941</td>\n",
       "    </tr>\n",
       "    <tr>\n",
       "      <th>business</th>\n",
       "      <td>0.711364</td>\n",
       "      <td>0.453386</td>\n",
       "      <td>880</td>\n",
       "    </tr>\n",
       "    <tr>\n",
       "      <th>computer_internet</th>\n",
       "      <td>0.246622</td>\n",
       "      <td>0.431775</td>\n",
       "      <td>296</td>\n",
       "    </tr>\n",
       "    <tr>\n",
       "      <th>culture_politics</th>\n",
       "      <td>0.457726</td>\n",
       "      <td>0.498938</td>\n",
       "      <td>343</td>\n",
       "    </tr>\n",
       "    <tr>\n",
       "      <th>gaming</th>\n",
       "      <td>0.368421</td>\n",
       "      <td>0.485582</td>\n",
       "      <td>76</td>\n",
       "    </tr>\n",
       "    <tr>\n",
       "      <th>health</th>\n",
       "      <td>0.573123</td>\n",
       "      <td>0.495114</td>\n",
       "      <td>506</td>\n",
       "    </tr>\n",
       "    <tr>\n",
       "      <th>law_crime</th>\n",
       "      <td>0.419355</td>\n",
       "      <td>0.501610</td>\n",
       "      <td>31</td>\n",
       "    </tr>\n",
       "    <tr>\n",
       "      <th>recreation</th>\n",
       "      <td>0.684296</td>\n",
       "      <td>0.464985</td>\n",
       "      <td>1229</td>\n",
       "    </tr>\n",
       "    <tr>\n",
       "      <th>religion</th>\n",
       "      <td>0.416667</td>\n",
       "      <td>0.496466</td>\n",
       "      <td>72</td>\n",
       "    </tr>\n",
       "    <tr>\n",
       "      <th>science_technology</th>\n",
       "      <td>0.456747</td>\n",
       "      <td>0.498990</td>\n",
       "      <td>289</td>\n",
       "    </tr>\n",
       "    <tr>\n",
       "      <th>sports</th>\n",
       "      <td>0.205263</td>\n",
       "      <td>0.404426</td>\n",
       "      <td>380</td>\n",
       "    </tr>\n",
       "    <tr>\n",
       "      <th>unknown</th>\n",
       "      <td>0.501704</td>\n",
       "      <td>0.500104</td>\n",
       "      <td>2348</td>\n",
       "    </tr>\n",
       "    <tr>\n",
       "      <th>weather</th>\n",
       "      <td>0.000000</td>\n",
       "      <td>0.000000</td>\n",
       "      <td>4</td>\n",
       "    </tr>\n",
       "  </tbody>\n",
       "</table>\n",
       "</div>"
      ],
      "text/plain": [
       "                       label                \n",
       "                        mean       std  size\n",
       "alchemy_category                            \n",
       "arts_entertainment  0.371945  0.483581   941\n",
       "business            0.711364  0.453386   880\n",
       "computer_internet   0.246622  0.431775   296\n",
       "culture_politics    0.457726  0.498938   343\n",
       "gaming              0.368421  0.485582    76\n",
       "health              0.573123  0.495114   506\n",
       "law_crime           0.419355  0.501610    31\n",
       "recreation          0.684296  0.464985  1229\n",
       "religion            0.416667  0.496466    72\n",
       "science_technology  0.456747  0.498990   289\n",
       "sports              0.205263  0.404426   380\n",
       "unknown             0.501704  0.500104  2348\n",
       "weather             0.000000  0.000000     4"
      ]
     },
     "execution_count": 65,
     "metadata": {},
     "output_type": "execute_result"
    }
   ],
   "source": [
    "df.groupby('alchemy_category').agg([np.mean,np.std, 'size'])[['label']]"
   ]
  },
  {
   "cell_type": "code",
   "execution_count": 66,
   "metadata": {},
   "outputs": [
    {
     "data": {
      "text/plain": [
       "<seaborn.axisgrid.FacetGrid at 0x117db2128>"
      ]
     },
     "execution_count": 66,
     "metadata": {},
     "output_type": "execute_result"
    },
    {
     "data": {
      "image/png": "[encoded data removed]",
      "text/plain": [
       "<Figure size 1080x360 with 1 Axes>"
      ]
     },
     "metadata": {},
     "output_type": "display_data"
    }
   ],
   "source": [
    "sns.catplot(x='alchemy_category', y='label', \n",
    "               data=df, kind='bar', aspect=3).set_xticklabels(rotation=45, horizontalalignment='right')"
   ]
  },
  {
   "cell_type": "code",
   "execution_count": 67,
   "metadata": {},
   "outputs": [
    {
     "data": {
      "text/html": [
       "<div>\n",
       "<style scoped>\n",
       "    .dataframe tbody tr th:only-of-type {\n",
       "        vertical-align: middle;\n",
       "    }\n",
       "\n",
       "    .dataframe tbody tr th {\n",
       "        vertical-align: top;\n",
       "    }\n",
       "\n",
       "    .dataframe thead th {\n",
       "        text-align: right;\n",
       "    }\n",
       "</style>\n",
       "<table border=\"1\" class=\"dataframe\">\n",
       "  <thead>\n",
       "    <tr style=\"text-align: right;\">\n",
       "      <th>label</th>\n",
       "      <th>0</th>\n",
       "      <th>1</th>\n",
       "    </tr>\n",
       "    <tr>\n",
       "      <th>alchemy_category</th>\n",
       "      <th></th>\n",
       "      <th></th>\n",
       "    </tr>\n",
       "  </thead>\n",
       "  <tbody>\n",
       "    <tr>\n",
       "      <th>arts_entertainment</th>\n",
       "      <td>591.0</td>\n",
       "      <td>350.0</td>\n",
       "    </tr>\n",
       "    <tr>\n",
       "      <th>business</th>\n",
       "      <td>254.0</td>\n",
       "      <td>626.0</td>\n",
       "    </tr>\n",
       "    <tr>\n",
       "      <th>computer_internet</th>\n",
       "      <td>223.0</td>\n",
       "      <td>73.0</td>\n",
       "    </tr>\n",
       "    <tr>\n",
       "      <th>culture_politics</th>\n",
       "      <td>186.0</td>\n",
       "      <td>157.0</td>\n",
       "    </tr>\n",
       "    <tr>\n",
       "      <th>gaming</th>\n",
       "      <td>48.0</td>\n",
       "      <td>28.0</td>\n",
       "    </tr>\n",
       "    <tr>\n",
       "      <th>health</th>\n",
       "      <td>216.0</td>\n",
       "      <td>290.0</td>\n",
       "    </tr>\n",
       "    <tr>\n",
       "      <th>law_crime</th>\n",
       "      <td>18.0</td>\n",
       "      <td>13.0</td>\n",
       "    </tr>\n",
       "    <tr>\n",
       "      <th>recreation</th>\n",
       "      <td>388.0</td>\n",
       "      <td>841.0</td>\n",
       "    </tr>\n",
       "    <tr>\n",
       "      <th>religion</th>\n",
       "      <td>42.0</td>\n",
       "      <td>30.0</td>\n",
       "    </tr>\n",
       "    <tr>\n",
       "      <th>science_technology</th>\n",
       "      <td>157.0</td>\n",
       "      <td>132.0</td>\n",
       "    </tr>\n",
       "    <tr>\n",
       "      <th>sports</th>\n",
       "      <td>302.0</td>\n",
       "      <td>78.0</td>\n",
       "    </tr>\n",
       "    <tr>\n",
       "      <th>unknown</th>\n",
       "      <td>1170.0</td>\n",
       "      <td>1178.0</td>\n",
       "    </tr>\n",
       "    <tr>\n",
       "      <th>weather</th>\n",
       "      <td>4.0</td>\n",
       "      <td>0.0</td>\n",
       "    </tr>\n",
       "  </tbody>\n",
       "</table>\n",
       "</div>"
      ],
      "text/plain": [
       "label                    0       1\n",
       "alchemy_category                  \n",
       "arts_entertainment   591.0   350.0\n",
       "business             254.0   626.0\n",
       "computer_internet    223.0    73.0\n",
       "culture_politics     186.0   157.0\n",
       "gaming                48.0    28.0\n",
       "health               216.0   290.0\n",
       "law_crime             18.0    13.0\n",
       "recreation           388.0   841.0\n",
       "religion              42.0    30.0\n",
       "science_technology   157.0   132.0\n",
       "sports               302.0    78.0\n",
       "unknown             1170.0  1178.0\n",
       "weather                4.0     0.0"
      ]
     },
     "execution_count": 67,
     "metadata": {},
     "output_type": "execute_result"
    }
   ],
   "source": [
    "df.groupby(['alchemy_category','label']).size().unstack().fillna(0)"
   ]
  },
  {
   "cell_type": "code",
   "execution_count": 68,
   "metadata": {},
   "outputs": [
    {
     "name": "stdout",
     "output_type": "stream",
     "text": [
      "616.728328724281 2.833736417788549e-124\n"
     ]
    }
   ],
   "source": [
    "chi2, p, dof, ex = chi2_contingency(df.groupby(['alchemy_category','label']).size().unstack().fillna(0).values.T)\n",
    "print(chi2,p)"
   ]
  },
  {
   "cell_type": "markdown",
   "metadata": {},
   "source": [
    "**4.B) Test the hypothesis with a logistic regression.**"
   ]
  },
  {
   "cell_type": "code",
   "execution_count": 69,
   "metadata": {},
   "outputs": [
    {
     "name": "stdout",
     "output_type": "stream",
     "text": [
      "Optimization terminated successfully.\n",
      "         Current function value: 0.649499\n",
      "         Iterations: 113\n",
      "         Function evaluations: 115\n",
      "         Gradient evaluations: 115\n"
     ]
    },
    {
     "data": {
      "text/html": [
       "<table class=\"simpletable\">\n",
       "<caption>Logit Regression Results</caption>\n",
       "<tr>\n",
       "  <th>Dep. Variable:</th>       <td>label</td>      <th>  No. Observations:  </th>   <td>  7395</td>  \n",
       "</tr>\n",
       "<tr>\n",
       "  <th>Model:</th>               <td>Logit</td>      <th>  Df Residuals:      </th>   <td>  7382</td>  \n",
       "</tr>\n",
       "<tr>\n",
       "  <th>Method:</th>               <td>MLE</td>       <th>  Df Model:          </th>   <td>    12</td>  \n",
       "</tr>\n",
       "<tr>\n",
       "  <th>Date:</th>          <td>Tue, 02 Oct 2018</td> <th>  Pseudo R-squ.:     </th>   <td>0.06249</td> \n",
       "</tr>\n",
       "<tr>\n",
       "  <th>Time:</th>              <td>10:23:17</td>     <th>  Log-Likelihood:    </th>  <td> -4803.0</td> \n",
       "</tr>\n",
       "<tr>\n",
       "  <th>converged:</th>           <td>True</td>       <th>  LL-Null:           </th>  <td> -5123.2</td> \n",
       "</tr>\n",
       "<tr>\n",
       "  <th> </th>                      <td> </td>        <th>  LLR p-value:       </th> <td>2.585e-129</td>\n",
       "</tr>\n",
       "</table>\n",
       "<table class=\"simpletable\">\n",
       "<tr>\n",
       "                                      <td></td>                                         <th>coef</th>     <th>std err</th>      <th>z</th>      <th>P>|z|</th>  <th>[0.025</th>    <th>0.975]</th>  \n",
       "</tr>\n",
       "<tr>\n",
       "  <th>Intercept</th>                                                                 <td>    0.0067</td> <td>    0.041</td> <td>    0.163</td> <td> 0.871</td> <td>   -0.074</td> <td>    0.088</td>\n",
       "</tr>\n",
       "<tr>\n",
       "  <th>C(alchemy_category, Treatment(reference='unknown'))[T.arts_entertainment]</th> <td>   -0.5306</td> <td>    0.079</td> <td>   -6.710</td> <td> 0.000</td> <td>   -0.686</td> <td>   -0.376</td>\n",
       "</tr>\n",
       "<tr>\n",
       "  <th>C(alchemy_category, Treatment(reference='unknown'))[T.business]</th>           <td>    0.8953</td> <td>    0.085</td> <td>   10.524</td> <td> 0.000</td> <td>    0.729</td> <td>    1.062</td>\n",
       "</tr>\n",
       "<tr>\n",
       "  <th>C(alchemy_category, Treatment(reference='unknown'))[T.computer_internet]</th>  <td>   -1.1244</td> <td>    0.141</td> <td>   -7.972</td> <td> 0.000</td> <td>   -1.401</td> <td>   -0.848</td>\n",
       "</tr>\n",
       "<tr>\n",
       "  <th>C(alchemy_category, Treatment(reference='unknown'))[T.culture_politics]</th>   <td>   -0.1759</td> <td>    0.116</td> <td>   -1.517</td> <td> 0.129</td> <td>   -0.403</td> <td>    0.051</td>\n",
       "</tr>\n",
       "<tr>\n",
       "  <th>C(alchemy_category, Treatment(reference='unknown'))[T.gaming]</th>             <td>   -0.5464</td> <td>    0.241</td> <td>   -2.264</td> <td> 0.024</td> <td>   -1.020</td> <td>   -0.073</td>\n",
       "</tr>\n",
       "<tr>\n",
       "  <th>C(alchemy_category, Treatment(reference='unknown'))[T.health]</th>             <td>    0.2880</td> <td>    0.099</td> <td>    2.911</td> <td> 0.004</td> <td>    0.094</td> <td>    0.482</td>\n",
       "</tr>\n",
       "<tr>\n",
       "  <th>C(alchemy_category, Treatment(reference='unknown'))[T.law_crime]</th>          <td>   -0.3298</td> <td>    0.366</td> <td>   -0.901</td> <td> 0.368</td> <td>   -1.048</td> <td>    0.388</td>\n",
       "</tr>\n",
       "<tr>\n",
       "  <th>C(alchemy_category, Treatment(reference='unknown'))[T.recreation]</th>         <td>    0.7669</td> <td>    0.074</td> <td>   10.369</td> <td> 0.000</td> <td>    0.622</td> <td>    0.912</td>\n",
       "</tr>\n",
       "<tr>\n",
       "  <th>C(alchemy_category, Treatment(reference='unknown'))[T.religion]</th>           <td>   -0.3428</td> <td>    0.243</td> <td>   -1.413</td> <td> 0.158</td> <td>   -0.818</td> <td>    0.133</td>\n",
       "</tr>\n",
       "<tr>\n",
       "  <th>C(alchemy_category, Treatment(reference='unknown'))[T.science_technology]</th> <td>   -0.1803</td> <td>    0.125</td> <td>   -1.441</td> <td> 0.149</td> <td>   -0.426</td> <td>    0.065</td>\n",
       "</tr>\n",
       "<tr>\n",
       "  <th>C(alchemy_category, Treatment(reference='unknown'))[T.sports]</th>             <td>   -1.3596</td> <td>    0.134</td> <td>  -10.183</td> <td> 0.000</td> <td>   -1.621</td> <td>   -1.098</td>\n",
       "</tr>\n",
       "<tr>\n",
       "  <th>C(alchemy_category, Treatment(reference='unknown'))[T.weather]</th>            <td>  -11.8128</td> <td>  183.079</td> <td>   -0.065</td> <td> 0.949</td> <td> -370.641</td> <td>  347.015</td>\n",
       "</tr>\n",
       "</table>"
      ],
      "text/plain": [
       "<class 'statsmodels.iolib.summary.Summary'>\n",
       "\"\"\"\n",
       "                           Logit Regression Results                           \n",
       "==============================================================================\n",
       "Dep. Variable:                  label   No. Observations:                 7395\n",
       "Model:                          Logit   Df Residuals:                     7382\n",
       "Method:                           MLE   Df Model:                           12\n",
       "Date:                Tue, 02 Oct 2018   Pseudo R-squ.:                 0.06249\n",
       "Time:                        10:23:17   Log-Likelihood:                -4803.0\n",
       "converged:                       True   LL-Null:                       -5123.2\n",
       "                                        LLR p-value:                2.585e-129\n",
       "=============================================================================================================================================\n",
       "                                                                                coef    std err          z      P>|z|      [0.025      0.975]\n",
       "---------------------------------------------------------------------------------------------------------------------------------------------\n",
       "Intercept                                                                     0.0067      0.041      0.163      0.871      -0.074       0.088\n",
       "C(alchemy_category, Treatment(reference='unknown'))[T.arts_entertainment]    -0.5306      0.079     -6.710      0.000      -0.686      -0.376\n",
       "C(alchemy_category, Treatment(reference='unknown'))[T.business]               0.8953      0.085     10.524      0.000       0.729       1.062\n",
       "C(alchemy_category, Treatment(reference='unknown'))[T.computer_internet]     -1.1244      0.141     -7.972      0.000      -1.401      -0.848\n",
       "C(alchemy_category, Treatment(reference='unknown'))[T.culture_politics]      -0.1759      0.116     -1.517      0.129      -0.403       0.051\n",
       "C(alchemy_category, Treatment(reference='unknown'))[T.gaming]                -0.5464      0.241     -2.264      0.024      -1.020      -0.073\n",
       "C(alchemy_category, Treatment(reference='unknown'))[T.health]                 0.2880      0.099      2.911      0.004       0.094       0.482\n",
       "C(alchemy_category, Treatment(reference='unknown'))[T.law_crime]             -0.3298      0.366     -0.901      0.368      -1.048       0.388\n",
       "C(alchemy_category, Treatment(reference='unknown'))[T.recreation]             0.7669      0.074     10.369      0.000       0.622       0.912\n",
       "C(alchemy_category, Treatment(reference='unknown'))[T.religion]              -0.3428      0.243     -1.413      0.158      -0.818       0.133\n",
       "C(alchemy_category, Treatment(reference='unknown'))[T.science_technology]    -0.1803      0.125     -1.441      0.149      -0.426       0.065\n",
       "C(alchemy_category, Treatment(reference='unknown'))[T.sports]                -1.3596      0.134    -10.183      0.000      -1.621      -1.098\n",
       "C(alchemy_category, Treatment(reference='unknown'))[T.weather]              -11.8128    183.079     -0.065      0.949    -370.641     347.015\n",
       "=============================================================================================================================================\n",
       "\"\"\""
      ]
     },
     "execution_count": 69,
     "metadata": {},
     "output_type": "execute_result"
    }
   ],
   "source": [
    "#NOTE: fit(maxiter=500,method='bfgs')\n",
    "\n",
    "sm.logit(formula=\"label ~ C(alchemy_category, Treatment(reference='unknown'))\",data=df).fit(maxiter=500,method='bfgs').summary()"
   ]
  },
  {
   "cell_type": "markdown",
   "metadata": {},
   "source": [
    "**4.C Interpret the model results.**"
   ]
  },
  {
   "cell_type": "markdown",
   "metadata": {
    "collapsed": true
   },
   "source": [
    "Many coefficient are statistically significant."
   ]
  },
  {
   "cell_type": "markdown",
   "metadata": {},
   "source": [
    "### 5) Does the image ratio affect greenness?\n",
    "\n",
    "**5.A) Investigate with plots/EDA.**"
   ]
  },
  {
   "cell_type": "code",
   "execution_count": 70,
   "metadata": {},
   "outputs": [
    {
     "data": {
      "text/plain": [
       "count    7395.000000\n",
       "mean        0.275709\n",
       "std         1.919320\n",
       "min        -1.000000\n",
       "25%         0.025900\n",
       "50%         0.083051\n",
       "75%         0.236700\n",
       "max       113.333333\n",
       "Name: image_ratio, dtype: float64"
      ]
     },
     "execution_count": 70,
     "metadata": {},
     "output_type": "execute_result"
    }
   ],
   "source": [
    "df['image_ratio'].describe()"
   ]
  },
  {
   "cell_type": "code",
   "execution_count": 71,
   "metadata": {},
   "outputs": [
    {
     "data": {
      "text/plain": [
       "-1.000000    690\n",
       " 0.000000     40\n",
       " 0.724138     35\n",
       " 0.333333     23\n",
       " 0.250000     19\n",
       " 1.000000     18\n",
       " 0.500000     14\n",
       " 0.062500     13\n",
       " 0.230769     11\n",
       " 0.083333     10\n",
       " 0.153846     10\n",
       " 0.166667     10\n",
       " 0.018868     10\n",
       " 0.038462      9\n",
       " 0.125000      9\n",
       " 0.142857      9\n",
       " 0.222222      9\n",
       " 0.023256      8\n",
       " 0.041667      8\n",
       " 0.055556      8\n",
       "Name: image_ratio, dtype: int64"
      ]
     },
     "execution_count": 71,
     "metadata": {},
     "output_type": "execute_result"
    }
   ],
   "source": [
    "df['image_ratio'].value_counts().head(20)"
   ]
  },
  {
   "cell_type": "markdown",
   "metadata": {},
   "source": [
    "> **NOTE**  \n",
    "> There are a lot of -1 and 0!"
   ]
  },
  {
   "cell_type": "code",
   "execution_count": 72,
   "metadata": {},
   "outputs": [
    {
     "data": {
      "text/plain": [
       "<matplotlib.axes._subplots.AxesSubplot at 0x1a24b3f6a0>"
      ]
     },
     "execution_count": 72,
     "metadata": {},
     "output_type": "execute_result"
    },
    {
     "data": {
      "image/png": "[encoded data removed]",
      "text/plain": [
       "<Figure size 432x288 with 1 Axes>"
      ]
     },
     "metadata": {},
     "output_type": "display_data"
    }
   ],
   "source": [
    "df['image_ratio'].hist(bins=10)"
   ]
  },
  {
   "cell_type": "code",
   "execution_count": 73,
   "metadata": {},
   "outputs": [
    {
     "data": {
      "text/plain": [
       "<matplotlib.axes._subplots.AxesSubplot at 0x1a24aac470>"
      ]
     },
     "execution_count": 73,
     "metadata": {},
     "output_type": "execute_result"
    },
    {
     "data": {
      "image/png": "[encoded data removed]",
      "text/plain": [
       "<Figure size 432x288 with 1 Axes>"
      ]
     },
     "metadata": {},
     "output_type": "display_data"
    }
   ],
   "source": [
    "df['image_ratio'].plot(kind='box')"
   ]
  },
  {
   "cell_type": "markdown",
   "metadata": {},
   "source": [
    "**Let's consider only values>0**"
   ]
  },
  {
   "cell_type": "code",
   "execution_count": 74,
   "metadata": {},
   "outputs": [
    {
     "data": {
      "text/plain": [
       "<matplotlib.axes._subplots.AxesSubplot at 0x1a24a4c278>"
      ]
     },
     "execution_count": 74,
     "metadata": {},
     "output_type": "execute_result"
    },
    {
     "data": {
      "image/png": "[encoded data removed]",
      "text/plain": [
       "<Figure size 432x288 with 1 Axes>"
      ]
     },
     "metadata": {},
     "output_type": "display_data"
    }
   ],
   "source": [
    "df[df['image_ratio']>0]['image_ratio'].hist(bins=20)"
   ]
  },
  {
   "cell_type": "markdown",
   "metadata": {},
   "source": [
    "Let's use a log tranformation"
   ]
  },
  {
   "cell_type": "code",
   "execution_count": 75,
   "metadata": {},
   "outputs": [
    {
     "data": {
      "text/plain": [
       "<matplotlib.axes._subplots.AxesSubplot at 0x1a249d3a20>"
      ]
     },
     "execution_count": 75,
     "metadata": {},
     "output_type": "execute_result"
    },
    {
     "data": {
      "image/png": "[encoded data removed]",
      "text/plain": [
       "<Figure size 432x288 with 1 Axes>"
      ]
     },
     "metadata": {},
     "output_type": "display_data"
    }
   ],
   "source": [
    "df[df['image_ratio']>0]['image_ratio'].apply(np.log).hist(bins=50)"
   ]
  },
  {
   "cell_type": "markdown",
   "metadata": {},
   "source": [
    "> **NOTE**  \n",
    "> The distribution is log-normal!"
   ]
  },
  {
   "cell_type": "markdown",
   "metadata": {},
   "source": [
    "**5.B) Test the hypothesis using a logistic regression.**\n",
    "\n",
    "> **Note**: It's worth thinking about how to best represent this variable. It may not be wise to input the image ratio as is."
   ]
  },
  {
   "cell_type": "code",
   "execution_count": 76,
   "metadata": {},
   "outputs": [
    {
     "name": "stdout",
     "output_type": "stream",
     "text": [
      "Optimization terminated successfully.\n",
      "         Current function value: 0.692631\n",
      "         Iterations 5\n"
     ]
    },
    {
     "data": {
      "text/html": [
       "<table class=\"simpletable\">\n",
       "<caption>Logit Regression Results</caption>\n",
       "<tr>\n",
       "  <th>Dep. Variable:</th>       <td>label</td>      <th>  No. Observations:  </th>  <td>  7395</td>  \n",
       "</tr>\n",
       "<tr>\n",
       "  <th>Model:</th>               <td>Logit</td>      <th>  Df Residuals:      </th>  <td>  7393</td>  \n",
       "</tr>\n",
       "<tr>\n",
       "  <th>Method:</th>               <td>MLE</td>       <th>  Df Model:          </th>  <td>     1</td>  \n",
       "</tr>\n",
       "<tr>\n",
       "  <th>Date:</th>          <td>Tue, 02 Oct 2018</td> <th>  Pseudo R-squ.:     </th> <td>0.0002325</td>\n",
       "</tr>\n",
       "<tr>\n",
       "  <th>Time:</th>              <td>10:23:18</td>     <th>  Log-Likelihood:    </th> <td> -5122.0</td> \n",
       "</tr>\n",
       "<tr>\n",
       "  <th>converged:</th>           <td>True</td>       <th>  LL-Null:           </th> <td> -5123.2</td> \n",
       "</tr>\n",
       "<tr>\n",
       "  <th> </th>                      <td> </td>        <th>  LLR p-value:       </th>  <td>0.1228</td>  \n",
       "</tr>\n",
       "</table>\n",
       "<table class=\"simpletable\">\n",
       "<tr>\n",
       "       <td></td>          <th>coef</th>     <th>std err</th>      <th>z</th>      <th>P>|z|</th>  <th>[0.025</th>    <th>0.975]</th>  \n",
       "</tr>\n",
       "<tr>\n",
       "  <th>Intercept</th>   <td>    0.0590</td> <td>    0.024</td> <td>    2.499</td> <td> 0.012</td> <td>    0.013</td> <td>    0.105</td>\n",
       "</tr>\n",
       "<tr>\n",
       "  <th>image_ratio</th> <td>   -0.0210</td> <td>    0.015</td> <td>   -1.400</td> <td> 0.161</td> <td>   -0.051</td> <td>    0.008</td>\n",
       "</tr>\n",
       "</table>"
      ],
      "text/plain": [
       "<class 'statsmodels.iolib.summary.Summary'>\n",
       "\"\"\"\n",
       "                           Logit Regression Results                           \n",
       "==============================================================================\n",
       "Dep. Variable:                  label   No. Observations:                 7395\n",
       "Model:                          Logit   Df Residuals:                     7393\n",
       "Method:                           MLE   Df Model:                            1\n",
       "Date:                Tue, 02 Oct 2018   Pseudo R-squ.:               0.0002325\n",
       "Time:                        10:23:18   Log-Likelihood:                -5122.0\n",
       "converged:                       True   LL-Null:                       -5123.2\n",
       "                                        LLR p-value:                    0.1228\n",
       "===============================================================================\n",
       "                  coef    std err          z      P>|z|      [0.025      0.975]\n",
       "-------------------------------------------------------------------------------\n",
       "Intercept       0.0590      0.024      2.499      0.012       0.013       0.105\n",
       "image_ratio    -0.0210      0.015     -1.400      0.161      -0.051       0.008\n",
       "===============================================================================\n",
       "\"\"\""
      ]
     },
     "execution_count": 76,
     "metadata": {},
     "output_type": "execute_result"
    }
   ],
   "source": [
    "sm.logit(formula=\"label ~ image_ratio\",data=df).fit(maxiter=500).summary()"
   ]
  },
  {
   "cell_type": "code",
   "execution_count": 77,
   "metadata": {},
   "outputs": [
    {
     "name": "stdout",
     "output_type": "stream",
     "text": [
      "Optimization terminated successfully.\n",
      "         Current function value: 0.692767\n",
      "         Iterations 3\n"
     ]
    },
    {
     "data": {
      "text/html": [
       "<table class=\"simpletable\">\n",
       "<caption>Logit Regression Results</caption>\n",
       "<tr>\n",
       "  <th>Dep. Variable:</th>       <td>label</td>      <th>  No. Observations:  </th>  <td>  7395</td>  \n",
       "</tr>\n",
       "<tr>\n",
       "  <th>Model:</th>               <td>Logit</td>      <th>  Df Residuals:      </th>  <td>  7393</td>  \n",
       "</tr>\n",
       "<tr>\n",
       "  <th>Method:</th>               <td>MLE</td>       <th>  Df Model:          </th>  <td>     1</td>  \n",
       "</tr>\n",
       "<tr>\n",
       "  <th>Date:</th>          <td>Tue, 02 Oct 2018</td> <th>  Pseudo R-squ.:     </th> <td>3.643e-05</td>\n",
       "</tr>\n",
       "<tr>\n",
       "  <th>Time:</th>              <td>10:23:18</td>     <th>  Log-Likelihood:    </th> <td> -5123.0</td> \n",
       "</tr>\n",
       "<tr>\n",
       "  <th>converged:</th>           <td>True</td>       <th>  LL-Null:           </th> <td> -5123.2</td> \n",
       "</tr>\n",
       "<tr>\n",
       "  <th> </th>                      <td> </td>        <th>  LLR p-value:       </th>  <td>0.5412</td>  \n",
       "</tr>\n",
       "</table>\n",
       "<table class=\"simpletable\">\n",
       "<tr>\n",
       "             <td></td>                <th>coef</th>     <th>std err</th>      <th>z</th>      <th>P>|z|</th>  <th>[0.025</th>    <th>0.975]</th>  \n",
       "</tr>\n",
       "<tr>\n",
       "  <th>Intercept</th>               <td>    0.0848</td> <td>    0.057</td> <td>    1.499</td> <td> 0.134</td> <td>   -0.026</td> <td>    0.196</td>\n",
       "</tr>\n",
       "<tr>\n",
       "  <th>np.log(image_ratio + 2)</th> <td>   -0.0421</td> <td>    0.069</td> <td>   -0.611</td> <td> 0.541</td> <td>   -0.177</td> <td>    0.093</td>\n",
       "</tr>\n",
       "</table>"
      ],
      "text/plain": [
       "<class 'statsmodels.iolib.summary.Summary'>\n",
       "\"\"\"\n",
       "                           Logit Regression Results                           \n",
       "==============================================================================\n",
       "Dep. Variable:                  label   No. Observations:                 7395\n",
       "Model:                          Logit   Df Residuals:                     7393\n",
       "Method:                           MLE   Df Model:                            1\n",
       "Date:                Tue, 02 Oct 2018   Pseudo R-squ.:               3.643e-05\n",
       "Time:                        10:23:18   Log-Likelihood:                -5123.0\n",
       "converged:                       True   LL-Null:                       -5123.2\n",
       "                                        LLR p-value:                    0.5412\n",
       "===========================================================================================\n",
       "                              coef    std err          z      P>|z|      [0.025      0.975]\n",
       "-------------------------------------------------------------------------------------------\n",
       "Intercept                   0.0848      0.057      1.499      0.134      -0.026       0.196\n",
       "np.log(image_ratio + 2)    -0.0421      0.069     -0.611      0.541      -0.177       0.093\n",
       "===========================================================================================\n",
       "\"\"\""
      ]
     },
     "execution_count": 77,
     "metadata": {},
     "output_type": "execute_result"
    }
   ],
   "source": [
    "sm.logit(formula=\"label ~ np.log(image_ratio+2)\",data=df).fit(maxiter=500).summary()"
   ]
  },
  {
   "cell_type": "markdown",
   "metadata": {},
   "source": [
    "#### Let's use another column to keep track of the 0s and -1s and use the median"
   ]
  },
  {
   "cell_type": "code",
   "execution_count": 85,
   "metadata": {},
   "outputs": [
    {
     "data": {
      "text/plain": [
       "<matplotlib.axes._subplots.AxesSubplot at 0x1a245806d8>"
      ]
     },
     "execution_count": 85,
     "metadata": {},
     "output_type": "execute_result"
    },
    {
     "data": {
      "image/png": "[encoded data removed]",
      "text/plain": [
       "<Figure size 432x288 with 1 Axes>"
      ]
     },
     "metadata": {},
     "output_type": "display_data"
    }
   ],
   "source": [
    "df['image_ratio'].hist()"
   ]
  },
  {
   "cell_type": "code",
   "execution_count": 87,
   "metadata": {},
   "outputs": [
    {
     "data": {
      "text/plain": [
       "0.8455713319810683"
      ]
     },
     "execution_count": 87,
     "metadata": {},
     "output_type": "execute_result"
    }
   ],
   "source": [
    "#values between 0 and 1\n",
    "len(df[(df['image_ratio']>=0) & (df['image_ratio']<=1)]) / len(df)"
   ]
  },
  {
   "cell_type": "code",
   "execution_count": 88,
   "metadata": {},
   "outputs": [
    {
     "data": {
      "text/plain": [
       "0.09330628803245436"
      ]
     },
     "execution_count": 88,
     "metadata": {},
     "output_type": "execute_result"
    }
   ],
   "source": [
    "# values smaller than 0\n",
    "len(df[(df['image_ratio']<0)]) / len(df)"
   ]
  },
  {
   "cell_type": "code",
   "execution_count": 89,
   "metadata": {},
   "outputs": [
    {
     "data": {
      "text/plain": [
       "0.06112237998647735"
      ]
     },
     "execution_count": 89,
     "metadata": {},
     "output_type": "execute_result"
    }
   ],
   "source": [
    "# values greater than 1\n",
    "len(df[(df['image_ratio']>1)]) / len(df)"
   ]
  },
  {
   "cell_type": "code",
   "execution_count": 94,
   "metadata": {},
   "outputs": [
    {
     "data": {
      "text/plain": [
       "<matplotlib.axes._subplots.AxesSubplot at 0x1a250a6ef0>"
      ]
     },
     "execution_count": 94,
     "metadata": {},
     "output_type": "execute_result"
    },
    {
     "data": {
      "image/png": "[encoded data removed]",
      "text/plain": [
       "<Figure size 432x288 with 1 Axes>"
      ]
     },
     "metadata": {},
     "output_type": "display_data"
    }
   ],
   "source": [
    "df[(df['image_ratio']>1)]['image_ratio'].hist()"
   ]
  },
  {
   "cell_type": "code",
   "execution_count": 96,
   "metadata": {},
   "outputs": [
    {
     "name": "stdout",
     "output_type": "stream",
     "text": [
      "0.083050847\n"
     ]
    }
   ],
   "source": [
    "# if the value is < 0, use the median\n",
    "image_ratio_median = np.median(df['image_ratio'])\n",
    "print(image_ratio_median)\n",
    "df['image_ratio_new'] = df['image_ratio'].apply(lambda x: image_ratio_median if x<0 else x)"
   ]
  },
  {
   "cell_type": "code",
   "execution_count": 99,
   "metadata": {},
   "outputs": [],
   "source": [
    "# After the previous substitution we cannot differenciate, in image_ratio_new,\n",
    "# values that were previously<0.\n",
    "# To keep track of those values we use a new \n",
    "# variable, so the model can calculate a special coefficient\n",
    "# to keep track of those values.\n",
    "df['image_ratio_lt0'] = (df['image_ratio'] > 0).astype(int)"
   ]
  },
  {
   "cell_type": "code",
   "execution_count": 100,
   "metadata": {},
   "outputs": [
    {
     "data": {
      "text/plain": [
       "<matplotlib.axes._subplots.AxesSubplot at 0x1a2520b470>"
      ]
     },
     "execution_count": 100,
     "metadata": {},
     "output_type": "execute_result"
    },
    {
     "data": {
      "image/png": "[encoded data removed]",
      "text/plain": [
       "<Figure size 432x288 with 1 Axes>"
      ]
     },
     "metadata": {},
     "output_type": "display_data"
    }
   ],
   "source": [
    "df['image_ratio_new'].apply(lambda x: np.log(x+1)).hist(bins=20)"
   ]
  },
  {
   "cell_type": "code",
   "execution_count": 101,
   "metadata": {},
   "outputs": [
    {
     "name": "stdout",
     "output_type": "stream",
     "text": [
      "Optimization terminated successfully.\n",
      "         Current function value: 0.688462\n",
      "         Iterations 4\n"
     ]
    },
    {
     "data": {
      "text/html": [
       "<table class=\"simpletable\">\n",
       "<caption>Logit Regression Results</caption>\n",
       "<tr>\n",
       "  <th>Dep. Variable:</th>       <td>label</td>      <th>  No. Observations:  </th>  <td>  7395</td>  \n",
       "</tr>\n",
       "<tr>\n",
       "  <th>Model:</th>               <td>Logit</td>      <th>  Df Residuals:      </th>  <td>  7392</td>  \n",
       "</tr>\n",
       "<tr>\n",
       "  <th>Method:</th>               <td>MLE</td>       <th>  Df Model:          </th>  <td>     2</td>  \n",
       "</tr>\n",
       "<tr>\n",
       "  <th>Date:</th>          <td>Tue, 02 Oct 2018</td> <th>  Pseudo R-squ.:     </th> <td>0.006251</td> \n",
       "</tr>\n",
       "<tr>\n",
       "  <th>Time:</th>              <td>10:31:49</td>     <th>  Log-Likelihood:    </th> <td> -5091.2</td> \n",
       "</tr>\n",
       "<tr>\n",
       "  <th>converged:</th>           <td>True</td>       <th>  LL-Null:           </th> <td> -5123.2</td> \n",
       "</tr>\n",
       "<tr>\n",
       "  <th> </th>                      <td> </td>        <th>  LLR p-value:       </th> <td>1.235e-14</td>\n",
       "</tr>\n",
       "</table>\n",
       "<table class=\"simpletable\">\n",
       "<tr>\n",
       "               <td></td>                  <th>coef</th>     <th>std err</th>      <th>z</th>      <th>P>|z|</th>  <th>[0.025</th>    <th>0.975]</th>  \n",
       "</tr>\n",
       "<tr>\n",
       "  <th>Intercept</th>                   <td>   -0.2590</td> <td>    0.075</td> <td>   -3.453</td> <td> 0.001</td> <td>   -0.406</td> <td>   -0.112</td>\n",
       "</tr>\n",
       "<tr>\n",
       "  <th>np.log(image_ratio_new + 1)</th> <td>   -0.4439</td> <td>    0.072</td> <td>   -6.159</td> <td> 0.000</td> <td>   -0.585</td> <td>   -0.303</td>\n",
       "</tr>\n",
       "<tr>\n",
       "  <th>image_ratio_lt0</th>             <td>    0.4483</td> <td>    0.079</td> <td>    5.645</td> <td> 0.000</td> <td>    0.293</td> <td>    0.604</td>\n",
       "</tr>\n",
       "</table>"
      ],
      "text/plain": [
       "<class 'statsmodels.iolib.summary.Summary'>\n",
       "\"\"\"\n",
       "                           Logit Regression Results                           \n",
       "==============================================================================\n",
       "Dep. Variable:                  label   No. Observations:                 7395\n",
       "Model:                          Logit   Df Residuals:                     7392\n",
       "Method:                           MLE   Df Model:                            2\n",
       "Date:                Tue, 02 Oct 2018   Pseudo R-squ.:                0.006251\n",
       "Time:                        10:31:49   Log-Likelihood:                -5091.2\n",
       "converged:                       True   LL-Null:                       -5123.2\n",
       "                                        LLR p-value:                 1.235e-14\n",
       "===============================================================================================\n",
       "                                  coef    std err          z      P>|z|      [0.025      0.975]\n",
       "-----------------------------------------------------------------------------------------------\n",
       "Intercept                      -0.2590      0.075     -3.453      0.001      -0.406      -0.112\n",
       "np.log(image_ratio_new + 1)    -0.4439      0.072     -6.159      0.000      -0.585      -0.303\n",
       "image_ratio_lt0                 0.4483      0.079      5.645      0.000       0.293       0.604\n",
       "===============================================================================================\n",
       "\"\"\""
      ]
     },
     "execution_count": 101,
     "metadata": {},
     "output_type": "execute_result"
    }
   ],
   "source": [
    "sm.logit(formula=\"label ~ np.log(image_ratio_new + 1) + image_ratio_lt0\",data=df).fit(maxiter=500).summary()"
   ]
  },
  {
   "cell_type": "markdown",
   "metadata": {},
   "source": [
    "**5.C) Interpret the model.**"
   ]
  },
  {
   "cell_type": "markdown",
   "metadata": {
    "collapsed": true
   },
   "source": [
    "After using the two transformations:  \n",
    "1. the new column for the -1s and 0s  \n",
    "2. substitute the values -1 and 0 with the median of the distribution  \n",
    "\n",
    "The model seems ok!"
   ]
  },
  {
   "cell_type": "markdown",
   "metadata": {},
   "source": [
    "### 6) Fit a logistic regression with multiple predictors.\n",
    "- The choice of predictors is up to you. Test features you think may be valuable to predicting evergreen status.\n",
    "- Perform any EDA you may need.\n",
    "- Interpret the coefficients of the model.\n",
    "\n",
    "> **Tip:** [This PDF](https://www.unm.edu/~schrader/biostat/bio2/Spr06/lec11.pdf) is useful for gaining an overview of interpreting logistic regression coefficients."
   ]
  },
  {
   "cell_type": "code",
   "execution_count": null,
   "metadata": {},
   "outputs": [],
   "source": [
    "# a"
   ]
  }
 ],
 "metadata": {
  "anaconda-cloud": {},
  "kernelspec": {
   "display_name": "Python 3",
   "language": "python",
   "name": "python3"
  },
  "language_info": {
   "codemirror_mode": {
    "name": "ipython",
    "version": 3
   },
   "file_extension": ".py",
   "mimetype": "text/x-python",
   "name": "python",
   "nbconvert_exporter": "python",
   "pygments_lexer": "ipython3",
   "version": "3.6.6"
  }
 },
 "nbformat": 4,
 "nbformat_minor": 1
}
