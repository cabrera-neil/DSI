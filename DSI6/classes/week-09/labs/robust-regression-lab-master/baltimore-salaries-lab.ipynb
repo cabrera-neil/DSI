{
 "cells": [
  {
   "cell_type": "markdown",
   "metadata": {},
   "source": [
    "<img src=\"http://imgur.com/1ZcRyrc.png\" style=\"float: left; margin: 20px; height: 55px\">\n",
    "\n",
    "# Baltimore Salaries\n",
    "\n",
    "_Authors: Greg Baker (SYD)_\n",
    "\n",
    "---\n",
    "\n",
    "The City of Baltimore publish data about all their employees, including their salaries.\n",
    "Their annual salary can differ from their gross pay: perhaps they have overtime and earn\n",
    "more than their official salary, perhaps they are only employed for a part of the year\n",
    "and earn less.\n",
    "\n",
    "In this lab we'll look estimate what a typical City of Baltimore employee's gross pay will be \n",
    "based on their annual salary."
   ]
  },
  {
   "cell_type": "code",
   "execution_count": null,
   "metadata": {},
   "outputs": [],
   "source": [
    "%matplotlib inline\n",
    "import pandas as pd\n",
    "import seaborn as sns\n",
    "import numpy as np\n",
    "import matplotlib.pyplot as plt\n",
    "import datetime as dt"
   ]
  },
  {
   "cell_type": "markdown",
   "metadata": {},
   "source": [
    "## Read the dataset\n",
    "\n",
    "The Baltimore salaries data set is in \"datasets/Baltimore_City_Employee_Salaries_2011.csv\". \n",
    "You can use column 0 as an index. Column 4 is a date."
   ]
  },
  {
   "cell_type": "code",
   "execution_count": null,
   "metadata": {},
   "outputs": [],
   "source": [
    "# A:"
   ]
  },
  {
   "cell_type": "markdown",
   "metadata": {},
   "source": [
    "## Pre-processing to have numbers instead of strings \n",
    "\n",
    "The AnnualSalary and GrossPay columns are strings and start with a $. Strip this off and convert\n",
    "these columns to floats."
   ]
  },
  {
   "cell_type": "code",
   "execution_count": null,
   "metadata": {},
   "outputs": [],
   "source": [
    "# A:"
   ]
  },
  {
   "cell_type": "markdown",
   "metadata": {},
   "source": [
    "## Exploratory Data Analysis\n",
    "\n",
    "Create a scatter plot of Annual Salary vs Gross Pay"
   ]
  },
  {
   "cell_type": "code",
   "execution_count": null,
   "metadata": {},
   "outputs": [],
   "source": [
    "# A:"
   ]
  },
  {
   "cell_type": "markdown",
   "metadata": {},
   "source": [
    "# Look for a linear relationship\n",
    "\n",
    "It seems like there is a linear relationship in there, but it is obscured by a lot of noise.\n",
    "\n",
    "Split the data into a test and training data set."
   ]
  },
  {
   "cell_type": "code",
   "execution_count": null,
   "metadata": {},
   "outputs": [],
   "source": [
    "# A:"
   ]
  },
  {
   "cell_type": "markdown",
   "metadata": {},
   "source": [
    "## Ordinary Least Squares\n",
    "\n",
    "The errors in the graph above don't look evenly balanced, which doesn't bode well for ordinary least squares.\n",
    "\n",
    "Let's see what it gives us: import sklearn.linear_models, create an ordinary least squares regressor\n",
    "and train it"
   ]
  },
  {
   "cell_type": "code",
   "execution_count": null,
   "metadata": {},
   "outputs": [],
   "source": [
    "# A:"
   ]
  },
  {
   "cell_type": "markdown",
   "metadata": {},
   "source": [
    "### Visualise\n",
    "\n",
    "Plot the test data, and plot the predictions from the linear model over it. OLS\n",
    "will generally predict a gross salary that is a little too high."
   ]
  },
  {
   "cell_type": "code",
   "execution_count": null,
   "metadata": {},
   "outputs": [],
   "source": [
    "# A:"
   ]
  },
  {
   "cell_type": "markdown",
   "metadata": {},
   "source": [
    "### Measure\n",
    "\n",
    "Initially, let's look at three metrics to understand how well this line represents the data.\n",
    "\n",
    "- Calculate the $R^2$ score for the predictions it made\n",
    "- Calculate the median absolute error\n",
    "- Calculate the mean absolute error\n",
    "\n",
    "Remember that sklearn.metrics has functions for doing all of these."
   ]
  },
  {
   "cell_type": "code",
   "execution_count": null,
   "metadata": {},
   "outputs": [],
   "source": [
    "# A:"
   ]
  },
  {
   "cell_type": "markdown",
   "metadata": {},
   "source": [
    "## Robust Regression\n",
    "\n",
    "Perform the same analysis using Theil-Sen, RANSAC and Huber."
   ]
  },
  {
   "cell_type": "markdown",
   "metadata": {},
   "source": [
    "### Theil-Sen\n",
    "\n",
    "Train the Theil-Sen regressor, plot its predictions for the test data and calculate the \n",
    "three metrics above. You can copy and paste most of the code you wrote.\n",
    "\n",
    "Expect to see the $R^2$ worse -- and perhaps other metrics worse -- but a better-looking fit."
   ]
  },
  {
   "cell_type": "code",
   "execution_count": null,
   "metadata": {},
   "outputs": [],
   "source": [
    "# A:"
   ]
  },
  {
   "cell_type": "markdown",
   "metadata": {},
   "source": [
    "## RANSAC\n",
    "\n",
    "As above, using RANSAC"
   ]
  },
  {
   "cell_type": "code",
   "execution_count": null,
   "metadata": {},
   "outputs": [],
   "source": [
    "# A:"
   ]
  },
  {
   "cell_type": "markdown",
   "metadata": {},
   "source": [
    "## Huber\n",
    "\n",
    "If you are running a version old version of scikit-learn (0.18 or earlier) you might not have the\n",
    "option to create a Huber regressor."
   ]
  },
  {
   "cell_type": "code",
   "execution_count": null,
   "metadata": {},
   "outputs": [],
   "source": [
    "# A:"
   ]
  },
  {
   "cell_type": "markdown",
   "metadata": {},
   "source": [
    "## Review\n",
    "\n",
    "- Which model had the highest $R^2$ score? Why is this obvious?\n",
    "- Which model had the lowest median absolute error?\n",
    "- Which model had the lowest mean absolute error?"
   ]
  },
  {
   "cell_type": "code",
   "execution_count": null,
   "metadata": {
    "collapsed": true
   },
   "outputs": [],
   "source": [
    "# A:\n",
    "\n",
    "# OLS will always have the highest R^2 score, because that's what it maximises\n",
    "# Huber usually wins on median absolute error and mean absolute error"
   ]
  },
  {
   "cell_type": "markdown",
   "metadata": {},
   "source": [
    "# Commercial Analysis\n",
    "\n",
    "You are the hiring manager at the City of Baltimore. New employees regularly ask\n",
    "how much they are actually likely to earn given the salary that they are about to\n",
    "agree to.\n",
    "\n",
    "You don't want to give an answer that is too high because then you might be setting\n",
    "the city at risk of a lawsuit for misrepresenting the job. You don't want to give an\n",
    "answer that is too low because then the candidate might pass up on the job and work\n",
    "elsewhere.\n",
    "\n",
    "You decide that it will cost \\\\$0.05 in law-suit danger for each dollar that you \n",
    "over-represent, but only \\\\$0.01 for each dollar that you under-represent.\n",
    "\n",
    "e.g. if a candidate is actually likely to earn \\\\$100,000 and you say \\\\$120,000, this\n",
    "is worth \\$10,000 in potential law-suits for mis-representation. If you say \\\\$80,000\n",
    "then that will cost you \\\\$200 in potential recruiters' fees to find someone else."
   ]
  },
  {
   "cell_type": "markdown",
   "metadata": {},
   "source": [
    "## Evaluate existing models\n",
    "\n",
    "You will need to choose between the four models that you have built. You would\n",
    "choose based on the one which costs the City the least amount of money if you had\n",
    "used it on all the employees in your test data set.\n",
    "\n",
    "Write a scoring function that returns the dollar value given an estimator, an\n",
    "Xtest set, and a Ytest set."
   ]
  },
  {
   "cell_type": "code",
   "execution_count": null,
   "metadata": {
    "collapsed": true
   },
   "outputs": [],
   "source": [
    "# A:\n"
   ]
  },
  {
   "cell_type": "markdown",
   "metadata": {},
   "source": [
    "### Score the four models using this function\n",
    "\n",
    "- OLS\n",
    "- RANSAC\n",
    "- Theil-Sen\n",
    "- Huber"
   ]
  },
  {
   "cell_type": "code",
   "execution_count": null,
   "metadata": {},
   "outputs": [],
   "source": [
    "# A:\n"
   ]
  }
 ],
 "metadata": {
  "kernelspec": {
   "display_name": "Python 3",
   "language": "python",
   "name": "python3"
  },
  "language_info": {
   "codemirror_mode": {
    "name": "ipython",
    "version": 3
   },
   "file_extension": ".py",
   "mimetype": "text/x-python",
   "name": "python",
   "nbconvert_exporter": "python",
   "pygments_lexer": "ipython3",
   "version": "3.6.6"
  }
 },
 "nbformat": 4,
 "nbformat_minor": 1
}
