{
 "cells": [
  {
   "cell_type": "markdown",
   "metadata": {},
   "source": [
    "<img src=\"http://imgur.com/1ZcRyrc.png\" style=\"float: left; margin: 20px; height: 55px\">\n",
    "\n",
    "## Practice Loading and Describing Data \n",
    "\n",
    "_Authors: Matt Brems (DC)_\n",
    "\n",
    "---\n",
    "\n",
    "In this lab you will practice loading data using python and describing it with statistics.\n",
    "\n",
    "It might be a good idea to first check the [source of the Boston housing data](https://github.com/rupakc/UCI-Data-Analysis/blob/master/Boston%20Housing%20Dataset/Boston%20Housing/UCI%20Machine%20Learning%20Repository_%20Housing%20Data%20Set.pdf)."
   ]
  },
  {
   "cell_type": "markdown",
   "metadata": {},
   "source": [
    "### 1. Load the boston housing data (provided)"
   ]
  },
  {
   "cell_type": "code",
   "execution_count": 3,
   "metadata": {},
   "outputs": [],
   "source": [
    "# Download the data and save to a file called \"housing.data.\"\n",
    "import seaborn as sns\n",
    "import urllib\n",
    "data_url = \"https://archive.ics.uci.edu/ml/machine-learning-databases/housing/housing.data\""
   ]
  },
  {
   "cell_type": "code",
   "execution_count": 9,
   "metadata": {},
   "outputs": [
    {
     "data": {
      "text/plain": [
       "('../datasets/housing.data', <http.client.HTTPMessage at 0x1a10f42cc0>)"
      ]
     },
     "execution_count": 9,
     "metadata": {},
     "output_type": "execute_result"
    }
   ],
   "source": [
    "# this saves a file called 'housing.data' locally'\n",
    "urllib.request.urlretrieve(data_url, '../datasets/housing.data')"
   ]
  },
  {
   "cell_type": "markdown",
   "metadata": {},
   "source": [
    "The data file does not contain the column names in the first line, so we'll need to add those in manually. You can find the names and explanations [here](https://archive.ics.uci.edu/ml/machine-learning-databases/housing/housing.names). We've extracted the names below for your convenience. You may choose to edit the names, should you decide it would be more helpful to do so."
   ]
  },
  {
   "cell_type": "code",
   "execution_count": 8,
   "metadata": {},
   "outputs": [],
   "source": [
    "names = [\"CRIM\", \"ZN\", \"INDUS\", \"CHAS\", \"NOX\", \"RM\", \"AGE\",\n",
    "         \"DIS\", \"RAD\", \"TAX\", \"PTRATIO\", \"B\", \"LSTAT\", \"MEDV\"]"
   ]
  },
  {
   "cell_type": "code",
   "execution_count": 3,
   "metadata": {},
   "outputs": [],
   "source": [
    "# 1. CRIM      - per capita crime rate by town\n",
    "# 2. ZN        - proportion of residential land zoned for lots over 25,000 sq.ft.\n",
    "# 3. INDUS     - proportion of non-retail business acres per town\n",
    "# 4. CHAS      - Charles River dummy variable (= 1 if tract bounds river; 0 otherwise)\n",
    "# 5. NOX       - nitric oxides concentration (parts per 10 million)\n",
    "# 6. RM        - average number of rooms per dwelling\n",
    "# 7. AGE       - proportion of owner-occupied units built prior to 1940\n",
    "# 8. DIS       - weighted distances to five Boston employment centres\n",
    "# 9. RAD       - index of accessibility to radial highways\n",
    "# 10. TAX      - full-value property-tax rate per 10,000 dollars. \n",
    "# 11. PTRATIO  - pupil-teacher ratio by town\n",
    "# 12. B        - 1000(Bk - 0.63)^2 where Bk is the proportion of blacks by town\n",
    "# 13. LSTAT    - Percent lower status of the population\n",
    "# 14. MEDV     - Median value of owner-occupied homes in $1000's"
   ]
  },
  {
   "cell_type": "markdown",
   "metadata": {},
   "source": [
    "### 2. Load the `housing.data` file with python\n",
    "\n",
    "Using any method of your choice.\n",
    "> _**Hint:** despite this file having a strange `.data` extension, using python's `open() as file` and `file.read()` or `file.readlines()` we can load this in and see that it is a text file formatted much the same as a CSV. You can use string operations to format the data._"
   ]
  },
  {
   "cell_type": "code",
   "execution_count": 11,
   "metadata": {},
   "outputs": [],
   "source": [
    "# Reading in the local file 'housing.data'\n",
    "data = []\n",
    "with open('../datasets/housing.data', 'r') as f:\n",
    "    rows = f.readlines()\n",
    "    for row in rows:\n",
    "        row = [float(x) for x in row.split()]\n",
    "        data.append(row)\n",
    "f.close()"
   ]
  },
  {
   "cell_type": "code",
   "execution_count": 39,
   "metadata": {},
   "outputs": [],
   "source": [
    "# Alternative approach\n",
    "data = []\n",
    "with open('../datasets/housing.data', 'r') as f:\n",
    "    data = [[float(x) for x in row.split()] for row in f.readlines()]\n",
    "f.close()"
   ]
  },
  {
   "cell_type": "code",
   "execution_count": 41,
   "metadata": {},
   "outputs": [
    {
     "data": {
      "text/plain": [
       "[0.00632,\n",
       " 18.0,\n",
       " 2.31,\n",
       " 0.0,\n",
       " 0.538,\n",
       " 6.575,\n",
       " 65.2,\n",
       " 4.09,\n",
       " 1.0,\n",
       " 296.0,\n",
       " 15.3,\n",
       " 396.9,\n",
       " 4.98,\n",
       " 24.0]"
      ]
     },
     "execution_count": 41,
     "metadata": {},
     "output_type": "execute_result"
    }
   ],
   "source": [
    "# look at the first two rows:\n",
    "data[0]"
   ]
  },
  {
   "cell_type": "code",
   "execution_count": 42,
   "metadata": {},
   "outputs": [
    {
     "data": {
      "text/plain": [
       "[0.02731,\n",
       " 0.0,\n",
       " 7.07,\n",
       " 0.0,\n",
       " 0.469,\n",
       " 6.421,\n",
       " 78.9,\n",
       " 4.9671,\n",
       " 2.0,\n",
       " 242.0,\n",
       " 17.8,\n",
       " 396.9,\n",
       " 9.14,\n",
       " 21.6]"
      ]
     },
     "execution_count": 42,
     "metadata": {},
     "output_type": "execute_result"
    }
   ],
   "source": [
    "data[1]"
   ]
  },
  {
   "cell_type": "code",
   "execution_count": 43,
   "metadata": {},
   "outputs": [],
   "source": [
    "# put the data into a dictionary with keys identified by column names:\n",
    "d = {key_name:[row[index] for row in data] for index, key_name in enumerate(names)}"
   ]
  },
  {
   "cell_type": "code",
   "execution_count": 44,
   "metadata": {},
   "outputs": [
    {
     "data": {
      "text/plain": [
       "[0.538, 0.469, 0.469, 0.458, 0.458, 0.458, 0.524, 0.524, 0.524, 0.524]"
      ]
     },
     "execution_count": 44,
     "metadata": {},
     "output_type": "execute_result"
    }
   ],
   "source": [
    "d['NOX'][:10]"
   ]
  },
  {
   "cell_type": "code",
   "execution_count": 45,
   "metadata": {},
   "outputs": [
    {
     "name": "stdout",
     "output_type": "stream",
     "text": [
      "dict_keys(['CRIM', 'ZN', 'INDUS', 'CHAS', 'NOX', 'RM', 'AGE', 'DIS', 'RAD', 'TAX', 'PTRATIO', 'B', 'LSTAT', 'MEDV'])\n"
     ]
    }
   ],
   "source": [
    "print(d.keys())"
   ]
  },
  {
   "cell_type": "markdown",
   "metadata": {},
   "source": [
    "### 3.  Conduct a brief integrity check of your data. \n",
    "\n",
    "This integrity check should include, but is not limited to, checking for missing values and making sure all values make logical sense. (i.e. is one variable a percentage, but there are observations above 100%?)\n",
    "\n",
    "Summarize your findings in a few sentences, including what you checked and, if appropriate, any \n",
    "steps you took to rectify potential integrity issues."
   ]
  },
  {
   "cell_type": "code",
   "execution_count": 17,
   "metadata": {
    "collapsed": true
   },
   "outputs": [],
   "source": [
    "# Checking for features with improperly recorded observations:\n",
    "    \n",
    "# Given the information about the features and observing a few of their \n",
    "# observations I believe there are 7 features which take place on a \n",
    "# normalized scale (0-1 or 0-100)\n",
    "\n",
    "# - CHAS (0-1),\n",
    "# - CRIM(0-100),\n",
    "# - ZN(0-100), \n",
    "# - INDUS(0-100), \n",
    "# - RM(0-100), \n",
    "# - LSTAT(0-100), \n",
    "# - PTRATIO(0-100)"
   ]
  },
  {
   "cell_type": "code",
   "execution_count": 17,
   "metadata": {},
   "outputs": [],
   "source": [
    "max_one = ['CHAS']\n",
    "max_hund = ['ZN','INDUS','RM','LSTAT','PTRATIO', 'CRIM']"
   ]
  },
  {
   "cell_type": "code",
   "execution_count": 21,
   "metadata": {},
   "outputs": [],
   "source": [
    "for feature in max_one:\n",
    "    for observation in d[feature]:\n",
    "        if (observation > 1) or (observation < 0):\n",
    "            print('Abnormal Value found in {}  with value of {}'.format(feature,observation))\n",
    "# if nothing is returned than nothing unusual was found."
   ]
  },
  {
   "cell_type": "code",
   "execution_count": 22,
   "metadata": {},
   "outputs": [],
   "source": [
    "for feature in max_hund:\n",
    "    for observation in d[feature]:\n",
    "        if (observation > 100) or (observation < 0):\n",
    "            print('Abnormal Value found in {}  with value of {}'.format(feature,observation))\n",
    "# Also returned no values"
   ]
  },
  {
   "cell_type": "code",
   "execution_count": 25,
   "metadata": {},
   "outputs": [
    {
     "name": "stdout",
     "output_type": "stream",
     "text": [
      "Number of Expected Features: 14\n",
      "Number of Actual Features: 14\n",
      "506 rows in CRIM\n",
      "506 rows in ZN\n",
      "506 rows in INDUS\n",
      "506 rows in CHAS\n",
      "506 rows in NOX\n",
      "506 rows in RM\n",
      "506 rows in AGE\n",
      "506 rows in DIS\n",
      "506 rows in RAD\n",
      "506 rows in TAX\n",
      "506 rows in PTRATIO\n",
      "506 rows in B\n",
      "506 rows in LSTAT\n",
      "506 rows in MEDV\n"
     ]
    }
   ],
   "source": [
    "# printing how many features we should have\n",
    "print('Number of Expected Features: {}'.format(len(names)))\n",
    "\n",
    "# printing how many features we do have (keys)\n",
    "print('Number of Actual Features: {}'.format(len(d.keys())))\n",
    "\n",
    "# prints the lengths of all the value lists in the dictionary\n",
    "for key, data in d.items():\n",
    "    print(\"{} rows in {}\".format(len(data), key))"
   ]
  },
  {
   "cell_type": "markdown",
   "metadata": {
    "collapsed": true
   },
   "source": [
    " _There is no missing data and there are no other data integrity issues that we checked for._"
   ]
  },
  {
   "cell_type": "markdown",
   "metadata": {},
   "source": [
    "### 4. For what two attributes does it make the *least* sense to calculate mean and median? Why?\n"
   ]
  },
  {
   "cell_type": "markdown",
   "metadata": {
    "collapsed": true
   },
   "source": [
    "**Potential Solution: **_The dummy variable `CHAS` and the categorical variable `RAD`. _\n",
    "- `CHAS` is a dummy (categorical) variable that makes no sense quantitatively. \n",
    "- `RAD` is a variable that indexes the distance to highways. It has many low values and, after a large gap, has higher values. It stands to reason that this is not a \"_true_\" quantitative variable in the sense that the difference between `RAD = 1` and `RAD = 2` may not be the same as the difference between `RAD = 2` and `RAD = 3`."
   ]
  },
  {
   "cell_type": "markdown",
   "metadata": {},
   "source": [
    "### 5. Which two variables have the strongest linear association? \n",
    "\n",
    "Report both variables, the metric you chose as the basis for your comparison, and the value of that metric. *(Hint: Make sure you consider only variables for which it makes sense to find a linear association.)*"
   ]
  },
  {
   "cell_type": "code",
   "execution_count": 27,
   "metadata": {},
   "outputs": [],
   "source": [
    "import numpy as np\n",
    "\n",
    "relationships = []\n",
    "\n",
    "# Choosing to use the pearson correlation coefficient, \"np.corrcoef\":\n",
    "for name1 in d.keys():\n",
    "    # do not consider RAD or CHAS:\n",
    "    if name1 not in ['RAD','CHAS']:\n",
    "        for name2 in d.keys():\n",
    "            if (name1 != name2) and (name2 not in ['RAD','CHAS']):\n",
    "                relationships.append([name1, name2, np.corrcoef(d[name1], d[name2])[0,1]])"
   ]
  },
  {
   "cell_type": "code",
   "execution_count": 28,
   "metadata": {},
   "outputs": [],
   "source": [
    "# we're interested both in the magnitude of the relationship, \n",
    "# not the sign (positive or negative) of it\n",
    "\n",
    "sort_rel = sorted(relationships, \n",
    "                  key=lambda x: np.abs(x[2]), \n",
    "                  reverse=True)"
   ]
  },
  {
   "cell_type": "code",
   "execution_count": 30,
   "metadata": {},
   "outputs": [
    {
     "name": "stdout",
     "output_type": "stream",
     "text": [
      "['NOX', 'DIS', -0.7692301132258278]\n",
      "['DIS', 'NOX', -0.7692301132258278]\n",
      "['INDUS', 'NOX', 0.7636514469209147]\n",
      "['NOX', 'INDUS', 0.7636514469209147]\n",
      "['AGE', 'DIS', -0.7478805408686319]\n"
     ]
    }
   ],
   "source": [
    "for i in range(5):\n",
    "    print(sort_rel[i])"
   ]
  },
  {
   "cell_type": "markdown",
   "metadata": {
    "collapsed": true
   },
   "source": [
    "**Solution:** _`NOX` (Nitric Oxides Concentration) and `DIS` (Weighted Distances to Five Boston Employment Centers) have the strongest _linear_ association. The correlation between NOX and DIS is -0.769."
   ]
  },
  {
   "cell_type": "markdown",
   "metadata": {},
   "source": [
    "### 6. Look at distributional qualities of variables.\n",
    "\n",
    "Answer the following questions:\n",
    "1. Which variable has the most symmetric distribution? \n",
    "2. Which variable has the most left-skewed (negatively skewed) distribution? \n",
    "3. Which variable has the most right-skewed (positively skewed) distribution? \n",
    "\n",
    "Defend your method for determining this."
   ]
  },
  {
   "cell_type": "code",
   "execution_count": 31,
   "metadata": {},
   "outputs": [
    {
     "name": "stdout",
     "output_type": "stream",
     "text": [
      "Symmetric: ['NOX', 0.01669505928853754]\n",
      "Left: ['B', -34.765968379446576]\n",
      "Right: ['TAX', 78.23715415019763]\n"
     ]
    }
   ],
   "source": [
    "# Symmetric: the metric with the smallest abs(mean - median)\n",
    "symmetric = sorted([[key_name, np.abs(np.mean(values) - np.median(values))] for key_name,values in d.items()],\n",
    "                   key=lambda x: x[1])\n",
    "print ('Symmetric:', symmetric[0])\n",
    "\n",
    "\n",
    "# Left: the metric with the smallest (or more nagative) mean - median\n",
    "left = sorted([[k, np.mean(v) - np.median(v)] for k,v in d.items()],\n",
    "              key=lambda x: x[1])\n",
    "print ('Left:', left[0])\n",
    "\n",
    "# Right: the metric with the largest mean - median\n",
    "right = sorted([[k, np.mean(v) - np.median(v)] for k,v in d.items()],\n",
    "               key=lambda x: x[1], \n",
    "               reverse=True)\n",
    "print ('Right:', right[0])"
   ]
  },
  {
   "cell_type": "markdown",
   "metadata": {},
   "source": [
    "### 8. Repeat question 6 but scale the variables by their range first.\n",
    "\n",
    "As you may have noticed, the spread of the distribution contributed significantly to the results in question 6."
   ]
  },
  {
   "cell_type": "code",
   "execution_count": 50,
   "metadata": {},
   "outputs": [
    {
     "name": "stdout",
     "output_type": "stream",
     "text": [
      "Symmetric: ['RM', 0.01458792629848224]\n",
      "Left: ['AGE', -0.09191656863263897]\n",
      "Right: ['RAD', 0.19780030933150025]\n"
     ]
    }
   ],
   "source": [
    "#ptp = peak to peak\n",
    "def scaled_diff(v):\n",
    "    return (np.mean(v) - np.median(v))/np.ptp(v)\n",
    "\n",
    "symmetric = sorted([[k, np.abs(scaled_diff(v))] for k,v in d.items()],\n",
    "                   key=lambda x: x[1])\n",
    "print ('Symmetric:', symmetric[0])\n",
    "\n",
    "left = sorted([[k, scaled_diff(v)] for k,v in d.items()],\n",
    "              key=lambda x: x[1])\n",
    "print ('Left:', left[0])\n",
    "\n",
    "right = sorted([[k, scaled_diff(v)] for k,v in d.items()],\n",
    "               key=lambda x: x[1], reverse=True)\n",
    "print ('Right:', right[0])"
   ]
  },
  {
   "cell_type": "markdown",
   "metadata": {},
   "source": [
    "### 9. Univariate analysis of your choice\n",
    "\n",
    "Conduct a full univariate analysis on MEDV, CHAS, TAX, and RAD. \n",
    "\n",
    "For each variable, you should answer the three questions generally asked in a univariate analysis using the most appropriate metrics.\n",
    "- A measure of central tendency\n",
    "- A measure of spread\n",
    "- A description of the shape of the distribution (plot or metric based)\n",
    "\n",
    "If you feel there is additional information that is relevant, include it. "
   ]
  },
  {
   "cell_type": "markdown",
   "metadata": {
    "collapsed": true
   },
   "source": [
    "---\n",
    "_**Sketch of Answer:**_   \n",
    "You should report at least one **measure of center**, one **measure of spread**, and a description (metric-based or plot-based) of the shape of the **distribution** of each variable.  \n",
    "- Defending which of these choices is better. (i.e. median is a better measure of center than mean because...) \n",
    "- Including multiple measures of center and/or spread and interpreting what these reveal about the distribution of a variable is especially good.\n",
    "- Including a plot that goes along with these metrics and this description would turn this answer from a \"good\" one into a \"great\" one. A report to a supervisor should ideally include these points.\n",
    "---"
   ]
  },
  {
   "cell_type": "code",
   "execution_count": 32,
   "metadata": {},
   "outputs": [],
   "source": [
    "import seaborn as sns\n",
    "import matplotlib.pyplot as plt\n",
    "\n",
    "%matplotlib inline \n",
    "plt.style.use('fivethirtyeight')"
   ]
  },
  {
   "cell_type": "code",
   "execution_count": 33,
   "metadata": {
    "scrolled": false
   },
   "outputs": [],
   "source": [
    "def univariate_analysis(data):\n",
    "    print('mean: {}'.format(np.mean(data)))\n",
    "    print('median: {}'.format(np.median(data)))\n",
    "    print('std: {}'.format(np.std(data)))\n",
    "    print('Percentiles:')\n",
    "    for p in range(0,100+1,10):\n",
    "        print('{}) {}'.format(p, np.percentile(data, p)))\n",
    "        \n",
    "    data = data - np.mean(data)\n",
    "    \n",
    "    print('Percentiles (after centering):')\n",
    "    for p in range(0,100+1,10):\n",
    "        print('{}) {}'.format(p, np.percentile(data, p)))\n",
    "        \n",
    "    sns.distplot(data)\n",
    "    plt.show()"
   ]
  },
  {
   "cell_type": "code",
   "execution_count": 34,
   "metadata": {},
   "outputs": [
    {
     "name": "stdout",
     "output_type": "stream",
     "text": [
      "-- MEDV ANALYSIS --\n",
      "mean: 22.532806324110677\n",
      "median: 21.2\n",
      "std: 9.188011545278203\n",
      "Percentiles:\n",
      "0) 5.0\n",
      "10) 12.75\n",
      "20) 15.3\n",
      "30) 18.2\n",
      "40) 19.7\n",
      "50) 21.2\n",
      "60) 22.7\n",
      "70) 24.15\n",
      "80) 28.2\n",
      "90) 34.8\n",
      "100) 50.0\n",
      "Percentiles (after centering):\n",
      "0) -17.532806324110677\n",
      "10) -9.782806324110677\n",
      "20) -7.232806324110676\n",
      "30) -4.332806324110678\n",
      "40) -2.8328063241106776\n",
      "50) -1.3328063241106776\n",
      "60) 0.16719367588932244\n",
      "70) 1.6171936758893235\n",
      "80) 5.667193675889322\n",
      "90) 12.267193675889324\n",
      "100) 27.467193675889323\n"
     ]
    },
    {
     "data": {
      "image/png": "[encoded data removed]",
      "text/plain": [
       "<Figure size 432x288 with 1 Axes>"
      ]
     },
     "metadata": {},
     "output_type": "display_data"
    }
   ],
   "source": [
    "print('-- MEDV ANALYSIS --')\n",
    "univariate_analysis(d['MEDV'])"
   ]
  },
  {
   "cell_type": "code",
   "execution_count": 35,
   "metadata": {},
   "outputs": [
    {
     "name": "stdout",
     "output_type": "stream",
     "text": [
      "-- CHAS ANALYSIS --\n",
      "mean: 0.0691699604743083\n",
      "median: 0.0\n",
      "std: 0.2537429349603471\n",
      "Percentiles:\n",
      "0) 0.0\n",
      "10) 0.0\n",
      "20) 0.0\n",
      "30) 0.0\n",
      "40) 0.0\n",
      "50) 0.0\n",
      "60) 0.0\n",
      "70) 0.0\n",
      "80) 0.0\n",
      "90) 0.0\n",
      "100) 1.0\n",
      "Percentiles (after centering):\n",
      "0) -0.0691699604743083\n",
      "10) -0.0691699604743083\n",
      "20) -0.0691699604743083\n",
      "30) -0.0691699604743083\n",
      "40) -0.0691699604743083\n",
      "50) -0.0691699604743083\n",
      "60) -0.0691699604743083\n",
      "70) -0.0691699604743083\n",
      "80) -0.0691699604743083\n",
      "90) -0.0691699604743083\n",
      "100) 0.9308300395256917\n"
     ]
    },
    {
     "data": {
      "image/png": "[encoded data removed]",
      "text/plain": [
       "<Figure size 432x288 with 1 Axes>"
      ]
     },
     "metadata": {},
     "output_type": "display_data"
    }
   ],
   "source": [
    "print('-- CHAS ANALYSIS --')\n",
    "univariate_analysis(d['CHAS'])"
   ]
  },
  {
   "cell_type": "markdown",
   "metadata": {},
   "source": [
    "### 10. Have you been using inferential statistics, descriptive statistics, or both?\n",
    "\n",
    "For each exercise, identify the branch of statistics on which you relied for your answer."
   ]
  },
  {
   "cell_type": "markdown",
   "metadata": {
    "collapsed": true
   },
   "source": [
    "**Solution:** _For all exercises, we relied only on descriptive statistics._"
   ]
  },
  {
   "cell_type": "markdown",
   "metadata": {},
   "source": [
    "### 11. Reducing the number of observations\n",
    "\n",
    "It seems likely that this data is a census - that is, the data set includes the entire target population. Suppose that the 506 observations was too much for our computer (as unlikely as this might be) and we needed to pare this down to fewer observations. \n",
    "\n",
    "**11.A Use the `random.sample()` function to select 50 observations from `'AGE'`.**\n",
    "\n",
    "([This documentation](https://docs.python.org/2/library/random.html) may be helpful.)"
   ]
  },
  {
   "cell_type": "code",
   "execution_count": 36,
   "metadata": {},
   "outputs": [],
   "source": [
    "age = d['AGE']\n",
    "\n",
    "import random\n",
    "\n",
    "age_sample = random.sample(age, 50)"
   ]
  },
  {
   "cell_type": "code",
   "execution_count": 38,
   "metadata": {},
   "outputs": [
    {
     "name": "stdout",
     "output_type": "stream",
     "text": [
      "50\n"
     ]
    }
   ],
   "source": [
    "print(len(age_sample))"
   ]
  },
  {
   "cell_type": "markdown",
   "metadata": {},
   "source": [
    "**11.B Identify the type of sampling we just used.**"
   ]
  },
  {
   "cell_type": "markdown",
   "metadata": {
    "collapsed": true
   },
   "source": [
    "---\n",
    "**Solution:** _Simple random sampling was used._  \n",
    "\n",
    "---"
   ]
  },
  {
   "cell_type": "markdown",
   "metadata": {},
   "source": [
    "### 12. [BONUS] Of the remaining types of sampling, describe (but do not execute) how you might implement at least one of these types of sampling.\n"
   ]
  },
  {
   "cell_type": "markdown",
   "metadata": {
    "collapsed": true
   },
   "source": [
    "**Potential Solution:** Stratified random sampling is a method used when we want to protect ourselves from a potentially \"bad\" or \"skewed\" simple random sample. The variable CHAS takes on two values: 1 and 0. Rather\n",
    "than selecting 50 observations at random, we could look at the proportion of 1s and 0s for the CHAS variable, select 50 * (proportion of 1s) observations where CHAS = 1 and then select 50 * (proportion of 0s)\n",
    "obervations where CHAS = 0."
   ]
  },
  {
   "cell_type": "code",
   "execution_count": null,
   "metadata": {
    "collapsed": true
   },
   "outputs": [],
   "source": []
  }
 ],
 "metadata": {
  "kernelspec": {
   "display_name": "Python 3",
   "language": "python",
   "name": "python3"
  },
  "language_info": {
   "codemirror_mode": {
    "name": "ipython",
    "version": 3
   },
   "file_extension": ".py",
   "mimetype": "text/x-python",
   "name": "python",
   "nbconvert_exporter": "python",
   "pygments_lexer": "ipython3",
   "version": "3.6.6"
  }
 },
 "nbformat": 4,
 "nbformat_minor": 2
}
