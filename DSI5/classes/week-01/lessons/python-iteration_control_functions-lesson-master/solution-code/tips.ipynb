{
 "cells": [
  {
   "cell_type": "markdown",
   "metadata": {},
   "source": [
    "### Learning the basic syntax is a pain in the ass and there are no shortcuts: code a lot + use cheatsheet"
   ]
  },
  {
   "cell_type": "markdown",
   "metadata": {},
   "source": [
    "### It just takes time to start reading a problem and thinking about the logical steps you need to solve it!"
   ]
  },
  {
   "cell_type": "markdown",
   "metadata": {},
   "source": [
    "### Use meaningful variable names"
   ]
  },
  {
   "cell_type": "code",
   "execution_count": 11,
   "metadata": {},
   "outputs": [],
   "source": [
    "# vowel counter\n",
    "x = 0 # this is evil\n",
    "vowels_counter = 0 # this is ok\n",
    "vowels = 0 # this is better"
   ]
  },
  {
   "cell_type": "markdown",
   "metadata": {},
   "source": [
    "### Check your assumptions"
   ]
  },
  {
   "cell_type": "code",
   "execution_count": 13,
   "metadata": {},
   "outputs": [
    {
     "name": "stdout",
     "output_type": "stream",
     "text": [
      "1\n",
      "0\n",
      "6\n",
      "0.10000000000000142\n"
     ]
    }
   ],
   "source": [
    "print(1%2)\n",
    "print(2%2)\n",
    "print(20%7)\n",
    "print(20.1%5)"
   ]
  },
  {
   "cell_type": "markdown",
   "metadata": {},
   "source": [
    "### Random tips\n",
    "1. Do small experiments (e.g. start with 20 iterations before running 1,000,000)  \n",
    "2. Use the print function A LOT to check the status of your code\n",
    "3. Build complex code step by step...and check each step!"
   ]
  },
  {
   "cell_type": "markdown",
   "metadata": {},
   "source": [
    "### Build complex code step by step, and check each step\n",
    "To run checks, use the print function A LOT!"
   ]
  },
  {
   "cell_type": "code",
   "execution_count": 14,
   "metadata": {},
   "outputs": [],
   "source": [
    "# Iterate over the following sentence repeatedly, \n",
    "# counting the number of vowels in the sentence until \n",
    "# you have tallied one million. \n",
    "# Print out the number of iterations it took to reach that amount.\n",
    "\n",
    "sentence = \"A MAN KNOCKED ON MY DOOR AND ASKED FOR A SMALL DONATION TOWARDS THE LOCAL SWIMMING POOL SO I GAVE HIM A GLASS OF WATER\""
   ]
  },
  {
   "cell_type": "code",
   "execution_count": 15,
   "metadata": {},
   "outputs": [
    {
     "name": "stdout",
     "output_type": "stream",
     "text": [
      "A True\n",
      "  False\n",
      "M False\n",
      "A True\n",
      "N False\n",
      "  False\n",
      "K False\n",
      "N False\n",
      "O True\n",
      "C False\n",
      "K False\n",
      "E True\n",
      "D False\n",
      "  False\n",
      "O True\n",
      "N False\n",
      "  False\n",
      "M False\n",
      "Y False\n",
      "  False\n",
      "D False\n",
      "O True\n",
      "O True\n",
      "R False\n",
      "  False\n",
      "A True\n",
      "N False\n",
      "D False\n",
      "  False\n",
      "A True\n",
      "S False\n",
      "K False\n",
      "E True\n",
      "D False\n",
      "  False\n",
      "F False\n",
      "O True\n",
      "R False\n",
      "  False\n",
      "A True\n",
      "  False\n",
      "S False\n",
      "M False\n",
      "A True\n",
      "L False\n",
      "L False\n",
      "  False\n",
      "D False\n",
      "O True\n",
      "N False\n",
      "A True\n",
      "T False\n",
      "I True\n",
      "O True\n",
      "N False\n",
      "  False\n",
      "T False\n",
      "O True\n",
      "W False\n",
      "A True\n",
      "R False\n",
      "D False\n",
      "S False\n",
      "  False\n",
      "T False\n",
      "H False\n",
      "E True\n",
      "  False\n",
      "L False\n",
      "O True\n",
      "C False\n",
      "A True\n",
      "L False\n",
      "  False\n",
      "S False\n",
      "W False\n",
      "I True\n",
      "M False\n",
      "M False\n",
      "I True\n",
      "N False\n",
      "G False\n",
      "  False\n",
      "P False\n",
      "O True\n",
      "O True\n",
      "L False\n",
      "  False\n",
      "S False\n",
      "O True\n",
      "  False\n",
      "I True\n",
      "  False\n",
      "G False\n",
      "A True\n",
      "V False\n",
      "E True\n",
      "  False\n",
      "H False\n",
      "I True\n",
      "M False\n",
      "  False\n",
      "A True\n",
      "  False\n",
      "G False\n",
      "L False\n",
      "A True\n",
      "S False\n",
      "S False\n",
      "  False\n",
      "O True\n",
      "F False\n",
      "  False\n",
      "W False\n",
      "A True\n",
      "T False\n",
      "E True\n",
      "R False\n"
     ]
    }
   ],
   "source": [
    "# basic block = identify vowels\n",
    "\n",
    "for character in sentence:\n",
    "    if character in 'AEIOU':\n",
    "        print(character,True)\n",
    "    else:\n",
    "        print(character,False)"
   ]
  },
  {
   "cell_type": "code",
   "execution_count": 5,
   "metadata": {},
   "outputs": [
    {
     "name": "stdout",
     "output_type": "stream",
     "text": [
      "36\n"
     ]
    }
   ],
   "source": [
    "# let's start counting vowels\n",
    "\n",
    "vowels = 0\n",
    "for character in sentence:\n",
    "    if character in 'AEIOU':\n",
    "        vowels = vowels+1\n",
    "print(vowels)"
   ]
  },
  {
   "cell_type": "code",
   "execution_count": 6,
   "metadata": {},
   "outputs": [
    {
     "name": "stdout",
     "output_type": "stream",
     "text": [
      "True\n"
     ]
    }
   ],
   "source": [
    "# do basic checks!!!\n",
    "\n",
    "vowels = 0\n",
    "for character in 'AEI KSP -_.873':\n",
    "    if character in 'AEIOU':\n",
    "        vowels = vowels+1\n",
    "\n",
    "print(vowels==3)"
   ]
  },
  {
   "cell_type": "code",
   "execution_count": 7,
   "metadata": {},
   "outputs": [
    {
     "name": "stdout",
     "output_type": "stream",
     "text": [
      "0 36\n",
      "1 72\n",
      "2 108\n",
      "3 144\n",
      "4 180\n"
     ]
    }
   ],
   "source": [
    "# let's start iterating\n",
    "# and use print a lot!\n",
    "\n",
    "vowels = 0\n",
    "# do just a few iterations\n",
    "for iteration in range(5):   \n",
    "    for character in sentence:\n",
    "        if character in 'AEIOU':\n",
    "            vowels = vowels+1\n",
    "    # print the iterations and the number of vowels\n",
    "    print(iteration, vowels)"
   ]
  },
  {
   "cell_type": "code",
   "execution_count": 8,
   "metadata": {},
   "outputs": [
    {
     "name": "stdout",
     "output_type": "stream",
     "text": [
      "0 36\n",
      "1 72\n",
      "2 108\n",
      "3 144\n",
      "4 180\n",
      "5 216\n",
      "6 252\n",
      "7 288\n",
      "8 324\n",
      "9 360\n",
      "10 396\n",
      "11 432\n",
      "12 468\n",
      "13 504\n",
      "14 540\n",
      "15 576\n",
      "16 612\n",
      "17 648\n",
      "18 684\n",
      "19 720\n",
      "20 756\n",
      "21 792\n",
      "22 828\n",
      "23 864\n",
      "24 900\n",
      "25 936\n",
      "26 972\n",
      "27 1008\n",
      "FINISH!\n",
      "RESULTS 27 1008\n"
     ]
    }
   ],
   "source": [
    "# let's try with just 50 iterations\n",
    "\n",
    "vowels = 0\n",
    "for iteration in range(50):   \n",
    "    for character in sentence:\n",
    "        if character in 'AEIOU':\n",
    "            vowels = vowels+1\n",
    "    print(iteration, vowels)\n",
    "    if vowels>1000:\n",
    "        print('FINISH!')\n",
    "        break\n",
    "print('RESULTS', iteration, vowels)"
   ]
  },
  {
   "cell_type": "code",
   "execution_count": 9,
   "metadata": {},
   "outputs": [
    {
     "name": "stdout",
     "output_type": "stream",
     "text": [
      "1 36\n",
      "2 72\n",
      "3 108\n",
      "4 144\n",
      "5 180\n",
      "6 216\n",
      "7 252\n",
      "8 288\n",
      "9 324\n",
      "10 360\n",
      "11 396\n",
      "12 432\n",
      "13 468\n",
      "14 504\n",
      "15 540\n",
      "16 576\n",
      "17 612\n",
      "18 648\n",
      "19 684\n",
      "20 720\n",
      "21 756\n",
      "22 792\n",
      "23 828\n",
      "24 864\n",
      "25 900\n",
      "26 936\n",
      "27 972\n",
      "28 1008\n",
      "FINISH!\n",
      "RESULTS 27 1008\n"
     ]
    }
   ],
   "source": [
    "# let's add a while loop.\n",
    "# I need to keep track of the iterations\n",
    "\n",
    "vowels = 0\n",
    "iterations = 0\n",
    "while True:   \n",
    "    for character in sentence:\n",
    "        if character in 'AEIOU':\n",
    "            vowels = vowels+1\n",
    "    iterations = iterations+1\n",
    "    print(iterations, vowels)\n",
    "    if vowels>1000:\n",
    "        print('FINISH!')\n",
    "        break\n",
    "print('RESULTS', iteration, vowels)"
   ]
  },
  {
   "cell_type": "code",
   "execution_count": 10,
   "metadata": {},
   "outputs": [
    {
     "name": "stdout",
     "output_type": "stream",
     "text": [
      "FINISH!\n",
      "RESULTS 27 1000008\n"
     ]
    }
   ],
   "source": [
    "# let's try with 1M\n",
    "\n",
    "vowels = 0\n",
    "iterations = 0\n",
    "while True:   \n",
    "    for character in sentence:\n",
    "        if character in 'AEIOU':\n",
    "            vowels = vowels+1\n",
    "    iterations = iterations+1\n",
    "    #print(iterations, vowels)\n",
    "    if vowels>1000000:\n",
    "        print('FINISH!')\n",
    "        break\n",
    "print('RESULTS', iteration, vowels)"
   ]
  },
  {
   "cell_type": "markdown",
   "metadata": {},
   "source": [
    "### Last but not least: take breaks!  E.g. 5 minutes every 30 minutes."
   ]
  }
 ],
 "metadata": {
  "anaconda-cloud": {},
  "kernelspec": {
   "display_name": "Python 3",
   "language": "python",
   "name": "python3"
  },
  "language_info": {
   "codemirror_mode": {
    "name": "ipython",
    "version": 3
   },
   "file_extension": ".py",
   "mimetype": "text/x-python",
   "name": "python",
   "nbconvert_exporter": "python",
   "pygments_lexer": "ipython3",
   "version": "3.6.6"
  }
 },
 "nbformat": 4,
 "nbformat_minor": 1
}
