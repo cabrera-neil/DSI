{
 "cells": [
  {
   "cell_type": "markdown",
   "metadata": {
    "slideshow": {
     "slide_type": "slide"
    }
   },
   "source": [
    "<img src=\"http://imgur.com/1ZcRyrc.png\" style=\"float: left; margin: 20px; height: 55px\">\n",
    "\n",
    "# Introduction to Web Services and APIs\n",
    "\n",
    "_Authors: Dave Yerrington (SF)_\n",
    "\n",
    "---\n",
    "![](assets/opening.png)"
   ]
  },
  {
   "cell_type": "markdown",
   "metadata": {
    "slideshow": {
     "slide_type": "slide"
    }
   },
   "source": [
    "### Learning Objectives\n",
    "*By the end of this lesson, you will be able to:*\n",
    "- Identify all of the HTTP verbs and their uses.\n",
    "- Describe application programming interfaces (APIs) and how to make calls and consume API data.\n",
    "- Access public APIs and get information back.\n",
    "- Read and write data in JSON format.\n",
    "- Use the `requests` library."
   ]
  },
  {
   "cell_type": "markdown",
   "metadata": {
    "slideshow": {
     "slide_type": "slide"
    }
   },
   "source": [
    "### Lesson Guide\n",
    "- [Introduction to APIs](#intro)\n",
    "- [What is an API?](#what-is-api)\n",
    "- [Famous APIs](#famous)\n",
    "    - [Facebook](#facebook)\n",
    "    - [Yelp](#yelp)\n",
    "    - [Echonest](#echonest)\n",
    "- [Web APIs](#web-apis)\n",
    "- [Separation of Concerns](#mvc)\n",
    "- [HTTP](#http)\n",
    "- [Web Applications](#web-app)\n",
    "- [Demo: HTTP](#demo-http)\n",
    "- [Independent Practice: HTTP](#ind-http)\n",
    "- [HTTP Request](#http-request)\n",
    "    - [HTTP Request Methods](#request-methods)\n",
    "    - [HTTP Request Structure](#request-structure)\n",
    "- [HTTP Response](#http-response)\n",
    "    - [Response Types Overview](#response-types)\n",
    "- [JSON](#json)\n",
    "- [Independent Practice: Validating JSON](#ind-practice)\n",
    "- [Guided Practice: Pulling Data From APIs](#guided-practice)\n",
    "    - [Example 1: Movies](#ex1-movies)\n",
    "    - [Submit Queries to the API](#submit)\n",
    "- [oAuth](#oauth)\n",
    "- [Independent Practice: Python APIs](#ind-practice2)\n",
    "- [Closing Questions](#closing-questions)"
   ]
  },
  {
   "cell_type": "markdown",
   "metadata": {
    "slideshow": {
     "slide_type": "slide"
    }
   },
   "source": [
    "## Has Anyone Used or is Currently Using an API?\n",
    "<br>\n",
    "_Warning Signs_:\n",
    "<img src=\"assets/warning.png\" style=\"float: left; width: 300px; margin: -5px 50px\">\n",
    "- _Random data found all over the computer_.\n",
    "- _Withdrawals from friends and family_.\n",
    "- _Constantly iterating over nested JSON_.\n",
    "- _Lack of sleep_.\n",
    "- _Talks about JSON as if it were a real person_.\n"
   ]
  },
  {
   "cell_type": "markdown",
   "metadata": {
    "slideshow": {
     "slide_type": "slide"
    }
   },
   "source": [
    "<a name=\"intro\"></a>\n",
    "## Introduction to Application Programming Interfaces (APIs)\n",
    "\n",
    "---\n",
    "\n",
    "In previous lessons, we learned about building processes that scrape content from websites. In this lesson, we'll be diving into the world of APIs and taking a tour of one of the most accessible sources of data on the internet.\n",
    "\n",
    "You'll learn:\n",
    "- What's meant by \"API.\"\n",
    "- Common use cases.\n",
    "- How to read API documentation.\n",
    "- General development workflow with APIs.\n"
   ]
  },
  {
   "cell_type": "markdown",
   "metadata": {
    "slideshow": {
     "slide_type": "slide"
    }
   },
   "source": [
    "<a id='what-is-api'></a>\n",
    "## What is an API?\n",
    "\n",
    "---\n",
    "\n",
    "An application programming interface (API) is a set of routines, protocols, and tools for building software applications. It specifies how software components should interact.\n",
    "\n",
    "APIs are a way developers abstract functionality to data, devices, and other resources they provide. \n",
    "\n",
    "Some examples include:\n",
    "\n",
    "- Connectivity to a variety of databases.\n",
    "- Python modules that can turn LED lights on and off.\n",
    "- Applications that runs on native Windows, OSX, or Linux.\n",
    "- Libraries that post content on Twitter, Facebook, Yelp, or LinkedIn.\n",
    "- Web services for accessing currency or stock prices.\n",
    "\n",
    "More abstract examples:\n",
    "- Adding your own functions to NumPy.\n",
    "- Extending Python with C code.\n",
    "- Testing frameworks.\n",
    "\n",
    "In the context of data science, APIs are a common method for interacting with data hosted by third parties and are most commonly provided by **web service APIs**."
   ]
  },
  {
   "cell_type": "markdown",
   "metadata": {
    "slideshow": {
     "slide_type": "slide"
    }
   },
   "source": [
    "<a id='famous'></a>\n",
    "<a id='facebook'></a>\n",
    "\n",
    "### Famous APIs: Facebook\n",
    "\n",
    "Facebook provides an API for interacting with its service. At a glance, you can:\n",
    "\n",
    "- View your posts.\n",
    "- View websites, people, posts, and pages that you've liked.\n",
    "- View activity on apps from you and your friends.\n",
    "  - Movies watched.\n",
    "  - Music listened to.\n",
    "  - Games played.\n",
    "- View places traveled/check ins.\n",
    "- Maintain or build relationships.\n",
    "\n",
    "#### Potential Project Ideas\n",
    "\n",
    "|   |   |   |   |\n",
    "|---|---|---|---|\n",
    "| Determining Latent Characteristics | Friends Activity | Political Classification | Text Mining |\n",
    "| Friend Classifier | Trending Topics | Recommenders | Feature Importances |\n",
    "| Taste Profiling | Hipster Detector | Sub-Group Identification | Check-In Prediction |\n",
    "| Relationship Forecasting | Relationship Classification | Sentiment Analysis | Popularity Projection |\n",
    "| Personal Analytics | Friend Similarity Prediction | N-Gram Analysis | Topic Modeling |"
   ]
  },
  {
   "cell_type": "markdown",
   "metadata": {
    "slideshow": {
     "slide_type": "slide"
    }
   },
   "source": [
    "<a id='yelp'></a>\n",
    "### Famous APIs: Yelp\n",
    "\n",
    "Yelp provides a way for developers to access:\n",
    "\n",
    "- Reviews.\n",
    " - Services.\n",
    " - Restaurants, bars, and cafes.\n",
    " - Businesses.\n",
    "- Business metadata.\n",
    "\n",
    "#### Potential Project Ideas\n",
    "\n",
    "|   |   |   |   |\n",
    "|---|---|---|---|\n",
    "| Topic Modeling | Text Mining | Sentiment Analysis | Funny/Cool/Interesting Classification | \n",
    "| Music Genre Classification | Parking Index Classification | Characteristics Profiling | Hipster Index |\n",
    "| Ideal Activities | Friend Recommender | Venue Recommender | Sports Bar Classification |\n",
    "| \"Where is the best [whatever] in [neighborhood]?\" | | |"
   ]
  },
  {
   "cell_type": "markdown",
   "metadata": {
    "slideshow": {
     "slide_type": "slide"
    }
   },
   "source": [
    "<a id='echonest'></a>\n",
    "### Famous APIs: Echonest\n",
    "\n",
    "Echonest consolidates access to many entertainment service APIs in one place. It has a huge list of features and connected services, including:\n",
    "\n",
    "- Spotify\n",
    "- Pandora\n",
    "- Rdio\n",
    "- Gracenote\n",
    "- SoundHound\n",
    "- Shazam\n",
    "\n",
    "Some Echonest features include:\n",
    "\n",
    "- Music waveform identification (like Shazam or SoundHound's music ID).\n",
    "- Playlist recommendations.\n",
    "- Detailed artist, album, and track lookup.\n",
    " - Artist biographies, origins, contemporaries, and noteworthy accomplishments.\n",
    " - Official Twitter, website, and social media links.\n",
    " - BPM, mood, popularity, and genre(s). \n",
    " - Images, videos, and media.\n",
    "- Detailed movie, actor, and product lookup.\n",
    "- Concert schedules and ticket metadata."
   ]
  },
  {
   "cell_type": "markdown",
   "metadata": {
    "slideshow": {
     "slide_type": "slide"
    }
   },
   "source": [
    "<a id='web-apis'></a>\n",
    "## Web APIs\n",
    "\n",
    "---\n",
    "\n",
    "![](assets/notify.png)\n",
    "\n",
    "The prevalence of web APIs has increased with the rise of JavaScript and the advent of web programming techniques that allow the transmission of small pieces of data without having to refresh the entire page.\n",
    "\n",
    "With the growth of highly interactive websites — provided by the AJAX programming techniques in JavaScript — many languages have started co-opting standards to communicate data to and from web servers for two big reasons:\n",
    "- Ease of integration.\n",
    "- Consistent standards.\n"
   ]
  },
  {
   "cell_type": "markdown",
   "metadata": {
    "slideshow": {
     "slide_type": "slide"
    }
   },
   "source": [
    "<a name=\"mvc\"></a>\n",
    "## Separation of Concerns\n",
    "\n",
    "---\n",
    "\n",
    "In order to talk about APIs, we need first to introduce the _separation of concerns_. In computer science, _separation of concerns_ (SOC) is a design principle for separating a computer program into distinct sections, such that each section addresses a separate concern. A concern is a set of information that affects the code of a computer program. \n",
    "\n",
    "In particular, when building a web application, it's best practice to separate the website logic from data models. This not only allows for cleaner code but is an easier way to manipulate our layouts and interactions. Separation of concerns becomes even more important when working with outside data.\n",
    "\n",
    "<img src=\"assets/MVC-Process.png\" style=\"width: 200px;\"> \n",
    "\n",
    "> _MVC: Model view controller is a famous SOC paradigm in programming._ \n",
    "\n",
    "API calls are really just a fancy term for making _HTTP requests_ (in the context of web APIs) to a server and sending/receiving structured data from that endpoint (URL). We are still communicating with URLs — however, instead of receiving markup like we do with HTML pages, we receive data.\n",
    "\n",
    "[Representational state transfer (REST)](https://en.wikipedia.org/wiki/Representational_state_transfer) is the most common architecture style for passing information to and from these API endpoints.\n",
    "\n",
    "Before we start consuming these services, it's important to understand the fundamentals of the underlying communication layer: **HTTP**.\n"
   ]
  },
  {
   "cell_type": "markdown",
   "metadata": {
    "slideshow": {
     "slide_type": "slide"
    }
   },
   "source": []
  },
  {
   "cell_type": "markdown",
   "metadata": {
    "slideshow": {
     "slide_type": "slide"
    }
   },
   "source": [
    "<a id='http'></a>\n",
    "## Hypertext Transfer Protocol (HTTP)\n",
    "\n",
    "---\n",
    "\n",
    "HTTP is a protocol — a system of rules — that determines how web pages (see: \"hypertext\") get sent (see: \"transfer\") from one place to another. Among other things, it defines the format of the messages passed between HTTP clients and HTTP servers.\n",
    "\n",
    "Because the web is a service, it works through a combination of clients that _make_ requests and servers that _receive_ requests.\n"
   ]
  },
  {
   "cell_type": "markdown",
   "metadata": {
    "slideshow": {
     "slide_type": "slide"
    }
   },
   "source": [
    "### The HTTP Client\n",
    "\n",
    "HTTP clients make or generate HTTP requests. Some types of clients include:\n",
    "\n",
    "* Browsers — Chrome, Firefox, and Safari.\n",
    "* Command line programs — [curl](http://curl.haxx.se/docs/) and [wget](http://www.gnu.org/software/wget/manual/wget.html).\n",
    "* Application code — Python requests, Scrapy, and Mechanize.\n",
    "\n",
    "HTTP clients respond to HTTP responses from a web server. They process the data being returned from a web server (a.k.a., HTTP server)."
   ]
  },
  {
   "cell_type": "markdown",
   "metadata": {
    "slideshow": {
     "slide_type": "slide"
    }
   },
   "source": [
    "### HTTP and Web Servers\n",
    "\n",
    "All _web servers_ receive _HTTP requests_ and generate _HTTP responses_. Often web servers are just the middleman, passing HTTP requests and responses between the client and web application. Two of the most popular _HTTP or web servers_ are [Apache](http://httpd.apache.org/) and [Nginx](http://nginx.com/), but there are lots of different [web servers](http://en.wikipedia.org/wiki/Comparison_of_web_server_software) out there.\n"
   ]
  },
  {
   "cell_type": "markdown",
   "metadata": {
    "slideshow": {
     "slide_type": "slide"
    }
   },
   "source": [
    "### Check: Where Do You Think a Web Application Lives?\n",
    "\n",
    "Client, server, the cloud, mobile device, in your car, or on your Bluetooth-connected toaster with LCD display?"
   ]
  },
  {
   "cell_type": "markdown",
   "metadata": {
    "slideshow": {
     "slide_type": "slide"
    }
   },
   "source": [
    "<a id='web-app'></a>\n",
    "## Web Applications\n",
    "\n",
    "---\n",
    "\n",
    "Web applications are programs that run on a web server, process the HTTP requests the server receives, and generate HTTP responses.\n",
    "\n",
    "![HTTP Request and Response](assets/request-response.png)\n",
    "\n",
    "Lost? Here's the play by play:\n",
    "\n",
    "1) A client sends an HTTP request to an HTTP server running on a remote machine.  \n",
    "  * The _hostname_ given in the URL indicates which server will receive the request.  \n",
    "2) The HTTP server processes the HTTP request. This may entail passing the request to a web application, which creates an HTTP response.\n",
    "3) The response gets sent back to the client.\n",
    "4) The client processes the response.\n",
    "\n",
    "How does the server know what the request is asking for? This is specified by the URL, a special kind of path that specifies where a resource can be found on the web.\n",
    "\n",
    "![URL](./assets/http1-url-structure.png)\n",
    "\n",
    "> **Check:** Can anyone define a client and a server?"
   ]
  },
  {
   "cell_type": "markdown",
   "metadata": {
    "slideshow": {
     "slide_type": "slide"
    }
   },
   "source": [
    "<a name=\"demo-http\"></a>\n",
    "## Demo: HTTP\n",
    "\n",
    "---\n",
    "\n",
    "Let's explore HTTP resources. We'll start by looking at HTTP requests and responses using the Chrome Inspector.\n",
    "\n",
    "![HTTP Request and Response](./assets/http_request_response.jpeg \"HTTP Request and Response\")\n",
    "\n",
    "* In Chrome, open up Chrome Inspector (*command + option + 'i', or ctrl + click and select \"Inspect Element\"*).\n",
    "* Select the Network tab. It should look something like this:\n",
    "\n",
    "![Chrome Inspector](./assets/chrome_inspector.png)\n",
    "\n",
    "* Next, go to the URL https://generalassemb.ly/.\n",
    "\n",
    "You should be able to see a few HTTP requests and responses in the Network tab. For each request you'll see a **path**, **method**, **status**, **type**, and **size**, along with information about how long it took to get each of these resources.\n",
    "  * Most of this information comes from the HTTP request and response.*\n",
    "  * Some HTTP requests are for CSS, JavaScript, and images that are referenced by the HTML.\n",
    "  * Select `generalassemb.ly` in the path column on the far left.\n",
    "  * Select the Headers tab. **Headers** are metadata properties of an HTTP request or response, separate from the body of the message."
   ]
  },
  {
   "cell_type": "markdown",
   "metadata": {
    "slideshow": {
     "slide_type": "slide"
    }
   },
   "source": [
    "<a id='ind-http'></a>\n",
    "\n",
    "## Independent Practice: HTTP\n",
    "\n",
    "---\n",
    "\n",
    "\n",
    "**With a partner, go to your favorite (work-appropriate) website(s), inspect the protocol from the Chrome Inspector tool (cmd-opt-j), and identify:**\n",
    "\n",
    "- Requests sent by your client.\n",
    "- Requests send by the server.\n",
    "- The URL.\n",
    "\n",
    "#### Research and Explain\n",
    "- Cache-control.\n",
    "- Age.\n",
    "- Content-encoding.\n",
    "- Expires.\n",
    "- \"GET\" and \"POST\" requests.\n",
    "- Query string parameters.\n",
    "\n",
    "#### Bonus\n",
    "What are cookies?\n",
    "<img src=\"assets/cookies.png\" style=\"width: 100px\">"
   ]
  },
  {
   "cell_type": "markdown",
   "metadata": {
    "slideshow": {
     "slide_type": "slide"
    }
   },
   "source": [
    "<a id='http-request'></a>\n",
    "## HTTP Request\n",
    "\n",
    "---\n",
    "\n",
    "The first word in the request line, _GET_, is the **HTTP request's method**.\n",
    "\n",
    "![HTTP Request](./assets/http_request.jpeg \"HTTP Request\")\n",
    "\n",
    "<a id='request-methods'></a>\n",
    "### HTTP Request Methods:\n",
    "\n",
    "* **`GET`** => Retrieve a resource.  \n",
    "* **`POST`** => Create a resource.  \n",
    "* **`PATCH`** (_or **`PUT`**, but **`PATCH`** is recommended_) => Update an existing resource.  \n",
    "* **`DELETE`** => Delete a resource.  \n",
    "* **`HEAD`** => Retrieve the headers for a resource.\n",
    "\n",
    "Of these, **`GET`** and **`POST`** are the most widely used."
   ]
  },
  {
   "cell_type": "markdown",
   "metadata": {
    "slideshow": {
     "slide_type": "slide"
    }
   },
   "source": [
    "<a id='request-structure'></a>\n",
    "### HTTP Request Structure\n",
    "\n",
    "```\n",
    "[http request method] [URL] [http version]  \n",
    "[list of headers]\n",
    "\n",
    "[request body]\n",
    "```\n",
    "\n",
    "*Notice that the request header is separated from the request body by a new line.*"
   ]
  },
  {
   "cell_type": "markdown",
   "metadata": {
    "slideshow": {
     "slide_type": "slide"
    }
   },
   "source": [
    "#### HTTP Request Method Example (No Body)\n",
    "\n",
    "    GET http://vermonster.com HTTP/1.1  \n",
    "    Accept:text/html,application/xhtml+xml,application/xml;q=0.9,image/webp,*/*;q=0.8  \n",
    "    Accept-Encoding:gzip,deflate,sdch\n",
    "    Accept-Language:en-US,en;q=0.8  \n",
    "    Connection:keep-alive  \n",
    "    Host:vermonster.com  \n",
    "    User-Agent:Mozilla/5.0 (Macintosh; Intel Mac OS X 10_8_5)  \n",
    "    AppleWebKit/537.36 (KHTML, like Gecko) Chrome/32.0.1659.2 Safari/537.36  "
   ]
  },
  {
   "cell_type": "markdown",
   "metadata": {
    "slideshow": {
     "slide_type": "slide"
    }
   },
   "source": [
    "<a id='http-response'></a>\n",
    "## HTTP Response\n",
    "\n",
    "---\n",
    "\n",
    "![HTTP Response](./assets/http_response.jpeg \"HTTP Response\")\n",
    "\n",
    "When a client sends a request, the server sends back a response; the standard format for this response is:\n",
    "\n",
    "```\n",
    "[http version] [status] [reason]  \n",
    "[list of headers]\n",
    "\n",
    "[response body] # Typically HTML, JSON, ...  \n",
    "```"
   ]
  },
  {
   "cell_type": "markdown",
   "metadata": {
    "slideshow": {
     "slide_type": "slide"
    }
   },
   "source": [
    "<a id='response-types'></a>\n",
    "### Response Types Overview\n",
    "\n",
    "> Check these out when you have time — at least be aware that there's an expected pattern to these codes.\n",
    "\n",
    "**[Status codes](http://en.wikipedia.org/wiki/List_of_HTTP_status_codes)** have standard meanings. Here are a few:\n",
    "\n",
    "|Code|Reason|\n",
    "|:---|:-----|\n",
    "|200| OK\n",
    "|301| Moved Permanently\n",
    "|302| Moved Temporarily\n",
    "|307| Temporary Redirect\n",
    "|400| Bad Request\n",
    "|403| Forbidden\n",
    "|404| Not Found\n",
    "|500| Internal Server Error"
   ]
  },
  {
   "cell_type": "markdown",
   "metadata": {
    "slideshow": {
     "slide_type": "slide"
    }
   },
   "source": [
    "<a name=\"json\"></a>\n",
    "## JSON\n",
    "\n",
    "---\n",
    "\n",
    "JSON is short for _JavaScript object notation_ and is a way to store information in an organized, easy-to-access manner. In a nutshell, it gives us a human-readable collection of data that we can access in a logical way.\n",
    "\n",
    "**JSON is built on two structures:**\n",
    "* A collection of name/value pairs. In various languages, this is realized as an object, record, structure, dictionary, hash table, keyed list, or associative array.\n",
    "* An ordered list of values. In most languages, this is realized as an array, vector, list, or sequence.\n",
    "\n",
    "These are universal data structures. Virtually all modern programming languages support them in one form or another. It makes sense that a data format that's interchangeable with programming languages is also based on these structures."
   ]
  },
  {
   "cell_type": "markdown",
   "metadata": {
    "slideshow": {
     "slide_type": "slide"
    }
   },
   "source": [
    "### JSON Objects\n",
    "\n",
    "An object is an unordered set of name/value pairs, such as Python dictionaries. An object begins with a left brace (`{`) and ends with a right brace (`}`). Each name is followed by a colon (`:`) and the name/value pairs are separated by a comma (`,`).\n",
    "\n",
    "The syntax is as follows:\n",
    "\n",
    "```\n",
    "{ string : value, .......}\n",
    "```\n",
    "Like:\n",
    "```\n",
    "{\"count\": 1, ...}\n",
    "```\n",
    "_Seems a lot like a Python dictionary!_"
   ]
  },
  {
   "cell_type": "markdown",
   "metadata": {
    "slideshow": {
     "slide_type": "slide"
    }
   },
   "source": [
    "<a name=\"ind-practice\"></a>\n",
    "## Independent Practice: Validating JSON \n",
    "\n",
    "---\n",
    "\n",
    "JSON is simple to use if it's correctly structured. One of the resources for validating JSON and checking if the syntax is correct is [JSON Viewer](http://codebeautify.org/jsonviewer).\n",
    "\n",
    "For this exercise, copy the [JSON data from the code folder](./code/test.json) and insert it in the web app above. Then, click \"Validate.\"\n",
    "\n",
    "If you see \"Valid JSON,\" click \"Beautify\" and you'll see a more readable version. If you do not see the message \"Valid JSON,\" it means that there's a syntax error.\n",
    "\n",
    "* First, correct any errors.\n",
    "* Then, work in pairs to identify the structure of the JSON.\n",
    "\n",
    "    - What is a root element?\n",
    "    - Are there any arrays?\n",
    "    - How many objects are there?\n",
    "    - What are the attributes of an object?"
   ]
  },
  {
   "cell_type": "markdown",
   "metadata": {
    "slideshow": {
     "slide_type": "slide"
    }
   },
   "source": [
    "<a name=\"guided-practice\"></a>\n",
    "## Guided Practice: Pulling Data From APIs\n",
    "\n",
    "---\n",
    "\n",
    "Recall that APIs are methods and data formats that tell people how to talk to a system. Next we'll walk through a couple of examples."
   ]
  },
  {
   "cell_type": "markdown",
   "metadata": {
    "slideshow": {
     "slide_type": "slide"
    }
   },
   "source": [
    "<a id='ex1-movies'></a>\n",
    "### Example 1: Movies\n",
    "\n",
    "The Internet Movie Database (IMDb) is a large collection of data about movies. It can be browsed at http://www.imdb.com/.\n",
    "\n",
    "What if we wanted to programmatically access the data in the database? Unless we're employees of IMDb.com, we probably don't have direct access to its internal database, so we can't perform SQL queries on the data.\n",
    "\n",
    "We could use scraping to retrieve data from the web page, and in some cases, we'll have to do exactly that.\n",
    "\n",
    "> *Note: Check the \"Terms of Service\" before you scrape a website, you could be infringing on its terms.*\n",
    "\n",
    "In other cases, the website offers a way to programmatically access data from its database. That's an API.\n",
    "\n",
    "In the case of movies, this is offered by http://www.omdbapi.com/.\n",
    "\n",
    "_Unfortunately, OMDb is no longer a free-to-use API. Instead, we'll practice interacting with the Star Wars API (SWAPI)_.\n",
    "\n",
    "\n",
    "**Let's try an example to retrieve the data about \"Obi-Wan Kenobi.\"**\n",
    "\n",
    "Referencing the [SWAPI documentation](http://swapi.co/documentation), let's create a query to search for characters with \"obi\" in their names.\n",
    "\n",
    "**In a browser, paste:**\n",
    "\n",
    "    https://swapi.co/api/people/?format=json&search=obi\n"
   ]
  },
  {
   "cell_type": "markdown",
   "metadata": {
    "slideshow": {
     "slide_type": "slide"
    }
   },
   "source": [
    "{\n",
    "    \"count\": 1,   \n",
    "    \"next\": null,   \n",
    "    \"previous\": null,   \n",
    "    \"results\": [  \n",
    "        {  \n",
    "            \"name\": \"Obi-Wan Kenobi\",   \n",
    "            \"height\": \"182\",   \n",
    "            \"mass\": \"77\",   \n",
    "            \"hair_color\": \"auburn, white\",   \n",
    "            \"skin_color\": \"fair\",   \n",
    "            \"eye_color\": \"blue-gray\",   \n",
    "            \"birth_year\": \"57BBY\",   \n",
    "            \"gender\": \"male\",   \n",
    "            \"homeworld\": \"http://swapi.co/api/planets/20/\",   \n",
    "            \"films\": [    \n",
    "                \"http://swapi.co/api/films/2/\",   \n",
    "                \"http://swapi.co/api/films/5/\",   \n",
    "                \"http://swapi.co/api/films/4/\",   \n",
    "                \"http://swapi.co/api/films/6/\",   \n",
    "                \"http://swapi.co/api/films/3/\",   \n",
    "                \"http://swapi.co/api/films/1/\"  \n",
    "            ],   \n",
    "            \"species\": [\"http://swapi.co/api/species/1/\"],     \n",
    "            \"vehicles\": [\"http://swapi.co/api/vehicles/38/\"],   \n",
    "            \"starships\": [  \n",
    "                \"http://swapi.co/api/starships/48/\",     \n",
    "                \"http://swapi.co/api/starships/59/\",   \n",
    "                \"http://swapi.co/api/starships/64/\",   \n",
    "                \"http://swapi.co/api/starships/65/\",   \n",
    "                \"http://swapi.co/api/starships/74/\"  \n",
    "            ],   \n",
    "            \"created\": \"2014-12-10T16:16:29.192000Z\",     \n",
    "            \"edited\": \"2014-12-20T21:17:50.325000Z\",     \n",
    "            \"url\": \"http://swapi.co/api/people/10/\"    \n",
    "        }  \n",
    "    ]  \n",
    "}  "
   ]
  },
  {
   "cell_type": "markdown",
   "metadata": {
    "slideshow": {
     "slide_type": "slide"
    }
   },
   "source": [
    "**What just happened?**"
   ]
  },
  {
   "cell_type": "markdown",
   "metadata": {
    "slideshow": {
     "slide_type": "fragment"
    }
   },
   "source": [
    "We requested a URL, which responded with JSON.\n",
    "\n",
    "SWAPI has a GUI-based response as well, which is the default:\n",
    "\n",
    "https://swapi.co/api/people/?search=obi\n",
    "\n",
    "Along with a Wookie-flavored one:\n",
    "\n",
    "https://swapi.co/api/people/?format=wookiee&search=obi"
   ]
  },
  {
   "cell_type": "markdown",
   "metadata": {
    "slideshow": {
     "slide_type": "slide"
    }
   },
   "source": [
    "<a id='submit'></a>\n",
    "### Try submitting a couple more queries to familiarize yourself with the API.\n",
    "\n",
    "- You can also query an API from the command line using the app `curl`. Try typing:\n",
    "\n",
    "    `curl http://swapi.co/api/people/13/?format=json`\n"
   ]
  },
  {
   "cell_type": "markdown",
   "metadata": {
    "slideshow": {
     "slide_type": "fragment"
    }
   },
   "source": [
    "```javascript   \n",
    "{\"name\":\"Chewbacca\",\n",
    " \"height\":\"228\",\n",
    " \"mass\":\"112\",\n",
    " \"hair_color\":\"brown\",\n",
    " \"skin_color\":\"unknown\",\n",
    " \"eye_color\":\"blue\",\n",
    " \"birth_year\":\"200BBY\",\n",
    " \"gender\":\"male\",\n",
    " \"homeworld\":\"http://swapi.co/api/planets/14/\",\n",
    " \"films\": [\"http://swapi.co/api/films/2/\",\"http://swapi.co/api/films/6/\",\"http://swapi.co/api/films/3/\",\"http://swapi.co/api/films/1/\",\"http://swapi.co/api/films/7/\"],\n",
    " \"species\":[\"http://swapi.co/api/species/3/\"],\n",
    " \"vehicles\":[\"http://swapi.co/api/vehicles/19/\"],\n",
    " \"starships\":[\"http://swapi.co/api/starships/10/\",\"http://swapi.co/api/starships/22/\"],\n",
    " \"created\":\"2014-12-10T16:42:45.066000Z\",\n",
    " \"edited\":\"2014-12-20T21:17:50.332000Z\",\n",
    " \"url\":\"http://swapi.co/api/people/13/\"}\n",
    "```"
   ]
  },
  {
   "cell_type": "code",
   "execution_count": 1,
   "metadata": {
    "slideshow": {
     "slide_type": "slide"
    }
   },
   "outputs": [
    {
     "data": {
      "text/html": [
       "<div>\n",
       "<style scoped>\n",
       "    .dataframe tbody tr th:only-of-type {\n",
       "        vertical-align: middle;\n",
       "    }\n",
       "\n",
       "    .dataframe tbody tr th {\n",
       "        vertical-align: top;\n",
       "    }\n",
       "\n",
       "    .dataframe thead th {\n",
       "        text-align: right;\n",
       "    }\n",
       "</style>\n",
       "<table border=\"1\" class=\"dataframe\">\n",
       "  <thead>\n",
       "    <tr style=\"text-align: right;\">\n",
       "      <th></th>\n",
       "      <th>birth_year</th>\n",
       "      <th>created</th>\n",
       "      <th>edited</th>\n",
       "      <th>eye_color</th>\n",
       "      <th>films</th>\n",
       "      <th>gender</th>\n",
       "      <th>hair_color</th>\n",
       "      <th>height</th>\n",
       "      <th>homeworld</th>\n",
       "      <th>mass</th>\n",
       "      <th>name</th>\n",
       "      <th>skin_color</th>\n",
       "      <th>species</th>\n",
       "      <th>starships</th>\n",
       "      <th>url</th>\n",
       "      <th>vehicles</th>\n",
       "    </tr>\n",
       "  </thead>\n",
       "  <tbody>\n",
       "    <tr>\n",
       "      <th>0</th>\n",
       "      <td>57BBY</td>\n",
       "      <td>2014-12-10T16:16:29.192000Z</td>\n",
       "      <td>2014-12-20T21:17:50.325000Z</td>\n",
       "      <td>blue-gray</td>\n",
       "      <td>[https://swapi.co/api/films/2/, https://swapi....</td>\n",
       "      <td>male</td>\n",
       "      <td>auburn, white</td>\n",
       "      <td>182</td>\n",
       "      <td>https://swapi.co/api/planets/20/</td>\n",
       "      <td>77</td>\n",
       "      <td>Obi-Wan Kenobi</td>\n",
       "      <td>fair</td>\n",
       "      <td>[https://swapi.co/api/species/1/]</td>\n",
       "      <td>[https://swapi.co/api/starships/48/, https://s...</td>\n",
       "      <td>https://swapi.co/api/people/10/</td>\n",
       "      <td>[https://swapi.co/api/vehicles/38/]</td>\n",
       "    </tr>\n",
       "  </tbody>\n",
       "</table>\n",
       "</div>"
      ],
      "text/plain": [
       "  birth_year                      created                       edited  \\\n",
       "0      57BBY  2014-12-10T16:16:29.192000Z  2014-12-20T21:17:50.325000Z   \n",
       "\n",
       "   eye_color                                              films gender  \\\n",
       "0  blue-gray  [https://swapi.co/api/films/2/, https://swapi....   male   \n",
       "\n",
       "      hair_color height                         homeworld mass  \\\n",
       "0  auburn, white    182  https://swapi.co/api/planets/20/   77   \n",
       "\n",
       "             name skin_color                            species  \\\n",
       "0  Obi-Wan Kenobi       fair  [https://swapi.co/api/species/1/]   \n",
       "\n",
       "                                           starships  \\\n",
       "0  [https://swapi.co/api/starships/48/, https://s...   \n",
       "\n",
       "                               url                             vehicles  \n",
       "0  https://swapi.co/api/people/10/  [https://swapi.co/api/vehicles/38/]  "
      ]
     },
     "execution_count": 1,
     "metadata": {},
     "output_type": "execute_result"
    }
   ],
   "source": [
    "# Request example for the IMDb example.\n",
    "import pandas as pd\n",
    "import requests\n",
    "result = requests.get(\"http://swapi.co/api/people/10/\")\n",
    "df = pd.DataFrame([result.json()])\n",
    "df"
   ]
  },
  {
   "cell_type": "markdown",
   "metadata": {},
   "source": [
    "### Example 2: coindesk\n",
    "\n",
    "Coindesk offers information about bitcoins and other cryptocurrencies."
   ]
  },
  {
   "cell_type": "markdown",
   "metadata": {},
   "source": [
    "https://api.coindesk.com/v1/bpi/currentprice.json"
   ]
  },
  {
   "cell_type": "code",
   "execution_count": 12,
   "metadata": {},
   "outputs": [
    {
     "data": {
      "text/plain": [
       "{'time': {'updated': 'Oct 9, 2018 01:07:00 UTC',\n",
       "  'updatedISO': '2018-10-09T01:07:00+00:00',\n",
       "  'updateduk': 'Oct 9, 2018 at 02:07 BST'},\n",
       " 'disclaimer': 'This data was produced from the CoinDesk Bitcoin Price Index (USD). Non-USD currency data converted using hourly conversion rate from openexchangerates.org',\n",
       " 'chartName': 'Bitcoin',\n",
       " 'bpi': {'USD': {'code': 'USD',\n",
       "   'symbol': '&#36;',\n",
       "   'rate': '6,621.7200',\n",
       "   'description': 'United States Dollar',\n",
       "   'rate_float': 6621.72},\n",
       "  'GBP': {'code': 'GBP',\n",
       "   'symbol': '&pound;',\n",
       "   'rate': '5,059.8019',\n",
       "   'description': 'British Pound Sterling',\n",
       "   'rate_float': 5059.8019},\n",
       "  'EUR': {'code': 'EUR',\n",
       "   'symbol': '&euro;',\n",
       "   'rate': '5,763.5650',\n",
       "   'description': 'Euro',\n",
       "   'rate_float': 5763.565}}}"
      ]
     },
     "execution_count": 12,
     "metadata": {},
     "output_type": "execute_result"
    }
   ],
   "source": [
    "# Request the resource from Google Maps.\n",
    "result = requests.get(\"https://api.coindesk.com/v1/bpi/currentprice.json\")\n",
    "output = result.json()\n",
    "output"
   ]
  },
  {
   "cell_type": "code",
   "execution_count": 16,
   "metadata": {},
   "outputs": [
    {
     "name": "stdout",
     "output_type": "stream",
     "text": [
      "USD 6,621.7200\n",
      "GBP 5,059.8019\n",
      "EUR 5,763.5650\n"
     ]
    }
   ],
   "source": [
    "for curr in ['USD','GBP','EUR']:\n",
    "    print(curr, output['bpi'][curr]['rate'])"
   ]
  },
  {
   "cell_type": "markdown",
   "metadata": {
    "slideshow": {
     "slide_type": "slide"
    }
   },
   "source": [
    "\n",
    "### Other public APIs\n",
    "\n",
    "https://github.com/toddmotto/public-apis"
   ]
  },
  {
   "cell_type": "markdown",
   "metadata": {
    "slideshow": {
     "slide_type": "slide"
    }
   },
   "source": [
    "<a id='oauth'></a>\n",
    "## oAuth\n",
    "\n",
    "---\n",
    "\n",
    "oAuth is simply a secure authorization protocol that deals with the authorization of third-party applications to access a user's data without exposing their password. (You can log in with Facebook, Google+, and Twitter on many websites under this protocol.)\n",
    "\n",
    "Basically there are three parties involved: **oAuth client, oAuth provider, and owner**.\n",
    "\n",
    "- oAuth client: The application that wants to access your credentials.\n",
    "- oAuth provider: E.g., Facebook, Twitter, LinkedIn, etc.\n",
    "- Owner: The user with the Facebook, Twitter, etc. account.\n",
    "\n",
    "Many APIs are free to access. You first need to register as a developer and obtain an authorization key. In most cases, this is also accompanied by a temporary token that needs to be renewed after some time. This is a way to prevent abuse on the server's resources.\n",
    "\n",
    "You can read more about it here: http://oauth.net/2/.\n"
   ]
  },
  {
   "cell_type": "markdown",
   "metadata": {
    "slideshow": {
     "slide_type": "slide"
    }
   },
   "source": [
    "### OAuth Example: Client Work With Instagram\n",
    "\n",
    "![](assets/oAuth1.png)"
   ]
  },
  {
   "cell_type": "markdown",
   "metadata": {
    "slideshow": {
     "slide_type": "slide"
    }
   },
   "source": [
    "![](assets/oAuth2.png)"
   ]
  },
  {
   "cell_type": "markdown",
   "metadata": {
    "slideshow": {
     "slide_type": "slide"
    }
   },
   "source": [
    "![](assets/oAuth3.png)"
   ]
  },
  {
   "cell_type": "markdown",
   "metadata": {
    "slideshow": {
     "slide_type": "slide"
    }
   },
   "source": [
    "<a name=\"ind-practice2\"></a>\n",
    "## Independent Practice: Python APIs\n",
    "\n",
    "---\n",
    "\n",
    "**Form pairs and do the following:**  \n",
    "\n",
    "Go to http://www.pythonforbeginners.com/api/list-of-python-apis or https://github.com/realpython/list-of-python-api-wrappers.\n",
    "  \n",
    "- Choose one API: What data are available with your chosen API?\n",
    "- Install the Python module (if available for API) and try to extract data.\n",
    "- Discuss: How could you leverage that API? How could you use the data?"
   ]
  },
  {
   "cell_type": "markdown",
   "metadata": {
    "slideshow": {
     "slide_type": "slide"
    }
   },
   "source": [
    "<a id='closing-questions'></a>\n",
    "## Closing Questions\n",
    "\n",
    "---\n",
    "\n",
    "![](assets/closing.png)"
   ]
  },
  {
   "cell_type": "markdown",
   "metadata": {
    "slideshow": {
     "slide_type": "fragment"
    }
   },
   "source": [
    "### What's the easiest thing to understand about APIs?"
   ]
  },
  {
   "cell_type": "markdown",
   "metadata": {
    "slideshow": {
     "slide_type": "fragment"
    }
   },
   "source": [
    "### What's the most challenging thing to understand about APIs?"
   ]
  },
  {
   "cell_type": "markdown",
   "metadata": {
    "slideshow": {
     "slide_type": "fragment"
    }
   },
   "source": [
    "### How does this contrast with scraping?"
   ]
  },
  {
   "cell_type": "markdown",
   "metadata": {
    "slideshow": {
     "slide_type": "fragment"
    }
   },
   "source": [
    "### How would you explain APIs to someone who didn't know anything about them?"
   ]
  },
  {
   "cell_type": "markdown",
   "metadata": {
    "slideshow": {
     "slide_type": "fragment"
    }
   },
   "source": [
    "### Do you have any new ideas for capstone data?"
   ]
  }
 ],
 "metadata": {
  "anaconda-cloud": {},
  "kernelspec": {
   "display_name": "Python 3",
   "language": "python",
   "name": "python3"
  },
  "language_info": {
   "codemirror_mode": {
    "name": "ipython",
    "version": 3
   },
   "file_extension": ".py",
   "mimetype": "text/x-python",
   "name": "python",
   "nbconvert_exporter": "python",
   "pygments_lexer": "ipython3",
   "version": "3.6.6"
  }
 },
 "nbformat": 4,
 "nbformat_minor": 1
}
